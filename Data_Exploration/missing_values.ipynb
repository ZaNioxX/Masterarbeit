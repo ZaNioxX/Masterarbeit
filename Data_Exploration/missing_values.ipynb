{
 "cells": [
  {
   "cell_type": "code",
   "execution_count": 40,
   "id": "initial_id",
   "metadata": {
    "collapsed": true,
    "ExecuteTime": {
     "end_time": "2024-03-16T15:57:15.262170Z",
     "start_time": "2024-03-16T15:57:15.256988Z"
    }
   },
   "outputs": [],
   "source": [
    "from pymongo import MongoClient\n",
    "import pandas as pd\n",
    "# Connect to your MongoDB instance\n",
    "client = MongoClient('mongodb://localhost:27017/')\n",
    "db = client['vaers']  \n",
    "collection = db['reports']  "
   ]
  },
  {
   "cell_type": "code",
   "outputs": [
    {
     "name": "stdout",
     "output_type": "stream",
     "text": [
      "All attributes:\n",
      "vax_data.VAX_TYPE\n",
      "vax_data.VAX_DOSE_SERIES\n",
      "vax_data.VAX_LOT\n",
      "vax_data.VAX_SITE\n",
      "vax_data.VAX_MANU\n",
      "vax_data.VAX_ROUTE\n",
      "vax_data.VAX_NAME\n"
     ]
    }
   ],
   "source": [
    "# Get one report\n",
    "report = collection.find_one()\n",
    "\n",
    "# Get one report\n",
    "report = collection.find_one()\n",
    "\n",
    "# Extract attribute names from vax_data\n",
    "vax_data_attributes = set()\n",
    "for vax_entry in report.get('vax_data', []):\n",
    "    vax_data_attributes.update([f\"vax_data.{key}\" for key in vax_entry.keys()])\n",
    "\n",
    "# Extract all other attribute names, excluding _id\n",
    "other_attributes = set(report.keys()) - {'_id', 'vax_data'}\n",
    "\n",
    "# Combine all attributes into one list\n",
    "all_attributes = list(vax_data_attributes | other_attributes)\n",
    "\n",
    "# Print all attributes\n",
    "print(\"All attributes:\")\n",
    "for attribute_name in vax_data_attributes:\n",
    "    print(attribute_name)"
   ],
   "metadata": {
    "collapsed": false,
    "ExecuteTime": {
     "end_time": "2024-03-16T16:27:34.381187Z",
     "start_time": "2024-03-16T16:27:34.367821Z"
    }
   },
   "id": "a3f0ea4916186112",
   "execution_count": 64
  },
  {
   "cell_type": "markdown",
   "source": [
    "### For all first level attributes (code not efficient as it loops through all attributes)"
   ],
   "metadata": {
    "collapsed": false
   },
   "id": "af005e38bb9e25cd"
  },
  {
   "cell_type": "code",
   "outputs": [
    {
     "name": "stdout",
     "output_type": "stream",
     "text": [
      "Reporting ratio for each attribute:\n",
      "DATEDIED: 1.39%\n",
      "BIRTH_DEFECT: 0.06%\n",
      "DIED: 1.83%\n",
      "RECOVD: 92.94%\n",
      "OTHER_MEDS: 40.91%\n",
      "VAX_DATE: 89.00%\n",
      "ER_ED_VISIT: 6.86%\n",
      "NUMDAYS: 81.93%\n",
      "HISTORY: 36.74%\n",
      "SERIOUS: 100.00%\n",
      "vax_data: 100.00%\n",
      "CUR_ILL: 26.76%\n",
      "HOSPDAYS: 4.27%\n",
      "TODAYS_DATE: 98.36%\n",
      "symptoms: 99.99%\n",
      "SPLTTYPE: 32.23%\n",
      "VAERS_ID: 100.00%\n",
      "LAB_DATA: 25.97%\n",
      "V_ADMINBY: 100.00%\n",
      "SEX: 100.00%\n",
      "L_THREAT: 2.11%\n",
      "OFC_VISIT: 11.76%\n",
      "HOSPITAL: 11.73%\n",
      "SYMPTOM_TEXT: 77.89%\n",
      "DISABLE: 3.55%\n",
      "ALLERGIES: 18.18%\n",
      "STATE: 89.14%\n",
      "ONSET_DATE: 86.31%\n",
      "ER_VISIT: 7.59%\n",
      "PRIOR_VAX: 6.77%\n",
      "RECVDATE: 100.00%\n",
      "AGE: 73.92%\n",
      "X_STAY: 0.27%\n"
     ]
    }
   ],
   "source": [
    "# Initialize dictionary to store results\n",
    "attribute_nan_percentages = {}\n",
    "\n",
    "# Pipeline to project all attributes and count NaN values\n",
    "pipeline = [\n",
    "    {\n",
    "        \"$project\": {\n",
    "            \"is_nan\": {\n",
    "                \"$objectToArray\": {\n",
    "                    \"$arrayToObject\": {\n",
    "                        \"$map\": {\n",
    "                            \"input\": {\"$objectToArray\": \"$$ROOT\"},\n",
    "                            \"in\": {\n",
    "                                \"k\": \"$$this.k\",\n",
    "                                \"v\": {\n",
    "                                    \"$cond\": [\n",
    "                                        {\"$eq\": [\"$$this.v\", float('nan')]},\n",
    "                                        1,\n",
    "                                        0\n",
    "                                    ]\n",
    "                                }\n",
    "                            }\n",
    "                        }\n",
    "                    }\n",
    "                }\n",
    "            }\n",
    "        }\n",
    "    },\n",
    "    {\"$unwind\": \"$is_nan\"},\n",
    "    {\n",
    "        \"$group\": {\n",
    "            \"_id\": \"$is_nan.k\",\n",
    "            \"total_nan\": {\"$sum\": \"$is_nan.v\"}\n",
    "        }\n",
    "    }\n",
    "]\n",
    "\n",
    "# Execute pipeline\n",
    "results = list(collection.aggregate(pipeline))\n",
    "\n",
    "# Get total document count\n",
    "total_documents = collection.count_documents({})\n",
    "\n",
    "# Initialize dictionary to store results\n",
    "attribute_reporting_ratios = {}\n",
    "\n",
    "# Calculate reporting ratio for each attribute\n",
    "for result in results:\n",
    "    attr = result[\"_id\"]\n",
    "    if attr != \"_id\":  # Exclude \"_id\" field\n",
    "        nan_count = result.get(\"total_nan\", 0)\n",
    "        percentage_nan = (nan_count / total_documents) * 100\n",
    "        reporting_ratio = 100 - percentage_nan\n",
    "        attribute_reporting_ratios[attr] = reporting_ratio\n",
    "\n",
    "# Print reporting ratio for each attribute\n",
    "print(\"Reporting ratio for each attribute:\")\n",
    "for attr, reporting_ratio in attribute_reporting_ratios.items():\n",
    "    print(f\"{attr}: {reporting_ratio:.2f}%\")"
   ],
   "metadata": {
    "collapsed": false,
    "ExecuteTime": {
     "end_time": "2024-03-16T19:19:38.209224Z",
     "start_time": "2024-03-16T19:16:32.989552Z"
    }
   },
   "id": "307b9b7f1fe652b6",
   "execution_count": 77
  },
  {
   "cell_type": "code",
   "outputs": [
    {
     "name": "stdout",
     "output_type": "stream",
     "text": [
      "Percentage of NaN values for each attribute:\n",
      "vax_data.VAX_TYPE: 100.00%\n",
      "vax_data.VAX_DOSE_SERIES: 99.36%\n",
      "vax_data.VAX_LOT: 64.60%\n",
      "vax_data.VAX_SITE: 53.58%\n",
      "vax_data.VAX_MANU: 100.00%\n",
      "vax_data.VAX_ROUTE: 67.96%\n",
      "vax_data.VAX_NAME: 100.00%\n"
     ]
    }
   ],
   "source": [
    "vax_attribute_reporting_ratios = {}\n",
    "\n",
    "# Get total document count\n",
    "total_documents = collection.count_documents({})\n",
    "\n",
    "# Iterate over each attribute\n",
    "for attr in vax_data_attributes:\n",
    "    # Pipeline to project attribute and count NaN values\n",
    "    pipeline = [\n",
    "        {\"$project\": {\"vax_data\": 1}},\n",
    "        {\"$unwind\": \"$vax_data\"},\n",
    "        {\"$project\": {\"is_nan\": {\"$cond\": [{\"$eq\": [f\"${attr}\", float('nan')]}, 1, 0]}}},  # Project attribute and count NaN values\n",
    "        {\"$group\": {\"_id\": None, \"total_nan\": {\"$sum\": \"$is_nan\"}}},  # Calculate total NaN count for attribute\n",
    "    ]\n",
    "\n",
    "    # Execute pipeline\n",
    "    results = list(collection.aggregate(pipeline))\n",
    "\n",
    "    # Calculate percentage of NaN values for attribute\n",
    "    if results:\n",
    "        nan_count = results[0].get(\"total_nan\", 0)\n",
    "        percentage_nan = (nan_count / total_documents) * 100\n",
    "        reporting_ratio = 100 - percentage_nan\n",
    "        vax_attribute_reporting_ratios[attr] = reporting_ratio\n",
    "    else:\n",
    "        vax_attribute_reporting_ratios[attr] = 0.0\n",
    "\n",
    "# Print percentage of NaN values for each attribute\n",
    "print(\"Percentage of NaN values for each attribute:\")\n",
    "for attr, percentage_nan in vax_attribute_reporting_ratios.items():\n",
    "    print(f\"{attr}: {percentage_nan:.2f}%\")"
   ],
   "metadata": {
    "collapsed": false,
    "ExecuteTime": {
     "end_time": "2024-03-16T19:33:12.119733Z",
     "start_time": "2024-03-16T19:32:05.256494Z"
    }
   },
   "id": "bba83d18a9507dba",
   "execution_count": 81
  },
  {
   "cell_type": "code",
   "outputs": [
    {
     "name": "stdout",
     "output_type": "stream",
     "text": [
      "Combined results:\n",
      "vax_data.VAX_TYPE: 100.00%\n",
      "vax_data.VAX_DOSE_SERIES: 99.36%\n",
      "vax_data.VAX_LOT: 64.60%\n",
      "vax_data.VAX_SITE: 53.58%\n",
      "vax_data.VAX_MANU: 100.00%\n",
      "vax_data.VAX_ROUTE: 67.96%\n",
      "vax_data.VAX_NAME: 100.00%\n",
      "DATEDIED: 1.39%\n",
      "BIRTH_DEFECT: 0.06%\n",
      "DIED: 1.83%\n",
      "RECOVD: 92.94%\n",
      "OTHER_MEDS: 40.91%\n",
      "VAX_DATE: 89.00%\n",
      "ER_ED_VISIT: 6.86%\n",
      "NUMDAYS: 81.93%\n",
      "HISTORY: 36.74%\n",
      "SERIOUS: 100.00%\n",
      "vax_data: 100.00%\n",
      "CUR_ILL: 26.76%\n",
      "HOSPDAYS: 4.27%\n",
      "TODAYS_DATE: 98.36%\n",
      "symptoms: 99.99%\n",
      "SPLTTYPE: 32.23%\n",
      "VAERS_ID: 100.00%\n",
      "LAB_DATA: 25.97%\n",
      "V_ADMINBY: 100.00%\n",
      "SEX: 100.00%\n",
      "L_THREAT: 2.11%\n",
      "OFC_VISIT: 11.76%\n",
      "HOSPITAL: 11.73%\n",
      "SYMPTOM_TEXT: 77.89%\n",
      "DISABLE: 3.55%\n",
      "ALLERGIES: 18.18%\n",
      "STATE: 89.14%\n",
      "ONSET_DATE: 86.31%\n",
      "ER_VISIT: 7.59%\n",
      "PRIOR_VAX: 6.77%\n",
      "RECVDATE: 100.00%\n",
      "AGE: 73.92%\n",
      "X_STAY: 0.27%\n"
     ]
    }
   ],
   "source": [
    "# Combine the dictionaries\n",
    "combined_results = {**vax_attribute_reporting_ratios, **attribute_reporting_ratios}\n",
    "\n",
    "# Print the combined results\n",
    "print(\"Combined results:\")\n",
    "for attr, percentage_nan in combined_results.items():\n",
    "    print(f\"{attr}: {percentage_nan:.2f}%\")\n"
   ],
   "metadata": {
    "collapsed": false,
    "ExecuteTime": {
     "end_time": "2024-03-16T19:33:41.747471Z",
     "start_time": "2024-03-16T19:33:41.719437Z"
    }
   },
   "id": "fed8e47b862e7321",
   "execution_count": 82
  },
  {
   "cell_type": "code",
   "outputs": [
    {
     "data": {
      "text/plain": "40"
     },
     "execution_count": 83,
     "metadata": {},
     "output_type": "execute_result"
    }
   ],
   "source": [
    "len(combined_results)"
   ],
   "metadata": {
    "collapsed": false,
    "ExecuteTime": {
     "end_time": "2024-03-16T19:35:01.376180Z",
     "start_time": "2024-03-16T19:35:01.364300Z"
    }
   },
   "id": "88aef057cc2eeb22",
   "execution_count": 83
  },
  {
   "cell_type": "code",
   "outputs": [
    {
     "name": "stdout",
     "output_type": "stream",
     "text": [
      "Percentage of NaN values for vax_data.VAX_LOT: 35.40%\n"
     ]
    }
   ],
   "source": [
    "# Pipeline to unwind vax_data and count NaN vax_data.VAX_LOT\n",
    "pipeline = [\n",
    "    {\"$unwind\": \"$vax_data\"},\n",
    "    {\"$project\": {\"is_nan\": {\"$cond\": [{\"$eq\": [\"$vax_data.VAX_LOT\", float('nan')]}, 1, 0]}}},\n",
    "    {\"$group\": {\"_id\": None, \"total_nan_vax_lot\": {\"$sum\": \"$is_nan\"}}}\n",
    "]\n",
    "\n",
    "# Execute pipeline\n",
    "results = list(collection.aggregate(pipeline))\n",
    "\n",
    "# Get total document count\n",
    "total_documents = collection.count_documents({})\n",
    "\n",
    "# Calculate percentage of NaN values for vax_data.VAX_LOT\n",
    "if results:\n",
    "    nan_count_vax_lot = results[0].get(\"total_nan_vax_lot\", 0)\n",
    "    percentage_nan_vax_lot = (nan_count_vax_lot / total_documents) * 100\n",
    "else:\n",
    "    percentage_nan_vax_lot = 0.0\n",
    "\n",
    "# Print percentage of NaN values for vax_data.VAX_LOT\n",
    "print(f\"Percentage of NaN values for vax_data.VAX_LOT: {percentage_nan_vax_lot:.2f}%\")"
   ],
   "metadata": {
    "collapsed": false,
    "ExecuteTime": {
     "end_time": "2024-03-16T16:42:27.543258Z",
     "start_time": "2024-03-16T16:42:13.645407Z"
    }
   },
   "id": "b869b5fb58773312",
   "execution_count": 69
  },
  {
   "cell_type": "code",
   "outputs": [],
   "source": [
    "# Pipeline to project NUMDAYS field and count NaN values\n",
    "pipeline = [\n",
    "    {\"$project\": {\"is_nan\": {\"$cond\": [{\"$eq\": [\"$DIED\", float('nan')]}, 1, 0]}}},  # Project NUMDAYS field and count NaN values\n",
    "    {\"$group\": {\"_id\": None, \"total_nan\": {\"$sum\": \"$is_nan\"}}},  # Calculate total NaN count for NUMDAYS\n",
    "]\n",
    "\n",
    "# Execute pipeline\n",
    "results = list(collection.aggregate(pipeline))\n",
    "\n",
    "# Get total document count\n",
    "total_documents = collection.count_documents({})\n",
    "\n",
    "# Calculate percentage of NaN values for NUMDAYS\n",
    "percentage_nan = (results[0][\"total_nan\"] / total_documents) * 100\n",
    "\n",
    "# Print percentage of NaN values for NUMDAYS\n",
    "print(f\"Percentage of NaN values for NUMDAYS: {percentage_nan:.2f}%\")"
   ],
   "metadata": {
    "collapsed": false
   },
   "id": "f128dc5249d31e4a"
  },
  {
   "cell_type": "code",
   "outputs": [],
   "source": [
    "Combined results:\n",
    "vax_data.VAX_TYPE: 0.00%\n",
    "vax_data.VAX_DOSE_SERIES: 0.64%\n",
    "vax_data.VAX_LOT: 35.40%\n",
    "vax_data.VAX_SITE: 46.42%\n",
    "vax_data.VAX_MANU: 0.00%\n",
    "vax_data.VAX_ROUTE: 32.04%\n",
    "vax_data.VAX_NAME: 0.00%\n",
    "NUMDAYS: 18.07%\n",
    "_id: 0.00%\n",
    "HISTORY: 63.26%\n",
    "RECOVD: 7.06%\n",
    "DIED: 98.17%\n",
    "VAX_DATE: 11.00%\n",
    "OTHER_MEDS: 59.09%\n",
    "HOSPDAYS: 95.73%\n",
    "ER_ED_VISIT: 93.14%\n",
    "TODAYS_DATE: 1.64%\n",
    "symptoms: 0.01%\n",
    "SPLTTYPE: 67.77%\n",
    "SERIOUS: 0.00%\n",
    "CUR_ILL: 73.24%\n",
    "vax_data: 0.00%\n",
    "LAB_DATA: 74.03%\n",
    "V_ADMINBY: 0.00%\n",
    "SEX: 0.00%\n",
    "OFC_VISIT: 88.24%\n",
    "L_THREAT: 97.89%\n",
    "VAERS_ID: 0.00%\n",
    "ONSET_DATE: 13.69%\n",
    "PRIOR_VAX: 93.23%\n",
    "STATE: 10.86%\n",
    "ER_VISIT: 92.41%\n",
    "AGE: 26.08%\n",
    "RECVDATE: 0.00%\n",
    "DATEDIED: 98.61%\n",
    "X_STAY: 99.73%\n",
    "BIRTH_DEFECT: 99.94%\n",
    "SYMPTOM_TEXT: 22.11%\n",
    "HOSPITAL: 88.27%\n",
    "DISABLE: 96.45%\n",
    "ALLERGIES: 81.82%\n"
   ],
   "metadata": {
    "collapsed": false
   },
   "id": "a1c66b49b75b47c4"
  }
 ],
 "metadata": {
  "kernelspec": {
   "display_name": "Python 3",
   "language": "python",
   "name": "python3"
  },
  "language_info": {
   "codemirror_mode": {
    "name": "ipython",
    "version": 2
   },
   "file_extension": ".py",
   "mimetype": "text/x-python",
   "name": "python",
   "nbconvert_exporter": "python",
   "pygments_lexer": "ipython2",
   "version": "2.7.6"
  }
 },
 "nbformat": 4,
 "nbformat_minor": 5
}

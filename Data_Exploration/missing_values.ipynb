{
 "cells": [
  {
   "cell_type": "code",
   "id": "initial_id",
   "metadata": {
    "collapsed": true,
    "ExecuteTime": {
     "end_time": "2024-06-28T11:11:16.787665Z",
     "start_time": "2024-06-28T11:11:16.636219Z"
    }
   },
   "source": [
    "from pymongo import MongoClient\n",
    "import pandas as pd\n",
    "# Connect to your MongoDB instance\n",
    "client = MongoClient('mongodb://localhost:27017/')\n",
    "db = client['vaers']  \n",
    "collection = db['reports']  "
   ],
   "outputs": [],
   "execution_count": 1
  },
  {
   "cell_type": "code",
   "source": [
    "# Get one report\n",
    "report = collection.find_one()\n",
    "\n",
    "# Get one report\n",
    "report = collection.find_one()\n",
    "\n",
    "# Extract attribute names from vax_data\n",
    "vax_data_attributes = set()\n",
    "for vax_entry in report.get('vax_data', []):\n",
    "    vax_data_attributes.update([f\"vax_data.{key}\" for key in vax_entry.keys()])\n",
    "\n",
    "# Extract all other attribute names, excluding _id\n",
    "other_attributes = set(report.keys()) - {'_id', 'vax_data'}\n",
    "\n",
    "# Combine all attributes into one list\n",
    "all_attributes = list(vax_data_attributes | other_attributes)\n",
    "\n",
    "# Print all attributes\n",
    "print(\"All attributes:\")\n",
    "for attribute_name in vax_data_attributes:\n",
    "    print(attribute_name)"
   ],
   "metadata": {
    "collapsed": false,
    "ExecuteTime": {
     "end_time": "2024-06-28T11:11:18.189007Z",
     "start_time": "2024-06-28T11:11:18.166412Z"
    }
   },
   "id": "a3f0ea4916186112",
   "outputs": [
    {
     "name": "stdout",
     "output_type": "stream",
     "text": [
      "All attributes:\n",
      "vax_data.VAX_TYPE\n",
      "vax_data.VAX_LOT\n",
      "vax_data.VAX_MANU\n",
      "vax_data.VAX_DOSE_SERIES\n",
      "vax_data.VAX_SITE\n",
      "vax_data.VAX_ROUTE\n",
      "vax_data.VAX_NAME\n"
     ]
    }
   ],
   "execution_count": 2
  },
  {
   "cell_type": "markdown",
   "source": [
    "### For all first level attributes (code not efficient as it loops through all attributes)"
   ],
   "metadata": {
    "collapsed": false
   },
   "id": "af005e38bb9e25cd"
  },
  {
   "cell_type": "code",
   "source": [
    "# Initialize dictionary to store results\n",
    "attribute_nan_percentages = {}\n",
    "\n",
    "# Pipeline to project all attributes and count NaN values\n",
    "pipeline = [\n",
    "    {\n",
    "        \"$project\": {\n",
    "            \"is_nan\": {\n",
    "                \"$objectToArray\": {\n",
    "                    \"$arrayToObject\": {\n",
    "                        \"$map\": {\n",
    "                            \"input\": {\"$objectToArray\": \"$$ROOT\"},\n",
    "                            \"in\": {\n",
    "                                \"k\": \"$$this.k\",\n",
    "                                \"v\": {\n",
    "                                    \"$cond\": [\n",
    "                                        {\"$eq\": [\"$$this.v\", float('nan')]},\n",
    "                                        1,\n",
    "                                        0\n",
    "                                    ]\n",
    "                                }\n",
    "                            }\n",
    "                        }\n",
    "                    }\n",
    "                }\n",
    "            }\n",
    "        }\n",
    "    },\n",
    "    {\"$unwind\": \"$is_nan\"},\n",
    "    {\n",
    "        \"$group\": {\n",
    "            \"_id\": \"$is_nan.k\",\n",
    "            \"total_nan\": {\"$sum\": \"$is_nan.v\"}\n",
    "        }\n",
    "    }\n",
    "]\n",
    "\n",
    "# Execute pipeline\n",
    "results = list(collection.aggregate(pipeline))\n",
    "\n",
    "# Get total document count\n",
    "total_documents = collection.count_documents({})\n",
    "\n",
    "# Initialize dictionary to store results\n",
    "attribute_reporting_ratios = {}\n",
    "\n",
    "# Calculate reporting ratio for each attribute\n",
    "for result in results:\n",
    "    attr = result[\"_id\"]\n",
    "    if attr != \"_id\":  # Exclude \"_id\" field\n",
    "        nan_count = result.get(\"total_nan\", 0)\n",
    "        percentage_nan = (nan_count / total_documents) * 100\n",
    "        reporting_ratio = 100 - percentage_nan\n",
    "        attribute_reporting_ratios[attr] = reporting_ratio\n",
    "\n",
    "# Print reporting ratio for each attribute\n",
    "print(\"Reporting ratio for each attribute:\")\n",
    "for attr, reporting_ratio in attribute_reporting_ratios.items():\n",
    "    print(f\"{attr}: {reporting_ratio:.2f}%\")"
   ],
   "metadata": {
    "collapsed": false,
    "ExecuteTime": {
     "end_time": "2024-06-28T11:24:05.011966Z",
     "start_time": "2024-06-28T11:22:49.015209Z"
    }
   },
   "id": "307b9b7f1fe652b6",
   "outputs": [
    {
     "name": "stdout",
     "output_type": "stream",
     "text": [
      "Reporting ratio for each attribute:\n",
      "TODAYS_DATE: 98.36%\n",
      "DISABLE: 3.56%\n",
      "vax_data: 100.00%\n",
      "SEX: 100.00%\n",
      "SPLTTYPE: 32.22%\n",
      "L_THREAT: 2.11%\n",
      "VAX_DATE: 88.99%\n",
      "HISTORY: 36.70%\n",
      "RECOVD: 92.95%\n",
      "HOSPITAL: 11.75%\n",
      "CUR_ILL: 26.72%\n",
      "ER_VISIT: 7.58%\n",
      "STATE: 89.15%\n",
      "BIRTH_DEFECT: 0.06%\n",
      "VAERS_ID: 100.00%\n",
      "X_STAY: 0.27%\n",
      "PRIOR_VAX: 6.76%\n",
      "HOSPDAYS: 4.27%\n",
      "SERIOUS: 100.00%\n",
      "DIED: 1.84%\n",
      "DATEDIED: 1.39%\n",
      "NUMDAYS: 81.90%\n",
      "symptoms: 99.99%\n",
      "LAB_DATA: 25.95%\n",
      "V_ADMINBY: 100.00%\n",
      "ALLERGIES: 18.15%\n",
      "OTHER_MEDS: 40.88%\n",
      "ER_ED_VISIT: 6.86%\n",
      "AGE: 73.86%\n",
      "SYMPTOM_TEXT: 77.82%\n",
      "ONSET_DATE: 86.29%\n",
      "OFC_VISIT: 11.76%\n",
      "RECVDATE: 100.00%\n"
     ]
    }
   ],
   "execution_count": 10
  },
  {
   "cell_type": "code",
   "source": [
    "vax_attribute_reporting_ratios = {}\n",
    "\n",
    "# Get total document count\n",
    "total_documents = collection.count_documents({})\n",
    "\n",
    "# Iterate over each attribute\n",
    "for attr in vax_data_attributes:\n",
    "    # Pipeline to project attribute and count NaN values\n",
    "    pipeline = [\n",
    "        {\"$project\": {\"vax_data\": 1}},\n",
    "        {\"$unwind\": \"$vax_data\"},\n",
    "        {\"$project\": {\"is_nan\": {\"$cond\": [{\"$eq\": [f\"${attr}\", float('nan')]}, 1, 0]}}},  # Project attribute and count NaN values\n",
    "        {\"$group\": {\"_id\": None, \"total_nan\": {\"$sum\": \"$is_nan\"}}},  # Calculate total NaN count for attribute\n",
    "    ]\n",
    "\n",
    "    # Execute pipeline\n",
    "    results = list(collection.aggregate(pipeline))\n",
    "\n",
    "    # Calculate percentage of NaN values for attribute\n",
    "    if results:\n",
    "        nan_count = results[0].get(\"total_nan\", 0)\n",
    "        percentage_nan = (nan_count / total_documents) * 100\n",
    "        reporting_ratio = 100 - percentage_nan\n",
    "        vax_attribute_reporting_ratios[attr] = reporting_ratio\n",
    "    else:\n",
    "        vax_attribute_reporting_ratios[attr] = 0.0\n",
    "\n",
    "# Print reporting ratio for each attribute\n",
    "print(\"Reporting ratio for each attribute:\")\n",
    "for attr, reporting_ratio in vax_attribute_reporting_ratios.items():\n",
    "    print(f\"{attr}: {reporting_ratio:.2f}%\")"
   ],
   "metadata": {
    "collapsed": false,
    "ExecuteTime": {
     "end_time": "2024-06-28T11:24:38.198363Z",
     "start_time": "2024-06-28T11:24:05.015181Z"
    }
   },
   "id": "bba83d18a9507dba",
   "outputs": [
    {
     "name": "stdout",
     "output_type": "stream",
     "text": [
      "Reporting ratio for each attribute:\n",
      "vax_data.VAX_TYPE: 100.00%\n",
      "vax_data.VAX_LOT: 64.58%\n",
      "vax_data.VAX_MANU: 100.00%\n",
      "vax_data.VAX_DOSE_SERIES: 99.36%\n",
      "vax_data.VAX_SITE: 53.51%\n",
      "vax_data.VAX_ROUTE: 67.90%\n",
      "vax_data.VAX_NAME: 100.00%\n"
     ]
    }
   ],
   "execution_count": 11
  },
  {
   "cell_type": "code",
   "source": [
    "# Combine the dictionaries\n",
    "combined_results = {**vax_attribute_reporting_ratios, **attribute_reporting_ratios}\n",
    "\n",
    "# Print the combined results\n",
    "print(\"Combined results:\")\n",
    "for attr, percentage_nan in combined_results.items():\n",
    "    print(f\"{attr}: {percentage_nan:.2f}%\")\n"
   ],
   "metadata": {
    "collapsed": false,
    "ExecuteTime": {
     "end_time": "2024-06-28T11:24:38.208187Z",
     "start_time": "2024-06-28T11:24:38.201024Z"
    }
   },
   "id": "fed8e47b862e7321",
   "outputs": [
    {
     "name": "stdout",
     "output_type": "stream",
     "text": [
      "Combined results:\n",
      "vax_data.VAX_TYPE: 100.00%\n",
      "vax_data.VAX_LOT: 64.58%\n",
      "vax_data.VAX_MANU: 100.00%\n",
      "vax_data.VAX_DOSE_SERIES: 99.36%\n",
      "vax_data.VAX_SITE: 53.51%\n",
      "vax_data.VAX_ROUTE: 67.90%\n",
      "vax_data.VAX_NAME: 100.00%\n",
      "TODAYS_DATE: 98.36%\n",
      "DISABLE: 3.56%\n",
      "vax_data: 100.00%\n",
      "SEX: 100.00%\n",
      "SPLTTYPE: 32.22%\n",
      "L_THREAT: 2.11%\n",
      "VAX_DATE: 88.99%\n",
      "HISTORY: 36.70%\n",
      "RECOVD: 92.95%\n",
      "HOSPITAL: 11.75%\n",
      "CUR_ILL: 26.72%\n",
      "ER_VISIT: 7.58%\n",
      "STATE: 89.15%\n",
      "BIRTH_DEFECT: 0.06%\n",
      "VAERS_ID: 100.00%\n",
      "X_STAY: 0.27%\n",
      "PRIOR_VAX: 6.76%\n",
      "HOSPDAYS: 4.27%\n",
      "SERIOUS: 100.00%\n",
      "DIED: 1.84%\n",
      "DATEDIED: 1.39%\n",
      "NUMDAYS: 81.90%\n",
      "symptoms: 99.99%\n",
      "LAB_DATA: 25.95%\n",
      "V_ADMINBY: 100.00%\n",
      "ALLERGIES: 18.15%\n",
      "OTHER_MEDS: 40.88%\n",
      "ER_ED_VISIT: 6.86%\n",
      "AGE: 73.86%\n",
      "SYMPTOM_TEXT: 77.82%\n",
      "ONSET_DATE: 86.29%\n",
      "OFC_VISIT: 11.76%\n",
      "RECVDATE: 100.00%\n"
     ]
    }
   ],
   "execution_count": 12
  },
  {
   "cell_type": "code",
   "source": [
    "len(combined_results)"
   ],
   "metadata": {
    "collapsed": false,
    "ExecuteTime": {
     "end_time": "2024-06-28T11:16:54.236506Z",
     "start_time": "2024-06-28T11:16:54.221162Z"
    }
   },
   "id": "88aef057cc2eeb22",
   "outputs": [
    {
     "data": {
      "text/plain": [
       "40"
      ]
     },
     "execution_count": 6,
     "metadata": {},
     "output_type": "execute_result"
    }
   ],
   "execution_count": 6
  },
  {
   "cell_type": "code",
   "outputs": [
    {
     "name": "stdout",
     "output_type": "stream",
     "text": [
      "Percentage of NaN values for vax_data.VAX_LOT: 35.40%\n"
     ]
    }
   ],
   "source": [
    "# Pipeline to unwind vax_data and count NaN vax_data.VAX_LOT\n",
    "pipeline = [\n",
    "    {\"$unwind\": \"$vax_data\"},\n",
    "    {\"$project\": {\"is_nan\": {\"$cond\": [{\"$eq\": [\"$vax_data.VAX_LOT\", float('nan')]}, 1, 0]}}},\n",
    "    {\"$group\": {\"_id\": None, \"total_nan_vax_lot\": {\"$sum\": \"$is_nan\"}}}\n",
    "]\n",
    "\n",
    "# Execute pipeline\n",
    "results = list(collection.aggregate(pipeline))\n",
    "\n",
    "# Get total document count\n",
    "total_documents = collection.count_documents({})\n",
    "\n",
    "# Calculate percentage of NaN values for vax_data.VAX_LOT\n",
    "if results:\n",
    "    nan_count_vax_lot = results[0].get(\"total_nan_vax_lot\", 0)\n",
    "    percentage_nan_vax_lot = (nan_count_vax_lot / total_documents) * 100\n",
    "else:\n",
    "    percentage_nan_vax_lot = 0.0\n",
    "\n",
    "# Print percentage of NaN values for vax_data.VAX_LOT\n",
    "print(f\"Percentage of NaN values for vax_data.VAX_LOT: {percentage_nan_vax_lot:.2f}%\")"
   ],
   "metadata": {
    "collapsed": false,
    "ExecuteTime": {
     "end_time": "2024-03-16T16:42:27.543258Z",
     "start_time": "2024-03-16T16:42:13.645407Z"
    }
   },
   "id": "b869b5fb58773312",
   "execution_count": 69
  },
  {
   "cell_type": "code",
   "outputs": [],
   "source": [
    "# Pipeline to project NUMDAYS field and count NaN values\n",
    "pipeline = [\n",
    "    {\"$project\": {\"is_nan\": {\"$cond\": [{\"$eq\": [\"$DIED\", float('nan')]}, 1, 0]}}},  # Project NUMDAYS field and count NaN values\n",
    "    {\"$group\": {\"_id\": None, \"total_nan\": {\"$sum\": \"$is_nan\"}}},  # Calculate total NaN count for NUMDAYS\n",
    "]\n",
    "\n",
    "# Execute pipeline\n",
    "results = list(collection.aggregate(pipeline))\n",
    "\n",
    "# Get total document count\n",
    "total_documents = collection.count_documents({})\n",
    "\n",
    "# Calculate percentage of NaN values for NUMDAYS\n",
    "percentage_nan = (results[0][\"total_nan\"] / total_documents) * 100\n",
    "\n",
    "# Print percentage of NaN values for NUMDAYS\n",
    "print(f\"Percentage of NaN values for NUMDAYS: {percentage_nan:.2f}%\")"
   ],
   "metadata": {
    "collapsed": false
   },
   "id": "f128dc5249d31e4a",
   "execution_count": null
  },
  {
   "cell_type": "code",
   "outputs": [],
   "source": [
    "Combined results:\n",
    "vax_data.VAX_TYPE: 100.00%\n",
    "vax_data.VAX_LOT: 64.58%\n",
    "vax_data.VAX_MANU: 100.00%\n",
    "vax_data.VAX_DOSE_SERIES: 99.36%\n",
    "vax_data.VAX_SITE: 53.51%\n",
    "vax_data.VAX_ROUTE: 67.90%\n",
    "vax_data.VAX_NAME: 100.00%\n",
    "TODAYS_DATE: 98.36%\n",
    "DISABLE: 3.56%\n",
    "vax_data: 100.00%\n",
    "SEX: 100.00%\n",
    "SPLTTYPE: 32.22%\n",
    "L_THREAT: 2.11%\n",
    "VAX_DATE: 88.99%\n",
    "HISTORY: 36.70%\n",
    "RECOVD: 92.95%\n",
    "HOSPITAL: 11.75%\n",
    "CUR_ILL: 26.72%\n",
    "ER_VISIT: 7.58%\n",
    "STATE: 89.15%\n",
    "BIRTH_DEFECT: 0.06%\n",
    "VAERS_ID: 100.00%\n",
    "X_STAY: 0.27%\n",
    "PRIOR_VAX: 6.76%\n",
    "HOSPDAYS: 4.27%\n",
    "SERIOUS: 100.00%\n",
    "DIED: 1.84%\n",
    "DATEDIED: 1.39%\n",
    "NUMDAYS: 81.90%\n",
    "symptoms: 99.99%\n",
    "LAB_DATA: 25.95%\n",
    "V_ADMINBY: 100.00%\n",
    "ALLERGIES: 18.15%\n",
    "OTHER_MEDS: 40.88%\n",
    "ER_ED_VISIT: 6.86%\n",
    "AGE: 73.86%\n",
    "SYMPTOM_TEXT: 77.82%\n",
    "ONSET_DATE: 86.29%\n",
    "OFC_VISIT: 11.76%\n",
    "RECVDATE: 100.00%\n",
    "\n",
    "Combined results:\n",
    "vax_data.VAX_TYPE: 0.00%\n",
    "vax_data.VAX_LOT: 35.42%\n",
    "vax_data.VAX_MANU: 0.00%\n",
    "vax_data.VAX_DOSE_SERIES: 0.64%\n",
    "vax_data.VAX_SITE: 46.49%\n",
    "vax_data.VAX_ROUTE: 32.10%\n",
    "vax_data.VAX_NAME: 0.00%\n",
    "RECOVD: 7.05%\n",
    "HOSPITAL: 88.25%\n",
    "ER_VISIT: 92.42%\n",
    "STATE: 10.85%\n",
    "CUR_ILL: 73.28%\n",
    "BIRTH_DEFECT: 99.94%\n",
    "X_STAY: 99.73%\n",
    "VAERS_ID: 0.00%\n",
    "HOSPDAYS: 95.73%\n",
    "PRIOR_VAX: 93.24%\n",
    "TODAYS_DATE: 1.64%\n",
    "DISABLE: 96.44%\n",
    "vax_data: 0.00%\n",
    "SEX: 0.00%\n",
    "SPLTTYPE: 67.78%\n",
    "L_THREAT: 97.89%\n",
    "VAX_DATE: 11.01%\n",
    "HISTORY: 63.30%\n",
    "LAB_DATA: 74.05%\n",
    "ALLERGIES: 81.85%\n",
    "V_ADMINBY: 0.00%\n",
    "OTHER_MEDS: 59.12%\n",
    "ER_ED_VISIT: 93.14%\n",
    "AGE: 26.14%\n",
    "SYMPTOM_TEXT: 22.18%\n",
    "ONSET_DATE: 13.71%\n",
    "OFC_VISIT: 88.24%\n",
    "RECVDATE: 0.00%\n",
    "SERIOUS: 0.00%\n",
    "DATEDIED: 98.61%\n",
    "DIED: 98.16%\n",
    "symptoms: 0.01%\n",
    "NUMDAYS: 18.10%"
   ],
   "metadata": {
    "collapsed": false
   },
   "id": "a1c66b49b75b47c4",
   "execution_count": null
  }
 ],
 "metadata": {
  "kernelspec": {
   "display_name": "Python 3",
   "language": "python",
   "name": "python3"
  },
  "language_info": {
   "codemirror_mode": {
    "name": "ipython",
    "version": 2
   },
   "file_extension": ".py",
   "mimetype": "text/x-python",
   "name": "python",
   "nbconvert_exporter": "python",
   "pygments_lexer": "ipython2",
   "version": "2.7.6"
  }
 },
 "nbformat": 4,
 "nbformat_minor": 5
}

{
 "cells": [
  {
   "cell_type": "code",
   "execution_count": 2,
   "id": "initial_id",
   "metadata": {
    "collapsed": true,
    "ExecuteTime": {
     "end_time": "2024-01-03T00:08:12.243867Z",
     "start_time": "2024-01-03T00:08:12.231342Z"
    }
   },
   "outputs": [],
   "source": [
    "import pandas as pd"
   ]
  },
  {
   "cell_type": "code",
   "outputs": [],
   "source": [
    "# Look if the amount and/or names of the columns changed over the years\n",
    "data_1990 = pd.read_csv('/Users/sep/Documents/HAW/Masterarbeit/Daten.nosync/1990VAERSDATA.csv', encoding=\"Iso-8859-1\")"
   ],
   "metadata": {
    "collapsed": false,
    "ExecuteTime": {
     "end_time": "2024-01-03T00:08:12.944828Z",
     "start_time": "2024-01-03T00:08:12.933984Z"
    }
   },
   "id": "b3d704ee64fec121",
   "execution_count": 3
  },
  {
   "cell_type": "code",
   "outputs": [],
   "source": [
    "data_2023 = pd.read_csv('/Users/sep/Documents/HAW/Masterarbeit/Daten.nosync/2023VAERSDATA.csv', encoding=\"Iso-8859-1\", low_memory=False)"
   ],
   "metadata": {
    "collapsed": false,
    "ExecuteTime": {
     "end_time": "2024-01-03T00:08:49.013299Z",
     "start_time": "2024-01-03T00:08:48.104787Z"
    }
   },
   "id": "e2a69881060b1486",
   "execution_count": 6
  },
  {
   "cell_type": "code",
   "outputs": [
    {
     "name": "stdout",
     "output_type": "stream",
     "text": [
      "Are the columns identical? True\n"
     ]
    }
   ],
   "source": [
    "# Comparing columns\n",
    "columns_identical = data_1990.columns.equals(data_2023.columns)\n",
    "\n",
    "print(\"Are the columns identical?\", columns_identical)"
   ],
   "metadata": {
    "collapsed": false,
    "ExecuteTime": {
     "end_time": "2024-01-03T00:08:49.896278Z",
     "start_time": "2024-01-03T00:08:49.877690Z"
    }
   },
   "id": "ff14ecff3304c498",
   "execution_count": 7
  }
 ],
 "metadata": {
  "kernelspec": {
   "display_name": "Python 3",
   "language": "python",
   "name": "python3"
  },
  "language_info": {
   "codemirror_mode": {
    "name": "ipython",
    "version": 2
   },
   "file_extension": ".py",
   "mimetype": "text/x-python",
   "name": "python",
   "nbconvert_exporter": "python",
   "pygments_lexer": "ipython2",
   "version": "2.7.6"
  }
 },
 "nbformat": 4,
 "nbformat_minor": 5
}

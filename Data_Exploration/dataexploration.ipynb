{
 "cells": [
  {
   "cell_type": "code",
   "outputs": [],
   "source": [
    "import pandas as pd"
   ],
   "metadata": {
    "collapsed": false,
    "ExecuteTime": {
     "end_time": "2024-01-23T16:38:25.219631Z",
     "start_time": "2024-01-23T16:38:24.706956Z"
    }
   },
   "id": "294985f75b8c9f9a",
   "execution_count": 3
  },
  {
   "cell_type": "markdown",
   "source": [
    "# Look if the amount and/or names of the columns changed over the years"
   ],
   "metadata": {
    "collapsed": false
   },
   "id": "40d8cbcf7249b5fc"
  },
  {
   "cell_type": "code",
   "outputs": [
    {
     "name": "stderr",
     "output_type": "stream",
     "text": [
      "/var/folders/5g/yyzx5_551v1dz53h3hnm2nmw0000gn/T/ipykernel_30235/3430267076.py:1: DtypeWarning: Columns (7,12,15,23,31) have mixed types. Specify dtype option on import or set low_memory=False.\n",
      "  data_1990 = pd.read_csv('/Users/sep/Documents/HAW/Masterarbeit/Daten.nosync/2023VAERSDATA.csv', encoding=\"Iso-8859-1\")\n"
     ]
    }
   ],
   "source": [
    "data_1990 = pd.read_csv('/Users/sep/Documents/HAW/Masterarbeit/Daten.nosync/1990VAERSDATA.csv', encoding=\"Iso-8859-1\")"
   ],
   "metadata": {
    "collapsed": true,
    "ExecuteTime": {
     "end_time": "2024-01-23T16:39:32.163352Z",
     "start_time": "2024-01-23T16:39:31.011442Z"
    }
   },
   "id": "initial_id",
   "execution_count": 8
  },
  {
   "cell_type": "code",
   "outputs": [
    {
     "data": {
      "text/plain": "array([1])"
     },
     "execution_count": 7,
     "metadata": {},
     "output_type": "execute_result"
    }
   ],
   "source": [
    "data_1990.head()"
   ],
   "metadata": {
    "collapsed": false,
    "ExecuteTime": {
     "end_time": "2024-01-23T16:39:21.021620Z",
     "start_time": "2024-01-23T16:39:21.016340Z"
    }
   },
   "id": "fd65446809b7e9b4",
   "execution_count": 7
  },
  {
   "cell_type": "code",
   "outputs": [],
   "source": [
    "vaccines_2021 = pd.read_csv('/Users/sep/Documents/HAW/Masterarbeit/Daten.nosync/2021VAERSVAX.csv', encoding=\"Iso-8859-1\")"
   ],
   "metadata": {
    "collapsed": false,
    "ExecuteTime": {
     "end_time": "2024-01-23T16:40:48.332474Z",
     "start_time": "2024-01-23T16:40:39.991256Z"
    }
   },
   "id": "1ff185d39e106946",
   "execution_count": 13
  },
  {
   "cell_type": "code",
   "outputs": [
    {
     "data": {
      "text/plain": "array([2, 1])"
     },
     "execution_count": 14,
     "metadata": {},
     "output_type": "execute_result"
    }
   ],
   "source": [
    "vaccines_2021"
   ],
   "metadata": {
    "collapsed": false,
    "ExecuteTime": {
     "end_time": "2024-01-23T16:40:49.868207Z",
     "start_time": "2024-01-23T16:40:49.851869Z"
    }
   },
   "id": "3a5f8e6f11638575",
   "execution_count": 14
  },
  {
   "cell_type": "code",
   "outputs": [],
   "source": [
    "symptoms_1990 = pd.read_csv('/Users/sep/Documents/HAW/Masterarbeit/Daten.nosync/1990VAERSSYMPTOMS.csv', encoding=\"Iso-8859-1\")"
   ],
   "metadata": {
    "collapsed": false,
    "ExecuteTime": {
     "end_time": "2024-01-03T02:19:59.598443Z",
     "start_time": "2024-01-03T02:19:59.582282Z"
    }
   },
   "id": "cac237004c30414b",
   "execution_count": 56
  },
  {
   "cell_type": "code",
   "outputs": [
    {
     "data": {
      "text/plain": "   VAERS_ID    SYMPTOM1  SYMPTOMVERSION1               SYMPTOM2  \\\n0     25001   Agitation              8.1                    NaN   \n1     25003    Delirium              8.1            Hypokinesia   \n2     25004      Chills              8.1     Dermatitis contact   \n3     25005   Arthritis              8.1  Injection site oedema   \n4     25006  Convulsion              8.1              Dizziness   \n\n   SYMPTOMVERSION2                 SYMPTOM3  SYMPTOMVERSION3     SYMPTOM4  \\\n0              NaN                      NaN              NaN          NaN   \n1              8.1                Hypotonia              8.1          NaN   \n2              8.1           Oedema genital              8.1  Pelvic pain   \n3              8.1  Injection site reaction              8.1          NaN   \n4              8.1                      NaN              NaN          NaN   \n\n   SYMPTOMVERSION4 SYMPTOM5  SYMPTOMVERSION5  \n0              NaN      NaN              NaN  \n1              NaN      NaN              NaN  \n2              8.1      NaN              NaN  \n3              NaN      NaN              NaN  \n4              NaN      NaN              NaN  ",
      "text/html": "<div>\n<style scoped>\n    .dataframe tbody tr th:only-of-type {\n        vertical-align: middle;\n    }\n\n    .dataframe tbody tr th {\n        vertical-align: top;\n    }\n\n    .dataframe thead th {\n        text-align: right;\n    }\n</style>\n<table border=\"1\" class=\"dataframe\">\n  <thead>\n    <tr style=\"text-align: right;\">\n      <th></th>\n      <th>VAERS_ID</th>\n      <th>SYMPTOM1</th>\n      <th>SYMPTOMVERSION1</th>\n      <th>SYMPTOM2</th>\n      <th>SYMPTOMVERSION2</th>\n      <th>SYMPTOM3</th>\n      <th>SYMPTOMVERSION3</th>\n      <th>SYMPTOM4</th>\n      <th>SYMPTOMVERSION4</th>\n      <th>SYMPTOM5</th>\n      <th>SYMPTOMVERSION5</th>\n    </tr>\n  </thead>\n  <tbody>\n    <tr>\n      <th>0</th>\n      <td>25001</td>\n      <td>Agitation</td>\n      <td>8.1</td>\n      <td>NaN</td>\n      <td>NaN</td>\n      <td>NaN</td>\n      <td>NaN</td>\n      <td>NaN</td>\n      <td>NaN</td>\n      <td>NaN</td>\n      <td>NaN</td>\n    </tr>\n    <tr>\n      <th>1</th>\n      <td>25003</td>\n      <td>Delirium</td>\n      <td>8.1</td>\n      <td>Hypokinesia</td>\n      <td>8.1</td>\n      <td>Hypotonia</td>\n      <td>8.1</td>\n      <td>NaN</td>\n      <td>NaN</td>\n      <td>NaN</td>\n      <td>NaN</td>\n    </tr>\n    <tr>\n      <th>2</th>\n      <td>25004</td>\n      <td>Chills</td>\n      <td>8.1</td>\n      <td>Dermatitis contact</td>\n      <td>8.1</td>\n      <td>Oedema genital</td>\n      <td>8.1</td>\n      <td>Pelvic pain</td>\n      <td>8.1</td>\n      <td>NaN</td>\n      <td>NaN</td>\n    </tr>\n    <tr>\n      <th>3</th>\n      <td>25005</td>\n      <td>Arthritis</td>\n      <td>8.1</td>\n      <td>Injection site oedema</td>\n      <td>8.1</td>\n      <td>Injection site reaction</td>\n      <td>8.1</td>\n      <td>NaN</td>\n      <td>NaN</td>\n      <td>NaN</td>\n      <td>NaN</td>\n    </tr>\n    <tr>\n      <th>4</th>\n      <td>25006</td>\n      <td>Convulsion</td>\n      <td>8.1</td>\n      <td>Dizziness</td>\n      <td>8.1</td>\n      <td>NaN</td>\n      <td>NaN</td>\n      <td>NaN</td>\n      <td>NaN</td>\n      <td>NaN</td>\n      <td>NaN</td>\n    </tr>\n  </tbody>\n</table>\n</div>"
     },
     "execution_count": 57,
     "metadata": {},
     "output_type": "execute_result"
    }
   ],
   "source": [
    "symptoms_1990.head()"
   ],
   "metadata": {
    "collapsed": false,
    "ExecuteTime": {
     "end_time": "2024-01-03T02:20:06.279771Z",
     "start_time": "2024-01-03T02:20:06.265097Z"
    }
   },
   "id": "1de6a89b9b690d6a",
   "execution_count": 57
  },
  {
   "cell_type": "code",
   "outputs": [
    {
     "data": {
      "text/plain": "2102"
     },
     "execution_count": 22,
     "metadata": {},
     "output_type": "execute_result"
    }
   ],
   "source": [
    "num_entries = len(data_1990)\n",
    "num_entries"
   ],
   "metadata": {
    "collapsed": false,
    "ExecuteTime": {
     "end_time": "2024-01-02T18:20:44.786884Z",
     "start_time": "2024-01-02T18:20:44.785110Z"
    }
   },
   "id": "288193b5f5bfca39",
   "execution_count": 22
  },
  {
   "cell_type": "markdown",
   "source": [
    "# Amount of different vaccines"
   ],
   "metadata": {
    "collapsed": false
   },
   "id": "6e1924f6d309d096"
  },
  {
   "cell_type": "code",
   "outputs": [
    {
     "name": "stdout",
     "output_type": "stream",
     "text": [
      "Total number of different vaccine types (1990 - 2023): 100\n"
     ]
    }
   ],
   "source": [
    "import pandas as pd\n",
    "\n",
    "unique_vax_types = set()\n",
    "\n",
    "for year in range(1990, 2024):\n",
    "    try:\n",
    "        vaccine_data_path = f\"/Users/sep/Documents/HAW/Masterarbeit/Daten.nosync/{year}VAERSVAX.csv\"\n",
    "        vaccine_data = pd.read_csv(vaccine_data_path, encoding=\"Iso-8859-1\", low_memory=False)\n",
    "\n",
    "        # Update the set of unique vaccine types\n",
    "        unique_vax_types.update(vaccine_data['VAX_TYPE'].unique())\n",
    "    except Exception as e:\n",
    "        print(f\"An error occurred for year {year}: {e}\")\n",
    "\n",
    "# Total number of different vaccine types\n",
    "total_different_vax_types = len(unique_vax_types)\n",
    "print(f\"Total number of different vaccine types (1990 - 2023): {total_different_vax_types}\")\n"
   ],
   "metadata": {
    "collapsed": false,
    "ExecuteTime": {
     "end_time": "2024-01-04T13:40:35.044354Z",
     "start_time": "2024-01-04T13:40:33.478434Z"
    }
   },
   "id": "b9da95832a68f485",
   "execution_count": 61
  },
  {
   "cell_type": "markdown",
   "source": [
    "# Entries without State"
   ],
   "metadata": {
    "collapsed": false
   },
   "id": "7415d4b7cdc15d07"
  },
  {
   "cell_type": "code",
   "outputs": [
    {
     "name": "stdout",
     "output_type": "stream",
     "text": [
      "Year 1990: 2070 entries with 'STATE' attribute, 32 entries without 'STATE' attribute\n",
      "Year 1991: 9706 entries with 'STATE' attribute, 227 entries without 'STATE' attribute\n",
      "Year 1992: 10339 entries with 'STATE' attribute, 353 entries without 'STATE' attribute\n",
      "Year 1993: 9983 entries with 'STATE' attribute, 164 entries without 'STATE' attribute\n",
      "Year 1994: 10127 entries with 'STATE' attribute, 66 entries without 'STATE' attribute\n",
      "Year 1995: 9941 entries with 'STATE' attribute, 60 entries without 'STATE' attribute\n",
      "Year 1996: 10713 entries with 'STATE' attribute, 58 entries without 'STATE' attribute\n",
      "Year 1997: 10929 entries with 'STATE' attribute, 77 entries without 'STATE' attribute\n",
      "Year 1998: 9791 entries with 'STATE' attribute, 158 entries without 'STATE' attribute\n",
      "Year 1999: 11981 entries with 'STATE' attribute, 142 entries without 'STATE' attribute\n",
      "Year 2000: 13761 entries with 'STATE' attribute, 344 entries without 'STATE' attribute\n",
      "Year 2001: 13025 entries with 'STATE' attribute, 335 entries without 'STATE' attribute\n",
      "Year 2002: 12928 entries with 'STATE' attribute, 1146 entries without 'STATE' attribute\n",
      "Year 2003: 15809 entries with 'STATE' attribute, 945 entries without 'STATE' attribute\n",
      "Year 2004: 13689 entries with 'STATE' attribute, 1632 entries without 'STATE' attribute\n",
      "Year 2005: 14337 entries with 'STATE' attribute, 1243 entries without 'STATE' attribute\n",
      "Year 2006: 16048 entries with 'STATE' attribute, 1261 entries without 'STATE' attribute\n",
      "Year 2007: 25283 entries with 'STATE' attribute, 2943 entries without 'STATE' attribute\n",
      "Year 2008: 26823 entries with 'STATE' attribute, 2943 entries without 'STATE' attribute\n",
      "Year 2009: 30888 entries with 'STATE' attribute, 1898 entries without 'STATE' attribute\n",
      "Year 2010: 29194 entries with 'STATE' attribute, 2388 entries without 'STATE' attribute\n",
      "Year 2011: 23398 entries with 'STATE' attribute, 2011 entries without 'STATE' attribute\n",
      "Year 2012: 23294 entries with 'STATE' attribute, 3374 entries without 'STATE' attribute\n",
      "Year 2013: 24115 entries with 'STATE' attribute, 5622 entries without 'STATE' attribute\n",
      "Year 2014: 24666 entries with 'STATE' attribute, 9673 entries without 'STATE' attribute\n",
      "Year 2015: 27052 entries with 'STATE' attribute, 17370 entries without 'STATE' attribute\n",
      "Year 2016: 30586 entries with 'STATE' attribute, 15119 entries without 'STATE' attribute\n",
      "Year 2017: 35661 entries with 'STATE' attribute, 3249 entries without 'STATE' attribute\n",
      "Year 2018: 44351 entries with 'STATE' attribute, 4784 entries without 'STATE' attribute\n",
      "Year 2019: 44134 entries with 'STATE' attribute, 4303 entries without 'STATE' attribute\n",
      "Year 2020: 42726 entries with 'STATE' attribute, 6915 entries without 'STATE' attribute\n",
      "Year 2021: 637195 entries with 'STATE' attribute, 115902 entries without 'STATE' attribute\n",
      "Year 2022: 198479 entries with 'STATE' attribute, 48536 entries without 'STATE' attribute\n",
      "Year 2023: 76898 entries with 'STATE' attribute, 21984 entries without 'STATE' attribute\n",
      "Total entries with 'STATE' attribute for all years: 1539920\n",
      "Total entries without 'STATE' attribute for all years: 277257\n",
      "Total entries for all years: 1817177\n"
     ]
    }
   ],
   "source": [
    "import pandas as pd\n",
    "import os\n",
    "\n",
    "# Initialize dictionaries to store the number of entries with and without the \"STATE\" attribute per year\n",
    "entries_with_state = {}\n",
    "entries_without_state = {}\n",
    "\n",
    "# Loop through each year from 1990 to 2023\n",
    "for year in range(1990, 2024):\n",
    "    try:\n",
    "        # Construct the filename\n",
    "        path = \"/Users/sep/Documents/HAW/Masterarbeit/Daten.nosync/\"\n",
    "        filename = f\"{year}VAERSDATA.csv\"\n",
    "\n",
    "        # Load the CSV file\n",
    "        data = pd.read_csv(path + filename, encoding=\"Iso-8859-1\", low_memory=False)\n",
    "\n",
    "        # Count the number of entries with and without the \"STATE\" attribute\n",
    "        with_state_count = len(data[data['STATE'].notna()])\n",
    "        without_state_count = len(data[data['STATE'].isna()])\n",
    "\n",
    "        # Store the counts in the dictionaries\n",
    "        entries_with_state[year] = with_state_count\n",
    "        entries_without_state[year] = without_state_count\n",
    "    except FileNotFoundError:\n",
    "        print(f\"File for year {year} not found.\")\n",
    "    except Exception as e:\n",
    "        print(f\"An error occurred for year {year}: {e}\")\n",
    "\n",
    "# Calculate the total number of entries with and without the \"STATE\" attribute for all years\n",
    "total_entries_with_state = sum(entries_with_state.values())\n",
    "total_entries_without_state = sum(entries_without_state.values())\n",
    "\n",
    "# Calculate the total number of entries for all years\n",
    "total_entries = total_entries_with_state + total_entries_without_state\n",
    "\n",
    "# Print the counts for each year, the grand totals, and the total number of entries\n",
    "for year in range(1990, 2024):\n",
    "    print(f\"Year {year}: {entries_with_state[year]} entries with 'STATE' attribute, {entries_without_state[year]} entries without 'STATE' attribute\")\n",
    "\n",
    "print(f\"Total entries with 'STATE' attribute for all years: {total_entries_with_state}\")\n",
    "print(f\"Total entries without 'STATE' attribute for all years: {total_entries_without_state}\")\n",
    "print(f\"Total entries for all years: {total_entries}\")\n"
   ],
   "metadata": {
    "collapsed": false,
    "ExecuteTime": {
     "end_time": "2024-01-19T15:07:00.476181Z",
     "start_time": "2024-01-19T15:06:44.767805Z"
    }
   },
   "id": "d5dc413a2e14c62c",
   "execution_count": 4
  },
  {
   "cell_type": "markdown",
   "source": [
    "# Track amount of duplicate VEAERS IDs in VAERSDATA"
   ],
   "metadata": {
    "collapsed": false
   },
   "id": "1df523bc3008d026"
  },
  {
   "cell_type": "code",
   "outputs": [
    {
     "name": "stdout",
     "output_type": "stream",
     "text": [
      "Total VAERS IDs that appear more than once: 0\n"
     ]
    }
   ],
   "source": [
    "import pandas as pd\n",
    "\n",
    "# Initialize a dictionary to store the count of each VAERS ID\n",
    "vaers_id_counts = {}\n",
    "\n",
    "# Loop through each year from 1990 to 2023\n",
    "for year in range(1990, 2024):\n",
    "    try:\n",
    "        # Construct the filename\n",
    "        path = \"/Users/sep/Documents/HAW/Masterarbeit/Daten.nosync/\"\n",
    "        filename = f\"{year}VAERSDATA.csv\"\n",
    "\n",
    "        # Load the CSV file\n",
    "        data = pd.read_csv(path + filename, encoding=\"Iso-8859-1\", low_memory=False)\n",
    "\n",
    "        # Count the occurrences of each VAERS ID\n",
    "        vaers_id_counts_year = data['VAERS_ID'].value_counts()\n",
    "\n",
    "        # Add the counts to the dictionary\n",
    "        vaers_id_counts.update(vaers_id_counts_year)\n",
    "    except FileNotFoundError:\n",
    "        print(f\"File for year {year} not found.\")\n",
    "    except Exception as e:\n",
    "        print(f\"An error occurred for year {year}: {e}\")\n",
    "\n",
    "# Find the VAERS IDs that appear more than once\n",
    "duplicate_vaers_ids = [vaers_id for vaers_id, count in vaers_id_counts.items() if count > 1]\n",
    "\n",
    "# Get the count of duplicate VAERS IDs\n",
    "count_duplicate_vaers_ids = len(duplicate_vaers_ids)\n",
    "\n",
    "print(f\"Total VAERS IDs that appear more than once: {count_duplicate_vaers_ids}\")\n"
   ],
   "metadata": {
    "collapsed": false,
    "ExecuteTime": {
     "end_time": "2024-01-19T15:18:55.711065Z",
     "start_time": "2024-01-19T15:18:36.651729Z"
    }
   },
   "id": "fee4301bb1f7ce3e",
   "execution_count": 7
  },
  {
   "cell_type": "markdown",
   "source": [
    "# Track amount of duplicate VEAERS IDs in VAERSVAX"
   ],
   "metadata": {
    "collapsed": false
   },
   "id": "1fe387fb82fc22e3"
  },
  {
   "cell_type": "code",
   "outputs": [
    {
     "name": "stdout",
     "output_type": "stream",
     "text": [
      "Total VAERS IDs that appear more than once: 281626\n"
     ]
    }
   ],
   "source": [
    "import pandas as pd\n",
    "\n",
    "# Initialize a dictionary to store the count of each VAERS ID\n",
    "vaers_id_counts = {}\n",
    "\n",
    "# Loop through each year from 1990 to 2023\n",
    "for year in range(1990, 2024):\n",
    "    try:\n",
    "        # Construct the filename\n",
    "        path = \"/Users/sep/Documents/HAW/Masterarbeit/Daten.nosync/\"\n",
    "        filename = f\"{year}VAERSVAX.csv\"\n",
    "\n",
    "        # Load the CSV file\n",
    "        data = pd.read_csv(path + filename, encoding=\"Iso-8859-1\", low_memory=False)\n",
    "\n",
    "        # Count the occurrences of each VAERS ID\n",
    "        vaers_id_counts_year = data['VAERS_ID'].value_counts()\n",
    "\n",
    "        # Add the counts to the dictionary\n",
    "        vaers_id_counts.update(vaers_id_counts_year)\n",
    "    except FileNotFoundError:\n",
    "        print(f\"File for year {year} not found.\")\n",
    "    except Exception as e:\n",
    "        print(f\"An error occurred for year {year}: {e}\")\n",
    "\n",
    "# Find the VAERS IDs that appear more than once\n",
    "duplicate_vaers_ids = [vaers_id for vaers_id, count in vaers_id_counts.items() if count > 1]\n",
    "\n",
    "# Get the count of duplicate VAERS IDs\n",
    "count_duplicate_vaers_ids = len(duplicate_vaers_ids)\n",
    "\n",
    "print(f\"Total VAERS IDs that appear more than once: {count_duplicate_vaers_ids}\")\n"
   ],
   "metadata": {
    "collapsed": false,
    "ExecuteTime": {
     "end_time": "2024-01-19T15:19:00.091930Z",
     "start_time": "2024-01-19T15:18:55.731797Z"
    }
   },
   "id": "ab96e9d3c4c3f3cf",
   "execution_count": 8
  },
  {
   "cell_type": "code",
   "outputs": [
    {
     "name": "stdout",
     "output_type": "stream",
     "text": [
      "    VAERS_ID    RECVDATE STATE  AGE_YRS  CAGE_YR  CAGE_MO SEX RPT_DATE  \\\n",
      "13   2547744  01/01/2023    NY     37.0     37.0      NaN   F      NaN   \n",
      "\n",
      "                                         SYMPTOM_TEXT DIED  ... CUR_ILL  \\\n",
      "13  Upon receiving the Covid booster I started wit...  NaN  ...    none   \n",
      "\n",
      "                                  HISTORY PRIOR_VAX SPLTTYPE  FORM_VERS  \\\n",
      "13  hypertension well controlled and GERD       NaN      NaN          2   \n",
      "\n",
      "   TODAYS_DATE BIRTH_DEFECT OFC_VISIT ER_ED_VISIT         ALLERGIES  \n",
      "13  01/01/2023          NaN       NaN         NaN  cipro, oxycodone  \n",
      "\n",
      "[1 rows x 35 columns]\n"
     ]
    }
   ],
   "source": [
    "import pandas as pd\n",
    "\n",
    "# Path to your VAERSDATA file\n",
    "filename = \"/Users/sep/Documents/HAW/Masterarbeit/Daten.nosync/2023VAERSDATA.csv\"  # Replace with the path to your VAERSDATA file\n",
    "\n",
    "# Load the dataset\n",
    "data_df = pd.read_csv(filename, encoding=\"Iso-8859-1\", low_memory=False)\n",
    "\n",
    "# Filter the dataset for the specific VAERS_ID\n",
    "specific_entry = data_df[data_df['VAERS_ID'] == 2547744]\n",
    "\n",
    "# Display the entry\n",
    "print(specific_entry)\n"
   ],
   "metadata": {
    "collapsed": false,
    "ExecuteTime": {
     "end_time": "2024-01-25T15:27:40.030531Z",
     "start_time": "2024-01-25T15:27:38.869996Z"
    }
   },
   "id": "c6df8152c010ec90",
   "execution_count": 19
  },
  {
   "cell_type": "code",
   "outputs": [
    {
     "data": {
      "text/plain": "13    Upon receiving the Covid booster I started wit...\nName: SYMPTOM_TEXT, dtype: object"
     },
     "execution_count": 24,
     "metadata": {},
     "output_type": "execute_result"
    }
   ],
   "source": [
    "specific_entry['SYMPTOM_TEXT']"
   ],
   "metadata": {
    "collapsed": false,
    "ExecuteTime": {
     "end_time": "2024-01-25T15:29:14.344743Z",
     "start_time": "2024-01-25T15:29:14.341043Z"
    }
   },
   "id": "4f07e4c3a8a60d9d",
   "execution_count": 24
  },
  {
   "cell_type": "code",
   "outputs": [],
   "source": [
    "    file_path = f\"/Users/sep/Documents/HAW/Masterarbeit/Daten.nosync/2023VAERSSYMPTOMS.csv\"\n",
    "    yearly_symptoms_df = pd.read_csv(file_path, encoding='ISO-8859-1')"
   ],
   "metadata": {
    "collapsed": false,
    "ExecuteTime": {
     "end_time": "2024-01-30T09:49:09.254004Z",
     "start_time": "2024-01-30T09:49:09.120145Z"
    }
   },
   "id": "b91bc315c14e3a67",
   "execution_count": 25
  },
  {
   "cell_type": "code",
   "outputs": [
    {
     "data": {
      "text/plain": "        VAERS_ID                             SYMPTOM1  SYMPTOMVERSION1  \\\n0        2547730  Blood pressure orthostatic abnormal             25.1   \n1        2547730                          Head injury             25.1   \n2        2547730             SARS-CoV-2 test positive             25.1   \n3        2547731            Product preparation issue             25.1   \n4        2547732        Injury associated with device             25.1   \n...          ...                                  ...              ...   \n127069   2717536                    Pain in extremity             26.1   \n127070   2717537                     Liver transplant             26.1   \n127071   2717538                        Breast cancer             26.1   \n127072   2717539                             Asthenia             26.1   \n127073   2717539                   Mobility decreased             26.1   \n\n                          SYMPTOM2  SYMPTOMVERSION2           SYMPTOM3  \\\n0                         COVID-19             25.1               Coma   \n1                         Headache             25.1    Laboratory test   \n2          Unresponsive to stimuli             25.1              X-ray   \n3                              NaN              NaN                NaN   \n4                              NaN              NaN                NaN   \n...                            ...              ...                ...   \n127069         Peripheral swelling             26.1                NaN   \n127070                     Malaise             26.1                NaN   \n127071                         NaN              NaN                NaN   \n127072                  Asthenopia             26.1            Fatigue   \n127073  Musculoskeletal discomfort             26.1  Pain in extremity   \n\n        SYMPTOMVERSION3                    SYMPTOM4  SYMPTOMVERSION4  \\\n0                  25.1       Computerised tomogram             25.1   \n1                  25.1  Magnetic resonance imaging             25.1   \n2                  25.1                         NaN              NaN   \n3                   NaN                         NaN              NaN   \n4                   NaN                         NaN              NaN   \n...                 ...                         ...              ...   \n127069              NaN                         NaN              NaN   \n127070              NaN                         NaN              NaN   \n127071              NaN                         NaN              NaN   \n127072             26.1              Gait inability             26.1   \n127073             26.1                         NaN              NaN   \n\n                                 SYMPTOM5  SYMPTOMVERSION5  \n0                  Exposure to SARS-CoV-2             25.1  \n1       SARS-CoV-2 antibody test negative             25.1  \n2                                     NaN              NaN  \n3                                     NaN              NaN  \n4                                     NaN              NaN  \n...                                   ...              ...  \n127069                                NaN              NaN  \n127070                                NaN              NaN  \n127071                                NaN              NaN  \n127072                      Lymphadenitis             26.1  \n127073                                NaN              NaN  \n\n[127074 rows x 11 columns]",
      "text/html": "<div>\n<style scoped>\n    .dataframe tbody tr th:only-of-type {\n        vertical-align: middle;\n    }\n\n    .dataframe tbody tr th {\n        vertical-align: top;\n    }\n\n    .dataframe thead th {\n        text-align: right;\n    }\n</style>\n<table border=\"1\" class=\"dataframe\">\n  <thead>\n    <tr style=\"text-align: right;\">\n      <th></th>\n      <th>VAERS_ID</th>\n      <th>SYMPTOM1</th>\n      <th>SYMPTOMVERSION1</th>\n      <th>SYMPTOM2</th>\n      <th>SYMPTOMVERSION2</th>\n      <th>SYMPTOM3</th>\n      <th>SYMPTOMVERSION3</th>\n      <th>SYMPTOM4</th>\n      <th>SYMPTOMVERSION4</th>\n      <th>SYMPTOM5</th>\n      <th>SYMPTOMVERSION5</th>\n    </tr>\n  </thead>\n  <tbody>\n    <tr>\n      <th>0</th>\n      <td>2547730</td>\n      <td>Blood pressure orthostatic abnormal</td>\n      <td>25.1</td>\n      <td>COVID-19</td>\n      <td>25.1</td>\n      <td>Coma</td>\n      <td>25.1</td>\n      <td>Computerised tomogram</td>\n      <td>25.1</td>\n      <td>Exposure to SARS-CoV-2</td>\n      <td>25.1</td>\n    </tr>\n    <tr>\n      <th>1</th>\n      <td>2547730</td>\n      <td>Head injury</td>\n      <td>25.1</td>\n      <td>Headache</td>\n      <td>25.1</td>\n      <td>Laboratory test</td>\n      <td>25.1</td>\n      <td>Magnetic resonance imaging</td>\n      <td>25.1</td>\n      <td>SARS-CoV-2 antibody test negative</td>\n      <td>25.1</td>\n    </tr>\n    <tr>\n      <th>2</th>\n      <td>2547730</td>\n      <td>SARS-CoV-2 test positive</td>\n      <td>25.1</td>\n      <td>Unresponsive to stimuli</td>\n      <td>25.1</td>\n      <td>X-ray</td>\n      <td>25.1</td>\n      <td>NaN</td>\n      <td>NaN</td>\n      <td>NaN</td>\n      <td>NaN</td>\n    </tr>\n    <tr>\n      <th>3</th>\n      <td>2547731</td>\n      <td>Product preparation issue</td>\n      <td>25.1</td>\n      <td>NaN</td>\n      <td>NaN</td>\n      <td>NaN</td>\n      <td>NaN</td>\n      <td>NaN</td>\n      <td>NaN</td>\n      <td>NaN</td>\n      <td>NaN</td>\n    </tr>\n    <tr>\n      <th>4</th>\n      <td>2547732</td>\n      <td>Injury associated with device</td>\n      <td>25.1</td>\n      <td>NaN</td>\n      <td>NaN</td>\n      <td>NaN</td>\n      <td>NaN</td>\n      <td>NaN</td>\n      <td>NaN</td>\n      <td>NaN</td>\n      <td>NaN</td>\n    </tr>\n    <tr>\n      <th>...</th>\n      <td>...</td>\n      <td>...</td>\n      <td>...</td>\n      <td>...</td>\n      <td>...</td>\n      <td>...</td>\n      <td>...</td>\n      <td>...</td>\n      <td>...</td>\n      <td>...</td>\n      <td>...</td>\n    </tr>\n    <tr>\n      <th>127069</th>\n      <td>2717536</td>\n      <td>Pain in extremity</td>\n      <td>26.1</td>\n      <td>Peripheral swelling</td>\n      <td>26.1</td>\n      <td>NaN</td>\n      <td>NaN</td>\n      <td>NaN</td>\n      <td>NaN</td>\n      <td>NaN</td>\n      <td>NaN</td>\n    </tr>\n    <tr>\n      <th>127070</th>\n      <td>2717537</td>\n      <td>Liver transplant</td>\n      <td>26.1</td>\n      <td>Malaise</td>\n      <td>26.1</td>\n      <td>NaN</td>\n      <td>NaN</td>\n      <td>NaN</td>\n      <td>NaN</td>\n      <td>NaN</td>\n      <td>NaN</td>\n    </tr>\n    <tr>\n      <th>127071</th>\n      <td>2717538</td>\n      <td>Breast cancer</td>\n      <td>26.1</td>\n      <td>NaN</td>\n      <td>NaN</td>\n      <td>NaN</td>\n      <td>NaN</td>\n      <td>NaN</td>\n      <td>NaN</td>\n      <td>NaN</td>\n      <td>NaN</td>\n    </tr>\n    <tr>\n      <th>127072</th>\n      <td>2717539</td>\n      <td>Asthenia</td>\n      <td>26.1</td>\n      <td>Asthenopia</td>\n      <td>26.1</td>\n      <td>Fatigue</td>\n      <td>26.1</td>\n      <td>Gait inability</td>\n      <td>26.1</td>\n      <td>Lymphadenitis</td>\n      <td>26.1</td>\n    </tr>\n    <tr>\n      <th>127073</th>\n      <td>2717539</td>\n      <td>Mobility decreased</td>\n      <td>26.1</td>\n      <td>Musculoskeletal discomfort</td>\n      <td>26.1</td>\n      <td>Pain in extremity</td>\n      <td>26.1</td>\n      <td>NaN</td>\n      <td>NaN</td>\n      <td>NaN</td>\n      <td>NaN</td>\n    </tr>\n  </tbody>\n</table>\n<p>127074 rows × 11 columns</p>\n</div>"
     },
     "execution_count": 29,
     "metadata": {},
     "output_type": "execute_result"
    }
   ],
   "source": [
    "yearly_symptoms_df"
   ],
   "metadata": {
    "collapsed": false,
    "ExecuteTime": {
     "end_time": "2024-01-30T09:53:05.205801Z",
     "start_time": "2024-01-30T09:53:05.197853Z"
    }
   },
   "id": "195cd1637204e45b",
   "execution_count": 29
  },
  {
   "cell_type": "code",
   "outputs": [],
   "source": [
    "    file_path = f\"/Users/sep/Documents/HAW/Masterarbeit/Daten.nosync/2023VAERSVAX.csv\"\n",
    "    vax_yearly_symptoms_df = pd.read_csv(file_path, encoding='ISO-8859-1')"
   ],
   "metadata": {
    "collapsed": false,
    "ExecuteTime": {
     "end_time": "2024-01-30T09:51:02.835828Z",
     "start_time": "2024-01-30T09:51:02.729340Z"
    }
   },
   "id": "5ad0fcd306967be4",
   "execution_count": 27
  },
  {
   "cell_type": "code",
   "outputs": [
    {
     "data": {
      "text/plain": "        VAERS_ID   VAX_TYPE                     VAX_MANU   VAX_LOT  \\\n0        2547730    COVID19                      JANSSEN   1808982   \n1        2547731    COVID19              PFIZER\\BIONTECH    GK1657   \n2        2547732  COVID19-2                      MODERNA   141H22A   \n3        2547733    COVID19                      MODERNA   042h22a   \n4        2547734       TDAP  GLAXOSMITHKLINE BIOLOGICALS     KP547   \n...          ...        ...                          ...       ...   \n119356   2717532       FLU4               SANOFI PASTEUR  UT8144NA   \n119357   2717536        RSV  GLAXOSMITHKLINE BIOLOGICALS       UNK   \n119358   2717537     VARZOS  GLAXOSMITHKLINE BIOLOGICALS       NaN   \n119359   2717538    COVID19                      MODERNA       NaN   \n119360   2717539    COVID19                      MODERNA       NaN   \n\n       VAX_DOSE_SERIES VAX_ROUTE VAX_SITE  \\\n0                  UNK       SYR       AR   \n1                    3        IM       LA   \n2                    4        IM       LA   \n3                    1        IM       LA   \n4                    1        IM       LA   \n...                ...       ...      ...   \n119356             UNK        OT      NaN   \n119357             UNK       NaN      NaN   \n119358               1       NaN      NaN   \n119359             UNK       NaN      NaN   \n119360               6       NaN      NaN   \n\n                                           VAX_NAME  \n0                       COVID19 (COVID19 (JANSSEN))  \n1               COVID19 (COVID19 (PFIZER-BIONTECH))  \n2              COVID19 (COVID19 (MODERNA BIVALENT))  \n3                       COVID19 (COVID19 (MODERNA))  \n4                                   TDAP (BOOSTRIX)  \n...                                             ...  \n119356  INFLUENZA (SEASONAL) (FLUZONE QUADRIVALENT)  \n119357                                 RSV (AREXVY)  \n119358                            ZOSTER (SHINGRIX)  \n119359                  COVID19 (COVID19 (MODERNA))  \n119360                  COVID19 (COVID19 (MODERNA))  \n\n[119361 rows x 8 columns]",
      "text/html": "<div>\n<style scoped>\n    .dataframe tbody tr th:only-of-type {\n        vertical-align: middle;\n    }\n\n    .dataframe tbody tr th {\n        vertical-align: top;\n    }\n\n    .dataframe thead th {\n        text-align: right;\n    }\n</style>\n<table border=\"1\" class=\"dataframe\">\n  <thead>\n    <tr style=\"text-align: right;\">\n      <th></th>\n      <th>VAERS_ID</th>\n      <th>VAX_TYPE</th>\n      <th>VAX_MANU</th>\n      <th>VAX_LOT</th>\n      <th>VAX_DOSE_SERIES</th>\n      <th>VAX_ROUTE</th>\n      <th>VAX_SITE</th>\n      <th>VAX_NAME</th>\n    </tr>\n  </thead>\n  <tbody>\n    <tr>\n      <th>0</th>\n      <td>2547730</td>\n      <td>COVID19</td>\n      <td>JANSSEN</td>\n      <td>1808982</td>\n      <td>UNK</td>\n      <td>SYR</td>\n      <td>AR</td>\n      <td>COVID19 (COVID19 (JANSSEN))</td>\n    </tr>\n    <tr>\n      <th>1</th>\n      <td>2547731</td>\n      <td>COVID19</td>\n      <td>PFIZER\\BIONTECH</td>\n      <td>GK1657</td>\n      <td>3</td>\n      <td>IM</td>\n      <td>LA</td>\n      <td>COVID19 (COVID19 (PFIZER-BIONTECH))</td>\n    </tr>\n    <tr>\n      <th>2</th>\n      <td>2547732</td>\n      <td>COVID19-2</td>\n      <td>MODERNA</td>\n      <td>141H22A</td>\n      <td>4</td>\n      <td>IM</td>\n      <td>LA</td>\n      <td>COVID19 (COVID19 (MODERNA BIVALENT))</td>\n    </tr>\n    <tr>\n      <th>3</th>\n      <td>2547733</td>\n      <td>COVID19</td>\n      <td>MODERNA</td>\n      <td>042h22a</td>\n      <td>1</td>\n      <td>IM</td>\n      <td>LA</td>\n      <td>COVID19 (COVID19 (MODERNA))</td>\n    </tr>\n    <tr>\n      <th>4</th>\n      <td>2547734</td>\n      <td>TDAP</td>\n      <td>GLAXOSMITHKLINE BIOLOGICALS</td>\n      <td>KP547</td>\n      <td>1</td>\n      <td>IM</td>\n      <td>LA</td>\n      <td>TDAP (BOOSTRIX)</td>\n    </tr>\n    <tr>\n      <th>...</th>\n      <td>...</td>\n      <td>...</td>\n      <td>...</td>\n      <td>...</td>\n      <td>...</td>\n      <td>...</td>\n      <td>...</td>\n      <td>...</td>\n    </tr>\n    <tr>\n      <th>119356</th>\n      <td>2717532</td>\n      <td>FLU4</td>\n      <td>SANOFI PASTEUR</td>\n      <td>UT8144NA</td>\n      <td>UNK</td>\n      <td>OT</td>\n      <td>NaN</td>\n      <td>INFLUENZA (SEASONAL) (FLUZONE QUADRIVALENT)</td>\n    </tr>\n    <tr>\n      <th>119357</th>\n      <td>2717536</td>\n      <td>RSV</td>\n      <td>GLAXOSMITHKLINE BIOLOGICALS</td>\n      <td>UNK</td>\n      <td>UNK</td>\n      <td>NaN</td>\n      <td>NaN</td>\n      <td>RSV (AREXVY)</td>\n    </tr>\n    <tr>\n      <th>119358</th>\n      <td>2717537</td>\n      <td>VARZOS</td>\n      <td>GLAXOSMITHKLINE BIOLOGICALS</td>\n      <td>NaN</td>\n      <td>1</td>\n      <td>NaN</td>\n      <td>NaN</td>\n      <td>ZOSTER (SHINGRIX)</td>\n    </tr>\n    <tr>\n      <th>119359</th>\n      <td>2717538</td>\n      <td>COVID19</td>\n      <td>MODERNA</td>\n      <td>NaN</td>\n      <td>UNK</td>\n      <td>NaN</td>\n      <td>NaN</td>\n      <td>COVID19 (COVID19 (MODERNA))</td>\n    </tr>\n    <tr>\n      <th>119360</th>\n      <td>2717539</td>\n      <td>COVID19</td>\n      <td>MODERNA</td>\n      <td>NaN</td>\n      <td>6</td>\n      <td>NaN</td>\n      <td>NaN</td>\n      <td>COVID19 (COVID19 (MODERNA))</td>\n    </tr>\n  </tbody>\n</table>\n<p>119361 rows × 8 columns</p>\n</div>"
     },
     "execution_count": 28,
     "metadata": {},
     "output_type": "execute_result"
    }
   ],
   "source": [
    "vax_yearly_symptoms_df"
   ],
   "metadata": {
    "collapsed": false,
    "ExecuteTime": {
     "end_time": "2024-01-30T09:51:05.579911Z",
     "start_time": "2024-01-30T09:51:05.563411Z"
    }
   },
   "id": "e3565f61213a7c5e",
   "execution_count": 28
  },
  {
   "cell_type": "code",
   "outputs": [],
   "source": [
    "filename = f\"/Users/sep/Documents/HAW/Masterarbeit/Daten.nosync/2023VAERSDATA.csv\"\n",
    "data = pd.read_csv(filename, encoding=\"Iso-8859-1\", low_memory=False)"
   ],
   "metadata": {
    "collapsed": false,
    "ExecuteTime": {
     "end_time": "2024-02-07T11:08:40.449108Z",
     "start_time": "2024-02-07T11:08:39.300799Z"
    }
   },
   "id": "7aa5f1faccfee290",
   "execution_count": 13
  },
  {
   "cell_type": "code",
   "outputs": [
    {
     "data": {
      "text/plain": "       VAERS_ID    RECVDATE STATE  AGE_YRS  CAGE_YR  CAGE_MO SEX RPT_DATE  \\\n0       2547730  01/01/2023    DE     53.0      NaN      NaN   F      NaN   \n1       2547731  01/01/2023    MA      6.0      6.0      NaN   M      NaN   \n2       2547732  01/01/2023    MA     38.0     38.0      NaN   F      NaN   \n3       2547733  01/01/2023    CA     63.0     63.0      NaN   M      NaN   \n4       2547734  01/01/2023    IL     30.0     30.0      NaN   F      NaN   \n...         ...         ...   ...      ...      ...      ...  ..      ...   \n98877   2717532  11/24/2023    AL     30.0     30.0      NaN   F      NaN   \n98878   2717536  11/24/2023   NaN      NaN      NaN      NaN   U      NaN   \n98879   2717537  11/24/2023    CA      NaN      NaN      NaN   M      NaN   \n98880   2717538  11/24/2023    CO      NaN      NaN      NaN   U      NaN   \n98881   2717539  11/24/2023    NY     71.0      NaN      NaN   F      NaN   \n\n                                            SYMPTOM_TEXT DIED  ...  \\\n0      The adverse event is that the patient went int...  NaN  ...   \n1                       Error: Incorrect Reconstitution-  NaN  ...   \n2           Error: Patient Accidentally Stuck by Needle-  NaN  ...   \n3                 Error: Dose in Series Given Too Early-  NaN  ...   \n4                         Systemic: EYE TWITCHING-Medium  NaN  ...   \n...                                                  ...  ...  ...   \n98877  she received Fluzone Quadrivalent and is curre...  NaN  ...   \n98878  arm is in a lot of pain; Swollen arm; This non...  NaN  ...   \n98879  ill; liver transplant; This serious case was r...  NaN  ...   \n98880  breast cancer; This spontaneous case was repor...  NaN  ...   \n98881  I could barely lift my arm/ could barely move;...  NaN  ...   \n\n                 CUR_ILL                                            HISTORY  \\\n0               diabetic                                                NaN   \n1                    NaN                                                NaN   \n2                    NaN                                                NaN   \n3                    NaN                                                NaN   \n4                    NaN                                                NaN   \n...                  ...                                                ...   \n98877                NaN                                                NaN   \n98878                NaN                                                NaN   \n98879  Immunocompromised                                                NaN   \n98880                NaN                                                NaN   \n98881                NaN  Medical History/Concurrent Conditions: Breast ...   \n\n      PRIOR_VAX                   SPLTTYPE  FORM_VERS TODAYS_DATE  \\\n0           NaN                        NaN          2  12/31/2022   \n1           NaN                        NaN          2  01/01/2023   \n2           NaN                        NaN          2  01/01/2023   \n3           NaN                        NaN          2  01/01/2023   \n4           NaN                        NaN          2  01/01/2023   \n...         ...                        ...        ...         ...   \n98877       NaN           USSA2023SA355826          2  11/23/2023   \n98878       NaN       USGSKUS2023AMR160233          2  11/24/2023   \n98879       NaN          USGSKUS2023159996          2  11/24/2023   \n98880       NaN  USMODERNATX, INC.MOD20237          2  11/24/2023   \n98881       NaN  USMODERNATX, INC.MOD20237          2  11/24/2023   \n\n      BIRTH_DEFECT OFC_VISIT ER_ED_VISIT ALLERGIES  \n0              NaN       NaN         NaN      none  \n1              NaN       NaN         NaN       NaN  \n2              NaN       NaN         NaN       NaN  \n3              NaN       NaN         NaN       NaN  \n4              NaN       NaN         NaN       NaN  \n...            ...       ...         ...       ...  \n98877          NaN       NaN         NaN       NaN  \n98878          NaN       NaN         NaN       NaN  \n98879          NaN       NaN         NaN       NaN  \n98880          NaN       NaN         NaN       NaN  \n98881          NaN       NaN         NaN       NaN  \n\n[98882 rows x 35 columns]",
      "text/html": "<div>\n<style scoped>\n    .dataframe tbody tr th:only-of-type {\n        vertical-align: middle;\n    }\n\n    .dataframe tbody tr th {\n        vertical-align: top;\n    }\n\n    .dataframe thead th {\n        text-align: right;\n    }\n</style>\n<table border=\"1\" class=\"dataframe\">\n  <thead>\n    <tr style=\"text-align: right;\">\n      <th></th>\n      <th>VAERS_ID</th>\n      <th>RECVDATE</th>\n      <th>STATE</th>\n      <th>AGE_YRS</th>\n      <th>CAGE_YR</th>\n      <th>CAGE_MO</th>\n      <th>SEX</th>\n      <th>RPT_DATE</th>\n      <th>SYMPTOM_TEXT</th>\n      <th>DIED</th>\n      <th>...</th>\n      <th>CUR_ILL</th>\n      <th>HISTORY</th>\n      <th>PRIOR_VAX</th>\n      <th>SPLTTYPE</th>\n      <th>FORM_VERS</th>\n      <th>TODAYS_DATE</th>\n      <th>BIRTH_DEFECT</th>\n      <th>OFC_VISIT</th>\n      <th>ER_ED_VISIT</th>\n      <th>ALLERGIES</th>\n    </tr>\n  </thead>\n  <tbody>\n    <tr>\n      <th>0</th>\n      <td>2547730</td>\n      <td>01/01/2023</td>\n      <td>DE</td>\n      <td>53.0</td>\n      <td>NaN</td>\n      <td>NaN</td>\n      <td>F</td>\n      <td>NaN</td>\n      <td>The adverse event is that the patient went int...</td>\n      <td>NaN</td>\n      <td>...</td>\n      <td>diabetic</td>\n      <td>NaN</td>\n      <td>NaN</td>\n      <td>NaN</td>\n      <td>2</td>\n      <td>12/31/2022</td>\n      <td>NaN</td>\n      <td>NaN</td>\n      <td>NaN</td>\n      <td>none</td>\n    </tr>\n    <tr>\n      <th>1</th>\n      <td>2547731</td>\n      <td>01/01/2023</td>\n      <td>MA</td>\n      <td>6.0</td>\n      <td>6.0</td>\n      <td>NaN</td>\n      <td>M</td>\n      <td>NaN</td>\n      <td>Error: Incorrect Reconstitution-</td>\n      <td>NaN</td>\n      <td>...</td>\n      <td>NaN</td>\n      <td>NaN</td>\n      <td>NaN</td>\n      <td>NaN</td>\n      <td>2</td>\n      <td>01/01/2023</td>\n      <td>NaN</td>\n      <td>NaN</td>\n      <td>NaN</td>\n      <td>NaN</td>\n    </tr>\n    <tr>\n      <th>2</th>\n      <td>2547732</td>\n      <td>01/01/2023</td>\n      <td>MA</td>\n      <td>38.0</td>\n      <td>38.0</td>\n      <td>NaN</td>\n      <td>F</td>\n      <td>NaN</td>\n      <td>Error: Patient Accidentally Stuck by Needle-</td>\n      <td>NaN</td>\n      <td>...</td>\n      <td>NaN</td>\n      <td>NaN</td>\n      <td>NaN</td>\n      <td>NaN</td>\n      <td>2</td>\n      <td>01/01/2023</td>\n      <td>NaN</td>\n      <td>NaN</td>\n      <td>NaN</td>\n      <td>NaN</td>\n    </tr>\n    <tr>\n      <th>3</th>\n      <td>2547733</td>\n      <td>01/01/2023</td>\n      <td>CA</td>\n      <td>63.0</td>\n      <td>63.0</td>\n      <td>NaN</td>\n      <td>M</td>\n      <td>NaN</td>\n      <td>Error: Dose in Series Given Too Early-</td>\n      <td>NaN</td>\n      <td>...</td>\n      <td>NaN</td>\n      <td>NaN</td>\n      <td>NaN</td>\n      <td>NaN</td>\n      <td>2</td>\n      <td>01/01/2023</td>\n      <td>NaN</td>\n      <td>NaN</td>\n      <td>NaN</td>\n      <td>NaN</td>\n    </tr>\n    <tr>\n      <th>4</th>\n      <td>2547734</td>\n      <td>01/01/2023</td>\n      <td>IL</td>\n      <td>30.0</td>\n      <td>30.0</td>\n      <td>NaN</td>\n      <td>F</td>\n      <td>NaN</td>\n      <td>Systemic: EYE TWITCHING-Medium</td>\n      <td>NaN</td>\n      <td>...</td>\n      <td>NaN</td>\n      <td>NaN</td>\n      <td>NaN</td>\n      <td>NaN</td>\n      <td>2</td>\n      <td>01/01/2023</td>\n      <td>NaN</td>\n      <td>NaN</td>\n      <td>NaN</td>\n      <td>NaN</td>\n    </tr>\n    <tr>\n      <th>...</th>\n      <td>...</td>\n      <td>...</td>\n      <td>...</td>\n      <td>...</td>\n      <td>...</td>\n      <td>...</td>\n      <td>...</td>\n      <td>...</td>\n      <td>...</td>\n      <td>...</td>\n      <td>...</td>\n      <td>...</td>\n      <td>...</td>\n      <td>...</td>\n      <td>...</td>\n      <td>...</td>\n      <td>...</td>\n      <td>...</td>\n      <td>...</td>\n      <td>...</td>\n      <td>...</td>\n    </tr>\n    <tr>\n      <th>98877</th>\n      <td>2717532</td>\n      <td>11/24/2023</td>\n      <td>AL</td>\n      <td>30.0</td>\n      <td>30.0</td>\n      <td>NaN</td>\n      <td>F</td>\n      <td>NaN</td>\n      <td>she received Fluzone Quadrivalent and is curre...</td>\n      <td>NaN</td>\n      <td>...</td>\n      <td>NaN</td>\n      <td>NaN</td>\n      <td>NaN</td>\n      <td>USSA2023SA355826</td>\n      <td>2</td>\n      <td>11/23/2023</td>\n      <td>NaN</td>\n      <td>NaN</td>\n      <td>NaN</td>\n      <td>NaN</td>\n    </tr>\n    <tr>\n      <th>98878</th>\n      <td>2717536</td>\n      <td>11/24/2023</td>\n      <td>NaN</td>\n      <td>NaN</td>\n      <td>NaN</td>\n      <td>NaN</td>\n      <td>U</td>\n      <td>NaN</td>\n      <td>arm is in a lot of pain; Swollen arm; This non...</td>\n      <td>NaN</td>\n      <td>...</td>\n      <td>NaN</td>\n      <td>NaN</td>\n      <td>NaN</td>\n      <td>USGSKUS2023AMR160233</td>\n      <td>2</td>\n      <td>11/24/2023</td>\n      <td>NaN</td>\n      <td>NaN</td>\n      <td>NaN</td>\n      <td>NaN</td>\n    </tr>\n    <tr>\n      <th>98879</th>\n      <td>2717537</td>\n      <td>11/24/2023</td>\n      <td>CA</td>\n      <td>NaN</td>\n      <td>NaN</td>\n      <td>NaN</td>\n      <td>M</td>\n      <td>NaN</td>\n      <td>ill; liver transplant; This serious case was r...</td>\n      <td>NaN</td>\n      <td>...</td>\n      <td>Immunocompromised</td>\n      <td>NaN</td>\n      <td>NaN</td>\n      <td>USGSKUS2023159996</td>\n      <td>2</td>\n      <td>11/24/2023</td>\n      <td>NaN</td>\n      <td>NaN</td>\n      <td>NaN</td>\n      <td>NaN</td>\n    </tr>\n    <tr>\n      <th>98880</th>\n      <td>2717538</td>\n      <td>11/24/2023</td>\n      <td>CO</td>\n      <td>NaN</td>\n      <td>NaN</td>\n      <td>NaN</td>\n      <td>U</td>\n      <td>NaN</td>\n      <td>breast cancer; This spontaneous case was repor...</td>\n      <td>NaN</td>\n      <td>...</td>\n      <td>NaN</td>\n      <td>NaN</td>\n      <td>NaN</td>\n      <td>USMODERNATX, INC.MOD20237</td>\n      <td>2</td>\n      <td>11/24/2023</td>\n      <td>NaN</td>\n      <td>NaN</td>\n      <td>NaN</td>\n      <td>NaN</td>\n    </tr>\n    <tr>\n      <th>98881</th>\n      <td>2717539</td>\n      <td>11/24/2023</td>\n      <td>NY</td>\n      <td>71.0</td>\n      <td>NaN</td>\n      <td>NaN</td>\n      <td>F</td>\n      <td>NaN</td>\n      <td>I could barely lift my arm/ could barely move;...</td>\n      <td>NaN</td>\n      <td>...</td>\n      <td>NaN</td>\n      <td>Medical History/Concurrent Conditions: Breast ...</td>\n      <td>NaN</td>\n      <td>USMODERNATX, INC.MOD20237</td>\n      <td>2</td>\n      <td>11/24/2023</td>\n      <td>NaN</td>\n      <td>NaN</td>\n      <td>NaN</td>\n      <td>NaN</td>\n    </tr>\n  </tbody>\n</table>\n<p>98882 rows × 35 columns</p>\n</div>"
     },
     "execution_count": 14,
     "metadata": {},
     "output_type": "execute_result"
    }
   ],
   "source": [
    "data"
   ],
   "metadata": {
    "collapsed": false,
    "ExecuteTime": {
     "end_time": "2024-02-07T11:08:41.945681Z",
     "start_time": "2024-02-07T11:08:41.859636Z"
    }
   },
   "id": "cc8c26c0ac9d5098",
   "execution_count": 14
  },
  {
   "cell_type": "code",
   "outputs": [],
   "source": [
    "import pandas as pd\n",
    "\n",
    "filename = f\"/Users/sep/Documents/HAW/Masterarbeit/Daten.nosync/2021VAERSDATA.csv\"\n",
    "data = pd.read_csv(filename, encoding=\"Iso-8859-1\", low_memory=False)"
   ],
   "metadata": {
    "collapsed": false,
    "ExecuteTime": {
     "end_time": "2024-02-09T08:54:31.143600Z",
     "start_time": "2024-02-09T08:54:23.299523Z"
    }
   },
   "id": "b07c15388d0131cd",
   "execution_count": 43
  },
  {
   "cell_type": "code",
   "outputs": [],
   "source": [
    "# Filter symptoms data based on the presence of 'penic' in any SYMPTOM column\n",
    "penic_symptoms_df = data[data[['ALLERGIES']].apply(lambda x: x.str.contains('penicilin', na=False)).any(axis=1)]"
   ],
   "metadata": {
    "collapsed": false,
    "ExecuteTime": {
     "end_time": "2024-02-09T08:54:41.423176Z",
     "start_time": "2024-02-09T08:54:41.261391Z"
    }
   },
   "id": "72da07bdcdfb0d1b",
   "execution_count": 46
  },
  {
   "cell_type": "code",
   "outputs": [
    {
     "data": {
      "text/plain": "        VAERS_ID    RECVDATE STATE  AGE_YRS  CAGE_YR  CAGE_MO SEX RPT_DATE  \\\n1036      920466  01/02/2021    VA      NaN     73.0      NaN   F      NaN   \n1953      918556  01/04/2021    MI     43.0     43.0      NaN   F      NaN   \n7902      925030  01/07/2021    CT     22.0     22.0      NaN   F      NaN   \n9221      926531  01/07/2021    NE     90.0     90.0      NaN   F      NaN   \n17527     933160  01/10/2021    MO     61.0     61.0      NaN   F      NaN   \n...          ...         ...   ...      ...      ...      ...  ..      ...   \n743722   1975181  12/23/2021    MO     66.0     66.0      NaN   F      NaN   \n746093   1981638  12/27/2021    NY     57.0     57.0      NaN   F      NaN   \n750524   1992201  12/30/2021    NC     78.0     78.0      NaN   F      NaN   \n752830   1996102  12/31/2021    TX     35.0     35.0      NaN   F      NaN   \n752838   1996111  12/31/2021    SC     46.0     46.0      NaN   F      NaN   \n\n                                             SYMPTOM_TEXT DIED  ...  \\\n1036    Took 2nd Shingritz injection on 11/20/20. Two ...  NaN  ...   \n1953    Had severe chills when I went to bed. Woke up ...  NaN  ...   \n7902    Fever of 100° beginning 6 hours after injectio...  NaN  ...   \n9221    01/06/2021 - 08:08 Complaining of fullness in ...  NaN  ...   \n17527   Moderna COVID-19 vaccine EUA 4-5 hours after v...  NaN  ...   \n...                                                   ...  ...  ...   \n743722  pt reported diarrhea all day tuesday 12/21.  h...  NaN  ...   \n746093  facial body rashes internal tremors nerves joi...  NaN  ...   \n750524  About 2 weeks after 2nd dose blisters appeared...  NaN  ...   \n752830  I did not know at the time of my second dose, ...  NaN  ...   \n752838  patient wanted to receive pfizer as her first ...  NaN  ...   \n\n                           CUR_ILL  \\\n1036                           NaN   \n1953                          none   \n7902                     Chlamydia   \n9221                           NaN   \n17527   diabetes, high cholesterol   \n...                            ...   \n743722                     unknown   \n746093                        none   \n750524                         NaN   \n752830                         NaN   \n752838               neuromuscular   \n\n                                                  HISTORY PRIOR_VAX SPLTTYPE  \\\n1036                                 hypothyroidism, HSV2       NaN      NaN   \n1953                                         endometrosis       NaN      NaN   \n7902                                               Asthma       NaN      NaN   \n9221            hypertension, asthma, dementia, gi bleed.       NaN      NaN   \n17527                                                 NaN       NaN      NaN   \n...                                                   ...       ...      ...   \n743722                                           unknown`       NaN      NaN   \n746093  facial body rashes tremors nerves not sleeping...       NaN      NaN   \n750524                                     Hypothyroidism       NaN      NaN   \n752830                                       Polycythemia       NaN      NaN   \n752838                                      neuromuscular       NaN      NaN   \n\n        FORM_VERS TODAYS_DATE BIRTH_DEFECT OFC_VISIT ER_ED_VISIT  \\\n1036            2  11/28/2020          NaN       NaN         NaN   \n1953            2  01/04/2021          NaN         Y         NaN   \n7902            2  01/07/2021          NaN       NaN         NaN   \n9221            2  01/07/2021          NaN       NaN           Y   \n17527           2  01/10/2021          NaN       NaN         NaN   \n...           ...         ...          ...       ...         ...   \n743722          2  12/23/2021          NaN       NaN         NaN   \n746093          2  12/27/2021          NaN       NaN           Y   \n750524          2  12/30/2021          NaN         Y         NaN   \n752830          2  12/31/2021          NaN       NaN         NaN   \n752838          2  12/31/2021          NaN       NaN         NaN   \n\n                                                ALLERGIES  \n1036                                     sulfa, penicilin  \n1953                                            penicilin  \n7902    Sulfa based medication, penicilin based medica...  \n9221          Erythromycin, Lidocaine, aspirin, penicilin  \n17527                             penicilin, MRI contrast  \n...                                                   ...  \n743722                                   penicilin/sulfur  \n746093                penicilin amoxocilin sulfates kiwin  \n750524  Latex,steroids,penicilin,soy, canola oil shell...  \n752830                                Flexeril, penicilin  \n752838          penicilin, levaquin, cyclines, prednisone  \n\n[125 rows x 35 columns]",
      "text/html": "<div>\n<style scoped>\n    .dataframe tbody tr th:only-of-type {\n        vertical-align: middle;\n    }\n\n    .dataframe tbody tr th {\n        vertical-align: top;\n    }\n\n    .dataframe thead th {\n        text-align: right;\n    }\n</style>\n<table border=\"1\" class=\"dataframe\">\n  <thead>\n    <tr style=\"text-align: right;\">\n      <th></th>\n      <th>VAERS_ID</th>\n      <th>RECVDATE</th>\n      <th>STATE</th>\n      <th>AGE_YRS</th>\n      <th>CAGE_YR</th>\n      <th>CAGE_MO</th>\n      <th>SEX</th>\n      <th>RPT_DATE</th>\n      <th>SYMPTOM_TEXT</th>\n      <th>DIED</th>\n      <th>...</th>\n      <th>CUR_ILL</th>\n      <th>HISTORY</th>\n      <th>PRIOR_VAX</th>\n      <th>SPLTTYPE</th>\n      <th>FORM_VERS</th>\n      <th>TODAYS_DATE</th>\n      <th>BIRTH_DEFECT</th>\n      <th>OFC_VISIT</th>\n      <th>ER_ED_VISIT</th>\n      <th>ALLERGIES</th>\n    </tr>\n  </thead>\n  <tbody>\n    <tr>\n      <th>1036</th>\n      <td>920466</td>\n      <td>01/02/2021</td>\n      <td>VA</td>\n      <td>NaN</td>\n      <td>73.0</td>\n      <td>NaN</td>\n      <td>F</td>\n      <td>NaN</td>\n      <td>Took 2nd Shingritz injection on 11/20/20. Two ...</td>\n      <td>NaN</td>\n      <td>...</td>\n      <td>NaN</td>\n      <td>hypothyroidism, HSV2</td>\n      <td>NaN</td>\n      <td>NaN</td>\n      <td>2</td>\n      <td>11/28/2020</td>\n      <td>NaN</td>\n      <td>NaN</td>\n      <td>NaN</td>\n      <td>sulfa, penicilin</td>\n    </tr>\n    <tr>\n      <th>1953</th>\n      <td>918556</td>\n      <td>01/04/2021</td>\n      <td>MI</td>\n      <td>43.0</td>\n      <td>43.0</td>\n      <td>NaN</td>\n      <td>F</td>\n      <td>NaN</td>\n      <td>Had severe chills when I went to bed. Woke up ...</td>\n      <td>NaN</td>\n      <td>...</td>\n      <td>none</td>\n      <td>endometrosis</td>\n      <td>NaN</td>\n      <td>NaN</td>\n      <td>2</td>\n      <td>01/04/2021</td>\n      <td>NaN</td>\n      <td>Y</td>\n      <td>NaN</td>\n      <td>penicilin</td>\n    </tr>\n    <tr>\n      <th>7902</th>\n      <td>925030</td>\n      <td>01/07/2021</td>\n      <td>CT</td>\n      <td>22.0</td>\n      <td>22.0</td>\n      <td>NaN</td>\n      <td>F</td>\n      <td>NaN</td>\n      <td>Fever of 100° beginning 6 hours after injectio...</td>\n      <td>NaN</td>\n      <td>...</td>\n      <td>Chlamydia</td>\n      <td>Asthma</td>\n      <td>NaN</td>\n      <td>NaN</td>\n      <td>2</td>\n      <td>01/07/2021</td>\n      <td>NaN</td>\n      <td>NaN</td>\n      <td>NaN</td>\n      <td>Sulfa based medication, penicilin based medica...</td>\n    </tr>\n    <tr>\n      <th>9221</th>\n      <td>926531</td>\n      <td>01/07/2021</td>\n      <td>NE</td>\n      <td>90.0</td>\n      <td>90.0</td>\n      <td>NaN</td>\n      <td>F</td>\n      <td>NaN</td>\n      <td>01/06/2021 - 08:08 Complaining of fullness in ...</td>\n      <td>NaN</td>\n      <td>...</td>\n      <td>NaN</td>\n      <td>hypertension, asthma, dementia, gi bleed.</td>\n      <td>NaN</td>\n      <td>NaN</td>\n      <td>2</td>\n      <td>01/07/2021</td>\n      <td>NaN</td>\n      <td>NaN</td>\n      <td>Y</td>\n      <td>Erythromycin, Lidocaine, aspirin, penicilin</td>\n    </tr>\n    <tr>\n      <th>17527</th>\n      <td>933160</td>\n      <td>01/10/2021</td>\n      <td>MO</td>\n      <td>61.0</td>\n      <td>61.0</td>\n      <td>NaN</td>\n      <td>F</td>\n      <td>NaN</td>\n      <td>Moderna COVID-19 vaccine EUA 4-5 hours after v...</td>\n      <td>NaN</td>\n      <td>...</td>\n      <td>diabetes, high cholesterol</td>\n      <td>NaN</td>\n      <td>NaN</td>\n      <td>NaN</td>\n      <td>2</td>\n      <td>01/10/2021</td>\n      <td>NaN</td>\n      <td>NaN</td>\n      <td>NaN</td>\n      <td>penicilin, MRI contrast</td>\n    </tr>\n    <tr>\n      <th>...</th>\n      <td>...</td>\n      <td>...</td>\n      <td>...</td>\n      <td>...</td>\n      <td>...</td>\n      <td>...</td>\n      <td>...</td>\n      <td>...</td>\n      <td>...</td>\n      <td>...</td>\n      <td>...</td>\n      <td>...</td>\n      <td>...</td>\n      <td>...</td>\n      <td>...</td>\n      <td>...</td>\n      <td>...</td>\n      <td>...</td>\n      <td>...</td>\n      <td>...</td>\n      <td>...</td>\n    </tr>\n    <tr>\n      <th>743722</th>\n      <td>1975181</td>\n      <td>12/23/2021</td>\n      <td>MO</td>\n      <td>66.0</td>\n      <td>66.0</td>\n      <td>NaN</td>\n      <td>F</td>\n      <td>NaN</td>\n      <td>pt reported diarrhea all day tuesday 12/21.  h...</td>\n      <td>NaN</td>\n      <td>...</td>\n      <td>unknown</td>\n      <td>unknown`</td>\n      <td>NaN</td>\n      <td>NaN</td>\n      <td>2</td>\n      <td>12/23/2021</td>\n      <td>NaN</td>\n      <td>NaN</td>\n      <td>NaN</td>\n      <td>penicilin/sulfur</td>\n    </tr>\n    <tr>\n      <th>746093</th>\n      <td>1981638</td>\n      <td>12/27/2021</td>\n      <td>NY</td>\n      <td>57.0</td>\n      <td>57.0</td>\n      <td>NaN</td>\n      <td>F</td>\n      <td>NaN</td>\n      <td>facial body rashes internal tremors nerves joi...</td>\n      <td>NaN</td>\n      <td>...</td>\n      <td>none</td>\n      <td>facial body rashes tremors nerves not sleeping...</td>\n      <td>NaN</td>\n      <td>NaN</td>\n      <td>2</td>\n      <td>12/27/2021</td>\n      <td>NaN</td>\n      <td>NaN</td>\n      <td>Y</td>\n      <td>penicilin amoxocilin sulfates kiwin</td>\n    </tr>\n    <tr>\n      <th>750524</th>\n      <td>1992201</td>\n      <td>12/30/2021</td>\n      <td>NC</td>\n      <td>78.0</td>\n      <td>78.0</td>\n      <td>NaN</td>\n      <td>F</td>\n      <td>NaN</td>\n      <td>About 2 weeks after 2nd dose blisters appeared...</td>\n      <td>NaN</td>\n      <td>...</td>\n      <td>NaN</td>\n      <td>Hypothyroidism</td>\n      <td>NaN</td>\n      <td>NaN</td>\n      <td>2</td>\n      <td>12/30/2021</td>\n      <td>NaN</td>\n      <td>Y</td>\n      <td>NaN</td>\n      <td>Latex,steroids,penicilin,soy, canola oil shell...</td>\n    </tr>\n    <tr>\n      <th>752830</th>\n      <td>1996102</td>\n      <td>12/31/2021</td>\n      <td>TX</td>\n      <td>35.0</td>\n      <td>35.0</td>\n      <td>NaN</td>\n      <td>F</td>\n      <td>NaN</td>\n      <td>I did not know at the time of my second dose, ...</td>\n      <td>NaN</td>\n      <td>...</td>\n      <td>NaN</td>\n      <td>Polycythemia</td>\n      <td>NaN</td>\n      <td>NaN</td>\n      <td>2</td>\n      <td>12/31/2021</td>\n      <td>NaN</td>\n      <td>NaN</td>\n      <td>NaN</td>\n      <td>Flexeril, penicilin</td>\n    </tr>\n    <tr>\n      <th>752838</th>\n      <td>1996111</td>\n      <td>12/31/2021</td>\n      <td>SC</td>\n      <td>46.0</td>\n      <td>46.0</td>\n      <td>NaN</td>\n      <td>F</td>\n      <td>NaN</td>\n      <td>patient wanted to receive pfizer as her first ...</td>\n      <td>NaN</td>\n      <td>...</td>\n      <td>neuromuscular</td>\n      <td>neuromuscular</td>\n      <td>NaN</td>\n      <td>NaN</td>\n      <td>2</td>\n      <td>12/31/2021</td>\n      <td>NaN</td>\n      <td>NaN</td>\n      <td>NaN</td>\n      <td>penicilin, levaquin, cyclines, prednisone</td>\n    </tr>\n  </tbody>\n</table>\n<p>125 rows × 35 columns</p>\n</div>"
     },
     "execution_count": 47,
     "metadata": {},
     "output_type": "execute_result"
    }
   ],
   "source": [
    "penic_symptoms_df"
   ],
   "metadata": {
    "collapsed": false,
    "ExecuteTime": {
     "end_time": "2024-02-09T08:54:42.534022Z",
     "start_time": "2024-02-09T08:54:42.521956Z"
    }
   },
   "id": "af5142f1c8de772a",
   "execution_count": 47
  },
  {
   "cell_type": "code",
   "outputs": [],
   "source": [
    "filename = f\"/Users/sep/Documents/HAW/Masterarbeit/Daten.nosync/2021VAERSVAX.csv\"\n",
    "data = pd.read_csv(filename, encoding=\"Iso-8859-1\", low_memory=False)\n",
    "\n",
    "#inject_df = data[data[['SYMPTOM1', 'SYMPTOM2', 'SYMPTOM3', 'SYMPTOM4', 'SYMPTOM5']].apply(lambda x: x.str.contains('injection site', case=False, na=False)).any(axis=1)]"
   ],
   "metadata": {
    "collapsed": false,
    "ExecuteTime": {
     "end_time": "2024-02-09T09:33:47.981120Z",
     "start_time": "2024-02-09T09:33:47.358268Z"
    }
   },
   "id": "9246182ff932a580",
   "execution_count": 65
  },
  {
   "cell_type": "code",
   "outputs": [],
   "source": [
    "duplicates_with_covid = data[data['VAX_TYPE'].str.contains('covid', case=False, na=False)]\n",
    "\n",
    "# Find duplicates based on 'VAERS_ID'\n",
    "duplicates_with_covid = duplicates_with_covid[duplicates_with_covid.duplicated(subset=['VAERS_ID'], keep=False)]\n"
   ],
   "metadata": {
    "collapsed": false,
    "ExecuteTime": {
     "end_time": "2024-02-09T09:34:53.269257Z",
     "start_time": "2024-02-09T09:34:52.892625Z"
    }
   },
   "id": "e9df276dc92d0bb1",
   "execution_count": 69
  },
  {
   "cell_type": "code",
   "outputs": [
    {
     "data": {
      "text/plain": "        VAERS_ID VAX_TYPE         VAX_MANU         VAX_LOT VAX_DOSE_SERIES  \\\n469       917087  COVID19  PFIZER\\BIONTECH             NaN               1   \n470       917087  COVID19  PFIZER\\BIONTECH             NaN             UNK   \n2679      919453  COVID19  PFIZER\\BIONTECH          EL1284               1   \n2680      919453  COVID19  PFIZER\\BIONTECH          EL1284               1   \n3840      920671  COVID19          MODERNA             NaN               1   \n...          ...      ...              ...             ...             ...   \n797066   2674696  COVID19          MODERNA             NaN               2   \n797204   2675423  COVID19          MODERNA  not documented               1   \n797205   2675423  COVID19          MODERNA  not documented             UNK   \n797274   2675492  COVID19          MODERNA         024M20A               2   \n797275   2675492  COVID19  PFIZER\\BIONTECH          EL3248               1   \n\n       VAX_ROUTE VAX_SITE                             VAX_NAME  \n469           IM       LA  COVID19 (COVID19 (PFIZER-BIONTECH))  \n470           IM       LA  COVID19 (COVID19 (PFIZER-BIONTECH))  \n2679          IM       LA  COVID19 (COVID19 (PFIZER-BIONTECH))  \n2680          IM       LA  COVID19 (COVID19 (PFIZER-BIONTECH))  \n3840         SYR       LA          COVID19 (COVID19 (MODERNA))  \n...          ...      ...                                  ...  \n797066       NaN       RA          COVID19 (COVID19 (MODERNA))  \n797204        IM       RA          COVID19 (COVID19 (MODERNA))  \n797205        IM       RA          COVID19 (COVID19 (MODERNA))  \n797274        IM       LA          COVID19 (COVID19 (MODERNA))  \n797275        IM       LA  COVID19 (COVID19 (PFIZER-BIONTECH))  \n\n[61120 rows x 8 columns]",
      "text/html": "<div>\n<style scoped>\n    .dataframe tbody tr th:only-of-type {\n        vertical-align: middle;\n    }\n\n    .dataframe tbody tr th {\n        vertical-align: top;\n    }\n\n    .dataframe thead th {\n        text-align: right;\n    }\n</style>\n<table border=\"1\" class=\"dataframe\">\n  <thead>\n    <tr style=\"text-align: right;\">\n      <th></th>\n      <th>VAERS_ID</th>\n      <th>VAX_TYPE</th>\n      <th>VAX_MANU</th>\n      <th>VAX_LOT</th>\n      <th>VAX_DOSE_SERIES</th>\n      <th>VAX_ROUTE</th>\n      <th>VAX_SITE</th>\n      <th>VAX_NAME</th>\n    </tr>\n  </thead>\n  <tbody>\n    <tr>\n      <th>469</th>\n      <td>917087</td>\n      <td>COVID19</td>\n      <td>PFIZER\\BIONTECH</td>\n      <td>NaN</td>\n      <td>1</td>\n      <td>IM</td>\n      <td>LA</td>\n      <td>COVID19 (COVID19 (PFIZER-BIONTECH))</td>\n    </tr>\n    <tr>\n      <th>470</th>\n      <td>917087</td>\n      <td>COVID19</td>\n      <td>PFIZER\\BIONTECH</td>\n      <td>NaN</td>\n      <td>UNK</td>\n      <td>IM</td>\n      <td>LA</td>\n      <td>COVID19 (COVID19 (PFIZER-BIONTECH))</td>\n    </tr>\n    <tr>\n      <th>2679</th>\n      <td>919453</td>\n      <td>COVID19</td>\n      <td>PFIZER\\BIONTECH</td>\n      <td>EL1284</td>\n      <td>1</td>\n      <td>IM</td>\n      <td>LA</td>\n      <td>COVID19 (COVID19 (PFIZER-BIONTECH))</td>\n    </tr>\n    <tr>\n      <th>2680</th>\n      <td>919453</td>\n      <td>COVID19</td>\n      <td>PFIZER\\BIONTECH</td>\n      <td>EL1284</td>\n      <td>1</td>\n      <td>IM</td>\n      <td>LA</td>\n      <td>COVID19 (COVID19 (PFIZER-BIONTECH))</td>\n    </tr>\n    <tr>\n      <th>3840</th>\n      <td>920671</td>\n      <td>COVID19</td>\n      <td>MODERNA</td>\n      <td>NaN</td>\n      <td>1</td>\n      <td>SYR</td>\n      <td>LA</td>\n      <td>COVID19 (COVID19 (MODERNA))</td>\n    </tr>\n    <tr>\n      <th>...</th>\n      <td>...</td>\n      <td>...</td>\n      <td>...</td>\n      <td>...</td>\n      <td>...</td>\n      <td>...</td>\n      <td>...</td>\n      <td>...</td>\n    </tr>\n    <tr>\n      <th>797066</th>\n      <td>2674696</td>\n      <td>COVID19</td>\n      <td>MODERNA</td>\n      <td>NaN</td>\n      <td>2</td>\n      <td>NaN</td>\n      <td>RA</td>\n      <td>COVID19 (COVID19 (MODERNA))</td>\n    </tr>\n    <tr>\n      <th>797204</th>\n      <td>2675423</td>\n      <td>COVID19</td>\n      <td>MODERNA</td>\n      <td>not documented</td>\n      <td>1</td>\n      <td>IM</td>\n      <td>RA</td>\n      <td>COVID19 (COVID19 (MODERNA))</td>\n    </tr>\n    <tr>\n      <th>797205</th>\n      <td>2675423</td>\n      <td>COVID19</td>\n      <td>MODERNA</td>\n      <td>not documented</td>\n      <td>UNK</td>\n      <td>IM</td>\n      <td>RA</td>\n      <td>COVID19 (COVID19 (MODERNA))</td>\n    </tr>\n    <tr>\n      <th>797274</th>\n      <td>2675492</td>\n      <td>COVID19</td>\n      <td>MODERNA</td>\n      <td>024M20A</td>\n      <td>2</td>\n      <td>IM</td>\n      <td>LA</td>\n      <td>COVID19 (COVID19 (MODERNA))</td>\n    </tr>\n    <tr>\n      <th>797275</th>\n      <td>2675492</td>\n      <td>COVID19</td>\n      <td>PFIZER\\BIONTECH</td>\n      <td>EL3248</td>\n      <td>1</td>\n      <td>IM</td>\n      <td>LA</td>\n      <td>COVID19 (COVID19 (PFIZER-BIONTECH))</td>\n    </tr>\n  </tbody>\n</table>\n<p>61120 rows × 8 columns</p>\n</div>"
     },
     "execution_count": 70,
     "metadata": {},
     "output_type": "execute_result"
    }
   ],
   "source": [
    "duplicates_with_covid"
   ],
   "metadata": {
    "collapsed": false,
    "ExecuteTime": {
     "end_time": "2024-02-09T09:34:58.517265Z",
     "start_time": "2024-02-09T09:34:58.513813Z"
    }
   },
   "id": "888b4bb294637ed6",
   "execution_count": 70
  },
  {
   "cell_type": "code",
   "outputs": [],
   "source": [
    "filename = f\"/Users/sep/Documents/HAW/Masterarbeit/Daten.nosync/1999VAERSDATA.csv\"\n",
    "data = pd.read_csv(filename, encoding=\"Iso-8859-1\", low_memory=False)"
   ],
   "metadata": {
    "collapsed": false,
    "ExecuteTime": {
     "end_time": "2024-02-19T12:57:11.404692Z",
     "start_time": "2024-02-19T12:57:11.291933Z"
    }
   },
   "id": "ce8b8b5eb3f29a58",
   "execution_count": 125
  },
  {
   "cell_type": "code",
   "outputs": [
    {
     "data": {
      "text/plain": "       VAERS_ID    RECVDATE STATE  AGE_YRS  CAGE_YR  CAGE_MO SEX    RPT_DATE  \\\n0        117862  01/04/1999    OH     80.0     80.0      NaN   F  12/29/1998   \n1        117865  01/04/1999    IL      NaN      NaN      NaN   F  12/28/1998   \n2        117867  01/04/1999    MN      0.2      0.0      0.2   M  12/30/1998   \n3        117872  01/04/1999    UT      0.7      0.0      0.7   F  12/10/1998   \n4        117873  01/04/1999    OK     63.0     63.0      NaN   M  12/21/1998   \n...         ...         ...   ...      ...      ...      ...  ..         ...   \n12118    132972  12/30/1999    TX      1.1      1.0      0.1   M  12/13/1999   \n12119    132973  12/30/1999    TX      1.0      1.0      0.0   F         NaN   \n12120    132974  12/30/1999    VA     55.0     55.0      NaN   M         NaN   \n12121    132976  12/30/1999    MT     47.0     47.0      NaN   M  12/23/1999   \n12122    132814  12/31/1999   NaN     24.0     24.0      NaN   M  08/18/1999   \n\n                                            SYMPTOM_TEXT DIED  ...  \\\n0      pt recv vax 19OCT98 & 22OCT98 pt reportedly de...  NaN  ...   \n1      pt exp a chickenpox like rash w/lesions p/expo...  NaN  ...   \n2                          death-found in crib cyanotic;    Y  ...   \n3      fever, sz 30NOV98 PM; vomiting, diarrhea, feve...  NaN  ...   \n4      GBS dx 18DEC98?;sx began w/pain in legs progre...  NaN  ...   \n...                                                  ...  ...  ...   \n12118  Father said pt developed swelling & redness ar...  NaN  ...   \n12119  9 days post/vaccination w/temp to 102.6. Persi...  NaN  ...   \n12120                 13 x 12 cm, erythema to L/deltoid.  NaN  ...   \n12121  The evening after shots, pt had aching muscles...  NaN  ...   \n12122  No rxn to 1st vax. 2nd dose exp urticaria. 1/2...  NaN  ...   \n\n                              CUR_ILL  \\\n0                                NONE   \n1                                 NaN   \n2                                NONE   \n3              sl fever from teething   \n4      CA brain stem behind sinus (?)   \n...                               ...   \n12118                            NONE   \n12119                            NONE   \n12120            Lacerations L/Eyelid   \n12121                            NONE   \n12122                            NONE   \n\n                                              HISTORY              PRIOR_VAX  \\\n0                                       diabetes, HTN      ~ ()~~~In patient   \n1                                                 unk                    NaN   \n2                                                NONE      ~ ()~~~In patient   \n3                                                NONE  NONE~ ()~~~In patient   \n4      immunospuressed-chemo (Naso-pharynx carcinoma)  NONE~ ()~~~In patient   \n...                                               ...                    ...   \n12118                                            NONE      ~ ()~~~In patient   \n12119                                             RAD      ~ ()~~~In patient   \n12120                                            NONE      ~ ()~~~In patient   \n12121            Allergy to Codeine, high cholesterol                    NaN   \n12122                                            NONE                    NaN   \n\n            SPLTTYPE  FORM_VERS TODAYS_DATE BIRTH_DEFECT OFC_VISIT  \\\n0         U199800698          1         NaN          NaN       NaN   \n1      WAES98121211A          1         NaN          NaN       NaN   \n2                NaN          1         NaN          NaN       NaN   \n3           UT982724          1         NaN          NaN       NaN   \n4             OK9850          1         NaN          NaN       NaN   \n...              ...        ...         ...          ...       ...   \n12118        99TX264          1         NaN          NaN       NaN   \n12119        99TX263          1         NaN          NaN       NaN   \n12120            NaN          1         NaN          NaN       NaN   \n12121            NaN          1         NaN          NaN       NaN   \n12122            NaN          1         NaN          NaN       NaN   \n\n      ER_ED_VISIT ALLERGIES  \n0             NaN       NaN  \n1             NaN       NaN  \n2             NaN       NaN  \n3             NaN       NaN  \n4             NaN       NaN  \n...           ...       ...  \n12118         NaN       NaN  \n12119         NaN       NaN  \n12120         NaN       NaN  \n12121         NaN       NaN  \n12122         NaN       NaN  \n\n[12123 rows x 35 columns]",
      "text/html": "<div>\n<style scoped>\n    .dataframe tbody tr th:only-of-type {\n        vertical-align: middle;\n    }\n\n    .dataframe tbody tr th {\n        vertical-align: top;\n    }\n\n    .dataframe thead th {\n        text-align: right;\n    }\n</style>\n<table border=\"1\" class=\"dataframe\">\n  <thead>\n    <tr style=\"text-align: right;\">\n      <th></th>\n      <th>VAERS_ID</th>\n      <th>RECVDATE</th>\n      <th>STATE</th>\n      <th>AGE_YRS</th>\n      <th>CAGE_YR</th>\n      <th>CAGE_MO</th>\n      <th>SEX</th>\n      <th>RPT_DATE</th>\n      <th>SYMPTOM_TEXT</th>\n      <th>DIED</th>\n      <th>...</th>\n      <th>CUR_ILL</th>\n      <th>HISTORY</th>\n      <th>PRIOR_VAX</th>\n      <th>SPLTTYPE</th>\n      <th>FORM_VERS</th>\n      <th>TODAYS_DATE</th>\n      <th>BIRTH_DEFECT</th>\n      <th>OFC_VISIT</th>\n      <th>ER_ED_VISIT</th>\n      <th>ALLERGIES</th>\n    </tr>\n  </thead>\n  <tbody>\n    <tr>\n      <th>0</th>\n      <td>117862</td>\n      <td>01/04/1999</td>\n      <td>OH</td>\n      <td>80.0</td>\n      <td>80.0</td>\n      <td>NaN</td>\n      <td>F</td>\n      <td>12/29/1998</td>\n      <td>pt recv vax 19OCT98 &amp; 22OCT98 pt reportedly de...</td>\n      <td>NaN</td>\n      <td>...</td>\n      <td>NONE</td>\n      <td>diabetes, HTN</td>\n      <td>~ ()~~~In patient</td>\n      <td>U199800698</td>\n      <td>1</td>\n      <td>NaN</td>\n      <td>NaN</td>\n      <td>NaN</td>\n      <td>NaN</td>\n      <td>NaN</td>\n    </tr>\n    <tr>\n      <th>1</th>\n      <td>117865</td>\n      <td>01/04/1999</td>\n      <td>IL</td>\n      <td>NaN</td>\n      <td>NaN</td>\n      <td>NaN</td>\n      <td>F</td>\n      <td>12/28/1998</td>\n      <td>pt exp a chickenpox like rash w/lesions p/expo...</td>\n      <td>NaN</td>\n      <td>...</td>\n      <td>NaN</td>\n      <td>unk</td>\n      <td>NaN</td>\n      <td>WAES98121211A</td>\n      <td>1</td>\n      <td>NaN</td>\n      <td>NaN</td>\n      <td>NaN</td>\n      <td>NaN</td>\n      <td>NaN</td>\n    </tr>\n    <tr>\n      <th>2</th>\n      <td>117867</td>\n      <td>01/04/1999</td>\n      <td>MN</td>\n      <td>0.2</td>\n      <td>0.0</td>\n      <td>0.2</td>\n      <td>M</td>\n      <td>12/30/1998</td>\n      <td>death-found in crib cyanotic;</td>\n      <td>Y</td>\n      <td>...</td>\n      <td>NONE</td>\n      <td>NONE</td>\n      <td>~ ()~~~In patient</td>\n      <td>NaN</td>\n      <td>1</td>\n      <td>NaN</td>\n      <td>NaN</td>\n      <td>NaN</td>\n      <td>NaN</td>\n      <td>NaN</td>\n    </tr>\n    <tr>\n      <th>3</th>\n      <td>117872</td>\n      <td>01/04/1999</td>\n      <td>UT</td>\n      <td>0.7</td>\n      <td>0.0</td>\n      <td>0.7</td>\n      <td>F</td>\n      <td>12/10/1998</td>\n      <td>fever, sz 30NOV98 PM; vomiting, diarrhea, feve...</td>\n      <td>NaN</td>\n      <td>...</td>\n      <td>sl fever from teething</td>\n      <td>NONE</td>\n      <td>NONE~ ()~~~In patient</td>\n      <td>UT982724</td>\n      <td>1</td>\n      <td>NaN</td>\n      <td>NaN</td>\n      <td>NaN</td>\n      <td>NaN</td>\n      <td>NaN</td>\n    </tr>\n    <tr>\n      <th>4</th>\n      <td>117873</td>\n      <td>01/04/1999</td>\n      <td>OK</td>\n      <td>63.0</td>\n      <td>63.0</td>\n      <td>NaN</td>\n      <td>M</td>\n      <td>12/21/1998</td>\n      <td>GBS dx 18DEC98?;sx began w/pain in legs progre...</td>\n      <td>NaN</td>\n      <td>...</td>\n      <td>CA brain stem behind sinus (?)</td>\n      <td>immunospuressed-chemo (Naso-pharynx carcinoma)</td>\n      <td>NONE~ ()~~~In patient</td>\n      <td>OK9850</td>\n      <td>1</td>\n      <td>NaN</td>\n      <td>NaN</td>\n      <td>NaN</td>\n      <td>NaN</td>\n      <td>NaN</td>\n    </tr>\n    <tr>\n      <th>...</th>\n      <td>...</td>\n      <td>...</td>\n      <td>...</td>\n      <td>...</td>\n      <td>...</td>\n      <td>...</td>\n      <td>...</td>\n      <td>...</td>\n      <td>...</td>\n      <td>...</td>\n      <td>...</td>\n      <td>...</td>\n      <td>...</td>\n      <td>...</td>\n      <td>...</td>\n      <td>...</td>\n      <td>...</td>\n      <td>...</td>\n      <td>...</td>\n      <td>...</td>\n      <td>...</td>\n    </tr>\n    <tr>\n      <th>12118</th>\n      <td>132972</td>\n      <td>12/30/1999</td>\n      <td>TX</td>\n      <td>1.1</td>\n      <td>1.0</td>\n      <td>0.1</td>\n      <td>M</td>\n      <td>12/13/1999</td>\n      <td>Father said pt developed swelling &amp; redness ar...</td>\n      <td>NaN</td>\n      <td>...</td>\n      <td>NONE</td>\n      <td>NONE</td>\n      <td>~ ()~~~In patient</td>\n      <td>99TX264</td>\n      <td>1</td>\n      <td>NaN</td>\n      <td>NaN</td>\n      <td>NaN</td>\n      <td>NaN</td>\n      <td>NaN</td>\n    </tr>\n    <tr>\n      <th>12119</th>\n      <td>132973</td>\n      <td>12/30/1999</td>\n      <td>TX</td>\n      <td>1.0</td>\n      <td>1.0</td>\n      <td>0.0</td>\n      <td>F</td>\n      <td>NaN</td>\n      <td>9 days post/vaccination w/temp to 102.6. Persi...</td>\n      <td>NaN</td>\n      <td>...</td>\n      <td>NONE</td>\n      <td>RAD</td>\n      <td>~ ()~~~In patient</td>\n      <td>99TX263</td>\n      <td>1</td>\n      <td>NaN</td>\n      <td>NaN</td>\n      <td>NaN</td>\n      <td>NaN</td>\n      <td>NaN</td>\n    </tr>\n    <tr>\n      <th>12120</th>\n      <td>132974</td>\n      <td>12/30/1999</td>\n      <td>VA</td>\n      <td>55.0</td>\n      <td>55.0</td>\n      <td>NaN</td>\n      <td>M</td>\n      <td>NaN</td>\n      <td>13 x 12 cm, erythema to L/deltoid.</td>\n      <td>NaN</td>\n      <td>...</td>\n      <td>Lacerations L/Eyelid</td>\n      <td>NONE</td>\n      <td>~ ()~~~In patient</td>\n      <td>NaN</td>\n      <td>1</td>\n      <td>NaN</td>\n      <td>NaN</td>\n      <td>NaN</td>\n      <td>NaN</td>\n      <td>NaN</td>\n    </tr>\n    <tr>\n      <th>12121</th>\n      <td>132976</td>\n      <td>12/30/1999</td>\n      <td>MT</td>\n      <td>47.0</td>\n      <td>47.0</td>\n      <td>NaN</td>\n      <td>M</td>\n      <td>12/23/1999</td>\n      <td>The evening after shots, pt had aching muscles...</td>\n      <td>NaN</td>\n      <td>...</td>\n      <td>NONE</td>\n      <td>Allergy to Codeine, high cholesterol</td>\n      <td>NaN</td>\n      <td>NaN</td>\n      <td>1</td>\n      <td>NaN</td>\n      <td>NaN</td>\n      <td>NaN</td>\n      <td>NaN</td>\n      <td>NaN</td>\n    </tr>\n    <tr>\n      <th>12122</th>\n      <td>132814</td>\n      <td>12/31/1999</td>\n      <td>NaN</td>\n      <td>24.0</td>\n      <td>24.0</td>\n      <td>NaN</td>\n      <td>M</td>\n      <td>08/18/1999</td>\n      <td>No rxn to 1st vax. 2nd dose exp urticaria. 1/2...</td>\n      <td>NaN</td>\n      <td>...</td>\n      <td>NONE</td>\n      <td>NONE</td>\n      <td>NaN</td>\n      <td>NaN</td>\n      <td>1</td>\n      <td>NaN</td>\n      <td>NaN</td>\n      <td>NaN</td>\n      <td>NaN</td>\n      <td>NaN</td>\n    </tr>\n  </tbody>\n</table>\n<p>12123 rows × 35 columns</p>\n</div>"
     },
     "execution_count": 128,
     "metadata": {},
     "output_type": "execute_result"
    }
   ],
   "source": [
    "data"
   ],
   "metadata": {
    "collapsed": false,
    "ExecuteTime": {
     "end_time": "2024-02-19T12:57:16.100321Z",
     "start_time": "2024-02-19T12:57:16.072199Z"
    }
   },
   "id": "dd224a35769fdf58",
   "execution_count": 128
  },
  {
   "cell_type": "code",
   "outputs": [
    {
     "data": {
      "text/plain": "True"
     },
     "execution_count": 103,
     "metadata": {},
     "output_type": "execute_result"
    }
   ],
   "source": [
    "nan_in_todays_date =data['TODAYS_DATE'].isna().any()\n",
    "nan_in_todays_date"
   ],
   "metadata": {
    "collapsed": false,
    "ExecuteTime": {
     "end_time": "2024-02-16T15:32:05.194104Z",
     "start_time": "2024-02-16T15:32:05.183549Z"
    }
   },
   "id": "c4a2f1da1e0cdef9",
   "execution_count": 103
  },
  {
   "cell_type": "code",
   "outputs": [],
   "source": [
    "filename = f\"/Users/sep/Documents/HAW/Masterarbeit/Daten.nosync/2023VAERSVAX.csv\"\n",
    "data2 = pd.read_csv(filename, encoding=\"Iso-8859-1\", low_memory=False)"
   ],
   "metadata": {
    "collapsed": false,
    "ExecuteTime": {
     "end_time": "2024-02-16T22:27:21.465135Z",
     "start_time": "2024-02-16T22:27:21.327678Z"
    }
   },
   "id": "ab886126546ee38c",
   "execution_count": 118
  },
  {
   "cell_type": "code",
   "outputs": [
    {
     "data": {
      "text/plain": "        VAERS_ID   VAX_TYPE                     VAX_MANU   VAX_LOT  \\\n0        2547730    COVID19                      JANSSEN   1808982   \n1        2547731    COVID19              PFIZER\\BIONTECH    GK1657   \n2        2547732  COVID19-2                      MODERNA   141H22A   \n3        2547733    COVID19                      MODERNA   042h22a   \n4        2547734       TDAP  GLAXOSMITHKLINE BIOLOGICALS     KP547   \n...          ...        ...                          ...       ...   \n119356   2717532       FLU4               SANOFI PASTEUR  UT8144NA   \n119357   2717536        RSV  GLAXOSMITHKLINE BIOLOGICALS       UNK   \n119358   2717537     VARZOS  GLAXOSMITHKLINE BIOLOGICALS       NaN   \n119359   2717538    COVID19                      MODERNA       NaN   \n119360   2717539    COVID19                      MODERNA       NaN   \n\n       VAX_DOSE_SERIES VAX_ROUTE VAX_SITE  \\\n0                  UNK       SYR       AR   \n1                    3        IM       LA   \n2                    4        IM       LA   \n3                    1        IM       LA   \n4                    1        IM       LA   \n...                ...       ...      ...   \n119356             UNK        OT      NaN   \n119357             UNK       NaN      NaN   \n119358               1       NaN      NaN   \n119359             UNK       NaN      NaN   \n119360               6       NaN      NaN   \n\n                                           VAX_NAME  \n0                       COVID19 (COVID19 (JANSSEN))  \n1               COVID19 (COVID19 (PFIZER-BIONTECH))  \n2              COVID19 (COVID19 (MODERNA BIVALENT))  \n3                       COVID19 (COVID19 (MODERNA))  \n4                                   TDAP (BOOSTRIX)  \n...                                             ...  \n119356  INFLUENZA (SEASONAL) (FLUZONE QUADRIVALENT)  \n119357                                 RSV (AREXVY)  \n119358                            ZOSTER (SHINGRIX)  \n119359                  COVID19 (COVID19 (MODERNA))  \n119360                  COVID19 (COVID19 (MODERNA))  \n\n[119361 rows x 8 columns]",
      "text/html": "<div>\n<style scoped>\n    .dataframe tbody tr th:only-of-type {\n        vertical-align: middle;\n    }\n\n    .dataframe tbody tr th {\n        vertical-align: top;\n    }\n\n    .dataframe thead th {\n        text-align: right;\n    }\n</style>\n<table border=\"1\" class=\"dataframe\">\n  <thead>\n    <tr style=\"text-align: right;\">\n      <th></th>\n      <th>VAERS_ID</th>\n      <th>VAX_TYPE</th>\n      <th>VAX_MANU</th>\n      <th>VAX_LOT</th>\n      <th>VAX_DOSE_SERIES</th>\n      <th>VAX_ROUTE</th>\n      <th>VAX_SITE</th>\n      <th>VAX_NAME</th>\n    </tr>\n  </thead>\n  <tbody>\n    <tr>\n      <th>0</th>\n      <td>2547730</td>\n      <td>COVID19</td>\n      <td>JANSSEN</td>\n      <td>1808982</td>\n      <td>UNK</td>\n      <td>SYR</td>\n      <td>AR</td>\n      <td>COVID19 (COVID19 (JANSSEN))</td>\n    </tr>\n    <tr>\n      <th>1</th>\n      <td>2547731</td>\n      <td>COVID19</td>\n      <td>PFIZER\\BIONTECH</td>\n      <td>GK1657</td>\n      <td>3</td>\n      <td>IM</td>\n      <td>LA</td>\n      <td>COVID19 (COVID19 (PFIZER-BIONTECH))</td>\n    </tr>\n    <tr>\n      <th>2</th>\n      <td>2547732</td>\n      <td>COVID19-2</td>\n      <td>MODERNA</td>\n      <td>141H22A</td>\n      <td>4</td>\n      <td>IM</td>\n      <td>LA</td>\n      <td>COVID19 (COVID19 (MODERNA BIVALENT))</td>\n    </tr>\n    <tr>\n      <th>3</th>\n      <td>2547733</td>\n      <td>COVID19</td>\n      <td>MODERNA</td>\n      <td>042h22a</td>\n      <td>1</td>\n      <td>IM</td>\n      <td>LA</td>\n      <td>COVID19 (COVID19 (MODERNA))</td>\n    </tr>\n    <tr>\n      <th>4</th>\n      <td>2547734</td>\n      <td>TDAP</td>\n      <td>GLAXOSMITHKLINE BIOLOGICALS</td>\n      <td>KP547</td>\n      <td>1</td>\n      <td>IM</td>\n      <td>LA</td>\n      <td>TDAP (BOOSTRIX)</td>\n    </tr>\n    <tr>\n      <th>...</th>\n      <td>...</td>\n      <td>...</td>\n      <td>...</td>\n      <td>...</td>\n      <td>...</td>\n      <td>...</td>\n      <td>...</td>\n      <td>...</td>\n    </tr>\n    <tr>\n      <th>119356</th>\n      <td>2717532</td>\n      <td>FLU4</td>\n      <td>SANOFI PASTEUR</td>\n      <td>UT8144NA</td>\n      <td>UNK</td>\n      <td>OT</td>\n      <td>NaN</td>\n      <td>INFLUENZA (SEASONAL) (FLUZONE QUADRIVALENT)</td>\n    </tr>\n    <tr>\n      <th>119357</th>\n      <td>2717536</td>\n      <td>RSV</td>\n      <td>GLAXOSMITHKLINE BIOLOGICALS</td>\n      <td>UNK</td>\n      <td>UNK</td>\n      <td>NaN</td>\n      <td>NaN</td>\n      <td>RSV (AREXVY)</td>\n    </tr>\n    <tr>\n      <th>119358</th>\n      <td>2717537</td>\n      <td>VARZOS</td>\n      <td>GLAXOSMITHKLINE BIOLOGICALS</td>\n      <td>NaN</td>\n      <td>1</td>\n      <td>NaN</td>\n      <td>NaN</td>\n      <td>ZOSTER (SHINGRIX)</td>\n    </tr>\n    <tr>\n      <th>119359</th>\n      <td>2717538</td>\n      <td>COVID19</td>\n      <td>MODERNA</td>\n      <td>NaN</td>\n      <td>UNK</td>\n      <td>NaN</td>\n      <td>NaN</td>\n      <td>COVID19 (COVID19 (MODERNA))</td>\n    </tr>\n    <tr>\n      <th>119360</th>\n      <td>2717539</td>\n      <td>COVID19</td>\n      <td>MODERNA</td>\n      <td>NaN</td>\n      <td>6</td>\n      <td>NaN</td>\n      <td>NaN</td>\n      <td>COVID19 (COVID19 (MODERNA))</td>\n    </tr>\n  </tbody>\n</table>\n<p>119361 rows × 8 columns</p>\n</div>"
     },
     "execution_count": 119,
     "metadata": {},
     "output_type": "execute_result"
    }
   ],
   "source": [
    "data2"
   ],
   "metadata": {
    "collapsed": false,
    "ExecuteTime": {
     "end_time": "2024-02-16T22:27:22.040491Z",
     "start_time": "2024-02-16T22:27:22.016591Z"
    }
   },
   "id": "649cc1f7783b1258",
   "execution_count": 119
  },
  {
   "cell_type": "code",
   "outputs": [],
   "source": [
    "import pandas as pd\n",
    "filename = f\"/Users/sep/Documents/HAW/Masterarbeit/Daten.nosync/NonDomesticVAERSDATA.csv\"\n",
    "data3 = pd.read_csv(filename, encoding=\"utf-8\", low_memory=False)"
   ],
   "metadata": {
    "collapsed": false,
    "ExecuteTime": {
     "end_time": "2024-02-21T10:48:15.964259Z",
     "start_time": "2024-02-21T10:48:15.947505Z"
    }
   },
   "id": "2e8c2778efc964e1",
   "execution_count": 4
  },
  {
   "cell_type": "code",
   "outputs": [
    {
     "data": {
      "text/plain": "      VAERS_ID    RECVDATE STATE  AGE_YRS  CAGE_YR  CAGE_MO SEX RPT_DATE  \\\n0        25001  07/02/1990    WI      0.2      NaN      NaN   F      NaN   \n1        25003  07/02/1990    TX      0.8      NaN      NaN   M      NaN   \n2        25004  07/02/1990    NY      0.9      NaN      NaN   M      NaN   \n3        25005  07/02/1990    OK      NaN      NaN      NaN   U      NaN   \n4        25006  07/02/1990    OH     16.0     16.0      NaN   F      NaN   \n...        ...         ...   ...      ...      ...      ...  ..      ...   \n2097     27269  12/31/1990    OK      1.8      NaN      NaN   M      NaN   \n2098     27270  12/31/1990    NY      5.0      NaN      NaN   M      NaN   \n2099     27271  12/31/1990    IL      0.2      NaN      NaN   U      NaN   \n2100     27272  12/31/1990    TX      1.5      NaN      NaN   F      NaN   \n2101     27273  12/31/1990    CA      0.3      NaN      NaN   M      NaN   \n\n                                           SYMPTOM_TEXT DIED  ... CUR_ILL  \\\n0     Loud intense cry with screaming for 1 1/2 hrs....  NaN  ...     NaN   \n1     Hypotonic, Hyporesponsive episode, Infant died...    Y  ...     NaN   \n2     Pt developed chills for approx. 1 hr, felt ach...  NaN  ...     NaN   \n3     7 patients within 2 weeks have reported joint ...  NaN  ...     NaN   \n4     16 yr old female feeling faint & then had seiz...  NaN  ...     NaN   \n...                                                 ...  ...  ...     ...   \n2097  3 days /p vax given bright red hard lumps invo...  NaN  ...     NaN   \n2098  /P vax pt has lipoatrophy of the buttocks.  Hi...  NaN  ...     NaN   \n2099  2 wks following DTP/OPV vax, child developed h...  NaN  ...     NaN   \n2100  Received OPV/DTP vax & next day developed hive...  NaN  ...     NaN   \n2101  At 2 mo. old infant received DTP, 6 hrs later ...  NaN  ...     NaN   \n\n                              HISTORY          PRIOR_VAX   SPLTTYPE  \\\n0                                 NaN                NaN        NaN   \n1                                 NaN  ~ ()~~~In patient        NaN   \n2                                 NaN  ~ ()~~~In patient  890269201   \n3                                 NaN  ~ ()~~~In patient  890277901   \n4     no hx of local or systemic rxns  ~ ()~~~In patient  890278001   \n...                               ...                ...        ...   \n2097                              NaN  ~ ()~~~In patient  900120701   \n2098                              NaN  ~ ()~~~In patient  900120601   \n2099                              NaN  ~ ()~~~In patient  900150401   \n2100                              NaN  ~ ()~~~In patient  900143101   \n2101                              NaN  ~ ()~~~In patient  900141201   \n\n      FORM_VERS TODAYS_DATE BIRTH_DEFECT OFC_VISIT ER_ED_VISIT ALLERGIES  \n0             1         NaN          NaN       NaN         NaN       NaN  \n1             1         NaN          NaN       NaN         NaN       NaN  \n2             1         NaN          NaN       NaN         NaN       NaN  \n3             1         NaN          NaN       NaN         NaN       NaN  \n4             1         NaN          NaN       NaN         NaN       NaN  \n...         ...         ...          ...       ...         ...       ...  \n2097          1         NaN          NaN       NaN         NaN       NaN  \n2098          1         NaN          NaN       NaN         NaN       NaN  \n2099          1         NaN          NaN       NaN         NaN       NaN  \n2100          1         NaN          NaN       NaN         NaN       NaN  \n2101          1         NaN          NaN       NaN         NaN       NaN  \n\n[2102 rows x 35 columns]",
      "text/html": "<div>\n<style scoped>\n    .dataframe tbody tr th:only-of-type {\n        vertical-align: middle;\n    }\n\n    .dataframe tbody tr th {\n        vertical-align: top;\n    }\n\n    .dataframe thead th {\n        text-align: right;\n    }\n</style>\n<table border=\"1\" class=\"dataframe\">\n  <thead>\n    <tr style=\"text-align: right;\">\n      <th></th>\n      <th>VAERS_ID</th>\n      <th>RECVDATE</th>\n      <th>STATE</th>\n      <th>AGE_YRS</th>\n      <th>CAGE_YR</th>\n      <th>CAGE_MO</th>\n      <th>SEX</th>\n      <th>RPT_DATE</th>\n      <th>SYMPTOM_TEXT</th>\n      <th>DIED</th>\n      <th>...</th>\n      <th>CUR_ILL</th>\n      <th>HISTORY</th>\n      <th>PRIOR_VAX</th>\n      <th>SPLTTYPE</th>\n      <th>FORM_VERS</th>\n      <th>TODAYS_DATE</th>\n      <th>BIRTH_DEFECT</th>\n      <th>OFC_VISIT</th>\n      <th>ER_ED_VISIT</th>\n      <th>ALLERGIES</th>\n    </tr>\n  </thead>\n  <tbody>\n    <tr>\n      <th>0</th>\n      <td>25001</td>\n      <td>07/02/1990</td>\n      <td>WI</td>\n      <td>0.2</td>\n      <td>NaN</td>\n      <td>NaN</td>\n      <td>F</td>\n      <td>NaN</td>\n      <td>Loud intense cry with screaming for 1 1/2 hrs....</td>\n      <td>NaN</td>\n      <td>...</td>\n      <td>NaN</td>\n      <td>NaN</td>\n      <td>NaN</td>\n      <td>NaN</td>\n      <td>1</td>\n      <td>NaN</td>\n      <td>NaN</td>\n      <td>NaN</td>\n      <td>NaN</td>\n      <td>NaN</td>\n    </tr>\n    <tr>\n      <th>1</th>\n      <td>25003</td>\n      <td>07/02/1990</td>\n      <td>TX</td>\n      <td>0.8</td>\n      <td>NaN</td>\n      <td>NaN</td>\n      <td>M</td>\n      <td>NaN</td>\n      <td>Hypotonic, Hyporesponsive episode, Infant died...</td>\n      <td>Y</td>\n      <td>...</td>\n      <td>NaN</td>\n      <td>NaN</td>\n      <td>~ ()~~~In patient</td>\n      <td>NaN</td>\n      <td>1</td>\n      <td>NaN</td>\n      <td>NaN</td>\n      <td>NaN</td>\n      <td>NaN</td>\n      <td>NaN</td>\n    </tr>\n    <tr>\n      <th>2</th>\n      <td>25004</td>\n      <td>07/02/1990</td>\n      <td>NY</td>\n      <td>0.9</td>\n      <td>NaN</td>\n      <td>NaN</td>\n      <td>M</td>\n      <td>NaN</td>\n      <td>Pt developed chills for approx. 1 hr, felt ach...</td>\n      <td>NaN</td>\n      <td>...</td>\n      <td>NaN</td>\n      <td>NaN</td>\n      <td>~ ()~~~In patient</td>\n      <td>890269201</td>\n      <td>1</td>\n      <td>NaN</td>\n      <td>NaN</td>\n      <td>NaN</td>\n      <td>NaN</td>\n      <td>NaN</td>\n    </tr>\n    <tr>\n      <th>3</th>\n      <td>25005</td>\n      <td>07/02/1990</td>\n      <td>OK</td>\n      <td>NaN</td>\n      <td>NaN</td>\n      <td>NaN</td>\n      <td>U</td>\n      <td>NaN</td>\n      <td>7 patients within 2 weeks have reported joint ...</td>\n      <td>NaN</td>\n      <td>...</td>\n      <td>NaN</td>\n      <td>NaN</td>\n      <td>~ ()~~~In patient</td>\n      <td>890277901</td>\n      <td>1</td>\n      <td>NaN</td>\n      <td>NaN</td>\n      <td>NaN</td>\n      <td>NaN</td>\n      <td>NaN</td>\n    </tr>\n    <tr>\n      <th>4</th>\n      <td>25006</td>\n      <td>07/02/1990</td>\n      <td>OH</td>\n      <td>16.0</td>\n      <td>16.0</td>\n      <td>NaN</td>\n      <td>F</td>\n      <td>NaN</td>\n      <td>16 yr old female feeling faint &amp; then had seiz...</td>\n      <td>NaN</td>\n      <td>...</td>\n      <td>NaN</td>\n      <td>no hx of local or systemic rxns</td>\n      <td>~ ()~~~In patient</td>\n      <td>890278001</td>\n      <td>1</td>\n      <td>NaN</td>\n      <td>NaN</td>\n      <td>NaN</td>\n      <td>NaN</td>\n      <td>NaN</td>\n    </tr>\n    <tr>\n      <th>...</th>\n      <td>...</td>\n      <td>...</td>\n      <td>...</td>\n      <td>...</td>\n      <td>...</td>\n      <td>...</td>\n      <td>...</td>\n      <td>...</td>\n      <td>...</td>\n      <td>...</td>\n      <td>...</td>\n      <td>...</td>\n      <td>...</td>\n      <td>...</td>\n      <td>...</td>\n      <td>...</td>\n      <td>...</td>\n      <td>...</td>\n      <td>...</td>\n      <td>...</td>\n      <td>...</td>\n    </tr>\n    <tr>\n      <th>2097</th>\n      <td>27269</td>\n      <td>12/31/1990</td>\n      <td>OK</td>\n      <td>1.8</td>\n      <td>NaN</td>\n      <td>NaN</td>\n      <td>M</td>\n      <td>NaN</td>\n      <td>3 days /p vax given bright red hard lumps invo...</td>\n      <td>NaN</td>\n      <td>...</td>\n      <td>NaN</td>\n      <td>NaN</td>\n      <td>~ ()~~~In patient</td>\n      <td>900120701</td>\n      <td>1</td>\n      <td>NaN</td>\n      <td>NaN</td>\n      <td>NaN</td>\n      <td>NaN</td>\n      <td>NaN</td>\n    </tr>\n    <tr>\n      <th>2098</th>\n      <td>27270</td>\n      <td>12/31/1990</td>\n      <td>NY</td>\n      <td>5.0</td>\n      <td>NaN</td>\n      <td>NaN</td>\n      <td>M</td>\n      <td>NaN</td>\n      <td>/P vax pt has lipoatrophy of the buttocks.  Hi...</td>\n      <td>NaN</td>\n      <td>...</td>\n      <td>NaN</td>\n      <td>NaN</td>\n      <td>~ ()~~~In patient</td>\n      <td>900120601</td>\n      <td>1</td>\n      <td>NaN</td>\n      <td>NaN</td>\n      <td>NaN</td>\n      <td>NaN</td>\n      <td>NaN</td>\n    </tr>\n    <tr>\n      <th>2099</th>\n      <td>27271</td>\n      <td>12/31/1990</td>\n      <td>IL</td>\n      <td>0.2</td>\n      <td>NaN</td>\n      <td>NaN</td>\n      <td>U</td>\n      <td>NaN</td>\n      <td>2 wks following DTP/OPV vax, child developed h...</td>\n      <td>NaN</td>\n      <td>...</td>\n      <td>NaN</td>\n      <td>NaN</td>\n      <td>~ ()~~~In patient</td>\n      <td>900150401</td>\n      <td>1</td>\n      <td>NaN</td>\n      <td>NaN</td>\n      <td>NaN</td>\n      <td>NaN</td>\n      <td>NaN</td>\n    </tr>\n    <tr>\n      <th>2100</th>\n      <td>27272</td>\n      <td>12/31/1990</td>\n      <td>TX</td>\n      <td>1.5</td>\n      <td>NaN</td>\n      <td>NaN</td>\n      <td>F</td>\n      <td>NaN</td>\n      <td>Received OPV/DTP vax &amp; next day developed hive...</td>\n      <td>NaN</td>\n      <td>...</td>\n      <td>NaN</td>\n      <td>NaN</td>\n      <td>~ ()~~~In patient</td>\n      <td>900143101</td>\n      <td>1</td>\n      <td>NaN</td>\n      <td>NaN</td>\n      <td>NaN</td>\n      <td>NaN</td>\n      <td>NaN</td>\n    </tr>\n    <tr>\n      <th>2101</th>\n      <td>27273</td>\n      <td>12/31/1990</td>\n      <td>CA</td>\n      <td>0.3</td>\n      <td>NaN</td>\n      <td>NaN</td>\n      <td>M</td>\n      <td>NaN</td>\n      <td>At 2 mo. old infant received DTP, 6 hrs later ...</td>\n      <td>NaN</td>\n      <td>...</td>\n      <td>NaN</td>\n      <td>NaN</td>\n      <td>~ ()~~~In patient</td>\n      <td>900141201</td>\n      <td>1</td>\n      <td>NaN</td>\n      <td>NaN</td>\n      <td>NaN</td>\n      <td>NaN</td>\n      <td>NaN</td>\n    </tr>\n  </tbody>\n</table>\n<p>2102 rows × 35 columns</p>\n</div>"
     },
     "execution_count": 5,
     "metadata": {},
     "output_type": "execute_result"
    }
   ],
   "source": [
    "data3[]"
   ],
   "metadata": {
    "collapsed": false,
    "ExecuteTime": {
     "end_time": "2024-02-21T10:48:17.382651Z",
     "start_time": "2024-02-21T10:48:17.367132Z"
    }
   },
   "id": "800a4fbfce0db062",
   "execution_count": 5
  },
  {
   "cell_type": "code",
   "outputs": [],
   "source": [],
   "metadata": {
    "collapsed": false
   },
   "id": "66fa8e0d308c998a"
  }
 ],
 "metadata": {
  "kernelspec": {
   "display_name": "Python 3",
   "language": "python",
   "name": "python3"
  },
  "language_info": {
   "codemirror_mode": {
    "name": "ipython",
    "version": 2
   },
   "file_extension": ".py",
   "mimetype": "text/x-python",
   "name": "python",
   "nbconvert_exporter": "python",
   "pygments_lexer": "ipython2",
   "version": "2.7.6"
  }
 },
 "nbformat": 4,
 "nbformat_minor": 5
}

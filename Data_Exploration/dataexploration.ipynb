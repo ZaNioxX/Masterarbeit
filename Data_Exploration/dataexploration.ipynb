{
 "cells": [
  {
   "cell_type": "code",
   "outputs": [],
   "source": [
    "import pandas as pd"
   ],
   "metadata": {
    "collapsed": false,
    "ExecuteTime": {
     "end_time": "2024-01-23T16:38:25.219631Z",
     "start_time": "2024-01-23T16:38:24.706956Z"
    }
   },
   "id": "294985f75b8c9f9a",
   "execution_count": 3
  },
  {
   "cell_type": "markdown",
   "source": [
    "# Look if the amount and/or names of the columns changed over the years"
   ],
   "metadata": {
    "collapsed": false
   },
   "id": "40d8cbcf7249b5fc"
  },
  {
   "cell_type": "code",
   "outputs": [
    {
     "name": "stderr",
     "output_type": "stream",
     "text": [
      "/var/folders/5g/yyzx5_551v1dz53h3hnm2nmw0000gn/T/ipykernel_30235/3430267076.py:1: DtypeWarning: Columns (7,12,15,23,31) have mixed types. Specify dtype option on import or set low_memory=False.\n",
      "  data_1990 = pd.read_csv('/Users/sep/Documents/HAW/Masterarbeit/Daten.nosync/2023VAERSDATA.csv', encoding=\"Iso-8859-1\")\n"
     ]
    }
   ],
   "source": [
    "data_1990 = pd.read_csv('/Users/sep/Documents/HAW/Masterarbeit/Daten.nosync/1990VAERSDATA.csv', encoding=\"Iso-8859-1\")"
   ],
   "metadata": {
    "collapsed": true,
    "ExecuteTime": {
     "end_time": "2024-01-23T16:39:32.163352Z",
     "start_time": "2024-01-23T16:39:31.011442Z"
    }
   },
   "id": "initial_id",
   "execution_count": 8
  },
  {
   "cell_type": "code",
   "outputs": [
    {
     "data": {
      "text/plain": "array([1])"
     },
     "execution_count": 7,
     "metadata": {},
     "output_type": "execute_result"
    }
   ],
   "source": [
    "data_1990.head()"
   ],
   "metadata": {
    "collapsed": false,
    "ExecuteTime": {
     "end_time": "2024-01-23T16:39:21.021620Z",
     "start_time": "2024-01-23T16:39:21.016340Z"
    }
   },
   "id": "fd65446809b7e9b4",
   "execution_count": 7
  },
  {
   "cell_type": "code",
   "outputs": [],
   "source": [
    "vaccines_2021 = pd.read_csv('/Users/sep/Documents/HAW/Masterarbeit/Daten.nosync/2021VAERSVAX.csv', encoding=\"Iso-8859-1\")"
   ],
   "metadata": {
    "collapsed": false,
    "ExecuteTime": {
     "end_time": "2024-01-23T16:40:48.332474Z",
     "start_time": "2024-01-23T16:40:39.991256Z"
    }
   },
   "id": "1ff185d39e106946",
   "execution_count": 13
  },
  {
   "cell_type": "code",
   "outputs": [
    {
     "data": {
      "text/plain": "array([2, 1])"
     },
     "execution_count": 14,
     "metadata": {},
     "output_type": "execute_result"
    }
   ],
   "source": [
    "vaccines_2021"
   ],
   "metadata": {
    "collapsed": false,
    "ExecuteTime": {
     "end_time": "2024-01-23T16:40:49.868207Z",
     "start_time": "2024-01-23T16:40:49.851869Z"
    }
   },
   "id": "3a5f8e6f11638575",
   "execution_count": 14
  },
  {
   "cell_type": "code",
   "outputs": [],
   "source": [
    "symptoms_1990 = pd.read_csv('/Users/sep/Documents/HAW/Masterarbeit/Daten.nosync/1990VAERSSYMPTOMS.csv', encoding=\"Iso-8859-1\")"
   ],
   "metadata": {
    "collapsed": false,
    "ExecuteTime": {
     "end_time": "2024-01-03T02:19:59.598443Z",
     "start_time": "2024-01-03T02:19:59.582282Z"
    }
   },
   "id": "cac237004c30414b",
   "execution_count": 56
  },
  {
   "cell_type": "code",
   "outputs": [
    {
     "data": {
      "text/plain": "   VAERS_ID    SYMPTOM1  SYMPTOMVERSION1               SYMPTOM2  \\\n0     25001   Agitation              8.1                    NaN   \n1     25003    Delirium              8.1            Hypokinesia   \n2     25004      Chills              8.1     Dermatitis contact   \n3     25005   Arthritis              8.1  Injection site oedema   \n4     25006  Convulsion              8.1              Dizziness   \n\n   SYMPTOMVERSION2                 SYMPTOM3  SYMPTOMVERSION3     SYMPTOM4  \\\n0              NaN                      NaN              NaN          NaN   \n1              8.1                Hypotonia              8.1          NaN   \n2              8.1           Oedema genital              8.1  Pelvic pain   \n3              8.1  Injection site reaction              8.1          NaN   \n4              8.1                      NaN              NaN          NaN   \n\n   SYMPTOMVERSION4 SYMPTOM5  SYMPTOMVERSION5  \n0              NaN      NaN              NaN  \n1              NaN      NaN              NaN  \n2              8.1      NaN              NaN  \n3              NaN      NaN              NaN  \n4              NaN      NaN              NaN  ",
      "text/html": "<div>\n<style scoped>\n    .dataframe tbody tr th:only-of-type {\n        vertical-align: middle;\n    }\n\n    .dataframe tbody tr th {\n        vertical-align: top;\n    }\n\n    .dataframe thead th {\n        text-align: right;\n    }\n</style>\n<table border=\"1\" class=\"dataframe\">\n  <thead>\n    <tr style=\"text-align: right;\">\n      <th></th>\n      <th>VAERS_ID</th>\n      <th>SYMPTOM1</th>\n      <th>SYMPTOMVERSION1</th>\n      <th>SYMPTOM2</th>\n      <th>SYMPTOMVERSION2</th>\n      <th>SYMPTOM3</th>\n      <th>SYMPTOMVERSION3</th>\n      <th>SYMPTOM4</th>\n      <th>SYMPTOMVERSION4</th>\n      <th>SYMPTOM5</th>\n      <th>SYMPTOMVERSION5</th>\n    </tr>\n  </thead>\n  <tbody>\n    <tr>\n      <th>0</th>\n      <td>25001</td>\n      <td>Agitation</td>\n      <td>8.1</td>\n      <td>NaN</td>\n      <td>NaN</td>\n      <td>NaN</td>\n      <td>NaN</td>\n      <td>NaN</td>\n      <td>NaN</td>\n      <td>NaN</td>\n      <td>NaN</td>\n    </tr>\n    <tr>\n      <th>1</th>\n      <td>25003</td>\n      <td>Delirium</td>\n      <td>8.1</td>\n      <td>Hypokinesia</td>\n      <td>8.1</td>\n      <td>Hypotonia</td>\n      <td>8.1</td>\n      <td>NaN</td>\n      <td>NaN</td>\n      <td>NaN</td>\n      <td>NaN</td>\n    </tr>\n    <tr>\n      <th>2</th>\n      <td>25004</td>\n      <td>Chills</td>\n      <td>8.1</td>\n      <td>Dermatitis contact</td>\n      <td>8.1</td>\n      <td>Oedema genital</td>\n      <td>8.1</td>\n      <td>Pelvic pain</td>\n      <td>8.1</td>\n      <td>NaN</td>\n      <td>NaN</td>\n    </tr>\n    <tr>\n      <th>3</th>\n      <td>25005</td>\n      <td>Arthritis</td>\n      <td>8.1</td>\n      <td>Injection site oedema</td>\n      <td>8.1</td>\n      <td>Injection site reaction</td>\n      <td>8.1</td>\n      <td>NaN</td>\n      <td>NaN</td>\n      <td>NaN</td>\n      <td>NaN</td>\n    </tr>\n    <tr>\n      <th>4</th>\n      <td>25006</td>\n      <td>Convulsion</td>\n      <td>8.1</td>\n      <td>Dizziness</td>\n      <td>8.1</td>\n      <td>NaN</td>\n      <td>NaN</td>\n      <td>NaN</td>\n      <td>NaN</td>\n      <td>NaN</td>\n      <td>NaN</td>\n    </tr>\n  </tbody>\n</table>\n</div>"
     },
     "execution_count": 57,
     "metadata": {},
     "output_type": "execute_result"
    }
   ],
   "source": [
    "symptoms_1990.head()"
   ],
   "metadata": {
    "collapsed": false,
    "ExecuteTime": {
     "end_time": "2024-01-03T02:20:06.279771Z",
     "start_time": "2024-01-03T02:20:06.265097Z"
    }
   },
   "id": "1de6a89b9b690d6a",
   "execution_count": 57
  },
  {
   "cell_type": "code",
   "outputs": [
    {
     "data": {
      "text/plain": "2102"
     },
     "execution_count": 22,
     "metadata": {},
     "output_type": "execute_result"
    }
   ],
   "source": [
    "num_entries = len(data_1990)\n",
    "num_entries"
   ],
   "metadata": {
    "collapsed": false,
    "ExecuteTime": {
     "end_time": "2024-01-02T18:20:44.786884Z",
     "start_time": "2024-01-02T18:20:44.785110Z"
    }
   },
   "id": "288193b5f5bfca39",
   "execution_count": 22
  },
  {
   "cell_type": "markdown",
   "source": [
    "# Amount of different vaccines"
   ],
   "metadata": {
    "collapsed": false
   },
   "id": "6e1924f6d309d096"
  },
  {
   "cell_type": "code",
   "outputs": [
    {
     "name": "stdout",
     "output_type": "stream",
     "text": [
      "Total number of different vaccine types (1990 - 2023): 100\n"
     ]
    }
   ],
   "source": [
    "import pandas as pd\n",
    "\n",
    "unique_vax_types = set()\n",
    "\n",
    "for year in range(1990, 2024):\n",
    "    try:\n",
    "        vaccine_data_path = f\"/Users/sep/Documents/HAW/Masterarbeit/Daten.nosync/{year}VAERSVAX.csv\"\n",
    "        vaccine_data = pd.read_csv(vaccine_data_path, encoding=\"Iso-8859-1\", low_memory=False)\n",
    "\n",
    "        # Update the set of unique vaccine types\n",
    "        unique_vax_types.update(vaccine_data['VAX_TYPE'].unique())\n",
    "    except Exception as e:\n",
    "        print(f\"An error occurred for year {year}: {e}\")\n",
    "\n",
    "# Total number of different vaccine types\n",
    "total_different_vax_types = len(unique_vax_types)\n",
    "print(f\"Total number of different vaccine types (1990 - 2023): {total_different_vax_types}\")\n"
   ],
   "metadata": {
    "collapsed": false,
    "ExecuteTime": {
     "end_time": "2024-01-04T13:40:35.044354Z",
     "start_time": "2024-01-04T13:40:33.478434Z"
    }
   },
   "id": "b9da95832a68f485",
   "execution_count": 61
  },
  {
   "cell_type": "markdown",
   "source": [
    "# Entries without State"
   ],
   "metadata": {
    "collapsed": false
   },
   "id": "7415d4b7cdc15d07"
  },
  {
   "cell_type": "code",
   "outputs": [
    {
     "name": "stdout",
     "output_type": "stream",
     "text": [
      "Year 1990: 2070 entries with 'STATE' attribute, 32 entries without 'STATE' attribute\n",
      "Year 1991: 9706 entries with 'STATE' attribute, 227 entries without 'STATE' attribute\n",
      "Year 1992: 10339 entries with 'STATE' attribute, 353 entries without 'STATE' attribute\n",
      "Year 1993: 9983 entries with 'STATE' attribute, 164 entries without 'STATE' attribute\n",
      "Year 1994: 10127 entries with 'STATE' attribute, 66 entries without 'STATE' attribute\n",
      "Year 1995: 9941 entries with 'STATE' attribute, 60 entries without 'STATE' attribute\n",
      "Year 1996: 10713 entries with 'STATE' attribute, 58 entries without 'STATE' attribute\n",
      "Year 1997: 10929 entries with 'STATE' attribute, 77 entries without 'STATE' attribute\n",
      "Year 1998: 9791 entries with 'STATE' attribute, 158 entries without 'STATE' attribute\n",
      "Year 1999: 11981 entries with 'STATE' attribute, 142 entries without 'STATE' attribute\n",
      "Year 2000: 13761 entries with 'STATE' attribute, 344 entries without 'STATE' attribute\n",
      "Year 2001: 13025 entries with 'STATE' attribute, 335 entries without 'STATE' attribute\n",
      "Year 2002: 12928 entries with 'STATE' attribute, 1146 entries without 'STATE' attribute\n",
      "Year 2003: 15809 entries with 'STATE' attribute, 945 entries without 'STATE' attribute\n",
      "Year 2004: 13689 entries with 'STATE' attribute, 1632 entries without 'STATE' attribute\n",
      "Year 2005: 14337 entries with 'STATE' attribute, 1243 entries without 'STATE' attribute\n",
      "Year 2006: 16048 entries with 'STATE' attribute, 1261 entries without 'STATE' attribute\n",
      "Year 2007: 25283 entries with 'STATE' attribute, 2943 entries without 'STATE' attribute\n",
      "Year 2008: 26823 entries with 'STATE' attribute, 2943 entries without 'STATE' attribute\n",
      "Year 2009: 30888 entries with 'STATE' attribute, 1898 entries without 'STATE' attribute\n",
      "Year 2010: 29194 entries with 'STATE' attribute, 2388 entries without 'STATE' attribute\n",
      "Year 2011: 23398 entries with 'STATE' attribute, 2011 entries without 'STATE' attribute\n",
      "Year 2012: 23294 entries with 'STATE' attribute, 3374 entries without 'STATE' attribute\n",
      "Year 2013: 24115 entries with 'STATE' attribute, 5622 entries without 'STATE' attribute\n",
      "Year 2014: 24666 entries with 'STATE' attribute, 9673 entries without 'STATE' attribute\n",
      "Year 2015: 27052 entries with 'STATE' attribute, 17370 entries without 'STATE' attribute\n",
      "Year 2016: 30586 entries with 'STATE' attribute, 15119 entries without 'STATE' attribute\n",
      "Year 2017: 35661 entries with 'STATE' attribute, 3249 entries without 'STATE' attribute\n",
      "Year 2018: 44351 entries with 'STATE' attribute, 4784 entries without 'STATE' attribute\n",
      "Year 2019: 44134 entries with 'STATE' attribute, 4303 entries without 'STATE' attribute\n",
      "Year 2020: 42726 entries with 'STATE' attribute, 6915 entries without 'STATE' attribute\n",
      "Year 2021: 637195 entries with 'STATE' attribute, 115902 entries without 'STATE' attribute\n",
      "Year 2022: 198479 entries with 'STATE' attribute, 48536 entries without 'STATE' attribute\n",
      "Year 2023: 76898 entries with 'STATE' attribute, 21984 entries without 'STATE' attribute\n",
      "Total entries with 'STATE' attribute for all years: 1539920\n",
      "Total entries without 'STATE' attribute for all years: 277257\n",
      "Total entries for all years: 1817177\n"
     ]
    }
   ],
   "source": [
    "import pandas as pd\n",
    "import os\n",
    "\n",
    "# Initialize dictionaries to store the number of entries with and without the \"STATE\" attribute per year\n",
    "entries_with_state = {}\n",
    "entries_without_state = {}\n",
    "\n",
    "# Loop through each year from 1990 to 2023\n",
    "for year in range(1990, 2024):\n",
    "    try:\n",
    "        # Construct the filename\n",
    "        path = \"/Users/sep/Documents/HAW/Masterarbeit/Daten.nosync/\"\n",
    "        filename = f\"{year}VAERSDATA.csv\"\n",
    "\n",
    "        # Load the CSV file\n",
    "        data = pd.read_csv(path + filename, encoding=\"Iso-8859-1\", low_memory=False)\n",
    "\n",
    "        # Count the number of entries with and without the \"STATE\" attribute\n",
    "        with_state_count = len(data[data['STATE'].notna()])\n",
    "        without_state_count = len(data[data['STATE'].isna()])\n",
    "\n",
    "        # Store the counts in the dictionaries\n",
    "        entries_with_state[year] = with_state_count\n",
    "        entries_without_state[year] = without_state_count\n",
    "    except FileNotFoundError:\n",
    "        print(f\"File for year {year} not found.\")\n",
    "    except Exception as e:\n",
    "        print(f\"An error occurred for year {year}: {e}\")\n",
    "\n",
    "# Calculate the total number of entries with and without the \"STATE\" attribute for all years\n",
    "total_entries_with_state = sum(entries_with_state.values())\n",
    "total_entries_without_state = sum(entries_without_state.values())\n",
    "\n",
    "# Calculate the total number of entries for all years\n",
    "total_entries = total_entries_with_state + total_entries_without_state\n",
    "\n",
    "# Print the counts for each year, the grand totals, and the total number of entries\n",
    "for year in range(1990, 2024):\n",
    "    print(f\"Year {year}: {entries_with_state[year]} entries with 'STATE' attribute, {entries_without_state[year]} entries without 'STATE' attribute\")\n",
    "\n",
    "print(f\"Total entries with 'STATE' attribute for all years: {total_entries_with_state}\")\n",
    "print(f\"Total entries without 'STATE' attribute for all years: {total_entries_without_state}\")\n",
    "print(f\"Total entries for all years: {total_entries}\")\n"
   ],
   "metadata": {
    "collapsed": false,
    "ExecuteTime": {
     "end_time": "2024-01-19T15:07:00.476181Z",
     "start_time": "2024-01-19T15:06:44.767805Z"
    }
   },
   "id": "d5dc413a2e14c62c",
   "execution_count": 4
  },
  {
   "cell_type": "markdown",
   "source": [
    "# Track amount of duplicate VEAERS IDs in VAERSDATA"
   ],
   "metadata": {
    "collapsed": false
   },
   "id": "1df523bc3008d026"
  },
  {
   "cell_type": "code",
   "outputs": [
    {
     "name": "stdout",
     "output_type": "stream",
     "text": [
      "Total VAERS IDs that appear more than once: 0\n"
     ]
    }
   ],
   "source": [
    "import pandas as pd\n",
    "\n",
    "# Initialize a dictionary to store the count of each VAERS ID\n",
    "vaers_id_counts = {}\n",
    "\n",
    "# Loop through each year from 1990 to 2023\n",
    "for year in range(1990, 2024):\n",
    "    try:\n",
    "        # Construct the filename\n",
    "        path = \"/Users/sep/Documents/HAW/Masterarbeit/Daten.nosync/\"\n",
    "        filename = f\"{year}VAERSDATA.csv\"\n",
    "\n",
    "        # Load the CSV file\n",
    "        data = pd.read_csv(path + filename, encoding=\"Iso-8859-1\", low_memory=False)\n",
    "\n",
    "        # Count the occurrences of each VAERS ID\n",
    "        vaers_id_counts_year = data['VAERS_ID'].value_counts()\n",
    "\n",
    "        # Add the counts to the dictionary\n",
    "        vaers_id_counts.update(vaers_id_counts_year)\n",
    "    except FileNotFoundError:\n",
    "        print(f\"File for year {year} not found.\")\n",
    "    except Exception as e:\n",
    "        print(f\"An error occurred for year {year}: {e}\")\n",
    "\n",
    "# Find the VAERS IDs that appear more than once\n",
    "duplicate_vaers_ids = [vaers_id for vaers_id, count in vaers_id_counts.items() if count > 1]\n",
    "\n",
    "# Get the count of duplicate VAERS IDs\n",
    "count_duplicate_vaers_ids = len(duplicate_vaers_ids)\n",
    "\n",
    "print(f\"Total VAERS IDs that appear more than once: {count_duplicate_vaers_ids}\")\n"
   ],
   "metadata": {
    "collapsed": false,
    "ExecuteTime": {
     "end_time": "2024-01-19T15:18:55.711065Z",
     "start_time": "2024-01-19T15:18:36.651729Z"
    }
   },
   "id": "fee4301bb1f7ce3e",
   "execution_count": 7
  },
  {
   "cell_type": "markdown",
   "source": [
    "# Track amount of duplicate VEAERS IDs in VAERSVAX"
   ],
   "metadata": {
    "collapsed": false
   },
   "id": "1fe387fb82fc22e3"
  },
  {
   "cell_type": "code",
   "outputs": [
    {
     "name": "stdout",
     "output_type": "stream",
     "text": [
      "Total VAERS IDs that appear more than once: 281626\n"
     ]
    }
   ],
   "source": [
    "import pandas as pd\n",
    "\n",
    "# Initialize a dictionary to store the count of each VAERS ID\n",
    "vaers_id_counts = {}\n",
    "\n",
    "# Loop through each year from 1990 to 2023\n",
    "for year in range(1990, 2024):\n",
    "    try:\n",
    "        # Construct the filename\n",
    "        path = \"/Users/sep/Documents/HAW/Masterarbeit/Daten.nosync/\"\n",
    "        filename = f\"{year}VAERSVAX.csv\"\n",
    "\n",
    "        # Load the CSV file\n",
    "        data = pd.read_csv(path + filename, encoding=\"Iso-8859-1\", low_memory=False)\n",
    "\n",
    "        # Count the occurrences of each VAERS ID\n",
    "        vaers_id_counts_year = data['VAERS_ID'].value_counts()\n",
    "\n",
    "        # Add the counts to the dictionary\n",
    "        vaers_id_counts.update(vaers_id_counts_year)\n",
    "    except FileNotFoundError:\n",
    "        print(f\"File for year {year} not found.\")\n",
    "    except Exception as e:\n",
    "        print(f\"An error occurred for year {year}: {e}\")\n",
    "\n",
    "# Find the VAERS IDs that appear more than once\n",
    "duplicate_vaers_ids = [vaers_id for vaers_id, count in vaers_id_counts.items() if count > 1]\n",
    "\n",
    "# Get the count of duplicate VAERS IDs\n",
    "count_duplicate_vaers_ids = len(duplicate_vaers_ids)\n",
    "\n",
    "print(f\"Total VAERS IDs that appear more than once: {count_duplicate_vaers_ids}\")\n"
   ],
   "metadata": {
    "collapsed": false,
    "ExecuteTime": {
     "end_time": "2024-01-19T15:19:00.091930Z",
     "start_time": "2024-01-19T15:18:55.731797Z"
    }
   },
   "id": "ab96e9d3c4c3f3cf",
   "execution_count": 8
  },
  {
   "cell_type": "code",
   "outputs": [
    {
     "name": "stdout",
     "output_type": "stream",
     "text": [
      "    VAERS_ID    RECVDATE STATE  AGE_YRS  CAGE_YR  CAGE_MO SEX RPT_DATE  \\\n",
      "13   2547744  01/01/2023    NY     37.0     37.0      NaN   F      NaN   \n",
      "\n",
      "                                         SYMPTOM_TEXT DIED  ... CUR_ILL  \\\n",
      "13  Upon receiving the Covid booster I started wit...  NaN  ...    none   \n",
      "\n",
      "                                  HISTORY PRIOR_VAX SPLTTYPE  FORM_VERS  \\\n",
      "13  hypertension well controlled and GERD       NaN      NaN          2   \n",
      "\n",
      "   TODAYS_DATE BIRTH_DEFECT OFC_VISIT ER_ED_VISIT         ALLERGIES  \n",
      "13  01/01/2023          NaN       NaN         NaN  cipro, oxycodone  \n",
      "\n",
      "[1 rows x 35 columns]\n"
     ]
    }
   ],
   "source": [
    "import pandas as pd\n",
    "\n",
    "# Path to your VAERSDATA file\n",
    "filename = \"/Users/sep/Documents/HAW/Masterarbeit/Daten.nosync/2023VAERSDATA.csv\"  # Replace with the path to your VAERSDATA file\n",
    "\n",
    "# Load the dataset\n",
    "data_df = pd.read_csv(filename, encoding=\"Iso-8859-1\", low_memory=False)\n",
    "\n",
    "# Filter the dataset for the specific VAERS_ID\n",
    "specific_entry = data_df[data_df['VAERS_ID'] == 2547744]\n",
    "\n",
    "# Display the entry\n",
    "print(specific_entry)\n"
   ],
   "metadata": {
    "collapsed": false,
    "ExecuteTime": {
     "end_time": "2024-01-25T15:27:40.030531Z",
     "start_time": "2024-01-25T15:27:38.869996Z"
    }
   },
   "id": "c6df8152c010ec90",
   "execution_count": 19
  },
  {
   "cell_type": "code",
   "outputs": [
    {
     "data": {
      "text/plain": "13    Upon receiving the Covid booster I started wit...\nName: SYMPTOM_TEXT, dtype: object"
     },
     "execution_count": 24,
     "metadata": {},
     "output_type": "execute_result"
    }
   ],
   "source": [
    "specific_entry['SYMPTOM_TEXT']"
   ],
   "metadata": {
    "collapsed": false,
    "ExecuteTime": {
     "end_time": "2024-01-25T15:29:14.344743Z",
     "start_time": "2024-01-25T15:29:14.341043Z"
    }
   },
   "id": "4f07e4c3a8a60d9d",
   "execution_count": 24
  },
  {
   "cell_type": "code",
   "outputs": [],
   "source": [
    "    file_path = f\"/Users/sep/Documents/HAW/Masterarbeit/Daten.nosync/2023VAERSSYMPTOMS.csv\"\n",
    "    yearly_symptoms_df = pd.read_csv(file_path, encoding='ISO-8859-1')"
   ],
   "metadata": {
    "collapsed": false,
    "ExecuteTime": {
     "end_time": "2024-01-30T09:49:09.254004Z",
     "start_time": "2024-01-30T09:49:09.120145Z"
    }
   },
   "id": "b91bc315c14e3a67",
   "execution_count": 25
  },
  {
   "cell_type": "code",
   "outputs": [
    {
     "data": {
      "text/plain": "        VAERS_ID                             SYMPTOM1  SYMPTOMVERSION1  \\\n0        2547730  Blood pressure orthostatic abnormal             25.1   \n1        2547730                          Head injury             25.1   \n2        2547730             SARS-CoV-2 test positive             25.1   \n3        2547731            Product preparation issue             25.1   \n4        2547732        Injury associated with device             25.1   \n...          ...                                  ...              ...   \n127069   2717536                    Pain in extremity             26.1   \n127070   2717537                     Liver transplant             26.1   \n127071   2717538                        Breast cancer             26.1   \n127072   2717539                             Asthenia             26.1   \n127073   2717539                   Mobility decreased             26.1   \n\n                          SYMPTOM2  SYMPTOMVERSION2           SYMPTOM3  \\\n0                         COVID-19             25.1               Coma   \n1                         Headache             25.1    Laboratory test   \n2          Unresponsive to stimuli             25.1              X-ray   \n3                              NaN              NaN                NaN   \n4                              NaN              NaN                NaN   \n...                            ...              ...                ...   \n127069         Peripheral swelling             26.1                NaN   \n127070                     Malaise             26.1                NaN   \n127071                         NaN              NaN                NaN   \n127072                  Asthenopia             26.1            Fatigue   \n127073  Musculoskeletal discomfort             26.1  Pain in extremity   \n\n        SYMPTOMVERSION3                    SYMPTOM4  SYMPTOMVERSION4  \\\n0                  25.1       Computerised tomogram             25.1   \n1                  25.1  Magnetic resonance imaging             25.1   \n2                  25.1                         NaN              NaN   \n3                   NaN                         NaN              NaN   \n4                   NaN                         NaN              NaN   \n...                 ...                         ...              ...   \n127069              NaN                         NaN              NaN   \n127070              NaN                         NaN              NaN   \n127071              NaN                         NaN              NaN   \n127072             26.1              Gait inability             26.1   \n127073             26.1                         NaN              NaN   \n\n                                 SYMPTOM5  SYMPTOMVERSION5  \n0                  Exposure to SARS-CoV-2             25.1  \n1       SARS-CoV-2 antibody test negative             25.1  \n2                                     NaN              NaN  \n3                                     NaN              NaN  \n4                                     NaN              NaN  \n...                                   ...              ...  \n127069                                NaN              NaN  \n127070                                NaN              NaN  \n127071                                NaN              NaN  \n127072                      Lymphadenitis             26.1  \n127073                                NaN              NaN  \n\n[127074 rows x 11 columns]",
      "text/html": "<div>\n<style scoped>\n    .dataframe tbody tr th:only-of-type {\n        vertical-align: middle;\n    }\n\n    .dataframe tbody tr th {\n        vertical-align: top;\n    }\n\n    .dataframe thead th {\n        text-align: right;\n    }\n</style>\n<table border=\"1\" class=\"dataframe\">\n  <thead>\n    <tr style=\"text-align: right;\">\n      <th></th>\n      <th>VAERS_ID</th>\n      <th>SYMPTOM1</th>\n      <th>SYMPTOMVERSION1</th>\n      <th>SYMPTOM2</th>\n      <th>SYMPTOMVERSION2</th>\n      <th>SYMPTOM3</th>\n      <th>SYMPTOMVERSION3</th>\n      <th>SYMPTOM4</th>\n      <th>SYMPTOMVERSION4</th>\n      <th>SYMPTOM5</th>\n      <th>SYMPTOMVERSION5</th>\n    </tr>\n  </thead>\n  <tbody>\n    <tr>\n      <th>0</th>\n      <td>2547730</td>\n      <td>Blood pressure orthostatic abnormal</td>\n      <td>25.1</td>\n      <td>COVID-19</td>\n      <td>25.1</td>\n      <td>Coma</td>\n      <td>25.1</td>\n      <td>Computerised tomogram</td>\n      <td>25.1</td>\n      <td>Exposure to SARS-CoV-2</td>\n      <td>25.1</td>\n    </tr>\n    <tr>\n      <th>1</th>\n      <td>2547730</td>\n      <td>Head injury</td>\n      <td>25.1</td>\n      <td>Headache</td>\n      <td>25.1</td>\n      <td>Laboratory test</td>\n      <td>25.1</td>\n      <td>Magnetic resonance imaging</td>\n      <td>25.1</td>\n      <td>SARS-CoV-2 antibody test negative</td>\n      <td>25.1</td>\n    </tr>\n    <tr>\n      <th>2</th>\n      <td>2547730</td>\n      <td>SARS-CoV-2 test positive</td>\n      <td>25.1</td>\n      <td>Unresponsive to stimuli</td>\n      <td>25.1</td>\n      <td>X-ray</td>\n      <td>25.1</td>\n      <td>NaN</td>\n      <td>NaN</td>\n      <td>NaN</td>\n      <td>NaN</td>\n    </tr>\n    <tr>\n      <th>3</th>\n      <td>2547731</td>\n      <td>Product preparation issue</td>\n      <td>25.1</td>\n      <td>NaN</td>\n      <td>NaN</td>\n      <td>NaN</td>\n      <td>NaN</td>\n      <td>NaN</td>\n      <td>NaN</td>\n      <td>NaN</td>\n      <td>NaN</td>\n    </tr>\n    <tr>\n      <th>4</th>\n      <td>2547732</td>\n      <td>Injury associated with device</td>\n      <td>25.1</td>\n      <td>NaN</td>\n      <td>NaN</td>\n      <td>NaN</td>\n      <td>NaN</td>\n      <td>NaN</td>\n      <td>NaN</td>\n      <td>NaN</td>\n      <td>NaN</td>\n    </tr>\n    <tr>\n      <th>...</th>\n      <td>...</td>\n      <td>...</td>\n      <td>...</td>\n      <td>...</td>\n      <td>...</td>\n      <td>...</td>\n      <td>...</td>\n      <td>...</td>\n      <td>...</td>\n      <td>...</td>\n      <td>...</td>\n    </tr>\n    <tr>\n      <th>127069</th>\n      <td>2717536</td>\n      <td>Pain in extremity</td>\n      <td>26.1</td>\n      <td>Peripheral swelling</td>\n      <td>26.1</td>\n      <td>NaN</td>\n      <td>NaN</td>\n      <td>NaN</td>\n      <td>NaN</td>\n      <td>NaN</td>\n      <td>NaN</td>\n    </tr>\n    <tr>\n      <th>127070</th>\n      <td>2717537</td>\n      <td>Liver transplant</td>\n      <td>26.1</td>\n      <td>Malaise</td>\n      <td>26.1</td>\n      <td>NaN</td>\n      <td>NaN</td>\n      <td>NaN</td>\n      <td>NaN</td>\n      <td>NaN</td>\n      <td>NaN</td>\n    </tr>\n    <tr>\n      <th>127071</th>\n      <td>2717538</td>\n      <td>Breast cancer</td>\n      <td>26.1</td>\n      <td>NaN</td>\n      <td>NaN</td>\n      <td>NaN</td>\n      <td>NaN</td>\n      <td>NaN</td>\n      <td>NaN</td>\n      <td>NaN</td>\n      <td>NaN</td>\n    </tr>\n    <tr>\n      <th>127072</th>\n      <td>2717539</td>\n      <td>Asthenia</td>\n      <td>26.1</td>\n      <td>Asthenopia</td>\n      <td>26.1</td>\n      <td>Fatigue</td>\n      <td>26.1</td>\n      <td>Gait inability</td>\n      <td>26.1</td>\n      <td>Lymphadenitis</td>\n      <td>26.1</td>\n    </tr>\n    <tr>\n      <th>127073</th>\n      <td>2717539</td>\n      <td>Mobility decreased</td>\n      <td>26.1</td>\n      <td>Musculoskeletal discomfort</td>\n      <td>26.1</td>\n      <td>Pain in extremity</td>\n      <td>26.1</td>\n      <td>NaN</td>\n      <td>NaN</td>\n      <td>NaN</td>\n      <td>NaN</td>\n    </tr>\n  </tbody>\n</table>\n<p>127074 rows × 11 columns</p>\n</div>"
     },
     "execution_count": 29,
     "metadata": {},
     "output_type": "execute_result"
    }
   ],
   "source": [
    "yearly_symptoms_df"
   ],
   "metadata": {
    "collapsed": false,
    "ExecuteTime": {
     "end_time": "2024-01-30T09:53:05.205801Z",
     "start_time": "2024-01-30T09:53:05.197853Z"
    }
   },
   "id": "195cd1637204e45b",
   "execution_count": 29
  },
  {
   "cell_type": "code",
   "outputs": [],
   "source": [
    "    file_path = f\"/Users/sep/Documents/HAW/Masterarbeit/Daten.nosync/2023VAERSVAX.csv\"\n",
    "    vax_yearly_symptoms_df = pd.read_csv(file_path, encoding='ISO-8859-1')"
   ],
   "metadata": {
    "collapsed": false,
    "ExecuteTime": {
     "end_time": "2024-01-30T09:51:02.835828Z",
     "start_time": "2024-01-30T09:51:02.729340Z"
    }
   },
   "id": "5ad0fcd306967be4",
   "execution_count": 27
  },
  {
   "cell_type": "code",
   "outputs": [
    {
     "data": {
      "text/plain": "        VAERS_ID   VAX_TYPE                     VAX_MANU   VAX_LOT  \\\n0        2547730    COVID19                      JANSSEN   1808982   \n1        2547731    COVID19              PFIZER\\BIONTECH    GK1657   \n2        2547732  COVID19-2                      MODERNA   141H22A   \n3        2547733    COVID19                      MODERNA   042h22a   \n4        2547734       TDAP  GLAXOSMITHKLINE BIOLOGICALS     KP547   \n...          ...        ...                          ...       ...   \n119356   2717532       FLU4               SANOFI PASTEUR  UT8144NA   \n119357   2717536        RSV  GLAXOSMITHKLINE BIOLOGICALS       UNK   \n119358   2717537     VARZOS  GLAXOSMITHKLINE BIOLOGICALS       NaN   \n119359   2717538    COVID19                      MODERNA       NaN   \n119360   2717539    COVID19                      MODERNA       NaN   \n\n       VAX_DOSE_SERIES VAX_ROUTE VAX_SITE  \\\n0                  UNK       SYR       AR   \n1                    3        IM       LA   \n2                    4        IM       LA   \n3                    1        IM       LA   \n4                    1        IM       LA   \n...                ...       ...      ...   \n119356             UNK        OT      NaN   \n119357             UNK       NaN      NaN   \n119358               1       NaN      NaN   \n119359             UNK       NaN      NaN   \n119360               6       NaN      NaN   \n\n                                           VAX_NAME  \n0                       COVID19 (COVID19 (JANSSEN))  \n1               COVID19 (COVID19 (PFIZER-BIONTECH))  \n2              COVID19 (COVID19 (MODERNA BIVALENT))  \n3                       COVID19 (COVID19 (MODERNA))  \n4                                   TDAP (BOOSTRIX)  \n...                                             ...  \n119356  INFLUENZA (SEASONAL) (FLUZONE QUADRIVALENT)  \n119357                                 RSV (AREXVY)  \n119358                            ZOSTER (SHINGRIX)  \n119359                  COVID19 (COVID19 (MODERNA))  \n119360                  COVID19 (COVID19 (MODERNA))  \n\n[119361 rows x 8 columns]",
      "text/html": "<div>\n<style scoped>\n    .dataframe tbody tr th:only-of-type {\n        vertical-align: middle;\n    }\n\n    .dataframe tbody tr th {\n        vertical-align: top;\n    }\n\n    .dataframe thead th {\n        text-align: right;\n    }\n</style>\n<table border=\"1\" class=\"dataframe\">\n  <thead>\n    <tr style=\"text-align: right;\">\n      <th></th>\n      <th>VAERS_ID</th>\n      <th>VAX_TYPE</th>\n      <th>VAX_MANU</th>\n      <th>VAX_LOT</th>\n      <th>VAX_DOSE_SERIES</th>\n      <th>VAX_ROUTE</th>\n      <th>VAX_SITE</th>\n      <th>VAX_NAME</th>\n    </tr>\n  </thead>\n  <tbody>\n    <tr>\n      <th>0</th>\n      <td>2547730</td>\n      <td>COVID19</td>\n      <td>JANSSEN</td>\n      <td>1808982</td>\n      <td>UNK</td>\n      <td>SYR</td>\n      <td>AR</td>\n      <td>COVID19 (COVID19 (JANSSEN))</td>\n    </tr>\n    <tr>\n      <th>1</th>\n      <td>2547731</td>\n      <td>COVID19</td>\n      <td>PFIZER\\BIONTECH</td>\n      <td>GK1657</td>\n      <td>3</td>\n      <td>IM</td>\n      <td>LA</td>\n      <td>COVID19 (COVID19 (PFIZER-BIONTECH))</td>\n    </tr>\n    <tr>\n      <th>2</th>\n      <td>2547732</td>\n      <td>COVID19-2</td>\n      <td>MODERNA</td>\n      <td>141H22A</td>\n      <td>4</td>\n      <td>IM</td>\n      <td>LA</td>\n      <td>COVID19 (COVID19 (MODERNA BIVALENT))</td>\n    </tr>\n    <tr>\n      <th>3</th>\n      <td>2547733</td>\n      <td>COVID19</td>\n      <td>MODERNA</td>\n      <td>042h22a</td>\n      <td>1</td>\n      <td>IM</td>\n      <td>LA</td>\n      <td>COVID19 (COVID19 (MODERNA))</td>\n    </tr>\n    <tr>\n      <th>4</th>\n      <td>2547734</td>\n      <td>TDAP</td>\n      <td>GLAXOSMITHKLINE BIOLOGICALS</td>\n      <td>KP547</td>\n      <td>1</td>\n      <td>IM</td>\n      <td>LA</td>\n      <td>TDAP (BOOSTRIX)</td>\n    </tr>\n    <tr>\n      <th>...</th>\n      <td>...</td>\n      <td>...</td>\n      <td>...</td>\n      <td>...</td>\n      <td>...</td>\n      <td>...</td>\n      <td>...</td>\n      <td>...</td>\n    </tr>\n    <tr>\n      <th>119356</th>\n      <td>2717532</td>\n      <td>FLU4</td>\n      <td>SANOFI PASTEUR</td>\n      <td>UT8144NA</td>\n      <td>UNK</td>\n      <td>OT</td>\n      <td>NaN</td>\n      <td>INFLUENZA (SEASONAL) (FLUZONE QUADRIVALENT)</td>\n    </tr>\n    <tr>\n      <th>119357</th>\n      <td>2717536</td>\n      <td>RSV</td>\n      <td>GLAXOSMITHKLINE BIOLOGICALS</td>\n      <td>UNK</td>\n      <td>UNK</td>\n      <td>NaN</td>\n      <td>NaN</td>\n      <td>RSV (AREXVY)</td>\n    </tr>\n    <tr>\n      <th>119358</th>\n      <td>2717537</td>\n      <td>VARZOS</td>\n      <td>GLAXOSMITHKLINE BIOLOGICALS</td>\n      <td>NaN</td>\n      <td>1</td>\n      <td>NaN</td>\n      <td>NaN</td>\n      <td>ZOSTER (SHINGRIX)</td>\n    </tr>\n    <tr>\n      <th>119359</th>\n      <td>2717538</td>\n      <td>COVID19</td>\n      <td>MODERNA</td>\n      <td>NaN</td>\n      <td>UNK</td>\n      <td>NaN</td>\n      <td>NaN</td>\n      <td>COVID19 (COVID19 (MODERNA))</td>\n    </tr>\n    <tr>\n      <th>119360</th>\n      <td>2717539</td>\n      <td>COVID19</td>\n      <td>MODERNA</td>\n      <td>NaN</td>\n      <td>6</td>\n      <td>NaN</td>\n      <td>NaN</td>\n      <td>COVID19 (COVID19 (MODERNA))</td>\n    </tr>\n  </tbody>\n</table>\n<p>119361 rows × 8 columns</p>\n</div>"
     },
     "execution_count": 28,
     "metadata": {},
     "output_type": "execute_result"
    }
   ],
   "source": [
    "vax_yearly_symptoms_df"
   ],
   "metadata": {
    "collapsed": false,
    "ExecuteTime": {
     "end_time": "2024-01-30T09:51:05.579911Z",
     "start_time": "2024-01-30T09:51:05.563411Z"
    }
   },
   "id": "e3565f61213a7c5e",
   "execution_count": 28
  },
  {
   "cell_type": "code",
   "outputs": [],
   "source": [],
   "metadata": {
    "collapsed": false
   },
   "id": "7aa5f1faccfee290"
  }
 ],
 "metadata": {
  "kernelspec": {
   "display_name": "Python 3",
   "language": "python",
   "name": "python3"
  },
  "language_info": {
   "codemirror_mode": {
    "name": "ipython",
    "version": 2
   },
   "file_extension": ".py",
   "mimetype": "text/x-python",
   "name": "python",
   "nbconvert_exporter": "python",
   "pygments_lexer": "ipython2",
   "version": "2.7.6"
  }
 },
 "nbformat": 4,
 "nbformat_minor": 5
}

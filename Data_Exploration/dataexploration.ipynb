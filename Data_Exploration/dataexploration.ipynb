{
 "cells": [
  {
   "cell_type": "code",
   "outputs": [],
   "source": [
    "import pandas as pd"
   ],
   "metadata": {
    "collapsed": false,
    "ExecuteTime": {
     "end_time": "2024-01-02T20:55:58.885672Z",
     "start_time": "2024-01-02T20:55:58.580383Z"
    }
   },
   "id": "294985f75b8c9f9a",
   "execution_count": 1
  },
  {
   "cell_type": "markdown",
   "source": [
    "# Look if the amount and/or names of the columns changed over the years"
   ],
   "metadata": {
    "collapsed": false
   },
   "id": "40d8cbcf7249b5fc"
  },
  {
   "cell_type": "code",
   "outputs": [],
   "source": [
    "data_1990 = pd.read_csv('/Users/sep/Documents/HAW/Masterarbeit/Daten.nosync/1990VAERSDATA.csv', encoding=\"Iso-8859-1\")"
   ],
   "metadata": {
    "collapsed": true,
    "ExecuteTime": {
     "end_time": "2024-01-02T21:58:42.559996Z",
     "start_time": "2024-01-02T21:58:42.516905Z"
    }
   },
   "id": "initial_id",
   "execution_count": 50
  },
  {
   "cell_type": "code",
   "outputs": [
    {
     "data": {
      "text/plain": "   VAERS_ID    RECVDATE STATE  AGE_YRS  CAGE_YR  CAGE_MO SEX RPT_DATE  \\\n0     25001  07/02/1990    WI      0.2      NaN      NaN   F      NaN   \n1     25003  07/02/1990    TX      0.8      NaN      NaN   M      NaN   \n2     25004  07/02/1990    NY      0.9      NaN      NaN   M      NaN   \n3     25005  07/02/1990    OK      NaN      NaN      NaN   U      NaN   \n4     25006  07/02/1990    OH     16.0     16.0      NaN   F      NaN   \n\n                                        SYMPTOM_TEXT DIED  ... CUR_ILL  \\\n0  Loud intense cry with screaming for 1 1/2 hrs....  NaN  ...     NaN   \n1  Hypotonic, Hyporesponsive episode, Infant died...    Y  ...     NaN   \n2  Pt developed chills for approx. 1 hr, felt ach...  NaN  ...     NaN   \n3  7 patients within 2 weeks have reported joint ...  NaN  ...     NaN   \n4  16 yr old female feeling faint & then had seiz...  NaN  ...     NaN   \n\n                           HISTORY          PRIOR_VAX   SPLTTYPE  FORM_VERS  \\\n0                              NaN                NaN        NaN          1   \n1                              NaN  ~ ()~~~In patient        NaN          1   \n2                              NaN  ~ ()~~~In patient  890269201          1   \n3                              NaN  ~ ()~~~In patient  890277901          1   \n4  no hx of local or systemic rxns  ~ ()~~~In patient  890278001          1   \n\n  TODAYS_DATE BIRTH_DEFECT OFC_VISIT ER_ED_VISIT ALLERGIES  \n0         NaN          NaN       NaN         NaN       NaN  \n1         NaN          NaN       NaN         NaN       NaN  \n2         NaN          NaN       NaN         NaN       NaN  \n3         NaN          NaN       NaN         NaN       NaN  \n4         NaN          NaN       NaN         NaN       NaN  \n\n[5 rows x 35 columns]",
      "text/html": "<div>\n<style scoped>\n    .dataframe tbody tr th:only-of-type {\n        vertical-align: middle;\n    }\n\n    .dataframe tbody tr th {\n        vertical-align: top;\n    }\n\n    .dataframe thead th {\n        text-align: right;\n    }\n</style>\n<table border=\"1\" class=\"dataframe\">\n  <thead>\n    <tr style=\"text-align: right;\">\n      <th></th>\n      <th>VAERS_ID</th>\n      <th>RECVDATE</th>\n      <th>STATE</th>\n      <th>AGE_YRS</th>\n      <th>CAGE_YR</th>\n      <th>CAGE_MO</th>\n      <th>SEX</th>\n      <th>RPT_DATE</th>\n      <th>SYMPTOM_TEXT</th>\n      <th>DIED</th>\n      <th>...</th>\n      <th>CUR_ILL</th>\n      <th>HISTORY</th>\n      <th>PRIOR_VAX</th>\n      <th>SPLTTYPE</th>\n      <th>FORM_VERS</th>\n      <th>TODAYS_DATE</th>\n      <th>BIRTH_DEFECT</th>\n      <th>OFC_VISIT</th>\n      <th>ER_ED_VISIT</th>\n      <th>ALLERGIES</th>\n    </tr>\n  </thead>\n  <tbody>\n    <tr>\n      <th>0</th>\n      <td>25001</td>\n      <td>07/02/1990</td>\n      <td>WI</td>\n      <td>0.2</td>\n      <td>NaN</td>\n      <td>NaN</td>\n      <td>F</td>\n      <td>NaN</td>\n      <td>Loud intense cry with screaming for 1 1/2 hrs....</td>\n      <td>NaN</td>\n      <td>...</td>\n      <td>NaN</td>\n      <td>NaN</td>\n      <td>NaN</td>\n      <td>NaN</td>\n      <td>1</td>\n      <td>NaN</td>\n      <td>NaN</td>\n      <td>NaN</td>\n      <td>NaN</td>\n      <td>NaN</td>\n    </tr>\n    <tr>\n      <th>1</th>\n      <td>25003</td>\n      <td>07/02/1990</td>\n      <td>TX</td>\n      <td>0.8</td>\n      <td>NaN</td>\n      <td>NaN</td>\n      <td>M</td>\n      <td>NaN</td>\n      <td>Hypotonic, Hyporesponsive episode, Infant died...</td>\n      <td>Y</td>\n      <td>...</td>\n      <td>NaN</td>\n      <td>NaN</td>\n      <td>~ ()~~~In patient</td>\n      <td>NaN</td>\n      <td>1</td>\n      <td>NaN</td>\n      <td>NaN</td>\n      <td>NaN</td>\n      <td>NaN</td>\n      <td>NaN</td>\n    </tr>\n    <tr>\n      <th>2</th>\n      <td>25004</td>\n      <td>07/02/1990</td>\n      <td>NY</td>\n      <td>0.9</td>\n      <td>NaN</td>\n      <td>NaN</td>\n      <td>M</td>\n      <td>NaN</td>\n      <td>Pt developed chills for approx. 1 hr, felt ach...</td>\n      <td>NaN</td>\n      <td>...</td>\n      <td>NaN</td>\n      <td>NaN</td>\n      <td>~ ()~~~In patient</td>\n      <td>890269201</td>\n      <td>1</td>\n      <td>NaN</td>\n      <td>NaN</td>\n      <td>NaN</td>\n      <td>NaN</td>\n      <td>NaN</td>\n    </tr>\n    <tr>\n      <th>3</th>\n      <td>25005</td>\n      <td>07/02/1990</td>\n      <td>OK</td>\n      <td>NaN</td>\n      <td>NaN</td>\n      <td>NaN</td>\n      <td>U</td>\n      <td>NaN</td>\n      <td>7 patients within 2 weeks have reported joint ...</td>\n      <td>NaN</td>\n      <td>...</td>\n      <td>NaN</td>\n      <td>NaN</td>\n      <td>~ ()~~~In patient</td>\n      <td>890277901</td>\n      <td>1</td>\n      <td>NaN</td>\n      <td>NaN</td>\n      <td>NaN</td>\n      <td>NaN</td>\n      <td>NaN</td>\n    </tr>\n    <tr>\n      <th>4</th>\n      <td>25006</td>\n      <td>07/02/1990</td>\n      <td>OH</td>\n      <td>16.0</td>\n      <td>16.0</td>\n      <td>NaN</td>\n      <td>F</td>\n      <td>NaN</td>\n      <td>16 yr old female feeling faint &amp; then had seiz...</td>\n      <td>NaN</td>\n      <td>...</td>\n      <td>NaN</td>\n      <td>no hx of local or systemic rxns</td>\n      <td>~ ()~~~In patient</td>\n      <td>890278001</td>\n      <td>1</td>\n      <td>NaN</td>\n      <td>NaN</td>\n      <td>NaN</td>\n      <td>NaN</td>\n      <td>NaN</td>\n    </tr>\n  </tbody>\n</table>\n<p>5 rows × 35 columns</p>\n</div>"
     },
     "execution_count": 51,
     "metadata": {},
     "output_type": "execute_result"
    }
   ],
   "source": [
    "data_1990.head()"
   ],
   "metadata": {
    "collapsed": false,
    "ExecuteTime": {
     "end_time": "2024-01-02T21:58:44.567649Z",
     "start_time": "2024-01-02T21:58:44.549082Z"
    }
   },
   "id": "fd65446809b7e9b4",
   "execution_count": 51
  },
  {
   "cell_type": "code",
   "outputs": [],
   "source": [
    "vaccines_2021 = pd.read_csv('/Users/sep/Documents/HAW/Masterarbeit/Daten.nosync/2021VAERSVAX.csv', encoding=\"Iso-8859-1\")"
   ],
   "metadata": {
    "collapsed": false,
    "ExecuteTime": {
     "end_time": "2024-01-03T11:45:11.820491Z",
     "start_time": "2024-01-03T11:45:11.365442Z"
    }
   },
   "id": "1ff185d39e106946",
   "execution_count": 58
  },
  {
   "cell_type": "code",
   "outputs": [
    {
     "data": {
      "text/plain": "        VAERS_ID VAX_TYPE         VAX_MANU  VAX_LOT VAX_DOSE_SERIES VAX_ROUTE  \\\n0         910642  COVID19  PFIZER\\BIONTECH   EJ1685               1       NaN   \n1         916600  COVID19          MODERNA  037K20A               1        IM   \n2         916601  COVID19          MODERNA  025L20A               1        IM   \n3         916602  COVID19  PFIZER\\BIONTECH   EL1284               1        IM   \n4         916603  COVID19          MODERNA  unknown             UNK       NaN   \n...          ...      ...              ...      ...             ...       ...   \n797277   2675500  COVID19          MODERNA  024m20a               2        IM   \n797278   2675501  COVID19  PFIZER\\BIONTECH   EN9581               2        IM   \n797279   2675502  COVID19          MODERNA  013l20a               2        IM   \n797280   2675503  COVID19          MODERNA  039K20A               1        IM   \n797281   2681134  COVID19          MODERNA      NaN             UNK        IM   \n\n       VAX_SITE                             VAX_NAME  \n0            LA  COVID19 (COVID19 (PFIZER-BIONTECH))  \n1            LA          COVID19 (COVID19 (MODERNA))  \n2            RA          COVID19 (COVID19 (MODERNA))  \n3            LA  COVID19 (COVID19 (PFIZER-BIONTECH))  \n4           NaN          COVID19 (COVID19 (MODERNA))  \n...         ...                                  ...  \n797277       LA          COVID19 (COVID19 (MODERNA))  \n797278       LA  COVID19 (COVID19 (PFIZER-BIONTECH))  \n797279       LA          COVID19 (COVID19 (MODERNA))  \n797280       LA          COVID19 (COVID19 (MODERNA))  \n797281      NaN          COVID19 (COVID19 (MODERNA))  \n\n[797282 rows x 8 columns]",
      "text/html": "<div>\n<style scoped>\n    .dataframe tbody tr th:only-of-type {\n        vertical-align: middle;\n    }\n\n    .dataframe tbody tr th {\n        vertical-align: top;\n    }\n\n    .dataframe thead th {\n        text-align: right;\n    }\n</style>\n<table border=\"1\" class=\"dataframe\">\n  <thead>\n    <tr style=\"text-align: right;\">\n      <th></th>\n      <th>VAERS_ID</th>\n      <th>VAX_TYPE</th>\n      <th>VAX_MANU</th>\n      <th>VAX_LOT</th>\n      <th>VAX_DOSE_SERIES</th>\n      <th>VAX_ROUTE</th>\n      <th>VAX_SITE</th>\n      <th>VAX_NAME</th>\n    </tr>\n  </thead>\n  <tbody>\n    <tr>\n      <th>0</th>\n      <td>910642</td>\n      <td>COVID19</td>\n      <td>PFIZER\\BIONTECH</td>\n      <td>EJ1685</td>\n      <td>1</td>\n      <td>NaN</td>\n      <td>LA</td>\n      <td>COVID19 (COVID19 (PFIZER-BIONTECH))</td>\n    </tr>\n    <tr>\n      <th>1</th>\n      <td>916600</td>\n      <td>COVID19</td>\n      <td>MODERNA</td>\n      <td>037K20A</td>\n      <td>1</td>\n      <td>IM</td>\n      <td>LA</td>\n      <td>COVID19 (COVID19 (MODERNA))</td>\n    </tr>\n    <tr>\n      <th>2</th>\n      <td>916601</td>\n      <td>COVID19</td>\n      <td>MODERNA</td>\n      <td>025L20A</td>\n      <td>1</td>\n      <td>IM</td>\n      <td>RA</td>\n      <td>COVID19 (COVID19 (MODERNA))</td>\n    </tr>\n    <tr>\n      <th>3</th>\n      <td>916602</td>\n      <td>COVID19</td>\n      <td>PFIZER\\BIONTECH</td>\n      <td>EL1284</td>\n      <td>1</td>\n      <td>IM</td>\n      <td>LA</td>\n      <td>COVID19 (COVID19 (PFIZER-BIONTECH))</td>\n    </tr>\n    <tr>\n      <th>4</th>\n      <td>916603</td>\n      <td>COVID19</td>\n      <td>MODERNA</td>\n      <td>unknown</td>\n      <td>UNK</td>\n      <td>NaN</td>\n      <td>NaN</td>\n      <td>COVID19 (COVID19 (MODERNA))</td>\n    </tr>\n    <tr>\n      <th>...</th>\n      <td>...</td>\n      <td>...</td>\n      <td>...</td>\n      <td>...</td>\n      <td>...</td>\n      <td>...</td>\n      <td>...</td>\n      <td>...</td>\n    </tr>\n    <tr>\n      <th>797277</th>\n      <td>2675500</td>\n      <td>COVID19</td>\n      <td>MODERNA</td>\n      <td>024m20a</td>\n      <td>2</td>\n      <td>IM</td>\n      <td>LA</td>\n      <td>COVID19 (COVID19 (MODERNA))</td>\n    </tr>\n    <tr>\n      <th>797278</th>\n      <td>2675501</td>\n      <td>COVID19</td>\n      <td>PFIZER\\BIONTECH</td>\n      <td>EN9581</td>\n      <td>2</td>\n      <td>IM</td>\n      <td>LA</td>\n      <td>COVID19 (COVID19 (PFIZER-BIONTECH))</td>\n    </tr>\n    <tr>\n      <th>797279</th>\n      <td>2675502</td>\n      <td>COVID19</td>\n      <td>MODERNA</td>\n      <td>013l20a</td>\n      <td>2</td>\n      <td>IM</td>\n      <td>LA</td>\n      <td>COVID19 (COVID19 (MODERNA))</td>\n    </tr>\n    <tr>\n      <th>797280</th>\n      <td>2675503</td>\n      <td>COVID19</td>\n      <td>MODERNA</td>\n      <td>039K20A</td>\n      <td>1</td>\n      <td>IM</td>\n      <td>LA</td>\n      <td>COVID19 (COVID19 (MODERNA))</td>\n    </tr>\n    <tr>\n      <th>797281</th>\n      <td>2681134</td>\n      <td>COVID19</td>\n      <td>MODERNA</td>\n      <td>NaN</td>\n      <td>UNK</td>\n      <td>IM</td>\n      <td>NaN</td>\n      <td>COVID19 (COVID19 (MODERNA))</td>\n    </tr>\n  </tbody>\n</table>\n<p>797282 rows × 8 columns</p>\n</div>"
     },
     "execution_count": 60,
     "metadata": {},
     "output_type": "execute_result"
    }
   ],
   "source": [
    "vaccines_2021"
   ],
   "metadata": {
    "collapsed": false,
    "ExecuteTime": {
     "end_time": "2024-01-03T11:45:32.272748Z",
     "start_time": "2024-01-03T11:45:32.260691Z"
    }
   },
   "id": "3a5f8e6f11638575",
   "execution_count": 60
  },
  {
   "cell_type": "code",
   "outputs": [],
   "source": [
    "symptoms_1990 = pd.read_csv('/Users/sep/Documents/HAW/Masterarbeit/Daten.nosync/1990VAERSSYMPTOMS.csv', encoding=\"Iso-8859-1\")"
   ],
   "metadata": {
    "collapsed": false,
    "ExecuteTime": {
     "end_time": "2024-01-03T02:19:59.598443Z",
     "start_time": "2024-01-03T02:19:59.582282Z"
    }
   },
   "id": "cac237004c30414b",
   "execution_count": 56
  },
  {
   "cell_type": "code",
   "outputs": [
    {
     "data": {
      "text/plain": "   VAERS_ID    SYMPTOM1  SYMPTOMVERSION1               SYMPTOM2  \\\n0     25001   Agitation              8.1                    NaN   \n1     25003    Delirium              8.1            Hypokinesia   \n2     25004      Chills              8.1     Dermatitis contact   \n3     25005   Arthritis              8.1  Injection site oedema   \n4     25006  Convulsion              8.1              Dizziness   \n\n   SYMPTOMVERSION2                 SYMPTOM3  SYMPTOMVERSION3     SYMPTOM4  \\\n0              NaN                      NaN              NaN          NaN   \n1              8.1                Hypotonia              8.1          NaN   \n2              8.1           Oedema genital              8.1  Pelvic pain   \n3              8.1  Injection site reaction              8.1          NaN   \n4              8.1                      NaN              NaN          NaN   \n\n   SYMPTOMVERSION4 SYMPTOM5  SYMPTOMVERSION5  \n0              NaN      NaN              NaN  \n1              NaN      NaN              NaN  \n2              8.1      NaN              NaN  \n3              NaN      NaN              NaN  \n4              NaN      NaN              NaN  ",
      "text/html": "<div>\n<style scoped>\n    .dataframe tbody tr th:only-of-type {\n        vertical-align: middle;\n    }\n\n    .dataframe tbody tr th {\n        vertical-align: top;\n    }\n\n    .dataframe thead th {\n        text-align: right;\n    }\n</style>\n<table border=\"1\" class=\"dataframe\">\n  <thead>\n    <tr style=\"text-align: right;\">\n      <th></th>\n      <th>VAERS_ID</th>\n      <th>SYMPTOM1</th>\n      <th>SYMPTOMVERSION1</th>\n      <th>SYMPTOM2</th>\n      <th>SYMPTOMVERSION2</th>\n      <th>SYMPTOM3</th>\n      <th>SYMPTOMVERSION3</th>\n      <th>SYMPTOM4</th>\n      <th>SYMPTOMVERSION4</th>\n      <th>SYMPTOM5</th>\n      <th>SYMPTOMVERSION5</th>\n    </tr>\n  </thead>\n  <tbody>\n    <tr>\n      <th>0</th>\n      <td>25001</td>\n      <td>Agitation</td>\n      <td>8.1</td>\n      <td>NaN</td>\n      <td>NaN</td>\n      <td>NaN</td>\n      <td>NaN</td>\n      <td>NaN</td>\n      <td>NaN</td>\n      <td>NaN</td>\n      <td>NaN</td>\n    </tr>\n    <tr>\n      <th>1</th>\n      <td>25003</td>\n      <td>Delirium</td>\n      <td>8.1</td>\n      <td>Hypokinesia</td>\n      <td>8.1</td>\n      <td>Hypotonia</td>\n      <td>8.1</td>\n      <td>NaN</td>\n      <td>NaN</td>\n      <td>NaN</td>\n      <td>NaN</td>\n    </tr>\n    <tr>\n      <th>2</th>\n      <td>25004</td>\n      <td>Chills</td>\n      <td>8.1</td>\n      <td>Dermatitis contact</td>\n      <td>8.1</td>\n      <td>Oedema genital</td>\n      <td>8.1</td>\n      <td>Pelvic pain</td>\n      <td>8.1</td>\n      <td>NaN</td>\n      <td>NaN</td>\n    </tr>\n    <tr>\n      <th>3</th>\n      <td>25005</td>\n      <td>Arthritis</td>\n      <td>8.1</td>\n      <td>Injection site oedema</td>\n      <td>8.1</td>\n      <td>Injection site reaction</td>\n      <td>8.1</td>\n      <td>NaN</td>\n      <td>NaN</td>\n      <td>NaN</td>\n      <td>NaN</td>\n    </tr>\n    <tr>\n      <th>4</th>\n      <td>25006</td>\n      <td>Convulsion</td>\n      <td>8.1</td>\n      <td>Dizziness</td>\n      <td>8.1</td>\n      <td>NaN</td>\n      <td>NaN</td>\n      <td>NaN</td>\n      <td>NaN</td>\n      <td>NaN</td>\n      <td>NaN</td>\n    </tr>\n  </tbody>\n</table>\n</div>"
     },
     "execution_count": 57,
     "metadata": {},
     "output_type": "execute_result"
    }
   ],
   "source": [
    "symptoms_1990.head()"
   ],
   "metadata": {
    "collapsed": false,
    "ExecuteTime": {
     "end_time": "2024-01-03T02:20:06.279771Z",
     "start_time": "2024-01-03T02:20:06.265097Z"
    }
   },
   "id": "1de6a89b9b690d6a",
   "execution_count": 57
  },
  {
   "cell_type": "code",
   "outputs": [
    {
     "data": {
      "text/plain": "2102"
     },
     "execution_count": 22,
     "metadata": {},
     "output_type": "execute_result"
    }
   ],
   "source": [
    "num_entries = len(data_1990)\n",
    "num_entries"
   ],
   "metadata": {
    "collapsed": false,
    "ExecuteTime": {
     "end_time": "2024-01-02T18:20:44.786884Z",
     "start_time": "2024-01-02T18:20:44.785110Z"
    }
   },
   "id": "288193b5f5bfca39",
   "execution_count": 22
  },
  {
   "cell_type": "markdown",
   "source": [
    "# Amount of different vaccines"
   ],
   "metadata": {
    "collapsed": false
   },
   "id": "6e1924f6d309d096"
  },
  {
   "cell_type": "code",
   "outputs": [
    {
     "name": "stdout",
     "output_type": "stream",
     "text": [
      "Total number of different vaccine types (1990 - 2023): 100\n"
     ]
    }
   ],
   "source": [
    "import pandas as pd\n",
    "\n",
    "unique_vax_types = set()\n",
    "\n",
    "for year in range(1990, 2024):\n",
    "    try:\n",
    "        vaccine_data_path = f\"/Users/sep/Documents/HAW/Masterarbeit/Daten.nosync/{year}VAERSVAX.csv\"\n",
    "        vaccine_data = pd.read_csv(vaccine_data_path, encoding=\"Iso-8859-1\", low_memory=False)\n",
    "\n",
    "        # Update the set of unique vaccine types\n",
    "        unique_vax_types.update(vaccine_data['VAX_TYPE'].unique())\n",
    "    except Exception as e:\n",
    "        print(f\"An error occurred for year {year}: {e}\")\n",
    "\n",
    "# Total number of different vaccine types\n",
    "total_different_vax_types = len(unique_vax_types)\n",
    "print(f\"Total number of different vaccine types (1990 - 2023): {total_different_vax_types}\")\n"
   ],
   "metadata": {
    "collapsed": false,
    "ExecuteTime": {
     "end_time": "2024-01-04T13:40:35.044354Z",
     "start_time": "2024-01-04T13:40:33.478434Z"
    }
   },
   "id": "b9da95832a68f485",
   "execution_count": 61
  },
  {
   "cell_type": "markdown",
   "source": [
    "# Entries without State"
   ],
   "metadata": {
    "collapsed": false
   },
   "id": "7415d4b7cdc15d07"
  },
  {
   "cell_type": "code",
   "outputs": [
    {
     "name": "stdout",
     "output_type": "stream",
     "text": [
      "Year 1990: 2070 entries with 'STATE' attribute, 32 entries without 'STATE' attribute\n",
      "Year 1991: 9706 entries with 'STATE' attribute, 227 entries without 'STATE' attribute\n",
      "Year 1992: 10339 entries with 'STATE' attribute, 353 entries without 'STATE' attribute\n",
      "Year 1993: 9983 entries with 'STATE' attribute, 164 entries without 'STATE' attribute\n",
      "Year 1994: 10127 entries with 'STATE' attribute, 66 entries without 'STATE' attribute\n",
      "Year 1995: 9941 entries with 'STATE' attribute, 60 entries without 'STATE' attribute\n",
      "Year 1996: 10713 entries with 'STATE' attribute, 58 entries without 'STATE' attribute\n",
      "Year 1997: 10929 entries with 'STATE' attribute, 77 entries without 'STATE' attribute\n",
      "Year 1998: 9791 entries with 'STATE' attribute, 158 entries without 'STATE' attribute\n",
      "Year 1999: 11981 entries with 'STATE' attribute, 142 entries without 'STATE' attribute\n",
      "Year 2000: 13761 entries with 'STATE' attribute, 344 entries without 'STATE' attribute\n",
      "Year 2001: 13025 entries with 'STATE' attribute, 335 entries without 'STATE' attribute\n",
      "Year 2002: 12928 entries with 'STATE' attribute, 1146 entries without 'STATE' attribute\n",
      "Year 2003: 15809 entries with 'STATE' attribute, 945 entries without 'STATE' attribute\n",
      "Year 2004: 13689 entries with 'STATE' attribute, 1632 entries without 'STATE' attribute\n",
      "Year 2005: 14337 entries with 'STATE' attribute, 1243 entries without 'STATE' attribute\n",
      "Year 2006: 16048 entries with 'STATE' attribute, 1261 entries without 'STATE' attribute\n",
      "Year 2007: 25283 entries with 'STATE' attribute, 2943 entries without 'STATE' attribute\n",
      "Year 2008: 26823 entries with 'STATE' attribute, 2943 entries without 'STATE' attribute\n",
      "Year 2009: 30888 entries with 'STATE' attribute, 1898 entries without 'STATE' attribute\n",
      "Year 2010: 29194 entries with 'STATE' attribute, 2388 entries without 'STATE' attribute\n",
      "Year 2011: 23398 entries with 'STATE' attribute, 2011 entries without 'STATE' attribute\n",
      "Year 2012: 23294 entries with 'STATE' attribute, 3374 entries without 'STATE' attribute\n",
      "Year 2013: 24115 entries with 'STATE' attribute, 5622 entries without 'STATE' attribute\n",
      "Year 2014: 24666 entries with 'STATE' attribute, 9673 entries without 'STATE' attribute\n",
      "Year 2015: 27052 entries with 'STATE' attribute, 17370 entries without 'STATE' attribute\n",
      "Year 2016: 30586 entries with 'STATE' attribute, 15119 entries without 'STATE' attribute\n",
      "Year 2017: 35661 entries with 'STATE' attribute, 3249 entries without 'STATE' attribute\n",
      "Year 2018: 44351 entries with 'STATE' attribute, 4784 entries without 'STATE' attribute\n",
      "Year 2019: 44134 entries with 'STATE' attribute, 4303 entries without 'STATE' attribute\n",
      "Year 2020: 42726 entries with 'STATE' attribute, 6915 entries without 'STATE' attribute\n",
      "Year 2021: 637195 entries with 'STATE' attribute, 115902 entries without 'STATE' attribute\n",
      "Year 2022: 198479 entries with 'STATE' attribute, 48536 entries without 'STATE' attribute\n",
      "Year 2023: 76898 entries with 'STATE' attribute, 21984 entries without 'STATE' attribute\n",
      "Total entries with 'STATE' attribute for all years: 1539920\n",
      "Total entries without 'STATE' attribute for all years: 277257\n",
      "Total entries for all years: 1817177\n"
     ]
    }
   ],
   "source": [
    "import pandas as pd\n",
    "import os\n",
    "\n",
    "# Initialize dictionaries to store the number of entries with and without the \"STATE\" attribute per year\n",
    "entries_with_state = {}\n",
    "entries_without_state = {}\n",
    "\n",
    "# Loop through each year from 1990 to 2023\n",
    "for year in range(1990, 2024):\n",
    "    try:\n",
    "        # Construct the filename\n",
    "        path = \"/Users/sep/Documents/HAW/Masterarbeit/Daten.nosync/\"\n",
    "        filename = f\"{year}VAERSDATA.csv\"\n",
    "\n",
    "        # Load the CSV file\n",
    "        data = pd.read_csv(path + filename, encoding=\"Iso-8859-1\", low_memory=False)\n",
    "\n",
    "        # Count the number of entries with and without the \"STATE\" attribute\n",
    "        with_state_count = len(data[data['STATE'].notna()])\n",
    "        without_state_count = len(data[data['STATE'].isna()])\n",
    "\n",
    "        # Store the counts in the dictionaries\n",
    "        entries_with_state[year] = with_state_count\n",
    "        entries_without_state[year] = without_state_count\n",
    "    except FileNotFoundError:\n",
    "        print(f\"File for year {year} not found.\")\n",
    "    except Exception as e:\n",
    "        print(f\"An error occurred for year {year}: {e}\")\n",
    "\n",
    "# Calculate the total number of entries with and without the \"STATE\" attribute for all years\n",
    "total_entries_with_state = sum(entries_with_state.values())\n",
    "total_entries_without_state = sum(entries_without_state.values())\n",
    "\n",
    "# Calculate the total number of entries for all years\n",
    "total_entries = total_entries_with_state + total_entries_without_state\n",
    "\n",
    "# Print the counts for each year, the grand totals, and the total number of entries\n",
    "for year in range(1990, 2024):\n",
    "    print(f\"Year {year}: {entries_with_state[year]} entries with 'STATE' attribute, {entries_without_state[year]} entries without 'STATE' attribute\")\n",
    "\n",
    "print(f\"Total entries with 'STATE' attribute for all years: {total_entries_with_state}\")\n",
    "print(f\"Total entries without 'STATE' attribute for all years: {total_entries_without_state}\")\n",
    "print(f\"Total entries for all years: {total_entries}\")\n"
   ],
   "metadata": {
    "collapsed": false,
    "ExecuteTime": {
     "end_time": "2024-01-19T15:07:00.476181Z",
     "start_time": "2024-01-19T15:06:44.767805Z"
    }
   },
   "id": "d5dc413a2e14c62c",
   "execution_count": 4
  },
  {
   "cell_type": "markdown",
   "source": [
    "# Track amount of duplicate VEAERS IDs in VAERSDATA"
   ],
   "metadata": {
    "collapsed": false
   },
   "id": "1df523bc3008d026"
  },
  {
   "cell_type": "code",
   "outputs": [
    {
     "name": "stdout",
     "output_type": "stream",
     "text": [
      "Total VAERS IDs that appear more than once: 0\n"
     ]
    }
   ],
   "source": [
    "import pandas as pd\n",
    "\n",
    "# Initialize a dictionary to store the count of each VAERS ID\n",
    "vaers_id_counts = {}\n",
    "\n",
    "# Loop through each year from 1990 to 2023\n",
    "for year in range(1990, 2024):\n",
    "    try:\n",
    "        # Construct the filename\n",
    "        path = \"/Users/sep/Documents/HAW/Masterarbeit/Daten.nosync/\"\n",
    "        filename = f\"{year}VAERSDATA.csv\"\n",
    "\n",
    "        # Load the CSV file\n",
    "        data = pd.read_csv(path + filename, encoding=\"Iso-8859-1\", low_memory=False)\n",
    "\n",
    "        # Count the occurrences of each VAERS ID\n",
    "        vaers_id_counts_year = data['VAERS_ID'].value_counts()\n",
    "\n",
    "        # Add the counts to the dictionary\n",
    "        vaers_id_counts.update(vaers_id_counts_year)\n",
    "    except FileNotFoundError:\n",
    "        print(f\"File for year {year} not found.\")\n",
    "    except Exception as e:\n",
    "        print(f\"An error occurred for year {year}: {e}\")\n",
    "\n",
    "# Find the VAERS IDs that appear more than once\n",
    "duplicate_vaers_ids = [vaers_id for vaers_id, count in vaers_id_counts.items() if count > 1]\n",
    "\n",
    "# Get the count of duplicate VAERS IDs\n",
    "count_duplicate_vaers_ids = len(duplicate_vaers_ids)\n",
    "\n",
    "print(f\"Total VAERS IDs that appear more than once: {count_duplicate_vaers_ids}\")\n"
   ],
   "metadata": {
    "collapsed": false,
    "ExecuteTime": {
     "end_time": "2024-01-19T15:18:55.711065Z",
     "start_time": "2024-01-19T15:18:36.651729Z"
    }
   },
   "id": "fee4301bb1f7ce3e",
   "execution_count": 7
  },
  {
   "cell_type": "markdown",
   "source": [
    "# Track amount of duplicate VEAERS IDs in VAERSVAX"
   ],
   "metadata": {
    "collapsed": false
   },
   "id": "1fe387fb82fc22e3"
  },
  {
   "cell_type": "code",
   "outputs": [
    {
     "name": "stdout",
     "output_type": "stream",
     "text": [
      "Total VAERS IDs that appear more than once: 281626\n"
     ]
    }
   ],
   "source": [
    "import pandas as pd\n",
    "\n",
    "# Initialize a dictionary to store the count of each VAERS ID\n",
    "vaers_id_counts = {}\n",
    "\n",
    "# Loop through each year from 1990 to 2023\n",
    "for year in range(1990, 2024):\n",
    "    try:\n",
    "        # Construct the filename\n",
    "        path = \"/Users/sep/Documents/HAW/Masterarbeit/Daten.nosync/\"\n",
    "        filename = f\"{year}VAERSVAX.csv\"\n",
    "\n",
    "        # Load the CSV file\n",
    "        data = pd.read_csv(path + filename, encoding=\"Iso-8859-1\", low_memory=False)\n",
    "\n",
    "        # Count the occurrences of each VAERS ID\n",
    "        vaers_id_counts_year = data['VAERS_ID'].value_counts()\n",
    "\n",
    "        # Add the counts to the dictionary\n",
    "        vaers_id_counts.update(vaers_id_counts_year)\n",
    "    except FileNotFoundError:\n",
    "        print(f\"File for year {year} not found.\")\n",
    "    except Exception as e:\n",
    "        print(f\"An error occurred for year {year}: {e}\")\n",
    "\n",
    "# Find the VAERS IDs that appear more than once\n",
    "duplicate_vaers_ids = [vaers_id for vaers_id, count in vaers_id_counts.items() if count > 1]\n",
    "\n",
    "# Get the count of duplicate VAERS IDs\n",
    "count_duplicate_vaers_ids = len(duplicate_vaers_ids)\n",
    "\n",
    "print(f\"Total VAERS IDs that appear more than once: {count_duplicate_vaers_ids}\")\n"
   ],
   "metadata": {
    "collapsed": false,
    "ExecuteTime": {
     "end_time": "2024-01-19T15:19:00.091930Z",
     "start_time": "2024-01-19T15:18:55.731797Z"
    }
   },
   "id": "ab96e9d3c4c3f3cf",
   "execution_count": 8
  }
 ],
 "metadata": {
  "kernelspec": {
   "display_name": "Python 3",
   "language": "python",
   "name": "python3"
  },
  "language_info": {
   "codemirror_mode": {
    "name": "ipython",
    "version": 2
   },
   "file_extension": ".py",
   "mimetype": "text/x-python",
   "name": "python",
   "nbconvert_exporter": "python",
   "pygments_lexer": "ipython2",
   "version": "2.7.6"
  }
 },
 "nbformat": 4,
 "nbformat_minor": 5
}

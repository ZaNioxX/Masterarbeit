{
 "cells": [
  {
   "metadata": {
    "ExecuteTime": {
     "end_time": "2024-05-05T13:45:41.767837Z",
     "start_time": "2024-05-05T13:45:41.755282Z"
    }
   },
   "cell_type": "code",
   "source": [
    "from pymongo import MongoClient\n",
    "import sys\n",
    "sys.path.append('../statistical_calculations')  # Adds the statistical_calculations directory to the path\n",
    "import disproportionaly_analysis\n",
    "from tqdm import tqdm\n",
    "import json\n",
    "from datetime import datetime, timedelta \n",
    "from calendar import monthrange\n",
    "\n",
    "# Connect to your MongoDB instance\n",
    "client = MongoClient('mongodb://localhost:27017/')\n",
    "db = client['vaers']  \n",
    "col = db['reports']"
   ],
   "id": "2532e166dfb71d6b",
   "outputs": [],
   "execution_count": 22
  },
  {
   "metadata": {
    "ExecuteTime": {
     "end_time": "2024-05-15T07:56:23.955333Z",
     "start_time": "2024-05-15T07:56:19.072748Z"
    }
   },
   "cell_type": "code",
   "source": [
    "from datetime import datetime\n",
    "\n",
    "vaccine = \"COVID19\"\n",
    "manufacturer = \"JANSSEN\"#\"PFIZER\\\\BIONTECH\"\n",
    "symptom = \"Facial paralysis\"\n",
    "date = datetime(2021, 2, 28) #yyyy/mm/dd\n",
    "N_query = {\"RECVDATE\": {\"$lte\": date}}\n",
    "N = col.count_documents(N_query)\n",
    "print(N)\n",
    "\n",
    "D_query = {\n",
    "    \"RECVDATE\": {\"$lte\": date},\n",
    "    \"vax_data\": {\n",
    "        \"$elemMatch\": {\n",
    "            \"VAX_MANU\": manufacturer,\n",
    "            \"VAX_TYPE\": vaccine\n",
    "        }\n",
    "    }\n",
    "}\n",
    "D = col.count_documents(D_query)\n",
    "\n",
    "E_query = {\n",
    "    \"RECVDATE\": {\"$lte\": date},\n",
    "    \"symptoms\": {\n",
    "        \"$elemMatch\": {\n",
    "            \"$in\": [symptom]\n",
    "        }\n",
    "    }\n",
    "}\n",
    "E = col.count_documents(E_query)\n",
    "\n",
    "DE_query = {'$and': [D_query, E_query]}\n",
    "DE = col.count_documents(DE_query)\n",
    "if DE >= 3: \n",
    "\n",
    "    De = D - DE\n",
    "    dE = E - DE\n",
    "    de = N - (DE + De + dE)\n",
    "    \n",
    "    \n",
    "    contingency_table = [\n",
    "        [DE, dE],\n",
    "        [De, de]\n",
    "    ]\n",
    "    print(contingency_table)\n",
    "    # Compute statistical measures\n",
    "    rrr, sd_rrr = disproportionaly_analysis.relative_reporting_ratio(contingency_table), disproportionaly_analysis.sd_rrr(contingency_table)\n",
    "    rrr_ci_lower, rrr_ci_upper = disproportionaly_analysis.confidence_interval(rrr, sd_rrr)\n",
    "    \n",
    "    prr, sd_prr = disproportionaly_analysis.proportional_reporting_ratio(contingency_table), disproportionaly_analysis.sd_prr(contingency_table)\n",
    "    prr_ci_lower, prr_ci_upper = disproportionaly_analysis.confidence_interval(prr, sd_prr)\n",
    "    \n",
    "    ror, sd_ror = disproportionaly_analysis.reporting_odds_ratio(contingency_table), disproportionaly_analysis.sd_ror(contingency_table)\n",
    "    ror_ci_lower, ror_ci_upper = disproportionaly_analysis.confidence_interval(ror, sd_ror)\n",
    "    \n",
    "    chi_square = disproportionaly_analysis.chi_square_yates(contingency_table)\n",
    "    IC = disproportionaly_analysis.information_component(contingency_table)\n",
    "    IC_ci_lower, IC_ci_upper = disproportionaly_analysis.confidence_interval_information_component(contingency_table, IC)\n",
    "    \n",
    "    # Determine if the reaction meets criteria for a signal\n",
    "    method_1 = rrr > 2 and prr > 2 and ror > 2 and chi_square > 3.841\n",
    "    method_2 = IC_ci_lower > 0 and ror_ci_lower > 1 and prr_ci_lower > 1 and ror_ci_lower > 1\n",
    "        \n",
    "    if method_1 or method_2:\n",
    "        print(f\"Signal found for {date}\")\n",
    "    else:\n",
    "        print(f\"no Signal found for {date}\")\n",
    "else:\n",
    "    print(f\"No signal found because DE = {DE}\")"
   ],
   "id": "initial_id",
   "outputs": [
    {
     "name": "stdout",
     "output_type": "stream",
     "text": [
      "974447\n",
      "No signal found because DE = 0\n"
     ]
    }
   ],
   "execution_count": 36
  },
  {
   "metadata": {
    "ExecuteTime": {
     "end_time": "2024-04-30T08:36:01.741083Z",
     "start_time": "2024-04-30T08:36:01.728199Z"
    }
   },
   "cell_type": "code",
   "source": "list = [{\"manufacturer\": \"PFIZER\\\\BIONTECH\", \"symptom\": \"Lymphadenopathy\", \"first_found\": \"2020-12-24\"}, {\"manufacturer\": \"PFIZER\\\\BIONTECH\", \"symptom\": \"Headache\", \"first_found\": \"2020-12-16\"}, {\"manufacturer\": \"PFIZER\\\\BIONTECH\", \"symptom\": \"Dizziness\", \"first_found\": \"2020-12-15\"}, {\"manufacturer\": \"PFIZER\\\\BIONTECH\", \"symptom\": \"Facial paralysis\", \"first_found\": \"2020-12-18\"}, {\"manufacturer\": \"PFIZER\\\\BIONTECH\", \"symptom\": \"Paraesthesia\", \"first_found\": \"2020-12-15\"}, {\"manufacturer\": \"PFIZER\\\\BIONTECH\", \"symptom\": \"Hypoaesthesia\", \"first_found\": \"2020-12-17\"}, {\"manufacturer\": \"PFIZER\\\\BIONTECH\", \"symptom\": \"Diarrhoea\", \"first_found\": \"2020-12-17\"}, {\"manufacturer\": \"PFIZER\\\\BIONTECH\", \"symptom\": \"Nausea\", \"first_found\": \"2020-12-16\"}, {\"manufacturer\": \"PFIZER\\\\BIONTECH\", \"symptom\": \"Hyperhidrosis\", \"first_found\": \"2020-12-16\"}, {\"manufacturer\": \"PFIZER\\\\BIONTECH\", \"symptom\": \"Night sweats\", \"first_found\": \"2020-12-21\"}, {\"manufacturer\": \"PFIZER\\\\BIONTECH\", \"symptom\": \"Arthralgia\", \"first_found\": \"2020-12-17\"}, {\"manufacturer\": \"PFIZER\\\\BIONTECH\", \"symptom\": \"Myalgia\", \"first_found\": \"2020-12-17\"}, {\"manufacturer\": \"PFIZER\\\\BIONTECH\", \"symptom\": \"Pain in extremity\", \"first_found\": \"2020-12-17\"}, {\"manufacturer\": \"PFIZER\\\\BIONTECH\", \"symptom\": \"Heavy menstrual bleeding\", \"first_found\": \"2021-01-16\"}, {\"manufacturer\": \"PFIZER\\\\BIONTECH\", \"symptom\": \"Fatigue\", \"first_found\": \"2020-12-16\"}, {\"manufacturer\": \"PFIZER\\\\BIONTECH\", \"symptom\": \"Malaise\", \"first_found\": \"2020-12-16\"}]",
   "id": "69489bd30e4f5628",
   "outputs": [],
   "execution_count": 12
  },
  {
   "metadata": {
    "ExecuteTime": {
     "end_time": "2024-04-30T08:36:05.650897Z",
     "start_time": "2024-04-30T08:36:05.640491Z"
    }
   },
   "cell_type": "code",
   "source": "len(list)",
   "id": "46503c530fb189bb",
   "outputs": [
    {
     "data": {
      "text/plain": [
       "16"
      ]
     },
     "execution_count": 13,
     "metadata": {},
     "output_type": "execute_result"
    }
   ],
   "execution_count": 13
  },
  {
   "metadata": {},
   "cell_type": "code",
   "outputs": [],
   "execution_count": null,
   "source": "",
   "id": "2a159dac0f8c7164"
  }
 ],
 "metadata": {
  "kernelspec": {
   "display_name": "Python 3",
   "language": "python",
   "name": "python3"
  },
  "language_info": {
   "codemirror_mode": {
    "name": "ipython",
    "version": 2
   },
   "file_extension": ".py",
   "mimetype": "text/x-python",
   "name": "python",
   "nbconvert_exporter": "python",
   "pygments_lexer": "ipython2",
   "version": "2.7.6"
  }
 },
 "nbformat": 4,
 "nbformat_minor": 5
}

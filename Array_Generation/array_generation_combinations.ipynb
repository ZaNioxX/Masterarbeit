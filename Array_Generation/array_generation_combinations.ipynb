{
 "cells": [
  {
   "metadata": {},
   "cell_type": "markdown",
   "source": "### Imports ",
   "id": "6fb9bb26754ae581"
  },
  {
   "metadata": {
    "ExecuteTime": {
     "end_time": "2024-05-20T11:03:35.501471Z",
     "start_time": "2024-05-20T11:03:35.488019Z"
    }
   },
   "cell_type": "code",
   "source": [
    "import numpy as np\n",
    "from pymongo import MongoClient\n",
    "sys.path.append('../statistical_calculations')\n",
    "import disproportionaly_analysis\n",
    "from tqdm import tqdm"
   ],
   "id": "16152da3e32d4ba9",
   "outputs": [],
   "execution_count": 2
  },
  {
   "metadata": {
    "ExecuteTime": {
     "end_time": "2024-05-20T11:03:37.009030Z",
     "start_time": "2024-05-20T11:03:36.996604Z"
    }
   },
   "cell_type": "code",
   "source": [
    "client = MongoClient('mongodb://localhost:27017/')\n",
    "db = client['vaers']  \n",
    "collection = db['combinations cleaned']"
   ],
   "id": "764001b3a4bdf1dc",
   "outputs": [],
   "execution_count": 3
  },
  {
   "metadata": {},
   "cell_type": "markdown",
   "source": "### Adverse Reactions\n",
   "id": "4b1f52607ee21879"
  },
  {
   "metadata": {
    "ExecuteTime": {
     "end_time": "2024-05-20T11:03:40.107228Z",
     "start_time": "2024-05-20T11:03:40.102747Z"
    }
   },
   "cell_type": "code",
   "source": [
    "Pfizer_adverse_reactions = [\n",
    "    \"Vomiting\",\n",
    "    \"Lymphadenopathy\",\n",
    "    \"Rash\", \n",
    "    \"Pruritus\", \n",
    "    \"Urticaria\", \n",
    "    \"Angioedema\",\n",
    "    \"Anaphylaxis\",\n",
    "    \"Decreased appetite\",\n",
    "    \"Insomnia\",\n",
    "    \"Headache\",\n",
    "    \"Dizziness\",\n",
    "    \"Lethargy\",\n",
    "    #\"Acute peripheral facial paralysis\",\n",
    "    \"Facial paralysis\",\n",
    "    \"Paraesthesia\",\n",
    "    \"Hypoaesthesia\",\n",
    "    \"Myocarditis\",\n",
    "    \"Pericarditis\",\n",
    "    \"Diarrhoea\",\n",
    "    \"Nausea\",\n",
    "    \"Hyperhidrosis\",\n",
    "    \"Night sweats\",\n",
    "    \"Erythema multiforme\",\n",
    "    \"Arthralgia\",\n",
    "    \"Myalgia\",\n",
    "    \"Pain in extremity\",\n",
    "    \"Heavy menstrual bleeding\",\n",
    "    \"Injection site pain\",\n",
    "    \"Fatigue\",\n",
    "    \"Chills\",\n",
    "    \"Pyrexia\",\n",
    "    \"Injection site swelling\",\n",
    "    \"Injection site redness\",\n",
    "    \"Asthenia\",\n",
    "    \"Malaise\",\n",
    "    \"Injection site pruritus\",\n",
    "    \"Extensive swelling of vaccinated limb\",\n",
    "    \"Facial swelling\"\n",
    "]"
   ],
   "id": "a4be9a1d4f9f4705",
   "outputs": [],
   "execution_count": 4
  },
  {
   "metadata": {
    "ExecuteTime": {
     "end_time": "2024-05-20T11:03:40.595561Z",
     "start_time": "2024-05-20T11:03:40.587362Z"
    }
   },
   "cell_type": "code",
   "source": [
    "Moderna_adverse_reactions = [\n",
    "    \"Lymphadenopathy\",\n",
    "    \"Anaphylaxis\",\n",
    "    \"Hypersensitivity\",\n",
    "    \"Decreased appetite\",\n",
    "    \"Irritability\", \n",
    "    \"Crying\",\n",
    "    \"Headache\",\n",
    "    \"Sleepiness\",\n",
    "    \"Dizziness\",\n",
    "    #\"Acute peripheral facial paralysis\",\n",
    "    \"Facial paralysis\", #instead of facial paralysis\n",
    "    \"Hypoaesthesia\",\n",
    "    \"Paraesthesia\",\n",
    "    \"Myocarditis\",\n",
    "    \"Pericarditis\",\n",
    "    \"Nausea\", \n",
    "    \"Vomiting\",\n",
    "    \"Diarrhoea\",\n",
    "    \"Abdominal pain\",\n",
    "    \"Rash\",\n",
    "    \"Urticaria\",\n",
    "    \"Erythema multiforme\",\n",
    "    \"Mechanical urticaria\",\n",
    "    \"Chronic urticaria\",\n",
    "    \"Myalgia\",\n",
    "    \"Arthralgia\",\n",
    "    \"Heavy menstrual bleeding\",\n",
    "    \"Injection site pain\",\n",
    "    \"Fatigue\",\n",
    "    \"Chills\",\n",
    "    \"Pyrexia\",\n",
    "    \"Injection site swelling\",\n",
    "    \"Injection site erythema\",\n",
    "    \"Injection site urticaria\",\n",
    "    \"Injection site rash\",\n",
    "    \"Delayed injection site reaction\",\n",
    "    \"Injection site pruritus\",\n",
    "    \"Facial swelling\",\n",
    "    \"Extensive swelling of vaccinated limb\"\n",
    "]\n"
   ],
   "id": "617c9fa074e66348",
   "outputs": [],
   "execution_count": 5
  },
  {
   "metadata": {
    "ExecuteTime": {
     "end_time": "2024-05-20T11:03:40.980104Z",
     "start_time": "2024-05-20T11:03:40.972356Z"
    }
   },
   "cell_type": "code",
   "source": [
    "Janssen_adverse_reactions = [\n",
    "    \"Lymphadenopathy\",\n",
    "    \"Immune thrombocytopenia\",\n",
    "    \"Anaphylaxis\",\n",
    "    \"Headache\",\n",
    "    \"Dizziness\",\n",
    "    \"Tremor\",\n",
    "    \"Urticaria\",\n",
    "    \"Hypersensitivity\",\n",
    "    \"Paraesthesia\",\n",
    "    \"Hypoaesthesia\",\n",
    "    \"Facial paralysis\",\n",
    "    \"Tinnitus\",\n",
    "    \"Guillain-Barre syndrome\",\n",
    "    #\"Transverse myelitis\", not in DB\n",
    "    \"Myelitis\", #instead of Transverse myelitis\n",
    "    \"Venous thromboembolism\",\n",
    "    \"Thrombosis in combination with thrombocytopenia\",\n",
    "    \"Myocarditis\", \n",
    "    \"Pericarditis\",\n",
    "    \"Capillary leak syndrome\",\n",
    "    #\"Small vessel cutaneous vasculitis\", not in DB\n",
    "    \"Cutaneous vasculitis\", #instead of Small vessel cutaneous vasculitis\"\n",
    "    \"Nausea\",\n",
    "    \"Cough\", \n",
    "    \"Oropharyngeal pain\",\n",
    "    \"Sneezing\",\n",
    "    \"Diarrhoea\",\n",
    "    \"Vomiting\",\n",
    "    \"Rash\",\n",
    "    \"Hyperhidrosis\",\n",
    "    \"Myalgia\",\n",
    "    \"Arthralgia\",\n",
    "    \"Muscular weakness\",\n",
    "    \"Back pain\",\n",
    "    \"Pain in extremity\",\n",
    "    \"Fatigue\",\n",
    "    \"Injection site pain\",\n",
    "    \"Injection site swelling\",\n",
    "    \"Chills\",\n",
    "    \"Pyrexia\"\n",
    "]"
   ],
   "id": "33f33328cdd899d8",
   "outputs": [],
   "execution_count": 6
  },
  {
   "metadata": {
    "ExecuteTime": {
     "end_time": "2024-05-20T11:03:41.457537Z",
     "start_time": "2024-05-20T11:03:41.450512Z"
    }
   },
   "cell_type": "code",
   "source": [
    "Novavax_adverse_reactions = [\n",
    "    \"Headache\",\n",
    "    \"Nausea\",\n",
    "    \"Vomiting\",\n",
    "    \"Myalgia\",\n",
    "    \"Arthralgia\",\n",
    "    \"Injection site tenderness\",\n",
    "    \"Injection site pain\",\n",
    "    \"Fatigue\",\n",
    "    \"Malaise\",\n",
    "    \"Injection site redness\",\n",
    "    \"Injection site swelling\",\n",
    "    \"Pyrexia\",\n",
    "    \"Pain in extremity\",\n",
    "    \"Injection site pruritus\",\n",
    "    \"Chills\",\n",
    "    \"Injection site warmth\",\n",
    "    \"Lymphadenopathy\",\n",
    "    \"Anaphylaxis\",\n",
    "    \"Paraesthesia\",\n",
    "    \"Hypoaesthesia\",\n",
    "    \"Myocarditis\",\n",
    "    \"Pericarditis\",\n",
    "    \"Hypertension\",\n",
    "    \"Rash\",\n",
    "    \"Erythema\",\n",
    "    \"Pruritus\",\n",
    "    \"Urticaria\"\n",
    "]"
   ],
   "id": "e6c0a050be453f4a",
   "outputs": [],
   "execution_count": 7
  },
  {
   "metadata": {},
   "cell_type": "markdown",
   "source": "### combinations Pfizer",
   "id": "45d4e0ce0dff257d"
  },
  {
   "metadata": {},
   "cell_type": "markdown",
   "source": "#### COVID19 (maybe add COVID19-2 and both together later)",
   "id": "df62399c7d4107f6"
  },
  {
   "metadata": {
    "ExecuteTime": {
     "end_time": "2024-05-20T11:03:46.065819Z",
     "start_time": "2024-05-20T11:03:45.791698Z"
    }
   },
   "cell_type": "code",
   "source": [
    "query = {\n",
    "      \"vaccine\": \"COVID19\",\n",
    "      \"manufacturer\": \"PFIZER\\\\BIONTECH\"\n",
    "}\n",
    "y_true_Pfizer = []\n",
    "rrr_chi2_Pfizer = []\n",
    "rrr_ci_Pfizer = []\n",
    "prr_chi2_Pfizer = []\n",
    "prr_ci_Pfizer = []\n",
    "ror_chi2_Pfizer = []\n",
    "ror_ci_Pfizer = []\n",
    "ic_chi2_Pfizer = []\n",
    "ic_ci_Pfizer = []\n",
    "order_Pfizer = []\n",
    "\n",
    "results = list(collection.find(query))\n",
    "\n",
    "for result in tqdm(results):\n",
    "    DE = result.get(\"DE\")\n",
    "    if DE >= 3:\n",
    "        dE = result.get(\"dE\")\n",
    "        De = result.get(\"De\")\n",
    "        de = result.get(\"de\")\n",
    "\n",
    "        # Ensure all necessary data is available\n",
    "        if None in [DE, dE, De, de]:\n",
    "            continue\n",
    "\n",
    "        contingency_table = [\n",
    "            [DE, dE],\n",
    "            [De, de]\n",
    "        ]\n",
    "\n",
    "        # Compute statistical measures\n",
    "        rrr, sd_rrr = disproportionaly_analysis.relative_reporting_ratio(\n",
    "            contingency_table), disproportionaly_analysis.sd_rrr(contingency_table)\n",
    "        rrr_ci_lower, rrr_ci_upper = disproportionaly_analysis.confidence_interval(rrr, sd_rrr)\n",
    "\n",
    "        prr, sd_prr = disproportionaly_analysis.proportional_reporting_ratio(\n",
    "            contingency_table), disproportionaly_analysis.sd_prr(contingency_table)\n",
    "        prr_ci_lower, prr_ci_upper = disproportionaly_analysis.confidence_interval(prr, sd_prr)\n",
    "\n",
    "        ror, sd_ror = disproportionaly_analysis.reporting_odds_ratio(\n",
    "            contingency_table), disproportionaly_analysis.sd_ror(contingency_table)\n",
    "        ror_ci_lower, ror_ci_upper = disproportionaly_analysis.confidence_interval(ror, sd_ror)\n",
    "\n",
    "        chi_square = disproportionaly_analysis.chi_square_yates(contingency_table)\n",
    "        IC = disproportionaly_analysis.information_component(contingency_table)\n",
    "        IC_ci_lower, IC_ci_upper = disproportionaly_analysis.confidence_interval_information_component(\n",
    "            contingency_table, IC)\n",
    "\n",
    "        order_Pfizer.append(result[\"symptom\"])\n",
    "\n",
    "        if result.get(\"symptom\") in Pfizer_adverse_reactions:\n",
    "            y_true_Pfizer.append(1)\n",
    "        else:\n",
    "            y_true_Pfizer.append(0)\n",
    "\n",
    "        # CHI SQUARE METHODS\n",
    "\n",
    "        if rrr > 2 and chi_square > 3.841:\n",
    "            rrr_chi2_Pfizer.append(1)\n",
    "        else:\n",
    "            rrr_chi2_Pfizer.append(0)\n",
    "\n",
    "        if prr > 2 and chi_square > 3.841:\n",
    "            prr_chi2_Pfizer.append(1)\n",
    "        else:\n",
    "            prr_chi2_Pfizer.append(0)\n",
    "\n",
    "        if ror > 2 and chi_square > 3.841:\n",
    "            ror_chi2_Pfizer.append(1)\n",
    "        else:\n",
    "            ror_chi2_Pfizer.append(0)\n",
    "\n",
    "        if IC > 0 and chi_square > 3.841:  #bedingung?\n",
    "            ic_chi2_Pfizer.append(1)\n",
    "        else:\n",
    "            ic_chi2_Pfizer.append(0)\n",
    "\n",
    "        # CI METHODS\n",
    "\n",
    "        if rrr_ci_lower > 1:\n",
    "            rrr_ci_Pfizer.append(1)\n",
    "        else:\n",
    "            rrr_ci_Pfizer.append(0)\n",
    "\n",
    "        if prr_ci_lower > 1:\n",
    "            prr_ci_Pfizer.append(1)\n",
    "        else:\n",
    "            prr_ci_Pfizer.append(0)\n",
    "\n",
    "        if ror_ci_lower > 1:\n",
    "            ror_ci_Pfizer.append(1)\n",
    "        else:\n",
    "            ror_ci_Pfizer.append(0)\n",
    "\n",
    "        if IC_ci_lower > 0:\n",
    "            ic_ci_Pfizer.append(1)\n",
    "        else:\n",
    "            ic_ci_Pfizer.append(0)\n",
    "\n",
    "    "
   ],
   "id": "a9c0a9a772e40b28",
   "outputs": [
    {
     "name": "stderr",
     "output_type": "stream",
     "text": [
      "100%|██████████| 9907/9907 [00:00<00:00, 116710.68it/s]\n"
     ]
    }
   ],
   "execution_count": 8
  },
  {
   "metadata": {
    "ExecuteTime": {
     "end_time": "2024-05-20T11:03:50.569817Z",
     "start_time": "2024-05-20T11:03:50.523910Z"
    }
   },
   "cell_type": "code",
   "source": [
    "np.array(rrr_chi2_Pfizer).dump(open('All_data/Arrays_Pfizer/rrr_chi2_Pfizer.npy', 'wb'))\n",
    "np.array(prr_chi2_Pfizer).dump(open('All_data/Arrays_Pfizer/prr_chi2_Pfizer.npy', 'wb'))\n",
    "np.array(ror_chi2_Pfizer).dump(open('All_data/Arrays_Pfizer/ror_chi2_Pfizer.npy', 'wb'))\n",
    "np.array(ic_chi2_Pfizer).dump(open('All_data/Arrays_Pfizer/ic_chi2_Pfizer.npy', 'wb'))\n",
    "\n",
    "np.array(rrr_ci_Pfizer).dump(open('All_data/Arrays_Pfizer/rrr_ci_Pfizer.npy', 'wb'))\n",
    "np.array(prr_ci_Pfizer).dump(open('All_data/Arrays_Pfizer/prr_ci_Pfizer.npy', 'wb'))\n",
    "np.array(ror_ci_Pfizer).dump(open('All_data/Arrays_Pfizer/ror_ci_Pfizer.npy', 'wb'))\n",
    "np.array(ic_ci_Pfizer).dump(open('All_data/Arrays_Pfizer/ic_ci_Pfizer.npy', 'wb'))\n",
    "\n",
    "np.array(y_true_Pfizer).dump(open('All_data/Arrays_Pfizer/y_true_Pfizer.npy', 'wb'))\n",
    "np.array(order_Pfizer).dump(open('All_data/Arrays_Pfizer/order_Pfizer.npy', 'wb'))"
   ],
   "id": "3831f647a8d58330",
   "outputs": [],
   "execution_count": 9
  },
  {
   "metadata": {
    "ExecuteTime": {
     "end_time": "2024-05-20T11:03:51.251229Z",
     "start_time": "2024-05-20T11:03:51.246733Z"
    }
   },
   "cell_type": "code",
   "source": [
    "print(len(rrr_chi2_Pfizer))\n",
    "print(len(prr_chi2_Pfizer))\n",
    "print(len(ror_chi2_Pfizer))\n",
    "print(len(ic_chi2_Pfizer))\n",
    "print(len(rrr_ci_Pfizer))\n",
    "print(len(prr_ci_Pfizer))\n",
    "print(len(ror_ci_Pfizer))\n",
    "print(len(ic_ci_Pfizer))\n",
    "print(len(order_Pfizer))\n",
    "print(len(y_true_Pfizer))"
   ],
   "id": "61109075140dd8d7",
   "outputs": [
    {
     "name": "stdout",
     "output_type": "stream",
     "text": [
      "9698\n",
      "9698\n",
      "9698\n",
      "9698\n",
      "9698\n",
      "9698\n",
      "9698\n",
      "9698\n",
      "9698\n",
      "9698\n"
     ]
    }
   ],
   "execution_count": 10
  },
  {
   "metadata": {},
   "cell_type": "markdown",
   "source": "### MODERNA",
   "id": "8866bb174d3d39cd"
  },
  {
   "metadata": {
    "ExecuteTime": {
     "end_time": "2024-05-20T11:03:53.223627Z",
     "start_time": "2024-05-20T11:03:52.999354Z"
    }
   },
   "cell_type": "code",
   "source": [
    "query = {\n",
    "      \"vaccine\": \"COVID19\",\n",
    "      \"manufacturer\": \"MODERNA\"\n",
    "}\n",
    "y_true_Moderna = []\n",
    "rrr_chi2_Moderna = []\n",
    "rrr_ci_Moderna = []\n",
    "prr_chi2_Moderna = []\n",
    "prr_ci_Moderna = []\n",
    "ror_chi2_Moderna = []\n",
    "ror_ci_Moderna = []\n",
    "ic_chi2_Moderna = []\n",
    "ic_ci_Moderna = []\n",
    "order_Moderna = []\n",
    "\n",
    "results = list(collection.find(query))\n",
    "\n",
    "for result in tqdm(results): \n",
    "    DE = result.get(\"DE\")\n",
    "    if DE >=3:\n",
    "        dE = result.get(\"dE\")\n",
    "        De = result.get(\"De\")\n",
    "        de = result.get(\"de\")\n",
    "        \n",
    "        # Ensure all necessary data is available\n",
    "        if None in [DE, dE, De, de]:\n",
    "            continue\n",
    "        \n",
    "        contingency_table = [\n",
    "            [DE, dE],\n",
    "            [De, de]\n",
    "        ]\n",
    "        \n",
    "        # Compute statistical measures\n",
    "        rrr, sd_rrr = disproportionaly_analysis.relative_reporting_ratio(contingency_table), disproportionaly_analysis.sd_rrr(contingency_table)\n",
    "        rrr_ci_lower, rrr_ci_upper = disproportionaly_analysis.confidence_interval(rrr, sd_rrr)\n",
    "        \n",
    "        prr, sd_prr = disproportionaly_analysis.proportional_reporting_ratio(contingency_table), disproportionaly_analysis.sd_prr(contingency_table)\n",
    "        prr_ci_lower, prr_ci_upper = disproportionaly_analysis.confidence_interval(prr, sd_prr)\n",
    "        \n",
    "        ror, sd_ror = disproportionaly_analysis.reporting_odds_ratio(contingency_table), disproportionaly_analysis.sd_ror(contingency_table)\n",
    "        ror_ci_lower, ror_ci_upper = disproportionaly_analysis.confidence_interval(ror, sd_ror)\n",
    "        \n",
    "        chi_square = disproportionaly_analysis.chi_square_yates(contingency_table)\n",
    "        IC = disproportionaly_analysis.information_component(contingency_table)\n",
    "        IC_ci_lower, IC_ci_upper = disproportionaly_analysis.confidence_interval_information_component(contingency_table, IC)\n",
    "        \n",
    "        order_Moderna.append(result[\"symptom\"])\n",
    "        \n",
    "        if result.get(\"symptom\") in Moderna_adverse_reactions:\n",
    "            y_true_Moderna.append(1)\n",
    "        else:\n",
    "            y_true_Moderna.append(0)\n",
    "            \n",
    "            \n",
    "        # CHI SQUARE METHODS\n",
    "            \n",
    "        if rrr > 2 and chi_square > 3.841:\n",
    "            rrr_chi2_Moderna.append(1)\n",
    "        else:\n",
    "            rrr_chi2_Moderna.append(0)\n",
    "            \n",
    "        if prr > 2 and chi_square > 3.841:\n",
    "            prr_chi2_Moderna.append(1)\n",
    "        else:\n",
    "            prr_chi2_Moderna.append(0)\n",
    "        \n",
    "        if ror > 2 and chi_square > 3.841:\n",
    "            ror_chi2_Moderna.append(1)\n",
    "        else:\n",
    "            ror_chi2_Moderna.append(0)\n",
    "        \n",
    "        if IC > 0 and chi_square > 3.841: #bedingung?\n",
    "            ic_chi2_Moderna.append(1)\n",
    "        else: \n",
    "            ic_chi2_Moderna.append(0)\n",
    "            \n",
    "        # CI METHODS\n",
    "        \n",
    "        if rrr_ci_lower > 1:\n",
    "            rrr_ci_Moderna.append(1)\n",
    "        else:\n",
    "            rrr_ci_Moderna.append(0)\n",
    "            \n",
    "        if prr_ci_lower > 1:\n",
    "            prr_ci_Moderna.append(1)\n",
    "        else:\n",
    "            prr_ci_Moderna.append(0)\n",
    "        \n",
    "        if ror_ci_lower > 1:\n",
    "            ror_ci_Moderna.append(1)\n",
    "        else:\n",
    "            ror_ci_Moderna.append(0)\n",
    "        \n",
    "        if IC_ci_lower > 0:\n",
    "            ic_ci_Moderna.append(1)\n",
    "        else: \n",
    "            ic_ci_Moderna.append(0)"
   ],
   "id": "9cca19c43a65b8cb",
   "outputs": [
    {
     "name": "stderr",
     "output_type": "stream",
     "text": [
      "100%|██████████| 7230/7230 [00:00<00:00, 107674.95it/s]\n"
     ]
    }
   ],
   "execution_count": 11
  },
  {
   "metadata": {
    "ExecuteTime": {
     "end_time": "2024-05-20T11:03:54.133764Z",
     "start_time": "2024-05-20T11:03:54.105518Z"
    }
   },
   "cell_type": "code",
   "source": [
    "np.array(rrr_chi2_Moderna).dump(open('All_data/Arrays_Moderna/rrr_chi2_Moderna.npy', 'wb'))\n",
    "np.array(prr_chi2_Moderna).dump(open('All_data/Arrays_Moderna/prr_chi2_Moderna.npy', 'wb'))\n",
    "np.array(ror_chi2_Moderna).dump(open('All_data/Arrays_Moderna/ror_chi2_Moderna.npy', 'wb'))\n",
    "np.array(ic_chi2_Moderna).dump(open('All_data/Arrays_Moderna/ic_chi2_Moderna.npy', 'wb'))\n",
    "\n",
    "np.array(rrr_ci_Moderna).dump(open('All_data/Arrays_Moderna/rrr_ci_Moderna.npy', 'wb'))\n",
    "np.array(prr_ci_Moderna).dump(open('All_data/Arrays_Moderna/prr_ci_Moderna.npy', 'wb'))\n",
    "np.array(ror_ci_Moderna).dump(open('All_data/Arrays_Moderna/ror_ci_Moderna.npy', 'wb'))\n",
    "np.array(ic_ci_Moderna).dump(open('All_data/Arrays_Moderna/ic_ci_Moderna.npy', 'wb'))\n",
    "\n",
    "np.array(y_true_Moderna).dump(open('All_data/Arrays_Moderna/y_true_Moderna.npy', 'wb'))\n",
    "np.array(order_Moderna).dump(open('All_data/Arrays_Moderna/order_Moderna.npy', 'wb'))"
   ],
   "id": "34f7b2db0ce01b6d",
   "outputs": [],
   "execution_count": 12
  },
  {
   "metadata": {
    "ExecuteTime": {
     "end_time": "2024-05-20T11:03:54.621514Z",
     "start_time": "2024-05-20T11:03:54.615057Z"
    }
   },
   "cell_type": "code",
   "source": [
    "print(len(rrr_chi2_Moderna))\n",
    "print(len(prr_chi2_Moderna))\n",
    "print(len(ror_chi2_Moderna))\n",
    "print(len(ic_chi2_Moderna))\n",
    "print(len(rrr_ci_Moderna))\n",
    "print(len(prr_ci_Moderna))\n",
    "print(len(ror_ci_Moderna))\n",
    "print(len(ic_ci_Moderna))\n",
    "print(len(order_Moderna))"
   ],
   "id": "7e6e2e3c0582afbb",
   "outputs": [
    {
     "name": "stdout",
     "output_type": "stream",
     "text": [
      "6912\n",
      "6912\n",
      "6912\n",
      "6912\n",
      "6912\n",
      "6912\n",
      "6912\n",
      "6912\n",
      "6912\n"
     ]
    }
   ],
   "execution_count": 13
  },
  {
   "metadata": {},
   "cell_type": "markdown",
   "source": "### JANSSEN",
   "id": "9c167c14a0adb3f4"
  },
  {
   "metadata": {
    "ExecuteTime": {
     "end_time": "2024-05-20T11:03:56.012270Z",
     "start_time": "2024-05-20T11:03:55.753571Z"
    }
   },
   "cell_type": "code",
   "source": [
    "query = {\n",
    "      \"vaccine\": \"COVID19\",\n",
    "      \"manufacturer\": \"JANSSEN\"\n",
    "}\n",
    "y_true_Janssen = []\n",
    "rrr_chi2_Janssen = []\n",
    "rrr_ci_Janssen = []\n",
    "prr_chi2_Janssen = []\n",
    "prr_ci_Janssen = []\n",
    "ror_chi2_Janssen = []\n",
    "ror_ci_Janssen = []\n",
    "ic_chi2_Janssen = []\n",
    "ic_ci_Janssen = []\n",
    "order_Janssen = []\n",
    "\n",
    "results = list(collection.find(query))\n",
    "\n",
    "for result in tqdm(results): \n",
    "    DE = result.get(\"DE\")\n",
    "    if DE >=3:\n",
    "        dE = result.get(\"dE\")\n",
    "        De = result.get(\"De\")\n",
    "        de = result.get(\"de\")\n",
    "        \n",
    "        # Ensure all necessary data is available\n",
    "        if None in [DE, dE, De, de]:\n",
    "            continue\n",
    "        \n",
    "        contingency_table = [\n",
    "            [DE, dE],\n",
    "            [De, de]\n",
    "        ]\n",
    "        \n",
    "        # Compute statistical measures\n",
    "        rrr, sd_rrr = disproportionaly_analysis.relative_reporting_ratio(contingency_table), disproportionaly_analysis.sd_rrr(contingency_table)\n",
    "        rrr_ci_lower, rrr_ci_upper = disproportionaly_analysis.confidence_interval(rrr, sd_rrr)\n",
    "        \n",
    "        prr, sd_prr = disproportionaly_analysis.proportional_reporting_ratio(contingency_table), disproportionaly_analysis.sd_prr(contingency_table)\n",
    "        prr_ci_lower, prr_ci_upper = disproportionaly_analysis.confidence_interval(prr, sd_prr)\n",
    "        \n",
    "        ror, sd_ror = disproportionaly_analysis.reporting_odds_ratio(contingency_table), disproportionaly_analysis.sd_ror(contingency_table)\n",
    "        ror_ci_lower, ror_ci_upper = disproportionaly_analysis.confidence_interval(ror, sd_ror)\n",
    "        \n",
    "        chi_square = disproportionaly_analysis.chi_square_yates(contingency_table)\n",
    "        IC = disproportionaly_analysis.information_component(contingency_table)\n",
    "        IC_ci_lower, IC_ci_upper = disproportionaly_analysis.confidence_interval_information_component(contingency_table, IC)\n",
    "        \n",
    "        order_Janssen.append(result[\"symptom\"])\n",
    "        \n",
    "        if result.get(\"symptom\") in Janssen_adverse_reactions:\n",
    "            y_true_Janssen.append(1)\n",
    "        else:\n",
    "            y_true_Janssen.append(0)\n",
    "            \n",
    "            \n",
    "        # CHI SQUARE METHODS\n",
    "            \n",
    "        if rrr > 2 and chi_square > 3.841:\n",
    "            rrr_chi2_Janssen.append(1)\n",
    "        else:\n",
    "            rrr_chi2_Janssen.append(0)\n",
    "            \n",
    "        if prr > 2 and chi_square > 3.841:\n",
    "            prr_chi2_Janssen.append(1)\n",
    "        else:\n",
    "            prr_chi2_Janssen.append(0)\n",
    "        \n",
    "        if ror > 2 and chi_square > 3.841:\n",
    "            ror_chi2_Janssen.append(1)\n",
    "        else:\n",
    "            ror_chi2_Janssen.append(0)\n",
    "        \n",
    "        if IC > 0 and chi_square > 3.841: #bedingung?\n",
    "            ic_chi2_Janssen.append(1)\n",
    "        else: \n",
    "            ic_chi2_Janssen.append(0)\n",
    "            \n",
    "        # CI METHODS\n",
    "        \n",
    "        if rrr_ci_lower > 1:\n",
    "            rrr_ci_Janssen.append(1)\n",
    "        else:\n",
    "            rrr_ci_Janssen.append(0)\n",
    "            \n",
    "        if prr_ci_lower > 1:\n",
    "            prr_ci_Janssen.append(1)\n",
    "        else:\n",
    "            prr_ci_Janssen.append(0)\n",
    "        \n",
    "        if ror_ci_lower > 1:\n",
    "            ror_ci_Janssen.append(1)\n",
    "        else:\n",
    "            ror_ci_Janssen.append(0)\n",
    "        \n",
    "        if IC_ci_lower > 0:\n",
    "            ic_ci_Janssen.append(1)\n",
    "        else: \n",
    "            ic_ci_Janssen.append(0)\n",
    "    "
   ],
   "id": "faa8dec1dbeb04b1",
   "outputs": [
    {
     "name": "stderr",
     "output_type": "stream",
     "text": [
      "100%|██████████| 3678/3678 [00:00<00:00, 103757.40it/s]\n"
     ]
    }
   ],
   "execution_count": 14
  },
  {
   "metadata": {
    "ExecuteTime": {
     "end_time": "2024-05-20T11:03:56.229598Z",
     "start_time": "2024-05-20T11:03:56.206935Z"
    }
   },
   "cell_type": "code",
   "source": [
    "np.array(rrr_chi2_Janssen).dump(open('All_data/Arrays_Janssen/rrr_chi2_Janssen.npy', 'wb'))\n",
    "np.array(prr_chi2_Janssen).dump(open('All_data/Arrays_Janssen/prr_chi2_Janssen.npy', 'wb'))\n",
    "np.array(ror_chi2_Janssen).dump(open('All_data/Arrays_Janssen/ror_chi2_Janssen.npy', 'wb'))\n",
    "np.array(ic_chi2_Janssen).dump(open('All_data/Arrays_Janssen/ic_chi2_Janssen.npy', 'wb'))\n",
    "\n",
    "np.array(rrr_ci_Janssen).dump(open('All_data/Arrays_Janssen/rrr_ci_Janssen.npy', 'wb'))\n",
    "np.array(prr_ci_Janssen).dump(open('All_data/Arrays_Janssen/prr_ci_Janssen.npy', 'wb'))\n",
    "np.array(ror_ci_Janssen).dump(open('All_data/Arrays_Janssen/ror_ci_Janssen.npy', 'wb'))\n",
    "np.array(ic_ci_Janssen).dump(open('All_data/Arrays_Janssen/ic_ci_Janssen.npy', 'wb'))\n",
    "\n",
    "np.array(y_true_Janssen).dump(open('All_data/Arrays_Janssen/y_true_Janssen.npy', 'wb'))\n",
    "np.array(order_Janssen).dump(open('All_data/Arrays_Janssen/order_Janssen.npy', 'wb'))"
   ],
   "id": "36a1e53e0ff46fc7",
   "outputs": [],
   "execution_count": 15
  },
  {
   "metadata": {
    "ExecuteTime": {
     "end_time": "2024-05-20T11:03:57.208718Z",
     "start_time": "2024-05-20T11:03:57.202540Z"
    }
   },
   "cell_type": "code",
   "source": [
    "print(len(rrr_chi2_Janssen))\n",
    "print(len(prr_chi2_Janssen))\n",
    "print(len(ror_chi2_Janssen))\n",
    "print(len(ic_chi2_Janssen))\n",
    "print(len(rrr_ci_Janssen))\n",
    "print(len(prr_ci_Janssen))\n",
    "print(len(ror_ci_Janssen))\n",
    "print(len(ic_ci_Janssen))\n",
    "print(len(order_Janssen))\n",
    "print(len(y_true_Janssen))"
   ],
   "id": "a9d264405eca6838",
   "outputs": [
    {
     "name": "stdout",
     "output_type": "stream",
     "text": [
      "3667\n",
      "3667\n",
      "3667\n",
      "3667\n",
      "3667\n",
      "3667\n",
      "3667\n",
      "3667\n",
      "3667\n",
      "3667\n"
     ]
    }
   ],
   "execution_count": 16
  },
  {
   "metadata": {},
   "cell_type": "markdown",
   "source": "### Novavax",
   "id": "405043a165923220"
  },
  {
   "metadata": {
    "ExecuteTime": {
     "end_time": "2024-05-20T11:03:58.459589Z",
     "start_time": "2024-05-20T11:03:58.345614Z"
    }
   },
   "cell_type": "code",
   "source": [
    "query = {\n",
    "      \"vaccine\": \"COVID19\",\n",
    "      \"manufacturer\": \"NOVAVAX\"\n",
    "}\n",
    "y_true_Novavax = []\n",
    "rrr_chi2_Novavax = []\n",
    "rrr_ci_Novavax = []\n",
    "prr_chi2_Novavax = []\n",
    "prr_ci_Novavax = []\n",
    "ror_chi2_Novavax = []\n",
    "ror_ci_Novavax = []\n",
    "ic_chi2_Novavax = []\n",
    "ic_ci_Novavax = []\n",
    "order_Novavax = []\n",
    "\n",
    "results = list(collection.find(query))\n",
    "\n",
    "for result in tqdm(results): \n",
    "    DE = result.get(\"DE\")\n",
    "    if DE >=3:\n",
    "        dE = result.get(\"dE\")\n",
    "        De = result.get(\"De\")\n",
    "        de = result.get(\"de\")\n",
    "        \n",
    "        # Ensure all necessary data is available\n",
    "        if None in [DE, dE, De, de]:\n",
    "            continue\n",
    "        \n",
    "        contingency_table = [\n",
    "            [DE, dE],\n",
    "            [De, de]\n",
    "        ]\n",
    "        \n",
    "        # Compute statistical measures\n",
    "        rrr, sd_rrr = disproportionaly_analysis.relative_reporting_ratio(contingency_table), disproportionaly_analysis.sd_rrr(contingency_table)\n",
    "        rrr_ci_lower, rrr_ci_upper = disproportionaly_analysis.confidence_interval(rrr, sd_rrr)\n",
    "        \n",
    "        prr, sd_prr = disproportionaly_analysis.proportional_reporting_ratio(contingency_table), disproportionaly_analysis.sd_prr(contingency_table)\n",
    "        prr_ci_lower, prr_ci_upper = disproportionaly_analysis.confidence_interval(prr, sd_prr)\n",
    "        \n",
    "        ror, sd_ror = disproportionaly_analysis.reporting_odds_ratio(contingency_table), disproportionaly_analysis.sd_ror(contingency_table)\n",
    "        ror_ci_lower, ror_ci_upper = disproportionaly_analysis.confidence_interval(ror, sd_ror)\n",
    "        \n",
    "        chi_square = disproportionaly_analysis.chi_square_yates(contingency_table)\n",
    "        IC = disproportionaly_analysis.information_component(contingency_table)\n",
    "        IC_ci_lower, IC_ci_upper = disproportionaly_analysis.confidence_interval_information_component(contingency_table, IC)\n",
    "        \n",
    "        order_Novavax.append(result[\"symptom\"])\n",
    "        \n",
    "        if result.get(\"symptom\") in Novavax_adverse_reactions:\n",
    "            y_true_Novavax.append(1)\n",
    "        else:\n",
    "            y_true_Novavax.append(0)\n",
    "            \n",
    "            \n",
    "        # CHI SQUARE METHODS\n",
    "            \n",
    "        if rrr > 2 and chi_square > 3.841:\n",
    "            rrr_chi2_Novavax.append(1)\n",
    "        else:\n",
    "            rrr_chi2_Novavax.append(0)\n",
    "            \n",
    "        if prr > 2 and chi_square > 3.841:\n",
    "            prr_chi2_Novavax.append(1)\n",
    "        else:\n",
    "            prr_chi2_Novavax.append(0)\n",
    "        \n",
    "        if ror > 2 and chi_square > 3.841:\n",
    "            ror_chi2_Novavax.append(1)\n",
    "        else:\n",
    "            ror_chi2_Novavax.append(0)\n",
    "        \n",
    "        if IC > 0 and chi_square > 3.841: #bedingung?\n",
    "            ic_chi2_Novavax.append(1)\n",
    "        else: \n",
    "            ic_chi2_Novavax.append(0)\n",
    "            \n",
    "        # CI METHODS\n",
    "        \n",
    "        if rrr_ci_lower > 1:\n",
    "            rrr_ci_Novavax.append(1)\n",
    "        else:\n",
    "            rrr_ci_Novavax.append(0)\n",
    "            \n",
    "        if prr_ci_lower > 1:\n",
    "            prr_ci_Novavax.append(1)\n",
    "        else:\n",
    "            prr_ci_Novavax.append(0)\n",
    "        \n",
    "        if ror_ci_lower > 1:\n",
    "            ror_ci_Novavax.append(1)\n",
    "        else:\n",
    "            ror_ci_Novavax.append(0)\n",
    "        \n",
    "        if IC_ci_lower > 0:\n",
    "            ic_ci_Novavax.append(1)\n",
    "        else: \n",
    "            ic_ci_Novavax.append(0)\n",
    "        \n"
   ],
   "id": "e8c9e311b3332ec0",
   "outputs": [
    {
     "name": "stderr",
     "output_type": "stream",
     "text": [
      "100%|██████████| 159/159 [00:00<00:00, 32980.28it/s]\n"
     ]
    }
   ],
   "execution_count": 17
  },
  {
   "metadata": {
    "ExecuteTime": {
     "end_time": "2024-05-20T11:03:59.195495Z",
     "start_time": "2024-05-20T11:03:59.182036Z"
    }
   },
   "cell_type": "code",
   "source": [
    "np.array(rrr_chi2_Novavax).dump(open('All_data/Arrays_Novavax/rrr_chi2_Novavax.npy', 'wb'))\n",
    "np.array(prr_chi2_Novavax).dump(open('All_data/Arrays_Novavax/prr_chi2_Novavax.npy', 'wb'))\n",
    "np.array(ror_chi2_Novavax).dump(open('All_data/Arrays_Novavax/ror_chi2_Novavax.npy', 'wb'))\n",
    "np.array(ic_chi2_Novavax).dump(open('All_data/Arrays_Novavax/ic_chi2_Novavax.npy', 'wb'))\n",
    "\n",
    "np.array(rrr_ci_Novavax).dump(open('All_data/Arrays_Novavax/rrr_ci_Novavax.npy', 'wb'))\n",
    "np.array(prr_ci_Novavax).dump(open('All_data/Arrays_Novavax/prr_ci_Novavax.npy', 'wb'))\n",
    "np.array(ror_ci_Novavax).dump(open('All_data/Arrays_Novavax/ror_ci_Novavax.npy', 'wb'))\n",
    "np.array(ic_ci_Novavax).dump(open('All_data/Arrays_Novavax/ic_ci_Novavax.npy', 'wb'))\n",
    "\n",
    "np.array(y_true_Novavax).dump(open('All_data/Arrays_Novavax/y_true_Novavax.npy', 'wb'))\n",
    "np.array(order_Novavax).dump(open('All_data/Arrays_Novavax/order_Novavax.npy', 'wb'))"
   ],
   "id": "2f434f9140e2dc20",
   "outputs": [],
   "execution_count": 18
  },
  {
   "metadata": {
    "ExecuteTime": {
     "end_time": "2024-05-20T11:04:00.438837Z",
     "start_time": "2024-05-20T11:04:00.430898Z"
    }
   },
   "cell_type": "code",
   "source": [
    "print(len(rrr_chi2_Novavax))\n",
    "print(len(prr_chi2_Novavax))\n",
    "print(len(ror_chi2_Novavax))\n",
    "print(len(ic_chi2_Novavax))\n",
    "print(len(rrr_ci_Novavax))\n",
    "print(len(prr_ci_Novavax))\n",
    "print(len(ror_ci_Novavax))\n",
    "print(len(ic_ci_Novavax))\n",
    "print(len(order_Novavax))"
   ],
   "id": "26275e37cd13c26a",
   "outputs": [
    {
     "name": "stdout",
     "output_type": "stream",
     "text": [
      "151\n",
      "151\n",
      "151\n",
      "151\n",
      "151\n",
      "151\n",
      "151\n",
      "151\n",
      "151\n"
     ]
    }
   ],
   "execution_count": 19
  },
  {
   "metadata": {},
   "cell_type": "code",
   "outputs": [],
   "execution_count": null,
   "source": "",
   "id": "c2bb9456c353a019"
  }
 ],
 "metadata": {
  "kernelspec": {
   "display_name": "Python 3",
   "language": "python",
   "name": "python3"
  },
  "language_info": {
   "codemirror_mode": {
    "name": "ipython",
    "version": 2
   },
   "file_extension": ".py",
   "mimetype": "text/x-python",
   "name": "python",
   "nbconvert_exporter": "python",
   "pygments_lexer": "ipython2",
   "version": "2.7.6"
  }
 },
 "nbformat": 4,
 "nbformat_minor": 5
}

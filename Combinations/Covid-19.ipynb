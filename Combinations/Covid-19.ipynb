{
 "cells": [
  {
   "cell_type": "code",
   "id": "initial_id",
   "metadata": {
    "collapsed": true,
    "ExecuteTime": {
     "end_time": "2024-05-17T21:26:17.665762Z",
     "start_time": "2024-05-17T21:26:17.655899Z"
    }
   },
   "source": [
    "from pymongo import MongoClient\n",
    "import json\n",
    "import matplotlib.pyplot as plt\n",
    "\n",
    "# Connect to your MongoDB instance\n",
    "client = MongoClient('mongodb://localhost:27017/')\n",
    "db = client['vaers']  \n",
    "collection = db['reports']  "
   ],
   "outputs": [],
   "execution_count": 6
  },
  {
   "cell_type": "code",
   "source": [
    "# Aggregation pipeline with allowDiskUse option\n",
    "pipeline = [\n",
    "    {\n",
    "        \"$project\": {\n",
    "            \"vax_data\": 1,\n",
    "            \"symptoms\": 1,\n",
    "            \"_id\": 0\n",
    "        }\n",
    "    },\n",
    "    {\n",
    "        \"$unwind\": \"$vax_data\"\n",
    "    },\n",
    "    {\n",
    "        \"$match\": {\n",
    "            \"vax_data.VAX_TYPE\": {\"$regex\": \"COVID\"}\n",
    "        }\n",
    "    },\n",
    "    {\n",
    "        \"$unwind\": \"$symptoms\"\n",
    "    },\n",
    "    {\n",
    "        \"$group\": {\n",
    "            \"_id\": {\n",
    "                \"vaccine\": \"$vax_data.VAX_TYPE\",\n",
    "                \"manufacturer\": \"$vax_data.VAX_MANU\",\n",
    "                \"Event\": \"$symptoms\"\n",
    "            },\n",
    "            \"count\": {\"$sum\": 1}\n",
    "        }\n",
    "    },\n",
    "    {\n",
    "        \"$project\": {\n",
    "            \"_id\": 0,\n",
    "            \"vaccine\": \"$_id.vaccine\",\n",
    "            \"manufacturer\": \"$_id.manufacturer\",\n",
    "            \"Event\": \"$_id.Event\",\n",
    "            \"count\": \"$count\"\n",
    "        }\n",
    "    }\n",
    "]\n",
    "\n",
    "# Execute aggregation pipeline with allowDiskUse option\n",
    "results = collection.aggregate(pipeline, allowDiskUse=True)\n",
    "\n",
    "# Create a list of unique combinations and their counts\n",
    "unique_combinations = [result for result in results]\n",
    "\n",
    "# Filter combinations with counts less than 3\n",
    "unique_combinations_filtered = [result for result in unique_combinations if result['count'] >= 3]\n",
    "\n",
    "print(len(unique_combinations_filtered))\n",
    "# Save filtered results as JSON\n",
    "file_name_filtered = \"Covid_Combinations_Filtered.json\"\n",
    "with open(file_name_filtered, 'w') as f:\n",
    "    json.dump(unique_combinations_filtered, f)\n",
    "\n",
    "print(f\"Filtered results saved as {file_name_filtered}\")"
   ],
   "metadata": {
    "collapsed": false,
    "ExecuteTime": {
     "end_time": "2024-05-17T21:26:28.035024Z",
     "start_time": "2024-05-17T21:26:18.219596Z"
    }
   },
   "id": "78984f0672488c63",
   "outputs": [
    {
     "name": "stdout",
     "output_type": "stream",
     "text": [
      "25554\n",
      "Filtered results saved as Covid_Combinations_Filtered.json\n"
     ]
    }
   ],
   "execution_count": 7
  },
  {
   "metadata": {},
   "cell_type": "code",
   "outputs": [],
   "execution_count": null,
   "source": "",
   "id": "13527354f0d11a29"
  }
 ],
 "metadata": {
  "kernelspec": {
   "display_name": "Python 3",
   "language": "python",
   "name": "python3"
  },
  "language_info": {
   "codemirror_mode": {
    "name": "ipython",
    "version": 2
   },
   "file_extension": ".py",
   "mimetype": "text/x-python",
   "name": "python",
   "nbconvert_exporter": "python",
   "pygments_lexer": "ipython2",
   "version": "2.7.6"
  }
 },
 "nbformat": 4,
 "nbformat_minor": 5
}

{
 "cells": [
  {
   "cell_type": "code",
   "id": "initial_id",
   "metadata": {
    "collapsed": true,
    "ExecuteTime": {
     "end_time": "2024-04-12T12:07:19.350063Z",
     "start_time": "2024-04-12T12:07:18.866583Z"
    }
   },
   "source": [
    "from pymongo import MongoClient\n",
    "import json\n",
    "import matplotlib.pyplot as plt\n",
    "\n",
    "# Connect to your MongoDB instance\n",
    "client = MongoClient('mongodb://localhost:27017/')\n",
    "db = client['vaers']  \n",
    "collection = db['reports']  "
   ],
   "outputs": [],
   "execution_count": 2
  },
  {
   "metadata": {
    "ExecuteTime": {
     "end_time": "2024-04-12T12:07:32.504131Z",
     "start_time": "2024-04-12T12:07:19.448078Z"
    }
   },
   "cell_type": "code",
   "source": [
    "pipeline = [\n",
    "    {\n",
    "        \"$project\": {\n",
    "            \"vax_data\": 1,\n",
    "            \"symptoms\": 1,\n",
    "            \"_id\": 0\n",
    "        }\n",
    "    },\n",
    "    {\n",
    "        \"$unwind\": \"$vax_data\"\n",
    "    },\n",
    "    # No $match stage is included here to filter by vaccine type\n",
    "    {\n",
    "        \"$unwind\": \"$symptoms\"\n",
    "    },\n",
    "    {\n",
    "        \"$group\": {\n",
    "            \"_id\": {\n",
    "                \"vaccine\": \"$vax_data.VAX_TYPE\",\n",
    "                \"manufacturer\": \"$vax_data.VAX_MANU\",\n",
    "                \"Event\": \"$symptoms\"\n",
    "            },\n",
    "            \"count\": {\"$sum\": 1}\n",
    "        }\n",
    "    },\n",
    "    {\n",
    "        \"$project\": {\n",
    "            \"_id\": 0,\n",
    "            \"vaccine\": \"$_id.vaccine\",\n",
    "            \"manufacturer\": \"$_id.manufacturer\",\n",
    "            \"Event\": \"$_id.Event\",\n",
    "            \"count\": \"$count\"\n",
    "        }\n",
    "    }\n",
    "]\n",
    "\n",
    "\n",
    "# Execute aggregation pipeline with allowDiskUse option\n",
    "results = collection.aggregate(pipeline, allowDiskUse=True)\n",
    "\n",
    "# Create a list of unique combinations and their counts\n",
    "unique_combinations = [result for result in results]\n",
    "\n",
    "# Filter combinations with counts less than 3\n",
    "unique_combinations_filtered = [result for result in unique_combinations if result['count'] >= 3]\n",
    "\n",
    "print(len(unique_combinations_filtered))\n",
    "# Save filtered results as JSON\n",
    "file_name_filtered = \"All_Combinations_Filtered.json\"\n",
    "with open(file_name_filtered, 'w') as f:\n",
    "    json.dump(unique_combinations_filtered, f)\n",
    "\n",
    "print(f\"Filtered results saved as {file_name_filtered}\")"
   ],
   "id": "23d463ee46edf8da",
   "outputs": [
    {
     "name": "stdout",
     "output_type": "stream",
     "text": [
      "143761\n",
      "Filtered results saved as All_Combinations_Filtered.json\n"
     ]
    }
   ],
   "execution_count": 3
  },
  {
   "metadata": {},
   "cell_type": "code",
   "outputs": [],
   "execution_count": null,
   "source": "",
   "id": "aa7a249466565a5d"
  }
 ],
 "metadata": {
  "kernelspec": {
   "display_name": "Python 3",
   "language": "python",
   "name": "python3"
  },
  "language_info": {
   "codemirror_mode": {
    "name": "ipython",
    "version": 2
   },
   "file_extension": ".py",
   "mimetype": "text/x-python",
   "name": "python",
   "nbconvert_exporter": "python",
   "pygments_lexer": "ipython2",
   "version": "2.7.6"
  }
 },
 "nbformat": 4,
 "nbformat_minor": 5
}

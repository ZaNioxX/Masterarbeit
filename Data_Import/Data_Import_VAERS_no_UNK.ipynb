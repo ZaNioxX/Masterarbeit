{
 "cells": [
  {
   "cell_type": "markdown",
   "source": [
    "# Connect to MongoDB"
   ],
   "metadata": {
    "collapsed": false
   },
   "id": "c7b377954635e42f"
  },
  {
   "cell_type": "code",
   "source": [
    "import pymongo\n",
    "# Connect to your MongoDB instance\n",
    "client = pymongo.MongoClient(\"mongodb://localhost:27017/\")\n",
    "db = client[\"vaers\"]\n",
    "collection = db[\"reports cleaned\"]"
   ],
   "metadata": {
    "collapsed": false,
    "ExecuteTime": {
     "end_time": "2024-05-17T12:13:54.287723Z",
     "start_time": "2024-05-17T12:13:54.275753Z"
    }
   },
   "id": "6ac7ace1af56b08c",
   "outputs": [],
   "execution_count": 11
  },
  {
   "cell_type": "markdown",
   "source": [
    "# define global functions"
   ],
   "metadata": {
    "collapsed": false
   },
   "id": "3624b9844fc63e06"
  },
  {
   "cell_type": "code",
   "source": [
    "from datetime import datetime\n",
    "\n",
    "def convert_date(date_string):\n",
    "    if pd.isna(date_string):\n",
    "        return None\n",
    "    # Assuming the date format is day/month/year\n",
    "    return datetime.strptime(date_string, \"%m/%d/%Y\")\n",
    "\n",
    "def calculate_age(row):\n",
    "    if not pd.isna(row['AGE_YRS']):\n",
    "        return row['AGE_YRS']\n",
    "    elif not pd.isna(row['CAGE_YR']):\n",
    "        age_years = row['CAGE_YR']\n",
    "        if not pd.isna(row['CAGE_MO']):\n",
    "            age_years += row['CAGE_MO']  # Convert months to years and add\n",
    "        return age_years\n",
    "    elif not pd.isna(row['CAGE_MO']):\n",
    "        return row['CAGE_MO']   # Convert months to years\n",
    "    else:\n",
    "        return np.nan\n",
    "    \n",
    "def form_completed(row):\n",
    "    if not pd.isna(row['TODAYS_DATE']):\n",
    "        return row['TODAYS_DATE']\n",
    "    elif not pd.isna(row['RPT_DATE']):\n",
    "        return row['RPT_DATE']\n",
    "    else:\n",
    "        return np.nan\n",
    "    \n",
    "corrections = {\n",
    "    'penecellin': 'Penicillin',\n",
    "    'penecillin': 'Penicillin',\n",
    "    'penecilin': 'Penicillin',\n",
    "    'penicillins': 'Penicillin',\n",
    "    'sulfa': 'Sulfates',\n",
    "    'sulpha': 'Sulfates',\n",
    "    'sulfides': 'Sulfates',\n",
    "    'sulfite': 'Sulfates',\n",
    "    'sulfate': 'Sulfates'\n",
    "}\n",
    "\n",
    "def correct_spelling(text):\n",
    "    for variation, correction in corrections.items():\n",
    "        text = re.sub(r'\\b{}\\b'.format(variation), correction, text, flags=re.IGNORECASE)\n",
    "    return text\n",
    "\n",
    "# Define the replacement function\n",
    "def replace_vaccination_site(symptom):\n",
    "    return symptom.str.replace(\"Vaccination site\", \"Injection site\", flags=re.IGNORECASE)"
   ],
   "metadata": {
    "collapsed": true,
    "ExecuteTime": {
     "end_time": "2024-05-17T12:13:55.161358Z",
     "start_time": "2024-05-17T12:13:55.150021Z"
    }
   },
   "id": "initial_id",
   "outputs": [],
   "execution_count": 12
  },
  {
   "cell_type": "markdown",
   "source": [
    "# Domestic Reports"
   ],
   "metadata": {
    "collapsed": false
   },
   "id": "31d60c4e87f90e81"
  },
  {
   "cell_type": "code",
   "source": [
    "import pandas as pd\n",
    "import numpy as np\n",
    "import re\n",
    "from tqdm import tqdm  # Import tqdm for progress bar\n",
    "\n",
    "base_path = \"/home/sebastian/Documents/Masterarbeit/Daten/\"\n",
    "\n",
    "# Domestic Documents\n",
    "for year in range(1990, 2024):\n",
    "    metadata_file_path = f\"{base_path}{year}VAERSDATA.csv\"\n",
    "    vax_file_path = f\"{base_path}{year}VAERSVAX.csv\"\n",
    "    symptoms_file_path = f\"{base_path}{year}VAERSSYMPTOMS.csv\"\n",
    "    \n",
    "    metadata_df = pd.read_csv(metadata_file_path, encoding='ISO-8859-1', low_memory=False)\n",
    "    vax_df = pd.read_csv(vax_file_path, encoding='ISO-8859-1', low_memory=False, usecols=['VAERS_ID', 'VAX_TYPE', 'VAX_MANU', 'VAX_LOT', 'VAX_DOSE_SERIES', 'VAX_ROUTE', 'VAX_SITE' ,'VAX_NAME'])\n",
    "    symptoms_df = pd.read_csv(symptoms_file_path, encoding='ISO-8859-1', low_memory=False, usecols=['VAERS_ID', 'SYMPTOM1', 'SYMPTOM2', 'SYMPTOM3', 'SYMPTOM4', 'SYMPTOM5'])\n",
    "    \n",
    "    metadata_df = metadata_df.drop(['V_FUNDBY', 'FORM_VERS'], axis=1)\n",
    "    \n",
    "    \n",
    "    metadata_df['AGE'] = metadata_df.apply(calculate_age, axis=1) # Insert the 'AGE' column as the 4th column\n",
    "    metadata_df.insert(3, 'AGE', metadata_df.pop('AGE'))\n",
    "    metadata_df['TODAYS_DATE'] = metadata_df.apply(form_completed, axis=1)\n",
    "    metadata_df[['RECVDATE', 'DATEDIED', 'VAX_DATE', 'ONSET_DATE', 'TODAYS_DATE']] = metadata_df[['RECVDATE', 'DATEDIED', 'VAX_DATE', 'ONSET_DATE', 'TODAYS_DATE']].apply(lambda x: x.map(convert_date))\n",
    "    metadata_df = metadata_df.drop(['AGE_YRS', 'CAGE_YR', 'CAGE_MO', 'RPT_DATE'], axis=1)\n",
    "    metadata_df.insert(2, 'TODAYS_DATE', metadata_df.pop('TODAYS_DATE'))\n",
    "    metadata_df['ALLERGIES'] = metadata_df['ALLERGIES'].astype(str)\n",
    "    metadata_df['ALLERGIES'] = metadata_df['ALLERGIES'].apply(lambda x: correct_spelling(x) if x != 'nan' else np.nan)\n",
    "    metadata_df['SERIOUS'] = np.where(metadata_df[['DIED', 'L_THREAT', 'HOSPITAL', 'X_STAY', 'DISABLE', 'BIRTH_DEFECT']].eq('Y').any(axis=1), 'Y', 'N')\n",
    "    metadata_df.insert(6, 'SERIOUS', metadata_df.pop('SERIOUS'))\n",
    "\n",
    "    columns = ['SYMPTOM1', 'SYMPTOM2', 'SYMPTOM3', 'SYMPTOM4', 'SYMPTOM5']\n",
    "    for col in columns:\n",
    "        symptoms_df[col] = replace_vaccination_site(symptoms_df[col])\n",
    "    \n",
    "    for index, row in tqdm(metadata_df.iterrows(), total=len(metadata_df), desc=f\"Processing Year {year}\"):  # Use tqdm for progress bar\n",
    "        entry = {}\n",
    "        vax_entries = [] \n",
    "        symptoms_entry = []\n",
    "    \n",
    "        # Add metadata columns directly to the entry\n",
    "        for column in metadata_df.columns:\n",
    "            if column == 'OTHER_MEDS':\n",
    "                # Split the string on the comma or semicolon and store as a list\n",
    "                if pd.notna(row[column]):\n",
    "                    meds = re.split(',|;', row[column])  # Use regex to split on both delimiters\n",
    "                    entry['OTHER_MEDS'] = [med.strip() for med in meds if med.strip()]  # List of non-empty stripped meds\n",
    "                else:\n",
    "                    entry['OTHER_MEDS'] = np.nan\n",
    "            elif column == 'CUR_ILL':\n",
    "                # Split the string on the comma and create a dictionary\n",
    "                if pd.notna(row['CUR_ILL']):\n",
    "                    ills = re.split(',|;', row['CUR_ILL'])\n",
    "                    entry['CUR_ILL'] = [ill.strip() for ill in ills if ill.strip()]\n",
    "                else:\n",
    "                     entry['CUR_ILL'] = np.nan   \n",
    "            elif column == 'HISTORY':\n",
    "                # Split the string on the comma and create a dictionary\n",
    "                if pd.notna(row[column]):\n",
    "                    history = re.split(',|;', row[column])\n",
    "                    entry['HISTORY'] = [his.strip() for his in history if his.strip()]\n",
    "                else:\n",
    "                    entry['HISTORY'] = np.nan\n",
    "                    \n",
    "            elif pd.notna(row[column]):\n",
    "                entry[column] = row[column]\n",
    "            else:\n",
    "                entry[column] = np.nan\n",
    "        \n",
    "        # Filter vax_df based on VAERS_ID\n",
    "        vax_data = vax_df[vax_df['VAERS_ID'] == row['VAERS_ID']] \n",
    "        vax_data = vax_data.drop(['VAERS_ID'], axis=1)\n",
    "        \n",
    "        # Check if vax_data is not empty\n",
    "        if not vax_data.empty:\n",
    "            # Iterate over each vaccine entry and add it to the list\n",
    "            for vax_row in vax_data.itertuples(index=False):\n",
    "                vax_entry_i = {column: getattr(vax_row, column) if pd.notna(getattr(vax_row, column)) else np.nan for column in vax_data.columns}\n",
    "                if vax_entry_i[\"VAX_MANU\"] != \"UNKNOWN MANUFACTURER\":\n",
    "                    vax_entries.append(vax_entry_i)\n",
    "        if len(vax_entries) == 0:\n",
    "            continue\n",
    "            \n",
    "        entry['vax_data'] = vax_entries  # Add the list of vaccine entries to the main entry\n",
    "                \n",
    "         # Filter symptoms_df based on VAERS_ID\n",
    "        symptoms_data = symptoms_df[symptoms_df['VAERS_ID'] == row['VAERS_ID']] \n",
    "        symptoms_data = symptoms_data.drop(['VAERS_ID'], axis=1)\n",
    "        \n",
    "        # Check if symptoms_data is not empty\n",
    "        if not symptoms_data.empty:\n",
    "            # Construct a list of symptoms, excluding any NaN values\n",
    "            symptoms_list = [value for value in symptoms_data.values.flatten() if pd.notna(value)]\n",
    "            entry['symptoms'] = symptoms_list\n",
    "        else:\n",
    "            entry['symptoms'] = np.nan\n",
    "            \n",
    "                \n",
    "        # Upload entry to MongoDB\n",
    "        collection.insert_one(entry)\n",
    "        "
   ],
   "metadata": {
    "collapsed": false,
    "jupyter": {
     "is_executing": true
    },
    "ExecuteTime": {
     "start_time": "2024-05-17T12:13:56.397621Z"
    }
   },
   "id": "963b35ae72f0a42c",
   "outputs": [
    {
     "name": "stderr",
     "output_type": "stream",
     "text": [
      "Processing Year 1990: 100%|██████████| 2102/2102 [00:09<00:00, 214.15it/s]\n",
      "Processing Year 1991: 100%|██████████| 9933/9933 [00:49<00:00, 199.03it/s]\n",
      "Processing Year 1992: 100%|██████████| 10692/10692 [00:53<00:00, 199.42it/s]\n",
      "Processing Year 1993: 100%|██████████| 10147/10147 [00:50<00:00, 202.56it/s]\n",
      "Processing Year 1994: 100%|██████████| 10193/10193 [00:50<00:00, 203.43it/s]\n",
      "Processing Year 1995: 100%|██████████| 10001/10001 [00:47<00:00, 210.11it/s]\n",
      "Processing Year 1996: 100%|██████████| 10771/10771 [00:52<00:00, 206.40it/s]\n",
      "Processing Year 1997: 100%|██████████| 11006/11006 [00:49<00:00, 224.40it/s]\n",
      "Processing Year 1998: 100%|██████████| 9949/9949 [00:47<00:00, 207.31it/s]\n",
      "Processing Year 1999: 100%|██████████| 12123/12123 [00:56<00:00, 216.12it/s]\n",
      "Processing Year 2000: 100%|██████████| 14105/14105 [01:08<00:00, 206.10it/s]\n",
      "Processing Year 2001: 100%|██████████| 13359/13359 [01:06<00:00, 202.29it/s]\n",
      "Processing Year 2002: 100%|██████████| 14074/14074 [01:08<00:00, 206.95it/s]\n",
      "Processing Year 2003: 100%|██████████| 16754/16754 [01:22<00:00, 201.87it/s]\n",
      "Processing Year 2004: 100%|██████████| 15321/15321 [01:17<00:00, 198.56it/s]\n",
      "Processing Year 2005: 100%|██████████| 15580/15580 [01:14<00:00, 208.81it/s]\n",
      "Processing Year 2006: 100%|██████████| 17309/17309 [01:25<00:00, 203.13it/s]\n",
      "Processing Year 2007: 100%|██████████| 28226/28226 [02:16<00:00, 206.36it/s]\n",
      "Processing Year 2008: 100%|██████████| 29766/29766 [02:23<00:00, 208.11it/s]\n",
      "Processing Year 2009: 100%|██████████| 32786/32786 [02:29<00:00, 219.74it/s]\n",
      "Processing Year 2010: 100%|██████████| 31582/31582 [02:21<00:00, 222.66it/s]\n",
      "Processing Year 2011: 100%|██████████| 25408/25408 [01:57<00:00, 217.15it/s]\n",
      "Processing Year 2012: 100%|██████████| 26668/26668 [02:07<00:00, 208.73it/s]\n",
      "Processing Year 2013: 100%|██████████| 29736/29736 [02:10<00:00, 227.03it/s]\n",
      "Processing Year 2014: 100%|██████████| 34339/34339 [02:32<00:00, 225.82it/s]\n",
      "Processing Year 2015: 100%|██████████| 44422/44422 [03:28<00:00, 212.87it/s]\n",
      "Processing Year 2016: 100%|██████████| 45703/45703 [03:34<00:00, 213.31it/s]\n",
      "Processing Year 2017: 100%|██████████| 38910/38910 [03:06<00:00, 208.46it/s]\n",
      "Processing Year 2018: 100%|██████████| 49134/49134 [04:01<00:00, 203.15it/s]\n",
      "Processing Year 2019: 100%|██████████| 48438/48438 [03:54<00:00, 206.29it/s]\n",
      "Processing Year 2020: 100%|██████████| 49644/49644 [03:49<00:00, 216.67it/s]\n"
     ]
    }
   ],
   "execution_count": null
  },
  {
   "cell_type": "code",
   "source": [
    "entry  "
   ],
   "metadata": {
    "collapsed": false,
    "jupyter": {
     "is_executing": true
    }
   },
   "id": "dbd72d66cf58f4f5",
   "outputs": [],
   "execution_count": null
  },
  {
   "cell_type": "markdown",
   "source": [
    "# non-domestic reports"
   ],
   "metadata": {
    "collapsed": false
   },
   "id": "4f843f5597817225"
  },
  {
   "cell_type": "code",
   "source": [
    "import pandas as pd\n",
    "import numpy as np\n",
    "import re\n",
    "from tqdm import tqdm\n",
    "\n",
    "# Set base path\n",
    "base_path = \"/home/sebastian/Documents/Masterarbeit/Daten/\"\n",
    "\n",
    "# File paths\n",
    "metadata_file_path = f\"{base_path}NonDomesticVAERSDATA.csv\"\n",
    "vax_file_path = f\"{base_path}NonDomesticVAERSVAX.csv\"\n",
    "symptoms_file_path = f\"{base_path}NonDomesticVAERSSYMPTOMS.csv\"\n",
    "\n",
    "metadata_df = pd.read_csv(metadata_file_path, encoding='ISO-8859-1', low_memory=False)\n",
    "vax_df = pd.read_csv(vax_file_path, encoding='ISO-8859-1', low_memory=False, usecols=['VAERS_ID', 'VAX_TYPE', 'VAX_MANU', 'VAX_LOT', 'VAX_DOSE_SERIES', 'VAX_ROUTE', 'VAX_SITE' ,'VAX_NAME'])\n",
    "symptoms_df = pd.read_csv(symptoms_file_path, encoding='ISO-8859-1', low_memory=False, usecols=['VAERS_ID', 'SYMPTOM1', 'SYMPTOM2', 'SYMPTOM3', 'SYMPTOM4', 'SYMPTOM5'])\n",
    "\n",
    "metadata_df = metadata_df.drop(['V_FUNDBY', 'FORM_VERS'], axis=1)\n",
    "\n",
    "\n",
    "metadata_df['AGE'] = metadata_df.apply(calculate_age, axis=1) # Insert the 'AGE' column as the 4th column\n",
    "metadata_df.insert(3, 'AGE', metadata_df.pop('AGE'))\n",
    "metadata_df['TODAYS_DATE'] = metadata_df.apply(form_completed, axis=1)\n",
    "metadata_df[['RECVDATE', 'DATEDIED', 'VAX_DATE', 'ONSET_DATE', 'TODAYS_DATE']] = metadata_df[['RECVDATE', 'DATEDIED', 'VAX_DATE', 'ONSET_DATE', 'TODAYS_DATE']].apply(lambda x: x.map(convert_date))\n",
    "metadata_df = metadata_df.drop(['AGE_YRS', 'CAGE_YR', 'CAGE_MO', 'RPT_DATE'], axis=1)\n",
    "metadata_df.insert(2, 'TODAYS_DATE', metadata_df.pop('TODAYS_DATE'))\n",
    "metadata_df['ALLERGIES'] = metadata_df['ALLERGIES'].astype(str)\n",
    "metadata_df['ALLERGIES'] = metadata_df['ALLERGIES'].apply(lambda x: correct_spelling(x) if x != 'nan' else np.nan)\n",
    "metadata_df['SERIOUS'] = np.where(metadata_df[['DIED', 'L_THREAT', 'HOSPITAL', 'X_STAY', 'DISABLE', 'BIRTH_DEFECT']].eq('Y').any(axis=1), 'Y', 'N')\n",
    "metadata_df.insert(6, 'SERIOUS', metadata_df.pop('SERIOUS'))\n",
    "\n",
    "columns = ['SYMPTOM1', 'SYMPTOM2', 'SYMPTOM3', 'SYMPTOM4', 'SYMPTOM5']\n",
    "for col in columns:\n",
    "    symptoms_df[col] = replace_vaccination_site(symptoms_df[col])\n",
    "    \n",
    "# Create a progress bar\n",
    "progress_bar = tqdm(total=len(metadata_df), desc=\"Processing rows\")\n",
    "\n",
    "# Iterate through rows of metadata_df\n",
    "for index, row in metadata_df.iterrows():\n",
    "        entry = {}\n",
    "        vax_entries = [] \n",
    "        symptoms_entry = []\n",
    "    \n",
    "        # Add metadata columns directly to the entry\n",
    "        for column in metadata_df.columns:\n",
    "            if column == 'OTHER_MEDS':\n",
    "                # Split the string on the comma or semicolon and store as a list\n",
    "                if pd.notna(row[column]):\n",
    "                    meds = re.split(',|;', row[column])  # Use regex to split on both delimiters\n",
    "                    entry['OTHER_MEDS'] = [med.strip() for med in meds if med.strip()]  # List of non-empty stripped meds\n",
    "                else:\n",
    "                    entry['OTHER_MEDS'] = np.nan\n",
    "            elif column == 'CUR_ILL':\n",
    "                # Split the string on the comma and create a dictionary\n",
    "                if pd.notna(row['CUR_ILL']):\n",
    "                    ills = re.split(',|;', row['CUR_ILL'])\n",
    "                    entry['CUR_ILL'] = [ill.strip() for ill in ills if ill.strip()]\n",
    "                else:\n",
    "                     entry['CUR_ILL'] = np.nan   \n",
    "            elif column == 'HISTORY':\n",
    "                # Split the string on the comma and create a dictionary\n",
    "                if pd.notna(row[column]):\n",
    "                    history = re.split(',|;', row[column])\n",
    "                    entry['HISTORY'] = [his.strip() for his in history if his.strip()]\n",
    "                else:\n",
    "                    entry['HISTORY'] = np.nan\n",
    "                    \n",
    "            elif pd.notna(row[column]):\n",
    "                entry[column] = row[column]\n",
    "            else:\n",
    "                entry[column] = np.nan\n",
    "        \n",
    "        # Filter vax_df based on VAERS_ID\n",
    "        vax_data = vax_df[vax_df['VAERS_ID'] == row['VAERS_ID']] \n",
    "        vax_data = vax_data.drop(['VAERS_ID'], axis=1)\n",
    "        \n",
    "        # Check if vax_data is not empty\n",
    "        if not vax_data.empty:\n",
    "            # Iterate over each vaccine entry and add it to the list\n",
    "            for vax_row in vax_data.itertuples(index=False):\n",
    "                vax_entry_i = {column: getattr(vax_row, column) if pd.notna(getattr(vax_row, column)) else np.nan for column in vax_data.columns}\n",
    "            if vax_entry_i[\"VAX_MANU\"] != \"UNKNOWN MANUFACTURER\":\n",
    "                    vax_entries.append(vax_entry_i)\n",
    "        if len(vax_entries) == 0:\n",
    "            continue\n",
    "        \n",
    "        entry['vax_data'] = vax_entries  # Add the list of vaccine entries to the main entry\n",
    "                \n",
    "         # Filter symptoms_df based on VAERS_ID\n",
    "        symptoms_data = symptoms_df[symptoms_df['VAERS_ID'] == row['VAERS_ID']] \n",
    "        symptoms_data = symptoms_data.drop(['VAERS_ID'], axis=1)\n",
    "        \n",
    "        # Check if symptoms_data is not empty\n",
    "        if not symptoms_data.empty:\n",
    "            # Construct a list of symptoms, excluding any NaN values\n",
    "            symptoms_list = [value for value in symptoms_data.values.flatten() if pd.notna(value)]\n",
    "            entry['symptoms'] = symptoms_list\n",
    "        else:\n",
    "            entry['symptoms'] = np.nan\n",
    "                \n",
    "        # Upload entry to MongoDB\n",
    "        collection.insert_one(entry)\n",
    "\n",
    "        # Update the progress bar\n",
    "        progress_bar.update(1)\n",
    "\n",
    "# Close the progress bar once finished\n",
    "progress_bar.close()\n"
   ],
   "metadata": {
    "collapsed": false,
    "jupyter": {
     "is_executing": true
    }
   },
   "id": "42735e42248288f5",
   "outputs": [],
   "execution_count": null
  },
  {
   "cell_type": "code",
   "outputs": [
    {
     "data": {
      "text/plain": "{'VAERS_ID': 25002,\n 'RECVDATE': Timestamp('1990-07-02 00:00:00'),\n 'TODAYS_DATE': nan,\n 'STATE': 'FR',\n 'AGE': 82.0,\n 'SEX': 'M',\n 'SERIOUS': 'Y',\n 'DIED': nan,\n 'DATEDIED': nan,\n 'L_THREAT': nan,\n 'ER_VISIT': nan,\n 'HOSPITAL': nan,\n 'HOSPDAYS': nan,\n 'X_STAY': nan,\n 'DISABLE': 'Y',\n 'RECOVD': nan,\n 'VAX_DATE': Timestamp('1989-11-20 00:00:00'),\n 'ONSET_DATE': Timestamp('1989-11-20 00:00:00'),\n 'NUMDAYS': 0.0,\n 'OTHER_MEDS': ['Thioridazine', 'Triazolam'],\n 'CUR_ILL': nan,\n 'HISTORY': ['Senile dementia', 'Diabetes mellitus', 'seizures'],\n 'PRIOR_VAX': '~ ()~~~In patient',\n 'BIRTH_DEFECT': nan,\n 'OFC_VISIT': nan,\n 'ER_ED_VISIT': nan,\n 'ALLERGIES': nan,\n 'vax_data': [{'VAX_TYPE': 'PPV',\n   'VAX_MANU': 'MERCK & CO. INC.',\n   'VAX_LOT': 'M0870',\n   'VAX_DOSE_SERIES': 'UNK',\n   'VAX_NAME': 'PNEUMO (PNEUMOVAX)'}],\n 'symptoms': ['Chills', 'Convulsion', '', '', '']}"
     },
     "execution_count": 21,
     "metadata": {},
     "output_type": "execute_result"
    }
   ],
   "source": [
    "entry"
   ],
   "metadata": {
    "collapsed": false,
    "ExecuteTime": {
     "end_time": "2024-02-21T10:25:59.404742Z",
     "start_time": "2024-02-21T10:25:59.401374Z"
    }
   },
   "id": "7e069d029776dfcb",
   "execution_count": 21
  },
  {
   "cell_type": "code",
   "outputs": [],
   "source": [],
   "metadata": {
    "collapsed": false
   },
   "id": "904bf3b130c5d54e",
   "execution_count": null
  }
 ],
 "metadata": {
  "kernelspec": {
   "display_name": "Python 3",
   "language": "python",
   "name": "python3"
  },
  "language_info": {
   "codemirror_mode": {
    "name": "ipython",
    "version": 2
   },
   "file_extension": ".py",
   "mimetype": "text/x-python",
   "name": "python",
   "nbconvert_exporter": "python",
   "pygments_lexer": "ipython2",
   "version": "2.7.6"
  }
 },
 "nbformat": 4,
 "nbformat_minor": 5
}

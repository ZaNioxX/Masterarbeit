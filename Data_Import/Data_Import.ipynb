{
 "cells": [
  {
   "cell_type": "markdown",
   "source": [
    "# Connect to MongoDB"
   ],
   "metadata": {
    "collapsed": false
   },
   "id": "c7b377954635e42f"
  },
  {
   "cell_type": "code",
   "outputs": [],
   "source": [
    "import pymongo\n",
    "# Connect to your MongoDB instance\n",
    "client = pymongo.MongoClient(\"mongodb://localhost:27017/\")\n",
    "db = client[\"vaers\"]\n",
    "collection = db[\"reports\"]"
   ],
   "metadata": {
    "collapsed": false,
    "ExecuteTime": {
     "end_time": "2024-03-11T14:59:02.903569Z",
     "start_time": "2024-03-11T14:59:02.895542Z"
    }
   },
   "id": "6ac7ace1af56b08c",
   "execution_count": 10
  },
  {
   "cell_type": "markdown",
   "source": [
    "# define global functions"
   ],
   "metadata": {
    "collapsed": false
   },
   "id": "3624b9844fc63e06"
  },
  {
   "cell_type": "code",
   "outputs": [],
   "source": [
    "from datetime import datetime\n",
    "\n",
    "def convert_date(date_string):\n",
    "    if pd.isna(date_string):\n",
    "        return None\n",
    "    # Assuming the date format is day/month/year\n",
    "    return datetime.strptime(date_string, \"%m/%d/%Y\")\n",
    "\n",
    "def calculate_age(row):\n",
    "    if not pd.isna(row['AGE_YRS']):\n",
    "        return row['AGE_YRS']\n",
    "    elif not pd.isna(row['CAGE_YR']):\n",
    "        age_years = row['CAGE_YR']\n",
    "        if not pd.isna(row['CAGE_MO']):\n",
    "            age_years += row['CAGE_MO']  # Convert months to years and add\n",
    "        return age_years\n",
    "    elif not pd.isna(row['CAGE_MO']):\n",
    "        return row['CAGE_MO']   # Convert months to years\n",
    "    else:\n",
    "        return np.nan\n",
    "    \n",
    "def form_completed(row):\n",
    "    if not pd.isna(row['TODAYS_DATE']):\n",
    "        return row['TODAYS_DATE']\n",
    "    elif not pd.isna(row['RPT_DATE']):\n",
    "        return row['RPT_DATE']\n",
    "    else:\n",
    "        return np.nan\n",
    "    \n",
    "corrections = {\n",
    "    'penecellin': 'Penicillin',\n",
    "    'penecillin': 'Penicillin',\n",
    "    'penecilin': 'Penicillin',\n",
    "    'penicillins': 'Penicillin',\n",
    "    'sulfa': 'Sulfates',\n",
    "    'sulpha': 'Sulfates',\n",
    "    'sulfides': 'Sulfates',\n",
    "    'sulfite': 'Sulfates',\n",
    "    'sulfate': 'Sulfates'\n",
    "}\n",
    "\n",
    "def correct_spelling(text):\n",
    "    for variation, correction in corrections.items():\n",
    "        text = re.sub(r'\\b{}\\b'.format(variation), correction, text, flags=re.IGNORECASE)\n",
    "    return text\n",
    "\n",
    "# Define the replacement function\n",
    "def replace_vaccination_site(symptom):\n",
    "    return symptom.str.replace(\"Vaccination site\", \"Injection site\", flags=re.IGNORECASE)"
   ],
   "metadata": {
    "collapsed": true,
    "ExecuteTime": {
     "end_time": "2024-03-11T14:59:06.420954Z",
     "start_time": "2024-03-11T14:59:06.408707Z"
    }
   },
   "id": "initial_id",
   "execution_count": 11
  },
  {
   "cell_type": "markdown",
   "source": [
    "# Domestic Reports"
   ],
   "metadata": {
    "collapsed": false
   },
   "id": "31d60c4e87f90e81"
  },
  {
   "cell_type": "code",
   "outputs": [
    {
     "name": "stderr",
     "output_type": "stream",
     "text": [
      "Processing Year 1990: 100%|██████████| 2102/2102 [00:04<00:00, 438.83it/s]\n"
     ]
    }
   ],
   "source": [
    "import pandas as pd\n",
    "import numpy as np\n",
    "import re\n",
    "from tqdm import tqdm  # Import tqdm for progress bar\n",
    "\n",
    "base_path = \"/Users/sep/Documents/HAW/Masterarbeit/Daten.nosync/\"\n",
    "\n",
    "# Domestic Documents\n",
    "for year in range(1990, 1991):\n",
    "    metadata_file_path = f\"{base_path}{year}VAERSDATA.csv\"\n",
    "    vax_file_path = f\"{base_path}{year}VAERSVAX.csv\"\n",
    "    symptoms_file_path = f\"{base_path}{year}VAERSSYMPTOMS.csv\"\n",
    "    \n",
    "    metadata_df = pd.read_csv(metadata_file_path, encoding='ISO-8859-1', low_memory=False)\n",
    "    vax_df = pd.read_csv(vax_file_path, encoding='ISO-8859-1', low_memory=False, usecols=['VAERS_ID', 'VAX_TYPE', 'VAX_MANU', 'VAX_LOT', 'VAX_DOSE_SERIES', 'VAX_NAME'])\n",
    "    symptoms_df = pd.read_csv(symptoms_file_path, encoding='ISO-8859-1', low_memory=False, usecols=['VAERS_ID', 'SYMPTOM1', 'SYMPTOM2', 'SYMPTOM3', 'SYMPTOM4', 'SYMPTOM5'])\n",
    "    \n",
    "    metadata_df = metadata_df.drop(['SYMPTOM_TEXT', 'LAB_DATA', 'V_ADMINBY', 'V_FUNDBY', 'SPLTTYPE', 'FORM_VERS'], axis=1)\n",
    "    \n",
    "    \n",
    "    metadata_df['AGE'] = metadata_df.apply(calculate_age, axis=1) # Insert the 'AGE' column as the 4th column\n",
    "    metadata_df.insert(3, 'AGE', metadata_df.pop('AGE'))\n",
    "    metadata_df['TODAYS_DATE'] = metadata_df.apply(form_completed, axis=1)\n",
    "    metadata_df[['RECVDATE', 'DATEDIED', 'VAX_DATE', 'ONSET_DATE', 'TODAYS_DATE']] = metadata_df[['RECVDATE', 'DATEDIED', 'VAX_DATE', 'ONSET_DATE', 'TODAYS_DATE']].apply(lambda x: x.map(convert_date))\n",
    "    metadata_df = metadata_df.drop(['AGE_YRS', 'CAGE_YR', 'CAGE_MO', 'RPT_DATE'], axis=1)\n",
    "    metadata_df.insert(2, 'TODAYS_DATE', metadata_df.pop('TODAYS_DATE'))\n",
    "    metadata_df['ALLERGIES'] = metadata_df['ALLERGIES'].astype(str)\n",
    "    metadata_df['ALLERGIES'] = metadata_df['ALLERGIES'].apply(lambda x: correct_spelling(x) if x != 'nan' else np.nan)\n",
    "    metadata_df['SERIOUS'] = np.where(metadata_df[['DIED', 'L_THREAT', 'HOSPITAL', 'X_STAY', 'DISABLE', 'BIRTH_DEFECT']].eq('Y').any(axis=1), 'Y', 'N')\n",
    "    metadata_df.insert(6, 'SERIOUS', metadata_df.pop('SERIOUS'))\n",
    "\n",
    "    columns = ['SYMPTOM1', 'SYMPTOM2', 'SYMPTOM3', 'SYMPTOM4', 'SYMPTOM5']\n",
    "    for col in columns:\n",
    "        symptoms_df[col] = replace_vaccination_site(symptoms_df[col])\n",
    "    \n",
    "    for index, row in tqdm(metadata_df.iterrows(), total=len(metadata_df), desc=f\"Processing Year {year}\"):  # Use tqdm for progress bar\n",
    "        entry = {}\n",
    "        vax_entries = [] \n",
    "        symptoms_entry = []\n",
    "    \n",
    "        # Add metadata columns directly to the entry\n",
    "        for column in metadata_df.columns:\n",
    "            if column == 'OTHER_MEDS':\n",
    "                # Split the string on the comma or semicolon and store as a list\n",
    "                if pd.notna(row[column]):\n",
    "                    meds = re.split(',|;', row[column])  # Use regex to split on both delimiters\n",
    "                    entry['OTHER_MEDS'] = [med.strip() for med in meds if med.strip()]  # List of non-empty stripped meds\n",
    "                else:\n",
    "                    entry['OTHER_MEDS'] = np.nan\n",
    "            elif column == 'CUR_ILL':\n",
    "                # Split the string on the comma and create a dictionary\n",
    "                if pd.notna(row['CUR_ILL']):\n",
    "                    ills = re.split(',|;', row['CUR_ILL'])\n",
    "                    entry['CUR_ILL'] = [ill.strip() for ill in ills if ill.strip()]\n",
    "                else:\n",
    "                     entry['CUR_ILL'] = np.nan   \n",
    "            elif column == 'HISTORY':\n",
    "                # Split the string on the comma and create a dictionary\n",
    "                if pd.notna(row[column]):\n",
    "                    history = re.split(',|;', row[column])\n",
    "                    entry['HISTORY'] = [his.strip() for his in history if his.strip()]\n",
    "                else:\n",
    "                    entry['HISTORY'] = np.nan\n",
    "                    \n",
    "            elif pd.notna(row[column]):\n",
    "                entry[column] = row[column]\n",
    "            else:\n",
    "                entry[column] = np.nan\n",
    "        \n",
    "        # Filter vax_df based on VAERS_ID\n",
    "        vax_data = vax_df[vax_df['VAERS_ID'] == row['VAERS_ID']] \n",
    "        vax_data = vax_data.drop(['VAERS_ID'], axis=1)\n",
    "        \n",
    "        # Check if vax_data is not empty\n",
    "        if not vax_data.empty:\n",
    "            # Iterate over each vaccine entry and add it to the list\n",
    "            for vax_row in vax_data.itertuples(index=False):\n",
    "                vax_entry_i = {column: getattr(vax_row, column) if pd.notna(getattr(vax_row, column)) else np.nan for column in vax_data.columns}\n",
    "                vax_entries.append(vax_entry_i)\n",
    "        \n",
    "        entry['vax_data'] = vax_entries  # Add the list of vaccine entries to the main entry\n",
    "                \n",
    "         # Filter symptoms_df based on VAERS_ID\n",
    "        symptoms_data = symptoms_df[symptoms_df['VAERS_ID'] == row['VAERS_ID']] \n",
    "        symptoms_data = symptoms_data.drop(['VAERS_ID'], axis=1)\n",
    "        \n",
    "        # Check if symptoms_data is not empty\n",
    "        if not symptoms_data.empty:\n",
    "            # Construct a list of symptoms, excluding any NaN values\n",
    "            symptoms_list = [value for value in symptoms_data.values.flatten() if pd.notna(value)]\n",
    "            entry['symptoms'] = symptoms_list\n",
    "        else:\n",
    "            entry['symptoms'] = np.nan\n",
    "            \n",
    "                \n",
    "        # Upload entry to MongoDB\n",
    "        collection.insert_one(entry)\n"
   ],
   "metadata": {
    "collapsed": false,
    "ExecuteTime": {
     "end_time": "2024-03-11T14:59:17.420541Z",
     "start_time": "2024-03-11T14:59:11.793953Z"
    }
   },
   "id": "963b35ae72f0a42c",
   "execution_count": 12
  },
  {
   "cell_type": "code",
   "outputs": [
    {
     "data": {
      "text/plain": "{'VAERS_ID': 2728980,\n 'RECVDATE': Timestamp('2023-12-31 00:00:00'),\n 'TODAYS_DATE': Timestamp('2023-12-31 00:00:00'),\n 'STATE': 'MO',\n 'AGE': 65.0,\n 'SEX': 'F',\n 'SERIOUS': 'N',\n 'DIED': nan,\n 'DATEDIED': nan,\n 'L_THREAT': nan,\n 'ER_VISIT': nan,\n 'HOSPITAL': nan,\n 'HOSPDAYS': nan,\n 'X_STAY': nan,\n 'DISABLE': nan,\n 'RECOVD': 'N',\n 'VAX_DATE': Timestamp('2023-09-02 00:00:00'),\n 'ONSET_DATE': Timestamp('2023-09-01 00:00:00'),\n 'NUMDAYS': nan,\n 'OTHER_MEDS': ['Vitamin D 2000 cu'],\n 'CUR_ILL': nan,\n 'HISTORY': ['Diabetic', 'Sarcoidosis'],\n 'PRIOR_VAX': 'Flu shot   San of I Pasteur Lot number UT8057DA  date 11/10/2023',\n 'BIRTH_DEFECT': nan,\n 'OFC_VISIT': 'Y',\n 'ER_ED_VISIT': nan,\n 'ALLERGIES': 'Tramodal , Hydro Codeine, Zolpram ,',\n 'vax_data': [{'VAX_TYPE': 'COVID19',\n   'VAX_MANU': 'MODERNA',\n   'VAX_LOT': '067H21A',\n   'VAX_DOSE_SERIES': '1',\n   'VAX_NAME': 'COVID19 (COVID19 (MODERNA))'},\n  {'VAX_TYPE': 'COVID19',\n   'VAX_MANU': 'PFIZER\\\\BIONTECH',\n   'VAX_LOT': 'ER8729',\n   'VAX_DOSE_SERIES': '1',\n   'VAX_NAME': 'COVID19 (COVID19 (PFIZER-BIONTECH))'},\n  {'VAX_TYPE': 'TDAP',\n   'VAX_MANU': 'GLAXOSMITHKLINE BIOLOGICALS',\n   'VAX_LOT': nan,\n   'VAX_DOSE_SERIES': '1',\n   'VAX_NAME': 'TDAP (BOOSTRIX)'},\n  {'VAX_TYPE': 'UNK',\n   'VAX_MANU': 'UNKNOWN MANUFACTURER',\n   'VAX_LOT': nan,\n   'VAX_DOSE_SERIES': '1',\n   'VAX_NAME': 'VACCINE NOT SPECIFIED (OTHER)'}],\n 'symptoms': ['Biopsy skin', 'Rash'],\n '_id': ObjectId('65ef0df8d612d8abf2f8fad5')}"
     },
     "execution_count": 8,
     "metadata": {},
     "output_type": "execute_result"
    }
   ],
   "source": [
    "entry  "
   ],
   "metadata": {
    "collapsed": false,
    "ExecuteTime": {
     "end_time": "2024-03-11T13:58:16.128170Z",
     "start_time": "2024-03-11T13:58:16.125638Z"
    }
   },
   "id": "dbd72d66cf58f4f5",
   "execution_count": 8
  },
  {
   "cell_type": "markdown",
   "source": [
    "# non-domestic reports"
   ],
   "metadata": {
    "collapsed": false
   },
   "id": "4f843f5597817225"
  },
  {
   "cell_type": "code",
   "outputs": [
    {
     "name": "stderr",
     "output_type": "stream",
     "text": [
      "Processing rows:   8%|▊         | 58455/740586 [03:50<45:52, 247.85it/s]  "
     ]
    },
    {
     "ename": "KeyboardInterrupt",
     "evalue": "",
     "output_type": "error",
     "traceback": [
      "\u001B[0;31m---------------------------------------------------------------------------\u001B[0m",
      "\u001B[0;31mKeyboardInterrupt\u001B[0m                         Traceback (most recent call last)",
      "Cell \u001B[0;32mIn[13], line 100\u001B[0m\n\u001B[1;32m     97\u001B[0m     entry[\u001B[38;5;124m'\u001B[39m\u001B[38;5;124msymptoms\u001B[39m\u001B[38;5;124m'\u001B[39m] \u001B[38;5;241m=\u001B[39m np\u001B[38;5;241m.\u001B[39mnan\n\u001B[1;32m     99\u001B[0m \u001B[38;5;66;03m# Upload entry to MongoDB\u001B[39;00m\n\u001B[0;32m--> 100\u001B[0m \u001B[43mcollection\u001B[49m\u001B[38;5;241;43m.\u001B[39;49m\u001B[43minsert_one\u001B[49m\u001B[43m(\u001B[49m\u001B[43mentry\u001B[49m\u001B[43m)\u001B[49m\n\u001B[1;32m    102\u001B[0m \u001B[38;5;66;03m# Update the progress bar\u001B[39;00m\n\u001B[1;32m    103\u001B[0m progress_bar\u001B[38;5;241m.\u001B[39mupdate(\u001B[38;5;241m1\u001B[39m)\n",
      "File \u001B[0;32m~/Documents/HAW/Vorlesung/Masterarbeit/MasterArbeit/lib/python3.9/site-packages/pymongo/collection.py:669\u001B[0m, in \u001B[0;36mCollection.insert_one\u001B[0;34m(self, document, bypass_document_validation, session, comment)\u001B[0m\n\u001B[1;32m    665\u001B[0m     document[\u001B[38;5;124m\"\u001B[39m\u001B[38;5;124m_id\u001B[39m\u001B[38;5;124m\"\u001B[39m] \u001B[38;5;241m=\u001B[39m ObjectId()  \u001B[38;5;66;03m# type: ignore[index]\u001B[39;00m\n\u001B[1;32m    667\u001B[0m write_concern \u001B[38;5;241m=\u001B[39m \u001B[38;5;28mself\u001B[39m\u001B[38;5;241m.\u001B[39m_write_concern_for(session)\n\u001B[1;32m    668\u001B[0m \u001B[38;5;28;01mreturn\u001B[39;00m InsertOneResult(\n\u001B[0;32m--> 669\u001B[0m     \u001B[38;5;28;43mself\u001B[39;49m\u001B[38;5;241;43m.\u001B[39;49m\u001B[43m_insert_one\u001B[49m\u001B[43m(\u001B[49m\n\u001B[1;32m    670\u001B[0m \u001B[43m        \u001B[49m\u001B[43mdocument\u001B[49m\u001B[43m,\u001B[49m\n\u001B[1;32m    671\u001B[0m \u001B[43m        \u001B[49m\u001B[43mordered\u001B[49m\u001B[38;5;241;43m=\u001B[39;49m\u001B[38;5;28;43;01mTrue\u001B[39;49;00m\u001B[43m,\u001B[49m\n\u001B[1;32m    672\u001B[0m \u001B[43m        \u001B[49m\u001B[43mwrite_concern\u001B[49m\u001B[38;5;241;43m=\u001B[39;49m\u001B[43mwrite_concern\u001B[49m\u001B[43m,\u001B[49m\n\u001B[1;32m    673\u001B[0m \u001B[43m        \u001B[49m\u001B[43mop_id\u001B[49m\u001B[38;5;241;43m=\u001B[39;49m\u001B[38;5;28;43;01mNone\u001B[39;49;00m\u001B[43m,\u001B[49m\n\u001B[1;32m    674\u001B[0m \u001B[43m        \u001B[49m\u001B[43mbypass_doc_val\u001B[49m\u001B[38;5;241;43m=\u001B[39;49m\u001B[43mbypass_document_validation\u001B[49m\u001B[43m,\u001B[49m\n\u001B[1;32m    675\u001B[0m \u001B[43m        \u001B[49m\u001B[43msession\u001B[49m\u001B[38;5;241;43m=\u001B[39;49m\u001B[43msession\u001B[49m\u001B[43m,\u001B[49m\n\u001B[1;32m    676\u001B[0m \u001B[43m        \u001B[49m\u001B[43mcomment\u001B[49m\u001B[38;5;241;43m=\u001B[39;49m\u001B[43mcomment\u001B[49m\u001B[43m,\u001B[49m\n\u001B[1;32m    677\u001B[0m \u001B[43m    \u001B[49m\u001B[43m)\u001B[49m,\n\u001B[1;32m    678\u001B[0m     write_concern\u001B[38;5;241m.\u001B[39macknowledged,\n\u001B[1;32m    679\u001B[0m )\n",
      "File \u001B[0;32m~/Documents/HAW/Vorlesung/Masterarbeit/MasterArbeit/lib/python3.9/site-packages/pymongo/collection.py:609\u001B[0m, in \u001B[0;36mCollection._insert_one\u001B[0;34m(self, doc, ordered, write_concern, op_id, bypass_doc_val, session, comment)\u001B[0m\n\u001B[1;32m    597\u001B[0m     result \u001B[38;5;241m=\u001B[39m conn\u001B[38;5;241m.\u001B[39mcommand(\n\u001B[1;32m    598\u001B[0m         \u001B[38;5;28mself\u001B[39m\u001B[38;5;241m.\u001B[39m__database\u001B[38;5;241m.\u001B[39mname,\n\u001B[1;32m    599\u001B[0m         command,\n\u001B[0;32m   (...)\u001B[0m\n\u001B[1;32m    604\u001B[0m         retryable_write\u001B[38;5;241m=\u001B[39mretryable_write,\n\u001B[1;32m    605\u001B[0m     )\n\u001B[1;32m    607\u001B[0m     _check_write_command_response(result)\n\u001B[0;32m--> 609\u001B[0m \u001B[38;5;28;43mself\u001B[39;49m\u001B[38;5;241;43m.\u001B[39;49m\u001B[43m__database\u001B[49m\u001B[38;5;241;43m.\u001B[39;49m\u001B[43mclient\u001B[49m\u001B[38;5;241;43m.\u001B[39;49m\u001B[43m_retryable_write\u001B[49m\u001B[43m(\u001B[49m\u001B[43macknowledged\u001B[49m\u001B[43m,\u001B[49m\u001B[43m \u001B[49m\u001B[43m_insert_command\u001B[49m\u001B[43m,\u001B[49m\u001B[43m \u001B[49m\u001B[43msession\u001B[49m\u001B[43m)\u001B[49m\n\u001B[1;32m    611\u001B[0m \u001B[38;5;28;01mif\u001B[39;00m \u001B[38;5;129;01mnot\u001B[39;00m \u001B[38;5;28misinstance\u001B[39m(doc, RawBSONDocument):\n\u001B[1;32m    612\u001B[0m     \u001B[38;5;28;01mreturn\u001B[39;00m doc\u001B[38;5;241m.\u001B[39mget(\u001B[38;5;124m\"\u001B[39m\u001B[38;5;124m_id\u001B[39m\u001B[38;5;124m\"\u001B[39m)\n",
      "File \u001B[0;32m~/Documents/HAW/Vorlesung/Masterarbeit/MasterArbeit/lib/python3.9/site-packages/pymongo/mongo_client.py:1523\u001B[0m, in \u001B[0;36mMongoClient._retryable_write\u001B[0;34m(self, retryable, func, session, bulk)\u001B[0m\n\u001B[1;32m   1509\u001B[0m \u001B[38;5;250m\u001B[39m\u001B[38;5;124;03m\"\"\"Execute an operation with consecutive retries if possible\u001B[39;00m\n\u001B[1;32m   1510\u001B[0m \n\u001B[1;32m   1511\u001B[0m \u001B[38;5;124;03mReturns func()'s return value on success. On error retries the same\u001B[39;00m\n\u001B[0;32m   (...)\u001B[0m\n\u001B[1;32m   1520\u001B[0m \u001B[38;5;124;03m  - `bulk`: bulk abstraction to execute operations in bulk, defaults to None\u001B[39;00m\n\u001B[1;32m   1521\u001B[0m \u001B[38;5;124;03m\"\"\"\u001B[39;00m\n\u001B[1;32m   1522\u001B[0m \u001B[38;5;28;01mwith\u001B[39;00m \u001B[38;5;28mself\u001B[39m\u001B[38;5;241m.\u001B[39m_tmp_session(session) \u001B[38;5;28;01mas\u001B[39;00m s:\n\u001B[0;32m-> 1523\u001B[0m     \u001B[38;5;28;01mreturn\u001B[39;00m \u001B[38;5;28;43mself\u001B[39;49m\u001B[38;5;241;43m.\u001B[39;49m\u001B[43m_retry_with_session\u001B[49m\u001B[43m(\u001B[49m\u001B[43mretryable\u001B[49m\u001B[43m,\u001B[49m\u001B[43m \u001B[49m\u001B[43mfunc\u001B[49m\u001B[43m,\u001B[49m\u001B[43m \u001B[49m\u001B[43ms\u001B[49m\u001B[43m,\u001B[49m\u001B[43m \u001B[49m\u001B[43mbulk\u001B[49m\u001B[43m)\u001B[49m\n",
      "File \u001B[0;32m~/Documents/HAW/Vorlesung/Masterarbeit/MasterArbeit/lib/python3.9/site-packages/pymongo/mongo_client.py:1421\u001B[0m, in \u001B[0;36mMongoClient._retry_with_session\u001B[0;34m(self, retryable, func, session, bulk)\u001B[0m\n\u001B[1;32m   1416\u001B[0m \u001B[38;5;66;03m# Ensure that the options supports retry_writes and there is a valid session not in\u001B[39;00m\n\u001B[1;32m   1417\u001B[0m \u001B[38;5;66;03m# transaction, otherwise, we will not support retry behavior for this txn.\u001B[39;00m\n\u001B[1;32m   1418\u001B[0m retryable \u001B[38;5;241m=\u001B[39m \u001B[38;5;28mbool\u001B[39m(\n\u001B[1;32m   1419\u001B[0m     retryable \u001B[38;5;129;01mand\u001B[39;00m \u001B[38;5;28mself\u001B[39m\u001B[38;5;241m.\u001B[39moptions\u001B[38;5;241m.\u001B[39mretry_writes \u001B[38;5;129;01mand\u001B[39;00m session \u001B[38;5;129;01mand\u001B[39;00m \u001B[38;5;129;01mnot\u001B[39;00m session\u001B[38;5;241m.\u001B[39min_transaction\n\u001B[1;32m   1420\u001B[0m )\n\u001B[0;32m-> 1421\u001B[0m \u001B[38;5;28;01mreturn\u001B[39;00m \u001B[38;5;28;43mself\u001B[39;49m\u001B[38;5;241;43m.\u001B[39;49m\u001B[43m_retry_internal\u001B[49m\u001B[43m(\u001B[49m\n\u001B[1;32m   1422\u001B[0m \u001B[43m    \u001B[49m\u001B[43mfunc\u001B[49m\u001B[38;5;241;43m=\u001B[39;49m\u001B[43mfunc\u001B[49m\u001B[43m,\u001B[49m\n\u001B[1;32m   1423\u001B[0m \u001B[43m    \u001B[49m\u001B[43msession\u001B[49m\u001B[38;5;241;43m=\u001B[39;49m\u001B[43msession\u001B[49m\u001B[43m,\u001B[49m\n\u001B[1;32m   1424\u001B[0m \u001B[43m    \u001B[49m\u001B[43mbulk\u001B[49m\u001B[38;5;241;43m=\u001B[39;49m\u001B[43mbulk\u001B[49m\u001B[43m,\u001B[49m\n\u001B[1;32m   1425\u001B[0m \u001B[43m    \u001B[49m\u001B[43mretryable\u001B[49m\u001B[38;5;241;43m=\u001B[39;49m\u001B[43mretryable\u001B[49m\u001B[43m,\u001B[49m\n\u001B[1;32m   1426\u001B[0m \u001B[43m\u001B[49m\u001B[43m)\u001B[49m\n",
      "File \u001B[0;32m~/Documents/HAW/Vorlesung/Masterarbeit/MasterArbeit/lib/python3.9/site-packages/pymongo/_csot.py:107\u001B[0m, in \u001B[0;36mapply.<locals>.csot_wrapper\u001B[0;34m(self, *args, **kwargs)\u001B[0m\n\u001B[1;32m    105\u001B[0m         \u001B[38;5;28;01mwith\u001B[39;00m _TimeoutContext(timeout):\n\u001B[1;32m    106\u001B[0m             \u001B[38;5;28;01mreturn\u001B[39;00m func(\u001B[38;5;28mself\u001B[39m, \u001B[38;5;241m*\u001B[39margs, \u001B[38;5;241m*\u001B[39m\u001B[38;5;241m*\u001B[39mkwargs)\n\u001B[0;32m--> 107\u001B[0m \u001B[38;5;28;01mreturn\u001B[39;00m \u001B[43mfunc\u001B[49m\u001B[43m(\u001B[49m\u001B[38;5;28;43mself\u001B[39;49m\u001B[43m,\u001B[49m\u001B[43m \u001B[49m\u001B[38;5;241;43m*\u001B[39;49m\u001B[43margs\u001B[49m\u001B[43m,\u001B[49m\u001B[43m \u001B[49m\u001B[38;5;241;43m*\u001B[39;49m\u001B[38;5;241;43m*\u001B[39;49m\u001B[43mkwargs\u001B[49m\u001B[43m)\u001B[49m\n",
      "File \u001B[0;32m~/Documents/HAW/Vorlesung/Masterarbeit/MasterArbeit/lib/python3.9/site-packages/pymongo/mongo_client.py:1453\u001B[0m, in \u001B[0;36mMongoClient._retry_internal\u001B[0;34m(self, func, session, bulk, is_read, address, read_pref, retryable)\u001B[0m\n\u001B[1;32m   1428\u001B[0m \u001B[38;5;129m@_csot\u001B[39m\u001B[38;5;241m.\u001B[39mapply\n\u001B[1;32m   1429\u001B[0m \u001B[38;5;28;01mdef\u001B[39;00m \u001B[38;5;21m_retry_internal\u001B[39m(\n\u001B[1;32m   1430\u001B[0m     \u001B[38;5;28mself\u001B[39m,\n\u001B[0;32m   (...)\u001B[0m\n\u001B[1;32m   1437\u001B[0m     retryable: \u001B[38;5;28mbool\u001B[39m \u001B[38;5;241m=\u001B[39m \u001B[38;5;28;01mFalse\u001B[39;00m,\n\u001B[1;32m   1438\u001B[0m ) \u001B[38;5;241m-\u001B[39m\u001B[38;5;241m>\u001B[39m T:\n\u001B[1;32m   1439\u001B[0m \u001B[38;5;250m    \u001B[39m\u001B[38;5;124;03m\"\"\"Internal retryable helper for all client transactions.\u001B[39;00m\n\u001B[1;32m   1440\u001B[0m \n\u001B[1;32m   1441\u001B[0m \u001B[38;5;124;03m    :Parameters:\u001B[39;00m\n\u001B[0;32m   (...)\u001B[0m\n\u001B[1;32m   1451\u001B[0m \u001B[38;5;124;03m      Output of the calling func()\u001B[39;00m\n\u001B[1;32m   1452\u001B[0m \u001B[38;5;124;03m    \"\"\"\u001B[39;00m\n\u001B[0;32m-> 1453\u001B[0m     \u001B[38;5;28;01mreturn\u001B[39;00m \u001B[43m_ClientConnectionRetryable\u001B[49m\u001B[43m(\u001B[49m\n\u001B[1;32m   1454\u001B[0m \u001B[43m        \u001B[49m\u001B[43mmongo_client\u001B[49m\u001B[38;5;241;43m=\u001B[39;49m\u001B[38;5;28;43mself\u001B[39;49m\u001B[43m,\u001B[49m\n\u001B[1;32m   1455\u001B[0m \u001B[43m        \u001B[49m\u001B[43mfunc\u001B[49m\u001B[38;5;241;43m=\u001B[39;49m\u001B[43mfunc\u001B[49m\u001B[43m,\u001B[49m\n\u001B[1;32m   1456\u001B[0m \u001B[43m        \u001B[49m\u001B[43mbulk\u001B[49m\u001B[38;5;241;43m=\u001B[39;49m\u001B[43mbulk\u001B[49m\u001B[43m,\u001B[49m\n\u001B[1;32m   1457\u001B[0m \u001B[43m        \u001B[49m\u001B[43mis_read\u001B[49m\u001B[38;5;241;43m=\u001B[39;49m\u001B[43mis_read\u001B[49m\u001B[43m,\u001B[49m\n\u001B[1;32m   1458\u001B[0m \u001B[43m        \u001B[49m\u001B[43msession\u001B[49m\u001B[38;5;241;43m=\u001B[39;49m\u001B[43msession\u001B[49m\u001B[43m,\u001B[49m\n\u001B[1;32m   1459\u001B[0m \u001B[43m        \u001B[49m\u001B[43mread_pref\u001B[49m\u001B[38;5;241;43m=\u001B[39;49m\u001B[43mread_pref\u001B[49m\u001B[43m,\u001B[49m\n\u001B[1;32m   1460\u001B[0m \u001B[43m        \u001B[49m\u001B[43maddress\u001B[49m\u001B[38;5;241;43m=\u001B[39;49m\u001B[43maddress\u001B[49m\u001B[43m,\u001B[49m\n\u001B[1;32m   1461\u001B[0m \u001B[43m        \u001B[49m\u001B[43mretryable\u001B[49m\u001B[38;5;241;43m=\u001B[39;49m\u001B[43mretryable\u001B[49m\u001B[43m,\u001B[49m\n\u001B[1;32m   1462\u001B[0m \u001B[43m    \u001B[49m\u001B[43m)\u001B[49m\u001B[38;5;241;43m.\u001B[39;49m\u001B[43mrun\u001B[49m\u001B[43m(\u001B[49m\u001B[43m)\u001B[49m\n",
      "File \u001B[0;32m~/Documents/HAW/Vorlesung/Masterarbeit/MasterArbeit/lib/python3.9/site-packages/pymongo/mongo_client.py:2315\u001B[0m, in \u001B[0;36m_ClientConnectionRetryable.run\u001B[0;34m(self)\u001B[0m\n\u001B[1;32m   2313\u001B[0m \u001B[38;5;28mself\u001B[39m\u001B[38;5;241m.\u001B[39m_check_last_error(check_csot\u001B[38;5;241m=\u001B[39m\u001B[38;5;28;01mTrue\u001B[39;00m)\n\u001B[1;32m   2314\u001B[0m \u001B[38;5;28;01mtry\u001B[39;00m:\n\u001B[0;32m-> 2315\u001B[0m     \u001B[38;5;28;01mreturn\u001B[39;00m \u001B[38;5;28mself\u001B[39m\u001B[38;5;241m.\u001B[39m_read() \u001B[38;5;28;01mif\u001B[39;00m \u001B[38;5;28mself\u001B[39m\u001B[38;5;241m.\u001B[39m_is_read \u001B[38;5;28;01melse\u001B[39;00m \u001B[38;5;28;43mself\u001B[39;49m\u001B[38;5;241;43m.\u001B[39;49m\u001B[43m_write\u001B[49m\u001B[43m(\u001B[49m\u001B[43m)\u001B[49m\n\u001B[1;32m   2316\u001B[0m \u001B[38;5;28;01mexcept\u001B[39;00m ServerSelectionTimeoutError:\n\u001B[1;32m   2317\u001B[0m     \u001B[38;5;66;03m# The application may think the write was never attempted\u001B[39;00m\n\u001B[1;32m   2318\u001B[0m     \u001B[38;5;66;03m# if we raise ServerSelectionTimeoutError on the retry\u001B[39;00m\n\u001B[1;32m   2319\u001B[0m     \u001B[38;5;66;03m# attempt. Raise the original exception instead.\u001B[39;00m\n\u001B[1;32m   2320\u001B[0m     \u001B[38;5;28mself\u001B[39m\u001B[38;5;241m.\u001B[39m_check_last_error()\n",
      "File \u001B[0;32m~/Documents/HAW/Vorlesung/Masterarbeit/MasterArbeit/lib/python3.9/site-packages/pymongo/mongo_client.py:2423\u001B[0m, in \u001B[0;36m_ClientConnectionRetryable._write\u001B[0;34m(self)\u001B[0m\n\u001B[1;32m   2421\u001B[0m             \u001B[38;5;28mself\u001B[39m\u001B[38;5;241m.\u001B[39m_check_last_error()\n\u001B[1;32m   2422\u001B[0m             \u001B[38;5;28mself\u001B[39m\u001B[38;5;241m.\u001B[39m_retryable \u001B[38;5;241m=\u001B[39m \u001B[38;5;28;01mFalse\u001B[39;00m\n\u001B[0;32m-> 2423\u001B[0m         \u001B[38;5;28;01mreturn\u001B[39;00m \u001B[38;5;28;43mself\u001B[39;49m\u001B[38;5;241;43m.\u001B[39;49m\u001B[43m_func\u001B[49m\u001B[43m(\u001B[49m\u001B[38;5;28;43mself\u001B[39;49m\u001B[38;5;241;43m.\u001B[39;49m\u001B[43m_session\u001B[49m\u001B[43m,\u001B[49m\u001B[43m \u001B[49m\u001B[43mconn\u001B[49m\u001B[43m,\u001B[49m\u001B[43m \u001B[49m\u001B[38;5;28;43mself\u001B[39;49m\u001B[38;5;241;43m.\u001B[39;49m\u001B[43m_retryable\u001B[49m\u001B[43m)\u001B[49m  \u001B[38;5;66;03m# type: ignore\u001B[39;00m\n\u001B[1;32m   2424\u001B[0m \u001B[38;5;28;01mexcept\u001B[39;00m PyMongoError \u001B[38;5;28;01mas\u001B[39;00m exc:\n\u001B[1;32m   2425\u001B[0m     \u001B[38;5;28;01mif\u001B[39;00m \u001B[38;5;129;01mnot\u001B[39;00m \u001B[38;5;28mself\u001B[39m\u001B[38;5;241m.\u001B[39m_retryable:\n",
      "File \u001B[0;32m~/Documents/HAW/Vorlesung/Masterarbeit/MasterArbeit/lib/python3.9/site-packages/pymongo/collection.py:597\u001B[0m, in \u001B[0;36mCollection._insert_one.<locals>._insert_command\u001B[0;34m(session, conn, retryable_write)\u001B[0m\n\u001B[1;32m    594\u001B[0m \u001B[38;5;28;01mif\u001B[39;00m bypass_doc_val:\n\u001B[1;32m    595\u001B[0m     command[\u001B[38;5;124m\"\u001B[39m\u001B[38;5;124mbypassDocumentValidation\u001B[39m\u001B[38;5;124m\"\u001B[39m] \u001B[38;5;241m=\u001B[39m \u001B[38;5;28;01mTrue\u001B[39;00m\n\u001B[0;32m--> 597\u001B[0m result \u001B[38;5;241m=\u001B[39m \u001B[43mconn\u001B[49m\u001B[38;5;241;43m.\u001B[39;49m\u001B[43mcommand\u001B[49m\u001B[43m(\u001B[49m\n\u001B[1;32m    598\u001B[0m \u001B[43m    \u001B[49m\u001B[38;5;28;43mself\u001B[39;49m\u001B[38;5;241;43m.\u001B[39;49m\u001B[43m__database\u001B[49m\u001B[38;5;241;43m.\u001B[39;49m\u001B[43mname\u001B[49m\u001B[43m,\u001B[49m\n\u001B[1;32m    599\u001B[0m \u001B[43m    \u001B[49m\u001B[43mcommand\u001B[49m\u001B[43m,\u001B[49m\n\u001B[1;32m    600\u001B[0m \u001B[43m    \u001B[49m\u001B[43mwrite_concern\u001B[49m\u001B[38;5;241;43m=\u001B[39;49m\u001B[43mwrite_concern\u001B[49m\u001B[43m,\u001B[49m\n\u001B[1;32m    601\u001B[0m \u001B[43m    \u001B[49m\u001B[43mcodec_options\u001B[49m\u001B[38;5;241;43m=\u001B[39;49m\u001B[38;5;28;43mself\u001B[39;49m\u001B[38;5;241;43m.\u001B[39;49m\u001B[43m__write_response_codec_options\u001B[49m\u001B[43m,\u001B[49m\n\u001B[1;32m    602\u001B[0m \u001B[43m    \u001B[49m\u001B[43msession\u001B[49m\u001B[38;5;241;43m=\u001B[39;49m\u001B[43msession\u001B[49m\u001B[43m,\u001B[49m\n\u001B[1;32m    603\u001B[0m \u001B[43m    \u001B[49m\u001B[43mclient\u001B[49m\u001B[38;5;241;43m=\u001B[39;49m\u001B[38;5;28;43mself\u001B[39;49m\u001B[38;5;241;43m.\u001B[39;49m\u001B[43m__database\u001B[49m\u001B[38;5;241;43m.\u001B[39;49m\u001B[43mclient\u001B[49m\u001B[43m,\u001B[49m\n\u001B[1;32m    604\u001B[0m \u001B[43m    \u001B[49m\u001B[43mretryable_write\u001B[49m\u001B[38;5;241;43m=\u001B[39;49m\u001B[43mretryable_write\u001B[49m\u001B[43m,\u001B[49m\n\u001B[1;32m    605\u001B[0m \u001B[43m\u001B[49m\u001B[43m)\u001B[49m\n\u001B[1;32m    607\u001B[0m _check_write_command_response(result)\n",
      "File \u001B[0;32m~/Documents/HAW/Vorlesung/Masterarbeit/MasterArbeit/lib/python3.9/site-packages/pymongo/helpers.py:322\u001B[0m, in \u001B[0;36m_handle_reauth.<locals>.inner\u001B[0;34m(*args, **kwargs)\u001B[0m\n\u001B[1;32m    319\u001B[0m \u001B[38;5;28;01mfrom\u001B[39;00m \u001B[38;5;21;01mpymongo\u001B[39;00m\u001B[38;5;21;01m.\u001B[39;00m\u001B[38;5;21;01mpool\u001B[39;00m \u001B[38;5;28;01mimport\u001B[39;00m Connection\n\u001B[1;32m    321\u001B[0m \u001B[38;5;28;01mtry\u001B[39;00m:\n\u001B[0;32m--> 322\u001B[0m     \u001B[38;5;28;01mreturn\u001B[39;00m \u001B[43mfunc\u001B[49m\u001B[43m(\u001B[49m\u001B[38;5;241;43m*\u001B[39;49m\u001B[43margs\u001B[49m\u001B[43m,\u001B[49m\u001B[43m \u001B[49m\u001B[38;5;241;43m*\u001B[39;49m\u001B[38;5;241;43m*\u001B[39;49m\u001B[43mkwargs\u001B[49m\u001B[43m)\u001B[49m\n\u001B[1;32m    323\u001B[0m \u001B[38;5;28;01mexcept\u001B[39;00m OperationFailure \u001B[38;5;28;01mas\u001B[39;00m exc:\n\u001B[1;32m    324\u001B[0m     \u001B[38;5;28;01mif\u001B[39;00m no_reauth:\n",
      "File \u001B[0;32m~/Documents/HAW/Vorlesung/Masterarbeit/MasterArbeit/lib/python3.9/site-packages/pymongo/pool.py:996\u001B[0m, in \u001B[0;36mConnection.command\u001B[0;34m(self, dbname, spec, read_preference, codec_options, check, allowable_errors, read_concern, write_concern, parse_write_concern_error, collation, session, client, retryable_write, publish_events, user_fields, exhaust_allowed)\u001B[0m\n\u001B[1;32m    994\u001B[0m \u001B[38;5;66;03m# Catch socket.error, KeyboardInterrupt, etc. and close ourselves.\u001B[39;00m\n\u001B[1;32m    995\u001B[0m \u001B[38;5;28;01mexcept\u001B[39;00m \u001B[38;5;167;01mBaseException\u001B[39;00m \u001B[38;5;28;01mas\u001B[39;00m error:\n\u001B[0;32m--> 996\u001B[0m     \u001B[38;5;28;43mself\u001B[39;49m\u001B[38;5;241;43m.\u001B[39;49m\u001B[43m_raise_connection_failure\u001B[49m\u001B[43m(\u001B[49m\u001B[43merror\u001B[49m\u001B[43m)\u001B[49m\n",
      "File \u001B[0;32m~/Documents/HAW/Vorlesung/Masterarbeit/MasterArbeit/lib/python3.9/site-packages/pymongo/pool.py:968\u001B[0m, in \u001B[0;36mConnection.command\u001B[0;34m(self, dbname, spec, read_preference, codec_options, check, allowable_errors, read_concern, write_concern, parse_write_concern_error, collation, session, client, retryable_write, publish_events, user_fields, exhaust_allowed)\u001B[0m\n\u001B[1;32m    966\u001B[0m     \u001B[38;5;28mself\u001B[39m\u001B[38;5;241m.\u001B[39m_raise_if_not_writable(unacknowledged)\n\u001B[1;32m    967\u001B[0m \u001B[38;5;28;01mtry\u001B[39;00m:\n\u001B[0;32m--> 968\u001B[0m     \u001B[38;5;28;01mreturn\u001B[39;00m \u001B[43mcommand\u001B[49m\u001B[43m(\u001B[49m\n\u001B[1;32m    969\u001B[0m \u001B[43m        \u001B[49m\u001B[38;5;28;43mself\u001B[39;49m\u001B[43m,\u001B[49m\n\u001B[1;32m    970\u001B[0m \u001B[43m        \u001B[49m\u001B[43mdbname\u001B[49m\u001B[43m,\u001B[49m\n\u001B[1;32m    971\u001B[0m \u001B[43m        \u001B[49m\u001B[43mspec\u001B[49m\u001B[43m,\u001B[49m\n\u001B[1;32m    972\u001B[0m \u001B[43m        \u001B[49m\u001B[38;5;28;43mself\u001B[39;49m\u001B[38;5;241;43m.\u001B[39;49m\u001B[43mis_mongos\u001B[49m\u001B[43m,\u001B[49m\n\u001B[1;32m    973\u001B[0m \u001B[43m        \u001B[49m\u001B[43mread_preference\u001B[49m\u001B[43m,\u001B[49m\n\u001B[1;32m    974\u001B[0m \u001B[43m        \u001B[49m\u001B[43mcodec_options\u001B[49m\u001B[43m,\u001B[49m\n\u001B[1;32m    975\u001B[0m \u001B[43m        \u001B[49m\u001B[43msession\u001B[49m\u001B[43m,\u001B[49m\n\u001B[1;32m    976\u001B[0m \u001B[43m        \u001B[49m\u001B[43mclient\u001B[49m\u001B[43m,\u001B[49m\n\u001B[1;32m    977\u001B[0m \u001B[43m        \u001B[49m\u001B[43mcheck\u001B[49m\u001B[43m,\u001B[49m\n\u001B[1;32m    978\u001B[0m \u001B[43m        \u001B[49m\u001B[43mallowable_errors\u001B[49m\u001B[43m,\u001B[49m\n\u001B[1;32m    979\u001B[0m \u001B[43m        \u001B[49m\u001B[38;5;28;43mself\u001B[39;49m\u001B[38;5;241;43m.\u001B[39;49m\u001B[43maddress\u001B[49m\u001B[43m,\u001B[49m\n\u001B[1;32m    980\u001B[0m \u001B[43m        \u001B[49m\u001B[43mlisteners\u001B[49m\u001B[43m,\u001B[49m\n\u001B[1;32m    981\u001B[0m \u001B[43m        \u001B[49m\u001B[38;5;28;43mself\u001B[39;49m\u001B[38;5;241;43m.\u001B[39;49m\u001B[43mmax_bson_size\u001B[49m\u001B[43m,\u001B[49m\n\u001B[1;32m    982\u001B[0m \u001B[43m        \u001B[49m\u001B[43mread_concern\u001B[49m\u001B[43m,\u001B[49m\n\u001B[1;32m    983\u001B[0m \u001B[43m        \u001B[49m\u001B[43mparse_write_concern_error\u001B[49m\u001B[38;5;241;43m=\u001B[39;49m\u001B[43mparse_write_concern_error\u001B[49m\u001B[43m,\u001B[49m\n\u001B[1;32m    984\u001B[0m \u001B[43m        \u001B[49m\u001B[43mcollation\u001B[49m\u001B[38;5;241;43m=\u001B[39;49m\u001B[43mcollation\u001B[49m\u001B[43m,\u001B[49m\n\u001B[1;32m    985\u001B[0m \u001B[43m        \u001B[49m\u001B[43mcompression_ctx\u001B[49m\u001B[38;5;241;43m=\u001B[39;49m\u001B[38;5;28;43mself\u001B[39;49m\u001B[38;5;241;43m.\u001B[39;49m\u001B[43mcompression_context\u001B[49m\u001B[43m,\u001B[49m\n\u001B[1;32m    986\u001B[0m \u001B[43m        \u001B[49m\u001B[43muse_op_msg\u001B[49m\u001B[38;5;241;43m=\u001B[39;49m\u001B[38;5;28;43mself\u001B[39;49m\u001B[38;5;241;43m.\u001B[39;49m\u001B[43mop_msg_enabled\u001B[49m\u001B[43m,\u001B[49m\n\u001B[1;32m    987\u001B[0m \u001B[43m        \u001B[49m\u001B[43munacknowledged\u001B[49m\u001B[38;5;241;43m=\u001B[39;49m\u001B[43munacknowledged\u001B[49m\u001B[43m,\u001B[49m\n\u001B[1;32m    988\u001B[0m \u001B[43m        \u001B[49m\u001B[43muser_fields\u001B[49m\u001B[38;5;241;43m=\u001B[39;49m\u001B[43muser_fields\u001B[49m\u001B[43m,\u001B[49m\n\u001B[1;32m    989\u001B[0m \u001B[43m        \u001B[49m\u001B[43mexhaust_allowed\u001B[49m\u001B[38;5;241;43m=\u001B[39;49m\u001B[43mexhaust_allowed\u001B[49m\u001B[43m,\u001B[49m\n\u001B[1;32m    990\u001B[0m \u001B[43m        \u001B[49m\u001B[43mwrite_concern\u001B[49m\u001B[38;5;241;43m=\u001B[39;49m\u001B[43mwrite_concern\u001B[49m\u001B[43m,\u001B[49m\n\u001B[1;32m    991\u001B[0m \u001B[43m    \u001B[49m\u001B[43m)\u001B[49m\n\u001B[1;32m    992\u001B[0m \u001B[38;5;28;01mexcept\u001B[39;00m (OperationFailure, NotPrimaryError):\n\u001B[1;32m    993\u001B[0m     \u001B[38;5;28;01mraise\u001B[39;00m\n",
      "File \u001B[0;32m~/Documents/HAW/Vorlesung/Masterarbeit/MasterArbeit/lib/python3.9/site-packages/pymongo/network.py:182\u001B[0m, in \u001B[0;36mcommand\u001B[0;34m(conn, dbname, spec, is_mongos, read_preference, codec_options, session, client, check, allowable_errors, address, listeners, max_bson_size, read_concern, parse_write_concern_error, collation, compression_ctx, use_op_msg, unacknowledged, user_fields, exhaust_allowed, write_concern)\u001B[0m\n\u001B[1;32m    180\u001B[0m     response_doc: _DocumentOut \u001B[38;5;241m=\u001B[39m {\u001B[38;5;124m\"\u001B[39m\u001B[38;5;124mok\u001B[39m\u001B[38;5;124m\"\u001B[39m: \u001B[38;5;241m1\u001B[39m}\n\u001B[1;32m    181\u001B[0m \u001B[38;5;28;01melse\u001B[39;00m:\n\u001B[0;32m--> 182\u001B[0m     reply \u001B[38;5;241m=\u001B[39m \u001B[43mreceive_message\u001B[49m\u001B[43m(\u001B[49m\u001B[43mconn\u001B[49m\u001B[43m,\u001B[49m\u001B[43m \u001B[49m\u001B[43mrequest_id\u001B[49m\u001B[43m)\u001B[49m\n\u001B[1;32m    183\u001B[0m     conn\u001B[38;5;241m.\u001B[39mmore_to_come \u001B[38;5;241m=\u001B[39m reply\u001B[38;5;241m.\u001B[39mmore_to_come\n\u001B[1;32m    184\u001B[0m     unpacked_docs \u001B[38;5;241m=\u001B[39m reply\u001B[38;5;241m.\u001B[39munpack_response(\n\u001B[1;32m    185\u001B[0m         codec_options\u001B[38;5;241m=\u001B[39mcodec_options, user_fields\u001B[38;5;241m=\u001B[39muser_fields\n\u001B[1;32m    186\u001B[0m     )\n",
      "File \u001B[0;32m~/Documents/HAW/Vorlesung/Masterarbeit/MasterArbeit/lib/python3.9/site-packages/pymongo/network.py:257\u001B[0m, in \u001B[0;36mreceive_message\u001B[0;34m(conn, request_id, max_message_size)\u001B[0m\n\u001B[1;32m    255\u001B[0m         deadline \u001B[38;5;241m=\u001B[39m \u001B[38;5;28;01mNone\u001B[39;00m\n\u001B[1;32m    256\u001B[0m \u001B[38;5;66;03m# Ignore the response's request id.\u001B[39;00m\n\u001B[0;32m--> 257\u001B[0m length, _, response_to, op_code \u001B[38;5;241m=\u001B[39m _UNPACK_HEADER(\u001B[43m_receive_data_on_socket\u001B[49m\u001B[43m(\u001B[49m\u001B[43mconn\u001B[49m\u001B[43m,\u001B[49m\u001B[43m \u001B[49m\u001B[38;5;241;43m16\u001B[39;49m\u001B[43m,\u001B[49m\u001B[43m \u001B[49m\u001B[43mdeadline\u001B[49m\u001B[43m)\u001B[49m)\n\u001B[1;32m    258\u001B[0m \u001B[38;5;66;03m# No request_id for exhaust cursor \"getMore\".\u001B[39;00m\n\u001B[1;32m    259\u001B[0m \u001B[38;5;28;01mif\u001B[39;00m request_id \u001B[38;5;129;01mis\u001B[39;00m \u001B[38;5;129;01mnot\u001B[39;00m \u001B[38;5;28;01mNone\u001B[39;00m:\n",
      "File \u001B[0;32m~/Documents/HAW/Vorlesung/Masterarbeit/MasterArbeit/lib/python3.9/site-packages/pymongo/network.py:340\u001B[0m, in \u001B[0;36m_receive_data_on_socket\u001B[0;34m(conn, length, deadline)\u001B[0m\n\u001B[1;32m    338\u001B[0m     \u001B[38;5;28;01mif\u001B[39;00m _csot\u001B[38;5;241m.\u001B[39mget_timeout() \u001B[38;5;129;01mand\u001B[39;00m deadline \u001B[38;5;129;01mis\u001B[39;00m \u001B[38;5;129;01mnot\u001B[39;00m \u001B[38;5;28;01mNone\u001B[39;00m:\n\u001B[1;32m    339\u001B[0m         conn\u001B[38;5;241m.\u001B[39mset_conn_timeout(\u001B[38;5;28mmax\u001B[39m(deadline \u001B[38;5;241m-\u001B[39m time\u001B[38;5;241m.\u001B[39mmonotonic(), \u001B[38;5;241m0\u001B[39m))\n\u001B[0;32m--> 340\u001B[0m     chunk_length \u001B[38;5;241m=\u001B[39m \u001B[43mconn\u001B[49m\u001B[38;5;241;43m.\u001B[39;49m\u001B[43mconn\u001B[49m\u001B[38;5;241;43m.\u001B[39;49m\u001B[43mrecv_into\u001B[49m\u001B[43m(\u001B[49m\u001B[43mmv\u001B[49m\u001B[43m[\u001B[49m\u001B[43mbytes_read\u001B[49m\u001B[43m:\u001B[49m\u001B[43m]\u001B[49m\u001B[43m)\u001B[49m\n\u001B[1;32m    341\u001B[0m \u001B[38;5;28;01mexcept\u001B[39;00m BLOCKING_IO_ERRORS:\n\u001B[1;32m    342\u001B[0m     \u001B[38;5;28;01mraise\u001B[39;00m socket\u001B[38;5;241m.\u001B[39mtimeout(\u001B[38;5;124m\"\u001B[39m\u001B[38;5;124mtimed out\u001B[39m\u001B[38;5;124m\"\u001B[39m) \u001B[38;5;28;01mfrom\u001B[39;00m \u001B[38;5;28;01mNone\u001B[39;00m\n",
      "\u001B[0;31mKeyboardInterrupt\u001B[0m: "
     ]
    }
   ],
   "source": [
    "import pandas as pd\n",
    "import numpy as np\n",
    "import re\n",
    "from tqdm import tqdm\n",
    "\n",
    "# Set base path\n",
    "base_path = \"/Users/sep/Documents/HAW/Masterarbeit/Daten.nosync/\"\n",
    "\n",
    "# File paths\n",
    "metadata_file_path = f\"{base_path}NonDomesticVAERSDATA.csv\"\n",
    "vax_file_path = f\"{base_path}NonDomesticVAERSVAX.csv\"\n",
    "symptoms_file_path = f\"{base_path}NonDomesticVAERSSYMPTOMS.csv\"\n",
    "\n",
    "metadata_df = pd.read_csv(metadata_file_path, encoding='ISO-8859-1', low_memory=False)\n",
    "vax_df = pd.read_csv(vax_file_path, encoding='ISO-8859-1', low_memory=False, usecols=['VAERS_ID', 'VAX_TYPE', 'VAX_MANU', 'VAX_LOT', 'VAX_DOSE_SERIES', 'VAX_NAME'])\n",
    "symptoms_df = pd.read_csv(symptoms_file_path, encoding='ISO-8859-1', low_memory=False, usecols=['VAERS_ID', 'SYMPTOM1', 'SYMPTOM2', 'SYMPTOM3', 'SYMPTOM4', 'SYMPTOM5'])\n",
    "\n",
    "metadata_df = metadata_df.drop(['SYMPTOM_TEXT', 'LAB_DATA', 'V_ADMINBY', 'V_FUNDBY', 'SPLTTYPE', 'FORM_VERS'], axis=1)\n",
    "\n",
    "\n",
    "metadata_df['AGE'] = metadata_df.apply(calculate_age, axis=1) # Insert the 'AGE' column as the 4th column\n",
    "metadata_df.insert(3, 'AGE', metadata_df.pop('AGE'))\n",
    "metadata_df['TODAYS_DATE'] = metadata_df.apply(form_completed, axis=1)\n",
    "metadata_df[['RECVDATE', 'DATEDIED', 'VAX_DATE', 'ONSET_DATE', 'TODAYS_DATE']] = metadata_df[['RECVDATE', 'DATEDIED', 'VAX_DATE', 'ONSET_DATE', 'TODAYS_DATE']].apply(lambda x: x.map(convert_date))\n",
    "metadata_df = metadata_df.drop(['AGE_YRS', 'CAGE_YR', 'CAGE_MO', 'RPT_DATE'], axis=1)\n",
    "metadata_df.insert(2, 'TODAYS_DATE', metadata_df.pop('TODAYS_DATE'))\n",
    "metadata_df['ALLERGIES'] = metadata_df['ALLERGIES'].astype(str)\n",
    "metadata_df['ALLERGIES'] = metadata_df['ALLERGIES'].apply(lambda x: correct_spelling(x) if x != 'nan' else np.nan)\n",
    "metadata_df['SERIOUS'] = np.where(metadata_df[['DIED', 'L_THREAT', 'HOSPITAL', 'X_STAY', 'DISABLE', 'BIRTH_DEFECT']].eq('Y').any(axis=1), 'Y', 'N')\n",
    "metadata_df.insert(6, 'SERIOUS', metadata_df.pop('SERIOUS'))\n",
    "\n",
    "columns = ['SYMPTOM1', 'SYMPTOM2', 'SYMPTOM3', 'SYMPTOM4', 'SYMPTOM5']\n",
    "for col in columns:\n",
    "    symptoms_df[col] = replace_vaccination_site(symptoms_df[col])\n",
    "    \n",
    "# Create a progress bar\n",
    "progress_bar = tqdm(total=len(metadata_df), desc=\"Processing rows\")\n",
    "\n",
    "# Iterate through rows of metadata_df\n",
    "for index, row in metadata_df.iterrows():\n",
    "        entry = {}\n",
    "        vax_entries = [] \n",
    "        symptoms_entry = []\n",
    "    \n",
    "        # Add metadata columns directly to the entry\n",
    "        for column in metadata_df.columns:\n",
    "            if column == 'OTHER_MEDS':\n",
    "                # Split the string on the comma or semicolon and store as a list\n",
    "                if pd.notna(row[column]):\n",
    "                    meds = re.split(',|;', row[column])  # Use regex to split on both delimiters\n",
    "                    entry['OTHER_MEDS'] = [med.strip() for med in meds if med.strip()]  # List of non-empty stripped meds\n",
    "                else:\n",
    "                    entry['OTHER_MEDS'] = np.nan\n",
    "            elif column == 'CUR_ILL':\n",
    "                # Split the string on the comma and create a dictionary\n",
    "                if pd.notna(row['CUR_ILL']):\n",
    "                    ills = re.split(',|;', row['CUR_ILL'])\n",
    "                    entry['CUR_ILL'] = [ill.strip() for ill in ills if ill.strip()]\n",
    "                else:\n",
    "                     entry['CUR_ILL'] = np.nan   \n",
    "            elif column == 'HISTORY':\n",
    "                # Split the string on the comma and create a dictionary\n",
    "                if pd.notna(row[column]):\n",
    "                    history = re.split(',|;', row[column])\n",
    "                    entry['HISTORY'] = [his.strip() for his in history if his.strip()]\n",
    "                else:\n",
    "                    entry['HISTORY'] = np.nan\n",
    "                    \n",
    "            elif pd.notna(row[column]):\n",
    "                entry[column] = row[column]\n",
    "            else:\n",
    "                entry[column] = np.nan\n",
    "        \n",
    "        # Filter vax_df based on VAERS_ID\n",
    "        vax_data = vax_df[vax_df['VAERS_ID'] == row['VAERS_ID']] \n",
    "        vax_data = vax_data.drop(['VAERS_ID'], axis=1)\n",
    "        \n",
    "        # Check if vax_data is not empty\n",
    "        if not vax_data.empty:\n",
    "            # Iterate over each vaccine entry and add it to the list\n",
    "            for vax_row in vax_data.itertuples(index=False):\n",
    "                vax_entry_i = {column: getattr(vax_row, column) if pd.notna(getattr(vax_row, column)) else np.nan for column in vax_data.columns}\n",
    "                vax_entries.append(vax_entry_i)\n",
    "        \n",
    "        entry['vax_data'] = vax_entries  # Add the list of vaccine entries to the main entry\n",
    "                \n",
    "         # Filter symptoms_df based on VAERS_ID\n",
    "        symptoms_data = symptoms_df[symptoms_df['VAERS_ID'] == row['VAERS_ID']] \n",
    "        symptoms_data = symptoms_data.drop(['VAERS_ID'], axis=1)\n",
    "        \n",
    "        # Check if symptoms_data is not empty\n",
    "        if not symptoms_data.empty:\n",
    "            # Construct a list of symptoms, excluding any NaN values\n",
    "            symptoms_list = [value for value in symptoms_data.values.flatten() if pd.notna(value)]\n",
    "            entry['symptoms'] = symptoms_list\n",
    "        else:\n",
    "            entry['symptoms'] = np.nan\n",
    "                \n",
    "        # Upload entry to MongoDB\n",
    "        collection.insert_one(entry)\n",
    "\n",
    "        # Update the progress bar\n",
    "        progress_bar.update(1)\n",
    "\n",
    "# Close the progress bar once finished\n",
    "progress_bar.close()\n"
   ],
   "metadata": {
    "collapsed": false,
    "ExecuteTime": {
     "end_time": "2024-03-11T15:04:31.512954Z",
     "start_time": "2024-03-11T15:00:12.555032Z"
    }
   },
   "id": "42735e42248288f5",
   "execution_count": 13
  },
  {
   "cell_type": "code",
   "outputs": [
    {
     "data": {
      "text/plain": "{'VAERS_ID': 25002,\n 'RECVDATE': Timestamp('1990-07-02 00:00:00'),\n 'TODAYS_DATE': nan,\n 'STATE': 'FR',\n 'AGE': 82.0,\n 'SEX': 'M',\n 'SERIOUS': 'Y',\n 'DIED': nan,\n 'DATEDIED': nan,\n 'L_THREAT': nan,\n 'ER_VISIT': nan,\n 'HOSPITAL': nan,\n 'HOSPDAYS': nan,\n 'X_STAY': nan,\n 'DISABLE': 'Y',\n 'RECOVD': nan,\n 'VAX_DATE': Timestamp('1989-11-20 00:00:00'),\n 'ONSET_DATE': Timestamp('1989-11-20 00:00:00'),\n 'NUMDAYS': 0.0,\n 'OTHER_MEDS': ['Thioridazine', 'Triazolam'],\n 'CUR_ILL': nan,\n 'HISTORY': ['Senile dementia', 'Diabetes mellitus', 'seizures'],\n 'PRIOR_VAX': '~ ()~~~In patient',\n 'BIRTH_DEFECT': nan,\n 'OFC_VISIT': nan,\n 'ER_ED_VISIT': nan,\n 'ALLERGIES': nan,\n 'vax_data': [{'VAX_TYPE': 'PPV',\n   'VAX_MANU': 'MERCK & CO. INC.',\n   'VAX_LOT': 'M0870',\n   'VAX_DOSE_SERIES': 'UNK',\n   'VAX_NAME': 'PNEUMO (PNEUMOVAX)'}],\n 'symptoms': ['Chills', 'Convulsion', '', '', '']}"
     },
     "execution_count": 21,
     "metadata": {},
     "output_type": "execute_result"
    }
   ],
   "source": [
    "entry"
   ],
   "metadata": {
    "collapsed": false,
    "ExecuteTime": {
     "end_time": "2024-02-21T10:25:59.404742Z",
     "start_time": "2024-02-21T10:25:59.401374Z"
    }
   },
   "id": "7e069d029776dfcb",
   "execution_count": 21
  },
  {
   "cell_type": "code",
   "outputs": [],
   "source": [],
   "metadata": {
    "collapsed": false
   },
   "id": "904bf3b130c5d54e"
  }
 ],
 "metadata": {
  "kernelspec": {
   "display_name": "Python 3",
   "language": "python",
   "name": "python3"
  },
  "language_info": {
   "codemirror_mode": {
    "name": "ipython",
    "version": 2
   },
   "file_extension": ".py",
   "mimetype": "text/x-python",
   "name": "python",
   "nbconvert_exporter": "python",
   "pygments_lexer": "ipython2",
   "version": "2.7.6"
  }
 },
 "nbformat": 4,
 "nbformat_minor": 5
}

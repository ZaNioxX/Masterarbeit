{
 "cells": [
  {
   "cell_type": "markdown",
   "source": [
    "# Connect to MongoDB"
   ],
   "metadata": {
    "collapsed": false
   },
   "id": "c7b377954635e42f"
  },
  {
   "cell_type": "code",
   "outputs": [],
   "source": [
    "import pymongo\n",
    "# Connect to MongoDB\n",
    "client = pymongo.MongoClient(\"mongodb://localhost:27017/\")\n",
    "# Replace 'mydatabase' with your database name\n",
    "db = client[\"vaers\"]\n",
    "# Replace 'mycollection' with your collection name\n",
    "collection = db[\"reports\"]"
   ],
   "metadata": {
    "collapsed": false,
    "ExecuteTime": {
     "end_time": "2024-02-21T09:22:58.675025Z",
     "start_time": "2024-02-21T09:22:58.594042Z"
    }
   },
   "id": "6ac7ace1af56b08c",
   "execution_count": 2
  },
  {
   "cell_type": "markdown",
   "source": [
    "# define global functions"
   ],
   "metadata": {
    "collapsed": false
   },
   "id": "3624b9844fc63e06"
  },
  {
   "cell_type": "code",
   "outputs": [],
   "source": [
    "from datetime import datetime\n",
    "import pandas as pd\n",
    "import numpy as np\n",
    "import re\n",
    "\n",
    "def convert_date(date_string):\n",
    "    if pd.isna(date_string):\n",
    "        return None\n",
    "    # Assuming the date format is day/month/year\n",
    "    return datetime.strptime(date_string, \"%m/%d/%Y\")\n",
    "\n",
    "def calculate_age(row):\n",
    "    if not pd.isna(row['AGE_YRS']):\n",
    "        return row['AGE_YRS']\n",
    "    elif not pd.isna(row['CAGE_YR']):\n",
    "        age_years = row['CAGE_YR']\n",
    "        if not pd.isna(row['CAGE_MO']):\n",
    "            age_years += row['CAGE_MO']  # Convert months to years and add\n",
    "        return age_years\n",
    "    elif not pd.isna(row['CAGE_MO']):\n",
    "        return row['CAGE_MO']   # Convert months to years\n",
    "    else:\n",
    "        return np.nan\n",
    "    \n",
    "def form_completed(row):\n",
    "    if not pd.isna(row['TODAYS_DATE']):\n",
    "        return row['TODAYS_DATE']\n",
    "    elif not pd.isna(row['RPT_DATE']):\n",
    "        return row['RPT_DATE']\n",
    "    else:\n",
    "        return np.nan\n",
    "    \n",
    "corrections = {\n",
    "    'penecellin': 'Penicillin',\n",
    "    'penecillin': 'Penicillin',\n",
    "    'penecilin': 'Penicillin',\n",
    "    'penicillins': 'Penicillin',\n",
    "    'sulfa': 'Sulfates',\n",
    "    'sulpha': 'Sulfates',\n",
    "    'sulfides': 'Sulfates',\n",
    "    'sulfite': 'Sulfates',\n",
    "    'sulfate': 'Sulfates'\n",
    "}\n",
    "\n",
    "def correct_spelling(text):\n",
    "    for variation, correction in corrections.items():\n",
    "        text = re.sub(r'\\b{}\\b'.format(variation), correction, text, flags=re.IGNORECASE)\n",
    "    return text\n",
    "\n",
    "# Define the replacement function\n",
    "def replace_vaccination_site(symptom):\n",
    "    return symptom.str.replace(\"Vaccination site\", \"Injection site\", flags=re.IGNORECASE)"
   ],
   "metadata": {
    "collapsed": true,
    "ExecuteTime": {
     "end_time": "2024-02-21T09:23:00.109849Z",
     "start_time": "2024-02-21T09:22:59.130360Z"
    }
   },
   "id": "initial_id",
   "execution_count": 3
  },
  {
   "cell_type": "markdown",
   "source": [
    "# Domestic Reports"
   ],
   "metadata": {
    "collapsed": false
   },
   "id": "31d60c4e87f90e81"
  },
  {
   "cell_type": "code",
   "outputs": [
    {
     "name": "stderr",
     "output_type": "stream",
     "text": [
      "Processing Year 1990:   0%|          | 0/2102 [00:00<?, ?it/s]\n"
     ]
    }
   ],
   "source": [
    "import pandas as pd\n",
    "import numpy as np\n",
    "import re\n",
    "from tqdm import tqdm  # Import tqdm for progress bar\n",
    "\n",
    "base_path = \"/Users/sep/Documents/HAW/Masterarbeit/Daten.nosync/\"\n",
    "\n",
    "# Domestic Documents\n",
    "for year in range(1990, 1991):\n",
    "    metadata_file_path = f\"{base_path}{year}VAERSDATA.csv\"\n",
    "    vax_file_path = f\"{base_path}{year}VAERSVAX.csv\"\n",
    "    symptoms_file_path = f\"{base_path}{year}VAERSSYMPTOMS.csv\"\n",
    "    \n",
    "    metadata_df = pd.read_csv(metadata_file_path, encoding='ISO-8859-1', low_memory=False)\n",
    "    vax_df = pd.read_csv(vax_file_path, encoding='ISO-8859-1', low_memory=False, usecols=['VAERS_ID', 'VAX_TYPE', 'VAX_MANU', 'VAX_LOT', 'VAX_DOSE_SERIES', 'VAX_NAME'])\n",
    "    symptoms_df = pd.read_csv(symptoms_file_path, encoding='ISO-8859-1', low_memory=False, usecols=['VAERS_ID', 'SYMPTOM1', 'SYMPTOM2', 'SYMPTOM3', 'SYMPTOM4', 'SYMPTOM5'])\n",
    "    \n",
    "    metadata_df = metadata_df.drop(['SYMPTOM_TEXT', 'LAB_DATA', 'V_ADMINBY', 'V_FUNDBY', 'SPLTTYPE', 'FORM_VERS'], axis=1)\n",
    "    \n",
    "    \n",
    "    metadata_df['AGE'] = metadata_df.apply(calculate_age, axis=1) # Insert the 'AGE' column as the 4th column\n",
    "    metadata_df.insert(3, 'AGE', metadata_df.pop('AGE'))\n",
    "    metadata_df['TODAYS_DATE'] = metadata_df.apply(form_completed, axis=1)\n",
    "    metadata_df[['RECVDATE', 'DATEDIED', 'VAX_DATE', 'ONSET_DATE', 'TODAYS_DATE']] = metadata_df[['RECVDATE', 'DATEDIED', 'VAX_DATE', 'ONSET_DATE', 'TODAYS_DATE']].apply(lambda x: x.map(convert_date))\n",
    "    metadata_df = metadata_df.drop(['AGE_YRS', 'CAGE_YR', 'CAGE_MO', 'RPT_DATE'], axis=1)\n",
    "    metadata_df.insert(2, 'TODAYS_DATE', metadata_df.pop('TODAYS_DATE'))\n",
    "    metadata_df['ALLERGIES'] = metadata_df['ALLERGIES'].astype(str)\n",
    "    metadata_df['ALLERGIES'] = metadata_df['ALLERGIES'].apply(lambda x: correct_spelling(x) if x != 'nan' else np.nan)\n",
    "    metadata_df['SERIOUS'] = np.where(metadata_df[['DIED', 'L_THREAT', 'HOSPITAL', 'X_STAY', 'DISABLE', 'BIRTH_DEFECT']].eq('Y').any(axis=1), 'Y', 'N')\n",
    "    metadata_df.insert(6, 'SERIOUS', metadata_df.pop('SERIOUS'))\n",
    "\n",
    "    symptoms_df[['SYMPTOM1', 'SYMPTOM2', 'SYMPTOM3', 'SYMPTOM4', 'SYMPTOM5']].apply(replace_vaccination_site)\n",
    "    \n",
    "    for index, row in tqdm(metadata_df.iterrows(), total=len(metadata_df), desc=f\"Processing Year {year}\"):  # Use tqdm for progress bar\n",
    "        entry = {}\n",
    "        vax_entries = [] \n",
    "        symptoms_entry = []\n",
    "    \n",
    "        # Add metadata columns directly to the entry\n",
    "        for column in metadata_df.columns:\n",
    "            if column == 'OTHER_MEDS':\n",
    "                # Split the string on the comma or semicolon and store as a list\n",
    "                if pd.notna(row[column]):\n",
    "                    meds = re.split(',|;', row[column])  # Use regex to split on both delimiters\n",
    "                    entry['OTHER_MEDS'] = [med.strip() for med in meds if med.strip()]  # List of non-empty stripped meds\n",
    "                else:\n",
    "                    entry['OTHER_MEDS'] = np.nan\n",
    "            elif column == 'CUR_ILL':\n",
    "                # Split the string on the comma and create a dictionary\n",
    "                if pd.notna(row['CUR_ILL']):\n",
    "                    ills = re.split(',|;', row['CUR_ILL'])\n",
    "                    entry['CUR_ILL'] = [ill.strip() for ill in ills if ill.strip()]\n",
    "                else:\n",
    "                     entry['CUR_ILL'] = np.nan   \n",
    "            elif column == 'HISTORY':\n",
    "                # Split the string on the comma and create a dictionary\n",
    "                if pd.notna(row[column]):\n",
    "                    history = re.split(',|;', row[column])\n",
    "                    entry['HISTORY'] = [his.strip() for his in history if his.strip()]\n",
    "                else:\n",
    "                    entry['HISTORY'] = np.nan\n",
    "                    \n",
    "            elif pd.notna(row[column]):\n",
    "                entry[column] = row[column]\n",
    "            else:\n",
    "                entry[column] = np.nan\n",
    "        \n",
    "        # Filter vax_df based on VAERS_ID\n",
    "        vax_data = vax_df[vax_df['VAERS_ID'] == row['VAERS_ID']] \n",
    "        vax_data = vax_data.drop(['VAERS_ID'], axis=1)\n",
    "        \n",
    "        # Check if vax_data is not empty\n",
    "        if not vax_data.empty:\n",
    "            # Iterate over each vaccine entry and add it to the list\n",
    "            for vax_row in vax_data.itertuples(index=False):\n",
    "                vax_entry_i = {column: getattr(vax_row, column) if pd.notna(getattr(vax_row, column)) else np.nan for column in vax_data.columns}\n",
    "                vax_entries.append(vax_entry_i)\n",
    "        \n",
    "        entry['vax_data'] = vax_entries  # Add the list of vaccine entries to the main entry\n",
    "                \n",
    "         # Filter symptoms_df based on VAERS_ID\n",
    "        symptoms_data = symptoms_df[symptoms_df['VAERS_ID'] == row['VAERS_ID']] \n",
    "        symptoms_data = symptoms_data.drop(['VAERS_ID'], axis=1)\n",
    "        \n",
    "        # Check if symptoms_data is not empty\n",
    "        if not symptoms_data.empty:\n",
    "            # Construct a list of symptoms, excluding any NaN values\n",
    "            symptoms_list = [value for value in symptoms_data.values.flatten() if pd.notna(value)]\n",
    "            entry['symptoms'] = symptoms_list\n",
    "        else:\n",
    "            entry['symptoms'] = np.nan\n",
    "            \n",
    "        break\n",
    "                \n",
    "        # Upload entry to MongoDB\n",
    "        collection.insert_one(entry)\n"
   ],
   "metadata": {
    "collapsed": false,
    "ExecuteTime": {
     "end_time": "2024-02-21T10:39:24.168602Z",
     "start_time": "2024-02-21T10:39:23.813013Z"
    }
   },
   "id": "963b35ae72f0a42c",
   "execution_count": 28
  },
  {
   "cell_type": "code",
   "outputs": [
    {
     "data": {
      "text/plain": "{'VAERS_ID': 25001,\n 'RECVDATE': Timestamp('1990-07-02 00:00:00'),\n 'TODAYS_DATE': nan,\n 'STATE': 'WI',\n 'AGE': 0.2,\n 'SEX': 'F',\n 'SERIOUS': 'N',\n 'DIED': nan,\n 'DATEDIED': nan,\n 'L_THREAT': nan,\n 'ER_VISIT': nan,\n 'HOSPITAL': nan,\n 'HOSPDAYS': nan,\n 'X_STAY': nan,\n 'DISABLE': nan,\n 'RECOVD': 'U',\n 'VAX_DATE': Timestamp('1990-06-04 00:00:00'),\n 'ONSET_DATE': Timestamp('1990-06-04 00:00:00'),\n 'NUMDAYS': 0.0,\n 'OTHER_MEDS': nan,\n 'CUR_ILL': nan,\n 'HISTORY': nan,\n 'PRIOR_VAX': nan,\n 'BIRTH_DEFECT': nan,\n 'OFC_VISIT': nan,\n 'ER_ED_VISIT': nan,\n 'ALLERGIES': nan,\n 'vax_data': [{'VAX_TYPE': 'DTP',\n   'VAX_MANU': 'CONNAUGHT LABORATORIES',\n   'VAX_LOT': '9Q01042',\n   'VAX_DOSE_SERIES': 'UNK',\n   'VAX_NAME': 'DTP (NO BRAND NAME)'}],\n 'symptoms': ['Agitation']}"
     },
     "execution_count": 29,
     "metadata": {},
     "output_type": "execute_result"
    }
   ],
   "source": [
    "entry  "
   ],
   "metadata": {
    "collapsed": false,
    "ExecuteTime": {
     "end_time": "2024-02-21T10:39:26.982979Z",
     "start_time": "2024-02-21T10:39:26.978744Z"
    }
   },
   "id": "dbd72d66cf58f4f5",
   "execution_count": 29
  },
  {
   "cell_type": "markdown",
   "source": [
    "# non-domestic reports"
   ],
   "metadata": {
    "collapsed": false
   },
   "id": "4f843f5597817225"
  },
  {
   "cell_type": "code",
   "outputs": [
    {
     "name": "stderr",
     "output_type": "stream",
     "text": [
      "Processing rows: 100%|██████████| 740586/740586 [40:28<00:00, 305.01it/s]  \n"
     ]
    }
   ],
   "source": [
    "import pandas as pd\n",
    "import numpy as np\n",
    "import re\n",
    "from tqdm import tqdm\n",
    "\n",
    "# Set base path\n",
    "base_path = \"/Users/sep/Documents/HAW/Masterarbeit/Daten.nosync/\"\n",
    "\n",
    "# File paths\n",
    "metadata_file_path = f\"{base_path}NonDomesticVAERSDATA.csv\"\n",
    "vax_file_path = f\"{base_path}NonDomesticVAERSVAX.csv\"\n",
    "symptoms_file_path = f\"{base_path}NonDomesticVAERSSYMPTOMS.csv\"\n",
    "\n",
    "metadata_df = pd.read_csv(metadata_file_path, encoding='ISO-8859-1', low_memory=False)\n",
    "vax_df = pd.read_csv(vax_file_path, encoding='ISO-8859-1', low_memory=False, usecols=['VAERS_ID', 'VAX_TYPE', 'VAX_MANU', 'VAX_LOT', 'VAX_DOSE_SERIES', 'VAX_NAME'])\n",
    "symptoms_df = pd.read_csv(symptoms_file_path, encoding='ISO-8859-1', low_memory=False, usecols=['VAERS_ID', 'SYMPTOM1', 'SYMPTOM2', 'SYMPTOM3', 'SYMPTOM4', 'SYMPTOM5'])\n",
    "\n",
    "metadata_df = metadata_df.drop(['SYMPTOM_TEXT', 'LAB_DATA', 'V_ADMINBY', 'V_FUNDBY', 'SPLTTYPE', 'FORM_VERS'], axis=1)\n",
    "\n",
    "\n",
    "metadata_df['AGE'] = metadata_df.apply(calculate_age, axis=1) # Insert the 'AGE' column as the 4th column\n",
    "metadata_df.insert(3, 'AGE', metadata_df.pop('AGE'))\n",
    "metadata_df['TODAYS_DATE'] = metadata_df.apply(form_completed, axis=1)\n",
    "metadata_df[['RECVDATE', 'DATEDIED', 'VAX_DATE', 'ONSET_DATE', 'TODAYS_DATE']] = metadata_df[['RECVDATE', 'DATEDIED', 'VAX_DATE', 'ONSET_DATE', 'TODAYS_DATE']].apply(lambda x: x.map(convert_date))\n",
    "metadata_df = metadata_df.drop(['AGE_YRS', 'CAGE_YR', 'CAGE_MO', 'RPT_DATE'], axis=1)\n",
    "metadata_df.insert(2, 'TODAYS_DATE', metadata_df.pop('TODAYS_DATE'))\n",
    "metadata_df['ALLERGIES'] = metadata_df['ALLERGIES'].astype(str)\n",
    "metadata_df['ALLERGIES'] = metadata_df['ALLERGIES'].apply(lambda x: correct_spelling(x) if x != 'nan' else np.nan)\n",
    "metadata_df['SERIOUS'] = np.where(metadata_df[['DIED', 'L_THREAT', 'HOSPITAL', 'X_STAY', 'DISABLE', 'BIRTH_DEFECT']].eq('Y').any(axis=1), 'Y', 'N')\n",
    "metadata_df.insert(6, 'SERIOUS', metadata_df.pop('SERIOUS'))\n",
    "\n",
    "symptoms_df[['SYMPTOM1', 'SYMPTOM2', 'SYMPTOM3', 'SYMPTOM4', 'SYMPTOM5']].apply(replace_vaccination_site)\n",
    "# Create a progress bar\n",
    "progress_bar = tqdm(total=len(metadata_df), desc=\"Processing rows\")\n",
    "\n",
    "# Iterate through rows of metadata_df\n",
    "for index, row in metadata_df.iterrows():\n",
    "        entry = {}\n",
    "        vax_entries = [] \n",
    "        symptoms_entry = []\n",
    "    \n",
    "        # Add metadata columns directly to the entry\n",
    "        for column in metadata_df.columns:\n",
    "            if column == 'OTHER_MEDS':\n",
    "                # Split the string on the comma or semicolon and store as a list\n",
    "                if pd.notna(row[column]):\n",
    "                    meds = re.split(',|;', row[column])  # Use regex to split on both delimiters\n",
    "                    entry['OTHER_MEDS'] = [med.strip() for med in meds if med.strip()]  # List of non-empty stripped meds\n",
    "                else:\n",
    "                    entry['OTHER_MEDS'] = np.nan\n",
    "            elif column == 'CUR_ILL':\n",
    "                # Split the string on the comma and create a dictionary\n",
    "                if pd.notna(row['CUR_ILL']):\n",
    "                    ills = re.split(',|;', row['CUR_ILL'])\n",
    "                    entry['CUR_ILL'] = [ill.strip() for ill in ills if ill.strip()]\n",
    "                else:\n",
    "                     entry['CUR_ILL'] = np.nan   \n",
    "            elif column == 'HISTORY':\n",
    "                # Split the string on the comma and create a dictionary\n",
    "                if pd.notna(row[column]):\n",
    "                    history = re.split(',|;', row[column])\n",
    "                    entry['HISTORY'] = [his.strip() for his in history if his.strip()]\n",
    "                else:\n",
    "                    entry['HISTORY'] = np.nan\n",
    "                    \n",
    "            elif pd.notna(row[column]):\n",
    "                entry[column] = row[column]\n",
    "            else:\n",
    "                entry[column] = np.nan\n",
    "        \n",
    "        # Filter vax_df based on VAERS_ID\n",
    "        vax_data = vax_df[vax_df['VAERS_ID'] == row['VAERS_ID']] \n",
    "        vax_data = vax_data.drop(['VAERS_ID'], axis=1)\n",
    "        \n",
    "        # Check if vax_data is not empty\n",
    "        if not vax_data.empty:\n",
    "            # Iterate over each vaccine entry and add it to the list\n",
    "            for vax_row in vax_data.itertuples(index=False):\n",
    "                vax_entry_i = {column: getattr(vax_row, column) if pd.notna(getattr(vax_row, column)) else np.nan for column in vax_data.columns}\n",
    "                vax_entries.append(vax_entry_i)\n",
    "        \n",
    "        entry['vax_data'] = vax_entries  # Add the list of vaccine entries to the main entry\n",
    "                \n",
    "         # Filter symptoms_df based on VAERS_ID\n",
    "        symptoms_data = symptoms_df[symptoms_df['VAERS_ID'] == row['VAERS_ID']] \n",
    "        symptoms_data = symptoms_data.drop(['VAERS_ID'], axis=1)\n",
    "        \n",
    "        # Check if symptoms_data is not empty\n",
    "        if not symptoms_data.empty:\n",
    "            # Construct a list of symptoms, excluding any NaN values\n",
    "            symptoms_list = [value for value in symptoms_data.values.flatten() if pd.notna(value)]\n",
    "            entry['symptoms'] = symptoms_list\n",
    "        else:\n",
    "            entry['symptoms'] = np.nan\n",
    "                \n",
    "        # Upload entry to MongoDB\n",
    "        collection.insert_one(entry)\n",
    "\n",
    "        # Update the progress bar\n",
    "        progress_bar.update(1)\n",
    "\n",
    "# Close the progress bar once finished\n",
    "progress_bar.close()\n"
   ],
   "metadata": {
    "collapsed": false,
    "ExecuteTime": {
     "end_time": "2024-02-21T13:09:31.395218Z",
     "start_time": "2024-02-21T12:28:30.024488Z"
    }
   },
   "id": "42735e42248288f5",
   "execution_count": 32
  },
  {
   "cell_type": "code",
   "outputs": [
    {
     "data": {
      "text/plain": "{'VAERS_ID': 25002,\n 'RECVDATE': Timestamp('1990-07-02 00:00:00'),\n 'TODAYS_DATE': nan,\n 'STATE': 'FR',\n 'AGE': 82.0,\n 'SEX': 'M',\n 'SERIOUS': 'Y',\n 'DIED': nan,\n 'DATEDIED': nan,\n 'L_THREAT': nan,\n 'ER_VISIT': nan,\n 'HOSPITAL': nan,\n 'HOSPDAYS': nan,\n 'X_STAY': nan,\n 'DISABLE': 'Y',\n 'RECOVD': nan,\n 'VAX_DATE': Timestamp('1989-11-20 00:00:00'),\n 'ONSET_DATE': Timestamp('1989-11-20 00:00:00'),\n 'NUMDAYS': 0.0,\n 'OTHER_MEDS': ['Thioridazine', 'Triazolam'],\n 'CUR_ILL': nan,\n 'HISTORY': ['Senile dementia', 'Diabetes mellitus', 'seizures'],\n 'PRIOR_VAX': '~ ()~~~In patient',\n 'BIRTH_DEFECT': nan,\n 'OFC_VISIT': nan,\n 'ER_ED_VISIT': nan,\n 'ALLERGIES': nan,\n 'vax_data': [{'VAX_TYPE': 'PPV',\n   'VAX_MANU': 'MERCK & CO. INC.',\n   'VAX_LOT': 'M0870',\n   'VAX_DOSE_SERIES': 'UNK',\n   'VAX_NAME': 'PNEUMO (PNEUMOVAX)'}],\n 'symptoms': ['Chills', 'Convulsion', '', '', '']}"
     },
     "execution_count": 21,
     "metadata": {},
     "output_type": "execute_result"
    }
   ],
   "source": [
    "entry"
   ],
   "metadata": {
    "collapsed": false,
    "ExecuteTime": {
     "end_time": "2024-02-21T10:25:59.404742Z",
     "start_time": "2024-02-21T10:25:59.401374Z"
    }
   },
   "id": "7e069d029776dfcb",
   "execution_count": 21
  },
  {
   "cell_type": "code",
   "outputs": [],
   "source": [],
   "metadata": {
    "collapsed": false
   },
   "id": "904bf3b130c5d54e"
  }
 ],
 "metadata": {
  "kernelspec": {
   "display_name": "Python 3",
   "language": "python",
   "name": "python3"
  },
  "language_info": {
   "codemirror_mode": {
    "name": "ipython",
    "version": 2
   },
   "file_extension": ".py",
   "mimetype": "text/x-python",
   "name": "python",
   "nbconvert_exporter": "python",
   "pygments_lexer": "ipython2",
   "version": "2.7.6"
  }
 },
 "nbformat": 4,
 "nbformat_minor": 5
}

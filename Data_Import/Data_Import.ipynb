{
 "cells": [
  {
   "cell_type": "markdown",
   "source": [
    "# Connect to MongoDB"
   ],
   "metadata": {
    "collapsed": false
   },
   "id": "c7b377954635e42f"
  },
  {
   "cell_type": "code",
   "outputs": [],
   "source": [
    "import pymongo\n",
    "\n",
    "# Connect to MongoDB\n",
    "client = pymongo.MongoClient(\"mongodb://localhost:27017/\")\n",
    "# Replace 'mydatabase' with your database name\n",
    "db = client[\"test\"]\n",
    "# Replace 'mycollection' with your collection name\n",
    "collection = db[\"test\"]\n",
    "\n"
   ],
   "metadata": {
    "collapsed": false,
    "ExecuteTime": {
     "end_time": "2024-02-17T10:35:10.268990Z",
     "start_time": "2024-02-17T10:35:10.231461Z"
    }
   },
   "id": "6ac7ace1af56b08c",
   "execution_count": 192
  },
  {
   "cell_type": "markdown",
   "source": [
    "# define global functions"
   ],
   "metadata": {
    "collapsed": false
   },
   "id": "3624b9844fc63e06"
  },
  {
   "cell_type": "code",
   "outputs": [],
   "source": [
    "from datetime import datetime\n",
    "import pandas as pd\n",
    "import numpy as np\n",
    "import re\n",
    "\n",
    "def convert_date(date_string):\n",
    "    if pd.isna(date_string):\n",
    "        return None\n",
    "    # Assuming the date format is day/month/year\n",
    "    return datetime.strptime(date_string, \"%m/%d/%Y\")\n",
    "\n",
    "def calculate_age(row):\n",
    "    if not pd.isna(row['AGE_YRS']):\n",
    "        return row['AGE_YRS']\n",
    "    elif not pd.isna(row['CAGE_YR']):\n",
    "        age_years = row['CAGE_YR']\n",
    "        if not pd.isna(row['CAGE_MO']):\n",
    "            age_years += row['CAGE_MO']  # Convert months to years and add\n",
    "        return age_years\n",
    "    elif not pd.isna(row['CAGE_MO']):\n",
    "        return row['CAGE_MO']   # Convert months to years\n",
    "    else:\n",
    "        return np.nan\n",
    "    \n",
    "def form_completed(row):\n",
    "    if not pd.isna(row['TODAYS_DATE']):\n",
    "        return row['TODAYS_DATE']\n",
    "    elif not pd.isna(row['RPT_DATE']):\n",
    "        return row['RPT_DATE']\n",
    "    else:\n",
    "        return np.nan\n",
    "    \n",
    "corrections = {\n",
    "    'penecellin': 'Penicillin',\n",
    "    'penecillin': 'Penicillin',\n",
    "    'penecilin': 'Penicillin',\n",
    "    'penicillins': 'Penicillin',\n",
    "    'sulfa': 'Sulfates',\n",
    "    'sulpha': 'Sulfates',\n",
    "    'sulfides': 'Sulfates',\n",
    "    'sulfite': 'Sulfates',\n",
    "    'sulfate': 'Sulfates'\n",
    "}\n",
    "\n",
    "def correct_spelling(text):\n",
    "    for variation, correction in corrections.items():\n",
    "        text = re.sub(r'\\b{}\\b'.format(variation), correction, text, flags=re.IGNORECASE)\n",
    "    return text"
   ],
   "metadata": {
    "collapsed": true,
    "ExecuteTime": {
     "end_time": "2024-02-17T10:35:11.299964Z",
     "start_time": "2024-02-17T10:35:11.296879Z"
    }
   },
   "id": "initial_id",
   "execution_count": 193
  },
  {
   "cell_type": "code",
   "outputs": [
    {
     "name": "stderr",
     "output_type": "stream",
     "text": [
      "/var/folders/5g/yyzx5_551v1dz53h3hnm2nmw0000gn/T/ipykernel_4085/2329158385.py:17: FutureWarning: DataFrame.applymap has been deprecated. Use DataFrame.map instead.\n",
      "  metadata_df[['RECVDATE', 'DATEDIED', 'VAX_DATE', 'ONSET_DATE', 'TODAYS_DATE']] = metadata_df[['RECVDATE', 'DATEDIED', 'VAX_DATE', 'ONSET_DATE', 'TODAYS_DATE']].applymap(convert_date)\n"
     ]
    }
   ],
   "source": [
    "base_path = \"/Users/sep/Documents/HAW/Masterarbeit/Daten.nosync/\"\n",
    "for year in range(1999, 2000):\n",
    "    metadata_file_path = f\"{base_path}{year}VAERSDATA.csv\"\n",
    "    vax_file_path = f\"{base_path}{year}VAERSVAX.csv\"\n",
    "    symptoms_file_path = f\"{base_path}{year}VAERSSYMPTOMS.csv\"\n",
    "    \n",
    "    metadata_df = pd.read_csv(metadata_file_path, encoding='ISO-8859-1', low_memory=False)\n",
    "    vax_df = pd.read_csv(vax_file_path, encoding='ISO-8859-1', low_memory=False, usecols=['VAERS_ID', 'VAX_TYPE', 'VAX_MANU', 'VAX_DOSE_SERIES', 'VAX_NAME'])\n",
    "    symptoms_df = pd.read_csv(symptoms_file_path, encoding='ISO-8859-1', low_memory=False, usecols=['VAERS_ID', 'SYMPTOM1', 'SYMPTOM2', 'SYMPTOM3', 'SYMPTOM4', 'SYMPTOM5'])\n",
    "    \n",
    "    metadata_df = metadata_df.drop(['SYMPTOM_TEXT', 'LAB_DATA', 'V_ADMINBY', 'V_FUNDBY', 'SPLTTYPE', 'FORM_VERS'], axis=1)\n",
    "    \n",
    "    \n",
    "    metadata_df['AGE'] = metadata_df.apply(calculate_age, axis=1) # Insert the 'AGE' column as the 4th column\n",
    "    metadata_df.insert(3, 'AGE', metadata_df.pop('AGE'))\n",
    "    metadata_df['TODAYS_DATE'] = metadata_df.apply(form_completed, axis=1)\n",
    "    metadata_df[['RECVDATE', 'DATEDIED', 'VAX_DATE', 'ONSET_DATE', 'TODAYS_DATE']] = metadata_df[['RECVDATE', 'DATEDIED', 'VAX_DATE', 'ONSET_DATE', 'TODAYS_DATE']].apply(lambda x: x.map(convert_date))\n",
    "    metadata_df = metadata_df.drop(['AGE_YRS', 'CAGE_YR', 'CAGE_MO', 'RPT_DATE'], axis=1)\n",
    "    metadata_df.insert(2, 'TODAYS_DATE', metadata_df.pop('TODAYS_DATE'))\n",
    "    metadata_df['ALLERGIES'] = metadata_df['ALLERGIES'].astype(str)\n",
    "    metadata_df['ALLERGIES'] = metadata_df['ALLERGIES'].apply(lambda x: correct_spelling(x) if x != 'nan' else np.nan)\n",
    "    metadata_df['SERIOUS'] = np.where(metadata_df[['DIED', 'L_THREAT', 'HOSPITAL', 'X_STAY', 'DISABLE', 'BIRTH_DEFECT']].eq('Y').any(axis=1), 'Y', 'N')\n",
    "    metadata_df.insert(6, 'SERIOUS', metadata_df.pop('SERIOUS'))\n",
    "    \n",
    "    symptoms_df[\"SYMPTOM1\"] = symptoms_df[\"SYMPTOM1\"].str.replace(\"Vaccination site\",\"Injection site\", flags=re.IGNORECASE)\n",
    "    symptoms_df[\"SYMPTOM2\"] = symptoms_df[\"SYMPTOM2\"].str.replace(\"Vaccination site\",\"Injection site\", flags=re.IGNORECASE)\n",
    "    symptoms_df[\"SYMPTOM3\"] = symptoms_df[\"SYMPTOM3\"].str.replace(\"Vaccination site\",\"Injection site\", flags=re.IGNORECASE)\n",
    "    symptoms_df[\"SYMPTOM4\"] = symptoms_df[\"SYMPTOM4\"].str.replace(\"Vaccination site\",\"Injection site\", flags=re.IGNORECASE)\n",
    "    symptoms_df[\"SYMPTOM5\"] = symptoms_df[\"SYMPTOM5\"].str.replace(\"Vaccination site\",\"Injection site\", flags=re.IGNORECASE)\n",
    "    \n",
    "\n",
    "for index, row in metadata_df.iterrows():\n",
    "    entry = {}\n",
    "    metadata_entry = {}\n",
    "    vax_entry = {}\n",
    "    symptoms_entry = []\n",
    "\n",
    "    # Add metadata columns to the metadata_entry\n",
    "    for column in metadata_df.columns:\n",
    "        if pd.notna(row[column]):\n",
    "            metadata_entry[column] = row[column]\n",
    "        else:\n",
    "            metadata_entry[column] = np.nan\n",
    "    \n",
    "    # Filter vax_df based on VAERS_ID\n",
    "    vax_data = vax_df[vax_df['VAERS_ID'] == row['VAERS_ID']] \n",
    "    vax_data = vax_data.drop(['VAERS_ID'], axis=1)\n",
    "    \n",
    "    # Check if vax_data is not empty\n",
    "    if not vax_data.empty:\n",
    "        for i in range(len(vax_data)):\n",
    "            vax_entry_i = {}\n",
    "            for column in vax_data.columns:\n",
    "                if pd.notna(vax_data.iloc[i][column]):\n",
    "                    vax_entry_i[f\"{column}_{i+1}\"] = vax_data.iloc[i][column]\n",
    "                else:\n",
    "                    vax_entry_i[f\"{column}_{i+1}\"] = np.nan\n",
    "            vax_entry.update(vax_entry_i)\n",
    "    else:\n",
    "        # If vax_data is empty, set all values to NaN\n",
    "        for column in vax_df.columns:\n",
    "            vax_entry[column] = np.nan\n",
    "            \n",
    "     # Filter symptoms_df based on VAERS_ID\n",
    "    symptoms_data = symptoms_df[symptoms_df['VAERS_ID'] == row['VAERS_ID']] \n",
    "    symptoms_data = symptoms_data.drop(['VAERS_ID'], axis=1)\n",
    "    \n",
    "    # Check if symptoms_data is not empty\n",
    "    if not symptoms_data.empty:\n",
    "        # Construct symptoms dictionary with keys without quotes\n",
    "        symptoms_entry = {f\"SYMPTOM{i+1}\": value for i, value in enumerate(symptoms_data.values.flatten()) if pd.notna(value)}\n",
    "            \n",
    "    entry['metadata'] = metadata_entry\n",
    "    entry['vax_data'] = vax_entry\n",
    "    entry['symptoms'] = symptoms_entry\n",
    "            \n",
    "    \n",
    "    # Upload entry to MongoDB\n",
    "    #collection.insert_one(entry)"
   ],
   "metadata": {
    "collapsed": false,
    "ExecuteTime": {
     "end_time": "2024-02-18T10:44:19.005626Z",
     "start_time": "2024-02-18T10:44:07.718654Z"
    }
   },
   "id": "963b35ae72f0a42c",
   "execution_count": 200
  },
  {
   "cell_type": "code",
   "outputs": [
    {
     "data": {
      "text/plain": "{'metadata': {'VAERS_ID': 132814,\n  'RECVDATE': Timestamp('1999-12-31 00:00:00'),\n  'TODAYS_DATE': Timestamp('1999-08-18 00:00:00'),\n  'STATE': nan,\n  'AGE': 24.0,\n  'SEX': 'M',\n  'SERIOUS': 'N',\n  'DIED': nan,\n  'DATEDIED': nan,\n  'L_THREAT': nan,\n  'ER_VISIT': 'Y',\n  'HOSPITAL': nan,\n  'HOSPDAYS': nan,\n  'X_STAY': nan,\n  'DISABLE': nan,\n  'RECOVD': 'N',\n  'VAX_DATE': Timestamp('1999-01-29 00:00:00'),\n  'ONSET_DATE': Timestamp('1999-01-29 00:00:00'),\n  'NUMDAYS': 0.0,\n  'OTHER_MEDS': nan,\n  'CUR_ILL': 'NONE',\n  'HISTORY': 'NONE',\n  'PRIOR_VAX': nan,\n  'BIRTH_DEFECT': nan,\n  'OFC_VISIT': nan,\n  'ER_ED_VISIT': nan,\n  'ALLERGIES': nan},\n 'vax_data': {'VAX_TYPE_1': 'ANTH',\n  'VAX_MANU_1': 'MICHIGAN DEPT PUB HLTH',\n  'VAX_DOSE_SERIES_1': '3',\n  'VAX_NAME_1': 'ANTHRAX (NO BRAND NAME)'},\n 'symptoms': {'SYMPTOM1': 'Pyrexia',\n  'SYMPTOM2': 'Rash',\n  'SYMPTOM3': 'Urticaria'}}"
     },
     "execution_count": 199,
     "metadata": {},
     "output_type": "execute_result"
    }
   ],
   "source": [
    "entry"
   ],
   "metadata": {
    "collapsed": false,
    "ExecuteTime": {
     "end_time": "2024-02-18T10:43:39.541987Z",
     "start_time": "2024-02-18T10:43:39.530978Z"
    }
   },
   "id": "dbd72d66cf58f4f5",
   "execution_count": 199
  },
  {
   "cell_type": "code",
   "outputs": [
    {
     "data": {
      "text/plain": "{'metadata': {'VAERS_ID': 132814,\n  'RECVDATE': Timestamp('1999-12-31 00:00:00'),\n  'TODAYS_DATE': Timestamp('1999-08-18 00:00:00'),\n  'STATE': nan,\n  'AGE': 24.0,\n  'SEX': 'M',\n  'SERIOUS': 'N',\n  'DIED': nan,\n  'DATEDIED': nan,\n  'L_THREAT': nan,\n  'ER_VISIT': 'Y',\n  'HOSPITAL': nan,\n  'HOSPDAYS': nan,\n  'X_STAY': nan,\n  'DISABLE': nan,\n  'RECOVD': 'N',\n  'VAX_DATE': Timestamp('1999-01-29 00:00:00'),\n  'ONSET_DATE': Timestamp('1999-01-29 00:00:00'),\n  'NUMDAYS': 0.0,\n  'OTHER_MEDS': nan,\n  'CUR_ILL': 'NONE',\n  'HISTORY': 'NONE',\n  'PRIOR_VAX': nan,\n  'BIRTH_DEFECT': nan,\n  'OFC_VISIT': nan,\n  'ER_ED_VISIT': nan,\n  'ALLERGIES': nan},\n 'vax_data': {'VAX_TYPE_1': 'ANTH',\n  'VAX_MANU_1': 'MICHIGAN DEPT PUB HLTH',\n  'VAX_DOSE_SERIES_1': '3',\n  'VAX_NAME_1': 'ANTHRAX (NO BRAND NAME)'},\n 'symptoms': {'SYMPTOM1': 'Pyrexia',\n  'SYMPTOM2': 'Rash',\n  'SYMPTOM3': 'Urticaria'}}"
     },
     "execution_count": 201,
     "metadata": {},
     "output_type": "execute_result"
    }
   ],
   "source": [
    "entry"
   ],
   "metadata": {
    "collapsed": false,
    "ExecuteTime": {
     "end_time": "2024-02-18T10:44:19.011344Z",
     "start_time": "2024-02-18T10:44:19.007685Z"
    }
   },
   "id": "42735e42248288f5",
   "execution_count": 201
  },
  {
   "cell_type": "code",
   "outputs": [],
   "source": [],
   "metadata": {
    "collapsed": false
   },
   "id": "61a83af50cf1d7f9"
  }
 ],
 "metadata": {
  "kernelspec": {
   "display_name": "Python 3",
   "language": "python",
   "name": "python3"
  },
  "language_info": {
   "codemirror_mode": {
    "name": "ipython",
    "version": 2
   },
   "file_extension": ".py",
   "mimetype": "text/x-python",
   "name": "python",
   "nbconvert_exporter": "python",
   "pygments_lexer": "ipython2",
   "version": "2.7.6"
  }
 },
 "nbformat": 4,
 "nbformat_minor": 5
}

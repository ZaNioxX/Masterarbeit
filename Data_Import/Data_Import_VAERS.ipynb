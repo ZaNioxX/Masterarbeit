{
 "cells": [
  {
   "cell_type": "markdown",
   "source": [
    "# Connect to MongoDB"
   ],
   "metadata": {
    "collapsed": false
   },
   "id": "c7b377954635e42f"
  },
  {
   "cell_type": "code",
   "source": [
    "import pymongo\n",
    "# Connect to your MongoDB instance\n",
    "client = pymongo.MongoClient(\"mongodb://localhost:27017/\")\n",
    "db = client[\"vaers\"]\n",
    "collection = db[\"reports\"]"
   ],
   "metadata": {
    "collapsed": false,
    "ExecuteTime": {
     "end_time": "2024-05-21T12:22:08.732074Z",
     "start_time": "2024-05-21T12:22:08.721777Z"
    }
   },
   "id": "6ac7ace1af56b08c",
   "outputs": [],
   "execution_count": 4
  },
  {
   "cell_type": "markdown",
   "source": [
    "# define global functions"
   ],
   "metadata": {
    "collapsed": false
   },
   "id": "3624b9844fc63e06"
  },
  {
   "cell_type": "code",
   "source": [
    "from datetime import datetime\n",
    "\n",
    "def convert_date(date_string):\n",
    "    if pd.isna(date_string):\n",
    "        return None\n",
    "    # Assuming the date format is day/month/year\n",
    "    return datetime.strptime(date_string, \"%m/%d/%Y\")\n",
    "\n",
    "def calculate_age(row):\n",
    "    if not pd.isna(row['AGE_YRS']):\n",
    "        return row['AGE_YRS']\n",
    "    elif not pd.isna(row['CAGE_YR']):\n",
    "        age_years = row['CAGE_YR']\n",
    "        if not pd.isna(row['CAGE_MO']):\n",
    "            age_years += row['CAGE_MO']  # Convert months to years and add\n",
    "        return age_years\n",
    "    elif not pd.isna(row['CAGE_MO']):\n",
    "        return row['CAGE_MO']   # Convert months to years\n",
    "    else:\n",
    "        return np.nan\n",
    "    \n",
    "def form_completed(row):\n",
    "    if not pd.isna(row['TODAYS_DATE']):\n",
    "        return row['TODAYS_DATE']\n",
    "    elif not pd.isna(row['RPT_DATE']):\n",
    "        return row['RPT_DATE']\n",
    "    else:\n",
    "        return np.nan\n",
    "    \n",
    "corrections = {\n",
    "    'penecellin': 'Penicillin',\n",
    "    'penecillin': 'Penicillin',\n",
    "    'penecilin': 'Penicillin',\n",
    "    'penicillins': 'Penicillin',\n",
    "    'sulfa': 'Sulfates',\n",
    "    'sulpha': 'Sulfates',\n",
    "    'sulfides': 'Sulfates',\n",
    "    'sulfite': 'Sulfates',\n",
    "    'sulfate': 'Sulfates'\n",
    "}\n",
    "\n",
    "def correct_spelling(text):\n",
    "    for variation, correction in corrections.items():\n",
    "        text = re.sub(r'\\b{}\\b'.format(variation), correction, text, flags=re.IGNORECASE)\n",
    "    return text\n",
    "\n",
    "# Define the replacement function\n",
    "def replace_vaccination_site(symptom):\n",
    "    return symptom.str.replace(\"Vaccination site\", \"Injection site\", flags=re.IGNORECASE)"
   ],
   "metadata": {
    "collapsed": true,
    "ExecuteTime": {
     "end_time": "2024-05-16T11:44:30.206856Z",
     "start_time": "2024-05-16T11:44:30.193546Z"
    }
   },
   "id": "initial_id",
   "outputs": [],
   "execution_count": 2
  },
  {
   "cell_type": "markdown",
   "source": [
    "# Domestic Reports"
   ],
   "metadata": {
    "collapsed": false
   },
   "id": "31d60c4e87f90e81"
  },
  {
   "cell_type": "code",
   "source": [
    "import pandas as pd\n",
    "import numpy as np\n",
    "import re\n",
    "from tqdm import tqdm  # Import tqdm for progress bar\n",
    "\n",
    "base_path = \"/Users/sep/Documents/HAW/Masterarbeit/Daten.nosync/\"\n",
    "\n",
    "# Domestic Documents\n",
    "for year in range(1990, 2024):\n",
    "    metadata_file_path = f\"{base_path}{year}VAERSDATA.csv\"\n",
    "    vax_file_path = f\"{base_path}{year}VAERSVAX.csv\"\n",
    "    symptoms_file_path = f\"{base_path}{year}VAERSSYMPTOMS.csv\"\n",
    "    \n",
    "    metadata_df = pd.read_csv(metadata_file_path, encoding='ISO-8859-1', low_memory=False)\n",
    "    vax_df = pd.read_csv(vax_file_path, encoding='ISO-8859-1', low_memory=False, usecols=['VAERS_ID', 'VAX_TYPE', 'VAX_MANU', 'VAX_LOT', 'VAX_DOSE_SERIES', 'VAX_ROUTE', 'VAX_SITE' ,'VAX_NAME'])\n",
    "    symptoms_df = pd.read_csv(symptoms_file_path, encoding='ISO-8859-1', low_memory=False, usecols=['VAERS_ID', 'SYMPTOM1', 'SYMPTOM2', 'SYMPTOM3', 'SYMPTOM4', 'SYMPTOM5'])\n",
    "    \n",
    "    metadata_df = metadata_df.drop(['V_FUNDBY', 'FORM_VERS'], axis=1)\n",
    "    \n",
    "    \n",
    "    metadata_df['AGE'] = metadata_df.apply(calculate_age, axis=1) # Insert the 'AGE' column as the 4th column\n",
    "    metadata_df.insert(3, 'AGE', metadata_df.pop('AGE'))\n",
    "    metadata_df['TODAYS_DATE'] = metadata_df.apply(form_completed, axis=1)\n",
    "    metadata_df[['RECVDATE', 'DATEDIED', 'VAX_DATE', 'ONSET_DATE', 'TODAYS_DATE']] = metadata_df[['RECVDATE', 'DATEDIED', 'VAX_DATE', 'ONSET_DATE', 'TODAYS_DATE']].apply(lambda x: x.map(convert_date))\n",
    "    metadata_df = metadata_df.drop(['AGE_YRS', 'CAGE_YR', 'CAGE_MO', 'RPT_DATE'], axis=1)\n",
    "    metadata_df.insert(2, 'TODAYS_DATE', metadata_df.pop('TODAYS_DATE'))\n",
    "    metadata_df['ALLERGIES'] = metadata_df['ALLERGIES'].astype(str)\n",
    "    metadata_df['ALLERGIES'] = metadata_df['ALLERGIES'].apply(lambda x: correct_spelling(x) if x != 'nan' else np.nan)\n",
    "    metadata_df['SERIOUS'] = np.where(metadata_df[['DIED', 'L_THREAT', 'HOSPITAL', 'X_STAY', 'DISABLE', 'BIRTH_DEFECT']].eq('Y').any(axis=1), 'Y', 'N')\n",
    "    metadata_df.insert(6, 'SERIOUS', metadata_df.pop('SERIOUS'))\n",
    "\n",
    "    columns = ['SYMPTOM1', 'SYMPTOM2', 'SYMPTOM3', 'SYMPTOM4', 'SYMPTOM5']\n",
    "    for col in columns:\n",
    "        symptoms_df[col] = replace_vaccination_site(symptoms_df[col])\n",
    "    \n",
    "    for index, row in tqdm(metadata_df.iterrows(), total=len(metadata_df), desc=f\"Processing Year {year}\"):  # Use tqdm for progress bar\n",
    "        entry = {}\n",
    "        vax_entries = [] \n",
    "        symptoms_entry = []\n",
    "    \n",
    "        # Add metadata columns directly to the entry\n",
    "        for column in metadata_df.columns:\n",
    "            if column == 'OTHER_MEDS':\n",
    "                # Split the string on the comma or semicolon and store as a list\n",
    "                if pd.notna(row[column]):\n",
    "                    meds = re.split(',|;', row[column])  # Use regex to split on both delimiters\n",
    "                    entry['OTHER_MEDS'] = [med.strip() for med in meds if med.strip()]  # List of non-empty stripped meds\n",
    "                else:\n",
    "                    entry['OTHER_MEDS'] = np.nan\n",
    "            elif column == 'CUR_ILL':\n",
    "                # Split the string on the comma and create a dictionary\n",
    "                if pd.notna(row['CUR_ILL']):\n",
    "                    ills = re.split(',|;', row['CUR_ILL'])\n",
    "                    entry['CUR_ILL'] = [ill.strip() for ill in ills if ill.strip()]\n",
    "                else:\n",
    "                     entry['CUR_ILL'] = np.nan   \n",
    "            elif column == 'HISTORY':\n",
    "                # Split the string on the comma and create a dictionary\n",
    "                if pd.notna(row[column]):\n",
    "                    history = re.split(',|;', row[column])\n",
    "                    entry['HISTORY'] = [his.strip() for his in history if his.strip()]\n",
    "                else:\n",
    "                    entry['HISTORY'] = np.nan\n",
    "                    \n",
    "            elif pd.notna(row[column]):\n",
    "                entry[column] = row[column]\n",
    "            else:\n",
    "                entry[column] = np.nan\n",
    "        \n",
    "        # Filter vax_df based on VAERS_ID\n",
    "        vax_data = vax_df[vax_df['VAERS_ID'] == row['VAERS_ID']] \n",
    "        vax_data = vax_data.drop(['VAERS_ID'], axis=1)\n",
    "        \n",
    "        # Check if vax_data is not empty\n",
    "        if not vax_data.empty:\n",
    "            # Iterate over each vaccine entry and add it to the list\n",
    "            for vax_row in vax_data.itertuples(index=False):\n",
    "                vax_entry_i = {column: getattr(vax_row, column) if pd.notna(getattr(vax_row, column)) else np.nan for column in vax_data.columns}\n",
    "                vax_entries.append(vax_entry_i)\n",
    "        \n",
    "        entry['vax_data'] = vax_entries  # Add the list of vaccine entries to the main entry\n",
    "                \n",
    "         # Filter symptoms_df based on VAERS_ID\n",
    "        symptoms_data = symptoms_df[symptoms_df['VAERS_ID'] == row['VAERS_ID']] \n",
    "        symptoms_data = symptoms_data.drop(['VAERS_ID'], axis=1)\n",
    "        \n",
    "        # Check if symptoms_data is not empty\n",
    "        if not symptoms_data.empty:\n",
    "            # Construct a list of symptoms, excluding any NaN values\n",
    "            symptoms_list = [value for value in symptoms_data.values.flatten() if pd.notna(value)]\n",
    "            entry['symptoms'] = symptoms_list\n",
    "        else:\n",
    "            entry['symptoms'] = np.nan\n",
    "            \n",
    "                \n",
    "        # Upload entry to MongoDB\n",
    "        collection.insert_one(entry)\n"
   ],
   "metadata": {
    "collapsed": false,
    "ExecuteTime": {
     "end_time": "2024-05-16T11:44:34.945362Z",
     "start_time": "2024-05-16T11:44:34.194047Z"
    }
   },
   "id": "963b35ae72f0a42c",
   "outputs": [
    {
     "ename": "FileNotFoundError",
     "evalue": "[Errno 2] No such file or directory: '/Users/sep/Documents/HAW/Masterarbeit/Daten.nosync/1990VAERSDATA.csv'",
     "output_type": "error",
     "traceback": [
      "\u001B[0;31m---------------------------------------------------------------------------\u001B[0m",
      "\u001B[0;31mFileNotFoundError\u001B[0m                         Traceback (most recent call last)",
      "Cell \u001B[0;32mIn[3], line 14\u001B[0m\n\u001B[1;32m     11\u001B[0m vax_file_path \u001B[38;5;241m=\u001B[39m \u001B[38;5;124mf\u001B[39m\u001B[38;5;124m\"\u001B[39m\u001B[38;5;132;01m{\u001B[39;00mbase_path\u001B[38;5;132;01m}\u001B[39;00m\u001B[38;5;132;01m{\u001B[39;00myear\u001B[38;5;132;01m}\u001B[39;00m\u001B[38;5;124mVAERSVAX.csv\u001B[39m\u001B[38;5;124m\"\u001B[39m\n\u001B[1;32m     12\u001B[0m symptoms_file_path \u001B[38;5;241m=\u001B[39m \u001B[38;5;124mf\u001B[39m\u001B[38;5;124m\"\u001B[39m\u001B[38;5;132;01m{\u001B[39;00mbase_path\u001B[38;5;132;01m}\u001B[39;00m\u001B[38;5;132;01m{\u001B[39;00myear\u001B[38;5;132;01m}\u001B[39;00m\u001B[38;5;124mVAERSSYMPTOMS.csv\u001B[39m\u001B[38;5;124m\"\u001B[39m\n\u001B[0;32m---> 14\u001B[0m metadata_df \u001B[38;5;241m=\u001B[39m \u001B[43mpd\u001B[49m\u001B[38;5;241;43m.\u001B[39;49m\u001B[43mread_csv\u001B[49m\u001B[43m(\u001B[49m\u001B[43mmetadata_file_path\u001B[49m\u001B[43m,\u001B[49m\u001B[43m \u001B[49m\u001B[43mencoding\u001B[49m\u001B[38;5;241;43m=\u001B[39;49m\u001B[38;5;124;43m'\u001B[39;49m\u001B[38;5;124;43mISO-8859-1\u001B[39;49m\u001B[38;5;124;43m'\u001B[39;49m\u001B[43m,\u001B[49m\u001B[43m \u001B[49m\u001B[43mlow_memory\u001B[49m\u001B[38;5;241;43m=\u001B[39;49m\u001B[38;5;28;43;01mFalse\u001B[39;49;00m\u001B[43m)\u001B[49m\n\u001B[1;32m     15\u001B[0m vax_df \u001B[38;5;241m=\u001B[39m pd\u001B[38;5;241m.\u001B[39mread_csv(vax_file_path, encoding\u001B[38;5;241m=\u001B[39m\u001B[38;5;124m'\u001B[39m\u001B[38;5;124mISO-8859-1\u001B[39m\u001B[38;5;124m'\u001B[39m, low_memory\u001B[38;5;241m=\u001B[39m\u001B[38;5;28;01mFalse\u001B[39;00m, usecols\u001B[38;5;241m=\u001B[39m[\u001B[38;5;124m'\u001B[39m\u001B[38;5;124mVAERS_ID\u001B[39m\u001B[38;5;124m'\u001B[39m, \u001B[38;5;124m'\u001B[39m\u001B[38;5;124mVAX_TYPE\u001B[39m\u001B[38;5;124m'\u001B[39m, \u001B[38;5;124m'\u001B[39m\u001B[38;5;124mVAX_MANU\u001B[39m\u001B[38;5;124m'\u001B[39m, \u001B[38;5;124m'\u001B[39m\u001B[38;5;124mVAX_LOT\u001B[39m\u001B[38;5;124m'\u001B[39m, \u001B[38;5;124m'\u001B[39m\u001B[38;5;124mVAX_DOSE_SERIES\u001B[39m\u001B[38;5;124m'\u001B[39m, \u001B[38;5;124m'\u001B[39m\u001B[38;5;124mVAX_ROUTE\u001B[39m\u001B[38;5;124m'\u001B[39m, \u001B[38;5;124m'\u001B[39m\u001B[38;5;124mVAX_SITE\u001B[39m\u001B[38;5;124m'\u001B[39m ,\u001B[38;5;124m'\u001B[39m\u001B[38;5;124mVAX_NAME\u001B[39m\u001B[38;5;124m'\u001B[39m])\n\u001B[1;32m     16\u001B[0m symptoms_df \u001B[38;5;241m=\u001B[39m pd\u001B[38;5;241m.\u001B[39mread_csv(symptoms_file_path, encoding\u001B[38;5;241m=\u001B[39m\u001B[38;5;124m'\u001B[39m\u001B[38;5;124mISO-8859-1\u001B[39m\u001B[38;5;124m'\u001B[39m, low_memory\u001B[38;5;241m=\u001B[39m\u001B[38;5;28;01mFalse\u001B[39;00m, usecols\u001B[38;5;241m=\u001B[39m[\u001B[38;5;124m'\u001B[39m\u001B[38;5;124mVAERS_ID\u001B[39m\u001B[38;5;124m'\u001B[39m, \u001B[38;5;124m'\u001B[39m\u001B[38;5;124mSYMPTOM1\u001B[39m\u001B[38;5;124m'\u001B[39m, \u001B[38;5;124m'\u001B[39m\u001B[38;5;124mSYMPTOM2\u001B[39m\u001B[38;5;124m'\u001B[39m, \u001B[38;5;124m'\u001B[39m\u001B[38;5;124mSYMPTOM3\u001B[39m\u001B[38;5;124m'\u001B[39m, \u001B[38;5;124m'\u001B[39m\u001B[38;5;124mSYMPTOM4\u001B[39m\u001B[38;5;124m'\u001B[39m, \u001B[38;5;124m'\u001B[39m\u001B[38;5;124mSYMPTOM5\u001B[39m\u001B[38;5;124m'\u001B[39m])\n",
      "File \u001B[0;32m~/Documents/Masterarbeit/venv/lib/python3.8/site-packages/pandas/io/parsers/readers.py:912\u001B[0m, in \u001B[0;36mread_csv\u001B[0;34m(filepath_or_buffer, sep, delimiter, header, names, index_col, usecols, dtype, engine, converters, true_values, false_values, skipinitialspace, skiprows, skipfooter, nrows, na_values, keep_default_na, na_filter, verbose, skip_blank_lines, parse_dates, infer_datetime_format, keep_date_col, date_parser, date_format, dayfirst, cache_dates, iterator, chunksize, compression, thousands, decimal, lineterminator, quotechar, quoting, doublequote, escapechar, comment, encoding, encoding_errors, dialect, on_bad_lines, delim_whitespace, low_memory, memory_map, float_precision, storage_options, dtype_backend)\u001B[0m\n\u001B[1;32m    899\u001B[0m kwds_defaults \u001B[38;5;241m=\u001B[39m _refine_defaults_read(\n\u001B[1;32m    900\u001B[0m     dialect,\n\u001B[1;32m    901\u001B[0m     delimiter,\n\u001B[0;32m   (...)\u001B[0m\n\u001B[1;32m    908\u001B[0m     dtype_backend\u001B[38;5;241m=\u001B[39mdtype_backend,\n\u001B[1;32m    909\u001B[0m )\n\u001B[1;32m    910\u001B[0m kwds\u001B[38;5;241m.\u001B[39mupdate(kwds_defaults)\n\u001B[0;32m--> 912\u001B[0m \u001B[38;5;28;01mreturn\u001B[39;00m \u001B[43m_read\u001B[49m\u001B[43m(\u001B[49m\u001B[43mfilepath_or_buffer\u001B[49m\u001B[43m,\u001B[49m\u001B[43m \u001B[49m\u001B[43mkwds\u001B[49m\u001B[43m)\u001B[49m\n",
      "File \u001B[0;32m~/Documents/Masterarbeit/venv/lib/python3.8/site-packages/pandas/io/parsers/readers.py:577\u001B[0m, in \u001B[0;36m_read\u001B[0;34m(filepath_or_buffer, kwds)\u001B[0m\n\u001B[1;32m    574\u001B[0m _validate_names(kwds\u001B[38;5;241m.\u001B[39mget(\u001B[38;5;124m\"\u001B[39m\u001B[38;5;124mnames\u001B[39m\u001B[38;5;124m\"\u001B[39m, \u001B[38;5;28;01mNone\u001B[39;00m))\n\u001B[1;32m    576\u001B[0m \u001B[38;5;66;03m# Create the parser.\u001B[39;00m\n\u001B[0;32m--> 577\u001B[0m parser \u001B[38;5;241m=\u001B[39m \u001B[43mTextFileReader\u001B[49m\u001B[43m(\u001B[49m\u001B[43mfilepath_or_buffer\u001B[49m\u001B[43m,\u001B[49m\u001B[43m \u001B[49m\u001B[38;5;241;43m*\u001B[39;49m\u001B[38;5;241;43m*\u001B[39;49m\u001B[43mkwds\u001B[49m\u001B[43m)\u001B[49m\n\u001B[1;32m    579\u001B[0m \u001B[38;5;28;01mif\u001B[39;00m chunksize \u001B[38;5;129;01mor\u001B[39;00m iterator:\n\u001B[1;32m    580\u001B[0m     \u001B[38;5;28;01mreturn\u001B[39;00m parser\n",
      "File \u001B[0;32m~/Documents/Masterarbeit/venv/lib/python3.8/site-packages/pandas/io/parsers/readers.py:1407\u001B[0m, in \u001B[0;36mTextFileReader.__init__\u001B[0;34m(self, f, engine, **kwds)\u001B[0m\n\u001B[1;32m   1404\u001B[0m     \u001B[38;5;28mself\u001B[39m\u001B[38;5;241m.\u001B[39moptions[\u001B[38;5;124m\"\u001B[39m\u001B[38;5;124mhas_index_names\u001B[39m\u001B[38;5;124m\"\u001B[39m] \u001B[38;5;241m=\u001B[39m kwds[\u001B[38;5;124m\"\u001B[39m\u001B[38;5;124mhas_index_names\u001B[39m\u001B[38;5;124m\"\u001B[39m]\n\u001B[1;32m   1406\u001B[0m \u001B[38;5;28mself\u001B[39m\u001B[38;5;241m.\u001B[39mhandles: IOHandles \u001B[38;5;241m|\u001B[39m \u001B[38;5;28;01mNone\u001B[39;00m \u001B[38;5;241m=\u001B[39m \u001B[38;5;28;01mNone\u001B[39;00m\n\u001B[0;32m-> 1407\u001B[0m \u001B[38;5;28mself\u001B[39m\u001B[38;5;241m.\u001B[39m_engine \u001B[38;5;241m=\u001B[39m \u001B[38;5;28;43mself\u001B[39;49m\u001B[38;5;241;43m.\u001B[39;49m\u001B[43m_make_engine\u001B[49m\u001B[43m(\u001B[49m\u001B[43mf\u001B[49m\u001B[43m,\u001B[49m\u001B[43m \u001B[49m\u001B[38;5;28;43mself\u001B[39;49m\u001B[38;5;241;43m.\u001B[39;49m\u001B[43mengine\u001B[49m\u001B[43m)\u001B[49m\n",
      "File \u001B[0;32m~/Documents/Masterarbeit/venv/lib/python3.8/site-packages/pandas/io/parsers/readers.py:1661\u001B[0m, in \u001B[0;36mTextFileReader._make_engine\u001B[0;34m(self, f, engine)\u001B[0m\n\u001B[1;32m   1659\u001B[0m     \u001B[38;5;28;01mif\u001B[39;00m \u001B[38;5;124m\"\u001B[39m\u001B[38;5;124mb\u001B[39m\u001B[38;5;124m\"\u001B[39m \u001B[38;5;129;01mnot\u001B[39;00m \u001B[38;5;129;01min\u001B[39;00m mode:\n\u001B[1;32m   1660\u001B[0m         mode \u001B[38;5;241m+\u001B[39m\u001B[38;5;241m=\u001B[39m \u001B[38;5;124m\"\u001B[39m\u001B[38;5;124mb\u001B[39m\u001B[38;5;124m\"\u001B[39m\n\u001B[0;32m-> 1661\u001B[0m \u001B[38;5;28mself\u001B[39m\u001B[38;5;241m.\u001B[39mhandles \u001B[38;5;241m=\u001B[39m \u001B[43mget_handle\u001B[49m\u001B[43m(\u001B[49m\n\u001B[1;32m   1662\u001B[0m \u001B[43m    \u001B[49m\u001B[43mf\u001B[49m\u001B[43m,\u001B[49m\n\u001B[1;32m   1663\u001B[0m \u001B[43m    \u001B[49m\u001B[43mmode\u001B[49m\u001B[43m,\u001B[49m\n\u001B[1;32m   1664\u001B[0m \u001B[43m    \u001B[49m\u001B[43mencoding\u001B[49m\u001B[38;5;241;43m=\u001B[39;49m\u001B[38;5;28;43mself\u001B[39;49m\u001B[38;5;241;43m.\u001B[39;49m\u001B[43moptions\u001B[49m\u001B[38;5;241;43m.\u001B[39;49m\u001B[43mget\u001B[49m\u001B[43m(\u001B[49m\u001B[38;5;124;43m\"\u001B[39;49m\u001B[38;5;124;43mencoding\u001B[39;49m\u001B[38;5;124;43m\"\u001B[39;49m\u001B[43m,\u001B[49m\u001B[43m \u001B[49m\u001B[38;5;28;43;01mNone\u001B[39;49;00m\u001B[43m)\u001B[49m\u001B[43m,\u001B[49m\n\u001B[1;32m   1665\u001B[0m \u001B[43m    \u001B[49m\u001B[43mcompression\u001B[49m\u001B[38;5;241;43m=\u001B[39;49m\u001B[38;5;28;43mself\u001B[39;49m\u001B[38;5;241;43m.\u001B[39;49m\u001B[43moptions\u001B[49m\u001B[38;5;241;43m.\u001B[39;49m\u001B[43mget\u001B[49m\u001B[43m(\u001B[49m\u001B[38;5;124;43m\"\u001B[39;49m\u001B[38;5;124;43mcompression\u001B[39;49m\u001B[38;5;124;43m\"\u001B[39;49m\u001B[43m,\u001B[49m\u001B[43m \u001B[49m\u001B[38;5;28;43;01mNone\u001B[39;49;00m\u001B[43m)\u001B[49m\u001B[43m,\u001B[49m\n\u001B[1;32m   1666\u001B[0m \u001B[43m    \u001B[49m\u001B[43mmemory_map\u001B[49m\u001B[38;5;241;43m=\u001B[39;49m\u001B[38;5;28;43mself\u001B[39;49m\u001B[38;5;241;43m.\u001B[39;49m\u001B[43moptions\u001B[49m\u001B[38;5;241;43m.\u001B[39;49m\u001B[43mget\u001B[49m\u001B[43m(\u001B[49m\u001B[38;5;124;43m\"\u001B[39;49m\u001B[38;5;124;43mmemory_map\u001B[39;49m\u001B[38;5;124;43m\"\u001B[39;49m\u001B[43m,\u001B[49m\u001B[43m \u001B[49m\u001B[38;5;28;43;01mFalse\u001B[39;49;00m\u001B[43m)\u001B[49m\u001B[43m,\u001B[49m\n\u001B[1;32m   1667\u001B[0m \u001B[43m    \u001B[49m\u001B[43mis_text\u001B[49m\u001B[38;5;241;43m=\u001B[39;49m\u001B[43mis_text\u001B[49m\u001B[43m,\u001B[49m\n\u001B[1;32m   1668\u001B[0m \u001B[43m    \u001B[49m\u001B[43merrors\u001B[49m\u001B[38;5;241;43m=\u001B[39;49m\u001B[38;5;28;43mself\u001B[39;49m\u001B[38;5;241;43m.\u001B[39;49m\u001B[43moptions\u001B[49m\u001B[38;5;241;43m.\u001B[39;49m\u001B[43mget\u001B[49m\u001B[43m(\u001B[49m\u001B[38;5;124;43m\"\u001B[39;49m\u001B[38;5;124;43mencoding_errors\u001B[39;49m\u001B[38;5;124;43m\"\u001B[39;49m\u001B[43m,\u001B[49m\u001B[43m \u001B[49m\u001B[38;5;124;43m\"\u001B[39;49m\u001B[38;5;124;43mstrict\u001B[39;49m\u001B[38;5;124;43m\"\u001B[39;49m\u001B[43m)\u001B[49m\u001B[43m,\u001B[49m\n\u001B[1;32m   1669\u001B[0m \u001B[43m    \u001B[49m\u001B[43mstorage_options\u001B[49m\u001B[38;5;241;43m=\u001B[39;49m\u001B[38;5;28;43mself\u001B[39;49m\u001B[38;5;241;43m.\u001B[39;49m\u001B[43moptions\u001B[49m\u001B[38;5;241;43m.\u001B[39;49m\u001B[43mget\u001B[49m\u001B[43m(\u001B[49m\u001B[38;5;124;43m\"\u001B[39;49m\u001B[38;5;124;43mstorage_options\u001B[39;49m\u001B[38;5;124;43m\"\u001B[39;49m\u001B[43m,\u001B[49m\u001B[43m \u001B[49m\u001B[38;5;28;43;01mNone\u001B[39;49;00m\u001B[43m)\u001B[49m\u001B[43m,\u001B[49m\n\u001B[1;32m   1670\u001B[0m \u001B[43m\u001B[49m\u001B[43m)\u001B[49m\n\u001B[1;32m   1671\u001B[0m \u001B[38;5;28;01massert\u001B[39;00m \u001B[38;5;28mself\u001B[39m\u001B[38;5;241m.\u001B[39mhandles \u001B[38;5;129;01mis\u001B[39;00m \u001B[38;5;129;01mnot\u001B[39;00m \u001B[38;5;28;01mNone\u001B[39;00m\n\u001B[1;32m   1672\u001B[0m f \u001B[38;5;241m=\u001B[39m \u001B[38;5;28mself\u001B[39m\u001B[38;5;241m.\u001B[39mhandles\u001B[38;5;241m.\u001B[39mhandle\n",
      "File \u001B[0;32m~/Documents/Masterarbeit/venv/lib/python3.8/site-packages/pandas/io/common.py:859\u001B[0m, in \u001B[0;36mget_handle\u001B[0;34m(path_or_buf, mode, encoding, compression, memory_map, is_text, errors, storage_options)\u001B[0m\n\u001B[1;32m    854\u001B[0m \u001B[38;5;28;01melif\u001B[39;00m \u001B[38;5;28misinstance\u001B[39m(handle, \u001B[38;5;28mstr\u001B[39m):\n\u001B[1;32m    855\u001B[0m     \u001B[38;5;66;03m# Check whether the filename is to be opened in binary mode.\u001B[39;00m\n\u001B[1;32m    856\u001B[0m     \u001B[38;5;66;03m# Binary mode does not support 'encoding' and 'newline'.\u001B[39;00m\n\u001B[1;32m    857\u001B[0m     \u001B[38;5;28;01mif\u001B[39;00m ioargs\u001B[38;5;241m.\u001B[39mencoding \u001B[38;5;129;01mand\u001B[39;00m \u001B[38;5;124m\"\u001B[39m\u001B[38;5;124mb\u001B[39m\u001B[38;5;124m\"\u001B[39m \u001B[38;5;129;01mnot\u001B[39;00m \u001B[38;5;129;01min\u001B[39;00m ioargs\u001B[38;5;241m.\u001B[39mmode:\n\u001B[1;32m    858\u001B[0m         \u001B[38;5;66;03m# Encoding\u001B[39;00m\n\u001B[0;32m--> 859\u001B[0m         handle \u001B[38;5;241m=\u001B[39m \u001B[38;5;28;43mopen\u001B[39;49m\u001B[43m(\u001B[49m\n\u001B[1;32m    860\u001B[0m \u001B[43m            \u001B[49m\u001B[43mhandle\u001B[49m\u001B[43m,\u001B[49m\n\u001B[1;32m    861\u001B[0m \u001B[43m            \u001B[49m\u001B[43mioargs\u001B[49m\u001B[38;5;241;43m.\u001B[39;49m\u001B[43mmode\u001B[49m\u001B[43m,\u001B[49m\n\u001B[1;32m    862\u001B[0m \u001B[43m            \u001B[49m\u001B[43mencoding\u001B[49m\u001B[38;5;241;43m=\u001B[39;49m\u001B[43mioargs\u001B[49m\u001B[38;5;241;43m.\u001B[39;49m\u001B[43mencoding\u001B[49m\u001B[43m,\u001B[49m\n\u001B[1;32m    863\u001B[0m \u001B[43m            \u001B[49m\u001B[43merrors\u001B[49m\u001B[38;5;241;43m=\u001B[39;49m\u001B[43merrors\u001B[49m\u001B[43m,\u001B[49m\n\u001B[1;32m    864\u001B[0m \u001B[43m            \u001B[49m\u001B[43mnewline\u001B[49m\u001B[38;5;241;43m=\u001B[39;49m\u001B[38;5;124;43m\"\u001B[39;49m\u001B[38;5;124;43m\"\u001B[39;49m\u001B[43m,\u001B[49m\n\u001B[1;32m    865\u001B[0m \u001B[43m        \u001B[49m\u001B[43m)\u001B[49m\n\u001B[1;32m    866\u001B[0m     \u001B[38;5;28;01melse\u001B[39;00m:\n\u001B[1;32m    867\u001B[0m         \u001B[38;5;66;03m# Binary mode\u001B[39;00m\n\u001B[1;32m    868\u001B[0m         handle \u001B[38;5;241m=\u001B[39m \u001B[38;5;28mopen\u001B[39m(handle, ioargs\u001B[38;5;241m.\u001B[39mmode)\n",
      "\u001B[0;31mFileNotFoundError\u001B[0m: [Errno 2] No such file or directory: '/Users/sep/Documents/HAW/Masterarbeit/Daten.nosync/1990VAERSDATA.csv'"
     ]
    }
   ],
   "execution_count": 3
  },
  {
   "cell_type": "code",
   "outputs": [
    {
     "data": {
      "text/plain": "{'VAERS_ID': 2728980,\n 'RECVDATE': Timestamp('2023-12-31 00:00:00'),\n 'TODAYS_DATE': Timestamp('2023-12-31 00:00:00'),\n 'STATE': 'MO',\n 'AGE': 65.0,\n 'SEX': 'F',\n 'SERIOUS': 'N',\n 'SYMPTOM_TEXT': 'Broke out in a rash under both of my arms and the rash lasted 1-2 weeks cleared up and came back a month later and it was worst then the first time it happens every time I take a shot',\n 'DIED': nan,\n 'DATEDIED': nan,\n 'L_THREAT': nan,\n 'ER_VISIT': nan,\n 'HOSPITAL': nan,\n 'HOSPDAYS': nan,\n 'X_STAY': nan,\n 'DISABLE': nan,\n 'RECOVD': 'N',\n 'VAX_DATE': Timestamp('2023-09-02 00:00:00'),\n 'ONSET_DATE': Timestamp('2023-09-01 00:00:00'),\n 'NUMDAYS': nan,\n 'LAB_DATA': 'I had to get a biopsy after taking the  TDAP Whooping Cough vaccine in September',\n 'V_ADMINBY': 'PHM',\n 'OTHER_MEDS': ['Vitamin D 2000 cu'],\n 'CUR_ILL': nan,\n 'HISTORY': ['Diabetic', 'Sarcoidosis'],\n 'PRIOR_VAX': 'Flu shot   San of I Pasteur Lot number UT8057DA  date 11/10/2023',\n 'SPLTTYPE': nan,\n 'BIRTH_DEFECT': nan,\n 'OFC_VISIT': 'Y',\n 'ER_ED_VISIT': nan,\n 'ALLERGIES': 'Tramodal , Hydro Codeine, Zolpram ,',\n 'vax_data': [{'VAX_TYPE': 'COVID19',\n   'VAX_MANU': 'MODERNA',\n   'VAX_LOT': '067H21A',\n   'VAX_DOSE_SERIES': '1',\n   'VAX_ROUTE': nan,\n   'VAX_SITE': 'LA',\n   'VAX_NAME': 'COVID19 (COVID19 (MODERNA))'},\n  {'VAX_TYPE': 'COVID19',\n   'VAX_MANU': 'PFIZER\\\\BIONTECH',\n   'VAX_LOT': 'ER8729',\n   'VAX_DOSE_SERIES': '1',\n   'VAX_ROUTE': nan,\n   'VAX_SITE': 'RA',\n   'VAX_NAME': 'COVID19 (COVID19 (PFIZER-BIONTECH))'},\n  {'VAX_TYPE': 'TDAP',\n   'VAX_MANU': 'GLAXOSMITHKLINE BIOLOGICALS',\n   'VAX_LOT': nan,\n   'VAX_DOSE_SERIES': '1',\n   'VAX_ROUTE': 'IM',\n   'VAX_SITE': 'LA',\n   'VAX_NAME': 'TDAP (BOOSTRIX)'},\n  {'VAX_TYPE': 'UNK',\n   'VAX_MANU': 'UNKNOWN MANUFACTURER',\n   'VAX_LOT': nan,\n   'VAX_DOSE_SERIES': '1',\n   'VAX_ROUTE': nan,\n   'VAX_SITE': 'RA',\n   'VAX_NAME': 'VACCINE NOT SPECIFIED (OTHER)'}],\n 'symptoms': ['Biopsy skin', 'Rash'],\n '_id': ObjectId('65f4f09ad612d8abf22146b1')}"
     },
     "execution_count": 23,
     "metadata": {},
     "output_type": "execute_result"
    }
   ],
   "source": [
    "entry  "
   ],
   "metadata": {
    "collapsed": false,
    "ExecuteTime": {
     "end_time": "2024-03-16T01:06:34.444366Z",
     "start_time": "2024-03-16T01:06:34.349254Z"
    }
   },
   "id": "dbd72d66cf58f4f5",
   "execution_count": 23
  },
  {
   "cell_type": "markdown",
   "source": [
    "# non-domestic reports"
   ],
   "metadata": {
    "collapsed": false
   },
   "id": "4f843f5597817225"
  },
  {
   "cell_type": "code",
   "source": [
    "import pandas as pd\n",
    "import numpy as np\n",
    "import re\n",
    "from tqdm import tqdm\n",
    "\n",
    "# Set base path\n",
    "base_path = \"/home/sebastian/Documents/Masterarbeit/Daten/\"\n",
    "\n",
    "# File paths\n",
    "metadata_file_path = f\"{base_path}NonDomesticVAERSDATA.csv\"\n",
    "vax_file_path = f\"{base_path}NonDomesticVAERSVAX.csv\"\n",
    "symptoms_file_path = f\"{base_path}NonDomesticVAERSSYMPTOMS.csv\"\n",
    "\n",
    "metadata_df = pd.read_csv(metadata_file_path, encoding='ISO-8859-1', low_memory=False)\n",
    "vax_df = pd.read_csv(vax_file_path, encoding='ISO-8859-1', low_memory=False, usecols=['VAERS_ID', 'VAX_TYPE', 'VAX_MANU', 'VAX_LOT', 'VAX_DOSE_SERIES', 'VAX_ROUTE', 'VAX_SITE' ,'VAX_NAME'])\n",
    "symptoms_df = pd.read_csv(symptoms_file_path, encoding='ISO-8859-1', low_memory=False, usecols=['VAERS_ID', 'SYMPTOM1', 'SYMPTOM2', 'SYMPTOM3', 'SYMPTOM4', 'SYMPTOM5'])\n",
    "\n",
    "metadata_df = metadata_df.drop(['V_FUNDBY', 'FORM_VERS'], axis=1)\n",
    "\n",
    "\n",
    "metadata_df['AGE'] = metadata_df.apply(calculate_age, axis=1) # Insert the 'AGE' column as the 4th column\n",
    "metadata_df.insert(3, 'AGE', metadata_df.pop('AGE'))\n",
    "metadata_df['TODAYS_DATE'] = metadata_df.apply(form_completed, axis=1)\n",
    "metadata_df[['RECVDATE', 'DATEDIED', 'VAX_DATE', 'ONSET_DATE', 'TODAYS_DATE']] = metadata_df[['RECVDATE', 'DATEDIED', 'VAX_DATE', 'ONSET_DATE', 'TODAYS_DATE']].apply(lambda x: x.map(convert_date))\n",
    "metadata_df = metadata_df.drop(['AGE_YRS', 'CAGE_YR', 'CAGE_MO', 'RPT_DATE'], axis=1)\n",
    "metadata_df.insert(2, 'TODAYS_DATE', metadata_df.pop('TODAYS_DATE'))\n",
    "metadata_df['ALLERGIES'] = metadata_df['ALLERGIES'].astype(str)\n",
    "metadata_df['ALLERGIES'] = metadata_df['ALLERGIES'].apply(lambda x: correct_spelling(x) if x != 'nan' else np.nan)\n",
    "metadata_df['SERIOUS'] = np.where(metadata_df[['DIED', 'L_THREAT', 'HOSPITAL', 'X_STAY', 'DISABLE', 'BIRTH_DEFECT']].eq('Y').any(axis=1), 'Y', 'N')\n",
    "metadata_df.insert(6, 'SERIOUS', metadata_df.pop('SERIOUS'))\n",
    "\n",
    "# Define the cutoff date\n",
    "cutoff_date = pd.Timestamp('2023-12-31')\n",
    "\n",
    "# Identify the VAERS_IDs to remove\n",
    "removed_vaers_ids = metadata_df[metadata_df['RECVDATE'] > cutoff_date]['VAERS_ID']\n",
    "\n",
    "# Save removed VAERS_IDs to a DataFrame (optional)\n",
    "removed_vaers_df = pd.DataFrame(removed_vaers_ids, columns=['VAERS_ID'])\n",
    "\n",
    "# Remove these entries from metadata_df\n",
    "metadata_df = metadata_df[metadata_df['RECVDATE'] <= cutoff_date]\n",
    "\n",
    "# Remove corresponding entries from vax_df and symptoms_df\n",
    "vax_df = vax_df[~vax_df['VAERS_ID'].isin(removed_vaers_ids)]\n",
    "symptoms_df = symptoms_df[~symptoms_df['VAERS_ID'].isin(removed_vaers_ids)]\n",
    "\n",
    "columns = ['SYMPTOM1', 'SYMPTOM2', 'SYMPTOM3', 'SYMPTOM4', 'SYMPTOM5']\n",
    "for col in columns:\n",
    "    symptoms_df[col] = replace_vaccination_site(symptoms_df[col])\n",
    "    \n",
    "# Create a progress bar\n",
    "progress_bar = tqdm(total=len(metadata_df), desc=\"Processing rows\")\n",
    "\n",
    "# Iterate through rows of metadata_df\n",
    "for index, row in metadata_df.iterrows():\n",
    "        entry = {}\n",
    "        vax_entries = [] \n",
    "        symptoms_entry = []\n",
    "    \n",
    "        # Add metadata columns directly to the entry\n",
    "        for column in metadata_df.columns:\n",
    "            if column == 'OTHER_MEDS':\n",
    "                # Split the string on the comma or semicolon and store as a list\n",
    "                if pd.notna(row[column]):\n",
    "                    meds = re.split(',|;', row[column])  # Use regex to split on both delimiters\n",
    "                    entry['OTHER_MEDS'] = [med.strip() for med in meds if med.strip()]  # List of non-empty stripped meds\n",
    "                else:\n",
    "                    entry['OTHER_MEDS'] = np.nan\n",
    "            elif column == 'CUR_ILL':\n",
    "                # Split the string on the comma and create a dictionary\n",
    "                if pd.notna(row['CUR_ILL']):\n",
    "                    ills = re.split(',|;', row['CUR_ILL'])\n",
    "                    entry['CUR_ILL'] = [ill.strip() for ill in ills if ill.strip()]\n",
    "                else:\n",
    "                     entry['CUR_ILL'] = np.nan   \n",
    "            elif column == 'HISTORY':\n",
    "                # Split the string on the comma and create a dictionary\n",
    "                if pd.notna(row[column]):\n",
    "                    history = re.split(',|;', row[column])\n",
    "                    entry['HISTORY'] = [his.strip() for his in history if his.strip()]\n",
    "                else:\n",
    "                    entry['HISTORY'] = np.nan\n",
    "                    \n",
    "            elif pd.notna(row[column]):\n",
    "                entry[column] = row[column]\n",
    "            else:\n",
    "                entry[column] = np.nan\n",
    "        \n",
    "        # Filter vax_df based on VAERS_ID\n",
    "        vax_data = vax_df[vax_df['VAERS_ID'] == row['VAERS_ID']] \n",
    "        vax_data = vax_data.drop(['VAERS_ID'], axis=1)\n",
    "        \n",
    "        # Check if vax_data is not empty\n",
    "        if not vax_data.empty:\n",
    "            # Iterate over each vaccine entry and add it to the list\n",
    "            for vax_row in vax_data.itertuples(index=False):\n",
    "                vax_entry_i = {column: getattr(vax_row, column) if pd.notna(getattr(vax_row, column)) else np.nan for column in vax_data.columns}\n",
    "                vax_entries.append(vax_entry_i)\n",
    "        \n",
    "        entry['vax_data'] = vax_entries  # Add the list of vaccine entries to the main entry\n",
    "                \n",
    "         # Filter symptoms_df based on VAERS_ID\n",
    "        symptoms_data = symptoms_df[symptoms_df['VAERS_ID'] == row['VAERS_ID']] \n",
    "        symptoms_data = symptoms_data.drop(['VAERS_ID'], axis=1)\n",
    "        \n",
    "        # Check if symptoms_data is not empty\n",
    "        if not symptoms_data.empty:\n",
    "            # Construct a list of symptoms, excluding any NaN values\n",
    "            symptoms_list = [value for value in symptoms_data.values.flatten() if pd.notna(value)]\n",
    "            entry['symptoms'] = symptoms_list\n",
    "        else:\n",
    "            entry['symptoms'] = np.nan\n",
    "                \n",
    "        # Upload entry to MongoDB\n",
    "        collection.insert_one(entry)\n",
    "\n",
    "        # Update the progress bar\n",
    "        progress_bar.update(1)\n",
    "\n",
    "# Close the progress bar once finished\n",
    "progress_bar.close()\n"
   ],
   "metadata": {
    "collapsed": false,
    "ExecuteTime": {
     "end_time": "2024-05-21T13:39:04.993810Z",
     "start_time": "2024-05-21T12:22:43.349767Z"
    }
   },
   "id": "42735e42248288f5",
   "outputs": [
    {
     "name": "stderr",
     "output_type": "stream",
     "text": [
      "Processing rows: 100%|██████████| 744330/744330 [1:15:48<00:00, 163.66it/s]\n"
     ]
    }
   ],
   "execution_count": 6
  },
  {
   "cell_type": "code",
   "source": [
    "query = {\"STATE\": \"FR\"}\n",
    "\n",
    "result = collection.delete_many(query)\n",
    "print(f\"Number of documents deleted: {result.deleted_count}\")"
   ],
   "metadata": {
    "collapsed": false,
    "ExecuteTime": {
     "end_time": "2024-05-21T12:22:35.031343Z",
     "start_time": "2024-05-21T12:22:13.920114Z"
    }
   },
   "id": "7e069d029776dfcb",
   "outputs": [
    {
     "name": "stdout",
     "output_type": "stream",
     "text": [
      "Number of documents deleted: 740586\n"
     ]
    }
   ],
   "execution_count": 5
  },
  {
   "cell_type": "code",
   "outputs": [],
   "source": [],
   "metadata": {
    "collapsed": false
   },
   "id": "904bf3b130c5d54e",
   "execution_count": null
  }
 ],
 "metadata": {
  "kernelspec": {
   "display_name": "Python 3",
   "language": "python",
   "name": "python3"
  },
  "language_info": {
   "codemirror_mode": {
    "name": "ipython",
    "version": 2
   },
   "file_extension": ".py",
   "mimetype": "text/x-python",
   "name": "python",
   "nbconvert_exporter": "python",
   "pygments_lexer": "ipython2",
   "version": "2.7.6"
  }
 },
 "nbformat": 4,
 "nbformat_minor": 5
}

{
 "cells": [
  {
   "cell_type": "code",
   "execution_count": null,
   "id": "initial_id",
   "metadata": {
    "collapsed": true
   },
   "outputs": [],
   "source": [
    "import pymongo\n",
    "import json\n",
    "# Connect to your MongoDB instance\n",
    "client = pymongo.MongoClient(\"mongodb://localhost:27017/\")\n",
    "db = client[\"vaers\"]\n",
    "col = db[\"combinations\"]"
   ]
  },
  {
   "metadata": {},
   "cell_type": "code",
   "outputs": [],
   "execution_count": null,
   "source": [
    "with open('/home/sebastian/Documents/Masterarbeit/Combinations/All_Combinations_Filtered.json') as f:\n",
    "    data = json.load(f)"
   ],
   "id": "7af8cba99a50a9da"
  },
  {
   "metadata": {},
   "cell_type": "code",
   "outputs": [],
   "execution_count": null,
   "source": [
    "\n",
    "for item in data: \n",
    "    N = col.estimated_document_count()\n",
    "    \n",
    "    D_query = {\n",
    "        \"vax_data\": {\n",
    "            \"$elemMatch\": {\n",
    "                \"VAX_TYPE\": item[\"vaccine\"],\n",
    "                \"VAX_MANU\": item[\"manufacturer\"]\n",
    "            }\n",
    "        }\n",
    "    }\n",
    "    D = col.count_documents(D_query)\n",
    "    \n",
    "    E_query = {\n",
    "        \"symptoms\": {\n",
    "            \"$in\": item[\"symptoms\"]\n",
    "        }\n",
    "    }\n",
    "    E = col.count_documents(E_query)\n",
    "    \n",
    "    DE_query = {'$and': [D_query, E_query]}\n",
    "    DE = col.count_documents(DE_query)\n",
    "    \n",
    "    \n",
    "    De = D - DE\n",
    "    dE = E - DE\n",
    "    de = N - (DE + De + dE)\n",
    "    entry = {\n",
    "        \"vaccine\": item[\"vaccine\"],\n",
    "        \"manufacturer\": item[\"manufacturer\"],\n",
    "        \"symptom\": item[\"Event\"],  # Assuming the symptom key is \"Event\" in your data\n",
    "        \"DE\": DE,\n",
    "        \"dE\": dE,\n",
    "        \"De\": De,\n",
    "        \"de\": de\n",
    "    }\n",
    "    \n",
    "    # Insert the entry into the MongoDB collection\n",
    "    col.insert_one(entry)\n",
    "    \n",
    "\n"
   ],
   "id": "8ff2fe12e50bb6a9"
  }
 ],
 "metadata": {
  "kernelspec": {
   "display_name": "Python 3",
   "language": "python",
   "name": "python3"
  },
  "language_info": {
   "codemirror_mode": {
    "name": "ipython",
    "version": 2
   },
   "file_extension": ".py",
   "mimetype": "text/x-python",
   "name": "python",
   "nbconvert_exporter": "python",
   "pygments_lexer": "ipython2",
   "version": "2.7.6"
  }
 },
 "nbformat": 4,
 "nbformat_minor": 5
}

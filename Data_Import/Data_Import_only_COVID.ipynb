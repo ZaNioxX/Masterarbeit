{
 "cells": [
  {
   "cell_type": "code",
   "id": "initial_id",
   "metadata": {
    "collapsed": true,
    "ExecuteTime": {
     "end_time": "2024-05-16T12:29:18.455655Z",
     "start_time": "2024-05-16T12:29:18.330194Z"
    }
   },
   "source": [
    "import pymongo\n",
    "import json\n",
    "from tqdm import tqdm\n",
    "\n",
    "# Connect to your MongoDB instance\n",
    "client = pymongo.MongoClient(\"mongodb://localhost:27017/\")\n",
    "db = client[\"vaers\"]\n",
    "col = db[\"reports\"]\n",
    "target_db = client[\"vaers\"]\n",
    "target_col = target_db[\"combinations COVID\"]"
   ],
   "outputs": [],
   "execution_count": 1
  },
  {
   "metadata": {
    "ExecuteTime": {
     "end_time": "2024-05-16T12:29:19.222836Z",
     "start_time": "2024-05-16T12:29:19.177495Z"
    }
   },
   "cell_type": "code",
   "source": [
    "with open('/home/sebastian/Documents/Masterarbeit/Combinations/Covid_Combinations_Filtered.json') as f:\n",
    "    data = json.load(f)"
   ],
   "id": "c20160f83be591e7",
   "outputs": [],
   "execution_count": 2
  },
  {
   "metadata": {},
   "cell_type": "markdown",
   "source": [
    "nur einträge mit min 1 COVID Impfung berücksichtigen \n",
    "De, DE, dE, de neu berechnen\n",
    "Confidence Intervalle neu berechnen"
   ],
   "id": "729c05d58e9e8316"
  },
  {
   "metadata": {
    "ExecuteTime": {
     "end_time": "2024-05-17T00:43:51.345610Z",
     "start_time": "2024-05-16T12:32:26.206657Z"
    }
   },
   "cell_type": "code",
   "source": [
    "N_query = {\"vax_data.VAX_TYPE\": {\"$regex\": \"COVID\"}}\n",
    "N = col.count_documents(N_query)\n",
    "for item in tqdm(data, desc=\"Processing items\", unit=\"item\"):\n",
    "    \n",
    "    D_query = {\n",
    "        \"vax_data\": {\n",
    "            \"$elemMatch\": {\n",
    "                \"VAX_MANU\": item[\"manufacturer\"],\n",
    "                \"VAX_TYPE\": item[\"vaccine\"]\n",
    "            }\n",
    "        }\n",
    "    }\n",
    "    D = col.count_documents(D_query)\n",
    "    \n",
    "    E_query = {\n",
    "        \"symptoms\": {\n",
    "            \"$elemMatch\": {\n",
    "                \"$in\": [item[\"Event\"]]\n",
    "            }\n",
    "        },\n",
    "        \"vax_data.VAX_TYPE\": {\n",
    "            \"$regex\": \"COVID\",\n",
    "            \"$options\": \"i\"\n",
    "            }\n",
    "    }\n",
    "\n",
    "    E = col.count_documents(E_query)\n",
    "    \n",
    "    DE_query = {'$and': [D_query, E_query]}\n",
    "    DE = col.count_documents(DE_query)\n",
    "    \n",
    "    De = D - DE\n",
    "    dE = E - DE\n",
    "    de = N - (DE + De + dE)\n",
    "    \n",
    "    entry = {\n",
    "        \"vaccine\": item[\"vaccine\"],\n",
    "        \"manufacturer\": item[\"manufacturer\"],\n",
    "        \"symptom\": item[\"Event\"],  # Assuming the symptom key is \"Event\" in your data\n",
    "        \"DE\": DE,\n",
    "        \"dE\": dE,\n",
    "        \"De\": De,\n",
    "        \"de\": de\n",
    "    }\n",
    "    \n",
    "    # Insert the entry into the MongoDB collection\n",
    "    target_col.insert_one(entry)\n"
   ],
   "id": "47048e8ad32fb57a",
   "outputs": [
    {
     "name": "stderr",
     "output_type": "stream",
     "text": [
      "Processing items: 100%|██████████| 25554/25554 [12:11:16<00:00,  1.72s/item]  \n"
     ]
    }
   ],
   "execution_count": 7
  },
  {
   "metadata": {},
   "cell_type": "code",
   "outputs": [],
   "execution_count": null,
   "source": "",
   "id": "1d20ce23ac6d4b64"
  }
 ],
 "metadata": {
  "kernelspec": {
   "display_name": "Python 3",
   "language": "python",
   "name": "python3"
  },
  "language_info": {
   "codemirror_mode": {
    "name": "ipython",
    "version": 2
   },
   "file_extension": ".py",
   "mimetype": "text/x-python",
   "name": "python",
   "nbconvert_exporter": "python",
   "pygments_lexer": "ipython2",
   "version": "2.7.6"
  }
 },
 "nbformat": 4,
 "nbformat_minor": 5
}

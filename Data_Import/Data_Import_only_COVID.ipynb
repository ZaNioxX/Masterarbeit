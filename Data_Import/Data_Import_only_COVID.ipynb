{
 "cells": [
  {
   "cell_type": "code",
   "id": "initial_id",
   "metadata": {
    "collapsed": true,
    "ExecuteTime": {
     "end_time": "2024-05-15T13:34:45.252388Z",
     "start_time": "2024-05-15T13:34:45.106607Z"
    }
   },
   "source": [
    "import pymongo\n",
    "import json\n",
    "from tqdm import tqdm\n",
    "\n",
    "# Connect to your MongoDB instance\n",
    "client = pymongo.MongoClient(\"mongodb://localhost:27017/\")\n",
    "db = client[\"vaers\"]\n",
    "col = db[\"reports\"]\n",
    "target_db = client[\"vaers\"]\n",
    "target_col = target_db[\"combinations COVID\"]"
   ],
   "outputs": [],
   "execution_count": 1
  },
  {
   "metadata": {},
   "cell_type": "code",
   "outputs": [],
   "execution_count": null,
   "source": "",
   "id": "e95562d46f14c605"
  }
 ],
 "metadata": {
  "kernelspec": {
   "display_name": "Python 3",
   "language": "python",
   "name": "python3"
  },
  "language_info": {
   "codemirror_mode": {
    "name": "ipython",
    "version": 2
   },
   "file_extension": ".py",
   "mimetype": "text/x-python",
   "name": "python",
   "nbconvert_exporter": "python",
   "pygments_lexer": "ipython2",
   "version": "2.7.6"
  }
 },
 "nbformat": 4,
 "nbformat_minor": 5
}

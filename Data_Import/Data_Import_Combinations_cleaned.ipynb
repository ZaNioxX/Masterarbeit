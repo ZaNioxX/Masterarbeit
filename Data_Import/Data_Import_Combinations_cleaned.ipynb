{
 "cells": [
  {
   "cell_type": "code",
   "id": "initial_id",
   "metadata": {
    "collapsed": true,
    "ExecuteTime": {
     "end_time": "2024-04-12T14:28:35.273529Z",
     "start_time": "2024-04-12T14:28:35.262249Z"
    }
   },
   "source": [
    "import pymongo\n",
    "import json\n",
    "from tqdm import tqdm\n",
    "\n",
    "# Connect to your MongoDB instance\n",
    "client = pymongo.MongoClient(\"mongodb://localhost:27017/\")\n",
    "db = client[\"vaers\"]\n",
    "col = db[\"reports cleaned\"]\n",
    "target_db = client[\"vaers\"]\n",
    "target_col = target_db[\"combinations cleaned\"]"
   ],
   "outputs": [],
   "execution_count": 17
  },
  {
   "metadata": {
    "ExecuteTime": {
     "end_time": "2024-04-12T14:28:35.835692Z",
     "start_time": "2024-04-12T14:28:35.663275Z"
    }
   },
   "cell_type": "code",
   "source": [
    "with open('/home/sebastian/Documents/Masterarbeit/Combinations/All_Combinations_cleaned_Filtered.json') as f:\n",
    "    data = json.load(f)"
   ],
   "id": "7af8cba99a50a9da",
   "outputs": [],
   "execution_count": 18
  },
  {
   "metadata": {
    "ExecuteTime": {
     "end_time": "2024-04-13T13:05:57.723900Z",
     "start_time": "2024-04-12T14:28:36.588503Z"
    }
   },
   "cell_type": "code",
   "source": [
    "for item in tqdm(data, desc=\"Processing items\", unit=\"item\"):\n",
    "    N = col.estimated_document_count()\n",
    "    \n",
    "    D_query = {\n",
    "        \"vax_data\": {\n",
    "            \"$elemMatch\": {\n",
    "                \"VAX_MANU\": item[\"manufacturer\"],\n",
    "                \"VAX_TYPE\": item[\"vaccine\"]\n",
    "            }\n",
    "        }\n",
    "    }\n",
    "    D = col.count_documents(D_query)\n",
    "    \n",
    "    E_query = {\n",
    "        \"symptoms\": {\n",
    "            \"$elemMatch\": {\n",
    "                \"$in\": [item[\"Event\"]]\n",
    "            }\n",
    "        }\n",
    "    }\n",
    "    E = col.count_documents(E_query)\n",
    "    \n",
    "    DE_query = {'$and': [D_query, E_query]}\n",
    "    DE = col.count_documents(DE_query)\n",
    "    \n",
    "    De = D - DE\n",
    "    dE = E - DE\n",
    "    de = N - (DE + De + dE)\n",
    "    \n",
    "    entry = {\n",
    "        \"vaccine\": item[\"vaccine\"],\n",
    "        \"manufacturer\": item[\"manufacturer\"],\n",
    "        \"symptom\": item[\"Event\"],  # Assuming the symptom key is \"Event\" in your data\n",
    "        \"DE\": DE,\n",
    "        \"dE\": dE,\n",
    "        \"De\": De,\n",
    "        \"de\": de\n",
    "    }\n",
    "    \n",
    "    # Insert the entry into the MongoDB collection\n",
    "    target_col.insert_one(entry)\n"
   ],
   "id": "8ff2fe12e50bb6a9",
   "outputs": [
    {
     "name": "stderr",
     "output_type": "stream",
     "text": [
      "Processing items: 100%|██████████| 143761/143761 [22:37:21<00:00,  1.77item/s]   \n"
     ]
    }
   ],
   "execution_count": 19
  },
  {
   "metadata": {},
   "cell_type": "code",
   "outputs": [],
   "execution_count": null,
   "source": "",
   "id": "ef9ddf55a129a574"
  }
 ],
 "metadata": {
  "kernelspec": {
   "display_name": "Python 3",
   "language": "python",
   "name": "python3"
  },
  "language_info": {
   "codemirror_mode": {
    "name": "ipython",
    "version": 2
   },
   "file_extension": ".py",
   "mimetype": "text/x-python",
   "name": "python",
   "nbconvert_exporter": "python",
   "pygments_lexer": "ipython2",
   "version": "2.7.6"
  }
 },
 "nbformat": 4,
 "nbformat_minor": 5
}

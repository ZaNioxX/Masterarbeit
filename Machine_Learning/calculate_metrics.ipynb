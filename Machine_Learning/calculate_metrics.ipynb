{
 "cells": [
  {
   "metadata": {
    "ExecuteTime": {
     "end_time": "2024-07-05T13:13:30.964948Z",
     "start_time": "2024-07-05T13:13:30.899572Z"
    }
   },
   "cell_type": "code",
   "source": [
    "import pandas as pd\n",
    "import pickle\n",
    "from sklearn.metrics import accuracy_score, precision_score, recall_score, f1_score, roc_auc_score"
   ],
   "id": "c5d00fd49f615542",
   "outputs": [],
   "execution_count": 2
  },
  {
   "metadata": {
    "ExecuteTime": {
     "end_time": "2024-07-05T13:13:35.170832Z",
     "start_time": "2024-07-05T13:13:35.167315Z"
    }
   },
   "cell_type": "code",
   "source": "classifiers = [\"Random Forest\", \"Logistic Regression\", \"K-Nearest Neighbors\", \"Decision Tree\", \"Naive Bayes\"]",
   "id": "f7ad66fda6010a53",
   "outputs": [],
   "execution_count": 4
  },
  {
   "metadata": {},
   "cell_type": "markdown",
   "source": "# All data",
   "id": "f4e3fdc0212965d1"
  },
  {
   "metadata": {
    "ExecuteTime": {
     "end_time": "2024-07-08T11:51:50.065398Z",
     "start_time": "2024-07-08T11:51:50.056755Z"
    }
   },
   "cell_type": "code",
   "source": "y_test = pd.read_csv('../Machine_Learning/data/y_test_shuffled_all.csv')",
   "id": "29eb722255e936ff",
   "outputs": [],
   "execution_count": 10
  },
  {
   "metadata": {
    "ExecuteTime": {
     "end_time": "2024-07-08T11:51:50.948018Z",
     "start_time": "2024-07-08T11:51:50.788586Z"
    }
   },
   "cell_type": "code",
   "source": [
    "test_results = {}\n",
    "\n",
    "# Loop through the classifiers\n",
    "for name in classifiers:\n",
    "    # Load model\n",
    "    with open(f'../Machine_Learning/Models/{name}_model_all.pkl', 'rb') as f:\n",
    "        clf = pickle.load(f)\n",
    "    \n",
    "    # Load predictions\n",
    "    with open(f'../Machine_Learning/Predictions/{name}_predictions_all.pkl', 'rb') as f:\n",
    "        y_pred = pickle.load(f)\n",
    "    \n",
    "    # Evaluate on test set\n",
    "    test_scores = {\n",
    "        'accuracy': accuracy_score(y_test, y_pred),\n",
    "        'precision': precision_score(y_test, y_pred),\n",
    "        'recall': recall_score(y_test, y_pred),\n",
    "        'f1': f1_score(y_test, y_pred),\n",
    "        'roc_auc': roc_auc_score(y_test, y_pred)\n",
    "    }\n",
    "    \n",
    "        # Store test results\n",
    "    test_results[name] = {\n",
    "        \"Test Scores\": test_scores,\n",
    "    }\n",
    "\n",
    "with open('../Machine_Learning/Results/test_results_all.pkl', 'wb') as f:\n",
    "    pickle.dump(test_results, f)\n"
   ],
   "id": "32be6e87c4c02b38",
   "outputs": [],
   "execution_count": 11
  },
  {
   "metadata": {},
   "cell_type": "markdown",
   "source": "# With unique symptoms in train und test",
   "id": "c0cf1186d70ebcde"
  },
  {
   "metadata": {},
   "cell_type": "markdown",
   "source": "# 5% True labels",
   "id": "112c026b1b30fcb"
  },
  {
   "metadata": {
    "ExecuteTime": {
     "end_time": "2024-07-05T13:13:38.397580Z",
     "start_time": "2024-07-05T13:13:38.388018Z"
    }
   },
   "cell_type": "code",
   "source": "y_test5 = pd.read_csv('../Machine_Learning/data/y_test_unique_5_shuffled.csv')",
   "id": "6b1e07f380364c48",
   "outputs": [],
   "execution_count": 5
  },
  {
   "metadata": {
    "ExecuteTime": {
     "end_time": "2024-07-05T13:13:39.744445Z",
     "start_time": "2024-07-05T13:13:39.549259Z"
    }
   },
   "cell_type": "code",
   "source": [
    "test_results = {}\n",
    "\n",
    "# Loop through the classifiers\n",
    "for name in classifiers:\n",
    "    # Load model\n",
    "    with open(f'../Machine_Learning/Models/{name}_model_5.pkl', 'rb') as f:\n",
    "        clf = pickle.load(f)\n",
    "    \n",
    "    # Load predictions\n",
    "    with open(f'../Machine_Learning/Predictions/{name}_predictions_5.pkl', 'rb') as f:\n",
    "        y_pred5 = pickle.load(f)\n",
    "    \n",
    "    # Evaluate on test set\n",
    "    test_scores = {\n",
    "        'accuracy': accuracy_score(y_test5, y_pred5),\n",
    "        'precision': precision_score(y_test5, y_pred5),\n",
    "        'recall': recall_score(y_test5, y_pred5),\n",
    "        'f1': f1_score(y_test5, y_pred5),\n",
    "        'roc_auc': roc_auc_score(y_test5, y_pred5)\n",
    "    }\n",
    "    \n",
    "        # Store test results\n",
    "    test_results[name] = {\n",
    "        \"Test Scores\": test_scores,\n",
    "    }\n",
    "\n",
    "with open('../Machine_Learning/Results/test_results_5.pkl', 'wb') as f:\n",
    "    pickle.dump(test_results, f)\n"
   ],
   "id": "c589b7f01bdcdfbf",
   "outputs": [],
   "execution_count": 6
  },
  {
   "metadata": {},
   "cell_type": "markdown",
   "source": "# 10% True labels",
   "id": "6391f01859ee725f"
  },
  {
   "metadata": {
    "ExecuteTime": {
     "end_time": "2024-07-05T12:51:10.465516Z",
     "start_time": "2024-07-05T12:51:10.455534Z"
    }
   },
   "cell_type": "code",
   "source": "y_test10 = pd.read_csv('../Machine_Learning/data/y_test_unique_10_shuffled.csv')",
   "id": "c02483e93a154bc",
   "outputs": [],
   "execution_count": 10
  },
  {
   "metadata": {
    "ExecuteTime": {
     "end_time": "2024-07-05T12:52:03.191915Z",
     "start_time": "2024-07-05T12:52:03.033293Z"
    }
   },
   "cell_type": "code",
   "source": [
    "test_results = {}\n",
    "\n",
    "# Loop through the classifiers\n",
    "for name in classifiers:\n",
    "    # Load model\n",
    "    with open(f'../Machine_Learning/Models/{name}_model_10.pkl', 'rb') as f:\n",
    "        clf = pickle.load(f)\n",
    "    \n",
    "    # Load predictions\n",
    "    with open(f'../Machine_Learning/Predictions/{name}_predictions_10.pkl', 'rb') as f:\n",
    "        y_pred10 = pickle.load(f)\n",
    "    \n",
    "    # Evaluate on test set\n",
    "    test_scores = {\n",
    "        'accuracy': accuracy_score(y_test10, y_pred10),\n",
    "        'precision': precision_score(y_test10, y_pred10),\n",
    "        'recall': recall_score(y_test10, y_pred10),\n",
    "        'f1': f1_score(y_test10, y_pred10),\n",
    "        'roc_auc': roc_auc_score(y_test10, y_pred10)\n",
    "    }\n",
    "    \n",
    "        # Store test results\n",
    "    test_results[name] = {\n",
    "        \"Test Scores\": test_scores,\n",
    "    }\n",
    "\n",
    "with open('../Machine_Learning/Results/test_results_10.pkl', 'wb') as f:\n",
    "    pickle.dump(test_results, f)\n"
   ],
   "id": "3551ece42bc17f65",
   "outputs": [],
   "execution_count": 13
  }
 ],
 "metadata": {
  "kernelspec": {
   "display_name": "Python 3",
   "language": "python",
   "name": "python3"
  },
  "language_info": {
   "codemirror_mode": {
    "name": "ipython",
    "version": 2
   },
   "file_extension": ".py",
   "mimetype": "text/x-python",
   "name": "python",
   "nbconvert_exporter": "python",
   "pygments_lexer": "ipython2",
   "version": "2.7.6"
  }
 },
 "nbformat": 4,
 "nbformat_minor": 5
}

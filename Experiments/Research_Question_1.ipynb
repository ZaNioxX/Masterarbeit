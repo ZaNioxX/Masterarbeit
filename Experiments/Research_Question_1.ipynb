{
 "cells": [
  {
   "cell_type": "code",
   "id": "initial_id",
   "metadata": {
    "collapsed": true,
    "ExecuteTime": {
     "end_time": "2024-04-29T10:00:42.269754Z",
     "start_time": "2024-04-29T10:00:42.260275Z"
    }
   },
   "source": [
    "import sys\n",
    "sys.path.append('../statistical_calculations')  # Adds the statistical_calculations directory to the path\n",
    "import disproportionaly_analysis\n",
    "from tqdm import tqdm\n",
    "import json\n",
    "\n",
    "# Connect to your MongoDB instance\n",
    "client = MongoClient('mongodb://localhost:27017/')\n",
    "db = client['vaers']  \n",
    "collection = db['combinations']"
   ],
   "outputs": [],
   "execution_count": 214
  },
  {
   "metadata": {},
   "cell_type": "markdown",
   "source": "## create adverse reaction list for each manufacturer",
   "id": "33f37cc9e0a04a0b"
  },
  {
   "metadata": {},
   "cell_type": "markdown",
   "source": "### PFIZER/BIONTECH",
   "id": "c9e6051e5709cbb1"
  },
  {
   "metadata": {
    "ExecuteTime": {
     "end_time": "2024-05-05T14:41:07.361394Z",
     "start_time": "2024-05-05T14:41:07.352423Z"
    }
   },
   "cell_type": "code",
   "source": [
    "Pfizer_adverse_reactions = [\n",
    "    \"Vomiting\",\n",
    "    \"Lymphadenopathy\",\n",
    "    \"Rash\", \n",
    "    \"Pruritus\", \n",
    "    \"Urticaria\", \n",
    "    \"Angioedema\",\n",
    "    \"Anaphylaxis\",\n",
    "    \"Decreased appetite\",\n",
    "    \"Insomnia\",\n",
    "    \"Headache\",\n",
    "    \"Dizziness\",\n",
    "    \"Lethargy\",\n",
    "    #\"Acute peripheral facial paralysis\",\n",
    "    \"Facial paralysis\",\n",
    "    \"Paraesthesia\",\n",
    "    \"Hypoaesthesia\",\n",
    "    \"Myocarditis\",\n",
    "    \"Pericarditis\",\n",
    "    \"Diarrhoea\",\n",
    "    \"Nausea\",\n",
    "    \"Hyperhidrosis\",\n",
    "    \"Night sweats\",\n",
    "    \"Erythema multiforme\",\n",
    "    \"Arthralgia\",\n",
    "    \"Myalgia\",\n",
    "    \"Pain in extremity\",\n",
    "    \"Heavy menstrual bleeding\",\n",
    "    \"Injection site pain\",\n",
    "    \"Fatigue\",\n",
    "    \"Chills\",\n",
    "    \"Pyrexia\",\n",
    "    \"Injection site swelling\",\n",
    "    \"Injection site redness\",\n",
    "    \"Asthenia\",\n",
    "    \"Malaise\",\n",
    "    \"Injection site pruritus\",\n",
    "    \"Extensive swelling of vaccinated limb\",\n",
    "    \"Facial swelling\"\n",
    "]"
   ],
   "id": "de9f7674ec2fb3cd",
   "outputs": [],
   "execution_count": 285
  },
  {
   "metadata": {
    "ExecuteTime": {
     "end_time": "2024-05-05T14:41:08.179420Z",
     "start_time": "2024-05-05T14:41:08.172976Z"
    }
   },
   "cell_type": "code",
   "source": "len(Pfizer_adverse_reactions)",
   "id": "7990be61ff89304e",
   "outputs": [
    {
     "data": {
      "text/plain": [
       "38"
      ]
     },
     "execution_count": 286,
     "metadata": {},
     "output_type": "execute_result"
    }
   ],
   "execution_count": 286
  },
  {
   "metadata": {
    "ExecuteTime": {
     "end_time": "2024-05-05T14:41:12.367884Z",
     "start_time": "2024-05-05T14:41:09.229813Z"
    }
   },
   "cell_type": "code",
   "source": [
    "from tqdm import tqdm\n",
    "import disproportionaly_analysis\n",
    "\n",
    "signals_Pfizer = []\n",
    "\n",
    "for reaction in Pfizer_adverse_reactions:\n",
    "    query = {\n",
    "      \"vaccine\": \"COVID19\",\n",
    "      \"manufacturer\": \"PFIZER\\BIONTECH\",\n",
    "      \"symptom\": reaction   \n",
    "    }\n",
    "    \n",
    "    results = list(collection.find(query))\n",
    "    \n",
    "    if not results:\n",
    "        result_dict = {\n",
    "            'symptom': reaction,\n",
    "            'status': \"Not found\",\n",
    "        }\n",
    "        signals_Pfizer.append(result_dict)\n",
    "        continue\n",
    "    \n",
    "    for result in tqdm(results):\n",
    "        DE = result.get(\"DE\")\n",
    "        dE = result.get(\"dE\")\n",
    "        De = result.get(\"De\")\n",
    "        de = result.get(\"de\")\n",
    "        \n",
    "        # Ensure all necessary data is available\n",
    "        if None in [DE, dE, De, de]:\n",
    "            continue\n",
    "        \n",
    "        contingency_table = [\n",
    "            [DE, dE],\n",
    "            [De, de]\n",
    "        ]\n",
    "        \n",
    "        # Compute statistical measures\n",
    "        rrr, sd_rrr = disproportionaly_analysis.relative_reporting_ratio(contingency_table), disproportionaly_analysis.sd_rrr(contingency_table)\n",
    "        rrr_ci_lower, rrr_ci_upper = disproportionaly_analysis.confidence_interval(rrr, sd_rrr)\n",
    "        \n",
    "        prr, sd_prr = disproportionaly_analysis.proportional_reporting_ratio(contingency_table), disproportionaly_analysis.sd_prr(contingency_table)\n",
    "        prr_ci_lower, prr_ci_upper = disproportionaly_analysis.confidence_interval(prr, sd_prr)\n",
    "        \n",
    "        ror, sd_ror = disproportionaly_analysis.reporting_odds_ratio(contingency_table), disproportionaly_analysis.sd_ror(contingency_table)\n",
    "        ror_ci_lower, ror_ci_upper = disproportionaly_analysis.confidence_interval(ror, sd_ror)\n",
    "        \n",
    "        chi_square = disproportionaly_analysis.chi_square_yates(contingency_table)\n",
    "        IC = disproportionaly_analysis.information_component(contingency_table)\n",
    "        IC_ci_lower, IC_ci_upper = disproportionaly_analysis.confidence_interval_information_component(contingency_table, IC)\n",
    "        \n",
    "        # Determine if the reaction meets criteria for a signal\n",
    "        method_1 = rrr > 2 and prr > 2 and ror > 2 and chi_square > 3.841\n",
    "        method_2 = IC_ci_lower > 0 and ror_ci_lower > 1 and prr_ci_lower > 1 and ror_ci_lower > 1\n",
    "        \n",
    "        \n",
    "        if method_1 or method_2:\n",
    "            result_dict = {\n",
    "                'vaccine': result.get(\"vaccine\"),\n",
    "                'manufacturer': result.get(\"manufacturer\"),\n",
    "                'symptom': result.get(\"symptom\"),\n",
    "                'status': \"Detected\",\n",
    "                'DE': DE,\n",
    "                'dE': dE,\n",
    "                'De': De,\n",
    "                'de': de,\n",
    "                'rrr': [rrr, [rrr_ci_lower, rrr_ci_upper]],\n",
    "                'prr': [prr, [prr_ci_lower, prr_ci_upper]],\n",
    "                'ror': [ror, [ror_ci_lower, ror_ci_upper]],\n",
    "                'chi_square': chi_square,\n",
    "                'IC': [IC, [IC_ci_lower, IC_ci_upper]],\n",
    "                'Chi-square_Test': method_1,\n",
    "                'CI_Test': method_2  \n",
    "            }\n",
    "            signals_Pfizer.append(result_dict)\n",
    "        else:\n",
    "            result_dict = {\n",
    "                'vaccine': result.get(\"vaccine\"),\n",
    "                'manufacturer': result.get(\"manufacturer\"),\n",
    "                'symptom': result.get(\"symptom\"),\n",
    "                'status': \"Undetected\",\n",
    "                'DE': DE,\n",
    "                'dE': dE,\n",
    "                'De': De,\n",
    "                'de': de,\n",
    "                'rrr': [rrr, [rrr_ci_lower, rrr_ci_upper]],\n",
    "                'prr': [prr, [prr_ci_lower, prr_ci_upper]],\n",
    "                'ror': [ror, [ror_ci_lower, ror_ci_upper]],\n",
    "                'chi_square': chi_square,\n",
    "                'IC': [IC, [IC_ci_lower, IC_ci_upper]],\n",
    "                'Chi-square_Test': method_1,\n",
    "                'CI_Test': method_2  \n",
    "            }\n",
    "            signals_Pfizer.append(result_dict)\n"
   ],
   "id": "c73fc24025b7b4ee",
   "outputs": [
    {
     "name": "stderr",
     "output_type": "stream",
     "text": [
      "100%|██████████| 1/1 [00:00<00:00, 5737.76it/s]\n",
      "100%|██████████| 1/1 [00:00<00:00, 8630.26it/s]\n",
      "100%|██████████| 1/1 [00:00<00:00, 5053.38it/s]\n",
      "100%|██████████| 1/1 [00:00<00:00, 7738.57it/s]\n",
      "100%|██████████| 1/1 [00:00<00:00, 6017.65it/s]\n",
      "100%|██████████| 1/1 [00:00<00:00, 6710.89it/s]\n",
      "100%|██████████| 1/1 [00:00<00:00, 3167.90it/s]\n",
      "100%|██████████| 1/1 [00:00<00:00, 5940.94it/s]\n",
      "100%|██████████| 1/1 [00:00<00:00, 5907.47it/s]\n",
      "100%|██████████| 1/1 [00:00<00:00, 4539.29it/s]\n",
      "100%|██████████| 1/1 [00:00<00:00, 14315.03it/s]\n",
      "100%|██████████| 1/1 [00:00<00:00, 11459.85it/s]\n",
      "100%|██████████| 1/1 [00:00<00:00, 12595.51it/s]\n",
      "100%|██████████| 1/1 [00:00<00:00, 8371.86it/s]\n",
      "100%|██████████| 1/1 [00:00<00:00, 10205.12it/s]\n",
      "100%|██████████| 1/1 [00:00<00:00, 13025.79it/s]\n",
      "100%|██████████| 1/1 [00:00<00:00, 8594.89it/s]\n",
      "100%|██████████| 1/1 [00:00<00:00, 6765.01it/s]\n",
      "100%|██████████| 1/1 [00:00<00:00, 12595.51it/s]\n",
      "100%|██████████| 1/1 [00:00<00:00, 13981.01it/s]\n",
      "100%|██████████| 1/1 [00:00<00:00, 12945.38it/s]\n",
      "100%|██████████| 1/1 [00:00<00:00, 12748.64it/s]\n",
      "100%|██████████| 1/1 [00:00<00:00, 6043.67it/s]\n",
      "100%|██████████| 1/1 [00:00<00:00, 13189.64it/s]\n",
      "100%|██████████| 1/1 [00:00<00:00, 8160.12it/s]\n",
      "100%|██████████| 1/1 [00:00<00:00, 8371.86it/s]\n",
      "100%|██████████| 1/1 [00:00<00:00, 12409.18it/s]\n",
      "100%|██████████| 1/1 [00:00<00:00, 6452.78it/s]\n",
      "100%|██████████| 1/1 [00:00<00:00, 10699.76it/s]\n",
      "100%|██████████| 1/1 [00:00<00:00, 5077.85it/s]\n",
      "100%|██████████| 1/1 [00:00<00:00, 12520.31it/s]\n",
      "100%|██████████| 1/1 [00:00<00:00, 12905.55it/s]\n",
      "100%|██████████| 1/1 [00:00<00:00, 8405.42it/s]\n",
      "100%|██████████| 1/1 [00:00<00:00, 12372.58it/s]\n"
     ]
    }
   ],
   "execution_count": 287
  },
  {
   "metadata": {
    "ExecuteTime": {
     "end_time": "2024-04-29T10:00:46.557388Z",
     "start_time": "2024-04-29T10:00:46.549297Z"
    }
   },
   "cell_type": "code",
   "source": [
    "count_method_1_true = sum(entry['Chi-square_Test'] for entry in detected_signals_Pfizer_product_info)\n",
    "count_method_2_true = sum(entry['CI_Test'] for entry in detected_signals_Pfizer_product_info)\n",
    "count_both_true = sum(entry['Chi-square_Test'] and entry['CI_Test'] for entry in detected_signals_Pfizer_product_info)\n",
    "\n",
    "print(\"Number of entries where both method_1 and method_2 are true:\", count_both_true)\n",
    "print(\"Number of entries where method_1 is true:\", count_method_1_true)\n",
    "print(\"Number of entries where method_2 is true:\", count_method_2_true)"
   ],
   "id": "2bf31f8e131e42e0",
   "outputs": [
    {
     "name": "stdout",
     "output_type": "stream",
     "text": [
      "Number of entries where both method_1 and method_2 are true: 2\n",
      "Number of entries where method_1 is true: 2\n",
      "Number of entries where method_2 is true: 22\n"
     ]
    }
   ],
   "execution_count": 218
  },
  {
   "metadata": {
    "ExecuteTime": {
     "end_time": "2024-05-05T14:41:43.094699Z",
     "start_time": "2024-05-05T14:41:43.083992Z"
    }
   },
   "cell_type": "code",
   "source": [
    "file_name_filtered = \"Signals_Pfizer.json\"\n",
    "with open(file_name_filtered, 'w') as f:\n",
    "    json.dump(signals_Pfizer, f)"
   ],
   "id": "e5b6adabd1e54700",
   "outputs": [],
   "execution_count": 289
  },
  {
   "metadata": {
    "ExecuteTime": {
     "end_time": "2024-05-05T14:41:23.583909Z",
     "start_time": "2024-05-05T14:41:23.575205Z"
    }
   },
   "cell_type": "code",
   "source": [
    "detected_count = 0\n",
    "undetected_count = 0\n",
    "not_found_count = 0\n",
    "\n",
    "for result in signals_Pfizer:\n",
    "    status = result['status']\n",
    "    if status == 'Detected':\n",
    "        detected_count += 1\n",
    "    elif status == 'Undetected':\n",
    "        undetected_count += 1\n",
    "    elif status == 'Not found':\n",
    "        not_found_count += 1\n",
    "\n",
    "print(\"Detected count:\", detected_count)\n",
    "print(\"Undetected count:\", undetected_count)\n",
    "print(\"Not found count:\", not_found_count)\n"
   ],
   "id": "feb7bb047f8c988b",
   "outputs": [
    {
     "name": "stdout",
     "output_type": "stream",
     "text": [
      "Detected count: 22\n",
      "Undetected count: 12\n",
      "Not found count: 4\n"
     ]
    }
   ],
   "execution_count": 288
  },
  {
   "metadata": {
    "ExecuteTime": {
     "end_time": "2024-04-29T10:00:46.596957Z",
     "start_time": "2024-04-29T10:00:46.590466Z"
    }
   },
   "cell_type": "code",
   "source": "",
   "id": "6849a6b249d885ff",
   "outputs": [
    {
     "data": {
      "text/plain": [
       "['Anaphylaxis', 'Injection site redness', 'Facial swelling']"
      ]
     },
     "execution_count": 222,
     "metadata": {},
     "output_type": "execute_result"
    }
   ],
   "execution_count": 222
  },
  {
   "metadata": {},
   "cell_type": "markdown",
   "source": "### MODERNA",
   "id": "5618405e6fefcfde"
  },
  {
   "metadata": {
    "ExecuteTime": {
     "end_time": "2024-05-06T09:53:11.161753Z",
     "start_time": "2024-05-06T09:53:11.152349Z"
    }
   },
   "cell_type": "code",
   "source": [
    "Moderna_adverse_reactions = [\n",
    "    \"Lymphadenopathy\",\n",
    "    \"Anaphylaxis\",\n",
    "    \"Hypersensitivity\",\n",
    "    \"Decreased appetite\",\n",
    "    \"Irritability\", \n",
    "    \"Crying\",\n",
    "    \"Headache\",\n",
    "    \"Sleepiness\",\n",
    "    \"Dizziness\",\n",
    "    #\"Acute peripheral facial paralysis\",\n",
    "    \"Facial paralysis\", #instead of facial paralysis\n",
    "    \"Hypoaesthesia\",\n",
    "    \"Paraesthesia\",\n",
    "    \"Myocarditis\",\n",
    "    \"Pericarditis\",\n",
    "    \"Nausea\", \n",
    "    \"Vomiting\",\n",
    "    \"Diarrhoea\",\n",
    "    \"Abdominal pain\",\n",
    "    \"Rash\",\n",
    "    \"Urticaria\",\n",
    "    \"Erythema multiforme\",\n",
    "    \"Mechanical urticaria\",\n",
    "    \"Chronic urticaria\",\n",
    "    \"Myalgia\",\n",
    "    \"Arthralgia\",\n",
    "    \"Heavy menstrual bleeding\",\n",
    "    \"Injection site pain\",\n",
    "    \"Fatigue\",\n",
    "    \"Chills\",\n",
    "    \"Pyrexia\",\n",
    "    \"Injection site swelling\",\n",
    "    \"Injection site erythema\",\n",
    "    \"Injection site urticaria\",\n",
    "    \"Injection site rash\",\n",
    "    \"Delayed injection site reaction\",\n",
    "    \"Injection site pruritus\",\n",
    "    \"Facial swelling\",\n",
    "    \"Extensive swelling of vaccinated limb\"\n",
    "]\n"
   ],
   "id": "889af05a31793462",
   "outputs": [],
   "execution_count": 324
  },
  {
   "metadata": {
    "ExecuteTime": {
     "end_time": "2024-05-06T09:53:12.016300Z",
     "start_time": "2024-05-06T09:53:12.008957Z"
    }
   },
   "cell_type": "code",
   "source": "len(Moderna_adverse_reactions)",
   "id": "3e37be8faa2a7d37",
   "outputs": [
    {
     "data": {
      "text/plain": [
       "38"
      ]
     },
     "execution_count": 325,
     "metadata": {},
     "output_type": "execute_result"
    }
   ],
   "execution_count": 325
  },
  {
   "metadata": {
    "ExecuteTime": {
     "end_time": "2024-05-06T09:53:16.068128Z",
     "start_time": "2024-05-06T09:53:12.837376Z"
    }
   },
   "cell_type": "code",
   "source": [
    "from tqdm import tqdm\n",
    "import disproportionaly_analysis\n",
    "\n",
    "signals_Moderna = []\n",
    "\n",
    "for reaction in Moderna_adverse_reactions:\n",
    "    query = {\n",
    "      \"vaccine\": \"COVID19\",\n",
    "      \"manufacturer\": \"MODERNA\",\n",
    "      \"symptom\": reaction   \n",
    "    }\n",
    "    \n",
    "    results = list(collection.find(query))\n",
    "    \n",
    "    if not results:\n",
    "        result_dict = {\n",
    "            'symptom': reaction,\n",
    "            'status': \"Not found\",\n",
    "        }\n",
    "        signals_Moderna.append(result_dict)\n",
    "        continue\n",
    "    \n",
    "    for result in tqdm(results):\n",
    "        DE = result.get(\"DE\")\n",
    "        dE = result.get(\"dE\")\n",
    "        De = result.get(\"De\")\n",
    "        de = result.get(\"de\")\n",
    "        \n",
    "        # Ensure all necessary data is available\n",
    "        if None in [DE, dE, De, de]:\n",
    "            continue\n",
    "        \n",
    "        contingency_table = [\n",
    "            [DE, dE],\n",
    "            [De, de]\n",
    "        ]\n",
    "        \n",
    "        # Compute statistical measures\n",
    "        rrr, sd_rrr = disproportionaly_analysis.relative_reporting_ratio(contingency_table), disproportionaly_analysis.sd_rrr(contingency_table)\n",
    "        rrr_ci_lower, rrr_ci_upper = disproportionaly_analysis.confidence_interval(rrr, sd_rrr)\n",
    "        \n",
    "        prr, sd_prr = disproportionaly_analysis.proportional_reporting_ratio(contingency_table), disproportionaly_analysis.sd_prr(contingency_table)\n",
    "        prr_ci_lower, prr_ci_upper = disproportionaly_analysis.confidence_interval(prr, sd_prr)\n",
    "        \n",
    "        ror, sd_ror = disproportionaly_analysis.reporting_odds_ratio(contingency_table), disproportionaly_analysis.sd_ror(contingency_table)\n",
    "        ror_ci_lower, ror_ci_upper = disproportionaly_analysis.confidence_interval(ror, sd_ror)\n",
    "        \n",
    "        chi_square = disproportionaly_analysis.chi_square_yates(contingency_table)\n",
    "        IC = disproportionaly_analysis.information_component(contingency_table)\n",
    "        IC_ci_lower, IC_ci_upper = disproportionaly_analysis.confidence_interval_information_component(contingency_table, IC)\n",
    "        \n",
    "        # Determine if the reaction meets criteria for a signal\n",
    "        method_1 = rrr > 2 and prr > 2 and ror > 2 and chi_square > 3.841\n",
    "        method_2 = IC_ci_lower > 0 and ror_ci_lower > 1 and prr_ci_lower > 1 and ror_ci_lower > 1\n",
    "        \n",
    "        \n",
    "        if method_1 or method_2:\n",
    "            result_dict = {\n",
    "                'vaccine': result.get(\"vaccine\"),\n",
    "                'manufacturer': result.get(\"manufacturer\"),\n",
    "                'symptom': result.get(\"symptom\"),\n",
    "                'status': \"Detected\",\n",
    "                'DE': DE,\n",
    "                'dE': dE,\n",
    "                'De': De,\n",
    "                'de': de,\n",
    "                'rrr': [rrr, [rrr_ci_lower, rrr_ci_upper]],\n",
    "                'prr': [prr, [prr_ci_lower, prr_ci_upper]],\n",
    "                'ror': [ror, [ror_ci_lower, ror_ci_upper]],\n",
    "                'chi_square': chi_square,\n",
    "                'IC': [IC, [IC_ci_lower, IC_ci_upper]],\n",
    "                'Chi-square_Test': method_1,\n",
    "                'CI_Test': method_2  \n",
    "            }\n",
    "            signals_Moderna.append(result_dict)\n",
    "        else:\n",
    "            result_dict = {\n",
    "                'vaccine': result.get(\"vaccine\"),\n",
    "                'manufacturer': result.get(\"manufacturer\"),\n",
    "                'symptom': result.get(\"symptom\"),\n",
    "                'status': \"Undetected\",\n",
    "                'DE': DE,\n",
    "                'dE': dE,\n",
    "                'De': De,\n",
    "                'de': de,\n",
    "                'rrr': [rrr, [rrr_ci_lower, rrr_ci_upper]],\n",
    "                'prr': [prr, [prr_ci_lower, prr_ci_upper]],\n",
    "                'ror': [ror, [ror_ci_lower, ror_ci_upper]],\n",
    "                'chi_square': chi_square,\n",
    "                'IC': [IC, [IC_ci_lower, IC_ci_upper]],\n",
    "                'Chi-square_Test': method_1,\n",
    "                'CI_Test': method_2  \n",
    "            }\n",
    "            signals_Moderna.append(result_dict)\n"
   ],
   "id": "11f215cc7779dc54",
   "outputs": [
    {
     "name": "stderr",
     "output_type": "stream",
     "text": [
      "100%|██████████| 1/1 [00:00<00:00, 11881.88it/s]\n",
      "100%|██████████| 1/1 [00:00<00:00, 3761.71it/s]\n",
      "100%|██████████| 1/1 [00:00<00:00, 7061.12it/s]\n",
      "100%|██████████| 1/1 [00:00<00:00, 6069.90it/s]\n",
      "100%|██████████| 1/1 [00:00<00:00, 5991.86it/s]\n",
      "100%|██████████| 1/1 [00:00<00:00, 6034.97it/s]\n",
      "100%|██████████| 1/1 [00:00<00:00, 5127.51it/s]\n",
      "100%|██████████| 1/1 [00:00<00:00, 5761.41it/s]\n",
      "100%|██████████| 1/1 [00:00<00:00, 5197.40it/s]\n",
      "100%|██████████| 1/1 [00:00<00:00, 5622.39it/s]\n",
      "100%|██████████| 1/1 [00:00<00:00, 5841.65it/s]\n",
      "100%|██████████| 1/1 [00:00<00:00, 6009.03it/s]\n",
      "100%|██████████| 1/1 [00:00<00:00, 5833.52it/s]\n",
      "100%|██████████| 1/1 [00:00<00:00, 12446.01it/s]\n",
      "100%|██████████| 1/1 [00:00<00:00, 6168.09it/s]\n",
      "100%|██████████| 1/1 [00:00<00:00, 5349.88it/s]\n",
      "100%|██████████| 1/1 [00:00<00:00, 9279.43it/s]\n",
      "100%|██████████| 1/1 [00:00<00:00, 4136.39it/s]\n",
      "100%|██████████| 1/1 [00:00<00:00, 6492.73it/s]\n",
      "100%|██████████| 1/1 [00:00<00:00, 6626.07it/s]\n",
      "100%|██████████| 1/1 [00:00<00:00, 5577.53it/s]\n",
      "100%|██████████| 1/1 [00:00<00:00, 3026.19it/s]\n",
      "100%|██████████| 1/1 [00:00<00:00, 3515.76it/s]\n",
      "100%|██████████| 1/1 [00:00<00:00, 5932.54it/s]\n",
      "100%|██████████| 1/1 [00:00<00:00, 5412.01it/s]\n",
      "100%|██████████| 1/1 [00:00<00:00, 5683.34it/s]\n",
      "100%|██████████| 1/1 [00:00<00:00, 6017.65it/s]\n",
      "100%|██████████| 1/1 [00:00<00:00, 6087.52it/s]\n",
      "100%|██████████| 1/1 [00:00<00:00, 5857.97it/s]\n",
      "100%|██████████| 1/1 [00:00<00:00, 4702.13it/s]\n",
      "100%|██████████| 1/1 [00:00<00:00, 14027.77it/s]\n",
      "100%|██████████| 1/1 [00:00<00:00, 5940.94it/s]\n",
      "100%|██████████| 1/1 [00:00<00:00, 6061.13it/s]\n"
     ]
    }
   ],
   "execution_count": 326
  },
  {
   "metadata": {
    "ExecuteTime": {
     "end_time": "2024-05-06T09:03:18.437002Z",
     "start_time": "2024-05-06T09:03:18.428762Z"
    }
   },
   "cell_type": "code",
   "source": [
    "count_method_1_true = sum(entry['Chi-square_Test'] for entry in detected_signals_Moderna_product_info)\n",
    "count_method_2_true = sum(entry['CI_Test'] for entry in detected_signals_Moderna_product_info)\n",
    "count_both_true = sum(entry['Chi-square_Test'] and entry['CI_Test'] for entry in detected_signals_Moderna_product_info)\n",
    "\n",
    "print(\"Number of entries where both method_1 and method_2 are true:\", count_both_true)\n",
    "print(\"Number of entries where method_1 is true:\", count_method_1_true)\n",
    "print(\"Number of entries where method_2 is true:\", count_method_2_true)"
   ],
   "id": "6147ef6bcecd7225",
   "outputs": [
    {
     "name": "stdout",
     "output_type": "stream",
     "text": [
      "Number of entries where both method_1 and method_2 are true: 3\n",
      "Number of entries where method_1 is true: 3\n",
      "Number of entries where method_2 is true: 23\n"
     ]
    }
   ],
   "execution_count": 306
  },
  {
   "metadata": {
    "ExecuteTime": {
     "end_time": "2024-05-06T09:53:20.869001Z",
     "start_time": "2024-05-06T09:53:20.859069Z"
    }
   },
   "cell_type": "code",
   "source": [
    "file_name_filtered = \"Signals_Moderna.json\"\n",
    "with open(file_name_filtered, 'w') as f:\n",
    "    json.dump(signals_Moderna, f)"
   ],
   "id": "1167504ec7cba938",
   "outputs": [],
   "execution_count": 327
  },
  {
   "metadata": {
    "ExecuteTime": {
     "end_time": "2024-05-06T09:53:22.786836Z",
     "start_time": "2024-05-06T09:53:22.777935Z"
    }
   },
   "cell_type": "code",
   "source": [
    "detected_count = 0\n",
    "undetected_count = 0\n",
    "not_found_count = 0\n",
    "\n",
    "for result in signals_Moderna:\n",
    "    status = result['status']\n",
    "    if status == 'Detected':\n",
    "        detected_count += 1\n",
    "    elif status == 'Undetected':\n",
    "        undetected_count += 1\n",
    "    elif status == 'Not found':\n",
    "        not_found_count += 1\n",
    "\n",
    "print(\"Detected count:\", detected_count)\n",
    "print(\"Undetected count:\", undetected_count)\n",
    "print(\"Not found count:\", not_found_count)\n"
   ],
   "id": "bd8e52ff336cbe3a",
   "outputs": [
    {
     "name": "stdout",
     "output_type": "stream",
     "text": [
      "Detected count: 23\n",
      "Undetected count: 10\n",
      "Not found count: 5\n"
     ]
    }
   ],
   "execution_count": 328
  },
  {
   "metadata": {},
   "cell_type": "markdown",
   "source": "### JANSSEN",
   "id": "f9930c1f3bcdc645"
  },
  {
   "metadata": {
    "ExecuteTime": {
     "end_time": "2024-05-05T15:02:39.920801Z",
     "start_time": "2024-05-05T15:02:39.912164Z"
    }
   },
   "cell_type": "code",
   "source": [
    "Janssen_adverse_reactions = [\n",
    "    \"Lymphadenopathy\",\n",
    "    \"Immune thrombocytopenia\",\n",
    "    \"Anaphylaxis\",\n",
    "    \"Headache\",\n",
    "    \"Dizziness\",\n",
    "    \"Tremor\",\n",
    "    \"Urticaria\",\n",
    "    \"Hypersensitivity\",\n",
    "    \"Paraesthesia\",\n",
    "    \"Hypoaesthesia\",\n",
    "    \"Facial paralysis\",\n",
    "    \"Tinnitus\",\n",
    "    \"Guillain-Barre syndrome\",\n",
    "    #\"Transverse myelitis\", not in DB\n",
    "    \"Myelitis\", #instead of Transverse myelitis\n",
    "    \"Venous thromboembolism\",\n",
    "    \"Thrombosis in combination with thrombocytopenia\",\n",
    "    \"Myocarditis\", \n",
    "    \"Pericarditis\",\n",
    "    \"Capillary leak syndrome\",\n",
    "    #\"Small vessel cutaneous vasculitis\", not in DB\n",
    "    \"Cutaneous vasculitis\", #instead of Small vessel cutaneous vasculitis\"\n",
    "    \"Nausea\",\n",
    "    \"Cough\", \n",
    "    \"Oropharyngeal pain\",\n",
    "    \"Sneezing\",\n",
    "    \"Diarrhoea\",\n",
    "    \"Vomiting\",\n",
    "    \"Rash\",\n",
    "    \"Hyperhidrosis\",\n",
    "    \"Myalgia\",\n",
    "    \"Arthralgia\",\n",
    "    \"Muscular weakness\",\n",
    "    \"Back pain\",\n",
    "    \"Pain in extremity\",\n",
    "    \"Fatigue\",\n",
    "    \"Injection site pain\",\n",
    "    \"Injection site swelling\",\n",
    "    \"Chills\",\n",
    "    \"Pyrexia\"\n",
    "]"
   ],
   "id": "b3ab8fb5bcb4fda3",
   "outputs": [],
   "execution_count": 290
  },
  {
   "metadata": {
    "ExecuteTime": {
     "end_time": "2024-05-05T15:02:41.195421Z",
     "start_time": "2024-05-05T15:02:41.188314Z"
    }
   },
   "cell_type": "code",
   "source": "len(Janssen_adverse_reactions)",
   "id": "74d8bc824f1e537f",
   "outputs": [
    {
     "data": {
      "text/plain": [
       "38"
      ]
     },
     "execution_count": 291,
     "metadata": {},
     "output_type": "execute_result"
    }
   ],
   "execution_count": 291
  },
  {
   "metadata": {
    "ExecuteTime": {
     "end_time": "2024-05-05T15:03:26.660708Z",
     "start_time": "2024-05-05T15:03:23.328168Z"
    }
   },
   "cell_type": "code",
   "source": [
    "from tqdm import tqdm\n",
    "import disproportionaly_analysis\n",
    "\n",
    "signals_Janssen = []\n",
    "\n",
    "for reaction in Janssen_adverse_reactions:\n",
    "    query = {\n",
    "      \"vaccine\": \"COVID19\",\n",
    "      \"manufacturer\": \"JANSSEN\",\n",
    "      \"symptom\": reaction   \n",
    "    }\n",
    "    \n",
    "    results = list(collection.find(query))\n",
    "    \n",
    "    if not results:\n",
    "        result_dict = {\n",
    "            'symptom': reaction,\n",
    "            'status': \"Not found\",\n",
    "        }\n",
    "        signals_Janssen.append(result_dict)\n",
    "        continue\n",
    "    \n",
    "    for result in tqdm(results):\n",
    "        DE = result.get(\"DE\")\n",
    "        dE = result.get(\"dE\")\n",
    "        De = result.get(\"De\")\n",
    "        de = result.get(\"de\")\n",
    "        \n",
    "        # Ensure all necessary data is available\n",
    "        if None in [DE, dE, De, de]:\n",
    "            continue\n",
    "        \n",
    "        contingency_table = [\n",
    "            [DE, dE],\n",
    "            [De, de]\n",
    "        ]\n",
    "        \n",
    "        # Compute statistical measures\n",
    "        rrr, sd_rrr = disproportionaly_analysis.relative_reporting_ratio(contingency_table), disproportionaly_analysis.sd_rrr(contingency_table)\n",
    "        rrr_ci_lower, rrr_ci_upper = disproportionaly_analysis.confidence_interval(rrr, sd_rrr)\n",
    "        \n",
    "        prr, sd_prr = disproportionaly_analysis.proportional_reporting_ratio(contingency_table), disproportionaly_analysis.sd_prr(contingency_table)\n",
    "        prr_ci_lower, prr_ci_upper = disproportionaly_analysis.confidence_interval(prr, sd_prr)\n",
    "        \n",
    "        ror, sd_ror = disproportionaly_analysis.reporting_odds_ratio(contingency_table), disproportionaly_analysis.sd_ror(contingency_table)\n",
    "        ror_ci_lower, ror_ci_upper = disproportionaly_analysis.confidence_interval(ror, sd_ror)\n",
    "        \n",
    "        chi_square = disproportionaly_analysis.chi_square_yates(contingency_table)\n",
    "        IC = disproportionaly_analysis.information_component(contingency_table)\n",
    "        IC_ci_lower, IC_ci_upper = disproportionaly_analysis.confidence_interval_information_component(contingency_table, IC)\n",
    "        \n",
    "        # Determine if the reaction meets criteria for a signal\n",
    "        method_1 = rrr > 2 and prr > 2 and ror > 2  and IC >0 and chi_square > 3.841\n",
    "        method_2 = IC_ci_lower > 0 #and ror_ci_lower > 1 and prr_ci_lower > 1 and ror_ci_lower > 1\n",
    "        \n",
    "        \n",
    "        if method_1 or method_2:\n",
    "            result_dict = {\n",
    "                'vaccine': result.get(\"vaccine\"),\n",
    "                'manufacturer': result.get(\"manufacturer\"),\n",
    "                'symptom': result.get(\"symptom\"),\n",
    "                'status': \"Detected\",\n",
    "                'DE': DE,\n",
    "                'dE': dE,\n",
    "                'De': De,\n",
    "                'de': de,\n",
    "                'rrr': [rrr, [rrr_ci_lower, rrr_ci_upper]],\n",
    "                'prr': [prr, [prr_ci_lower, prr_ci_upper]],\n",
    "                'ror': [ror, [ror_ci_lower, ror_ci_upper]],\n",
    "                'chi_square': chi_square,\n",
    "                'IC': [IC, [IC_ci_lower, IC_ci_upper]],\n",
    "                'Chi-square_Test': method_1,\n",
    "                'CI_Test': method_2  \n",
    "            }\n",
    "            signals_Janssen.append(result_dict)\n",
    "        else:\n",
    "            result_dict = {\n",
    "                'vaccine': result.get(\"vaccine\"),\n",
    "                'manufacturer': result.get(\"manufacturer\"),\n",
    "                'symptom': result.get(\"symptom\"),\n",
    "                'status': \"Undetected\",\n",
    "                'DE': DE,\n",
    "                'dE': dE,\n",
    "                'De': De,\n",
    "                'de': de,\n",
    "                'rrr': [rrr, [rrr_ci_lower, rrr_ci_upper]],\n",
    "                'prr': [prr, [prr_ci_lower, prr_ci_upper]],\n",
    "                'ror': [ror, [ror_ci_lower, ror_ci_upper]],\n",
    "                'chi_square': chi_square,\n",
    "                'IC': [IC, [IC_ci_lower, IC_ci_upper]],\n",
    "                'Chi-square_Test': method_1,\n",
    "                'CI_Test': method_2  \n",
    "            }\n",
    "            signals_Janssen.append(result_dict)\n"
   ],
   "id": "8f0b539d33f69695",
   "outputs": [
    {
     "name": "stderr",
     "output_type": "stream",
     "text": [
      "100%|██████████| 1/1 [00:00<00:00, 10280.16it/s]\n",
      "100%|██████████| 1/1 [00:00<00:00, 6105.25it/s]\n",
      "100%|██████████| 1/1 [00:00<00:00, 12446.01it/s]\n",
      "100%|██████████| 1/1 [00:00<00:00, 5833.52it/s]\n",
      "100%|██████████| 1/1 [00:00<00:00, 12052.60it/s]\n",
      "100%|██████████| 1/1 [00:00<00:00, 5899.16it/s]\n",
      "100%|██████████| 1/1 [00:00<00:00, 13066.37it/s]\n",
      "100%|██████████| 1/1 [00:00<00:00, 9939.11it/s]\n",
      "100%|██████████| 1/1 [00:00<00:00, 12483.05it/s]\n",
      "100%|██████████| 1/1 [00:00<00:00, 13231.24it/s]\n",
      "100%|██████████| 1/1 [00:00<00:00, 12520.31it/s]\n",
      "100%|██████████| 1/1 [00:00<00:00, 5940.94it/s]\n",
      "100%|██████████| 1/1 [00:00<00:00, 6061.13it/s]\n",
      "100%|██████████| 1/1 [00:00<00:00, 6204.59it/s]\n",
      "100%|██████████| 1/1 [00:00<00:00, 9000.65it/s]\n",
      "100%|██████████| 1/1 [00:00<00:00, 10512.04it/s]\n",
      "100%|██████████| 1/1 [00:00<00:00, 4712.70it/s]\n",
      "100%|██████████| 1/1 [00:00<00:00, 6213.78it/s]\n",
      "100%|██████████| 1/1 [00:00<00:00, 4457.28it/s]\n",
      "100%|██████████| 1/1 [00:00<00:00, 7503.23it/s]\n",
      "100%|██████████| 1/1 [00:00<00:00, 6250.83it/s]\n",
      "100%|██████████| 1/1 [00:00<00:00, 6159.04it/s]\n",
      "100%|██████████| 1/1 [00:00<00:00, 6000.43it/s]\n",
      "100%|██████████| 1/1 [00:00<00:00, 6087.52it/s]\n",
      "100%|██████████| 1/1 [00:00<00:00, 5966.29it/s]\n",
      "100%|██████████| 1/1 [00:00<00:00, 5932.54it/s]\n",
      "100%|██████████| 1/1 [00:00<00:00, 5761.41it/s]\n",
      "100%|██████████| 1/1 [00:00<00:00, 5991.86it/s]\n",
      "100%|██████████| 1/1 [00:00<00:00, 6594.82it/s]\n",
      "100%|██████████| 1/1 [00:00<00:00, 5363.56it/s]\n",
      "100%|██████████| 1/1 [00:00<00:00, 4882.78it/s]\n",
      "100%|██████████| 1/1 [00:00<00:00, 4202.71it/s]\n",
      "100%|██████████| 1/1 [00:00<00:00, 5652.70it/s]\n",
      "100%|██████████| 1/1 [00:00<00:00, 5729.92it/s]\n",
      "100%|██████████| 1/1 [00:00<00:00, 4161.02it/s]\n"
     ]
    }
   ],
   "execution_count": 294
  },
  {
   "metadata": {
    "ExecuteTime": {
     "end_time": "2024-04-29T10:00:53.121182Z",
     "start_time": "2024-04-29T10:00:53.112958Z"
    }
   },
   "cell_type": "code",
   "source": [
    "count_method_1_true = sum(entry['Chi-square_Test'] for entry in detected_signals_Janssen_product_info)\n",
    "count_method_2_true = sum(entry['CI_Test'] for entry in detected_signals_Janssen_product_info)\n",
    "count_both_true = sum(entry['Chi-square_Test'] and entry['CI_Test'] for entry in detected_signals_Janssen_product_info)\n",
    "\n",
    "print(\"Number of entries where both method_1 and method_2 are true:\", count_both_true)\n",
    "print(\"Number of entries where method_1 is true:\", count_method_1_true)\n",
    "print(\"Number of entries where method_2 is true:\", count_method_2_true)"
   ],
   "id": "fa38568fde1405c1",
   "outputs": [
    {
     "name": "stdout",
     "output_type": "stream",
     "text": [
      "Number of entries where both method_1 and method_2 are true: 2\n",
      "Number of entries where method_1 is true: 2\n",
      "Number of entries where method_2 is true: 23\n"
     ]
    }
   ],
   "execution_count": 234
  },
  {
   "metadata": {
    "ExecuteTime": {
     "end_time": "2024-05-05T15:04:00.263805Z",
     "start_time": "2024-05-05T15:04:00.254192Z"
    }
   },
   "cell_type": "code",
   "source": [
    "file_name_filtered = \"Signals_Janssen.json\"\n",
    "with open(file_name_filtered, 'w') as f:\n",
    "    json.dump(signals_Janssen, f)"
   ],
   "id": "b1ae79c64c25589d",
   "outputs": [],
   "execution_count": 296
  },
  {
   "metadata": {
    "ExecuteTime": {
     "end_time": "2024-05-05T15:03:45.915368Z",
     "start_time": "2024-05-05T15:03:45.906494Z"
    }
   },
   "cell_type": "code",
   "source": [
    "detected_count = 0\n",
    "undetected_count = 0\n",
    "not_found_count = 0\n",
    "\n",
    "for result in signals_Janssen:\n",
    "    status = result['status']\n",
    "    if status == 'Detected':\n",
    "        detected_count += 1\n",
    "    elif status == 'Undetected':\n",
    "        undetected_count += 1\n",
    "    elif status == 'Not found':\n",
    "        not_found_count += 1\n",
    "\n",
    "print(\"Detected count:\", detected_count)\n",
    "print(\"Undetected count:\", undetected_count)\n",
    "print(\"Not found count:\", not_found_count)\n"
   ],
   "id": "7d3cd8958c786d0f",
   "outputs": [
    {
     "name": "stdout",
     "output_type": "stream",
     "text": [
      "Detected count: 23\n",
      "Undetected count: 12\n",
      "Not found count: 3\n"
     ]
    }
   ],
   "execution_count": 295
  },
  {
   "metadata": {},
   "cell_type": "markdown",
   "source": "### NOVAVAX",
   "id": "8f7558259b766364"
  },
  {
   "metadata": {
    "ExecuteTime": {
     "end_time": "2024-05-05T11:21:03.379989Z",
     "start_time": "2024-05-05T11:21:03.372119Z"
    }
   },
   "cell_type": "code",
   "source": [
    "Novavax_adverse_reactions = [\n",
    "    \"Headache\",\n",
    "    \"Nausea\",\n",
    "    \"Vomiting\",\n",
    "    \"Myalgia\",\n",
    "    \"Arthralgia\",\n",
    "    \"Injection site tenderness\",\n",
    "    \"Injection site pain\",\n",
    "    \"Fatigue\",\n",
    "    \"Malaise\",\n",
    "    \"Injection site redness\",\n",
    "    \"Injection site swelling\",\n",
    "    \"Pyrexia\",\n",
    "    \"Pain in extremity\",\n",
    "    \"Injection site pruritus\",\n",
    "    \"Chills\",\n",
    "    \"Injection site warmth\",\n",
    "    \"Lymphadenopathy\",\n",
    "    \"Anaphylaxis\",\n",
    "    \"Paraesthesia\",\n",
    "    \"Hypoaesthesia\",\n",
    "    \"Myocarditis\",\n",
    "    \"Pericarditis\",\n",
    "    \"Hypertension\",\n",
    "    \"Rash\",\n",
    "    \"Erythema\",\n",
    "    \"Pruritus\",\n",
    "    \"Urticaria\"\n",
    "]\n"
   ],
   "id": "6f804f6a432a37b4",
   "outputs": [],
   "execution_count": 252
  },
  {
   "metadata": {
    "ExecuteTime": {
     "end_time": "2024-05-05T11:21:03.815857Z",
     "start_time": "2024-05-05T11:21:03.810234Z"
    }
   },
   "cell_type": "code",
   "source": "len(Novavax_adverse_reactions)",
   "id": "303af4984659666",
   "outputs": [
    {
     "data": {
      "text/plain": [
       "27"
      ]
     },
     "execution_count": 253,
     "metadata": {},
     "output_type": "execute_result"
    }
   ],
   "execution_count": 253
  },
  {
   "metadata": {
    "ExecuteTime": {
     "end_time": "2024-05-05T14:14:40.660657Z",
     "start_time": "2024-05-05T14:14:38.480713Z"
    }
   },
   "cell_type": "code",
   "source": [
    "from tqdm import tqdm\n",
    "import disproportionaly_analysis\n",
    "\n",
    "signals_Novavax = []\n",
    "\n",
    "for reaction in Novavax_adverse_reactions:\n",
    "    query = {\n",
    "      \"vaccine\": \"COVID19\",\n",
    "      \"manufacturer\": \"NOVAVAX\",\n",
    "      \"symptom\": reaction   \n",
    "    }\n",
    "    \n",
    "    results = list(collection.find(query))\n",
    "    \n",
    "    if not results:\n",
    "        result_dict = {\n",
    "            'symptom': reaction,\n",
    "            'status': \"Not found\",\n",
    "        }\n",
    "        signals_Novavax.append(result_dict)\n",
    "        continue\n",
    "    \n",
    "    for result in tqdm(results):\n",
    "        DE = result.get(\"DE\")\n",
    "        dE = result.get(\"dE\")\n",
    "        De = result.get(\"De\")\n",
    "        de = result.get(\"de\")\n",
    "        \n",
    "        # Ensure all necessary data is available\n",
    "        if None in [DE, dE, De, de]:\n",
    "            continue\n",
    "        \n",
    "        contingency_table = [\n",
    "            [DE, dE],\n",
    "            [De, de]\n",
    "        ]\n",
    "        \n",
    "        # Compute statistical measures\n",
    "        rrr, sd_rrr = disproportionaly_analysis.relative_reporting_ratio(contingency_table), disproportionaly_analysis.sd_rrr(contingency_table)\n",
    "        rrr_ci_lower, rrr_ci_upper = disproportionaly_analysis.confidence_interval(rrr, sd_rrr)\n",
    "        \n",
    "        prr, sd_prr = disproportionaly_analysis.proportional_reporting_ratio(contingency_table), disproportionaly_analysis.sd_prr(contingency_table)\n",
    "        prr_ci_lower, prr_ci_upper = disproportionaly_analysis.confidence_interval(prr, sd_prr)\n",
    "        \n",
    "        ror, sd_ror = disproportionaly_analysis.reporting_odds_ratio(contingency_table), disproportionaly_analysis.sd_ror(contingency_table)\n",
    "        ror_ci_lower, ror_ci_upper = disproportionaly_analysis.confidence_interval(ror, sd_ror)\n",
    "        \n",
    "        chi_square = disproportionaly_analysis.chi_square_yates(contingency_table)\n",
    "        IC = disproportionaly_analysis.information_component(contingency_table)\n",
    "        IC_ci_lower, IC_ci_upper = disproportionaly_analysis.confidence_interval_information_component(contingency_table, IC)\n",
    "        \n",
    "        # Determine if the reaction meets criteria for a signal\n",
    "        method_1 = rrr > 2 and prr > 2 and ror > 2 and chi_square > 3.841\n",
    "        method_2 = IC_ci_lower > 0 and ror_ci_lower > 1 and prr_ci_lower > 1 and ror_ci_lower > 1\n",
    "        \n",
    "        \n",
    "        if method_1 or method_2:\n",
    "            result_dict = {\n",
    "                'vaccine': result.get(\"vaccine\"),\n",
    "                'manufacturer': result.get(\"manufacturer\"),\n",
    "                'symptom': result.get(\"symptom\"),\n",
    "                'status': \"Detected\",\n",
    "                'DE': DE,\n",
    "                'dE': dE,\n",
    "                'De': De,\n",
    "                'de': de,\n",
    "                'rrr': [rrr, [rrr_ci_lower, rrr_ci_upper]],\n",
    "                'prr': [prr, [prr_ci_lower, prr_ci_upper]],\n",
    "                'ror': [ror, [ror_ci_lower, ror_ci_upper]],\n",
    "                'chi_square': chi_square,\n",
    "                'IC': [IC, [IC_ci_lower, IC_ci_upper]],\n",
    "                'Chi-square_Test': method_1,\n",
    "                'CI_Test': method_2  \n",
    "            }\n",
    "            signals_Novavax.append(result_dict)\n",
    "        else:\n",
    "            result_dict = {\n",
    "                'vaccine': result.get(\"vaccine\"),\n",
    "                'manufacturer': result.get(\"manufacturer\"),\n",
    "                'symptom': result.get(\"symptom\"),\n",
    "                'status': \"Undetected\",\n",
    "                'DE': DE,\n",
    "                'dE': dE,\n",
    "                'De': De,\n",
    "                'de': de,\n",
    "                'rrr': [rrr, [rrr_ci_lower, rrr_ci_upper]],\n",
    "                'prr': [prr, [prr_ci_lower, prr_ci_upper]],\n",
    "                'ror': [ror, [ror_ci_lower, ror_ci_upper]],\n",
    "                'chi_square': chi_square,\n",
    "                'IC': [IC, [IC_ci_lower, IC_ci_upper]],\n",
    "                'Chi-square_Test': method_1,\n",
    "                'CI_Test': method_2  \n",
    "            }\n",
    "            signals_Novavax.append(result_dict)\n"
   ],
   "id": "91d6d99ab292c0ce",
   "outputs": [
    {
     "name": "stderr",
     "output_type": "stream",
     "text": [
      "100%|██████████| 1/1 [00:00<00:00, 11335.96it/s]\n",
      "100%|██████████| 1/1 [00:00<00:00, 12945.38it/s]\n",
      "100%|██████████| 1/1 [00:00<00:00, 3401.71it/s]\n",
      "100%|██████████| 1/1 [00:00<00:00, 8405.42it/s]\n",
      "100%|██████████| 1/1 [00:00<00:00, 6132.02it/s]\n",
      "100%|██████████| 1/1 [00:00<00:00, 7543.71it/s]\n",
      "100%|██████████| 1/1 [00:00<00:00, 6978.88it/s]\n",
      "100%|██████████| 1/1 [00:00<00:00, 1540.32it/s]\n",
      "100%|██████████| 1/1 [00:00<00:00, 5966.29it/s]\n",
      "100%|██████████| 1/1 [00:00<00:00, 5849.80it/s]\n",
      "100%|██████████| 1/1 [00:00<00:00, 5983.32it/s]\n",
      "100%|██████████| 1/1 [00:00<00:00, 8371.86it/s]\n",
      "100%|██████████| 1/1 [00:00<00:00, 6150.01it/s]\n",
      "100%|██████████| 1/1 [00:00<00:00, 6087.52it/s]\n",
      "100%|██████████| 1/1 [00:00<00:00, 6017.65it/s]\n",
      "100%|██████████| 1/1 [00:00<00:00, 6096.37it/s]\n",
      "100%|██████████| 1/1 [00:00<00:00, 6087.52it/s]\n",
      "100%|██████████| 1/1 [00:00<00:00, 2898.62it/s]\n",
      "100%|██████████| 1/1 [00:00<00:00, 6168.09it/s]\n",
      "100%|██████████| 1/1 [00:00<00:00, 12905.55it/s]\n",
      "100%|██████████| 1/1 [00:00<00:00, 13189.64it/s]\n",
      "100%|██████████| 1/1 [00:00<00:00, 13357.66it/s]\n",
      "100%|██████████| 1/1 [00:00<00:00, 13066.37it/s]\n"
     ]
    }
   ],
   "execution_count": 277
  },
  {
   "metadata": {
    "ExecuteTime": {
     "end_time": "2024-05-05T14:14:42.258216Z",
     "start_time": "2024-05-05T14:14:42.230410Z"
    }
   },
   "cell_type": "code",
   "source": "signals_Novavax",
   "id": "330bed2b1edea8d6",
   "outputs": [
    {
     "data": {
      "text/plain": [
       "[{'vaccine': 'COVID19',\n",
       "  'manufacturer': 'NOVAVAX',\n",
       "  'symptom': 'Headache',\n",
       "  'status': 'Undetected',\n",
       "  'DE': 47,\n",
       "  'dE': 299984,\n",
       "  'De': 387,\n",
       "  'de': 2264597,\n",
       "  'rrr': [0.9258314044875885, [0.7067661232458569, 1.2127969371238332]],\n",
       "  'prr': [0.9258197841212054, [0.7067572501345857, 1.2127817189098693]],\n",
       "  'ror': [0.9168108173348918, [0.6773028879494799, 1.2410135697590121]],\n",
       "  'chi_square': 0.23787410583975377,\n",
       "  'IC': [-0.11117859476557136, [-0.15932968886490653, -0.06302750066623619]],\n",
       "  'Chi-square_Test': False,\n",
       "  'CI_Test': False},\n",
       " {'vaccine': 'COVID19',\n",
       "  'manufacturer': 'NOVAVAX',\n",
       "  'symptom': 'Nausea',\n",
       "  'status': 'Undetected',\n",
       "  'DE': 36,\n",
       "  'dE': 171313,\n",
       "  'De': 398,\n",
       "  'de': 2393268,\n",
       "  'rrr': [1.241712651945192, [0.9081307897201052, 1.6978284708042712]],\n",
       "  'prr': [1.241763445845655, [0.9081679315425532, 1.697897934822888]],\n",
       "  'ror': [1.263631496223654, [0.8983762932749257, 1.7773894638599732]],\n",
       "  'chi_square': 1.5656146052053002,\n",
       "  'IC': [0.3123313542534876, [0.251283693520381, 0.37337901498659426]],\n",
       "  'Chi-square_Test': False,\n",
       "  'CI_Test': False},\n",
       " {'vaccine': 'COVID19',\n",
       "  'manufacturer': 'NOVAVAX',\n",
       "  'symptom': 'Vomiting',\n",
       "  'status': 'Undetected',\n",
       "  'DE': 11,\n",
       "  'dE': 98167,\n",
       "  'De': 423,\n",
       "  'de': 2466414,\n",
       "  'rrr': [0.6621840017280753, [0.3694761526995355, 1.1867820126978357]],\n",
       "  'prr': [0.6621461481114732, [0.369455030360897, 1.1867141747415901]],\n",
       "  'ror': [0.6533603505446319, [0.35906305071403327, 1.1888712771055407]],\n",
       "  'chi_square': 1.6358336960564717,\n",
       "  'IC': [-0.594695939039763, [-0.7729468063114685, -0.41644507176805756]],\n",
       "  'Chi-square_Test': False,\n",
       "  'CI_Test': False},\n",
       " {'vaccine': 'COVID19',\n",
       "  'manufacturer': 'NOVAVAX',\n",
       "  'symptom': 'Myalgia',\n",
       "  'status': 'Undetected',\n",
       "  'DE': 23,\n",
       "  'dE': 131834,\n",
       "  'De': 411,\n",
       "  'de': 2432747,\n",
       "  'rrr': [1.0309196679310002, [0.6926052933398289, 1.5344892277707443]],\n",
       "  'prr': [1.03092506223264, [0.6926089132019354, 1.5344972663230851]],\n",
       "  'ror': [1.0326556618223013, [0.6785000779323093, 1.571669260736684]],\n",
       "  'chi_square': 0.0017028990947433498,\n",
       "  'IC': [0.043931918357944154, [-0.04758986037473296, 0.13545369709062127]],\n",
       "  'Chi-square_Test': False,\n",
       "  'CI_Test': False},\n",
       " {'vaccine': 'COVID19',\n",
       "  'manufacturer': 'NOVAVAX',\n",
       "  'symptom': 'Arthralgia',\n",
       "  'status': 'Undetected',\n",
       "  'DE': 13,\n",
       "  'dE': 116615,\n",
       "  'De': 421,\n",
       "  'de': 2447966,\n",
       "  'rrr': [0.6587804518964469, [0.38566080429399086, 1.1253196564669636]],\n",
       "  'prr': [0.6587424134440577, [0.38563853473346343, 1.1252546833008361]],\n",
       "  'ror': [0.6482047682534943, [0.37324686274766705, 1.1257145431671614]],\n",
       "  'chi_square': 2.0631713357040757,\n",
       "  'IC': [-0.6021303485214422, [-0.7555996696299443, -0.4486610274129401]],\n",
       "  'Chi-square_Test': False,\n",
       "  'CI_Test': False},\n",
       " {'symptom': 'Injection site tenderness', 'status': 'Not found'},\n",
       " {'vaccine': 'COVID19',\n",
       "  'manufacturer': 'NOVAVAX',\n",
       "  'symptom': 'Injection site pain',\n",
       "  'status': 'Undetected',\n",
       "  'DE': 24,\n",
       "  'dE': 166594,\n",
       "  'De': 410,\n",
       "  'de': 2397987,\n",
       "  'rrr': [0.8513134683253777, [0.5770269059187814, 1.2559806378494818]],\n",
       "  'prr': [0.8512920481256095, [0.577012384864249, 1.255949040630023]],\n",
       "  'ror': [0.842587192406133, [0.5582576737267786, 1.271730260450148]],\n",
       "  'chi_square': 0.5171072220536742,\n",
       "  'IC': [-0.23223763991251187, [-0.3202871785561604, -0.14418810126886333]],\n",
       "  'Chi-square_Test': False,\n",
       "  'CI_Test': False},\n",
       " {'vaccine': 'COVID19',\n",
       "  'manufacturer': 'NOVAVAX',\n",
       "  'symptom': 'Fatigue',\n",
       "  'status': 'Undetected',\n",
       "  'DE': 48,\n",
       "  'dE': 244799,\n",
       "  'De': 386,\n",
       "  'de': 2319782,\n",
       "  'rrr': [1.1586349635930828, [0.8872903017310501, 1.5129602749419602]],\n",
       "  'prr': [1.1586660686149681, [0.8873141174682401, 1.5130009002789464]],\n",
       "  'ror': [1.1783965641940315, [0.8729732609784245, 1.5906769709623647]],\n",
       "  'chi_square': 0.9840205114192996,\n",
       "  'IC': [0.2124261063223097, [0.16515838416899253, 0.2596938284756269]],\n",
       "  'Chi-square_Test': False,\n",
       "  'CI_Test': False},\n",
       " {'vaccine': 'COVID19',\n",
       "  'manufacturer': 'NOVAVAX',\n",
       "  'symptom': 'Malaise',\n",
       "  'status': 'Undetected',\n",
       "  'DE': 16,\n",
       "  'dE': 88938,\n",
       "  'De': 418,\n",
       "  'de': 2475643,\n",
       "  'rrr': [1.0630524200930653, [0.6571901655848893, 1.7195638447510373]],\n",
       "  'prr': [1.0630637632615814, [0.6571971729154812, 1.719582206579596]],\n",
       "  'ror': [1.0654776872141778, [0.6466749523642163, 1.7555074582692183]],\n",
       "  'chi_square': 0.013878196481719547,\n",
       "  'IC': [0.0882127392431274, [-0.03902640056494584, 0.21545187905120067]],\n",
       "  'Chi-square_Test': False,\n",
       "  'CI_Test': False},\n",
       " {'symptom': 'Injection site redness', 'status': 'Not found'},\n",
       " {'vaccine': 'COVID19',\n",
       "  'manufacturer': 'NOVAVAX',\n",
       "  'symptom': 'Injection site swelling',\n",
       "  'status': 'Undetected',\n",
       "  'DE': 15,\n",
       "  'dE': 101977,\n",
       "  'De': 419,\n",
       "  'de': 2462604,\n",
       "  'rrr': [0.8692112338800947, [0.5286371757625309, 1.4291998439450417]],\n",
       "  'prr': [0.8691919959000425, [0.528625472791419, 1.429168219509537]],\n",
       "  'ror': [0.8645091317914521, [0.5164998948026388, 1.4470013381830256]],\n",
       "  'chi_square': 0.18633090262701305,\n",
       "  'IC': [-0.20222127453479072, [-0.33710951218265856, -0.06733303688692288]],\n",
       "  'Chi-square_Test': False,\n",
       "  'CI_Test': False},\n",
       " {'vaccine': 'COVID19',\n",
       "  'manufacturer': 'NOVAVAX',\n",
       "  'symptom': 'Pyrexia',\n",
       "  'status': 'Undetected',\n",
       "  'DE': 35,\n",
       "  'dE': 338681,\n",
       "  'De': 399,\n",
       "  'de': 2225900,\n",
       "  'rrr': [0.6107064572889878, [0.4444955815254004, 0.839068806251235]],\n",
       "  'prr': [0.6106662268834, [0.4444662996506635, 0.839013533644972]],\n",
       "  'ror': [0.5765141415222946, [0.408076709647085, 0.8144756794932724]],\n",
       "  'chi_square': 9.564948437599707,\n",
       "  'IC': [-0.7114489953267165, [-0.7740532427529586, -0.6488447479004743]],\n",
       "  'Chi-square_Test': False,\n",
       "  'CI_Test': False},\n",
       " {'vaccine': 'COVID19',\n",
       "  'manufacturer': 'NOVAVAX',\n",
       "  'symptom': 'Pain in extremity',\n",
       "  'status': 'Undetected',\n",
       "  'DE': 28,\n",
       "  'dE': 165337,\n",
       "  'De': 406,\n",
       "  'de': 2399244,\n",
       "  'rrr': [1.000724692103392, [0.6993784042156808, 1.4319142589318394]],\n",
       "  'prr': [1.0007248148307846, [0.6993784863939964, 1.4319144418948269]],\n",
       "  'ror': [1.0007748020604939, [0.6823430354349832, 1.4678104009675248]],\n",
       "  'chi_square': 0.008793337310498613,\n",
       "  'IC': [0.0010451310503490512, [-0.07552109165449719, 0.07761135375519529]],\n",
       "  'Chi-square_Test': False,\n",
       "  'CI_Test': False},\n",
       " {'vaccine': 'COVID19',\n",
       "  'manufacturer': 'NOVAVAX',\n",
       "  'symptom': 'Injection site pruritus',\n",
       "  'status': 'Undetected',\n",
       "  'DE': 9,\n",
       "  'dE': 41917,\n",
       "  'De': 425,\n",
       "  'de': 2522664,\n",
       "  'rrr': [1.268700932584534, [0.6645801028303998, 2.4219835193465533]],\n",
       "  'prr': [1.268758625367731, [0.6646103139009849, 2.422093692763303]],\n",
       "  'ror': [1.2744499844931652, [0.6585132763402058, 2.4664996459927275]],\n",
       "  'chi_square': 0.2833989746608173,\n",
       "  'IC': [0.3433520266833554, [0.130383246979049, 0.5563208063876618]],\n",
       "  'Chi-square_Test': False,\n",
       "  'CI_Test': False},\n",
       " {'vaccine': 'COVID19',\n",
       "  'manufacturer': 'NOVAVAX',\n",
       "  'symptom': 'Chills',\n",
       "  'status': 'Undetected',\n",
       "  'DE': 17,\n",
       "  'dE': 180021,\n",
       "  'De': 417,\n",
       "  'de': 2384560,\n",
       "  'rrr': [0.5580651739522681, [0.35019420843447907, 0.889325782315571]],\n",
       "  'prr': [0.5580234405320403, [0.35016801942985376, 0.8892592781323188]],\n",
       "  'ror': [0.5400052114889821, [0.3324841881905911, 0.8770511163920436]],\n",
       "  'chi_square': 5.933152260496839,\n",
       "  'IC': [-0.841494477049618, [-0.9619199227564569, -0.7210690313427791]],\n",
       "  'Chi-square_Test': False,\n",
       "  'CI_Test': False},\n",
       " {'vaccine': 'COVID19',\n",
       "  'manufacturer': 'NOVAVAX',\n",
       "  'symptom': 'Injection site warmth',\n",
       "  'status': 'Undetected',\n",
       "  'DE': 4,\n",
       "  'dE': 57920,\n",
       "  'De': 430,\n",
       "  'de': 2506661,\n",
       "  'rrr': [0.40813291976105986, [0.15386664134323857, 1.0825769558529945]],\n",
       "  'prr': [0.4080920449627008, [0.15385123114992266, 1.0824685374116536]],\n",
       "  'ror': [0.40258592445072594, [0.15040422480292742, 1.0775988957638045]],\n",
       "  'chi_square': 2.933635014869462,\n",
       "  'IC': [-1.2928890126652988, [-1.713980898779053, -0.8717971265515445]],\n",
       "  'Chi-square_Test': False,\n",
       "  'CI_Test': False},\n",
       " {'vaccine': 'COVID19',\n",
       "  'manufacturer': 'NOVAVAX',\n",
       "  'symptom': 'Lymphadenopathy',\n",
       "  'status': 'Undetected',\n",
       "  'DE': 8,\n",
       "  'dE': 53563,\n",
       "  'De': 426,\n",
       "  'de': 2511018,\n",
       "  'rrr': [0.8825928671945504, [0.4441954705017355, 1.7536652689024974]],\n",
       "  'prr': [0.8825753316371239, [0.4441866417417836, 1.753630440032898]],\n",
       "  'ror': [0.8803701735458023, [0.43740039763346944, 1.771950018021108]],\n",
       "  'chi_square': 0.0358739759223481,\n",
       "  'IC': [-0.18018000688077282, [-0.4162643087029353, 0.05590429494138968]],\n",
       "  'Chi-square_Test': False,\n",
       "  'CI_Test': False},\n",
       " {'symptom': 'Anaphylaxis', 'status': 'Not found'},\n",
       " {'vaccine': 'COVID19',\n",
       "  'manufacturer': 'NOVAVAX',\n",
       "  'symptom': 'Paraesthesia',\n",
       "  'status': 'Detected',\n",
       "  'DE': 22,\n",
       "  'dE': 65293,\n",
       "  'De': 412,\n",
       "  'de': 2499288,\n",
       "  'rrr': [1.990718852381811, [1.3248258445834757, 2.9913075484078484]],\n",
       "  'prr': [1.9910526678712568, [1.3250479673717663, 2.9918092203865068]],\n",
       "  'ror': [2.0439729559614697, [1.331012504553672, 3.1388326033066205]],\n",
       "  'chi_square': 10.138847278446539,\n",
       "  'IC': [0.9932894847876085, [0.8979810303359395, 1.0885979392392775]],\n",
       "  'Chi-square_Test': False,\n",
       "  'CI_Test': True},\n",
       " {'vaccine': 'COVID19',\n",
       "  'manufacturer': 'NOVAVAX',\n",
       "  'symptom': 'Hypoaesthesia',\n",
       "  'status': 'Detected',\n",
       "  'DE': 18,\n",
       "  'dE': 55986,\n",
       "  'De': 416,\n",
       "  'de': 2508595,\n",
       "  'rrr': [1.899562720503506, [1.2083487021590122, 2.9861732152974523]],\n",
       "  'prr': [1.8998519379680339, [1.2085326498789504, 2.986627946346691]],\n",
       "  'ror': [1.938787839130112, [1.209398770826513, 3.1080718583746765]],\n",
       "  'chi_square': 6.947657695435504,\n",
       "  'IC': [0.9256673482574725, [0.811302171072612, 1.040032525442333]],\n",
       "  'Chi-square_Test': False,\n",
       "  'CI_Test': True},\n",
       " {'symptom': 'Myocarditis', 'status': 'Not found'},\n",
       " {'vaccine': 'COVID19',\n",
       "  'manufacturer': 'NOVAVAX',\n",
       "  'symptom': 'Pericarditis',\n",
       "  'status': 'Detected',\n",
       "  'DE': 6,\n",
       "  'dE': 12146,\n",
       "  'De': 428,\n",
       "  'de': 2552435,\n",
       "  'rrr': [2.9181235077649315, [1.318014621491356, 6.460812093977331]],\n",
       "  'prr': [2.91907104119541, [1.3184424599844327, 6.462910595010925]],\n",
       "  'ror': [2.9459739062588968, [1.315854823720328, 6.595531740971821]],\n",
       "  'chi_square': 5.796760733111976,\n",
       "  'IC': [1.5450409457195324, [1.242749051967872, 1.8473328394711928]],\n",
       "  'Chi-square_Test': True,\n",
       "  'CI_Test': True},\n",
       " {'vaccine': 'COVID19',\n",
       "  'manufacturer': 'NOVAVAX',\n",
       "  'symptom': 'Hypertension',\n",
       "  'status': 'Undetected',\n",
       "  'DE': 4,\n",
       "  'dE': 21630,\n",
       "  'De': 430,\n",
       "  'de': 2542951,\n",
       "  'rrr': [1.0927563670259606, [0.4119470809196029, 2.898713288634333]],\n",
       "  'prr': [1.092773520306964, [0.4119535404803014, 2.8987588389015824]],\n",
       "  'ror': [1.0936365297981916, [0.408554426544405, 2.927494555438467]],\n",
       "  'chi_square': 0.007095673592779673,\n",
       "  'IC': [0.12797178411764987, [-0.2931803736258332, 0.5491239418611329]],\n",
       "  'Chi-square_Test': False,\n",
       "  'CI_Test': False},\n",
       " {'vaccine': 'COVID19',\n",
       "  'manufacturer': 'NOVAVAX',\n",
       "  'symptom': 'Rash',\n",
       "  'status': 'Undetected',\n",
       "  'DE': 15,\n",
       "  'dE': 116737,\n",
       "  'De': 419,\n",
       "  'de': 2447844,\n",
       "  'rrr': [0.7593239701752315, [0.46180811440962705, 1.2485118249162066]],\n",
       "  'prr': [0.7592930447578627, [0.46178930424358466, 1.2484609810571963]],\n",
       "  'ror': [0.7506758506561155, [0.448492413529344, 1.2564632438791812]],\n",
       "  'chi_square': 0.9601092629037987,\n",
       "  'IC': [-0.3972125433130301, [-0.532098201096667, -0.2623268855293932]],\n",
       "  'Chi-square_Test': False,\n",
       "  'CI_Test': False},\n",
       " {'vaccine': 'COVID19',\n",
       "  'manufacturer': 'NOVAVAX',\n",
       "  'symptom': 'Erythema',\n",
       "  'status': 'Undetected',\n",
       "  'DE': 8,\n",
       "  'dE': 92082,\n",
       "  'De': 426,\n",
       "  'de': 2472499,\n",
       "  'rrr': [0.5134258061513657, [0.2584049879385921, 1.020127593221318]],\n",
       "  'prr': [0.5133835330301173, [0.2583837114252059, 1.0200436031076163]],\n",
       "  'ror': [0.5042451956222322, [0.2505329939541305, 1.0148891501079325]],\n",
       "  'chi_square': 3.338904590522679,\n",
       "  'IC': [-0.9617722834482535, [-1.1978403346905164, -0.7257042322059907]],\n",
       "  'Chi-square_Test': False,\n",
       "  'CI_Test': False},\n",
       " {'vaccine': 'COVID19',\n",
       "  'manufacturer': 'NOVAVAX',\n",
       "  'symptom': 'Pruritus',\n",
       "  'status': 'Undetected',\n",
       "  'DE': 15,\n",
       "  'dE': 92367,\n",
       "  'De': 419,\n",
       "  'de': 2472214,\n",
       "  'rrr': [0.9596305791809944, [0.5836261438733849, 1.5778779929005955]],\n",
       "  'prr': [0.959624023362225, [0.5836221529550732, 1.5778672237700213]],\n",
       "  'ror': [0.958178582671135, [0.5724604159696965, 1.6037898353801032]],\n",
       "  'chi_square': 0.0011393541884695787,\n",
       "  'IC': [-0.05944896421530019, [-0.19433932466702908, 0.0754413962364287]],\n",
       "  'Chi-square_Test': False,\n",
       "  'CI_Test': False},\n",
       " {'vaccine': 'COVID19',\n",
       "  'manufacturer': 'NOVAVAX',\n",
       "  'symptom': 'Urticaria',\n",
       "  'status': 'Undetected',\n",
       "  'DE': 7,\n",
       "  'dE': 71471,\n",
       "  'De': 427,\n",
       "  'de': 2493110,\n",
       "  'rrr': [0.5787964083692795, [0.2775784052714148, 1.2068852474802974]],\n",
       "  'prr': [0.5787551549218474, [0.2775586200521756, 1.2067992314043285]],\n",
       "  'ror': [0.571849501723845, [0.27096263518068625, 1.2068522008717113]],\n",
       "  'chi_square': 1.7954329350068907,\n",
       "  'IC': [-0.7888721254087165, [-1.0538545852800099, -0.5238896655374232]],\n",
       "  'Chi-square_Test': False,\n",
       "  'CI_Test': False}]"
      ]
     },
     "execution_count": 278,
     "metadata": {},
     "output_type": "execute_result"
    }
   ],
   "execution_count": 278
  },
  {
   "metadata": {
    "ExecuteTime": {
     "end_time": "2024-05-05T11:21:24.972276Z",
     "start_time": "2024-05-05T11:21:24.963380Z"
    }
   },
   "cell_type": "code",
   "source": [
    "count_method_1_true = sum(entry['Chi-square_Test'] for entry in detected_signals_Novavax_product_info)\n",
    "count_method_2_true = sum(entry['CI_Test'] for entry in detected_signals_Novavax_product_info)\n",
    "count_both_true = sum(entry['Chi-square_Test'] and entry['CI_Test'] for entry in detected_signals_Novavax_product_info)\n",
    "\n",
    "print(\"Number of entries where both method_1 and method_2 are true:\", count_both_true)\n",
    "print(\"Number of entries where method_1 is true:\", count_method_1_true)\n",
    "print(\"Number of entries where method_2 is true:\", count_method_2_true)"
   ],
   "id": "591efdb3760305c3",
   "outputs": [
    {
     "name": "stdout",
     "output_type": "stream",
     "text": [
      "Number of entries where both method_1 and method_2 are true: 1\n",
      "Number of entries where method_1 is true: 1\n",
      "Number of entries where method_2 is true: 3\n"
     ]
    }
   ],
   "execution_count": 256
  },
  {
   "metadata": {
    "ExecuteTime": {
     "end_time": "2024-05-05T14:15:21.167810Z",
     "start_time": "2024-05-05T14:15:21.158557Z"
    }
   },
   "cell_type": "code",
   "source": [
    "file_name_filtered = \"Signals_Novavax.json\"\n",
    "with open(file_name_filtered, 'w') as f:\n",
    "    json.dump(signals_Novavax, f)"
   ],
   "id": "6a3ed3f174a6a0b0",
   "outputs": [],
   "execution_count": 280
  },
  {
   "metadata": {
    "ExecuteTime": {
     "end_time": "2024-05-05T14:14:46.651466Z",
     "start_time": "2024-05-05T14:14:46.641814Z"
    }
   },
   "cell_type": "code",
   "source": [
    "detected_count = 0\n",
    "undetected_count = 0\n",
    "not_found_count = 0\n",
    "\n",
    "for result in signals_Novavax:\n",
    "    status = result['status']\n",
    "    if status == 'Detected':\n",
    "        detected_count += 1\n",
    "    elif status == 'Undetected':\n",
    "        undetected_count += 1\n",
    "    elif status == 'Not found':\n",
    "        not_found_count += 1\n",
    "\n",
    "print(\"Detected count:\", detected_count)\n",
    "print(\"Undetected count:\", undetected_count)\n",
    "print(\"Not found count:\", not_found_count)\n"
   ],
   "id": "d1379046b0e86e9f",
   "outputs": [
    {
     "name": "stdout",
     "output_type": "stream",
     "text": [
      "Detected count: 3\n",
      "Undetected count: 20\n",
      "Not found count: 4\n"
     ]
    }
   ],
   "execution_count": 279
  },
  {
   "metadata": {},
   "cell_type": "code",
   "outputs": [],
   "execution_count": null,
   "source": "",
   "id": "6b2963a6822a8b81"
  }
 ],
 "metadata": {
  "kernelspec": {
   "display_name": "Python 3",
   "language": "python",
   "name": "python3"
  },
  "language_info": {
   "codemirror_mode": {
    "name": "ipython",
    "version": 2
   },
   "file_extension": ".py",
   "mimetype": "text/x-python",
   "name": "python",
   "nbconvert_exporter": "python",
   "pygments_lexer": "ipython2",
   "version": "2.7.6"
  }
 },
 "nbformat": 4,
 "nbformat_minor": 5
}

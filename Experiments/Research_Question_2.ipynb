{
 "cells": [
  {
   "cell_type": "code",
   "id": "initial_id",
   "metadata": {
    "collapsed": true,
    "ExecuteTime": {
     "end_time": "2024-04-30T09:00:51.922604Z",
     "start_time": "2024-04-30T09:00:51.908128Z"
    }
   },
   "source": [
    "from pymongo import MongoClient\n",
    "import sys\n",
    "sys.path.append('../statistical_calculations')  # Adds the statistical_calculations directory to the path\n",
    "import disproportionaly_analysis\n",
    "from tqdm import tqdm\n",
    "import json\n",
    "from datetime import datetime, timedelta \n",
    "from calendar import monthrange\n",
    "\n",
    "# Connect to your MongoDB instance\n",
    "client = MongoClient('mongodb://localhost:27017/')\n",
    "db = client['vaers']  \n",
    "col = db['reports']"
   ],
   "outputs": [],
   "execution_count": 100
  },
  {
   "metadata": {
    "ExecuteTime": {
     "end_time": "2024-04-30T09:00:58.082377Z",
     "start_time": "2024-04-30T09:00:58.071814Z"
    }
   },
   "cell_type": "code",
   "source": [
    "end_date = datetime(2020, 11, 30)\n",
    "\n",
    "# Define a function to reduce the date range by a month\n",
    "def reduce_date_range_by_month(start_date):\n",
    "    # Get the year and month of the start date\n",
    "    year = start_date.year\n",
    "    month = start_date.month\n",
    "    \n",
    "    # Calculate the new year and month\n",
    "    if month == 1:  # If the current month is January\n",
    "        new_year = year - 1\n",
    "        new_month = 12  # December of the previous year\n",
    "    else:\n",
    "        new_year = year\n",
    "        new_month = month - 1\n",
    "    \n",
    "    # Construct the new start date\n",
    "    _, last_day_of_previous_month = monthrange(new_year, new_month)\n",
    "    new_start_date = datetime(new_year, new_month, last_day_of_previous_month)\n",
    "    \n",
    "    return new_start_date\n",
    "\n",
    "def reduce_date_range_by_day(start_date):\n",
    "    new_start_date = start_date - timedelta(days=1)  # Subtract one day from the start_date\n",
    "    return new_start_date"
   ],
   "id": "c282a57790cd8c8d",
   "outputs": [],
   "execution_count": 101
  },
  {
   "metadata": {},
   "cell_type": "markdown",
   "source": "### PFIZER/BIONTECH",
   "id": "8875b9f8a9d6c10"
  },
  {
   "metadata": {
    "ExecuteTime": {
     "end_time": "2024-05-05T14:44:15.608838Z",
     "start_time": "2024-05-05T14:44:15.602698Z"
    }
   },
   "cell_type": "code",
   "source": [
    "file_name_filtered = \"Signals_Pfizer.json\"\n",
    "with open(file_name_filtered, 'r') as f:\n",
    "    Signals_Pfizer = json.load(f)"
   ],
   "id": "2b30b944d22daa63",
   "outputs": [],
   "execution_count": 143
  },
  {
   "metadata": {
    "ExecuteTime": {
     "end_time": "2024-05-05T14:44:17.965437Z",
     "start_time": "2024-05-05T14:44:17.959055Z"
    }
   },
   "cell_type": "code",
   "source": "filtered_signals_Pfizer = [signal for signal in Signals_Pfizer if signal[\"status\"] != \"Not found\"]",
   "id": "7f994e517b8d8c27",
   "outputs": [],
   "execution_count": 144
  },
  {
   "metadata": {
    "ExecuteTime": {
     "end_time": "2024-05-05T14:44:31.180118Z",
     "start_time": "2024-05-05T14:44:31.173526Z"
    }
   },
   "cell_type": "code",
   "source": "len(filtered_signals_Pfizer)",
   "id": "16bf5a032ca855eb",
   "outputs": [
    {
     "data": {
      "text/plain": [
       "34"
      ]
     },
     "execution_count": 145,
     "metadata": {},
     "output_type": "execute_result"
    }
   ],
   "execution_count": 145
  },
  {
   "metadata": {
    "ExecuteTime": {
     "end_time": "2024-05-05T18:08:17.365304Z",
     "start_time": "2024-05-05T14:44:54.351017Z"
    }
   },
   "cell_type": "code",
   "source": [
    "from datetime import datetime\n",
    "\n",
    "# Loop until a signal is not found anymore\n",
    "signals_dict_Pfizer = []\n",
    "i= 0\n",
    "for reaction in tqdm(filtered_signals_Pfizer):\n",
    "    i+=1\n",
    "    symptom = reaction['symptom']\n",
    "    start_date = datetime(2023, 12, 31)\n",
    "    first_found = datetime(2000, 1, 1)\n",
    "    while True:\n",
    "        N_query = {\"RECVDATE\": {\"$lte\": start_date}}\n",
    "        N = col.count_documents(N_query)\n",
    "        \n",
    "        D_query = {\n",
    "            \"RECVDATE\": {\"$lte\": start_date},\n",
    "            \"vax_data\": {\n",
    "                \"$elemMatch\": {\n",
    "                    \"VAX_MANU\": reaction[\"manufacturer\"],\n",
    "                    \"VAX_TYPE\": reaction[\"vaccine\"]\n",
    "                }\n",
    "            }\n",
    "        }\n",
    "        D = col.count_documents(D_query)\n",
    "        \n",
    "        E_query = {\n",
    "            \"RECVDATE\": {\"$lte\": start_date},\n",
    "            \"symptoms\": {\n",
    "                \"$elemMatch\": {\n",
    "                    \"$in\": [reaction[\"symptom\"]]\n",
    "                }\n",
    "            }\n",
    "        }\n",
    "        E = col.count_documents(E_query)\n",
    "        \n",
    "        DE_query = {'$and': [D_query, E_query]}\n",
    "        DE = col.count_documents(DE_query)\n",
    "        if DE >= 3: \n",
    "        \n",
    "            De = D - DE\n",
    "            dE = E - DE\n",
    "            de = N - (DE + De + dE)\n",
    "            \n",
    "                \n",
    "            # Ensure all necessary data is available\n",
    "            if None in [DE, dE, De, de]:\n",
    "                continue\n",
    "            \n",
    "            contingency_table = [\n",
    "                [DE, dE],\n",
    "                [De, de]\n",
    "            ]\n",
    "            #print(contingency_table)\n",
    "            # Compute statistical measures\n",
    "            rrr, sd_rrr = disproportionaly_analysis.relative_reporting_ratio(contingency_table), disproportionaly_analysis.sd_rrr(contingency_table)\n",
    "            rrr_ci_lower, rrr_ci_upper = disproportionaly_analysis.confidence_interval(rrr, sd_rrr)\n",
    "            \n",
    "            prr, sd_prr = disproportionaly_analysis.proportional_reporting_ratio(contingency_table), disproportionaly_analysis.sd_prr(contingency_table)\n",
    "            prr_ci_lower, prr_ci_upper = disproportionaly_analysis.confidence_interval(prr, sd_prr)\n",
    "            \n",
    "            ror, sd_ror = disproportionaly_analysis.reporting_odds_ratio(contingency_table), disproportionaly_analysis.sd_ror(contingency_table)\n",
    "            ror_ci_lower, ror_ci_upper = disproportionaly_analysis.confidence_interval(ror, sd_ror)\n",
    "            \n",
    "            chi_square = disproportionaly_analysis.chi_square_yates(contingency_table)\n",
    "            IC = disproportionaly_analysis.information_component(contingency_table)\n",
    "            IC_ci_lower, IC_ci_upper = disproportionaly_analysis.confidence_interval_information_component(contingency_table, IC)\n",
    "            \n",
    "            # Determine if the reaction meets criteria for a signal\n",
    "            method_1 = rrr > 2 and prr > 2 and ror > 2 and chi_square > 3.841\n",
    "            method_2 = IC_ci_lower > 0 and ror_ci_lower > 1 and prr_ci_lower > 1 and rrr_ci_lower > 1\n",
    "                \n",
    "            if method_1 or method_2:\n",
    "                #print(f\"Signal found for {start_date}\")\n",
    "                first_found = start_date\n",
    "                start_date = reduce_date_range_by_month(start_date)\n",
    "                #print(f\"Reducing by a month..., checking {start_date}\")\n",
    "            else:\n",
    "                #print(\"Signal not found\")\n",
    "                start_date = reduce_date_range_by_month(start_date)\n",
    "                #print(f\"Reducing by a month..., checking {start_date}\")# Exit the loop if no signal is found anymore\n",
    "            if start_date < end_date:\n",
    "                break\n",
    "        else:\n",
    "            break\n",
    "            \n",
    "    if first_found == datetime(2000, 1, 1):\n",
    "        print(f\"Saved {symptom} as first_found = None because it was not detected by the end of an month\")\n",
    "        signals_dict_Pfizer.append({\"manufacturer\": reaction[\"manufacturer\"], \"symptom\": reaction[\"symptom\"], \"first_found\": \"NaN\"})\n",
    "    else:\n",
    "            \n",
    "        print(f\"found month {first_found} for symptom {i} {symptom}, checking day\")\n",
    "        start_date = first_found\n",
    "        while True:\n",
    "            #print(f\"checking day {start_date}\")\n",
    "                    #print(f\"checking symptom {reaction['symptom']}\")\n",
    "            N_query = {\"RECVDATE\": {\"$lte\": start_date}}\n",
    "            N = col.count_documents(N_query)\n",
    "            \n",
    "            D_query = {\n",
    "                \"RECVDATE\": {\"$lte\": start_date},\n",
    "                \"vax_data\": {\n",
    "                    \"$elemMatch\": {\n",
    "                        \"VAX_MANU\": reaction[\"manufacturer\"],\n",
    "                        \"VAX_TYPE\": reaction[\"vaccine\"]\n",
    "                    }\n",
    "                }\n",
    "            }\n",
    "            D = col.count_documents(D_query)\n",
    "            \n",
    "            E_query = {\n",
    "                \"RECVDATE\": {\"$lte\": start_date},\n",
    "                \"symptoms\": {\n",
    "                    \"$elemMatch\": {\n",
    "                        \"$in\": [reaction[\"symptom\"]]\n",
    "                    }\n",
    "                }\n",
    "            }\n",
    "            E = col.count_documents(E_query)\n",
    "            \n",
    "            DE_query = {'$and': [D_query, E_query]}\n",
    "            DE = col.count_documents(DE_query)\n",
    "            if DE >= 3: \n",
    "            \n",
    "                De = D - DE\n",
    "                dE = E - DE\n",
    "                de = N - (DE + De + dE)\n",
    "                \n",
    "                    \n",
    "                # Ensure all necessary data is available\n",
    "                if None in [DE, dE, De, de]:\n",
    "                    continue\n",
    "                \n",
    "                contingency_table = [\n",
    "                    [DE, dE],\n",
    "                    [De, de]\n",
    "                ]\n",
    "                #print(contingency_table)\n",
    "                # Compute statistical measures\n",
    "                rrr, sd_rrr = disproportionaly_analysis.relative_reporting_ratio(contingency_table), disproportionaly_analysis.sd_rrr(contingency_table)\n",
    "                rrr_ci_lower, rrr_ci_upper = disproportionaly_analysis.confidence_interval(rrr, sd_rrr)\n",
    "                \n",
    "                prr, sd_prr = disproportionaly_analysis.proportional_reporting_ratio(contingency_table), disproportionaly_analysis.sd_prr(contingency_table)\n",
    "                prr_ci_lower, prr_ci_upper = disproportionaly_analysis.confidence_interval(prr, sd_prr)\n",
    "                \n",
    "                ror, sd_ror = disproportionaly_analysis.reporting_odds_ratio(contingency_table), disproportionaly_analysis.sd_ror(contingency_table)\n",
    "                ror_ci_lower, ror_ci_upper = disproportionaly_analysis.confidence_interval(ror, sd_ror)\n",
    "                \n",
    "                chi_square = disproportionaly_analysis.chi_square_yates(contingency_table)\n",
    "                IC = disproportionaly_analysis.information_component(contingency_table)\n",
    "                IC_ci_lower, IC_ci_upper = disproportionaly_analysis.confidence_interval_information_component(contingency_table, IC)\n",
    "                \n",
    "                # Determine if the reaction meets criteria for a signal\n",
    "                method_1 = rrr > 2 and prr > 2 and ror > 2 and chi_square > 3.841\n",
    "                method_2 = IC_ci_lower > 0 and ror_ci_lower > 1 and prr_ci_lower > 1 and rrr_ci_lower > 1\n",
    "                    \n",
    "                if method_1 or method_2:\n",
    "                    #print(f\"Signal found for {start_date}\")\n",
    "                    first_found = start_date\n",
    "                    if start_date.day == 1:  # Check if the day is the first day of the month\n",
    "                        signal_info = {\n",
    "                            \"manufacturer\": reaction[\"manufacturer\"],\n",
    "                            \"symptom\": reaction[\"symptom\"],\n",
    "                            \"first_found\": first_found.strftime(\"%Y-%m-%d\")  # Convert datetime to string\n",
    "                        }\n",
    "                        signals_dict_Pfizer.append(signal_info)\n",
    "                        print(f\"signal {i} {symptom} found at {first_found}\")\n",
    "                        break  # If it is the first day, exit the loop        \n",
    "                    start_date = reduce_date_range_by_day(start_date)\n",
    "                    #print(f\"Reducing by a month..., checking {start_date}\")\n",
    "                else:\n",
    "                    #print(\"Signal not found\")\n",
    "                    if start_date.day == 1:  # Check if the day is the first day of the month\n",
    "                        signal_info = {\n",
    "                            \"manufacturer\": reaction[\"manufacturer\"],\n",
    "                            \"symptom\": reaction[\"symptom\"],\n",
    "                            \"first_found\": first_found.strftime(\"%Y-%m-%d\")  # Convert datetime to string\n",
    "                        }\n",
    "                        signals_dict_Pfizer.append(signal_info)\n",
    "                        print(f\"signal {i} {symptom} found at {first_found}\")\n",
    "                        break  # If it is the first day, exit the loop\n",
    "                    start_date = reduce_date_range_by_day(start_date)\n",
    "                    #print(f\"Reducing by a month..., checking {start_date}\")# Exit the loop if no signal is found anymore\n",
    "    \n",
    "            else: \n",
    "                #print(f\"DE < 3 for {start_date}\")\n",
    "                signal_info = {\n",
    "                    \"manufacturer\": reaction[\"manufacturer\"],\n",
    "                    \"symptom\": reaction[\"symptom\"],\n",
    "                    \"first_found\": first_found.strftime(\"%Y-%m-%d\")  # Convert datetime to string\n",
    "                }\n",
    "                signals_dict_Pfizer.append(signal_info)\n",
    "                print(f\"signal {i} {symptom} found at {first_found}\")\n",
    "                break\n",
    "    "
   ],
   "id": "c16958b19e067aa",
   "outputs": [
    {
     "name": "stderr",
     "output_type": "stream",
     "text": [
      "  0%|          | 0/34 [00:00<?, ?it/s]"
     ]
    },
    {
     "name": "stdout",
     "output_type": "stream",
     "text": [
      "found month 2021-01-31 00:00:00 for symptom 1 Vomiting, checking day\n"
     ]
    },
    {
     "name": "stderr",
     "output_type": "stream",
     "text": [
      "  3%|▎         | 1/34 [07:31<4:08:22, 451.60s/it]"
     ]
    },
    {
     "name": "stdout",
     "output_type": "stream",
     "text": [
      "signal 1 Vomiting found at 2021-01-15 00:00:00\n",
      "found month 2020-12-31 00:00:00 for symptom 2 Lymphadenopathy, checking day\n"
     ]
    },
    {
     "name": "stderr",
     "output_type": "stream",
     "text": [
      "  6%|▌         | 2/34 [13:36<3:33:41, 400.66s/it]"
     ]
    },
    {
     "name": "stdout",
     "output_type": "stream",
     "text": [
      "signal 2 Lymphadenopathy found at 2020-12-24 00:00:00\n"
     ]
    },
    {
     "name": "stderr",
     "output_type": "stream",
     "text": [
      "  9%|▉         | 3/34 [18:41<3:04:21, 356.81s/it]"
     ]
    },
    {
     "name": "stdout",
     "output_type": "stream",
     "text": [
      "Saved Rash as first_found = None because it was not detected by the end of an month\n",
      "found month 2020-12-31 00:00:00 for symptom 4 Pruritus, checking day\n"
     ]
    },
    {
     "name": "stderr",
     "output_type": "stream",
     "text": [
      " 12%|█▏        | 4/34 [25:55<3:13:37, 387.23s/it]"
     ]
    },
    {
     "name": "stdout",
     "output_type": "stream",
     "text": [
      "signal 4 Pruritus found at 2020-12-18 00:00:00\n"
     ]
    },
    {
     "name": "stderr",
     "output_type": "stream",
     "text": [
      " 15%|█▍        | 5/34 [30:51<2:51:18, 354.43s/it]"
     ]
    },
    {
     "name": "stdout",
     "output_type": "stream",
     "text": [
      "Saved Urticaria as first_found = None because it was not detected by the end of an month\n",
      "found month 2021-01-31 00:00:00 for symptom 6 Angioedema, checking day\n"
     ]
    },
    {
     "name": "stderr",
     "output_type": "stream",
     "text": [
      " 18%|█▊        | 6/34 [35:04<2:29:14, 319.82s/it]"
     ]
    },
    {
     "name": "stdout",
     "output_type": "stream",
     "text": [
      "signal 6 Angioedema found at 2021-01-07 00:00:00\n",
      "found month 2021-01-31 00:00:00 for symptom 7 Decreased appetite, checking day\n"
     ]
    },
    {
     "name": "stderr",
     "output_type": "stream",
     "text": [
      " 21%|██        | 7/34 [40:46<2:27:14, 327.21s/it]"
     ]
    },
    {
     "name": "stdout",
     "output_type": "stream",
     "text": [
      "signal 7 Decreased appetite found at 2021-01-07 00:00:00\n",
      "found month 2021-03-31 00:00:00 for symptom 8 Insomnia, checking day\n"
     ]
    },
    {
     "name": "stderr",
     "output_type": "stream",
     "text": [
      " 24%|██▎       | 8/34 [48:36<2:41:32, 372.78s/it]"
     ]
    },
    {
     "name": "stdout",
     "output_type": "stream",
     "text": [
      "signal 8 Insomnia found at 2021-03-01 00:00:00\n",
      "found month 2020-12-31 00:00:00 for symptom 9 Headache, checking day\n"
     ]
    },
    {
     "name": "stderr",
     "output_type": "stream",
     "text": [
      " 26%|██▋       | 9/34 [56:20<2:47:11, 401.28s/it]"
     ]
    },
    {
     "name": "stdout",
     "output_type": "stream",
     "text": [
      "signal 9 Headache found at 2020-12-16 00:00:00\n",
      "found month 2020-12-31 00:00:00 for symptom 10 Dizziness, checking day\n"
     ]
    },
    {
     "name": "stderr",
     "output_type": "stream",
     "text": [
      " 29%|██▉       | 10/34 [1:03:41<2:45:25, 413.55s/it]"
     ]
    },
    {
     "name": "stdout",
     "output_type": "stream",
     "text": [
      "signal 10 Dizziness found at 2020-12-15 00:00:00\n",
      "found month 2021-01-31 00:00:00 for symptom 11 Lethargy, checking day\n"
     ]
    },
    {
     "name": "stderr",
     "output_type": "stream",
     "text": [
      " 32%|███▏      | 11/34 [1:11:57<2:48:13, 438.85s/it]"
     ]
    },
    {
     "name": "stdout",
     "output_type": "stream",
     "text": [
      "signal 11 Lethargy found at 2021-01-27 00:00:00\n",
      "found month 2020-12-31 00:00:00 for symptom 12 Facial paralysis, checking day\n"
     ]
    },
    {
     "name": "stderr",
     "output_type": "stream",
     "text": [
      " 35%|███▌      | 12/34 [1:16:43<2:23:48, 392.20s/it]"
     ]
    },
    {
     "name": "stdout",
     "output_type": "stream",
     "text": [
      "signal 12 Facial paralysis found at 2020-12-18 00:00:00\n",
      "found month 2020-12-31 00:00:00 for symptom 13 Paraesthesia, checking day\n"
     ]
    },
    {
     "name": "stderr",
     "output_type": "stream",
     "text": [
      " 38%|███▊      | 13/34 [1:21:34<2:06:31, 361.52s/it]"
     ]
    },
    {
     "name": "stdout",
     "output_type": "stream",
     "text": [
      "signal 13 Paraesthesia found at 2020-12-15 00:00:00\n",
      "found month 2020-12-31 00:00:00 for symptom 14 Hypoaesthesia, checking day\n"
     ]
    },
    {
     "name": "stderr",
     "output_type": "stream",
     "text": [
      " 41%|████      | 14/34 [1:28:22<2:05:14, 375.73s/it]"
     ]
    },
    {
     "name": "stdout",
     "output_type": "stream",
     "text": [
      "signal 14 Hypoaesthesia found at 2020-12-17 00:00:00\n",
      "found month 2021-03-31 00:00:00 for symptom 15 Myocarditis, checking day\n"
     ]
    },
    {
     "name": "stderr",
     "output_type": "stream",
     "text": [
      " 44%|████▍     | 15/34 [1:32:31<1:46:49, 337.35s/it]"
     ]
    },
    {
     "name": "stdout",
     "output_type": "stream",
     "text": [
      "signal 15 Myocarditis found at 2021-03-25 00:00:00\n",
      "found month 2021-03-31 00:00:00 for symptom 16 Pericarditis, checking day\n"
     ]
    },
    {
     "name": "stderr",
     "output_type": "stream",
     "text": [
      " 47%|████▋     | 16/34 [1:36:33<1:32:35, 308.64s/it]"
     ]
    },
    {
     "name": "stdout",
     "output_type": "stream",
     "text": [
      "signal 16 Pericarditis found at 2021-03-04 00:00:00\n",
      "found month 2020-12-31 00:00:00 for symptom 17 Diarrhoea, checking day\n"
     ]
    },
    {
     "name": "stderr",
     "output_type": "stream",
     "text": [
      " 50%|█████     | 17/34 [1:41:16<1:25:17, 301.00s/it]"
     ]
    },
    {
     "name": "stdout",
     "output_type": "stream",
     "text": [
      "signal 17 Diarrhoea found at 2020-12-17 00:00:00\n",
      "found month 2020-12-31 00:00:00 for symptom 18 Nausea, checking day\n"
     ]
    },
    {
     "name": "stderr",
     "output_type": "stream",
     "text": [
      " 53%|█████▎    | 18/34 [1:48:31<1:30:59, 341.20s/it]"
     ]
    },
    {
     "name": "stdout",
     "output_type": "stream",
     "text": [
      "signal 18 Nausea found at 2020-12-16 00:00:00\n",
      "found month 2020-12-31 00:00:00 for symptom 19 Hyperhidrosis, checking day\n"
     ]
    },
    {
     "name": "stderr",
     "output_type": "stream",
     "text": [
      " 56%|█████▌    | 19/34 [1:55:29<1:31:03, 364.21s/it]"
     ]
    },
    {
     "name": "stdout",
     "output_type": "stream",
     "text": [
      "signal 19 Hyperhidrosis found at 2020-12-16 00:00:00\n",
      "found month 2020-12-31 00:00:00 for symptom 20 Night sweats, checking day\n"
     ]
    },
    {
     "name": "stderr",
     "output_type": "stream",
     "text": [
      " 59%|█████▉    | 20/34 [2:00:49<1:21:54, 351.02s/it]"
     ]
    },
    {
     "name": "stdout",
     "output_type": "stream",
     "text": [
      "signal 20 Night sweats found at 2020-12-21 00:00:00\n"
     ]
    },
    {
     "name": "stderr",
     "output_type": "stream",
     "text": [
      " 62%|██████▏   | 21/34 [2:03:01<1:01:49, 285.31s/it]"
     ]
    },
    {
     "name": "stdout",
     "output_type": "stream",
     "text": [
      "Saved Erythema multiforme as first_found = None because it was not detected by the end of an month\n",
      "found month 2020-12-31 00:00:00 for symptom 22 Arthralgia, checking day\n"
     ]
    },
    {
     "name": "stderr",
     "output_type": "stream",
     "text": [
      " 65%|██████▍   | 22/34 [2:07:45<56:59, 284.93s/it]  "
     ]
    },
    {
     "name": "stdout",
     "output_type": "stream",
     "text": [
      "signal 22 Arthralgia found at 2020-12-17 00:00:00\n",
      "found month 2020-12-31 00:00:00 for symptom 23 Myalgia, checking day\n"
     ]
    },
    {
     "name": "stderr",
     "output_type": "stream",
     "text": [
      " 68%|██████▊   | 23/34 [2:14:51<1:00:01, 327.36s/it]"
     ]
    },
    {
     "name": "stdout",
     "output_type": "stream",
     "text": [
      "signal 23 Myalgia found at 2020-12-17 00:00:00\n",
      "found month 2020-12-31 00:00:00 for symptom 24 Pain in extremity, checking day\n"
     ]
    },
    {
     "name": "stderr",
     "output_type": "stream",
     "text": [
      " 71%|███████   | 24/34 [2:22:05<59:51, 359.10s/it]  "
     ]
    },
    {
     "name": "stdout",
     "output_type": "stream",
     "text": [
      "signal 24 Pain in extremity found at 2020-12-17 00:00:00\n",
      "found month 2021-01-31 00:00:00 for symptom 25 Heavy menstrual bleeding, checking day\n"
     ]
    },
    {
     "name": "stderr",
     "output_type": "stream",
     "text": [
      " 74%|███████▎  | 25/34 [2:25:22<46:34, 310.50s/it]"
     ]
    },
    {
     "name": "stdout",
     "output_type": "stream",
     "text": [
      "signal 25 Heavy menstrual bleeding found at 2021-01-16 00:00:00\n",
      "found month 2020-12-31 00:00:00 for symptom 26 Injection site pain, checking day\n"
     ]
    },
    {
     "name": "stderr",
     "output_type": "stream",
     "text": [
      " 76%|███████▋  | 26/34 [2:31:33<43:51, 328.88s/it]"
     ]
    },
    {
     "name": "stdout",
     "output_type": "stream",
     "text": [
      "signal 26 Injection site pain found at 2020-12-16 00:00:00\n",
      "found month 2020-12-31 00:00:00 for symptom 27 Fatigue, checking day\n"
     ]
    },
    {
     "name": "stderr",
     "output_type": "stream",
     "text": [
      " 79%|███████▉  | 27/34 [2:38:58<42:24, 363.47s/it]"
     ]
    },
    {
     "name": "stdout",
     "output_type": "stream",
     "text": [
      "signal 27 Fatigue found at 2020-12-16 00:00:00\n",
      "found month 2020-12-31 00:00:00 for symptom 28 Chills, checking day\n"
     ]
    },
    {
     "name": "stderr",
     "output_type": "stream",
     "text": [
      " 82%|████████▏ | 28/34 [2:46:15<38:34, 385.73s/it]"
     ]
    },
    {
     "name": "stdout",
     "output_type": "stream",
     "text": [
      "signal 28 Chills found at 2020-12-16 00:00:00\n",
      "found month 2021-01-31 00:00:00 for symptom 29 Pyrexia, checking day\n"
     ]
    },
    {
     "name": "stderr",
     "output_type": "stream",
     "text": [
      " 85%|████████▌ | 29/34 [2:55:47<36:47, 441.54s/it]"
     ]
    },
    {
     "name": "stdout",
     "output_type": "stream",
     "text": [
      "signal 29 Pyrexia found at 2021-01-10 00:00:00\n"
     ]
    },
    {
     "name": "stderr",
     "output_type": "stream",
     "text": [
      " 88%|████████▊ | 30/34 [3:00:41<26:29, 397.27s/it]"
     ]
    },
    {
     "name": "stdout",
     "output_type": "stream",
     "text": [
      "Saved Injection site swelling as first_found = None because it was not detected by the end of an month\n",
      "found month 2021-01-31 00:00:00 for symptom 31 Asthenia, checking day\n"
     ]
    },
    {
     "name": "stderr",
     "output_type": "stream",
     "text": [
      " 91%|█████████ | 31/34 [3:09:29<21:49, 436.35s/it]"
     ]
    },
    {
     "name": "stdout",
     "output_type": "stream",
     "text": [
      "signal 31 Asthenia found at 2021-01-07 00:00:00\n",
      "found month 2020-12-31 00:00:00 for symptom 32 Malaise, checking day\n"
     ]
    },
    {
     "name": "stderr",
     "output_type": "stream",
     "text": [
      " 94%|█████████▍| 32/34 [3:16:29<14:22, 431.49s/it]"
     ]
    },
    {
     "name": "stdout",
     "output_type": "stream",
     "text": [
      "signal 32 Malaise found at 2020-12-16 00:00:00\n"
     ]
    },
    {
     "name": "stderr",
     "output_type": "stream",
     "text": [
      " 97%|█████████▋| 33/34 [3:21:15<06:27, 387.78s/it]"
     ]
    },
    {
     "name": "stdout",
     "output_type": "stream",
     "text": [
      "Saved Injection site pruritus as first_found = None because it was not detected by the end of an month\n"
     ]
    },
    {
     "name": "stderr",
     "output_type": "stream",
     "text": [
      "100%|██████████| 34/34 [3:23:22<00:00, 358.91s/it]"
     ]
    },
    {
     "name": "stdout",
     "output_type": "stream",
     "text": [
      "Saved Extensive swelling of vaccinated limb as first_found = None because it was not detected by the end of an month\n"
     ]
    },
    {
     "name": "stderr",
     "output_type": "stream",
     "text": [
      "\n"
     ]
    }
   ],
   "execution_count": 146
  },
  {
   "metadata": {
    "ExecuteTime": {
     "end_time": "2024-05-05T18:08:17.371684Z",
     "start_time": "2024-05-05T18:08:17.366988Z"
    }
   },
   "cell_type": "code",
   "source": [
    "file_name_filtered = \"First_found_filtered_Signals_Pfizer.json\"\n",
    "with open(file_name_filtered, 'w') as f:\n",
    "    json.dump(signals_dict_Pfizer, f)"
   ],
   "id": "a0d675277605ebba",
   "outputs": [],
   "execution_count": 147
  },
  {
   "metadata": {
    "ExecuteTime": {
     "end_time": "2024-04-30T11:10:24.186217Z",
     "start_time": "2024-04-30T11:10:24.172898Z"
    }
   },
   "cell_type": "code",
   "source": "signals_dict_Pfizer",
   "id": "306ba877d661bcc5",
   "outputs": [
    {
     "data": {
      "text/plain": [
       "[{'manufacturer': 'PFIZER\\\\BIONTECH',\n",
       "  'symptom': 'Lymphadenopathy',\n",
       "  'first_found': '2020-12-24'},\n",
       " {'manufacturer': 'PFIZER\\\\BIONTECH',\n",
       "  'symptom': 'Angioedema',\n",
       "  'first_found': '2021-01-07'},\n",
       " {'manufacturer': 'PFIZER\\\\BIONTECH',\n",
       "  'symptom': 'Decreased appetite',\n",
       "  'first_found': '2021-01-07'},\n",
       " {'manufacturer': 'PFIZER\\\\BIONTECH',\n",
       "  'symptom': 'Insomnia',\n",
       "  'first_found': '2021-03-01'},\n",
       " {'manufacturer': 'PFIZER\\\\BIONTECH',\n",
       "  'symptom': 'Headache',\n",
       "  'first_found': '2020-12-16'},\n",
       " {'manufacturer': 'PFIZER\\\\BIONTECH',\n",
       "  'symptom': 'Dizziness',\n",
       "  'first_found': '2020-12-15'},\n",
       " {'manufacturer': 'PFIZER\\\\BIONTECH',\n",
       "  'symptom': 'Facial paralysis',\n",
       "  'first_found': '2020-12-18'},\n",
       " {'manufacturer': 'PFIZER\\\\BIONTECH',\n",
       "  'symptom': 'Paraesthesia',\n",
       "  'first_found': '2020-12-15'},\n",
       " {'manufacturer': 'PFIZER\\\\BIONTECH',\n",
       "  'symptom': 'Hypoaesthesia',\n",
       "  'first_found': '2020-12-17'},\n",
       " {'manufacturer': 'PFIZER\\\\BIONTECH',\n",
       "  'symptom': 'Myocarditis',\n",
       "  'first_found': '2021-03-25'},\n",
       " {'manufacturer': 'PFIZER\\\\BIONTECH',\n",
       "  'symptom': 'Pericarditis',\n",
       "  'first_found': '2021-03-04'},\n",
       " {'manufacturer': 'PFIZER\\\\BIONTECH',\n",
       "  'symptom': 'Diarrhoea',\n",
       "  'first_found': '2020-12-17'},\n",
       " {'manufacturer': 'PFIZER\\\\BIONTECH',\n",
       "  'symptom': 'Nausea',\n",
       "  'first_found': '2020-12-16'},\n",
       " {'manufacturer': 'PFIZER\\\\BIONTECH',\n",
       "  'symptom': 'Hyperhidrosis',\n",
       "  'first_found': '2020-12-16'},\n",
       " {'manufacturer': 'PFIZER\\\\BIONTECH',\n",
       "  'symptom': 'Night sweats',\n",
       "  'first_found': '2020-12-21'},\n",
       " {'manufacturer': 'PFIZER\\\\BIONTECH',\n",
       "  'symptom': 'Arthralgia',\n",
       "  'first_found': '2020-12-17'},\n",
       " {'manufacturer': 'PFIZER\\\\BIONTECH',\n",
       "  'symptom': 'Myalgia',\n",
       "  'first_found': '2020-12-17'},\n",
       " {'manufacturer': 'PFIZER\\\\BIONTECH',\n",
       "  'symptom': 'Pain in extremity',\n",
       "  'first_found': '2020-12-17'},\n",
       " {'manufacturer': 'PFIZER\\\\BIONTECH',\n",
       "  'symptom': 'Heavy menstrual bleeding',\n",
       "  'first_found': '2021-01-16'},\n",
       " {'manufacturer': 'PFIZER\\\\BIONTECH',\n",
       "  'symptom': 'Fatigue',\n",
       "  'first_found': '2020-12-16'},\n",
       " {'manufacturer': 'PFIZER\\\\BIONTECH',\n",
       "  'symptom': 'Asthenia',\n",
       "  'first_found': '2021-01-07'},\n",
       " {'manufacturer': 'PFIZER\\\\BIONTECH',\n",
       "  'symptom': 'Malaise',\n",
       "  'first_found': '2020-12-16'}]"
      ]
     },
     "execution_count": 106,
     "metadata": {},
     "output_type": "execute_result"
    }
   ],
   "execution_count": 106
  },
  {
   "metadata": {},
   "cell_type": "markdown",
   "source": "### MODERNA",
   "id": "847a4fa3a4eb604d"
  },
  {
   "metadata": {
    "ExecuteTime": {
     "end_time": "2024-05-06T09:32:04.240864Z",
     "start_time": "2024-05-06T09:32:04.233861Z"
    }
   },
   "cell_type": "code",
   "source": [
    "file_name_filtered = \"Signals_Moderna.json\"\n",
    "with open(file_name_filtered, 'r') as f:\n",
    "    Signals_Moderna = json.load(f)"
   ],
   "id": "6c1a3e3262cc171f",
   "outputs": [],
   "execution_count": 167
  },
  {
   "metadata": {
    "ExecuteTime": {
     "end_time": "2024-05-06T09:32:05.032898Z",
     "start_time": "2024-05-06T09:32:05.029023Z"
    }
   },
   "cell_type": "code",
   "source": "filtered_signals_Moderna = [signal for signal in Signals_Moderna if signal[\"status\"] != \"Not found\"]",
   "id": "c82c2ec9955c59d8",
   "outputs": [],
   "execution_count": 168
  },
  {
   "metadata": {
    "ExecuteTime": {
     "end_time": "2024-05-06T09:32:05.495827Z",
     "start_time": "2024-05-06T09:32:05.490257Z"
    }
   },
   "cell_type": "code",
   "source": "len(filtered_signals_Moderna)",
   "id": "e5ca45d48b9c1623",
   "outputs": [
    {
     "data": {
      "text/plain": [
       "35"
      ]
     },
     "execution_count": 169,
     "metadata": {},
     "output_type": "execute_result"
    }
   ],
   "execution_count": 169
  },
  {
   "metadata": {
    "ExecuteTime": {
     "end_time": "2024-05-06T09:50:08.326804Z",
     "start_time": "2024-05-06T09:32:06.616543Z"
    }
   },
   "cell_type": "code",
   "source": [
    "from datetime import datetime\n",
    "\n",
    "# Loop until a signal is not found anymore\n",
    "signals_dict_Moderna= []\n",
    "i= 0\n",
    "for reaction in tqdm(filtered_signals_Moderna):\n",
    "    i+=1\n",
    "    symptom = reaction['symptom']\n",
    "    start_date = datetime(2023, 12, 31)\n",
    "    first_found = datetime(2000, 1, 1)\n",
    "    while True:\n",
    "        N_query = {\"RECVDATE\": {\"$lte\": start_date}}\n",
    "        N = col.count_documents(N_query)\n",
    "        \n",
    "        D_query = {\n",
    "            \"RECVDATE\": {\"$lte\": start_date},\n",
    "            \"vax_data\": {\n",
    "                \"$elemMatch\": {\n",
    "                    \"VAX_MANU\": reaction[\"manufacturer\"],\n",
    "                    \"VAX_TYPE\": reaction[\"vaccine\"]\n",
    "                }\n",
    "            }\n",
    "        }\n",
    "        D = col.count_documents(D_query)\n",
    "        \n",
    "        E_query = {\n",
    "            \"RECVDATE\": {\"$lte\": start_date},\n",
    "            \"symptoms\": {\n",
    "                \"$elemMatch\": {\n",
    "                    \"$in\": [reaction[\"symptom\"]]\n",
    "                }\n",
    "            }\n",
    "        }\n",
    "        E = col.count_documents(E_query)\n",
    "        \n",
    "        DE_query = {'$and': [D_query, E_query]}\n",
    "        DE = col.count_documents(DE_query)\n",
    "        if DE >= 3: \n",
    "        \n",
    "            De = D - DE\n",
    "            dE = E - DE\n",
    "            de = N - (DE + De + dE)\n",
    "            \n",
    "                \n",
    "            # Ensure all necessary data is available\n",
    "            if None in [DE, dE, De, de]:\n",
    "                continue\n",
    "            \n",
    "            contingency_table = [\n",
    "                [DE, dE],\n",
    "                [De, de]\n",
    "            ]\n",
    "            #print(contingency_table)\n",
    "            # Compute statistical measures\n",
    "            rrr, sd_rrr = disproportionaly_analysis.relative_reporting_ratio(contingency_table), disproportionaly_analysis.sd_rrr(contingency_table)\n",
    "            rrr_ci_lower, rrr_ci_upper = disproportionaly_analysis.confidence_interval(rrr, sd_rrr)\n",
    "            \n",
    "            prr, sd_prr = disproportionaly_analysis.proportional_reporting_ratio(contingency_table), disproportionaly_analysis.sd_prr(contingency_table)\n",
    "            prr_ci_lower, prr_ci_upper = disproportionaly_analysis.confidence_interval(prr, sd_prr)\n",
    "            \n",
    "            ror, sd_ror = disproportionaly_analysis.reporting_odds_ratio(contingency_table), disproportionaly_analysis.sd_ror(contingency_table)\n",
    "            ror_ci_lower, ror_ci_upper = disproportionaly_analysis.confidence_interval(ror, sd_ror)\n",
    "            \n",
    "            chi_square = disproportionaly_analysis.chi_square_yates(contingency_table)\n",
    "            IC = disproportionaly_analysis.information_component(contingency_table)\n",
    "            IC_ci_lower, IC_ci_upper = disproportionaly_analysis.confidence_interval_information_component(contingency_table, IC)\n",
    "            \n",
    "            # Determine if the reaction meets criteria for a signal\n",
    "            method_1 = rrr > 2 and prr > 2 and ror > 2 and chi_square > 3.841\n",
    "            method_2 = IC_ci_lower > 0 and ror_ci_lower > 1 and prr_ci_lower > 1 and rrr_ci_lower > 1\n",
    "                \n",
    "            if method_1 or method_2:\n",
    "                #print(f\"Signal found for {start_date}\")\n",
    "                first_found = start_date\n",
    "                start_date = reduce_date_range_by_month(start_date)\n",
    "                #print(f\"Reducing by a month..., checking {start_date}\")\n",
    "            else:\n",
    "                #print(\"Signal not found\")\n",
    "                start_date = reduce_date_range_by_month(start_date)\n",
    "                #print(f\"Reducing by a month..., checking {start_date}\")# Exit the loop if no signal is found anymore\n",
    "            if start_date < end_date:\n",
    "                break\n",
    "        else:\n",
    "            break\n",
    "            \n",
    "    if first_found == datetime(2000, 1, 1):\n",
    "        print(f\"Saved {symptom} as first_found = None because it was not detected by the end of an month\")\n",
    "        signals_dict_Moderna.append({\"manufacturer\": reaction[\"manufacturer\"], \"symptom\": reaction[\"symptom\"], \"first_found\": \"NaN\"})\n",
    "    else:\n",
    "            \n",
    "        print(f\"found month {first_found} for symptom {i} {symptom}, checking day\")\n",
    "        start_date = first_found\n",
    "        while True:\n",
    "            #print(f\"checking day {start_date}\")\n",
    "                    #print(f\"checking symptom {reaction['symptom']}\")\n",
    "            N_query = {\"RECVDATE\": {\"$lte\": start_date}}\n",
    "            N = col.count_documents(N_query)\n",
    "            \n",
    "            D_query = {\n",
    "                \"RECVDATE\": {\"$lte\": start_date},\n",
    "                \"vax_data\": {\n",
    "                    \"$elemMatch\": {\n",
    "                        \"VAX_MANU\": reaction[\"manufacturer\"],\n",
    "                        \"VAX_TYPE\": reaction[\"vaccine\"]\n",
    "                    }\n",
    "                }\n",
    "            }\n",
    "            D = col.count_documents(D_query)\n",
    "            \n",
    "            E_query = {\n",
    "                \"RECVDATE\": {\"$lte\": start_date},\n",
    "                \"symptoms\": {\n",
    "                    \"$elemMatch\": {\n",
    "                        \"$in\": [reaction[\"symptom\"]]\n",
    "                    }\n",
    "                }\n",
    "            }\n",
    "            E = col.count_documents(E_query)\n",
    "            \n",
    "            DE_query = {'$and': [D_query, E_query]}\n",
    "            DE = col.count_documents(DE_query)\n",
    "            if DE >= 3: \n",
    "            \n",
    "                De = D - DE\n",
    "                dE = E - DE\n",
    "                de = N - (DE + De + dE)\n",
    "                \n",
    "                    \n",
    "                # Ensure all necessary data is available\n",
    "                if None in [DE, dE, De, de]:\n",
    "                    continue\n",
    "                \n",
    "                contingency_table = [\n",
    "                    [DE, dE],\n",
    "                    [De, de]\n",
    "                ]\n",
    "                #print(contingency_table)\n",
    "                # Compute statistical measures\n",
    "                rrr, sd_rrr = disproportionaly_analysis.relative_reporting_ratio(contingency_table), disproportionaly_analysis.sd_rrr(contingency_table)\n",
    "                rrr_ci_lower, rrr_ci_upper = disproportionaly_analysis.confidence_interval(rrr, sd_rrr)\n",
    "                \n",
    "                prr, sd_prr = disproportionaly_analysis.proportional_reporting_ratio(contingency_table), disproportionaly_analysis.sd_prr(contingency_table)\n",
    "                prr_ci_lower, prr_ci_upper = disproportionaly_analysis.confidence_interval(prr, sd_prr)\n",
    "                \n",
    "                ror, sd_ror = disproportionaly_analysis.reporting_odds_ratio(contingency_table), disproportionaly_analysis.sd_ror(contingency_table)\n",
    "                ror_ci_lower, ror_ci_upper = disproportionaly_analysis.confidence_interval(ror, sd_ror)\n",
    "                \n",
    "                chi_square = disproportionaly_analysis.chi_square_yates(contingency_table)\n",
    "                IC = disproportionaly_analysis.information_component(contingency_table)\n",
    "                IC_ci_lower, IC_ci_upper = disproportionaly_analysis.confidence_interval_information_component(contingency_table, IC)\n",
    "                \n",
    "                # Determine if the reaction meets criteria for a signal\n",
    "                method_1 = rrr > 2 and prr > 2 and ror > 2 and chi_square > 3.841\n",
    "                method_2 = IC_ci_lower > 0 and ror_ci_lower > 1 and prr_ci_lower > 1 and rrr_ci_lower > 1\n",
    "                    \n",
    "                if method_1 or method_2:\n",
    "                    #print(f\"Signal found for {start_date}\")\n",
    "                    first_found = start_date\n",
    "                    if start_date.day == 1:  # Check if the day is the first day of the month\n",
    "                        signal_info = {\n",
    "                            \"manufacturer\": reaction[\"manufacturer\"],\n",
    "                            \"symptom\": reaction[\"symptom\"],\n",
    "                            \"first_found\": first_found.strftime(\"%Y-%m-%d\")  # Convert datetime to string\n",
    "                        }\n",
    "                        signals_dict_Moderna.append(signal_info)\n",
    "                        print(f\"signal {i} {symptom} found at {first_found}\")\n",
    "                        break  # If it is the first day, exit the loop        \n",
    "                    start_date = reduce_date_range_by_day(start_date)\n",
    "                    #print(f\"Reducing by a month..., checking {start_date}\")\n",
    "                else:\n",
    "                    #print(\"Signal not found\")\n",
    "                    if start_date.day == 1:  # Check if the day is the first day of the month\n",
    "                        signal_info = {\n",
    "                            \"manufacturer\": reaction[\"manufacturer\"],\n",
    "                            \"symptom\": reaction[\"symptom\"],\n",
    "                            \"first_found\": first_found.strftime(\"%Y-%m-%d\")  # Convert datetime to string\n",
    "                        }\n",
    "                        signals_dict_Moderna.append(signal_info)\n",
    "                        print(f\"signal {i} {symptom} found at {first_found}\")\n",
    "                        break  # If it is the first day, exit the loop\n",
    "                    start_date = reduce_date_range_by_day(start_date)\n",
    "                    #print(f\"Reducing by a month..., checking {start_date}\")# Exit the loop if no signal is found anymore\n",
    "    \n",
    "            else: \n",
    "                #print(f\"DE < 3 for {start_date}\")\n",
    "                signal_info = {\n",
    "                    \"manufacturer\": reaction[\"manufacturer\"],\n",
    "                    \"symptom\": reaction[\"symptom\"],\n",
    "                    \"first_found\": first_found.strftime(\"%Y-%m-%d\")  # Convert datetime to string\n",
    "                }\n",
    "                signals_dict_Moderna.append(signal_info)\n",
    "                print(f\"signal {i} {symptom} found at {first_found}\")\n",
    "                break\n",
    "    "
   ],
   "id": "cf89d880e82bd7bc",
   "outputs": [
    {
     "name": "stderr",
     "output_type": "stream",
     "text": [
      "  0%|          | 0/35 [00:00<?, ?it/s]"
     ]
    },
    {
     "name": "stdout",
     "output_type": "stream",
     "text": [
      "found month 2020-12-31 00:00:00 for symptom 1 Asthenia, checking day\n"
     ]
    },
    {
     "name": "stderr",
     "output_type": "stream",
     "text": [
      "  3%|▎         | 1/35 [03:45<2:08:03, 225.98s/it]"
     ]
    },
    {
     "name": "stdout",
     "output_type": "stream",
     "text": [
      "signal 1 Asthenia found at 2020-12-31 00:00:00\n",
      "found month 2020-12-31 00:00:00 for symptom 2 Hyperhidrosis, checking day\n"
     ]
    },
    {
     "name": "stderr",
     "output_type": "stream",
     "text": [
      "  6%|▌         | 2/35 [08:49<2:29:30, 271.82s/it]"
     ]
    },
    {
     "name": "stdout",
     "output_type": "stream",
     "text": [
      "signal 2 Hyperhidrosis found at 2020-12-23 00:00:00\n",
      "found month 2020-12-31 00:00:00 for symptom 3 Lymphadenopathy, checking day\n"
     ]
    },
    {
     "name": "stderr",
     "output_type": "stream",
     "text": [
      "  9%|▊         | 3/35 [13:40<2:29:36, 280.50s/it]"
     ]
    },
    {
     "name": "stdout",
     "output_type": "stream",
     "text": [
      "signal 3 Lymphadenopathy found at 2020-12-30 00:00:00\n",
      "found month 2020-12-31 00:00:00 for symptom 4 Pruritus, checking day\n"
     ]
    },
    {
     "name": "stderr",
     "output_type": "stream",
     "text": [
      "  9%|▊         | 3/35 [18:01<3:12:16, 360.50s/it]\n"
     ]
    },
    {
     "ename": "KeyboardInterrupt",
     "evalue": "",
     "output_type": "error",
     "traceback": [
      "\u001B[0;31m---------------------------------------------------------------------------\u001B[0m",
      "\u001B[0;31mKeyboardInterrupt\u001B[0m                         Traceback (most recent call last)",
      "Cell \u001B[0;32mIn[170], line 121\u001B[0m\n\u001B[1;32m    118\u001B[0m E \u001B[38;5;241m=\u001B[39m col\u001B[38;5;241m.\u001B[39mcount_documents(E_query)\n\u001B[1;32m    120\u001B[0m DE_query \u001B[38;5;241m=\u001B[39m {\u001B[38;5;124m'\u001B[39m\u001B[38;5;124m$and\u001B[39m\u001B[38;5;124m'\u001B[39m: [D_query, E_query]}\n\u001B[0;32m--> 121\u001B[0m DE \u001B[38;5;241m=\u001B[39m \u001B[43mcol\u001B[49m\u001B[38;5;241;43m.\u001B[39;49m\u001B[43mcount_documents\u001B[49m\u001B[43m(\u001B[49m\u001B[43mDE_query\u001B[49m\u001B[43m)\u001B[49m\n\u001B[1;32m    122\u001B[0m \u001B[38;5;28;01mif\u001B[39;00m DE \u001B[38;5;241m>\u001B[39m\u001B[38;5;241m=\u001B[39m \u001B[38;5;241m3\u001B[39m: \n\u001B[1;32m    124\u001B[0m     De \u001B[38;5;241m=\u001B[39m D \u001B[38;5;241m-\u001B[39m DE\n",
      "File \u001B[0;32m~/Documents/Masterarbeit/venv/lib/python3.8/site-packages/pymongo/collection.py:1913\u001B[0m, in \u001B[0;36mCollection.count_documents\u001B[0;34m(self, filter, session, comment, **kwargs)\u001B[0m\n\u001B[1;32m   1910\u001B[0m         \u001B[38;5;28;01mreturn\u001B[39;00m \u001B[38;5;241m0\u001B[39m\n\u001B[1;32m   1911\u001B[0m     \u001B[38;5;28;01mreturn\u001B[39;00m result[\u001B[38;5;124m\"\u001B[39m\u001B[38;5;124mn\u001B[39m\u001B[38;5;124m\"\u001B[39m]\n\u001B[0;32m-> 1913\u001B[0m \u001B[38;5;28;01mreturn\u001B[39;00m \u001B[38;5;28;43mself\u001B[39;49m\u001B[38;5;241;43m.\u001B[39;49m\u001B[43m_retryable_non_cursor_read\u001B[49m\u001B[43m(\u001B[49m\u001B[43m_cmd\u001B[49m\u001B[43m,\u001B[49m\u001B[43m \u001B[49m\u001B[43msession\u001B[49m\u001B[43m)\u001B[49m\n",
      "File \u001B[0;32m~/Documents/Masterarbeit/venv/lib/python3.8/site-packages/pymongo/collection.py:1923\u001B[0m, in \u001B[0;36mCollection._retryable_non_cursor_read\u001B[0;34m(self, func, session)\u001B[0m\n\u001B[1;32m   1921\u001B[0m client \u001B[38;5;241m=\u001B[39m \u001B[38;5;28mself\u001B[39m\u001B[38;5;241m.\u001B[39m__database\u001B[38;5;241m.\u001B[39mclient\n\u001B[1;32m   1922\u001B[0m \u001B[38;5;28;01mwith\u001B[39;00m client\u001B[38;5;241m.\u001B[39m_tmp_session(session) \u001B[38;5;28;01mas\u001B[39;00m s:\n\u001B[0;32m-> 1923\u001B[0m     \u001B[38;5;28;01mreturn\u001B[39;00m \u001B[43mclient\u001B[49m\u001B[38;5;241;43m.\u001B[39;49m\u001B[43m_retryable_read\u001B[49m\u001B[43m(\u001B[49m\u001B[43mfunc\u001B[49m\u001B[43m,\u001B[49m\u001B[43m \u001B[49m\u001B[38;5;28;43mself\u001B[39;49m\u001B[38;5;241;43m.\u001B[39;49m\u001B[43m_read_preference_for\u001B[49m\u001B[43m(\u001B[49m\u001B[43ms\u001B[49m\u001B[43m)\u001B[49m\u001B[43m,\u001B[49m\u001B[43m \u001B[49m\u001B[43ms\u001B[49m\u001B[43m)\u001B[49m\n",
      "File \u001B[0;32m~/Documents/Masterarbeit/venv/lib/python3.8/site-packages/pymongo/mongo_client.py:1492\u001B[0m, in \u001B[0;36mMongoClient._retryable_read\u001B[0;34m(self, func, read_pref, session, address, retryable)\u001B[0m\n\u001B[1;32m   1487\u001B[0m \u001B[38;5;66;03m# Ensure that the client supports retrying on reads and there is no session in\u001B[39;00m\n\u001B[1;32m   1488\u001B[0m \u001B[38;5;66;03m# transaction, otherwise, we will not support retry behavior for this call.\u001B[39;00m\n\u001B[1;32m   1489\u001B[0m retryable \u001B[38;5;241m=\u001B[39m \u001B[38;5;28mbool\u001B[39m(\n\u001B[1;32m   1490\u001B[0m     retryable \u001B[38;5;129;01mand\u001B[39;00m \u001B[38;5;28mself\u001B[39m\u001B[38;5;241m.\u001B[39moptions\u001B[38;5;241m.\u001B[39mretry_reads \u001B[38;5;129;01mand\u001B[39;00m \u001B[38;5;129;01mnot\u001B[39;00m (session \u001B[38;5;129;01mand\u001B[39;00m session\u001B[38;5;241m.\u001B[39min_transaction)\n\u001B[1;32m   1491\u001B[0m )\n\u001B[0;32m-> 1492\u001B[0m \u001B[38;5;28;01mreturn\u001B[39;00m \u001B[38;5;28;43mself\u001B[39;49m\u001B[38;5;241;43m.\u001B[39;49m\u001B[43m_retry_internal\u001B[49m\u001B[43m(\u001B[49m\n\u001B[1;32m   1493\u001B[0m \u001B[43m    \u001B[49m\u001B[43mfunc\u001B[49m\u001B[43m,\u001B[49m\n\u001B[1;32m   1494\u001B[0m \u001B[43m    \u001B[49m\u001B[43msession\u001B[49m\u001B[43m,\u001B[49m\n\u001B[1;32m   1495\u001B[0m \u001B[43m    \u001B[49m\u001B[38;5;28;43;01mNone\u001B[39;49;00m\u001B[43m,\u001B[49m\n\u001B[1;32m   1496\u001B[0m \u001B[43m    \u001B[49m\u001B[43mis_read\u001B[49m\u001B[38;5;241;43m=\u001B[39;49m\u001B[38;5;28;43;01mTrue\u001B[39;49;00m\u001B[43m,\u001B[49m\n\u001B[1;32m   1497\u001B[0m \u001B[43m    \u001B[49m\u001B[43maddress\u001B[49m\u001B[38;5;241;43m=\u001B[39;49m\u001B[43maddress\u001B[49m\u001B[43m,\u001B[49m\n\u001B[1;32m   1498\u001B[0m \u001B[43m    \u001B[49m\u001B[43mread_pref\u001B[49m\u001B[38;5;241;43m=\u001B[39;49m\u001B[43mread_pref\u001B[49m\u001B[43m,\u001B[49m\n\u001B[1;32m   1499\u001B[0m \u001B[43m    \u001B[49m\u001B[43mretryable\u001B[49m\u001B[38;5;241;43m=\u001B[39;49m\u001B[43mretryable\u001B[49m\u001B[43m,\u001B[49m\n\u001B[1;32m   1500\u001B[0m \u001B[43m\u001B[49m\u001B[43m)\u001B[49m\n",
      "File \u001B[0;32m~/Documents/Masterarbeit/venv/lib/python3.8/site-packages/pymongo/_csot.py:107\u001B[0m, in \u001B[0;36mapply.<locals>.csot_wrapper\u001B[0;34m(self, *args, **kwargs)\u001B[0m\n\u001B[1;32m    105\u001B[0m         \u001B[38;5;28;01mwith\u001B[39;00m _TimeoutContext(timeout):\n\u001B[1;32m    106\u001B[0m             \u001B[38;5;28;01mreturn\u001B[39;00m func(\u001B[38;5;28mself\u001B[39m, \u001B[38;5;241m*\u001B[39margs, \u001B[38;5;241m*\u001B[39m\u001B[38;5;241m*\u001B[39mkwargs)\n\u001B[0;32m--> 107\u001B[0m \u001B[38;5;28;01mreturn\u001B[39;00m \u001B[43mfunc\u001B[49m\u001B[43m(\u001B[49m\u001B[38;5;28;43mself\u001B[39;49m\u001B[43m,\u001B[49m\u001B[43m \u001B[49m\u001B[38;5;241;43m*\u001B[39;49m\u001B[43margs\u001B[49m\u001B[43m,\u001B[49m\u001B[43m \u001B[49m\u001B[38;5;241;43m*\u001B[39;49m\u001B[38;5;241;43m*\u001B[39;49m\u001B[43mkwargs\u001B[49m\u001B[43m)\u001B[49m\n",
      "File \u001B[0;32m~/Documents/Masterarbeit/venv/lib/python3.8/site-packages/pymongo/mongo_client.py:1453\u001B[0m, in \u001B[0;36mMongoClient._retry_internal\u001B[0;34m(self, func, session, bulk, is_read, address, read_pref, retryable)\u001B[0m\n\u001B[1;32m   1428\u001B[0m \u001B[38;5;129m@_csot\u001B[39m\u001B[38;5;241m.\u001B[39mapply\n\u001B[1;32m   1429\u001B[0m \u001B[38;5;28;01mdef\u001B[39;00m \u001B[38;5;21m_retry_internal\u001B[39m(\n\u001B[1;32m   1430\u001B[0m     \u001B[38;5;28mself\u001B[39m,\n\u001B[0;32m   (...)\u001B[0m\n\u001B[1;32m   1437\u001B[0m     retryable: \u001B[38;5;28mbool\u001B[39m \u001B[38;5;241m=\u001B[39m \u001B[38;5;28;01mFalse\u001B[39;00m,\n\u001B[1;32m   1438\u001B[0m ) \u001B[38;5;241m-\u001B[39m\u001B[38;5;241m>\u001B[39m T:\n\u001B[1;32m   1439\u001B[0m \u001B[38;5;250m    \u001B[39m\u001B[38;5;124;03m\"\"\"Internal retryable helper for all client transactions.\u001B[39;00m\n\u001B[1;32m   1440\u001B[0m \n\u001B[1;32m   1441\u001B[0m \u001B[38;5;124;03m    :Parameters:\u001B[39;00m\n\u001B[0;32m   (...)\u001B[0m\n\u001B[1;32m   1451\u001B[0m \u001B[38;5;124;03m      Output of the calling func()\u001B[39;00m\n\u001B[1;32m   1452\u001B[0m \u001B[38;5;124;03m    \"\"\"\u001B[39;00m\n\u001B[0;32m-> 1453\u001B[0m     \u001B[38;5;28;01mreturn\u001B[39;00m \u001B[43m_ClientConnectionRetryable\u001B[49m\u001B[43m(\u001B[49m\n\u001B[1;32m   1454\u001B[0m \u001B[43m        \u001B[49m\u001B[43mmongo_client\u001B[49m\u001B[38;5;241;43m=\u001B[39;49m\u001B[38;5;28;43mself\u001B[39;49m\u001B[43m,\u001B[49m\n\u001B[1;32m   1455\u001B[0m \u001B[43m        \u001B[49m\u001B[43mfunc\u001B[49m\u001B[38;5;241;43m=\u001B[39;49m\u001B[43mfunc\u001B[49m\u001B[43m,\u001B[49m\n\u001B[1;32m   1456\u001B[0m \u001B[43m        \u001B[49m\u001B[43mbulk\u001B[49m\u001B[38;5;241;43m=\u001B[39;49m\u001B[43mbulk\u001B[49m\u001B[43m,\u001B[49m\n\u001B[1;32m   1457\u001B[0m \u001B[43m        \u001B[49m\u001B[43mis_read\u001B[49m\u001B[38;5;241;43m=\u001B[39;49m\u001B[43mis_read\u001B[49m\u001B[43m,\u001B[49m\n\u001B[1;32m   1458\u001B[0m \u001B[43m        \u001B[49m\u001B[43msession\u001B[49m\u001B[38;5;241;43m=\u001B[39;49m\u001B[43msession\u001B[49m\u001B[43m,\u001B[49m\n\u001B[1;32m   1459\u001B[0m \u001B[43m        \u001B[49m\u001B[43mread_pref\u001B[49m\u001B[38;5;241;43m=\u001B[39;49m\u001B[43mread_pref\u001B[49m\u001B[43m,\u001B[49m\n\u001B[1;32m   1460\u001B[0m \u001B[43m        \u001B[49m\u001B[43maddress\u001B[49m\u001B[38;5;241;43m=\u001B[39;49m\u001B[43maddress\u001B[49m\u001B[43m,\u001B[49m\n\u001B[1;32m   1461\u001B[0m \u001B[43m        \u001B[49m\u001B[43mretryable\u001B[49m\u001B[38;5;241;43m=\u001B[39;49m\u001B[43mretryable\u001B[49m\u001B[43m,\u001B[49m\n\u001B[1;32m   1462\u001B[0m \u001B[43m    \u001B[49m\u001B[43m)\u001B[49m\u001B[38;5;241;43m.\u001B[39;49m\u001B[43mrun\u001B[49m\u001B[43m(\u001B[49m\u001B[43m)\u001B[49m\n",
      "File \u001B[0;32m~/Documents/Masterarbeit/venv/lib/python3.8/site-packages/pymongo/mongo_client.py:2315\u001B[0m, in \u001B[0;36m_ClientConnectionRetryable.run\u001B[0;34m(self)\u001B[0m\n\u001B[1;32m   2313\u001B[0m \u001B[38;5;28mself\u001B[39m\u001B[38;5;241m.\u001B[39m_check_last_error(check_csot\u001B[38;5;241m=\u001B[39m\u001B[38;5;28;01mTrue\u001B[39;00m)\n\u001B[1;32m   2314\u001B[0m \u001B[38;5;28;01mtry\u001B[39;00m:\n\u001B[0;32m-> 2315\u001B[0m     \u001B[38;5;28;01mreturn\u001B[39;00m \u001B[38;5;28;43mself\u001B[39;49m\u001B[38;5;241;43m.\u001B[39;49m\u001B[43m_read\u001B[49m\u001B[43m(\u001B[49m\u001B[43m)\u001B[49m \u001B[38;5;28;01mif\u001B[39;00m \u001B[38;5;28mself\u001B[39m\u001B[38;5;241m.\u001B[39m_is_read \u001B[38;5;28;01melse\u001B[39;00m \u001B[38;5;28mself\u001B[39m\u001B[38;5;241m.\u001B[39m_write()\n\u001B[1;32m   2316\u001B[0m \u001B[38;5;28;01mexcept\u001B[39;00m ServerSelectionTimeoutError:\n\u001B[1;32m   2317\u001B[0m     \u001B[38;5;66;03m# The application may think the write was never attempted\u001B[39;00m\n\u001B[1;32m   2318\u001B[0m     \u001B[38;5;66;03m# if we raise ServerSelectionTimeoutError on the retry\u001B[39;00m\n\u001B[1;32m   2319\u001B[0m     \u001B[38;5;66;03m# attempt. Raise the original exception instead.\u001B[39;00m\n\u001B[1;32m   2320\u001B[0m     \u001B[38;5;28mself\u001B[39m\u001B[38;5;241m.\u001B[39m_check_last_error()\n",
      "File \u001B[0;32m~/Documents/Masterarbeit/venv/lib/python3.8/site-packages/pymongo/mongo_client.py:2445\u001B[0m, in \u001B[0;36m_ClientConnectionRetryable._read\u001B[0;34m(self)\u001B[0m\n\u001B[1;32m   2443\u001B[0m \u001B[38;5;28;01mif\u001B[39;00m \u001B[38;5;28mself\u001B[39m\u001B[38;5;241m.\u001B[39m_retrying \u001B[38;5;129;01mand\u001B[39;00m \u001B[38;5;129;01mnot\u001B[39;00m \u001B[38;5;28mself\u001B[39m\u001B[38;5;241m.\u001B[39m_retryable:\n\u001B[1;32m   2444\u001B[0m     \u001B[38;5;28mself\u001B[39m\u001B[38;5;241m.\u001B[39m_check_last_error()\n\u001B[0;32m-> 2445\u001B[0m \u001B[38;5;28;01mreturn\u001B[39;00m \u001B[38;5;28;43mself\u001B[39;49m\u001B[38;5;241;43m.\u001B[39;49m\u001B[43m_func\u001B[49m\u001B[43m(\u001B[49m\u001B[38;5;28;43mself\u001B[39;49m\u001B[38;5;241;43m.\u001B[39;49m\u001B[43m_session\u001B[49m\u001B[43m,\u001B[49m\u001B[43m \u001B[49m\u001B[38;5;28;43mself\u001B[39;49m\u001B[38;5;241;43m.\u001B[39;49m\u001B[43m_server\u001B[49m\u001B[43m,\u001B[49m\u001B[43m \u001B[49m\u001B[43mconn\u001B[49m\u001B[43m,\u001B[49m\u001B[43m \u001B[49m\u001B[43mread_pref\u001B[49m\u001B[43m)\u001B[49m\n",
      "File \u001B[0;32m~/Documents/Masterarbeit/venv/lib/python3.8/site-packages/pymongo/collection.py:1908\u001B[0m, in \u001B[0;36mCollection.count_documents.<locals>._cmd\u001B[0;34m(session, _server, conn, read_preference)\u001B[0m\n\u001B[1;32m   1902\u001B[0m \u001B[38;5;28;01mdef\u001B[39;00m \u001B[38;5;21m_cmd\u001B[39m(\n\u001B[1;32m   1903\u001B[0m     session: Optional[ClientSession],\n\u001B[1;32m   1904\u001B[0m     _server: Server,\n\u001B[1;32m   1905\u001B[0m     conn: Connection,\n\u001B[1;32m   1906\u001B[0m     read_preference: Optional[_ServerMode],\n\u001B[1;32m   1907\u001B[0m ) \u001B[38;5;241m-\u001B[39m\u001B[38;5;241m>\u001B[39m \u001B[38;5;28mint\u001B[39m:\n\u001B[0;32m-> 1908\u001B[0m     result \u001B[38;5;241m=\u001B[39m \u001B[38;5;28;43mself\u001B[39;49m\u001B[38;5;241;43m.\u001B[39;49m\u001B[43m_aggregate_one_result\u001B[49m\u001B[43m(\u001B[49m\u001B[43mconn\u001B[49m\u001B[43m,\u001B[49m\u001B[43m \u001B[49m\u001B[43mread_preference\u001B[49m\u001B[43m,\u001B[49m\u001B[43m \u001B[49m\u001B[43mcmd\u001B[49m\u001B[43m,\u001B[49m\u001B[43m \u001B[49m\u001B[43mcollation\u001B[49m\u001B[43m,\u001B[49m\u001B[43m \u001B[49m\u001B[43msession\u001B[49m\u001B[43m)\u001B[49m\n\u001B[1;32m   1909\u001B[0m     \u001B[38;5;28;01mif\u001B[39;00m \u001B[38;5;129;01mnot\u001B[39;00m result:\n\u001B[1;32m   1910\u001B[0m         \u001B[38;5;28;01mreturn\u001B[39;00m \u001B[38;5;241m0\u001B[39m\n",
      "File \u001B[0;32m~/Documents/Masterarbeit/venv/lib/python3.8/site-packages/pymongo/collection.py:1764\u001B[0m, in \u001B[0;36mCollection._aggregate_one_result\u001B[0;34m(self, conn, read_preference, cmd, collation, session)\u001B[0m\n\u001B[1;32m   1755\u001B[0m \u001B[38;5;28;01mdef\u001B[39;00m \u001B[38;5;21m_aggregate_one_result\u001B[39m(\n\u001B[1;32m   1756\u001B[0m     \u001B[38;5;28mself\u001B[39m,\n\u001B[1;32m   1757\u001B[0m     conn: Connection,\n\u001B[0;32m   (...)\u001B[0m\n\u001B[1;32m   1761\u001B[0m     session: Optional[ClientSession],\n\u001B[1;32m   1762\u001B[0m ) \u001B[38;5;241m-\u001B[39m\u001B[38;5;241m>\u001B[39m Optional[Mapping[\u001B[38;5;28mstr\u001B[39m, Any]]:\n\u001B[1;32m   1763\u001B[0m \u001B[38;5;250m    \u001B[39m\u001B[38;5;124;03m\"\"\"Internal helper to run an aggregate that returns a single result.\"\"\"\u001B[39;00m\n\u001B[0;32m-> 1764\u001B[0m     result \u001B[38;5;241m=\u001B[39m \u001B[38;5;28;43mself\u001B[39;49m\u001B[38;5;241;43m.\u001B[39;49m\u001B[43m_command\u001B[49m\u001B[43m(\u001B[49m\n\u001B[1;32m   1765\u001B[0m \u001B[43m        \u001B[49m\u001B[43mconn\u001B[49m\u001B[43m,\u001B[49m\n\u001B[1;32m   1766\u001B[0m \u001B[43m        \u001B[49m\u001B[43mcmd\u001B[49m\u001B[43m,\u001B[49m\n\u001B[1;32m   1767\u001B[0m \u001B[43m        \u001B[49m\u001B[43mread_preference\u001B[49m\u001B[43m,\u001B[49m\n\u001B[1;32m   1768\u001B[0m \u001B[43m        \u001B[49m\u001B[43mallowable_errors\u001B[49m\u001B[38;5;241;43m=\u001B[39;49m\u001B[43m[\u001B[49m\u001B[38;5;241;43m26\u001B[39;49m\u001B[43m]\u001B[49m\u001B[43m,\u001B[49m\u001B[43m  \u001B[49m\u001B[38;5;66;43;03m# Ignore NamespaceNotFound.\u001B[39;49;00m\n\u001B[1;32m   1769\u001B[0m \u001B[43m        \u001B[49m\u001B[43mcodec_options\u001B[49m\u001B[38;5;241;43m=\u001B[39;49m\u001B[38;5;28;43mself\u001B[39;49m\u001B[38;5;241;43m.\u001B[39;49m\u001B[43m__write_response_codec_options\u001B[49m\u001B[43m,\u001B[49m\n\u001B[1;32m   1770\u001B[0m \u001B[43m        \u001B[49m\u001B[43mread_concern\u001B[49m\u001B[38;5;241;43m=\u001B[39;49m\u001B[38;5;28;43mself\u001B[39;49m\u001B[38;5;241;43m.\u001B[39;49m\u001B[43mread_concern\u001B[49m\u001B[43m,\u001B[49m\n\u001B[1;32m   1771\u001B[0m \u001B[43m        \u001B[49m\u001B[43mcollation\u001B[49m\u001B[38;5;241;43m=\u001B[39;49m\u001B[43mcollation\u001B[49m\u001B[43m,\u001B[49m\n\u001B[1;32m   1772\u001B[0m \u001B[43m        \u001B[49m\u001B[43msession\u001B[49m\u001B[38;5;241;43m=\u001B[39;49m\u001B[43msession\u001B[49m\u001B[43m,\u001B[49m\n\u001B[1;32m   1773\u001B[0m \u001B[43m    \u001B[49m\u001B[43m)\u001B[49m\n\u001B[1;32m   1774\u001B[0m     \u001B[38;5;66;03m# cursor will not be present for NamespaceNotFound errors.\u001B[39;00m\n\u001B[1;32m   1775\u001B[0m     \u001B[38;5;28;01mif\u001B[39;00m \u001B[38;5;124m\"\u001B[39m\u001B[38;5;124mcursor\u001B[39m\u001B[38;5;124m\"\u001B[39m \u001B[38;5;129;01mnot\u001B[39;00m \u001B[38;5;129;01min\u001B[39;00m result:\n",
      "File \u001B[0;32m~/Documents/Masterarbeit/venv/lib/python3.8/site-packages/pymongo/collection.py:308\u001B[0m, in \u001B[0;36mCollection._command\u001B[0;34m(self, conn, command, read_preference, codec_options, check, allowable_errors, read_concern, write_concern, collation, session, retryable_write, user_fields)\u001B[0m\n\u001B[1;32m    280\u001B[0m \u001B[38;5;250m\u001B[39m\u001B[38;5;124;03m\"\"\"Internal command helper.\u001B[39;00m\n\u001B[1;32m    281\u001B[0m \n\u001B[1;32m    282\u001B[0m \u001B[38;5;124;03m:Parameters:\u001B[39;00m\n\u001B[0;32m   (...)\u001B[0m\n\u001B[1;32m    305\u001B[0m \u001B[38;5;124;03m  The result document.\u001B[39;00m\n\u001B[1;32m    306\u001B[0m \u001B[38;5;124;03m\"\"\"\u001B[39;00m\n\u001B[1;32m    307\u001B[0m \u001B[38;5;28;01mwith\u001B[39;00m \u001B[38;5;28mself\u001B[39m\u001B[38;5;241m.\u001B[39m__database\u001B[38;5;241m.\u001B[39mclient\u001B[38;5;241m.\u001B[39m_tmp_session(session) \u001B[38;5;28;01mas\u001B[39;00m s:\n\u001B[0;32m--> 308\u001B[0m     \u001B[38;5;28;01mreturn\u001B[39;00m \u001B[43mconn\u001B[49m\u001B[38;5;241;43m.\u001B[39;49m\u001B[43mcommand\u001B[49m\u001B[43m(\u001B[49m\n\u001B[1;32m    309\u001B[0m \u001B[43m        \u001B[49m\u001B[38;5;28;43mself\u001B[39;49m\u001B[38;5;241;43m.\u001B[39;49m\u001B[43m__database\u001B[49m\u001B[38;5;241;43m.\u001B[39;49m\u001B[43mname\u001B[49m\u001B[43m,\u001B[49m\n\u001B[1;32m    310\u001B[0m \u001B[43m        \u001B[49m\u001B[43mcommand\u001B[49m\u001B[43m,\u001B[49m\n\u001B[1;32m    311\u001B[0m \u001B[43m        \u001B[49m\u001B[43mread_preference\u001B[49m\u001B[43m \u001B[49m\u001B[38;5;129;43;01mor\u001B[39;49;00m\u001B[43m \u001B[49m\u001B[38;5;28;43mself\u001B[39;49m\u001B[38;5;241;43m.\u001B[39;49m\u001B[43m_read_preference_for\u001B[49m\u001B[43m(\u001B[49m\u001B[43msession\u001B[49m\u001B[43m)\u001B[49m\u001B[43m,\u001B[49m\n\u001B[1;32m    312\u001B[0m \u001B[43m        \u001B[49m\u001B[43mcodec_options\u001B[49m\u001B[43m \u001B[49m\u001B[38;5;129;43;01mor\u001B[39;49;00m\u001B[43m \u001B[49m\u001B[38;5;28;43mself\u001B[39;49m\u001B[38;5;241;43m.\u001B[39;49m\u001B[43mcodec_options\u001B[49m\u001B[43m,\u001B[49m\n\u001B[1;32m    313\u001B[0m \u001B[43m        \u001B[49m\u001B[43mcheck\u001B[49m\u001B[43m,\u001B[49m\n\u001B[1;32m    314\u001B[0m \u001B[43m        \u001B[49m\u001B[43mallowable_errors\u001B[49m\u001B[43m,\u001B[49m\n\u001B[1;32m    315\u001B[0m \u001B[43m        \u001B[49m\u001B[43mread_concern\u001B[49m\u001B[38;5;241;43m=\u001B[39;49m\u001B[43mread_concern\u001B[49m\u001B[43m,\u001B[49m\n\u001B[1;32m    316\u001B[0m \u001B[43m        \u001B[49m\u001B[43mwrite_concern\u001B[49m\u001B[38;5;241;43m=\u001B[39;49m\u001B[43mwrite_concern\u001B[49m\u001B[43m,\u001B[49m\n\u001B[1;32m    317\u001B[0m \u001B[43m        \u001B[49m\u001B[43mparse_write_concern_error\u001B[49m\u001B[38;5;241;43m=\u001B[39;49m\u001B[38;5;28;43;01mTrue\u001B[39;49;00m\u001B[43m,\u001B[49m\n\u001B[1;32m    318\u001B[0m \u001B[43m        \u001B[49m\u001B[43mcollation\u001B[49m\u001B[38;5;241;43m=\u001B[39;49m\u001B[43mcollation\u001B[49m\u001B[43m,\u001B[49m\n\u001B[1;32m    319\u001B[0m \u001B[43m        \u001B[49m\u001B[43msession\u001B[49m\u001B[38;5;241;43m=\u001B[39;49m\u001B[43ms\u001B[49m\u001B[43m,\u001B[49m\n\u001B[1;32m    320\u001B[0m \u001B[43m        \u001B[49m\u001B[43mclient\u001B[49m\u001B[38;5;241;43m=\u001B[39;49m\u001B[38;5;28;43mself\u001B[39;49m\u001B[38;5;241;43m.\u001B[39;49m\u001B[43m__database\u001B[49m\u001B[38;5;241;43m.\u001B[39;49m\u001B[43mclient\u001B[49m\u001B[43m,\u001B[49m\n\u001B[1;32m    321\u001B[0m \u001B[43m        \u001B[49m\u001B[43mretryable_write\u001B[49m\u001B[38;5;241;43m=\u001B[39;49m\u001B[43mretryable_write\u001B[49m\u001B[43m,\u001B[49m\n\u001B[1;32m    322\u001B[0m \u001B[43m        \u001B[49m\u001B[43muser_fields\u001B[49m\u001B[38;5;241;43m=\u001B[39;49m\u001B[43muser_fields\u001B[49m\u001B[43m,\u001B[49m\n\u001B[1;32m    323\u001B[0m \u001B[43m    \u001B[49m\u001B[43m)\u001B[49m\n",
      "File \u001B[0;32m~/Documents/Masterarbeit/venv/lib/python3.8/site-packages/pymongo/helpers.py:322\u001B[0m, in \u001B[0;36m_handle_reauth.<locals>.inner\u001B[0;34m(*args, **kwargs)\u001B[0m\n\u001B[1;32m    319\u001B[0m \u001B[38;5;28;01mfrom\u001B[39;00m \u001B[38;5;21;01mpymongo\u001B[39;00m\u001B[38;5;21;01m.\u001B[39;00m\u001B[38;5;21;01mpool\u001B[39;00m \u001B[38;5;28;01mimport\u001B[39;00m Connection\n\u001B[1;32m    321\u001B[0m \u001B[38;5;28;01mtry\u001B[39;00m:\n\u001B[0;32m--> 322\u001B[0m     \u001B[38;5;28;01mreturn\u001B[39;00m \u001B[43mfunc\u001B[49m\u001B[43m(\u001B[49m\u001B[38;5;241;43m*\u001B[39;49m\u001B[43margs\u001B[49m\u001B[43m,\u001B[49m\u001B[43m \u001B[49m\u001B[38;5;241;43m*\u001B[39;49m\u001B[38;5;241;43m*\u001B[39;49m\u001B[43mkwargs\u001B[49m\u001B[43m)\u001B[49m\n\u001B[1;32m    323\u001B[0m \u001B[38;5;28;01mexcept\u001B[39;00m OperationFailure \u001B[38;5;28;01mas\u001B[39;00m exc:\n\u001B[1;32m    324\u001B[0m     \u001B[38;5;28;01mif\u001B[39;00m no_reauth:\n",
      "File \u001B[0;32m~/Documents/Masterarbeit/venv/lib/python3.8/site-packages/pymongo/pool.py:996\u001B[0m, in \u001B[0;36mConnection.command\u001B[0;34m(self, dbname, spec, read_preference, codec_options, check, allowable_errors, read_concern, write_concern, parse_write_concern_error, collation, session, client, retryable_write, publish_events, user_fields, exhaust_allowed)\u001B[0m\n\u001B[1;32m    994\u001B[0m \u001B[38;5;66;03m# Catch socket.error, KeyboardInterrupt, etc. and close ourselves.\u001B[39;00m\n\u001B[1;32m    995\u001B[0m \u001B[38;5;28;01mexcept\u001B[39;00m \u001B[38;5;167;01mBaseException\u001B[39;00m \u001B[38;5;28;01mas\u001B[39;00m error:\n\u001B[0;32m--> 996\u001B[0m     \u001B[38;5;28;43mself\u001B[39;49m\u001B[38;5;241;43m.\u001B[39;49m\u001B[43m_raise_connection_failure\u001B[49m\u001B[43m(\u001B[49m\u001B[43merror\u001B[49m\u001B[43m)\u001B[49m\n",
      "File \u001B[0;32m~/Documents/Masterarbeit/venv/lib/python3.8/site-packages/pymongo/pool.py:968\u001B[0m, in \u001B[0;36mConnection.command\u001B[0;34m(self, dbname, spec, read_preference, codec_options, check, allowable_errors, read_concern, write_concern, parse_write_concern_error, collation, session, client, retryable_write, publish_events, user_fields, exhaust_allowed)\u001B[0m\n\u001B[1;32m    966\u001B[0m     \u001B[38;5;28mself\u001B[39m\u001B[38;5;241m.\u001B[39m_raise_if_not_writable(unacknowledged)\n\u001B[1;32m    967\u001B[0m \u001B[38;5;28;01mtry\u001B[39;00m:\n\u001B[0;32m--> 968\u001B[0m     \u001B[38;5;28;01mreturn\u001B[39;00m \u001B[43mcommand\u001B[49m\u001B[43m(\u001B[49m\n\u001B[1;32m    969\u001B[0m \u001B[43m        \u001B[49m\u001B[38;5;28;43mself\u001B[39;49m\u001B[43m,\u001B[49m\n\u001B[1;32m    970\u001B[0m \u001B[43m        \u001B[49m\u001B[43mdbname\u001B[49m\u001B[43m,\u001B[49m\n\u001B[1;32m    971\u001B[0m \u001B[43m        \u001B[49m\u001B[43mspec\u001B[49m\u001B[43m,\u001B[49m\n\u001B[1;32m    972\u001B[0m \u001B[43m        \u001B[49m\u001B[38;5;28;43mself\u001B[39;49m\u001B[38;5;241;43m.\u001B[39;49m\u001B[43mis_mongos\u001B[49m\u001B[43m,\u001B[49m\n\u001B[1;32m    973\u001B[0m \u001B[43m        \u001B[49m\u001B[43mread_preference\u001B[49m\u001B[43m,\u001B[49m\n\u001B[1;32m    974\u001B[0m \u001B[43m        \u001B[49m\u001B[43mcodec_options\u001B[49m\u001B[43m,\u001B[49m\n\u001B[1;32m    975\u001B[0m \u001B[43m        \u001B[49m\u001B[43msession\u001B[49m\u001B[43m,\u001B[49m\n\u001B[1;32m    976\u001B[0m \u001B[43m        \u001B[49m\u001B[43mclient\u001B[49m\u001B[43m,\u001B[49m\n\u001B[1;32m    977\u001B[0m \u001B[43m        \u001B[49m\u001B[43mcheck\u001B[49m\u001B[43m,\u001B[49m\n\u001B[1;32m    978\u001B[0m \u001B[43m        \u001B[49m\u001B[43mallowable_errors\u001B[49m\u001B[43m,\u001B[49m\n\u001B[1;32m    979\u001B[0m \u001B[43m        \u001B[49m\u001B[38;5;28;43mself\u001B[39;49m\u001B[38;5;241;43m.\u001B[39;49m\u001B[43maddress\u001B[49m\u001B[43m,\u001B[49m\n\u001B[1;32m    980\u001B[0m \u001B[43m        \u001B[49m\u001B[43mlisteners\u001B[49m\u001B[43m,\u001B[49m\n\u001B[1;32m    981\u001B[0m \u001B[43m        \u001B[49m\u001B[38;5;28;43mself\u001B[39;49m\u001B[38;5;241;43m.\u001B[39;49m\u001B[43mmax_bson_size\u001B[49m\u001B[43m,\u001B[49m\n\u001B[1;32m    982\u001B[0m \u001B[43m        \u001B[49m\u001B[43mread_concern\u001B[49m\u001B[43m,\u001B[49m\n\u001B[1;32m    983\u001B[0m \u001B[43m        \u001B[49m\u001B[43mparse_write_concern_error\u001B[49m\u001B[38;5;241;43m=\u001B[39;49m\u001B[43mparse_write_concern_error\u001B[49m\u001B[43m,\u001B[49m\n\u001B[1;32m    984\u001B[0m \u001B[43m        \u001B[49m\u001B[43mcollation\u001B[49m\u001B[38;5;241;43m=\u001B[39;49m\u001B[43mcollation\u001B[49m\u001B[43m,\u001B[49m\n\u001B[1;32m    985\u001B[0m \u001B[43m        \u001B[49m\u001B[43mcompression_ctx\u001B[49m\u001B[38;5;241;43m=\u001B[39;49m\u001B[38;5;28;43mself\u001B[39;49m\u001B[38;5;241;43m.\u001B[39;49m\u001B[43mcompression_context\u001B[49m\u001B[43m,\u001B[49m\n\u001B[1;32m    986\u001B[0m \u001B[43m        \u001B[49m\u001B[43muse_op_msg\u001B[49m\u001B[38;5;241;43m=\u001B[39;49m\u001B[38;5;28;43mself\u001B[39;49m\u001B[38;5;241;43m.\u001B[39;49m\u001B[43mop_msg_enabled\u001B[49m\u001B[43m,\u001B[49m\n\u001B[1;32m    987\u001B[0m \u001B[43m        \u001B[49m\u001B[43munacknowledged\u001B[49m\u001B[38;5;241;43m=\u001B[39;49m\u001B[43munacknowledged\u001B[49m\u001B[43m,\u001B[49m\n\u001B[1;32m    988\u001B[0m \u001B[43m        \u001B[49m\u001B[43muser_fields\u001B[49m\u001B[38;5;241;43m=\u001B[39;49m\u001B[43muser_fields\u001B[49m\u001B[43m,\u001B[49m\n\u001B[1;32m    989\u001B[0m \u001B[43m        \u001B[49m\u001B[43mexhaust_allowed\u001B[49m\u001B[38;5;241;43m=\u001B[39;49m\u001B[43mexhaust_allowed\u001B[49m\u001B[43m,\u001B[49m\n\u001B[1;32m    990\u001B[0m \u001B[43m        \u001B[49m\u001B[43mwrite_concern\u001B[49m\u001B[38;5;241;43m=\u001B[39;49m\u001B[43mwrite_concern\u001B[49m\u001B[43m,\u001B[49m\n\u001B[1;32m    991\u001B[0m \u001B[43m    \u001B[49m\u001B[43m)\u001B[49m\n\u001B[1;32m    992\u001B[0m \u001B[38;5;28;01mexcept\u001B[39;00m (OperationFailure, NotPrimaryError):\n\u001B[1;32m    993\u001B[0m     \u001B[38;5;28;01mraise\u001B[39;00m\n",
      "File \u001B[0;32m~/Documents/Masterarbeit/venv/lib/python3.8/site-packages/pymongo/network.py:182\u001B[0m, in \u001B[0;36mcommand\u001B[0;34m(conn, dbname, spec, is_mongos, read_preference, codec_options, session, client, check, allowable_errors, address, listeners, max_bson_size, read_concern, parse_write_concern_error, collation, compression_ctx, use_op_msg, unacknowledged, user_fields, exhaust_allowed, write_concern)\u001B[0m\n\u001B[1;32m    180\u001B[0m     response_doc: _DocumentOut \u001B[38;5;241m=\u001B[39m {\u001B[38;5;124m\"\u001B[39m\u001B[38;5;124mok\u001B[39m\u001B[38;5;124m\"\u001B[39m: \u001B[38;5;241m1\u001B[39m}\n\u001B[1;32m    181\u001B[0m \u001B[38;5;28;01melse\u001B[39;00m:\n\u001B[0;32m--> 182\u001B[0m     reply \u001B[38;5;241m=\u001B[39m \u001B[43mreceive_message\u001B[49m\u001B[43m(\u001B[49m\u001B[43mconn\u001B[49m\u001B[43m,\u001B[49m\u001B[43m \u001B[49m\u001B[43mrequest_id\u001B[49m\u001B[43m)\u001B[49m\n\u001B[1;32m    183\u001B[0m     conn\u001B[38;5;241m.\u001B[39mmore_to_come \u001B[38;5;241m=\u001B[39m reply\u001B[38;5;241m.\u001B[39mmore_to_come\n\u001B[1;32m    184\u001B[0m     unpacked_docs \u001B[38;5;241m=\u001B[39m reply\u001B[38;5;241m.\u001B[39munpack_response(\n\u001B[1;32m    185\u001B[0m         codec_options\u001B[38;5;241m=\u001B[39mcodec_options, user_fields\u001B[38;5;241m=\u001B[39muser_fields\n\u001B[1;32m    186\u001B[0m     )\n",
      "File \u001B[0;32m~/Documents/Masterarbeit/venv/lib/python3.8/site-packages/pymongo/network.py:257\u001B[0m, in \u001B[0;36mreceive_message\u001B[0;34m(conn, request_id, max_message_size)\u001B[0m\n\u001B[1;32m    255\u001B[0m         deadline \u001B[38;5;241m=\u001B[39m \u001B[38;5;28;01mNone\u001B[39;00m\n\u001B[1;32m    256\u001B[0m \u001B[38;5;66;03m# Ignore the response's request id.\u001B[39;00m\n\u001B[0;32m--> 257\u001B[0m length, _, response_to, op_code \u001B[38;5;241m=\u001B[39m _UNPACK_HEADER(\u001B[43m_receive_data_on_socket\u001B[49m\u001B[43m(\u001B[49m\u001B[43mconn\u001B[49m\u001B[43m,\u001B[49m\u001B[43m \u001B[49m\u001B[38;5;241;43m16\u001B[39;49m\u001B[43m,\u001B[49m\u001B[43m \u001B[49m\u001B[43mdeadline\u001B[49m\u001B[43m)\u001B[49m)\n\u001B[1;32m    258\u001B[0m \u001B[38;5;66;03m# No request_id for exhaust cursor \"getMore\".\u001B[39;00m\n\u001B[1;32m    259\u001B[0m \u001B[38;5;28;01mif\u001B[39;00m request_id \u001B[38;5;129;01mis\u001B[39;00m \u001B[38;5;129;01mnot\u001B[39;00m \u001B[38;5;28;01mNone\u001B[39;00m:\n",
      "File \u001B[0;32m~/Documents/Masterarbeit/venv/lib/python3.8/site-packages/pymongo/network.py:340\u001B[0m, in \u001B[0;36m_receive_data_on_socket\u001B[0;34m(conn, length, deadline)\u001B[0m\n\u001B[1;32m    338\u001B[0m     \u001B[38;5;28;01mif\u001B[39;00m _csot\u001B[38;5;241m.\u001B[39mget_timeout() \u001B[38;5;129;01mand\u001B[39;00m deadline \u001B[38;5;129;01mis\u001B[39;00m \u001B[38;5;129;01mnot\u001B[39;00m \u001B[38;5;28;01mNone\u001B[39;00m:\n\u001B[1;32m    339\u001B[0m         conn\u001B[38;5;241m.\u001B[39mset_conn_timeout(\u001B[38;5;28mmax\u001B[39m(deadline \u001B[38;5;241m-\u001B[39m time\u001B[38;5;241m.\u001B[39mmonotonic(), \u001B[38;5;241m0\u001B[39m))\n\u001B[0;32m--> 340\u001B[0m     chunk_length \u001B[38;5;241m=\u001B[39m \u001B[43mconn\u001B[49m\u001B[38;5;241;43m.\u001B[39;49m\u001B[43mconn\u001B[49m\u001B[38;5;241;43m.\u001B[39;49m\u001B[43mrecv_into\u001B[49m\u001B[43m(\u001B[49m\u001B[43mmv\u001B[49m\u001B[43m[\u001B[49m\u001B[43mbytes_read\u001B[49m\u001B[43m:\u001B[49m\u001B[43m]\u001B[49m\u001B[43m)\u001B[49m\n\u001B[1;32m    341\u001B[0m \u001B[38;5;28;01mexcept\u001B[39;00m BLOCKING_IO_ERRORS:\n\u001B[1;32m    342\u001B[0m     \u001B[38;5;28;01mraise\u001B[39;00m socket\u001B[38;5;241m.\u001B[39mtimeout(\u001B[38;5;124m\"\u001B[39m\u001B[38;5;124mtimed out\u001B[39m\u001B[38;5;124m\"\u001B[39m) \u001B[38;5;28;01mfrom\u001B[39;00m \u001B[38;5;28;01mNone\u001B[39;00m\n",
      "\u001B[0;31mKeyboardInterrupt\u001B[0m: "
     ]
    }
   ],
   "execution_count": 170
  },
  {
   "metadata": {
    "ExecuteTime": {
     "end_time": "2024-05-06T09:31:16.554724Z",
     "start_time": "2024-05-06T09:31:16.554620Z"
    }
   },
   "cell_type": "code",
   "source": [
    "file_name_filtered = \"First_found_filtered_Signals_Moderna.json\"\n",
    "with open(file_name_filtered, 'w') as f:\n",
    "    json.dump(signals_dict_Moderna, f)"
   ],
   "id": "668704de25744b7b",
   "outputs": [],
   "execution_count": null
  },
  {
   "metadata": {},
   "cell_type": "code",
   "source": "len(signals_dict_Moderna)",
   "id": "ed6bace2e5330ad8",
   "outputs": [],
   "execution_count": null
  },
  {
   "metadata": {},
   "cell_type": "markdown",
   "source": "### JANSSEN",
   "id": "f2b294df4f6d5693"
  },
  {
   "metadata": {
    "ExecuteTime": {
     "end_time": "2024-05-05T18:43:51.848894Z",
     "start_time": "2024-05-05T18:43:51.842594Z"
    }
   },
   "cell_type": "code",
   "source": [
    "file_name_filtered = \"Signals_Janssen.json\"\n",
    "with open(file_name_filtered, 'r') as f:\n",
    "    Signals_Janssen = json.load(f)"
   ],
   "id": "65599ef9404a64b3",
   "outputs": [],
   "execution_count": 148
  },
  {
   "metadata": {
    "ExecuteTime": {
     "end_time": "2024-05-05T18:43:52.693559Z",
     "start_time": "2024-05-05T18:43:52.687724Z"
    }
   },
   "cell_type": "code",
   "source": "filtered_signals_Janssen =  [signal for signal in Signals_Janssen if signal[\"status\"] != \"Not found\"]",
   "id": "f16fe48ae149f007",
   "outputs": [],
   "execution_count": 149
  },
  {
   "metadata": {
    "ExecuteTime": {
     "end_time": "2024-05-05T19:41:09.205201Z",
     "start_time": "2024-05-05T18:43:54.936203Z"
    }
   },
   "cell_type": "code",
   "source": [
    "from datetime import datetime\n",
    "\n",
    "# Loop until a signal is not found anymore\n",
    "signals_dict_Janssen = []\n",
    "i= 0\n",
    "for reaction in tqdm(filtered_signals_Janssen):\n",
    "    i+=1\n",
    "    symptom = reaction['symptom']\n",
    "    start_date = datetime(2023, 12, 31)\n",
    "    first_found = datetime(2000, 1, 1)\n",
    "    while True:\n",
    "        N_query = {\"RECVDATE\": {\"$lte\": start_date}}\n",
    "        N = col.count_documents(N_query)\n",
    "        \n",
    "        D_query = {\n",
    "            \"RECVDATE\": {\"$lte\": start_date},\n",
    "            \"vax_data\": {\n",
    "                \"$elemMatch\": {\n",
    "                    \"VAX_MANU\": reaction[\"manufacturer\"],\n",
    "                    \"VAX_TYPE\": reaction[\"vaccine\"]\n",
    "                }\n",
    "            }\n",
    "        }\n",
    "        D = col.count_documents(D_query)\n",
    "        \n",
    "        E_query = {\n",
    "            \"RECVDATE\": {\"$lte\": start_date},\n",
    "            \"symptoms\": {\n",
    "                \"$elemMatch\": {\n",
    "                    \"$in\": [reaction[\"symptom\"]]\n",
    "                }\n",
    "            }\n",
    "        }\n",
    "        E = col.count_documents(E_query)\n",
    "        \n",
    "        DE_query = {'$and': [D_query, E_query]}\n",
    "        DE = col.count_documents(DE_query)\n",
    "        if DE >= 3: \n",
    "        \n",
    "            De = D - DE\n",
    "            dE = E - DE\n",
    "            de = N - (DE + De + dE)\n",
    "            \n",
    "                \n",
    "            # Ensure all necessary data is available\n",
    "            if None in [DE, dE, De, de]:\n",
    "                continue\n",
    "            \n",
    "            contingency_table = [\n",
    "                [DE, dE],\n",
    "                [De, de]\n",
    "            ]\n",
    "            #print(contingency_table)\n",
    "            # Compute statistical measures\n",
    "            rrr, sd_rrr = disproportionaly_analysis.relative_reporting_ratio(contingency_table), disproportionaly_analysis.sd_rrr(contingency_table)\n",
    "            rrr_ci_lower, rrr_ci_upper = disproportionaly_analysis.confidence_interval(rrr, sd_rrr)\n",
    "            \n",
    "            prr, sd_prr = disproportionaly_analysis.proportional_reporting_ratio(contingency_table), disproportionaly_analysis.sd_prr(contingency_table)\n",
    "            prr_ci_lower, prr_ci_upper = disproportionaly_analysis.confidence_interval(prr, sd_prr)\n",
    "            \n",
    "            ror, sd_ror = disproportionaly_analysis.reporting_odds_ratio(contingency_table), disproportionaly_analysis.sd_ror(contingency_table)\n",
    "            ror_ci_lower, ror_ci_upper = disproportionaly_analysis.confidence_interval(ror, sd_ror)\n",
    "            \n",
    "            chi_square = disproportionaly_analysis.chi_square_yates(contingency_table)\n",
    "            IC = disproportionaly_analysis.information_component(contingency_table)\n",
    "            IC_ci_lower, IC_ci_upper = disproportionaly_analysis.confidence_interval_information_component(contingency_table, IC)\n",
    "            \n",
    "            # Determine if the reaction meets criteria for a signal\n",
    "            method_1 = rrr > 2 and prr > 2 and ror > 2 and chi_square > 3.841\n",
    "            method_2 = IC_ci_lower > 0 and ror_ci_lower > 1 and prr_ci_lower > 1 and rrr_ci_lower > 1\n",
    "                \n",
    "            if method_1 or method_2:\n",
    "                #print(f\"Signal found for {start_date}\")\n",
    "                first_found = start_date\n",
    "                start_date = reduce_date_range_by_month(start_date)\n",
    "                #print(f\"Reducing by a month..., checking {start_date}\")\n",
    "            else:\n",
    "                #print(\"Signal not found\")\n",
    "                start_date = reduce_date_range_by_month(start_date)\n",
    "                #print(f\"Reducing by a month..., checking {start_date}\")# Exit the loop if no signal is found anymore\n",
    "            if start_date < end_date:\n",
    "                break\n",
    "        else:\n",
    "            break\n",
    "            \n",
    "    if first_found == datetime(2000, 1, 1):\n",
    "        print(f\"Saved {symptom} as first_found = None because it was not detected by the end of an month\")\n",
    "        signals_dict_Janssen.append({\"manufacturer\": reaction[\"manufacturer\"], \"symptom\": reaction[\"symptom\"], \"first_found\": \"NaN\"})\n",
    "    else:\n",
    "            \n",
    "        print(f\"found month {first_found} for symptom {i} {symptom}, checking day\")\n",
    "        start_date = first_found\n",
    "        while True:\n",
    "            #print(f\"checking day {start_date}\")\n",
    "                    #print(f\"checking symptom {reaction['symptom']}\")\n",
    "            N_query = {\"RECVDATE\": {\"$lte\": start_date}}\n",
    "            N = col.count_documents(N_query)\n",
    "            \n",
    "            D_query = {\n",
    "                \"RECVDATE\": {\"$lte\": start_date},\n",
    "                \"vax_data\": {\n",
    "                    \"$elemMatch\": {\n",
    "                        \"VAX_MANU\": reaction[\"manufacturer\"],\n",
    "                        \"VAX_TYPE\": reaction[\"vaccine\"]\n",
    "                    }\n",
    "                }\n",
    "            }\n",
    "            D = col.count_documents(D_query)\n",
    "            \n",
    "        \n",
    "            E_query = {\n",
    "                \"RECVDATE\": {\"$lte\": start_date},\n",
    "                \"symptoms\": {\n",
    "                    \"$elemMatch\": {\n",
    "                        \"$in\": [reaction[\"symptom\"]]\n",
    "                    }\n",
    "                }\n",
    "            }\n",
    "            E = col.count_documents(E_query)\n",
    "            \n",
    "            DE_query = {'$and': [D_query, E_query]}\n",
    "            DE = col.count_documents(DE_query)\n",
    "            if DE >= 3: \n",
    "            \n",
    "                De = D - DE\n",
    "                dE = E - DE\n",
    "                de = N - (DE + De + dE)\n",
    "                \n",
    "                    \n",
    "                # Ensure all necessary data is available\n",
    "                if None in [DE, dE, De, de]:\n",
    "                    continue\n",
    "                \n",
    "                contingency_table = [\n",
    "                    [DE, dE],\n",
    "                    [De, de]\n",
    "                ]\n",
    "                #print(contingency_table)\n",
    "                # Compute statistical measures\n",
    "                rrr, sd_rrr = disproportionaly_analysis.relative_reporting_ratio(contingency_table), disproportionaly_analysis.sd_rrr(contingency_table)\n",
    "                rrr_ci_lower, rrr_ci_upper = disproportionaly_analysis.confidence_interval(rrr, sd_rrr)\n",
    "                \n",
    "                prr, sd_prr = disproportionaly_analysis.proportional_reporting_ratio(contingency_table), disproportionaly_analysis.sd_prr(contingency_table)\n",
    "                prr_ci_lower, prr_ci_upper = disproportionaly_analysis.confidence_interval(prr, sd_prr)\n",
    "                \n",
    "                ror, sd_ror = disproportionaly_analysis.reporting_odds_ratio(contingency_table), disproportionaly_analysis.sd_ror(contingency_table)\n",
    "                ror_ci_lower, ror_ci_upper = disproportionaly_analysis.confidence_interval(ror, sd_ror)\n",
    "                \n",
    "                chi_square = disproportionaly_analysis.chi_square_yates(contingency_table)\n",
    "                IC = disproportionaly_analysis.information_component(contingency_table)\n",
    "                IC_ci_lower, IC_ci_upper = disproportionaly_analysis.confidence_interval_information_component(contingency_table, IC)\n",
    "                \n",
    "                # Determine if the reaction meets criteria for a signal\n",
    "                method_1 = rrr > 2 and prr > 2 and ror > 2 and chi_square > 3.841\n",
    "                method_2 = IC_ci_lower > 0 and ror_ci_lower > 1 and prr_ci_lower > 1 and rrr_ci_lower > 1\n",
    "                    \n",
    "                if method_1 or method_2:\n",
    "                    #print(f\"Signal found for {start_date}\")\n",
    "                    first_found = start_date\n",
    "                    if start_date.day == 1:  # Check if the day is the first day of the month\n",
    "                        signal_info = {\n",
    "                            \"manufacturer\": reaction[\"manufacturer\"],\n",
    "                            \"symptom\": reaction[\"symptom\"],\n",
    "                            \"first_found\": first_found.strftime(\"%Y-%m-%d\")  # Convert datetime to string\n",
    "                        }\n",
    "                        signals_dict_Janssen.append(signal_info)\n",
    "                        print(f\"signal {i} {symptom} found at {first_found}\")\n",
    "                        break  # If it is the first day, exit the loop        \n",
    "                    start_date = reduce_date_range_by_day(start_date)\n",
    "                    #print(f\"Reducing by a month..., checking {start_date}\")\n",
    "                else:\n",
    "                    #print(\"Signal not found\")\n",
    "                    if start_date.day == 1:  # Check if the day is the first day of the month\n",
    "                        signal_info = {\n",
    "                            \"manufacturer\": reaction[\"manufacturer\"],\n",
    "                            \"symptom\": reaction[\"symptom\"],\n",
    "                            \"first_found\": first_found.strftime(\"%Y-%m-%d\")  # Convert datetime to string\n",
    "                        }\n",
    "                        signals_dict_Janssen.append(signal_info)\n",
    "                        print(f\"signal {i} {symptom} found at {first_found}\")\n",
    "                        break  # If it is the first day, exit the loop\n",
    "                    start_date = reduce_date_range_by_day(start_date)\n",
    "                    #print(f\"Reducing by a month..., checking {start_date}\")# Exit the loop if no signal is found anymore\n",
    "    \n",
    "            else: \n",
    "                #print(f\"DE < 3 for {start_date}\")\n",
    "                signal_info = {\n",
    "                    \"manufacturer\": reaction[\"manufacturer\"],\n",
    "                    \"symptom\": reaction[\"symptom\"],\n",
    "                    \"first_found\": first_found.strftime(\"%Y-%m-%d\")  # Convert datetime to string\n",
    "                }\n",
    "                signals_dict_Janssen.append(signal_info)\n",
    "                print(f\"signal {i} {symptom} found at {first_found}\")\n",
    "                break\n",
    "    "
   ],
   "id": "527c55bab524d20a",
   "outputs": [
    {
     "name": "stderr",
     "output_type": "stream",
     "text": [
      "  3%|▎         | 1/35 [01:06<37:37, 66.39s/it]"
     ]
    },
    {
     "name": "stdout",
     "output_type": "stream",
     "text": [
      "Saved Lymphadenopathy as first_found = None because it was not detected by the end of an month\n",
      "found month 2021-04-30 00:00:00 for symptom 2 Immune thrombocytopenia, checking day\n"
     ]
    },
    {
     "name": "stderr",
     "output_type": "stream",
     "text": [
      "  6%|▌         | 2/35 [02:19<38:46, 70.50s/it]"
     ]
    },
    {
     "name": "stdout",
     "output_type": "stream",
     "text": [
      "signal 2 Immune thrombocytopenia found at 2021-04-24 00:00:00\n",
      "found month 2021-03-31 00:00:00 for symptom 3 Headache, checking day\n"
     ]
    },
    {
     "name": "stderr",
     "output_type": "stream",
     "text": [
      "  9%|▊         | 3/35 [04:55<58:22, 109.44s/it]"
     ]
    },
    {
     "name": "stdout",
     "output_type": "stream",
     "text": [
      "signal 3 Headache found at 2021-03-04 00:00:00\n",
      "found month 2021-03-31 00:00:00 for symptom 4 Dizziness, checking day\n"
     ]
    },
    {
     "name": "stderr",
     "output_type": "stream",
     "text": [
      " 11%|█▏        | 4/35 [07:05<1:00:46, 117.62s/it]"
     ]
    },
    {
     "name": "stdout",
     "output_type": "stream",
     "text": [
      "signal 4 Dizziness found at 2021-03-05 00:00:00\n",
      "found month 2021-03-31 00:00:00 for symptom 5 Tremor, checking day\n"
     ]
    },
    {
     "name": "stderr",
     "output_type": "stream",
     "text": [
      " 14%|█▍        | 5/35 [08:59<58:05, 116.17s/it]  "
     ]
    },
    {
     "name": "stdout",
     "output_type": "stream",
     "text": [
      "signal 5 Tremor found at 2021-03-05 00:00:00\n"
     ]
    },
    {
     "name": "stderr",
     "output_type": "stream",
     "text": [
      " 17%|█▋        | 6/35 [10:07<48:13, 99.77s/it] "
     ]
    },
    {
     "name": "stdout",
     "output_type": "stream",
     "text": [
      "Saved Urticaria as first_found = None because it was not detected by the end of an month\n"
     ]
    },
    {
     "name": "stderr",
     "output_type": "stream",
     "text": [
      " 20%|██        | 7/35 [11:10<40:58, 87.81s/it]"
     ]
    },
    {
     "name": "stdout",
     "output_type": "stream",
     "text": [
      "Saved Hypersensitivity as first_found = None because it was not detected by the end of an month\n",
      "found month 2021-03-31 00:00:00 for symptom 8 Paraesthesia, checking day\n"
     ]
    },
    {
     "name": "stderr",
     "output_type": "stream",
     "text": [
      " 23%|██▎       | 8/35 [13:04<43:17, 96.20s/it]"
     ]
    },
    {
     "name": "stdout",
     "output_type": "stream",
     "text": [
      "signal 8 Paraesthesia found at 2021-03-12 00:00:00\n",
      "found month 2021-03-31 00:00:00 for symptom 9 Hypoaesthesia, checking day\n"
     ]
    },
    {
     "name": "stderr",
     "output_type": "stream",
     "text": [
      " 26%|██▌       | 9/35 [14:59<44:10, 101.92s/it]"
     ]
    },
    {
     "name": "stdout",
     "output_type": "stream",
     "text": [
      "signal 9 Hypoaesthesia found at 2021-03-10 00:00:00\n",
      "found month 2021-05-31 00:00:00 for symptom 10 Facial paralysis, checking day\n"
     ]
    },
    {
     "name": "stderr",
     "output_type": "stream",
     "text": [
      " 29%|██▊       | 10/35 [16:36<41:55, 100.60s/it]"
     ]
    },
    {
     "name": "stdout",
     "output_type": "stream",
     "text": [
      "signal 10 Facial paralysis found at 2021-05-11 00:00:00\n",
      "found month 2021-03-31 00:00:00 for symptom 11 Tinnitus, checking day\n"
     ]
    },
    {
     "name": "stderr",
     "output_type": "stream",
     "text": [
      " 31%|███▏      | 11/35 [18:05<38:45, 96.92s/it] "
     ]
    },
    {
     "name": "stdout",
     "output_type": "stream",
     "text": [
      "signal 11 Tinnitus found at 2021-03-09 00:00:00\n",
      "found month 2021-08-31 00:00:00 for symptom 12 Guillain-Barre syndrome, checking day\n"
     ]
    },
    {
     "name": "stderr",
     "output_type": "stream",
     "text": [
      " 34%|███▍      | 12/35 [19:35<36:19, 94.78s/it]"
     ]
    },
    {
     "name": "stdout",
     "output_type": "stream",
     "text": [
      "signal 12 Guillain-Barre syndrome found at 2021-08-27 00:00:00\n"
     ]
    },
    {
     "name": "stderr",
     "output_type": "stream",
     "text": [
      " 37%|███▋      | 13/35 [20:15<28:44, 78.41s/it]"
     ]
    },
    {
     "name": "stdout",
     "output_type": "stream",
     "text": [
      "Saved Myelitis as first_found = None because it was not detected by the end of an month\n"
     ]
    },
    {
     "name": "stderr",
     "output_type": "stream",
     "text": [
      " 40%|████      | 14/35 [21:02<24:04, 68.79s/it]"
     ]
    },
    {
     "name": "stdout",
     "output_type": "stream",
     "text": [
      "Saved Myocarditis as first_found = None because it was not detected by the end of an month\n"
     ]
    },
    {
     "name": "stderr",
     "output_type": "stream",
     "text": [
      " 43%|████▎     | 15/35 [21:47<20:35, 61.77s/it]"
     ]
    },
    {
     "name": "stdout",
     "output_type": "stream",
     "text": [
      "Saved Pericarditis as first_found = None because it was not detected by the end of an month\n",
      "found month 2021-07-31 00:00:00 for symptom 16 Capillary leak syndrome, checking day\n"
     ]
    },
    {
     "name": "stderr",
     "output_type": "stream",
     "text": [
      " 46%|████▌     | 16/35 [22:31<17:49, 56.29s/it]"
     ]
    },
    {
     "name": "stdout",
     "output_type": "stream",
     "text": [
      "signal 16 Capillary leak syndrome found at 2021-07-30 00:00:00\n",
      "found month 2021-09-30 00:00:00 for symptom 17 Cutaneous vasculitis, checking day\n"
     ]
    },
    {
     "name": "stderr",
     "output_type": "stream",
     "text": [
      " 49%|████▊     | 17/35 [23:49<18:50, 62.78s/it]"
     ]
    },
    {
     "name": "stdout",
     "output_type": "stream",
     "text": [
      "signal 17 Cutaneous vasculitis found at 2021-09-01 00:00:00\n",
      "found month 2021-03-31 00:00:00 for symptom 18 Nausea, checking day\n"
     ]
    },
    {
     "name": "stderr",
     "output_type": "stream",
     "text": [
      " 51%|█████▏    | 18/35 [26:02<23:46, 83.88s/it]"
     ]
    },
    {
     "name": "stdout",
     "output_type": "stream",
     "text": [
      "signal 18 Nausea found at 2021-03-04 00:00:00\n",
      "found month 2021-08-31 00:00:00 for symptom 19 Cough, checking day\n"
     ]
    },
    {
     "name": "stderr",
     "output_type": "stream",
     "text": [
      " 54%|█████▍    | 19/35 [28:01<25:10, 94.41s/it]"
     ]
    },
    {
     "name": "stdout",
     "output_type": "stream",
     "text": [
      "signal 19 Cough found at 2021-08-30 00:00:00\n",
      "found month 2021-03-31 00:00:00 for symptom 20 Oropharyngeal pain, checking day\n"
     ]
    },
    {
     "name": "stderr",
     "output_type": "stream",
     "text": [
      " 57%|█████▋    | 20/35 [29:49<24:38, 98.58s/it]"
     ]
    },
    {
     "name": "stdout",
     "output_type": "stream",
     "text": [
      "signal 20 Oropharyngeal pain found at 2021-03-18 00:00:00\n"
     ]
    },
    {
     "name": "stderr",
     "output_type": "stream",
     "text": [
      " 60%|██████    | 21/35 [30:38<19:32, 83.74s/it]"
     ]
    },
    {
     "name": "stdout",
     "output_type": "stream",
     "text": [
      "Saved Sneezing as first_found = None because it was not detected by the end of an month\n",
      "found month 2021-03-31 00:00:00 for symptom 22 Diarrhoea, checking day\n"
     ]
    },
    {
     "name": "stderr",
     "output_type": "stream",
     "text": [
      " 63%|██████▎   | 22/35 [32:29<19:55, 91.94s/it]"
     ]
    },
    {
     "name": "stdout",
     "output_type": "stream",
     "text": [
      "signal 22 Diarrhoea found at 2021-03-15 00:00:00\n",
      "found month 2021-03-31 00:00:00 for symptom 23 Vomiting, checking day\n"
     ]
    },
    {
     "name": "stderr",
     "output_type": "stream",
     "text": [
      " 66%|██████▌   | 23/35 [34:28<19:59, 99.95s/it]"
     ]
    },
    {
     "name": "stdout",
     "output_type": "stream",
     "text": [
      "signal 23 Vomiting found at 2021-03-10 00:00:00\n"
     ]
    },
    {
     "name": "stderr",
     "output_type": "stream",
     "text": [
      " 69%|██████▊   | 24/35 [35:40<16:45, 91.44s/it]"
     ]
    },
    {
     "name": "stdout",
     "output_type": "stream",
     "text": [
      "Saved Rash as first_found = None because it was not detected by the end of an month\n",
      "found month 2021-03-31 00:00:00 for symptom 25 Hyperhidrosis, checking day\n"
     ]
    },
    {
     "name": "stderr",
     "output_type": "stream",
     "text": [
      " 71%|███████▏  | 25/35 [37:30<16:10, 97.05s/it]"
     ]
    },
    {
     "name": "stdout",
     "output_type": "stream",
     "text": [
      "signal 25 Hyperhidrosis found at 2021-03-05 00:00:00\n",
      "found month 2021-03-31 00:00:00 for symptom 26 Myalgia, checking day\n"
     ]
    },
    {
     "name": "stderr",
     "output_type": "stream",
     "text": [
      " 74%|███████▍  | 26/35 [39:34<15:47, 105.23s/it]"
     ]
    },
    {
     "name": "stdout",
     "output_type": "stream",
     "text": [
      "signal 26 Myalgia found at 2021-03-06 00:00:00\n",
      "found month 2021-03-31 00:00:00 for symptom 27 Arthralgia, checking day\n"
     ]
    },
    {
     "name": "stderr",
     "output_type": "stream",
     "text": [
      " 77%|███████▋  | 27/35 [41:35<14:39, 109.90s/it]"
     ]
    },
    {
     "name": "stdout",
     "output_type": "stream",
     "text": [
      "signal 27 Arthralgia found at 2021-03-07 00:00:00\n",
      "found month 2021-07-31 00:00:00 for symptom 28 Muscular weakness, checking day\n"
     ]
    },
    {
     "name": "stderr",
     "output_type": "stream",
     "text": [
      " 80%|████████  | 28/35 [43:27<12:53, 110.47s/it]"
     ]
    },
    {
     "name": "stdout",
     "output_type": "stream",
     "text": [
      "signal 28 Muscular weakness found at 2021-07-14 00:00:00\n",
      "found month 2021-03-31 00:00:00 for symptom 29 Back pain, checking day\n"
     ]
    },
    {
     "name": "stderr",
     "output_type": "stream",
     "text": [
      " 83%|████████▎ | 29/35 [45:15<10:58, 109.76s/it]"
     ]
    },
    {
     "name": "stdout",
     "output_type": "stream",
     "text": [
      "signal 29 Back pain found at 2021-03-07 00:00:00\n",
      "found month 2021-03-31 00:00:00 for symptom 30 Pain in extremity, checking day\n"
     ]
    },
    {
     "name": "stderr",
     "output_type": "stream",
     "text": [
      " 86%|████████▌ | 30/35 [47:25<09:39, 115.95s/it]"
     ]
    },
    {
     "name": "stdout",
     "output_type": "stream",
     "text": [
      "signal 30 Pain in extremity found at 2021-03-27 00:00:00\n",
      "found month 2021-03-31 00:00:00 for symptom 31 Fatigue, checking day\n"
     ]
    },
    {
     "name": "stderr",
     "output_type": "stream",
     "text": [
      " 89%|████████▊ | 31/35 [49:51<08:19, 124.79s/it]"
     ]
    },
    {
     "name": "stdout",
     "output_type": "stream",
     "text": [
      "signal 31 Fatigue found at 2021-03-05 00:00:00\n"
     ]
    },
    {
     "name": "stderr",
     "output_type": "stream",
     "text": [
      " 91%|█████████▏| 32/35 [51:08<05:31, 110.49s/it]"
     ]
    },
    {
     "name": "stdout",
     "output_type": "stream",
     "text": [
      "Saved Injection site pain as first_found = None because it was not detected by the end of an month\n"
     ]
    },
    {
     "name": "stderr",
     "output_type": "stream",
     "text": [
      " 94%|█████████▍| 33/35 [52:19<03:17, 98.68s/it] "
     ]
    },
    {
     "name": "stdout",
     "output_type": "stream",
     "text": [
      "Saved Injection site swelling as first_found = None because it was not detected by the end of an month\n",
      "found month 2021-03-31 00:00:00 for symptom 34 Chills, checking day\n"
     ]
    },
    {
     "name": "stderr",
     "output_type": "stream",
     "text": [
      " 97%|█████████▋| 34/35 [54:31<01:48, 108.68s/it]"
     ]
    },
    {
     "name": "stdout",
     "output_type": "stream",
     "text": [
      "signal 34 Chills found at 2021-03-05 00:00:00\n",
      "found month 2021-03-31 00:00:00 for symptom 35 Pyrexia, checking day\n"
     ]
    },
    {
     "name": "stderr",
     "output_type": "stream",
     "text": [
      "100%|██████████| 35/35 [57:14<00:00, 98.12s/it] "
     ]
    },
    {
     "name": "stdout",
     "output_type": "stream",
     "text": [
      "signal 35 Pyrexia found at 2021-03-06 00:00:00\n"
     ]
    },
    {
     "name": "stderr",
     "output_type": "stream",
     "text": [
      "\n"
     ]
    }
   ],
   "execution_count": 150
  },
  {
   "metadata": {
    "ExecuteTime": {
     "end_time": "2024-05-05T19:41:09.210393Z",
     "start_time": "2024-05-05T19:41:09.206795Z"
    }
   },
   "cell_type": "code",
   "source": [
    "file_name_filtered = \"First_found_filtered_Signals_Janssen.json\"\n",
    "with open(file_name_filtered, 'w') as f:\n",
    "    json.dump(signals_dict_Janssen, f)"
   ],
   "id": "a72593837d6abc6f",
   "outputs": [],
   "execution_count": 151
  },
  {
   "metadata": {
    "ExecuteTime": {
     "end_time": "2024-04-30T11:59:00.100622Z",
     "start_time": "2024-04-30T11:59:00.094291Z"
    }
   },
   "cell_type": "code",
   "source": "len(signals_dict_Janssen)",
   "id": "a500b1827c8eedb1",
   "outputs": [
    {
     "data": {
      "text/plain": [
       "23"
      ]
     },
     "execution_count": 114,
     "metadata": {},
     "output_type": "execute_result"
    }
   ],
   "execution_count": 114
  },
  {
   "metadata": {},
   "cell_type": "markdown",
   "source": "### NOVAVAX",
   "id": "1f3bfb2cfc2d6e05"
  },
  {
   "metadata": {
    "ExecuteTime": {
     "end_time": "2024-05-05T14:24:33.189854Z",
     "start_time": "2024-05-05T14:24:33.183936Z"
    }
   },
   "cell_type": "code",
   "source": [
    "file_name_filtered = \"Signals_Novavax.json\"\n",
    "with open(file_name_filtered, 'r') as f:\n",
    "    Signals_Novavax = json.load(f)"
   ],
   "id": "c54a1e522330d7e6",
   "outputs": [],
   "execution_count": 138
  },
  {
   "metadata": {
    "ExecuteTime": {
     "end_time": "2024-05-05T14:24:34.174049Z",
     "start_time": "2024-05-05T14:24:34.167532Z"
    }
   },
   "cell_type": "code",
   "source": "filtered_signals_Novavax = [signal for signal in Signals_Novavax if signal[\"status\"] != \"Not found\"]",
   "id": "83f0223451760b4",
   "outputs": [],
   "execution_count": 139
  },
  {
   "metadata": {
    "ExecuteTime": {
     "end_time": "2024-05-05T14:24:35.056163Z",
     "start_time": "2024-05-05T14:24:35.049208Z"
    }
   },
   "cell_type": "code",
   "source": "len(filtered_signals_Novavax)",
   "id": "a4640e46ec36ae8b",
   "outputs": [
    {
     "data": {
      "text/plain": [
       "23"
      ]
     },
     "execution_count": 140,
     "metadata": {},
     "output_type": "execute_result"
    }
   ],
   "execution_count": 140
  },
  {
   "metadata": {
    "ExecuteTime": {
     "end_time": "2024-05-05T14:34:00.544927Z",
     "start_time": "2024-05-05T14:24:36.940245Z"
    }
   },
   "cell_type": "code",
   "source": [
    "from datetime import datetime\n",
    "\n",
    "# Loop until a signal is not found anymore\n",
    "signals_dict_Novavax = []\n",
    "i= 0\n",
    "for reaction in tqdm(filtered_signals_Novavax):\n",
    "    i+=1\n",
    "    symptom = reaction['symptom']\n",
    "    start_date = datetime(2023, 12, 31)\n",
    "    first_found = datetime(2000, 1, 1)\n",
    "    while True:\n",
    "        N_query = {\"RECVDATE\": {\"$lte\": start_date}}\n",
    "        N = col.count_documents(N_query)\n",
    "        \n",
    "        D_query = {\n",
    "            \"RECVDATE\": {\"$lte\": start_date},\n",
    "            \"vax_data\": {\n",
    "                \"$elemMatch\": {\n",
    "                    \"VAX_MANU\": reaction[\"manufacturer\"],\n",
    "                    \"VAX_TYPE\": reaction[\"vaccine\"]\n",
    "                }\n",
    "            }\n",
    "        }\n",
    "        D = col.count_documents(D_query)\n",
    "        \n",
    "        E_query = {\n",
    "            \"RECVDATE\": {\"$lte\": start_date},\n",
    "            \"symptoms\": {\n",
    "                \"$elemMatch\": {\n",
    "                    \"$in\": [reaction[\"symptom\"]]\n",
    "                }\n",
    "            }\n",
    "        }\n",
    "        E = col.count_documents(E_query)\n",
    "        \n",
    "        DE_query = {'$and': [D_query, E_query]}\n",
    "        DE = col.count_documents(DE_query)\n",
    "        if DE >= 3: \n",
    "        \n",
    "            De = D - DE\n",
    "            dE = E - DE\n",
    "            de = N - (DE + De + dE)\n",
    "            \n",
    "                \n",
    "            # Ensure all necessary data is available\n",
    "            if None in [DE, dE, De, de]:\n",
    "                continue\n",
    "            \n",
    "            contingency_table = [\n",
    "                [DE, dE],\n",
    "                [De, de]\n",
    "            ]\n",
    "            #print(contingency_table)\n",
    "            # Compute statistical measures\n",
    "            rrr, sd_rrr = disproportionaly_analysis.relative_reporting_ratio(contingency_table), disproportionaly_analysis.sd_rrr(contingency_table)\n",
    "            rrr_ci_lower, rrr_ci_upper = disproportionaly_analysis.confidence_interval(rrr, sd_rrr)\n",
    "            \n",
    "            prr, sd_prr = disproportionaly_analysis.proportional_reporting_ratio(contingency_table), disproportionaly_analysis.sd_prr(contingency_table)\n",
    "            prr_ci_lower, prr_ci_upper = disproportionaly_analysis.confidence_interval(prr, sd_prr)\n",
    "            \n",
    "            ror, sd_ror = disproportionaly_analysis.reporting_odds_ratio(contingency_table), disproportionaly_analysis.sd_ror(contingency_table)\n",
    "            ror_ci_lower, ror_ci_upper = disproportionaly_analysis.confidence_interval(ror, sd_ror)\n",
    "            \n",
    "            chi_square = disproportionaly_analysis.chi_square_yates(contingency_table)\n",
    "            IC = disproportionaly_analysis.information_component(contingency_table)\n",
    "            IC_ci_lower, IC_ci_upper = disproportionaly_analysis.confidence_interval_information_component(contingency_table, IC)\n",
    "            \n",
    "            # Determine if the reaction meets criteria for a signal\n",
    "            method_1 = rrr > 2 and prr > 2 and ror > 2 and chi_square > 3.841\n",
    "            method_2 = IC_ci_lower > 0 and ror_ci_lower > 1 and prr_ci_lower > 1 and rrr_ci_lower > 1\n",
    "                \n",
    "            if method_1 or method_2:\n",
    "                #print(f\"Signal found for {start_date}\")\n",
    "                first_found = start_date\n",
    "                start_date = reduce_date_range_by_month(start_date)\n",
    "                #print(f\"Reducing by a month..., checking {start_date}\")\n",
    "            else:\n",
    "                #print(\"Signal not found\")\n",
    "                start_date = reduce_date_range_by_month(start_date)\n",
    "                #print(f\"Reducing by a month..., checking {start_date}\")# Exit the loop if no signal is found anymore\n",
    "            if start_date < end_date:\n",
    "                break\n",
    "        else:\n",
    "            break\n",
    "            \n",
    "    if first_found == datetime(2000, 1, 1):\n",
    "        print(f\"Saved {symptom} as first_found = None because it was not detected by the end of an month\")\n",
    "        signals_dict_Novavax.append({\"manufacturer\": reaction[\"manufacturer\"], \"symptom\": reaction[\"symptom\"], \"first_found\": \"NaN\"})\n",
    "    else:\n",
    "            \n",
    "        print(f\"found month {first_found} for symptom {i} {symptom}, checking day\")\n",
    "        start_date = first_found\n",
    "        while True:\n",
    "            #print(f\"checking day {start_date}\")\n",
    "                    #print(f\"checking symptom {reaction['symptom']}\")\n",
    "            N_query = {\"RECVDATE\": {\"$lte\": start_date}}\n",
    "            N = col.count_documents(N_query)\n",
    "            \n",
    "            D_query = {\n",
    "                \"RECVDATE\": {\"$lte\": start_date},\n",
    "                \"vax_data\": {\n",
    "                    \"$elemMatch\": {\n",
    "                        \"VAX_MANU\": reaction[\"manufacturer\"],\n",
    "                        \"VAX_TYPE\": reaction[\"vaccine\"]\n",
    "                    }\n",
    "                }\n",
    "            }\n",
    "            D = col.count_documents(D_query)\n",
    "            \n",
    "            E_query = {\n",
    "                \"RECVDATE\": {\"$lte\": start_date},\n",
    "                \"symptoms\": {\n",
    "                    \"$elemMatch\": {\n",
    "                        \"$in\": [reaction[\"symptom\"]]\n",
    "                    }\n",
    "                }\n",
    "            }\n",
    "            E = col.count_documents(E_query)\n",
    "            \n",
    "            DE_query = {'$and': [D_query, E_query]}\n",
    "            DE = col.count_documents(DE_query)\n",
    "            if DE >= 3: \n",
    "            \n",
    "                De = D - DE\n",
    "                dE = E - DE\n",
    "                de = N - (DE + De + dE)\n",
    "                \n",
    "                    \n",
    "                # Ensure all necessary data is available\n",
    "                if None in [DE, dE, De, de]:\n",
    "                    continue\n",
    "                \n",
    "                contingency_table = [\n",
    "                    [DE, dE],\n",
    "                    [De, de]\n",
    "                ]\n",
    "                #print(contingency_table)\n",
    "                # Compute statistical measures\n",
    "                rrr, sd_rrr = disproportionaly_analysis.relative_reporting_ratio(contingency_table), disproportionaly_analysis.sd_rrr(contingency_table)\n",
    "                rrr_ci_lower, rrr_ci_upper = disproportionaly_analysis.confidence_interval(rrr, sd_rrr)\n",
    "                \n",
    "                prr, sd_prr = disproportionaly_analysis.proportional_reporting_ratio(contingency_table), disproportionaly_analysis.sd_prr(contingency_table)\n",
    "                prr_ci_lower, prr_ci_upper = disproportionaly_analysis.confidence_interval(prr, sd_prr)\n",
    "                \n",
    "                ror, sd_ror = disproportionaly_analysis.reporting_odds_ratio(contingency_table), disproportionaly_analysis.sd_ror(contingency_table)\n",
    "                ror_ci_lower, ror_ci_upper = disproportionaly_analysis.confidence_interval(ror, sd_ror)\n",
    "                \n",
    "                chi_square = disproportionaly_analysis.chi_square_yates(contingency_table)\n",
    "                IC = disproportionaly_analysis.information_component(contingency_table)\n",
    "                IC_ci_lower, IC_ci_upper = disproportionaly_analysis.confidence_interval_information_component(contingency_table, IC)\n",
    "                \n",
    "                # Determine if the reaction meets criteria for a signal\n",
    "                method_1 = rrr > 2 and prr > 2 and ror > 2 and chi_square > 3.841\n",
    "                method_2 = IC_ci_lower > 0 and ror_ci_lower > 1 and prr_ci_lower > 1 and rrr_ci_lower > 1\n",
    "                    \n",
    "                if method_1 or method_2:\n",
    "                    #print(f\"Signal found for {start_date}\")\n",
    "                    first_found = start_date\n",
    "                    if start_date.day == 1:  # Check if the day is the first day of the month\n",
    "                        signal_info = {\n",
    "                            \"manufacturer\": reaction[\"manufacturer\"],\n",
    "                            \"symptom\": reaction[\"symptom\"],\n",
    "                            \"first_found\": first_found.strftime(\"%Y-%m-%d\")  # Convert datetime to string\n",
    "                        }\n",
    "                        signals_dict_Novavax.append(signal_info)\n",
    "                        print(f\"signal {i} {symptom} found at {first_found}\")\n",
    "                        break  # If it is the first day, exit the loop        \n",
    "                    start_date = reduce_date_range_by_day(start_date)\n",
    "                    #print(f\"Reducing by a month..., checking {start_date}\")\n",
    "                else:\n",
    "                    #print(\"Signal not found\")\n",
    "                    if start_date.day == 1:  # Check if the day is the first day of the month\n",
    "                        signal_info = {\n",
    "                            \"manufacturer\": reaction[\"manufacturer\"],\n",
    "                            \"symptom\": reaction[\"symptom\"],\n",
    "                            \"first_found\": first_found.strftime(\"%Y-%m-%d\")  # Convert datetime to string\n",
    "                        }\n",
    "                        signals_dict_Novavax.append(signal_info)\n",
    "                        print(f\"signal {i} {symptom} found at {first_found}\")\n",
    "                        break  # If it is the first day, exit the loop\n",
    "                    start_date = reduce_date_range_by_day(start_date)\n",
    "                    #print(f\"Reducing by a month..., checking {start_date}\")# Exit the loop if no signal is found anymore\n",
    "    \n",
    "            else: \n",
    "                #print(f\"DE < 3 for {start_date}\")\n",
    "                signal_info = {\n",
    "                    \"manufacturer\": reaction[\"manufacturer\"],\n",
    "                    \"symptom\": reaction[\"symptom\"],\n",
    "                    \"first_found\": first_found.strftime(\"%Y-%m-%d\")  # Convert datetime to string\n",
    "                }\n",
    "                signals_dict_Novavax.append(signal_info)\n",
    "                print(f\"signal {i} {symptom} found at {first_found}\")\n",
    "                break\n",
    "    "
   ],
   "id": "5cae2822f4b841b5",
   "outputs": [
    {
     "name": "stderr",
     "output_type": "stream",
     "text": [
      "  4%|▍         | 1/23 [00:34<12:42, 34.66s/it]"
     ]
    },
    {
     "name": "stdout",
     "output_type": "stream",
     "text": [
      "Saved Headache as first_found = None because it was not detected by the end of an month\n"
     ]
    },
    {
     "name": "stderr",
     "output_type": "stream",
     "text": [
      "  9%|▊         | 2/23 [01:02<10:45, 30.72s/it]"
     ]
    },
    {
     "name": "stdout",
     "output_type": "stream",
     "text": [
      "Saved Nausea as first_found = None because it was not detected by the end of an month\n"
     ]
    },
    {
     "name": "stderr",
     "output_type": "stream",
     "text": [
      " 13%|█▎        | 3/23 [01:25<09:05, 27.29s/it]"
     ]
    },
    {
     "name": "stdout",
     "output_type": "stream",
     "text": [
      "Saved Vomiting as first_found = None because it was not detected by the end of an month\n"
     ]
    },
    {
     "name": "stderr",
     "output_type": "stream",
     "text": [
      " 17%|█▋        | 4/23 [01:48<08:06, 25.62s/it]"
     ]
    },
    {
     "name": "stdout",
     "output_type": "stream",
     "text": [
      "Saved Myalgia as first_found = None because it was not detected by the end of an month\n"
     ]
    },
    {
     "name": "stderr",
     "output_type": "stream",
     "text": [
      " 22%|██▏       | 5/23 [02:11<07:18, 24.35s/it]"
     ]
    },
    {
     "name": "stdout",
     "output_type": "stream",
     "text": [
      "Saved Arthralgia as first_found = None because it was not detected by the end of an month\n"
     ]
    },
    {
     "name": "stderr",
     "output_type": "stream",
     "text": [
      " 26%|██▌       | 6/23 [02:38<07:13, 25.52s/it]"
     ]
    },
    {
     "name": "stdout",
     "output_type": "stream",
     "text": [
      "Saved Injection site pain as first_found = None because it was not detected by the end of an month\n"
     ]
    },
    {
     "name": "stderr",
     "output_type": "stream",
     "text": [
      " 30%|███       | 7/23 [03:10<07:21, 27.61s/it]"
     ]
    },
    {
     "name": "stdout",
     "output_type": "stream",
     "text": [
      "Saved Fatigue as first_found = None because it was not detected by the end of an month\n"
     ]
    },
    {
     "name": "stderr",
     "output_type": "stream",
     "text": [
      " 35%|███▍      | 8/23 [03:33<06:29, 25.95s/it]"
     ]
    },
    {
     "name": "stdout",
     "output_type": "stream",
     "text": [
      "Saved Malaise as first_found = None because it was not detected by the end of an month\n"
     ]
    },
    {
     "name": "stderr",
     "output_type": "stream",
     "text": [
      " 39%|███▉      | 9/23 [03:55<05:49, 24.99s/it]"
     ]
    },
    {
     "name": "stdout",
     "output_type": "stream",
     "text": [
      "Saved Injection site swelling as first_found = None because it was not detected by the end of an month\n"
     ]
    },
    {
     "name": "stderr",
     "output_type": "stream",
     "text": [
      " 43%|████▎     | 10/23 [04:33<06:13, 28.73s/it]"
     ]
    },
    {
     "name": "stdout",
     "output_type": "stream",
     "text": [
      "Saved Pyrexia as first_found = None because it was not detected by the end of an month\n"
     ]
    },
    {
     "name": "stderr",
     "output_type": "stream",
     "text": [
      " 48%|████▊     | 11/23 [04:57<05:29, 27.44s/it]"
     ]
    },
    {
     "name": "stdout",
     "output_type": "stream",
     "text": [
      "Saved Pain in extremity as first_found = None because it was not detected by the end of an month\n"
     ]
    },
    {
     "name": "stderr",
     "output_type": "stream",
     "text": [
      " 52%|█████▏    | 12/23 [05:14<04:25, 24.10s/it]"
     ]
    },
    {
     "name": "stdout",
     "output_type": "stream",
     "text": [
      "Saved Injection site pruritus as first_found = None because it was not detected by the end of an month\n"
     ]
    },
    {
     "name": "stderr",
     "output_type": "stream",
     "text": [
      " 57%|█████▋    | 13/23 [05:40<04:06, 24.69s/it]"
     ]
    },
    {
     "name": "stdout",
     "output_type": "stream",
     "text": [
      "Saved Chills as first_found = None because it was not detected by the end of an month\n"
     ]
    },
    {
     "name": "stderr",
     "output_type": "stream",
     "text": [
      " 61%|██████    | 14/23 [05:52<03:08, 20.90s/it]"
     ]
    },
    {
     "name": "stdout",
     "output_type": "stream",
     "text": [
      "Saved Injection site warmth as first_found = None because it was not detected by the end of an month\n"
     ]
    },
    {
     "name": "stderr",
     "output_type": "stream",
     "text": [
      " 65%|██████▌   | 15/23 [06:09<02:37, 19.71s/it]"
     ]
    },
    {
     "name": "stdout",
     "output_type": "stream",
     "text": [
      "Saved Lymphadenopathy as first_found = None because it was not detected by the end of an month\n",
      "found month 2022-08-31 00:00:00 for symptom 16 Paraesthesia, checking day\n"
     ]
    },
    {
     "name": "stderr",
     "output_type": "stream",
     "text": [
      " 70%|██████▉   | 16/23 [07:04<03:32, 30.36s/it]"
     ]
    },
    {
     "name": "stdout",
     "output_type": "stream",
     "text": [
      "signal 16 Paraesthesia found at 2022-08-07 00:00:00\n",
      "found month 2022-08-31 00:00:00 for symptom 17 Hypoaesthesia, checking day\n"
     ]
    },
    {
     "name": "stderr",
     "output_type": "stream",
     "text": [
      " 74%|███████▍  | 17/23 [07:57<03:44, 37.34s/it]"
     ]
    },
    {
     "name": "stdout",
     "output_type": "stream",
     "text": [
      "signal 17 Hypoaesthesia found at 2022-08-07 00:00:00\n",
      "found month 2022-08-31 00:00:00 for symptom 18 Pericarditis, checking day\n"
     ]
    },
    {
     "name": "stderr",
     "output_type": "stream",
     "text": [
      " 78%|███████▊  | 18/23 [08:19<02:43, 32.68s/it]"
     ]
    },
    {
     "name": "stdout",
     "output_type": "stream",
     "text": [
      "signal 18 Pericarditis found at 2022-08-31 00:00:00\n"
     ]
    },
    {
     "name": "stderr",
     "output_type": "stream",
     "text": [
      " 83%|████████▎ | 19/23 [08:28<01:42, 25.62s/it]"
     ]
    },
    {
     "name": "stdout",
     "output_type": "stream",
     "text": [
      "Saved Hypertension as first_found = None because it was not detected by the end of an month\n"
     ]
    },
    {
     "name": "stderr",
     "output_type": "stream",
     "text": [
      " 87%|████████▋ | 20/23 [08:45<01:09, 23.03s/it]"
     ]
    },
    {
     "name": "stdout",
     "output_type": "stream",
     "text": [
      "Saved Rash as first_found = None because it was not detected by the end of an month\n"
     ]
    },
    {
     "name": "stderr",
     "output_type": "stream",
     "text": [
      " 91%|█████████▏| 21/23 [08:52<00:36, 18.07s/it]"
     ]
    },
    {
     "name": "stdout",
     "output_type": "stream",
     "text": [
      "Saved Erythema as first_found = None because it was not detected by the end of an month\n"
     ]
    },
    {
     "name": "stderr",
     "output_type": "stream",
     "text": [
      " 96%|█████████▌| 22/23 [09:10<00:18, 18.21s/it]"
     ]
    },
    {
     "name": "stdout",
     "output_type": "stream",
     "text": [
      "Saved Pruritus as first_found = None because it was not detected by the end of an month\n"
     ]
    },
    {
     "name": "stderr",
     "output_type": "stream",
     "text": [
      "100%|██████████| 23/23 [09:23<00:00, 24.50s/it]"
     ]
    },
    {
     "name": "stdout",
     "output_type": "stream",
     "text": [
      "Saved Urticaria as first_found = None because it was not detected by the end of an month\n"
     ]
    },
    {
     "name": "stderr",
     "output_type": "stream",
     "text": [
      "\n"
     ]
    }
   ],
   "execution_count": 141
  },
  {
   "metadata": {
    "ExecuteTime": {
     "end_time": "2024-05-05T14:34:00.550394Z",
     "start_time": "2024-05-05T14:34:00.546603Z"
    }
   },
   "cell_type": "code",
   "source": [
    "file_name_filtered = \"First_found_filtered_Signals_Novavax.json\"\n",
    "with open(file_name_filtered, 'w') as f:\n",
    "    json.dump(signals_dict_Novavax, f)"
   ],
   "id": "bc37de361deb9602",
   "outputs": [],
   "execution_count": 142
  },
  {
   "metadata": {
    "ExecuteTime": {
     "end_time": "2024-05-05T11:25:03.965296Z",
     "start_time": "2024-05-05T11:25:03.951839Z"
    }
   },
   "cell_type": "code",
   "source": "signals_dict_Novavax",
   "id": "dcd508601ad94158",
   "outputs": [
    {
     "data": {
      "text/plain": [
       "[{'manufacturer': 'NOVAVAX',\n",
       "  'symptom': 'Paraesthesia',\n",
       "  'first_found': '2022-08-07'},\n",
       " {'manufacturer': 'NOVAVAX',\n",
       "  'symptom': 'Hypoaesthesia',\n",
       "  'first_found': '2022-08-07'},\n",
       " {'manufacturer': 'NOVAVAX',\n",
       "  'symptom': 'Pericarditis',\n",
       "  'first_found': '2022-08-31'}]"
      ]
     },
     "execution_count": 128,
     "metadata": {},
     "output_type": "execute_result"
    }
   ],
   "execution_count": 128
  },
  {
   "metadata": {},
   "cell_type": "markdown",
   "source": "### combine all signals and save as a dict with the symptom as key",
   "id": "8899de83fa2fe292"
  },
  {
   "metadata": {
    "ExecuteTime": {
     "end_time": "2024-05-06T08:19:09.456685Z",
     "start_time": "2024-05-06T08:19:09.442075Z"
    }
   },
   "cell_type": "code",
   "source": [
    "signals_dict_combined = {}\n",
    "\n",
    "# Merge signals_dict_Novavax\n",
    "for entry in signals_dict_Novavax:\n",
    "    symptom = entry.pop('symptom')  # Remove symptom from the entry and store it\n",
    "    if symptom not in signals_dict_combined:\n",
    "        signals_dict_combined[symptom] = [entry]\n",
    "    else:\n",
    "        signals_dict_combined[symptom].append(entry)\n",
    "\n",
    "# Merge signals_dict_Janssen\n",
    "for entry in signals_dict_Janssen:\n",
    "    symptom = entry.pop('symptom')  # Remove symptom from the entry and store it\n",
    "    if symptom not in signals_dict_combined:\n",
    "        signals_dict_combined[symptom] = [entry]\n",
    "    else:\n",
    "        signals_dict_combined[symptom].append(entry)\n",
    "\n",
    "# Merge signals_dict_Moderna\n",
    "for entry in signals_dict_Moderna:\n",
    "    symptom = entry.pop('symptom')  # Remove symptom from the entry and store it\n",
    "    if symptom not in signals_dict_combined:\n",
    "        signals_dict_combined[symptom] = [entry]\n",
    "    else:\n",
    "        signals_dict_combined[symptom].append(entry)\n",
    "\n",
    "# Merge signals_dict_Pfizer\n",
    "for entry in signals_dict_Pfizer:\n",
    "    symptom = entry.pop('symptom')  # Remove symptom from the entry and store it\n",
    "    if symptom not in signals_dict_combined:\n",
    "        signals_dict_combined[symptom] = [entry]\n",
    "    else:\n",
    "        signals_dict_combined[symptom].append(entry)\n",
    "        \n",
    "print(signals_dict_combined)"
   ],
   "id": "49deb160808160f0",
   "outputs": [
    {
     "name": "stdout",
     "output_type": "stream",
     "text": [
      "{'Headache': [{'manufacturer': 'NOVAVAX', 'first_found': 'NaN'}, {'manufacturer': 'JANSSEN', 'first_found': '2021-03-04'}, {'manufacturer': 'MODERNA', 'first_found': '2020-12-21'}, {'manufacturer': 'PFIZER\\\\BIONTECH', 'first_found': '2020-12-16'}], 'Nausea': [{'manufacturer': 'NOVAVAX', 'first_found': 'NaN'}, {'manufacturer': 'JANSSEN', 'first_found': '2021-03-04'}, {'manufacturer': 'MODERNA', 'first_found': '2020-12-23'}, {'manufacturer': 'PFIZER\\\\BIONTECH', 'first_found': '2020-12-16'}], 'Vomiting': [{'manufacturer': 'NOVAVAX', 'first_found': 'NaN'}, {'manufacturer': 'JANSSEN', 'first_found': '2021-03-10'}, {'manufacturer': 'MODERNA', 'first_found': '2020-12-24'}, {'manufacturer': 'PFIZER\\\\BIONTECH', 'first_found': '2021-01-15'}], 'Myalgia': [{'manufacturer': 'NOVAVAX', 'first_found': 'NaN'}, {'manufacturer': 'JANSSEN', 'first_found': '2021-03-06'}, {'manufacturer': 'MODERNA', 'first_found': '2020-12-23'}, {'manufacturer': 'PFIZER\\\\BIONTECH', 'first_found': '2020-12-17'}], 'Arthralgia': [{'manufacturer': 'NOVAVAX', 'first_found': 'NaN'}, {'manufacturer': 'JANSSEN', 'first_found': '2021-03-07'}, {'manufacturer': 'MODERNA', 'first_found': '2020-12-26'}, {'manufacturer': 'PFIZER\\\\BIONTECH', 'first_found': '2020-12-17'}], 'Injection site pain': [{'manufacturer': 'NOVAVAX', 'first_found': 'NaN'}, {'manufacturer': 'JANSSEN', 'first_found': 'NaN'}, {'manufacturer': 'MODERNA', 'first_found': '2020-12-24'}, {'manufacturer': 'PFIZER\\\\BIONTECH', 'first_found': '2020-12-16'}], 'Fatigue': [{'manufacturer': 'NOVAVAX', 'first_found': 'NaN'}, {'manufacturer': 'JANSSEN', 'first_found': '2021-03-05'}, {'manufacturer': 'MODERNA', 'first_found': '2020-12-23'}, {'manufacturer': 'PFIZER\\\\BIONTECH', 'first_found': '2020-12-16'}], 'Malaise': [{'manufacturer': 'NOVAVAX', 'first_found': 'NaN'}, {'manufacturer': 'PFIZER\\\\BIONTECH', 'first_found': '2020-12-16'}], 'Injection site swelling': [{'manufacturer': 'NOVAVAX', 'first_found': 'NaN'}, {'manufacturer': 'JANSSEN', 'first_found': 'NaN'}, {'manufacturer': 'MODERNA', 'first_found': '2021-01-04'}, {'manufacturer': 'PFIZER\\\\BIONTECH', 'first_found': 'NaN'}], 'Pyrexia': [{'manufacturer': 'NOVAVAX', 'first_found': 'NaN'}, {'manufacturer': 'JANSSEN', 'first_found': '2021-03-06'}, {'manufacturer': 'MODERNA', 'first_found': '2020-12-27'}, {'manufacturer': 'PFIZER\\\\BIONTECH', 'first_found': '2021-01-10'}], 'Pain in extremity': [{'manufacturer': 'NOVAVAX', 'first_found': 'NaN'}, {'manufacturer': 'JANSSEN', 'first_found': '2021-03-27'}, {'manufacturer': 'PFIZER\\\\BIONTECH', 'first_found': '2020-12-17'}], 'Injection site pruritus': [{'manufacturer': 'NOVAVAX', 'first_found': 'NaN'}, {'manufacturer': 'MODERNA', 'first_found': '2020-12-30'}, {'manufacturer': 'PFIZER\\\\BIONTECH', 'first_found': 'NaN'}], 'Chills': [{'manufacturer': 'NOVAVAX', 'first_found': 'NaN'}, {'manufacturer': 'JANSSEN', 'first_found': '2021-03-05'}, {'manufacturer': 'MODERNA', 'first_found': '2020-12-22'}, {'manufacturer': 'PFIZER\\\\BIONTECH', 'first_found': '2020-12-16'}], 'Injection site warmth': [{'manufacturer': 'NOVAVAX', 'first_found': 'NaN'}], 'Lymphadenopathy': [{'manufacturer': 'NOVAVAX', 'first_found': 'NaN'}, {'manufacturer': 'JANSSEN', 'first_found': 'NaN'}, {'manufacturer': 'MODERNA', 'first_found': '2020-12-30'}, {'manufacturer': 'PFIZER\\\\BIONTECH', 'first_found': '2020-12-24'}], 'Paraesthesia': [{'manufacturer': 'NOVAVAX', 'first_found': '2022-08-07'}, {'manufacturer': 'JANSSEN', 'first_found': '2021-03-12'}, {'manufacturer': 'MODERNA', 'first_found': '2020-12-22'}, {'manufacturer': 'PFIZER\\\\BIONTECH', 'first_found': '2020-12-15'}], 'Hypoaesthesia': [{'manufacturer': 'NOVAVAX', 'first_found': '2022-08-07'}, {'manufacturer': 'JANSSEN', 'first_found': '2021-03-10'}, {'manufacturer': 'MODERNA', 'first_found': '2020-12-22'}, {'manufacturer': 'PFIZER\\\\BIONTECH', 'first_found': '2020-12-17'}], 'Pericarditis': [{'manufacturer': 'NOVAVAX', 'first_found': '2022-08-31'}, {'manufacturer': 'JANSSEN', 'first_found': 'NaN'}, {'manufacturer': 'MODERNA', 'first_found': '2021-06-16'}, {'manufacturer': 'PFIZER\\\\BIONTECH', 'first_found': '2021-03-04'}], 'Hypertension': [{'manufacturer': 'NOVAVAX', 'first_found': 'NaN'}], 'Rash': [{'manufacturer': 'NOVAVAX', 'first_found': 'NaN'}, {'manufacturer': 'JANSSEN', 'first_found': 'NaN'}, {'manufacturer': 'MODERNA', 'first_found': '2021-06-17'}, {'manufacturer': 'PFIZER\\\\BIONTECH', 'first_found': 'NaN'}], 'Erythema': [{'manufacturer': 'NOVAVAX', 'first_found': 'NaN'}], 'Pruritus': [{'manufacturer': 'NOVAVAX', 'first_found': 'NaN'}, {'manufacturer': 'PFIZER\\\\BIONTECH', 'first_found': '2020-12-18'}], 'Urticaria': [{'manufacturer': 'NOVAVAX', 'first_found': 'NaN'}, {'manufacturer': 'JANSSEN', 'first_found': 'NaN'}, {'manufacturer': 'MODERNA', 'first_found': '2022-03-31'}, {'manufacturer': 'PFIZER\\\\BIONTECH', 'first_found': 'NaN'}], 'Immune thrombocytopenia': [{'manufacturer': 'JANSSEN', 'first_found': '2021-04-24'}], 'Dizziness': [{'manufacturer': 'JANSSEN', 'first_found': '2021-03-05'}, {'manufacturer': 'MODERNA', 'first_found': '2020-12-22'}, {'manufacturer': 'PFIZER\\\\BIONTECH', 'first_found': '2020-12-15'}], 'Tremor': [{'manufacturer': 'JANSSEN', 'first_found': '2021-03-05'}], 'Hypersensitivity': [{'manufacturer': 'JANSSEN', 'first_found': 'NaN'}, {'manufacturer': 'MODERNA', 'first_found': 'NaN'}], 'Facial paralysis': [{'manufacturer': 'JANSSEN', 'first_found': '2021-05-11'}, {'manufacturer': 'MODERNA', 'first_found': '2020-12-28'}, {'manufacturer': 'PFIZER\\\\BIONTECH', 'first_found': '2020-12-18'}], 'Tinnitus': [{'manufacturer': 'JANSSEN', 'first_found': '2021-03-09'}], 'Guillain-Barre syndrome': [{'manufacturer': 'JANSSEN', 'first_found': '2021-08-27'}], 'Myelitis': [{'manufacturer': 'JANSSEN', 'first_found': 'NaN'}], 'Myocarditis': [{'manufacturer': 'JANSSEN', 'first_found': 'NaN'}, {'manufacturer': 'MODERNA', 'first_found': '2021-06-03'}, {'manufacturer': 'PFIZER\\\\BIONTECH', 'first_found': '2021-03-25'}], 'Capillary leak syndrome': [{'manufacturer': 'JANSSEN', 'first_found': '2021-07-30'}], 'Cutaneous vasculitis': [{'manufacturer': 'JANSSEN', 'first_found': '2021-09-01'}], 'Cough': [{'manufacturer': 'JANSSEN', 'first_found': '2021-08-30'}], 'Oropharyngeal pain': [{'manufacturer': 'JANSSEN', 'first_found': '2021-03-18'}], 'Sneezing': [{'manufacturer': 'JANSSEN', 'first_found': 'NaN'}], 'Diarrhoea': [{'manufacturer': 'JANSSEN', 'first_found': '2021-03-15'}, {'manufacturer': 'MODERNA', 'first_found': '2021-01-01'}, {'manufacturer': 'PFIZER\\\\BIONTECH', 'first_found': '2020-12-17'}], 'Hyperhidrosis': [{'manufacturer': 'JANSSEN', 'first_found': '2021-03-05'}, {'manufacturer': 'PFIZER\\\\BIONTECH', 'first_found': '2020-12-16'}], 'Muscular weakness': [{'manufacturer': 'JANSSEN', 'first_found': '2021-07-14'}], 'Back pain': [{'manufacturer': 'JANSSEN', 'first_found': '2021-03-07'}], 'Decreased appetite': [{'manufacturer': 'MODERNA', 'first_found': '2021-01-04'}, {'manufacturer': 'PFIZER\\\\BIONTECH', 'first_found': '2021-01-07'}], 'Irritability': [{'manufacturer': 'MODERNA', 'first_found': 'NaN'}], 'Crying': [{'manufacturer': 'MODERNA', 'first_found': 'NaN'}], 'Abdominal pain': [{'manufacturer': 'MODERNA', 'first_found': 'NaN'}], 'Erythema multiforme': [{'manufacturer': 'MODERNA', 'first_found': '2021-01-08'}, {'manufacturer': 'PFIZER\\\\BIONTECH', 'first_found': 'NaN'}], 'Mechanical urticaria': [{'manufacturer': 'MODERNA', 'first_found': '2021-01-13'}], 'Heavy menstrual bleeding': [{'manufacturer': 'MODERNA', 'first_found': '2021-01-27'}, {'manufacturer': 'PFIZER\\\\BIONTECH', 'first_found': '2021-01-16'}], 'Injection site erythema': [{'manufacturer': 'MODERNA', 'first_found': '2021-01-06'}], 'Injection site urticaria': [{'manufacturer': 'MODERNA', 'first_found': '2021-01-03'}], 'Injection site rash': [{'manufacturer': 'MODERNA', 'first_found': '2021-01-05'}], 'Extensive swelling of vaccinated limb': [{'manufacturer': 'MODERNA', 'first_found': '2022-03-15'}, {'manufacturer': 'PFIZER\\\\BIONTECH', 'first_found': 'NaN'}], 'Angioedema': [{'manufacturer': 'PFIZER\\\\BIONTECH', 'first_found': '2021-01-07'}], 'Insomnia': [{'manufacturer': 'PFIZER\\\\BIONTECH', 'first_found': '2021-03-01'}], 'Lethargy': [{'manufacturer': 'PFIZER\\\\BIONTECH', 'first_found': '2021-01-27'}], 'Night sweats': [{'manufacturer': 'PFIZER\\\\BIONTECH', 'first_found': '2020-12-21'}], 'Asthenia': [{'manufacturer': 'PFIZER\\\\BIONTECH', 'first_found': '2021-01-07'}]}\n"
     ]
    }
   ],
   "execution_count": 157
  },
  {
   "metadata": {
    "ExecuteTime": {
     "end_time": "2024-05-06T08:19:11.038641Z",
     "start_time": "2024-05-06T08:19:11.030320Z"
    }
   },
   "cell_type": "code",
   "source": [
    "file_name_filtered = \"All_signals_filtered_first_found.json\"\n",
    "with open(file_name_filtered, 'w') as f:\n",
    "    json.dump(signals_dict_combined, f)"
   ],
   "id": "f0c19e650230de20",
   "outputs": [],
   "execution_count": 158
  },
  {
   "metadata": {},
   "cell_type": "code",
   "outputs": [],
   "execution_count": null,
   "source": "",
   "id": "4125ef7422f9ce0a"
  }
 ],
 "metadata": {
  "kernelspec": {
   "display_name": "Python 3",
   "language": "python",
   "name": "python3"
  },
  "language_info": {
   "codemirror_mode": {
    "name": "ipython",
    "version": 2
   },
   "file_extension": ".py",
   "mimetype": "text/x-python",
   "name": "python",
   "nbconvert_exporter": "python",
   "pygments_lexer": "ipython2",
   "version": "2.7.6"
  }
 },
 "nbformat": 4,
 "nbformat_minor": 5
}

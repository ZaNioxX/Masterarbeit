{
 "cells": [
  {
   "cell_type": "code",
   "id": "initial_id",
   "metadata": {
    "collapsed": true,
    "ExecuteTime": {
     "end_time": "2024-06-11T20:15:26.700038Z",
     "start_time": "2024-06-11T20:15:26.687328Z"
    }
   },
   "source": [
    "from pymongo import MongoClient\n",
    "import sys\n",
    "sys.path.append('../statistical_calculations')  # Adds the statistical_calculations directory to the path\n",
    "import disproportionaly_analysis\n",
    "from tqdm import tqdm\n",
    "import json\n",
    "from datetime import datetime, timedelta \n",
    "from calendar import monthrange\n",
    "\n",
    "# Connect to your MongoDB instance\n",
    "client = MongoClient('mongodb://localhost:27017/')\n",
    "db = client['vaers']  \n",
    "col = db['reports cleaned']"
   ],
   "outputs": [],
   "execution_count": 6
  },
  {
   "metadata": {
    "ExecuteTime": {
     "end_time": "2024-06-11T20:15:27.086363Z",
     "start_time": "2024-06-11T20:15:27.076926Z"
    }
   },
   "cell_type": "code",
   "source": [
    "end_date = datetime(2020, 11, 30)\n",
    "\n",
    "# Define a function to reduce the date range by a month\n",
    "def reduce_date_range_by_month(start_date):\n",
    "    # Get the year and month of the start date\n",
    "    year = start_date.year\n",
    "    month = start_date.month\n",
    "    \n",
    "    # Calculate the new year and month\n",
    "    if month == 1:  # If the current month is January\n",
    "        new_year = year - 1\n",
    "        new_month = 12  # December of the previous year\n",
    "    else:\n",
    "        new_year = year\n",
    "        new_month = month - 1\n",
    "    \n",
    "    # Construct the new start date\n",
    "    _, last_day_of_previous_month = monthrange(new_year, new_month)\n",
    "    new_start_date = datetime(new_year, new_month, last_day_of_previous_month)\n",
    "    \n",
    "    return new_start_date\n",
    "\n",
    "def reduce_date_range_by_day(start_date):\n",
    "    new_start_date = start_date - timedelta(days=1)  # Subtract one day from the start_date\n",
    "    return new_start_date"
   ],
   "id": "c282a57790cd8c8d",
   "outputs": [],
   "execution_count": 7
  },
  {
   "metadata": {},
   "cell_type": "markdown",
   "source": "### PFIZER/BIONTECH",
   "id": "8875b9f8a9d6c10"
  },
  {
   "metadata": {
    "ExecuteTime": {
     "end_time": "2024-06-11T20:15:28.548519Z",
     "start_time": "2024-06-11T20:15:28.541465Z"
    }
   },
   "cell_type": "code",
   "source": [
    "file_name_filtered = \"Arrays/Signals_Pfizer.json\"\n",
    "with open(file_name_filtered, 'r') as f:\n",
    "    Signals_Pfizer = json.load(f)"
   ],
   "id": "2b30b944d22daa63",
   "outputs": [],
   "execution_count": 8
  },
  {
   "metadata": {
    "ExecuteTime": {
     "end_time": "2024-06-11T20:15:29.503347Z",
     "start_time": "2024-06-11T20:15:29.499592Z"
    }
   },
   "cell_type": "code",
   "source": "filtered_signals_Pfizer = [signal for signal in Signals_Pfizer if signal[\"status\"] != \"Not found\"]",
   "id": "7f994e517b8d8c27",
   "outputs": [],
   "execution_count": 9
  },
  {
   "metadata": {
    "ExecuteTime": {
     "end_time": "2024-06-11T20:15:29.929799Z",
     "start_time": "2024-06-11T20:15:29.922768Z"
    }
   },
   "cell_type": "code",
   "source": "len(filtered_signals_Pfizer)",
   "id": "16bf5a032ca855eb",
   "outputs": [
    {
     "data": {
      "text/plain": [
       "34"
      ]
     },
     "execution_count": 10,
     "metadata": {},
     "output_type": "execute_result"
    }
   ],
   "execution_count": 10
  },
  {
   "metadata": {
    "ExecuteTime": {
     "end_time": "2024-06-11T23:16:06.178378Z",
     "start_time": "2024-06-11T20:15:30.859410Z"
    }
   },
   "cell_type": "code",
   "source": [
    "from datetime import datetime\n",
    "\n",
    "# Loop until a signal is not found anymore\n",
    "signals_dict_Pfizer = []\n",
    "i= 0\n",
    "for reaction in tqdm(filtered_signals_Pfizer):\n",
    "    i+=1\n",
    "    symptom = reaction['symptom']\n",
    "    start_date = datetime(2023, 12, 31)\n",
    "    first_found = datetime(2000, 1, 1)\n",
    "    while True:\n",
    "        N_query = {\"RECVDATE\": {\"$lte\": start_date}}\n",
    "        N = col.count_documents(N_query)\n",
    "        \n",
    "        D_query = {\n",
    "            \"RECVDATE\": {\"$lte\": start_date},\n",
    "            \"vax_data\": {\n",
    "                \"$elemMatch\": {\n",
    "                    \"VAX_MANU\": reaction[\"manufacturer\"],\n",
    "                    \"VAX_TYPE\": reaction[\"vaccine\"]\n",
    "                }\n",
    "            }\n",
    "        }\n",
    "        D = col.count_documents(D_query)\n",
    "        \n",
    "        E_query = {\n",
    "            \"RECVDATE\": {\"$lte\": start_date},\n",
    "            \"symptoms\": {\n",
    "                \"$elemMatch\": {\n",
    "                    \"$in\": [reaction[\"symptom\"]]\n",
    "                }\n",
    "            }\n",
    "        }\n",
    "        E = col.count_documents(E_query)\n",
    "        \n",
    "        DE_query = {'$and': [D_query, E_query]}\n",
    "        DE = col.count_documents(DE_query)\n",
    "        if DE >= 3: \n",
    "        \n",
    "            De = D - DE\n",
    "            dE = E - DE\n",
    "            de = N - (DE + De + dE)\n",
    "            \n",
    "                \n",
    "            # Ensure all necessary data is available\n",
    "            if None in [DE, dE, De, de]:\n",
    "                continue\n",
    "            \n",
    "            contingency_table = [\n",
    "                [DE, dE],\n",
    "                [De, de]\n",
    "            ]\n",
    "            #print(contingency_table)\n",
    "            # Compute statistical measures\n",
    "            rrr, sd_rrr = disproportionaly_analysis.relative_reporting_ratio(contingency_table), disproportionaly_analysis.sd_rrr(contingency_table)\n",
    "            rrr_ci_lower, rrr_ci_upper = disproportionaly_analysis.confidence_interval(rrr, sd_rrr)\n",
    "            \n",
    "            prr, sd_prr = disproportionaly_analysis.proportional_reporting_ratio(contingency_table), disproportionaly_analysis.sd_prr(contingency_table)\n",
    "            prr_ci_lower, prr_ci_upper = disproportionaly_analysis.confidence_interval(prr, sd_prr)\n",
    "            \n",
    "            ror, sd_ror = disproportionaly_analysis.reporting_odds_ratio(contingency_table), disproportionaly_analysis.sd_ror(contingency_table)\n",
    "            ror_ci_lower, ror_ci_upper = disproportionaly_analysis.confidence_interval(ror, sd_ror)\n",
    "            \n",
    "            chi_square = disproportionaly_analysis.chi_square_yates(contingency_table)\n",
    "            IC = disproportionaly_analysis.information_component(contingency_table)\n",
    "            IC_ci_lower, IC_ci_upper = disproportionaly_analysis.confidence_interval_information_component(contingency_table, IC)\n",
    "            \n",
    "            # Determine if the reaction meets criteria for a signal\n",
    "            method_1 = rrr > 2 and prr > 2 and ror > 2 and chi_square > 3.841\n",
    "            IC_CI = IC_ci_lower > 0 \n",
    "                    \n",
    "            if IC_CI:\n",
    "                #print(f\"Signal found for {start_date}\")\n",
    "                first_found = start_date\n",
    "                start_date = reduce_date_range_by_month(start_date)\n",
    "                #print(f\"Reducing by a month..., checking {start_date}\")\n",
    "            else:\n",
    "                #print(\"Signal not found\")\n",
    "                start_date = reduce_date_range_by_month(start_date)\n",
    "                #print(f\"Reducing by a month..., checking {start_date}\")# Exit the loop if no signal is found anymore\n",
    "            if start_date < end_date:\n",
    "                break\n",
    "        else:\n",
    "            break\n",
    "            \n",
    "    if first_found == datetime(2000, 1, 1):\n",
    "        print(f\"Saved {symptom} as first_found = None because it was not detected by the end of an month\")\n",
    "        signals_dict_Pfizer.append({\"manufacturer\": reaction[\"manufacturer\"], \"symptom\": reaction[\"symptom\"], \"first_found\": \"NaN\"})\n",
    "    else:\n",
    "            \n",
    "        print(f\"found month {first_found} for symptom {i} {symptom}, checking day\")\n",
    "        start_date = first_found\n",
    "        while True:\n",
    "            #print(f\"checking day {start_date}\")\n",
    "                    #print(f\"checking symptom {reaction['symptom']}\")\n",
    "            N_query = {\"RECVDATE\": {\"$lte\": start_date}}\n",
    "            N = col.count_documents(N_query)\n",
    "            \n",
    "            D_query = {\n",
    "                \"RECVDATE\": {\"$lte\": start_date},\n",
    "                \"vax_data\": {\n",
    "                    \"$elemMatch\": {\n",
    "                        \"VAX_MANU\": reaction[\"manufacturer\"],\n",
    "                        \"VAX_TYPE\": reaction[\"vaccine\"]\n",
    "                    }\n",
    "                }\n",
    "            }\n",
    "            D = col.count_documents(D_query)\n",
    "            \n",
    "            E_query = {\n",
    "                \"RECVDATE\": {\"$lte\": start_date},\n",
    "                \"symptoms\": {\n",
    "                    \"$elemMatch\": {\n",
    "                        \"$in\": [reaction[\"symptom\"]]\n",
    "                    }\n",
    "                }\n",
    "            }\n",
    "            E = col.count_documents(E_query)\n",
    "            \n",
    "            DE_query = {'$and': [D_query, E_query]}\n",
    "            DE = col.count_documents(DE_query)\n",
    "            if DE >= 3: \n",
    "            \n",
    "                De = D - DE\n",
    "                dE = E - DE\n",
    "                de = N - (DE + De + dE)\n",
    "                \n",
    "                    \n",
    "                # Ensure all necessary data is available\n",
    "                if None in [DE, dE, De, de]:\n",
    "                    continue\n",
    "                \n",
    "                contingency_table = [\n",
    "                    [DE, dE],\n",
    "                    [De, de]\n",
    "                ]\n",
    "                #print(contingency_table)\n",
    "                # Compute statistical measures\n",
    "                rrr, sd_rrr = disproportionaly_analysis.relative_reporting_ratio(contingency_table), disproportionaly_analysis.sd_rrr(contingency_table)\n",
    "                rrr_ci_lower, rrr_ci_upper = disproportionaly_analysis.confidence_interval(rrr, sd_rrr)\n",
    "                \n",
    "                prr, sd_prr = disproportionaly_analysis.proportional_reporting_ratio(contingency_table), disproportionaly_analysis.sd_prr(contingency_table)\n",
    "                prr_ci_lower, prr_ci_upper = disproportionaly_analysis.confidence_interval(prr, sd_prr)\n",
    "                \n",
    "                ror, sd_ror = disproportionaly_analysis.reporting_odds_ratio(contingency_table), disproportionaly_analysis.sd_ror(contingency_table)\n",
    "                ror_ci_lower, ror_ci_upper = disproportionaly_analysis.confidence_interval(ror, sd_ror)\n",
    "                \n",
    "                chi_square = disproportionaly_analysis.chi_square_yates(contingency_table)\n",
    "                IC = disproportionaly_analysis.information_component(contingency_table)\n",
    "                IC_ci_lower, IC_ci_upper = disproportionaly_analysis.confidence_interval_information_component(contingency_table, IC)\n",
    "                \n",
    "                # Determine if the reaction meets criteria for a signal\n",
    "                method_1 = rrr > 2 and prr > 2 and ror > 2 and chi_square > 3.841\n",
    "                method_2 = IC_ci_lower > 0 and ror_ci_lower > 1 and prr_ci_lower > 1 and rrr_ci_lower > 1\n",
    "                IC_CI = IC_ci_lower > 0\n",
    "                    \n",
    "                if IC_CI:\n",
    "                    #print(f\"Signal found for {start_date}\")\n",
    "                    first_found = start_date\n",
    "                    if start_date.day == 1:  # Check if the day is the first day of the month\n",
    "                        signal_info = {\n",
    "                            \"manufacturer\": reaction[\"manufacturer\"],\n",
    "                            \"symptom\": reaction[\"symptom\"],\n",
    "                            \"first_found\": first_found.strftime(\"%Y-%m-%d\")  # Convert datetime to string\n",
    "                        }\n",
    "                        signals_dict_Pfizer.append(signal_info)\n",
    "                        print(f\"signal {i} {symptom} found at {first_found}\")\n",
    "                        break  # If it is the first day, exit the loop        \n",
    "                    start_date = reduce_date_range_by_day(start_date)\n",
    "                    #print(f\"Reducing by a month..., checking {start_date}\")\n",
    "                else:\n",
    "                    #print(\"Signal not found\")\n",
    "                    if start_date.day == 1:  # Check if the day is the first day of the month\n",
    "                        signal_info = {\n",
    "                            \"manufacturer\": reaction[\"manufacturer\"],\n",
    "                            \"symptom\": reaction[\"symptom\"],\n",
    "                            \"first_found\": first_found.strftime(\"%Y-%m-%d\")  # Convert datetime to string\n",
    "                        }\n",
    "                        signals_dict_Pfizer.append(signal_info)\n",
    "                        print(f\"signal {i} {symptom} found at {first_found}\")\n",
    "                        break  # If it is the first day, exit the loop\n",
    "                    start_date = reduce_date_range_by_day(start_date)\n",
    "                    #print(f\"Reducing by a month..., checking {start_date}\")# Exit the loop if no signal is found anymore\n",
    "    \n",
    "            else: \n",
    "                #print(f\"DE < 3 for {start_date}\")\n",
    "                signal_info = {\n",
    "                    \"manufacturer\": reaction[\"manufacturer\"],\n",
    "                    \"symptom\": reaction[\"symptom\"],\n",
    "                    \"first_found\": first_found.strftime(\"%Y-%m-%d\")  # Convert datetime to string\n",
    "                }\n",
    "                signals_dict_Pfizer.append(signal_info)\n",
    "                print(f\"signal {i} {symptom} found at {first_found}\")\n",
    "                break\n",
    "    "
   ],
   "id": "c16958b19e067aa",
   "outputs": [
    {
     "name": "stderr",
     "output_type": "stream",
     "text": [
      "  0%|          | 0/34 [00:00<?, ?it/s]"
     ]
    },
    {
     "name": "stdout",
     "output_type": "stream",
     "text": [
      "found month 2021-01-31 00:00:00 for symptom 1 Vomiting, checking day\n"
     ]
    },
    {
     "name": "stderr",
     "output_type": "stream",
     "text": [
      "  3%|▎         | 1/34 [07:51<4:19:05, 471.07s/it]"
     ]
    },
    {
     "name": "stdout",
     "output_type": "stream",
     "text": [
      "signal 1 Vomiting found at 2021-01-09 00:00:00\n",
      "found month 2020-12-31 00:00:00 for symptom 2 Lymphadenopathy, checking day\n"
     ]
    },
    {
     "name": "stderr",
     "output_type": "stream",
     "text": [
      "  6%|▌         | 2/34 [13:51<3:36:28, 405.90s/it]"
     ]
    },
    {
     "name": "stdout",
     "output_type": "stream",
     "text": [
      "signal 2 Lymphadenopathy found at 2020-12-20 00:00:00\n"
     ]
    },
    {
     "name": "stderr",
     "output_type": "stream",
     "text": [
      "  9%|▉         | 3/34 [18:19<2:57:19, 343.21s/it]"
     ]
    },
    {
     "name": "stdout",
     "output_type": "stream",
     "text": [
      "Saved Rash as first_found = None because it was not detected by the end of an month\n",
      "found month 2020-12-31 00:00:00 for symptom 4 Pruritus, checking day\n"
     ]
    },
    {
     "name": "stderr",
     "output_type": "stream",
     "text": [
      " 12%|█▏        | 4/34 [24:31<2:57:11, 354.38s/it]"
     ]
    },
    {
     "name": "stdout",
     "output_type": "stream",
     "text": [
      "signal 4 Pruritus found at 2020-12-17 00:00:00\n",
      "found month 2020-12-31 00:00:00 for symptom 5 Urticaria, checking day\n"
     ]
    },
    {
     "name": "stderr",
     "output_type": "stream",
     "text": [
      " 15%|█▍        | 5/34 [30:23<2:50:51, 353.51s/it]"
     ]
    },
    {
     "name": "stdout",
     "output_type": "stream",
     "text": [
      "signal 5 Urticaria found at 2020-12-22 00:00:00\n",
      "found month 2020-12-31 00:00:00 for symptom 6 Angioedema, checking day\n"
     ]
    },
    {
     "name": "stderr",
     "output_type": "stream",
     "text": [
      " 18%|█▊        | 6/34 [34:07<2:24:27, 309.56s/it]"
     ]
    },
    {
     "name": "stdout",
     "output_type": "stream",
     "text": [
      "signal 6 Angioedema found at 2020-12-20 00:00:00\n",
      "found month 2020-12-31 00:00:00 for symptom 7 Decreased appetite, checking day\n"
     ]
    },
    {
     "name": "stderr",
     "output_type": "stream",
     "text": [
      " 21%|██        | 7/34 [40:10<2:27:11, 327.10s/it]"
     ]
    },
    {
     "name": "stdout",
     "output_type": "stream",
     "text": [
      "signal 7 Decreased appetite found at 2020-12-28 00:00:00\n",
      "found month 2021-02-28 00:00:00 for symptom 8 Insomnia, checking day\n"
     ]
    },
    {
     "name": "stderr",
     "output_type": "stream",
     "text": [
      " 24%|██▎       | 8/34 [47:35<2:37:55, 364.45s/it]"
     ]
    },
    {
     "name": "stdout",
     "output_type": "stream",
     "text": [
      "signal 8 Insomnia found at 2021-02-08 00:00:00\n",
      "found month 2020-12-31 00:00:00 for symptom 9 Headache, checking day\n"
     ]
    },
    {
     "name": "stderr",
     "output_type": "stream",
     "text": [
      " 26%|██▋       | 9/34 [54:22<2:37:21, 377.66s/it]"
     ]
    },
    {
     "name": "stdout",
     "output_type": "stream",
     "text": [
      "signal 9 Headache found at 2020-12-15 00:00:00\n",
      "found month 2020-12-31 00:00:00 for symptom 10 Dizziness, checking day\n"
     ]
    },
    {
     "name": "stderr",
     "output_type": "stream",
     "text": [
      " 29%|██▉       | 10/34 [1:00:49<2:32:14, 380.60s/it]"
     ]
    },
    {
     "name": "stdout",
     "output_type": "stream",
     "text": [
      "signal 10 Dizziness found at 2020-12-15 00:00:00\n",
      "found month 2021-01-31 00:00:00 for symptom 11 Lethargy, checking day\n"
     ]
    },
    {
     "name": "stderr",
     "output_type": "stream",
     "text": [
      " 32%|███▏      | 11/34 [1:08:26<2:34:51, 403.96s/it]"
     ]
    },
    {
     "name": "stdout",
     "output_type": "stream",
     "text": [
      "signal 11 Lethargy found at 2021-01-13 00:00:00\n",
      "found month 2020-12-31 00:00:00 for symptom 12 Facial paralysis, checking day\n"
     ]
    },
    {
     "name": "stderr",
     "output_type": "stream",
     "text": [
      " 35%|███▌      | 12/34 [1:11:43<2:05:07, 341.25s/it]"
     ]
    },
    {
     "name": "stdout",
     "output_type": "stream",
     "text": [
      "signal 12 Facial paralysis found at 2020-12-18 00:00:00\n",
      "found month 2020-12-31 00:00:00 for symptom 13 Paraesthesia, checking day\n"
     ]
    },
    {
     "name": "stderr",
     "output_type": "stream",
     "text": [
      " 38%|███▊      | 13/34 [1:16:25<1:53:05, 323.12s/it]"
     ]
    },
    {
     "name": "stdout",
     "output_type": "stream",
     "text": [
      "signal 13 Paraesthesia found at 2020-12-15 00:00:00\n",
      "found month 2020-12-31 00:00:00 for symptom 14 Hypoaesthesia, checking day\n"
     ]
    },
    {
     "name": "stderr",
     "output_type": "stream",
     "text": [
      " 41%|████      | 14/34 [1:22:06<1:49:32, 328.64s/it]"
     ]
    },
    {
     "name": "stdout",
     "output_type": "stream",
     "text": [
      "signal 14 Hypoaesthesia found at 2020-12-17 00:00:00\n",
      "found month 2021-03-31 00:00:00 for symptom 15 Myocarditis, checking day\n"
     ]
    },
    {
     "name": "stderr",
     "output_type": "stream",
     "text": [
      " 44%|████▍     | 15/34 [1:26:00<1:35:02, 300.12s/it]"
     ]
    },
    {
     "name": "stdout",
     "output_type": "stream",
     "text": [
      "signal 15 Myocarditis found at 2021-03-03 00:00:00\n",
      "found month 2021-02-28 00:00:00 for symptom 16 Pericarditis, checking day\n"
     ]
    },
    {
     "name": "stderr",
     "output_type": "stream",
     "text": [
      " 47%|████▋     | 16/34 [1:29:39<1:22:43, 275.73s/it]"
     ]
    },
    {
     "name": "stdout",
     "output_type": "stream",
     "text": [
      "signal 16 Pericarditis found at 2021-02-23 00:00:00\n",
      "found month 2020-12-31 00:00:00 for symptom 17 Diarrhoea, checking day\n"
     ]
    },
    {
     "name": "stderr",
     "output_type": "stream",
     "text": [
      " 50%|█████     | 17/34 [1:33:50<1:16:00, 268.29s/it]"
     ]
    },
    {
     "name": "stdout",
     "output_type": "stream",
     "text": [
      "signal 17 Diarrhoea found at 2020-12-16 00:00:00\n",
      "found month 2020-12-31 00:00:00 for symptom 18 Nausea, checking day\n"
     ]
    },
    {
     "name": "stderr",
     "output_type": "stream",
     "text": [
      " 53%|█████▎    | 18/34 [1:40:19<1:21:13, 304.59s/it]"
     ]
    },
    {
     "name": "stdout",
     "output_type": "stream",
     "text": [
      "signal 18 Nausea found at 2020-12-16 00:00:00\n",
      "found month 2020-12-31 00:00:00 for symptom 19 Hyperhidrosis, checking day\n"
     ]
    },
    {
     "name": "stderr",
     "output_type": "stream",
     "text": [
      " 56%|█████▌    | 19/34 [1:46:28<1:20:58, 323.87s/it]"
     ]
    },
    {
     "name": "stdout",
     "output_type": "stream",
     "text": [
      "signal 19 Hyperhidrosis found at 2020-12-16 00:00:00\n",
      "found month 2020-12-31 00:00:00 for symptom 20 Night sweats, checking day\n"
     ]
    },
    {
     "name": "stderr",
     "output_type": "stream",
     "text": [
      " 59%|█████▉    | 20/34 [1:51:13<1:12:50, 312.14s/it]"
     ]
    },
    {
     "name": "stdout",
     "output_type": "stream",
     "text": [
      "signal 20 Night sweats found at 2020-12-21 00:00:00\n"
     ]
    },
    {
     "name": "stderr",
     "output_type": "stream",
     "text": [
      " 62%|██████▏   | 21/34 [1:53:28<56:08, 259.08s/it]  "
     ]
    },
    {
     "name": "stdout",
     "output_type": "stream",
     "text": [
      "Saved Erythema multiforme as first_found = None because it was not detected by the end of an month\n",
      "found month 2020-12-31 00:00:00 for symptom 22 Arthralgia, checking day\n"
     ]
    },
    {
     "name": "stderr",
     "output_type": "stream",
     "text": [
      " 65%|██████▍   | 22/34 [1:58:00<52:34, 262.87s/it]"
     ]
    },
    {
     "name": "stdout",
     "output_type": "stream",
     "text": [
      "signal 22 Arthralgia found at 2020-12-17 00:00:00\n",
      "found month 2020-12-31 00:00:00 for symptom 23 Myalgia, checking day\n"
     ]
    },
    {
     "name": "stderr",
     "output_type": "stream",
     "text": [
      " 68%|██████▊   | 23/34 [2:04:11<54:07, 295.20s/it]"
     ]
    },
    {
     "name": "stdout",
     "output_type": "stream",
     "text": [
      "signal 23 Myalgia found at 2020-12-16 00:00:00\n",
      "found month 2020-12-31 00:00:00 for symptom 24 Pain in extremity, checking day\n"
     ]
    },
    {
     "name": "stderr",
     "output_type": "stream",
     "text": [
      " 71%|███████   | 24/34 [2:10:20<52:55, 317.51s/it]"
     ]
    },
    {
     "name": "stdout",
     "output_type": "stream",
     "text": [
      "signal 24 Pain in extremity found at 2020-12-17 00:00:00\n",
      "found month 2021-01-31 00:00:00 for symptom 25 Heavy menstrual bleeding, checking day\n"
     ]
    },
    {
     "name": "stderr",
     "output_type": "stream",
     "text": [
      " 74%|███████▎  | 25/34 [2:13:35<42:06, 280.73s/it]"
     ]
    },
    {
     "name": "stdout",
     "output_type": "stream",
     "text": [
      "signal 25 Heavy menstrual bleeding found at 2021-01-16 00:00:00\n",
      "found month 2020-12-31 00:00:00 for symptom 26 Injection site pain, checking day\n"
     ]
    },
    {
     "name": "stderr",
     "output_type": "stream",
     "text": [
      " 76%|███████▋  | 26/34 [2:19:33<40:30, 303.83s/it]"
     ]
    },
    {
     "name": "stdout",
     "output_type": "stream",
     "text": [
      "signal 26 Injection site pain found at 2020-12-16 00:00:00\n",
      "found month 2020-12-31 00:00:00 for symptom 27 Fatigue, checking day\n"
     ]
    },
    {
     "name": "stderr",
     "output_type": "stream",
     "text": [
      " 79%|███████▉  | 27/34 [2:25:38<37:35, 322.26s/it]"
     ]
    },
    {
     "name": "stdout",
     "output_type": "stream",
     "text": [
      "signal 27 Fatigue found at 2020-12-16 00:00:00\n",
      "found month 2020-12-31 00:00:00 for symptom 28 Chills, checking day\n"
     ]
    },
    {
     "name": "stderr",
     "output_type": "stream",
     "text": [
      " 82%|████████▏ | 28/34 [2:31:28<33:03, 330.64s/it]"
     ]
    },
    {
     "name": "stdout",
     "output_type": "stream",
     "text": [
      "signal 28 Chills found at 2020-12-16 00:00:00\n",
      "found month 2021-01-31 00:00:00 for symptom 29 Pyrexia, checking day\n"
     ]
    },
    {
     "name": "stderr",
     "output_type": "stream",
     "text": [
      " 85%|████████▌ | 29/34 [2:39:16<30:58, 371.69s/it]"
     ]
    },
    {
     "name": "stdout",
     "output_type": "stream",
     "text": [
      "signal 29 Pyrexia found at 2021-01-08 00:00:00\n"
     ]
    },
    {
     "name": "stderr",
     "output_type": "stream",
     "text": [
      " 88%|████████▊ | 30/34 [2:43:14<22:06, 331.70s/it]"
     ]
    },
    {
     "name": "stdout",
     "output_type": "stream",
     "text": [
      "Saved Injection site swelling as first_found = None because it was not detected by the end of an month\n",
      "found month 2020-12-31 00:00:00 for symptom 31 Asthenia, checking day\n"
     ]
    },
    {
     "name": "stderr",
     "output_type": "stream",
     "text": [
      " 91%|█████████ | 31/34 [2:48:55<16:43, 334.43s/it]"
     ]
    },
    {
     "name": "stdout",
     "output_type": "stream",
     "text": [
      "signal 31 Asthenia found at 2020-12-16 00:00:00\n",
      "found month 2020-12-31 00:00:00 for symptom 32 Malaise, checking day\n"
     ]
    },
    {
     "name": "stderr",
     "output_type": "stream",
     "text": [
      " 94%|█████████▍| 32/34 [2:54:36<11:12, 336.32s/it]"
     ]
    },
    {
     "name": "stdout",
     "output_type": "stream",
     "text": [
      "signal 32 Malaise found at 2020-12-16 00:00:00\n"
     ]
    },
    {
     "name": "stderr",
     "output_type": "stream",
     "text": [
      " 97%|█████████▋| 33/34 [2:58:31<05:05, 305.87s/it]"
     ]
    },
    {
     "name": "stdout",
     "output_type": "stream",
     "text": [
      "Saved Injection site pruritus as first_found = None because it was not detected by the end of an month\n"
     ]
    },
    {
     "name": "stderr",
     "output_type": "stream",
     "text": [
      "100%|██████████| 34/34 [3:00:35<00:00, 318.68s/it]"
     ]
    },
    {
     "name": "stdout",
     "output_type": "stream",
     "text": [
      "Saved Extensive swelling of vaccinated limb as first_found = None because it was not detected by the end of an month\n"
     ]
    },
    {
     "name": "stderr",
     "output_type": "stream",
     "text": [
      "\n"
     ]
    }
   ],
   "execution_count": 11
  },
  {
   "metadata": {
    "ExecuteTime": {
     "end_time": "2024-06-11T23:16:06.187497Z",
     "start_time": "2024-06-11T23:16:06.181315Z"
    }
   },
   "cell_type": "code",
   "source": [
    "file_name_filtered = \"Arrays/First_found_filtered_Signals_Pfizer_IC_CI.json\"\n",
    "with open(file_name_filtered, 'w') as f:\n",
    "    json.dump(signals_dict_Pfizer, f)"
   ],
   "id": "a0d675277605ebba",
   "outputs": [],
   "execution_count": 12
  },
  {
   "metadata": {
    "ExecuteTime": {
     "end_time": "2024-06-11T23:16:06.208316Z",
     "start_time": "2024-06-11T23:16:06.189640Z"
    }
   },
   "cell_type": "code",
   "source": "signals_dict_Pfizer",
   "id": "306ba877d661bcc5",
   "outputs": [
    {
     "data": {
      "text/plain": [
       "[{'manufacturer': 'PFIZER\\\\BIONTECH',\n",
       "  'symptom': 'Vomiting',\n",
       "  'first_found': '2021-01-09'},\n",
       " {'manufacturer': 'PFIZER\\\\BIONTECH',\n",
       "  'symptom': 'Lymphadenopathy',\n",
       "  'first_found': '2020-12-20'},\n",
       " {'manufacturer': 'PFIZER\\\\BIONTECH', 'symptom': 'Rash', 'first_found': 'NaN'},\n",
       " {'manufacturer': 'PFIZER\\\\BIONTECH',\n",
       "  'symptom': 'Pruritus',\n",
       "  'first_found': '2020-12-17'},\n",
       " {'manufacturer': 'PFIZER\\\\BIONTECH',\n",
       "  'symptom': 'Urticaria',\n",
       "  'first_found': '2020-12-22'},\n",
       " {'manufacturer': 'PFIZER\\\\BIONTECH',\n",
       "  'symptom': 'Angioedema',\n",
       "  'first_found': '2020-12-20'},\n",
       " {'manufacturer': 'PFIZER\\\\BIONTECH',\n",
       "  'symptom': 'Decreased appetite',\n",
       "  'first_found': '2020-12-28'},\n",
       " {'manufacturer': 'PFIZER\\\\BIONTECH',\n",
       "  'symptom': 'Insomnia',\n",
       "  'first_found': '2021-02-08'},\n",
       " {'manufacturer': 'PFIZER\\\\BIONTECH',\n",
       "  'symptom': 'Headache',\n",
       "  'first_found': '2020-12-15'},\n",
       " {'manufacturer': 'PFIZER\\\\BIONTECH',\n",
       "  'symptom': 'Dizziness',\n",
       "  'first_found': '2020-12-15'},\n",
       " {'manufacturer': 'PFIZER\\\\BIONTECH',\n",
       "  'symptom': 'Lethargy',\n",
       "  'first_found': '2021-01-13'},\n",
       " {'manufacturer': 'PFIZER\\\\BIONTECH',\n",
       "  'symptom': 'Facial paralysis',\n",
       "  'first_found': '2020-12-18'},\n",
       " {'manufacturer': 'PFIZER\\\\BIONTECH',\n",
       "  'symptom': 'Paraesthesia',\n",
       "  'first_found': '2020-12-15'},\n",
       " {'manufacturer': 'PFIZER\\\\BIONTECH',\n",
       "  'symptom': 'Hypoaesthesia',\n",
       "  'first_found': '2020-12-17'},\n",
       " {'manufacturer': 'PFIZER\\\\BIONTECH',\n",
       "  'symptom': 'Myocarditis',\n",
       "  'first_found': '2021-03-03'},\n",
       " {'manufacturer': 'PFIZER\\\\BIONTECH',\n",
       "  'symptom': 'Pericarditis',\n",
       "  'first_found': '2021-02-23'},\n",
       " {'manufacturer': 'PFIZER\\\\BIONTECH',\n",
       "  'symptom': 'Diarrhoea',\n",
       "  'first_found': '2020-12-16'},\n",
       " {'manufacturer': 'PFIZER\\\\BIONTECH',\n",
       "  'symptom': 'Nausea',\n",
       "  'first_found': '2020-12-16'},\n",
       " {'manufacturer': 'PFIZER\\\\BIONTECH',\n",
       "  'symptom': 'Hyperhidrosis',\n",
       "  'first_found': '2020-12-16'},\n",
       " {'manufacturer': 'PFIZER\\\\BIONTECH',\n",
       "  'symptom': 'Night sweats',\n",
       "  'first_found': '2020-12-21'},\n",
       " {'manufacturer': 'PFIZER\\\\BIONTECH',\n",
       "  'symptom': 'Erythema multiforme',\n",
       "  'first_found': 'NaN'},\n",
       " {'manufacturer': 'PFIZER\\\\BIONTECH',\n",
       "  'symptom': 'Arthralgia',\n",
       "  'first_found': '2020-12-17'},\n",
       " {'manufacturer': 'PFIZER\\\\BIONTECH',\n",
       "  'symptom': 'Myalgia',\n",
       "  'first_found': '2020-12-16'},\n",
       " {'manufacturer': 'PFIZER\\\\BIONTECH',\n",
       "  'symptom': 'Pain in extremity',\n",
       "  'first_found': '2020-12-17'},\n",
       " {'manufacturer': 'PFIZER\\\\BIONTECH',\n",
       "  'symptom': 'Heavy menstrual bleeding',\n",
       "  'first_found': '2021-01-16'},\n",
       " {'manufacturer': 'PFIZER\\\\BIONTECH',\n",
       "  'symptom': 'Injection site pain',\n",
       "  'first_found': '2020-12-16'},\n",
       " {'manufacturer': 'PFIZER\\\\BIONTECH',\n",
       "  'symptom': 'Fatigue',\n",
       "  'first_found': '2020-12-16'},\n",
       " {'manufacturer': 'PFIZER\\\\BIONTECH',\n",
       "  'symptom': 'Chills',\n",
       "  'first_found': '2020-12-16'},\n",
       " {'manufacturer': 'PFIZER\\\\BIONTECH',\n",
       "  'symptom': 'Pyrexia',\n",
       "  'first_found': '2021-01-08'},\n",
       " {'manufacturer': 'PFIZER\\\\BIONTECH',\n",
       "  'symptom': 'Injection site swelling',\n",
       "  'first_found': 'NaN'},\n",
       " {'manufacturer': 'PFIZER\\\\BIONTECH',\n",
       "  'symptom': 'Asthenia',\n",
       "  'first_found': '2020-12-16'},\n",
       " {'manufacturer': 'PFIZER\\\\BIONTECH',\n",
       "  'symptom': 'Malaise',\n",
       "  'first_found': '2020-12-16'},\n",
       " {'manufacturer': 'PFIZER\\\\BIONTECH',\n",
       "  'symptom': 'Injection site pruritus',\n",
       "  'first_found': 'NaN'},\n",
       " {'manufacturer': 'PFIZER\\\\BIONTECH',\n",
       "  'symptom': 'Extensive swelling of vaccinated limb',\n",
       "  'first_found': 'NaN'}]"
      ]
     },
     "execution_count": 13,
     "metadata": {},
     "output_type": "execute_result"
    }
   ],
   "execution_count": 13
  },
  {
   "metadata": {},
   "cell_type": "markdown",
   "source": "### MODERNA",
   "id": "847a4fa3a4eb604d"
  },
  {
   "metadata": {
    "ExecuteTime": {
     "end_time": "2024-06-11T23:16:06.218046Z",
     "start_time": "2024-06-11T23:16:06.212043Z"
    }
   },
   "cell_type": "code",
   "source": [
    "file_name_filtered = \"Arrays/Signals_Moderna.json\"\n",
    "with open(file_name_filtered, 'r') as f:\n",
    "    Signals_Moderna = json.load(f)"
   ],
   "id": "6c1a3e3262cc171f",
   "outputs": [],
   "execution_count": 14
  },
  {
   "metadata": {
    "ExecuteTime": {
     "end_time": "2024-06-11T23:16:06.223338Z",
     "start_time": "2024-06-11T23:16:06.219724Z"
    }
   },
   "cell_type": "code",
   "source": "filtered_signals_Moderna = [signal for signal in Signals_Moderna if signal[\"status\"] != \"Not found\"]",
   "id": "c82c2ec9955c59d8",
   "outputs": [],
   "execution_count": 15
  },
  {
   "metadata": {
    "ExecuteTime": {
     "end_time": "2024-06-11T23:16:06.232712Z",
     "start_time": "2024-06-11T23:16:06.224829Z"
    }
   },
   "cell_type": "code",
   "source": "len(filtered_signals_Moderna)",
   "id": "e5ca45d48b9c1623",
   "outputs": [
    {
     "data": {
      "text/plain": [
       "33"
      ]
     },
     "execution_count": 16,
     "metadata": {},
     "output_type": "execute_result"
    }
   ],
   "execution_count": 16
  },
  {
   "metadata": {
    "ExecuteTime": {
     "end_time": "2024-06-12T00:59:57.487244Z",
     "start_time": "2024-06-11T23:16:06.234463Z"
    }
   },
   "cell_type": "code",
   "source": [
    "from datetime import datetime\n",
    "\n",
    "# Loop until a signal is not found anymore\n",
    "signals_dict_Moderna= []\n",
    "i= 0\n",
    "for reaction in tqdm(filtered_signals_Moderna):\n",
    "    i+=1\n",
    "    symptom = reaction['symptom']\n",
    "    start_date = datetime(2023, 12, 31)\n",
    "    first_found = datetime(2000, 1, 1)\n",
    "    while True:\n",
    "        N_query = {\"RECVDATE\": {\"$lte\": start_date}}\n",
    "        N = col.count_documents(N_query)\n",
    "        \n",
    "        D_query = {\n",
    "            \"RECVDATE\": {\"$lte\": start_date},\n",
    "            \"vax_data\": {\n",
    "                \"$elemMatch\": {\n",
    "                    \"VAX_MANU\": reaction[\"manufacturer\"],\n",
    "                    \"VAX_TYPE\": reaction[\"vaccine\"]\n",
    "                }\n",
    "            }\n",
    "        }\n",
    "        D = col.count_documents(D_query)\n",
    "        \n",
    "        E_query = {\n",
    "            \"RECVDATE\": {\"$lte\": start_date},\n",
    "            \"symptoms\": {\n",
    "                \"$elemMatch\": {\n",
    "                    \"$in\": [reaction[\"symptom\"]]\n",
    "                }\n",
    "            }\n",
    "        }\n",
    "        E = col.count_documents(E_query)\n",
    "        \n",
    "        DE_query = {'$and': [D_query, E_query]}\n",
    "        DE = col.count_documents(DE_query)\n",
    "        if DE >= 3: \n",
    "        \n",
    "            De = D - DE\n",
    "            dE = E - DE\n",
    "            de = N - (DE + De + dE)\n",
    "            \n",
    "                \n",
    "            # Ensure all necessary data is available\n",
    "            if None in [DE, dE, De, de]:\n",
    "                continue\n",
    "            \n",
    "            contingency_table = [\n",
    "                [DE, dE],\n",
    "                [De, de]\n",
    "            ]\n",
    "            #print(contingency_table)\n",
    "            # Compute statistical measures\n",
    "            rrr, sd_rrr = disproportionaly_analysis.relative_reporting_ratio(contingency_table), disproportionaly_analysis.sd_rrr(contingency_table)\n",
    "            rrr_ci_lower, rrr_ci_upper = disproportionaly_analysis.confidence_interval(rrr, sd_rrr)\n",
    "            \n",
    "            prr, sd_prr = disproportionaly_analysis.proportional_reporting_ratio(contingency_table), disproportionaly_analysis.sd_prr(contingency_table)\n",
    "            prr_ci_lower, prr_ci_upper = disproportionaly_analysis.confidence_interval(prr, sd_prr)\n",
    "            \n",
    "            ror, sd_ror = disproportionaly_analysis.reporting_odds_ratio(contingency_table), disproportionaly_analysis.sd_ror(contingency_table)\n",
    "            ror_ci_lower, ror_ci_upper = disproportionaly_analysis.confidence_interval(ror, sd_ror)\n",
    "            \n",
    "            chi_square = disproportionaly_analysis.chi_square_yates(contingency_table)\n",
    "            IC = disproportionaly_analysis.information_component(contingency_table)\n",
    "            IC_ci_lower, IC_ci_upper = disproportionaly_analysis.confidence_interval_information_component(contingency_table, IC)\n",
    "            \n",
    "            # Determine if the reaction meets criteria for a signal\n",
    "            method_1 = rrr > 2 and prr > 2 and ror > 2 and chi_square > 3.841\n",
    "            method_2 = IC_ci_lower > 0 and ror_ci_lower > 1 and prr_ci_lower > 1 and rrr_ci_lower > 1\n",
    "            IC_CI = IC_ci_lower > 0\n",
    "                    \n",
    "            if IC_CI:\n",
    "                #print(f\"Signal found for {start_date}\")\n",
    "                first_found = start_date\n",
    "                start_date = reduce_date_range_by_month(start_date)\n",
    "                #print(f\"Reducing by a month..., checking {start_date}\")\n",
    "            else:\n",
    "                #print(\"Signal not found\")\n",
    "                start_date = reduce_date_range_by_month(start_date)\n",
    "                #print(f\"Reducing by a month..., checking {start_date}\")# Exit the loop if no signal is found anymore\n",
    "            if start_date < end_date:\n",
    "                break\n",
    "        else:\n",
    "            break\n",
    "            \n",
    "    if first_found == datetime(2000, 1, 1):\n",
    "        print(f\"Saved {symptom} as first_found = None because it was not detected by the end of an month\")\n",
    "        signals_dict_Moderna.append({\"manufacturer\": reaction[\"manufacturer\"], \"symptom\": reaction[\"symptom\"], \"first_found\": \"NaN\"})\n",
    "    else:\n",
    "            \n",
    "        print(f\"found month {first_found} for symptom {i} {symptom}, checking day\")\n",
    "        start_date = first_found\n",
    "        while True:\n",
    "            #print(f\"checking day {start_date}\")\n",
    "                    #print(f\"checking symptom {reaction['symptom']}\")\n",
    "            N_query = {\"RECVDATE\": {\"$lte\": start_date}}\n",
    "            N = col.count_documents(N_query)\n",
    "            \n",
    "            D_query = {\n",
    "                \"RECVDATE\": {\"$lte\": start_date},\n",
    "                \"vax_data\": {\n",
    "                    \"$elemMatch\": {\n",
    "                        \"VAX_MANU\": reaction[\"manufacturer\"],\n",
    "                        \"VAX_TYPE\": reaction[\"vaccine\"]\n",
    "                    }\n",
    "                }\n",
    "            }\n",
    "            D = col.count_documents(D_query)\n",
    "            \n",
    "            E_query = {\n",
    "                \"RECVDATE\": {\"$lte\": start_date},\n",
    "                \"symptoms\": {\n",
    "                    \"$elemMatch\": {\n",
    "                        \"$in\": [reaction[\"symptom\"]]\n",
    "                    }\n",
    "                }\n",
    "            }\n",
    "            E = col.count_documents(E_query)\n",
    "            \n",
    "            DE_query = {'$and': [D_query, E_query]}\n",
    "            DE = col.count_documents(DE_query)\n",
    "            if DE >= 3: \n",
    "            \n",
    "                De = D - DE\n",
    "                dE = E - DE\n",
    "                de = N - (DE + De + dE)\n",
    "                \n",
    "                    \n",
    "                # Ensure all necessary data is available\n",
    "                if None in [DE, dE, De, de]:\n",
    "                    continue\n",
    "                \n",
    "                contingency_table = [\n",
    "                    [DE, dE],\n",
    "                    [De, de]\n",
    "                ]\n",
    "                #print(contingency_table)\n",
    "                # Compute statistical measures\n",
    "                rrr, sd_rrr = disproportionaly_analysis.relative_reporting_ratio(contingency_table), disproportionaly_analysis.sd_rrr(contingency_table)\n",
    "                rrr_ci_lower, rrr_ci_upper = disproportionaly_analysis.confidence_interval(rrr, sd_rrr)\n",
    "                \n",
    "                prr, sd_prr = disproportionaly_analysis.proportional_reporting_ratio(contingency_table), disproportionaly_analysis.sd_prr(contingency_table)\n",
    "                prr_ci_lower, prr_ci_upper = disproportionaly_analysis.confidence_interval(prr, sd_prr)\n",
    "                \n",
    "                ror, sd_ror = disproportionaly_analysis.reporting_odds_ratio(contingency_table), disproportionaly_analysis.sd_ror(contingency_table)\n",
    "                ror_ci_lower, ror_ci_upper = disproportionaly_analysis.confidence_interval(ror, sd_ror)\n",
    "                \n",
    "                chi_square = disproportionaly_analysis.chi_square_yates(contingency_table)\n",
    "                IC = disproportionaly_analysis.information_component(contingency_table)\n",
    "                IC_ci_lower, IC_ci_upper = disproportionaly_analysis.confidence_interval_information_component(contingency_table, IC)\n",
    "                \n",
    "                # Determine if the reaction meets criteria for a signal\n",
    "                method_1 = rrr > 2 and prr > 2 and ror > 2 and chi_square > 3.841\n",
    "                method_2 = IC_ci_lower > 0 and ror_ci_lower > 1 and prr_ci_lower > 1 and rrr_ci_lower > 1\n",
    "                \n",
    "                IC_CI = IC_ci_lower > 0 \n",
    "                    \n",
    "                if IC_CI:\n",
    "                    #print(f\"Signal found for {start_date}\")\n",
    "                    first_found = start_date\n",
    "                    if start_date.day == 1:  # Check if the day is the first day of the month\n",
    "                        signal_info = {\n",
    "                            \"manufacturer\": reaction[\"manufacturer\"],\n",
    "                            \"symptom\": reaction[\"symptom\"],\n",
    "                            \"first_found\": first_found.strftime(\"%Y-%m-%d\")  # Convert datetime to string\n",
    "                        }\n",
    "                        signals_dict_Moderna.append(signal_info)\n",
    "                        print(f\"signal {i} {symptom} found at {first_found}\")\n",
    "                        break  # If it is the first day, exit the loop        \n",
    "                    start_date = reduce_date_range_by_day(start_date)\n",
    "                    #print(f\"Reducing by a month..., checking {start_date}\")\n",
    "                else:\n",
    "                    #print(\"Signal not found\")\n",
    "                    if start_date.day == 1:  # Check if the day is the first day of the month\n",
    "                        signal_info = {\n",
    "                            \"manufacturer\": reaction[\"manufacturer\"],\n",
    "                            \"symptom\": reaction[\"symptom\"],\n",
    "                            \"first_found\": first_found.strftime(\"%Y-%m-%d\")  # Convert datetime to string\n",
    "                        }\n",
    "                        signals_dict_Moderna.append(signal_info)\n",
    "                        print(f\"signal {i} {symptom} found at {first_found}\")\n",
    "                        break  # If it is the first day, exit the loop\n",
    "                    start_date = reduce_date_range_by_day(start_date)\n",
    "                    #print(f\"Reducing by a month..., checking {start_date}\")# Exit the loop if no signal is found anymore\n",
    "    \n",
    "            else: \n",
    "                #print(f\"DE < 3 for {start_date}\")\n",
    "                signal_info = {\n",
    "                    \"manufacturer\": reaction[\"manufacturer\"],\n",
    "                    \"symptom\": reaction[\"symptom\"],\n",
    "                    \"first_found\": first_found.strftime(\"%Y-%m-%d\")  # Convert datetime to string\n",
    "                }\n",
    "                signals_dict_Moderna.append(signal_info)\n",
    "                print(f\"signal {i} {symptom} found at {first_found}\")\n",
    "                break\n",
    "    "
   ],
   "id": "cf89d880e82bd7bc",
   "outputs": [
    {
     "name": "stderr",
     "output_type": "stream",
     "text": [
      "  0%|          | 0/33 [00:00<?, ?it/s]"
     ]
    },
    {
     "name": "stdout",
     "output_type": "stream",
     "text": [
      "found month 2020-12-31 00:00:00 for symptom 1 Lymphadenopathy, checking day\n"
     ]
    },
    {
     "name": "stderr",
     "output_type": "stream",
     "text": [
      "  3%|▎         | 1/33 [02:16<1:12:44, 136.38s/it]"
     ]
    },
    {
     "name": "stdout",
     "output_type": "stream",
     "text": [
      "signal 1 Lymphadenopathy found at 2020-12-29 00:00:00\n"
     ]
    },
    {
     "name": "stderr",
     "output_type": "stream",
     "text": [
      "  6%|▌         | 2/33 [04:42<1:13:20, 141.95s/it]"
     ]
    },
    {
     "name": "stdout",
     "output_type": "stream",
     "text": [
      "Saved Hypersensitivity as first_found = None because it was not detected by the end of an month\n",
      "found month 2020-12-31 00:00:00 for symptom 3 Decreased appetite, checking day\n"
     ]
    },
    {
     "name": "stderr",
     "output_type": "stream",
     "text": [
      "  9%|▉         | 3/33 [07:43<1:19:53, 159.80s/it]"
     ]
    },
    {
     "name": "stdout",
     "output_type": "stream",
     "text": [
      "signal 3 Decreased appetite found at 2020-12-25 00:00:00\n"
     ]
    },
    {
     "name": "stderr",
     "output_type": "stream",
     "text": [
      " 12%|█▏        | 4/33 [10:09<1:14:39, 154.48s/it]"
     ]
    },
    {
     "name": "stdout",
     "output_type": "stream",
     "text": [
      "Saved Irritability as first_found = None because it was not detected by the end of an month\n"
     ]
    },
    {
     "name": "stderr",
     "output_type": "stream",
     "text": [
      " 15%|█▌        | 5/33 [12:40<1:11:30, 153.23s/it]"
     ]
    },
    {
     "name": "stdout",
     "output_type": "stream",
     "text": [
      "Saved Crying as first_found = None because it was not detected by the end of an month\n",
      "found month 2020-12-31 00:00:00 for symptom 6 Headache, checking day\n"
     ]
    },
    {
     "name": "stderr",
     "output_type": "stream",
     "text": [
      " 18%|█▊        | 6/33 [16:21<1:19:22, 176.39s/it]"
     ]
    },
    {
     "name": "stdout",
     "output_type": "stream",
     "text": [
      "signal 6 Headache found at 2020-12-22 00:00:00\n",
      "found month 2020-12-31 00:00:00 for symptom 7 Dizziness, checking day\n"
     ]
    },
    {
     "name": "stderr",
     "output_type": "stream",
     "text": [
      " 21%|██        | 7/33 [19:46<1:20:26, 185.64s/it]"
     ]
    },
    {
     "name": "stdout",
     "output_type": "stream",
     "text": [
      "signal 7 Dizziness found at 2020-12-22 00:00:00\n",
      "found month 2020-12-31 00:00:00 for symptom 8 Facial paralysis, checking day\n"
     ]
    },
    {
     "name": "stderr",
     "output_type": "stream",
     "text": [
      " 24%|██▍       | 8/33 [22:30<1:14:26, 178.67s/it]"
     ]
    },
    {
     "name": "stdout",
     "output_type": "stream",
     "text": [
      "signal 8 Facial paralysis found at 2020-12-28 00:00:00\n",
      "found month 2020-12-31 00:00:00 for symptom 9 Hypoaesthesia, checking day\n"
     ]
    },
    {
     "name": "stderr",
     "output_type": "stream",
     "text": [
      " 27%|██▋       | 9/33 [25:42<1:13:06, 182.76s/it]"
     ]
    },
    {
     "name": "stdout",
     "output_type": "stream",
     "text": [
      "signal 9 Hypoaesthesia found at 2020-12-22 00:00:00\n",
      "found month 2020-12-31 00:00:00 for symptom 10 Paraesthesia, checking day\n"
     ]
    },
    {
     "name": "stderr",
     "output_type": "stream",
     "text": [
      " 30%|███       | 10/33 [28:55<1:11:16, 185.94s/it]"
     ]
    },
    {
     "name": "stdout",
     "output_type": "stream",
     "text": [
      "signal 10 Paraesthesia found at 2020-12-22 00:00:00\n",
      "found month 2021-05-31 00:00:00 for symptom 11 Myocarditis, checking day\n"
     ]
    },
    {
     "name": "stderr",
     "output_type": "stream",
     "text": [
      " 33%|███▎      | 11/33 [31:40<1:05:49, 179.54s/it]"
     ]
    },
    {
     "name": "stdout",
     "output_type": "stream",
     "text": [
      "signal 11 Myocarditis found at 2021-05-24 00:00:00\n",
      "found month 2021-06-30 00:00:00 for symptom 12 Pericarditis, checking day\n"
     ]
    },
    {
     "name": "stderr",
     "output_type": "stream",
     "text": [
      " 36%|███▋      | 12/33 [34:18<1:00:37, 173.21s/it]"
     ]
    },
    {
     "name": "stdout",
     "output_type": "stream",
     "text": [
      "signal 12 Pericarditis found at 2021-06-01 00:00:00\n",
      "found month 2020-12-31 00:00:00 for symptom 13 Nausea, checking day\n"
     ]
    },
    {
     "name": "stderr",
     "output_type": "stream",
     "text": [
      " 39%|███▉      | 13/33 [37:08<57:21, 172.07s/it]  "
     ]
    },
    {
     "name": "stdout",
     "output_type": "stream",
     "text": [
      "signal 13 Nausea found at 2020-12-22 00:00:00\n",
      "found month 2020-12-31 00:00:00 for symptom 14 Vomiting, checking day\n"
     ]
    },
    {
     "name": "stderr",
     "output_type": "stream",
     "text": [
      " 42%|████▏     | 14/33 [40:22<56:34, 178.66s/it]"
     ]
    },
    {
     "name": "stdout",
     "output_type": "stream",
     "text": [
      "signal 14 Vomiting found at 2020-12-23 00:00:00\n",
      "found month 2020-12-31 00:00:00 for symptom 15 Diarrhoea, checking day\n"
     ]
    },
    {
     "name": "stderr",
     "output_type": "stream",
     "text": [
      " 45%|████▌     | 15/33 [43:28<54:16, 180.90s/it]"
     ]
    },
    {
     "name": "stdout",
     "output_type": "stream",
     "text": [
      "signal 15 Diarrhoea found at 2020-12-28 00:00:00\n"
     ]
    },
    {
     "name": "stderr",
     "output_type": "stream",
     "text": [
      " 48%|████▊     | 16/33 [45:55<48:22, 170.73s/it]"
     ]
    },
    {
     "name": "stdout",
     "output_type": "stream",
     "text": [
      "Saved Abdominal pain as first_found = None because it was not detected by the end of an month\n",
      "found month 2021-05-31 00:00:00 for symptom 17 Rash, checking day\n"
     ]
    },
    {
     "name": "stderr",
     "output_type": "stream",
     "text": [
      " 52%|█████▏    | 17/33 [50:33<54:06, 202.89s/it]"
     ]
    },
    {
     "name": "stdout",
     "output_type": "stream",
     "text": [
      "signal 17 Rash found at 2021-05-05 00:00:00\n",
      "found month 2021-01-31 00:00:00 for symptom 18 Urticaria, checking day\n"
     ]
    },
    {
     "name": "stderr",
     "output_type": "stream",
     "text": [
      " 55%|█████▍    | 18/33 [55:02<55:40, 222.73s/it]"
     ]
    },
    {
     "name": "stdout",
     "output_type": "stream",
     "text": [
      "signal 18 Urticaria found at 2021-01-05 00:00:00\n",
      "found month 2021-01-31 00:00:00 for symptom 19 Erythema multiforme, checking day\n"
     ]
    },
    {
     "name": "stderr",
     "output_type": "stream",
     "text": [
      " 58%|█████▊    | 19/33 [58:25<50:35, 216.82s/it]"
     ]
    },
    {
     "name": "stdout",
     "output_type": "stream",
     "text": [
      "signal 19 Erythema multiforme found at 2021-01-07 00:00:00\n",
      "found month 2021-01-31 00:00:00 for symptom 20 Mechanical urticaria, checking day\n"
     ]
    },
    {
     "name": "stderr",
     "output_type": "stream",
     "text": [
      " 61%|██████    | 20/33 [1:00:37<41:27, 191.36s/it]"
     ]
    },
    {
     "name": "stdout",
     "output_type": "stream",
     "text": [
      "signal 20 Mechanical urticaria found at 2021-01-13 00:00:00\n",
      "found month 2020-12-31 00:00:00 for symptom 21 Myalgia, checking day\n"
     ]
    },
    {
     "name": "stderr",
     "output_type": "stream",
     "text": [
      " 64%|██████▎   | 21/33 [1:03:13<36:11, 180.94s/it]"
     ]
    },
    {
     "name": "stdout",
     "output_type": "stream",
     "text": [
      "signal 21 Myalgia found at 2020-12-23 00:00:00\n",
      "found month 2020-12-31 00:00:00 for symptom 22 Arthralgia, checking day\n"
     ]
    },
    {
     "name": "stderr",
     "output_type": "stream",
     "text": [
      " 67%|██████▋   | 22/33 [1:06:27<33:52, 184.73s/it]"
     ]
    },
    {
     "name": "stdout",
     "output_type": "stream",
     "text": [
      "signal 22 Arthralgia found at 2020-12-24 00:00:00\n",
      "found month 2021-01-31 00:00:00 for symptom 23 Heavy menstrual bleeding, checking day\n"
     ]
    },
    {
     "name": "stderr",
     "output_type": "stream",
     "text": [
      " 70%|██████▉   | 23/33 [1:08:11<26:46, 160.63s/it]"
     ]
    },
    {
     "name": "stdout",
     "output_type": "stream",
     "text": [
      "signal 23 Heavy menstrual bleeding found at 2021-01-27 00:00:00\n",
      "found month 2020-12-31 00:00:00 for symptom 24 Injection site pain, checking day\n"
     ]
    },
    {
     "name": "stderr",
     "output_type": "stream",
     "text": [
      " 73%|███████▎  | 24/33 [1:11:31<25:52, 172.48s/it]"
     ]
    },
    {
     "name": "stdout",
     "output_type": "stream",
     "text": [
      "signal 24 Injection site pain found at 2020-12-23 00:00:00\n",
      "found month 2020-12-31 00:00:00 for symptom 25 Fatigue, checking day\n"
     ]
    },
    {
     "name": "stderr",
     "output_type": "stream",
     "text": [
      " 76%|███████▌  | 25/33 [1:15:00<24:27, 183.39s/it]"
     ]
    },
    {
     "name": "stdout",
     "output_type": "stream",
     "text": [
      "signal 25 Fatigue found at 2020-12-23 00:00:00\n",
      "found month 2020-12-31 00:00:00 for symptom 26 Chills, checking day\n"
     ]
    },
    {
     "name": "stderr",
     "output_type": "stream",
     "text": [
      " 79%|███████▉  | 26/33 [1:18:24<22:07, 189.58s/it]"
     ]
    },
    {
     "name": "stdout",
     "output_type": "stream",
     "text": [
      "signal 26 Chills found at 2020-12-22 00:00:00\n",
      "found month 2020-12-31 00:00:00 for symptom 27 Pyrexia, checking day\n"
     ]
    },
    {
     "name": "stderr",
     "output_type": "stream",
     "text": [
      " 82%|████████▏ | 27/33 [1:22:11<20:04, 200.67s/it]"
     ]
    },
    {
     "name": "stdout",
     "output_type": "stream",
     "text": [
      "signal 27 Pyrexia found at 2020-12-25 00:00:00\n",
      "found month 2021-01-31 00:00:00 for symptom 28 Injection site swelling, checking day\n"
     ]
    },
    {
     "name": "stderr",
     "output_type": "stream",
     "text": [
      " 85%|████████▍ | 28/33 [1:26:43<18:30, 222.08s/it]"
     ]
    },
    {
     "name": "stdout",
     "output_type": "stream",
     "text": [
      "signal 28 Injection site swelling found at 2021-01-03 00:00:00\n",
      "found month 2021-01-31 00:00:00 for symptom 29 Injection site erythema, checking day\n"
     ]
    },
    {
     "name": "stderr",
     "output_type": "stream",
     "text": [
      " 88%|████████▊ | 29/33 [1:31:20<15:54, 238.50s/it]"
     ]
    },
    {
     "name": "stdout",
     "output_type": "stream",
     "text": [
      "signal 29 Injection site erythema found at 2021-01-06 00:00:00\n",
      "found month 2020-12-31 00:00:00 for symptom 30 Injection site urticaria, checking day\n"
     ]
    },
    {
     "name": "stderr",
     "output_type": "stream",
     "text": [
      " 91%|█████████ | 30/33 [1:33:59<10:44, 214.70s/it]"
     ]
    },
    {
     "name": "stdout",
     "output_type": "stream",
     "text": [
      "signal 30 Injection site urticaria found at 2020-12-31 00:00:00\n",
      "found month 2021-01-31 00:00:00 for symptom 31 Injection site rash, checking day\n"
     ]
    },
    {
     "name": "stderr",
     "output_type": "stream",
     "text": [
      " 94%|█████████▍| 31/33 [1:38:20<07:37, 228.51s/it]"
     ]
    },
    {
     "name": "stdout",
     "output_type": "stream",
     "text": [
      "signal 31 Injection site rash found at 2021-01-05 00:00:00\n",
      "found month 2020-12-31 00:00:00 for symptom 32 Injection site pruritus, checking day\n"
     ]
    },
    {
     "name": "stderr",
     "output_type": "stream",
     "text": [
      " 97%|█████████▋| 32/33 [1:41:13<03:32, 212.06s/it]"
     ]
    },
    {
     "name": "stdout",
     "output_type": "stream",
     "text": [
      "signal 32 Injection site pruritus found at 2020-12-30 00:00:00\n",
      "found month 2022-03-31 00:00:00 for symptom 33 Extensive swelling of vaccinated limb, checking day\n"
     ]
    },
    {
     "name": "stderr",
     "output_type": "stream",
     "text": [
      "100%|██████████| 33/33 [1:43:51<00:00, 188.82s/it]"
     ]
    },
    {
     "name": "stdout",
     "output_type": "stream",
     "text": [
      "signal 33 Extensive swelling of vaccinated limb found at 2022-03-01 00:00:00\n"
     ]
    },
    {
     "name": "stderr",
     "output_type": "stream",
     "text": [
      "\n"
     ]
    }
   ],
   "execution_count": 17
  },
  {
   "metadata": {
    "ExecuteTime": {
     "end_time": "2024-06-12T00:59:57.492087Z",
     "start_time": "2024-06-12T00:59:57.488500Z"
    }
   },
   "cell_type": "code",
   "source": [
    "file_name_filtered = \"Arrays/First_found_filtered_Signals_Moderna_IC_CI.json\"\n",
    "with open(file_name_filtered, 'w') as f:\n",
    "    json.dump(signals_dict_Moderna, f)"
   ],
   "id": "668704de25744b7b",
   "outputs": [],
   "execution_count": 18
  },
  {
   "metadata": {
    "ExecuteTime": {
     "end_time": "2024-06-12T00:59:57.505100Z",
     "start_time": "2024-06-12T00:59:57.493121Z"
    }
   },
   "cell_type": "code",
   "source": "len(signals_dict_Moderna)",
   "id": "ed6bace2e5330ad8",
   "outputs": [
    {
     "data": {
      "text/plain": [
       "33"
      ]
     },
     "execution_count": 19,
     "metadata": {},
     "output_type": "execute_result"
    }
   ],
   "execution_count": 19
  },
  {
   "metadata": {},
   "cell_type": "markdown",
   "source": "### JANSSEN",
   "id": "f2b294df4f6d5693"
  },
  {
   "metadata": {
    "ExecuteTime": {
     "end_time": "2024-06-12T00:59:57.512584Z",
     "start_time": "2024-06-12T00:59:57.507912Z"
    }
   },
   "cell_type": "code",
   "source": [
    "file_name_filtered = \"Arrays/Signals_Janssen.json\"\n",
    "with open(file_name_filtered, 'r') as f:\n",
    "    Signals_Janssen = json.load(f)"
   ],
   "id": "65599ef9404a64b3",
   "outputs": [],
   "execution_count": 20
  },
  {
   "metadata": {
    "ExecuteTime": {
     "end_time": "2024-06-12T00:59:57.519980Z",
     "start_time": "2024-06-12T00:59:57.514323Z"
    }
   },
   "cell_type": "code",
   "source": "filtered_signals_Janssen =  [signal for signal in Signals_Janssen if signal[\"status\"] != \"Not found\"]",
   "id": "f16fe48ae149f007",
   "outputs": [],
   "execution_count": 21
  },
  {
   "metadata": {
    "ExecuteTime": {
     "end_time": "2024-06-12T01:51:14.525499Z",
     "start_time": "2024-06-12T00:59:57.522062Z"
    }
   },
   "cell_type": "code",
   "source": [
    "from datetime import datetime\n",
    "\n",
    "# Loop until a signal is not found anymore\n",
    "signals_dict_Janssen = []\n",
    "i= 0\n",
    "for reaction in tqdm(filtered_signals_Janssen):\n",
    "    i+=1\n",
    "    symptom = reaction['symptom']\n",
    "    start_date = datetime(2023, 12, 31)\n",
    "    first_found = datetime(2000, 1, 1)\n",
    "    while True:\n",
    "        N_query = {\"RECVDATE\": {\"$lte\": start_date}}\n",
    "        N = col.count_documents(N_query)\n",
    "        \n",
    "        D_query = {\n",
    "            \"RECVDATE\": {\"$lte\": start_date},\n",
    "            \"vax_data\": {\n",
    "                \"$elemMatch\": {\n",
    "                    \"VAX_MANU\": reaction[\"manufacturer\"],\n",
    "                    \"VAX_TYPE\": reaction[\"vaccine\"]\n",
    "                }\n",
    "            }\n",
    "        }\n",
    "        D = col.count_documents(D_query)\n",
    "        \n",
    "        E_query = {\n",
    "            \"RECVDATE\": {\"$lte\": start_date},\n",
    "            \"symptoms\": {\n",
    "                \"$elemMatch\": {\n",
    "                    \"$in\": [reaction[\"symptom\"]]\n",
    "                }\n",
    "            }\n",
    "        }\n",
    "        E = col.count_documents(E_query)\n",
    "        \n",
    "        DE_query = {'$and': [D_query, E_query]}\n",
    "        DE = col.count_documents(DE_query)\n",
    "        if DE >= 3: \n",
    "        \n",
    "            De = D - DE\n",
    "            dE = E - DE\n",
    "            de = N - (DE + De + dE)\n",
    "            \n",
    "                \n",
    "            # Ensure all necessary data is available\n",
    "            if None in [DE, dE, De, de]:\n",
    "                continue\n",
    "            \n",
    "            contingency_table = [\n",
    "                [DE, dE],\n",
    "                [De, de]\n",
    "            ]\n",
    "            #print(contingency_table)\n",
    "            # Compute statistical measures\n",
    "            rrr, sd_rrr = disproportionaly_analysis.relative_reporting_ratio(contingency_table), disproportionaly_analysis.sd_rrr(contingency_table)\n",
    "            rrr_ci_lower, rrr_ci_upper = disproportionaly_analysis.confidence_interval(rrr, sd_rrr)\n",
    "            \n",
    "            prr, sd_prr = disproportionaly_analysis.proportional_reporting_ratio(contingency_table), disproportionaly_analysis.sd_prr(contingency_table)\n",
    "            prr_ci_lower, prr_ci_upper = disproportionaly_analysis.confidence_interval(prr, sd_prr)\n",
    "            \n",
    "            ror, sd_ror = disproportionaly_analysis.reporting_odds_ratio(contingency_table), disproportionaly_analysis.sd_ror(contingency_table)\n",
    "            ror_ci_lower, ror_ci_upper = disproportionaly_analysis.confidence_interval(ror, sd_ror)\n",
    "            \n",
    "            chi_square = disproportionaly_analysis.chi_square_yates(contingency_table)\n",
    "            IC = disproportionaly_analysis.information_component(contingency_table)\n",
    "            IC_ci_lower, IC_ci_upper = disproportionaly_analysis.confidence_interval_information_component(contingency_table, IC)\n",
    "            \n",
    "            # Determine if the reaction meets criteria for a signal\n",
    "            method_1 = rrr > 2 and prr > 2 and ror > 2 and chi_square > 3.841\n",
    "            method_2 = IC_ci_lower > 0 and ror_ci_lower > 1 and prr_ci_lower > 1 and rrr_ci_lower > 1\n",
    "                \n",
    "            IC_CI = IC_ci_lower > 0 \n",
    "                    \n",
    "            if IC_CI:\n",
    "                #print(f\"Signal found for {start_date}\")\n",
    "                first_found = start_date\n",
    "                start_date = reduce_date_range_by_month(start_date)\n",
    "                #print(f\"Reducing by a month..., checking {start_date}\")\n",
    "            else:\n",
    "                #print(\"Signal not found\")\n",
    "                start_date = reduce_date_range_by_month(start_date)\n",
    "                #print(f\"Reducing by a month..., checking {start_date}\")# Exit the loop if no signal is found anymore\n",
    "            if start_date < end_date:\n",
    "                break\n",
    "        else:\n",
    "            break\n",
    "            \n",
    "    if first_found == datetime(2000, 1, 1):\n",
    "        print(f\"Saved {symptom} as first_found = None because it was not detected by the end of an month\")\n",
    "        signals_dict_Janssen.append({\"manufacturer\": reaction[\"manufacturer\"], \"symptom\": reaction[\"symptom\"], \"first_found\": \"NaN\"})\n",
    "    else:\n",
    "            \n",
    "        print(f\"found month {first_found} for symptom {i} {symptom}, checking day\")\n",
    "        start_date = first_found\n",
    "        while True:\n",
    "            #print(f\"checking day {start_date}\")\n",
    "                    #print(f\"checking symptom {reaction['symptom']}\")\n",
    "            N_query = {\"RECVDATE\": {\"$lte\": start_date}}\n",
    "            N = col.count_documents(N_query)\n",
    "            \n",
    "            D_query = {\n",
    "                \"RECVDATE\": {\"$lte\": start_date},\n",
    "                \"vax_data\": {\n",
    "                    \"$elemMatch\": {\n",
    "                        \"VAX_MANU\": reaction[\"manufacturer\"],\n",
    "                        \"VAX_TYPE\": reaction[\"vaccine\"]\n",
    "                    }\n",
    "                }\n",
    "            }\n",
    "            D = col.count_documents(D_query)\n",
    "            \n",
    "        \n",
    "            E_query = {\n",
    "                \"RECVDATE\": {\"$lte\": start_date},\n",
    "                \"symptoms\": {\n",
    "                    \"$elemMatch\": {\n",
    "                        \"$in\": [reaction[\"symptom\"]]\n",
    "                    }\n",
    "                }\n",
    "            }\n",
    "            E = col.count_documents(E_query)\n",
    "            \n",
    "            DE_query = {'$and': [D_query, E_query]}\n",
    "            DE = col.count_documents(DE_query)\n",
    "            if DE >= 3: \n",
    "            \n",
    "                De = D - DE\n",
    "                dE = E - DE\n",
    "                de = N - (DE + De + dE)\n",
    "                \n",
    "                    \n",
    "                # Ensure all necessary data is available\n",
    "                if None in [DE, dE, De, de]:\n",
    "                    continue\n",
    "                \n",
    "                contingency_table = [\n",
    "                    [DE, dE],\n",
    "                    [De, de]\n",
    "                ]\n",
    "                #print(contingency_table)\n",
    "                # Compute statistical measures\n",
    "                rrr, sd_rrr = disproportionaly_analysis.relative_reporting_ratio(contingency_table), disproportionaly_analysis.sd_rrr(contingency_table)\n",
    "                rrr_ci_lower, rrr_ci_upper = disproportionaly_analysis.confidence_interval(rrr, sd_rrr)\n",
    "                \n",
    "                prr, sd_prr = disproportionaly_analysis.proportional_reporting_ratio(contingency_table), disproportionaly_analysis.sd_prr(contingency_table)\n",
    "                prr_ci_lower, prr_ci_upper = disproportionaly_analysis.confidence_interval(prr, sd_prr)\n",
    "                \n",
    "                ror, sd_ror = disproportionaly_analysis.reporting_odds_ratio(contingency_table), disproportionaly_analysis.sd_ror(contingency_table)\n",
    "                ror_ci_lower, ror_ci_upper = disproportionaly_analysis.confidence_interval(ror, sd_ror)\n",
    "                \n",
    "                chi_square = disproportionaly_analysis.chi_square_yates(contingency_table)\n",
    "                IC = disproportionaly_analysis.information_component(contingency_table)\n",
    "                IC_ci_lower, IC_ci_upper = disproportionaly_analysis.confidence_interval_information_component(contingency_table, IC)\n",
    "                \n",
    "                # Determine if the reaction meets criteria for a signal\n",
    "                method_1 = rrr > 2 and prr > 2 and ror > 2 and chi_square > 3.841\n",
    "                method_2 = IC_ci_lower > 0 and ror_ci_lower > 1 and prr_ci_lower > 1 and rrr_ci_lower > 1\n",
    "                IC_CI = IC_ci_lower > 0\n",
    "                    \n",
    "                if IC_CI:\n",
    "                    #print(f\"Signal found for {start_date}\")\n",
    "                    first_found = start_date\n",
    "                    if start_date.day == 1:  # Check if the day is the first day of the month\n",
    "                        signal_info = {\n",
    "                            \"manufacturer\": reaction[\"manufacturer\"],\n",
    "                            \"symptom\": reaction[\"symptom\"],\n",
    "                            \"first_found\": first_found.strftime(\"%Y-%m-%d\")  # Convert datetime to string\n",
    "                        }\n",
    "                        signals_dict_Janssen.append(signal_info)\n",
    "                        print(f\"signal {i} {symptom} found at {first_found}\")\n",
    "                        break  # If it is the first day, exit the loop        \n",
    "                    start_date = reduce_date_range_by_day(start_date)\n",
    "                    #print(f\"Reducing by a month..., checking {start_date}\")\n",
    "                else:\n",
    "                    #print(\"Signal not found\")\n",
    "                    if start_date.day == 1:  # Check if the day is the first day of the month\n",
    "                        signal_info = {\n",
    "                            \"manufacturer\": reaction[\"manufacturer\"],\n",
    "                            \"symptom\": reaction[\"symptom\"],\n",
    "                            \"first_found\": first_found.strftime(\"%Y-%m-%d\")  # Convert datetime to string\n",
    "                        }\n",
    "                        signals_dict_Janssen.append(signal_info)\n",
    "                        print(f\"signal {i} {symptom} found at {first_found}\")\n",
    "                        break  # If it is the first day, exit the loop\n",
    "                    start_date = reduce_date_range_by_day(start_date)\n",
    "                    #print(f\"Reducing by a month..., checking {start_date}\")# Exit the loop if no signal is found anymore\n",
    "    \n",
    "            else: \n",
    "                #print(f\"DE < 3 for {start_date}\")\n",
    "                signal_info = {\n",
    "                    \"manufacturer\": reaction[\"manufacturer\"],\n",
    "                    \"symptom\": reaction[\"symptom\"],\n",
    "                    \"first_found\": first_found.strftime(\"%Y-%m-%d\")  # Convert datetime to string\n",
    "                }\n",
    "                signals_dict_Janssen.append(signal_info)\n",
    "                print(f\"signal {i} {symptom} found at {first_found}\")\n",
    "                break\n",
    "    "
   ],
   "id": "527c55bab524d20a",
   "outputs": [
    {
     "name": "stderr",
     "output_type": "stream",
     "text": [
      "  3%|▎         | 1/35 [00:56<31:44, 56.02s/it]"
     ]
    },
    {
     "name": "stdout",
     "output_type": "stream",
     "text": [
      "Saved Lymphadenopathy as first_found = None because it was not detected by the end of an month\n",
      "found month 2021-04-30 00:00:00 for symptom 2 Immune thrombocytopenia, checking day\n"
     ]
    },
    {
     "name": "stderr",
     "output_type": "stream",
     "text": [
      "  6%|▌         | 2/35 [02:05<35:11, 63.98s/it]"
     ]
    },
    {
     "name": "stdout",
     "output_type": "stream",
     "text": [
      "signal 2 Immune thrombocytopenia found at 2021-04-21 00:00:00\n",
      "found month 2021-03-31 00:00:00 for symptom 3 Headache, checking day\n"
     ]
    },
    {
     "name": "stderr",
     "output_type": "stream",
     "text": [
      "  9%|▊         | 3/35 [04:23<52:12, 97.90s/it]"
     ]
    },
    {
     "name": "stdout",
     "output_type": "stream",
     "text": [
      "signal 3 Headache found at 2021-03-04 00:00:00\n",
      "found month 2021-03-31 00:00:00 for symptom 4 Dizziness, checking day\n"
     ]
    },
    {
     "name": "stderr",
     "output_type": "stream",
     "text": [
      " 11%|█▏        | 4/35 [06:18<53:58, 104.46s/it]"
     ]
    },
    {
     "name": "stdout",
     "output_type": "stream",
     "text": [
      "signal 4 Dizziness found at 2021-03-05 00:00:00\n",
      "found month 2021-03-31 00:00:00 for symptom 5 Tremor, checking day\n"
     ]
    },
    {
     "name": "stderr",
     "output_type": "stream",
     "text": [
      " 14%|█▍        | 5/35 [07:56<51:01, 102.05s/it]"
     ]
    },
    {
     "name": "stdout",
     "output_type": "stream",
     "text": [
      "signal 5 Tremor found at 2021-03-05 00:00:00\n"
     ]
    },
    {
     "name": "stderr",
     "output_type": "stream",
     "text": [
      " 17%|█▋        | 6/35 [08:53<42:01, 86.94s/it] "
     ]
    },
    {
     "name": "stdout",
     "output_type": "stream",
     "text": [
      "Saved Urticaria as first_found = None because it was not detected by the end of an month\n"
     ]
    },
    {
     "name": "stderr",
     "output_type": "stream",
     "text": [
      " 20%|██        | 7/35 [09:46<35:22, 75.79s/it]"
     ]
    },
    {
     "name": "stdout",
     "output_type": "stream",
     "text": [
      "Saved Hypersensitivity as first_found = None because it was not detected by the end of an month\n",
      "found month 2021-03-31 00:00:00 for symptom 8 Paraesthesia, checking day\n"
     ]
    },
    {
     "name": "stderr",
     "output_type": "stream",
     "text": [
      " 23%|██▎       | 8/35 [11:26<37:36, 83.57s/it]"
     ]
    },
    {
     "name": "stdout",
     "output_type": "stream",
     "text": [
      "signal 8 Paraesthesia found at 2021-03-07 00:00:00\n",
      "found month 2021-03-31 00:00:00 for symptom 9 Hypoaesthesia, checking day\n"
     ]
    },
    {
     "name": "stderr",
     "output_type": "stream",
     "text": [
      " 26%|██▌       | 9/35 [13:08<38:36, 89.09s/it]"
     ]
    },
    {
     "name": "stdout",
     "output_type": "stream",
     "text": [
      "signal 9 Hypoaesthesia found at 2021-03-05 00:00:00\n",
      "found month 2021-04-30 00:00:00 for symptom 10 Facial paralysis, checking day\n"
     ]
    },
    {
     "name": "stderr",
     "output_type": "stream",
     "text": [
      " 29%|██▊       | 10/35 [14:35<36:54, 88.58s/it]"
     ]
    },
    {
     "name": "stdout",
     "output_type": "stream",
     "text": [
      "signal 10 Facial paralysis found at 2021-04-14 00:00:00\n",
      "found month 2021-03-31 00:00:00 for symptom 11 Tinnitus, checking day\n"
     ]
    },
    {
     "name": "stderr",
     "output_type": "stream",
     "text": [
      " 31%|███▏      | 11/35 [15:55<34:24, 86.01s/it]"
     ]
    },
    {
     "name": "stdout",
     "output_type": "stream",
     "text": [
      "signal 11 Tinnitus found at 2021-03-08 00:00:00\n",
      "found month 2021-08-31 00:00:00 for symptom 12 Guillain-Barre syndrome, checking day\n"
     ]
    },
    {
     "name": "stderr",
     "output_type": "stream",
     "text": [
      " 34%|███▍      | 12/35 [17:17<32:26, 84.65s/it]"
     ]
    },
    {
     "name": "stdout",
     "output_type": "stream",
     "text": [
      "signal 12 Guillain-Barre syndrome found at 2021-08-04 00:00:00\n"
     ]
    },
    {
     "name": "stderr",
     "output_type": "stream",
     "text": [
      " 37%|███▋      | 13/35 [17:56<25:56, 70.76s/it]"
     ]
    },
    {
     "name": "stdout",
     "output_type": "stream",
     "text": [
      "Saved Myelitis as first_found = None because it was not detected by the end of an month\n"
     ]
    },
    {
     "name": "stderr",
     "output_type": "stream",
     "text": [
      " 40%|████      | 14/35 [18:40<21:58, 62.78s/it]"
     ]
    },
    {
     "name": "stdout",
     "output_type": "stream",
     "text": [
      "Saved Myocarditis as first_found = None because it was not detected by the end of an month\n"
     ]
    },
    {
     "name": "stderr",
     "output_type": "stream",
     "text": [
      " 43%|████▎     | 15/35 [19:23<18:57, 56.88s/it]"
     ]
    },
    {
     "name": "stdout",
     "output_type": "stream",
     "text": [
      "Saved Pericarditis as first_found = None because it was not detected by the end of an month\n",
      "found month 2021-07-31 00:00:00 for symptom 16 Capillary leak syndrome, checking day\n"
     ]
    },
    {
     "name": "stderr",
     "output_type": "stream",
     "text": [
      " 46%|████▌     | 16/35 [20:04<16:29, 52.08s/it]"
     ]
    },
    {
     "name": "stdout",
     "output_type": "stream",
     "text": [
      "signal 16 Capillary leak syndrome found at 2021-07-30 00:00:00\n",
      "found month 2021-06-30 00:00:00 for symptom 17 Cutaneous vasculitis, checking day\n"
     ]
    },
    {
     "name": "stderr",
     "output_type": "stream",
     "text": [
      " 49%|████▊     | 17/35 [21:17<17:32, 58.45s/it]"
     ]
    },
    {
     "name": "stdout",
     "output_type": "stream",
     "text": [
      "signal 17 Cutaneous vasculitis found at 2021-06-02 00:00:00\n",
      "found month 2021-03-31 00:00:00 for symptom 18 Nausea, checking day\n"
     ]
    },
    {
     "name": "stderr",
     "output_type": "stream",
     "text": [
      " 51%|█████▏    | 18/35 [23:16<21:41, 76.53s/it]"
     ]
    },
    {
     "name": "stdout",
     "output_type": "stream",
     "text": [
      "signal 18 Nausea found at 2021-03-04 00:00:00\n",
      "found month 2021-04-30 00:00:00 for symptom 19 Cough, checking day\n"
     ]
    },
    {
     "name": "stderr",
     "output_type": "stream",
     "text": [
      " 54%|█████▍    | 19/35 [24:59<22:31, 84.49s/it]"
     ]
    },
    {
     "name": "stdout",
     "output_type": "stream",
     "text": [
      "signal 19 Cough found at 2021-04-26 00:00:00\n",
      "found month 2021-03-31 00:00:00 for symptom 20 Oropharyngeal pain, checking day\n"
     ]
    },
    {
     "name": "stderr",
     "output_type": "stream",
     "text": [
      " 57%|█████▋    | 20/35 [26:35<22:01, 88.07s/it]"
     ]
    },
    {
     "name": "stdout",
     "output_type": "stream",
     "text": [
      "signal 20 Oropharyngeal pain found at 2021-03-07 00:00:00\n",
      "found month 2021-06-30 00:00:00 for symptom 21 Sneezing, checking day\n"
     ]
    },
    {
     "name": "stderr",
     "output_type": "stream",
     "text": [
      " 60%|██████    | 21/35 [27:54<19:55, 85.38s/it]"
     ]
    },
    {
     "name": "stdout",
     "output_type": "stream",
     "text": [
      "signal 21 Sneezing found at 2021-06-14 00:00:00\n",
      "found month 2021-03-31 00:00:00 for symptom 22 Diarrhoea, checking day\n"
     ]
    },
    {
     "name": "stderr",
     "output_type": "stream",
     "text": [
      " 63%|██████▎   | 22/35 [29:32<19:19, 89.17s/it]"
     ]
    },
    {
     "name": "stdout",
     "output_type": "stream",
     "text": [
      "signal 22 Diarrhoea found at 2021-03-07 00:00:00\n",
      "found month 2021-03-31 00:00:00 for symptom 23 Vomiting, checking day\n"
     ]
    },
    {
     "name": "stderr",
     "output_type": "stream",
     "text": [
      " 66%|██████▌   | 23/35 [31:17<18:46, 93.87s/it]"
     ]
    },
    {
     "name": "stdout",
     "output_type": "stream",
     "text": [
      "signal 23 Vomiting found at 2021-03-06 00:00:00\n"
     ]
    },
    {
     "name": "stderr",
     "output_type": "stream",
     "text": [
      " 69%|██████▊   | 24/35 [32:18<15:22, 83.90s/it]"
     ]
    },
    {
     "name": "stdout",
     "output_type": "stream",
     "text": [
      "Saved Rash as first_found = None because it was not detected by the end of an month\n",
      "found month 2021-03-31 00:00:00 for symptom 25 Hyperhidrosis, checking day\n"
     ]
    },
    {
     "name": "stderr",
     "output_type": "stream",
     "text": [
      " 71%|███████▏  | 25/35 [33:56<14:41, 88.17s/it]"
     ]
    },
    {
     "name": "stdout",
     "output_type": "stream",
     "text": [
      "signal 25 Hyperhidrosis found at 2021-03-05 00:00:00\n",
      "found month 2021-03-31 00:00:00 for symptom 26 Myalgia, checking day\n"
     ]
    },
    {
     "name": "stderr",
     "output_type": "stream",
     "text": [
      " 74%|███████▍  | 26/35 [35:47<14:14, 94.95s/it]"
     ]
    },
    {
     "name": "stdout",
     "output_type": "stream",
     "text": [
      "signal 26 Myalgia found at 2021-03-06 00:00:00\n",
      "found month 2021-03-31 00:00:00 for symptom 27 Arthralgia, checking day\n"
     ]
    },
    {
     "name": "stderr",
     "output_type": "stream",
     "text": [
      " 77%|███████▋  | 27/35 [37:34<13:08, 98.61s/it]"
     ]
    },
    {
     "name": "stdout",
     "output_type": "stream",
     "text": [
      "signal 27 Arthralgia found at 2021-03-05 00:00:00\n",
      "found month 2021-05-31 00:00:00 for symptom 28 Muscular weakness, checking day\n"
     ]
    },
    {
     "name": "stderr",
     "output_type": "stream",
     "text": [
      " 80%|████████  | 28/35 [39:13<11:30, 98.61s/it]"
     ]
    },
    {
     "name": "stdout",
     "output_type": "stream",
     "text": [
      "signal 28 Muscular weakness found at 2021-05-02 00:00:00\n",
      "found month 2021-03-31 00:00:00 for symptom 29 Back pain, checking day\n"
     ]
    },
    {
     "name": "stderr",
     "output_type": "stream",
     "text": [
      " 83%|████████▎ | 29/35 [40:48<09:46, 97.75s/it]"
     ]
    },
    {
     "name": "stdout",
     "output_type": "stream",
     "text": [
      "signal 29 Back pain found at 2021-03-06 00:00:00\n",
      "found month 2021-03-31 00:00:00 for symptom 30 Pain in extremity, checking day\n"
     ]
    },
    {
     "name": "stderr",
     "output_type": "stream",
     "text": [
      " 86%|████████▌ | 30/35 [42:43<08:34, 102.91s/it]"
     ]
    },
    {
     "name": "stdout",
     "output_type": "stream",
     "text": [
      "signal 30 Pain in extremity found at 2021-03-08 00:00:00\n",
      "found month 2021-03-31 00:00:00 for symptom 31 Fatigue, checking day\n"
     ]
    },
    {
     "name": "stderr",
     "output_type": "stream",
     "text": [
      " 89%|████████▊ | 31/35 [44:52<07:22, 110.55s/it]"
     ]
    },
    {
     "name": "stdout",
     "output_type": "stream",
     "text": [
      "signal 31 Fatigue found at 2021-03-05 00:00:00\n"
     ]
    },
    {
     "name": "stderr",
     "output_type": "stream",
     "text": [
      " 91%|█████████▏| 32/35 [45:57<04:50, 96.96s/it] "
     ]
    },
    {
     "name": "stdout",
     "output_type": "stream",
     "text": [
      "Saved Injection site pain as first_found = None because it was not detected by the end of an month\n"
     ]
    },
    {
     "name": "stderr",
     "output_type": "stream",
     "text": [
      " 94%|█████████▍| 33/35 [46:56<02:51, 85.73s/it]"
     ]
    },
    {
     "name": "stdout",
     "output_type": "stream",
     "text": [
      "Saved Injection site swelling as first_found = None because it was not detected by the end of an month\n",
      "found month 2021-03-31 00:00:00 for symptom 34 Chills, checking day\n"
     ]
    },
    {
     "name": "stderr",
     "output_type": "stream",
     "text": [
      " 97%|█████████▋| 34/35 [48:52<01:34, 94.79s/it]"
     ]
    },
    {
     "name": "stdout",
     "output_type": "stream",
     "text": [
      "signal 34 Chills found at 2021-03-05 00:00:00\n",
      "found month 2021-03-31 00:00:00 for symptom 35 Pyrexia, checking day\n"
     ]
    },
    {
     "name": "stderr",
     "output_type": "stream",
     "text": [
      "100%|██████████| 35/35 [51:16<00:00, 87.91s/it] "
     ]
    },
    {
     "name": "stdout",
     "output_type": "stream",
     "text": [
      "signal 35 Pyrexia found at 2021-03-05 00:00:00\n"
     ]
    },
    {
     "name": "stderr",
     "output_type": "stream",
     "text": [
      "\n"
     ]
    }
   ],
   "execution_count": 22
  },
  {
   "metadata": {
    "ExecuteTime": {
     "end_time": "2024-06-12T01:51:14.532930Z",
     "start_time": "2024-06-12T01:51:14.527528Z"
    }
   },
   "cell_type": "code",
   "source": [
    "file_name_filtered = \"Arrays/First_found_filtered_Signals_Janssen_IC_CI.json\"\n",
    "with open(file_name_filtered, 'w') as f:\n",
    "    json.dump(signals_dict_Janssen, f)"
   ],
   "id": "a72593837d6abc6f",
   "outputs": [],
   "execution_count": 23
  },
  {
   "metadata": {
    "ExecuteTime": {
     "end_time": "2024-06-12T01:51:14.546161Z",
     "start_time": "2024-06-12T01:51:14.534629Z"
    }
   },
   "cell_type": "code",
   "source": "len(signals_dict_Janssen)",
   "id": "a500b1827c8eedb1",
   "outputs": [
    {
     "data": {
      "text/plain": [
       "35"
      ]
     },
     "execution_count": 24,
     "metadata": {},
     "output_type": "execute_result"
    }
   ],
   "execution_count": 24
  },
  {
   "metadata": {},
   "cell_type": "markdown",
   "source": "### NOVAVAX",
   "id": "1f3bfb2cfc2d6e05"
  },
  {
   "metadata": {
    "ExecuteTime": {
     "end_time": "2024-06-12T01:51:14.552422Z",
     "start_time": "2024-06-12T01:51:14.547546Z"
    }
   },
   "cell_type": "code",
   "source": [
    "file_name_filtered = \"Arrays/Signals_Novavax.json\"\n",
    "with open(file_name_filtered, 'r') as f:\n",
    "    Signals_Novavax = json.load(f)"
   ],
   "id": "c54a1e522330d7e6",
   "outputs": [],
   "execution_count": 25
  },
  {
   "metadata": {
    "ExecuteTime": {
     "end_time": "2024-06-12T01:51:14.558193Z",
     "start_time": "2024-06-12T01:51:14.554092Z"
    }
   },
   "cell_type": "code",
   "source": "filtered_signals_Novavax = [signal for signal in Signals_Novavax if signal[\"status\"] != \"Not found\"]",
   "id": "83f0223451760b4",
   "outputs": [],
   "execution_count": 26
  },
  {
   "metadata": {
    "ExecuteTime": {
     "end_time": "2024-06-12T01:51:14.566770Z",
     "start_time": "2024-06-12T01:51:14.560145Z"
    }
   },
   "cell_type": "code",
   "source": "len(filtered_signals_Novavax)",
   "id": "a4640e46ec36ae8b",
   "outputs": [
    {
     "data": {
      "text/plain": [
       "23"
      ]
     },
     "execution_count": 27,
     "metadata": {},
     "output_type": "execute_result"
    }
   ],
   "execution_count": 27
  },
  {
   "metadata": {
    "ExecuteTime": {
     "end_time": "2024-06-12T02:04:51.511790Z",
     "start_time": "2024-06-12T01:51:14.569218Z"
    }
   },
   "cell_type": "code",
   "source": [
    "from datetime import datetime\n",
    "\n",
    "# Loop until a signal is not found anymore\n",
    "signals_dict_Novavax = []\n",
    "i= 0\n",
    "for reaction in tqdm(filtered_signals_Novavax):\n",
    "    i+=1\n",
    "    symptom = reaction['symptom']\n",
    "    start_date = datetime(2023, 12, 31)\n",
    "    first_found = datetime(2000, 1, 1)\n",
    "    while True:\n",
    "        N_query = {\"RECVDATE\": {\"$lte\": start_date}}\n",
    "        N = col.count_documents(N_query)\n",
    "        \n",
    "        D_query = {\n",
    "            \"RECVDATE\": {\"$lte\": start_date},\n",
    "            \"vax_data\": {\n",
    "                \"$elemMatch\": {\n",
    "                    \"VAX_MANU\": reaction[\"manufacturer\"],\n",
    "                    \"VAX_TYPE\": reaction[\"vaccine\"]\n",
    "                }\n",
    "            }\n",
    "        }\n",
    "        D = col.count_documents(D_query)\n",
    "        \n",
    "        E_query = {\n",
    "            \"RECVDATE\": {\"$lte\": start_date},\n",
    "            \"symptoms\": {\n",
    "                \"$elemMatch\": {\n",
    "                    \"$in\": [reaction[\"symptom\"]]\n",
    "                }\n",
    "            }\n",
    "        }\n",
    "        E = col.count_documents(E_query)\n",
    "        \n",
    "        DE_query = {'$and': [D_query, E_query]}\n",
    "        DE = col.count_documents(DE_query)\n",
    "        if DE >= 3: \n",
    "        \n",
    "            De = D - DE\n",
    "            dE = E - DE\n",
    "            de = N - (DE + De + dE)\n",
    "            \n",
    "                \n",
    "            # Ensure all necessary data is available\n",
    "            if None in [DE, dE, De, de]:\n",
    "                continue\n",
    "            \n",
    "            contingency_table = [\n",
    "                [DE, dE],\n",
    "                [De, de]\n",
    "            ]\n",
    "            #print(contingency_table)\n",
    "            # Compute statistical measures\n",
    "            rrr, sd_rrr = disproportionaly_analysis.relative_reporting_ratio(contingency_table), disproportionaly_analysis.sd_rrr(contingency_table)\n",
    "            rrr_ci_lower, rrr_ci_upper = disproportionaly_analysis.confidence_interval(rrr, sd_rrr)\n",
    "            \n",
    "            prr, sd_prr = disproportionaly_analysis.proportional_reporting_ratio(contingency_table), disproportionaly_analysis.sd_prr(contingency_table)\n",
    "            prr_ci_lower, prr_ci_upper = disproportionaly_analysis.confidence_interval(prr, sd_prr)\n",
    "            \n",
    "            ror, sd_ror = disproportionaly_analysis.reporting_odds_ratio(contingency_table), disproportionaly_analysis.sd_ror(contingency_table)\n",
    "            ror_ci_lower, ror_ci_upper = disproportionaly_analysis.confidence_interval(ror, sd_ror)\n",
    "            \n",
    "            chi_square = disproportionaly_analysis.chi_square_yates(contingency_table)\n",
    "            IC = disproportionaly_analysis.information_component(contingency_table)\n",
    "            IC_ci_lower, IC_ci_upper = disproportionaly_analysis.confidence_interval_information_component(contingency_table, IC)\n",
    "            \n",
    "            # Determine if the reaction meets criteria for a signal\n",
    "            method_1 = rrr > 2 and prr > 2 and ror > 2 and chi_square > 3.841\n",
    "            method_2 = IC_ci_lower > 0 and ror_ci_lower > 1 and prr_ci_lower > 1 and rrr_ci_lower > 1\n",
    "                \n",
    "            IC_CI = IC_ci_lower > 0\n",
    "                    \n",
    "            if IC_CI:\n",
    "                #print(f\"Signal found for {start_date}\")\n",
    "                first_found = start_date\n",
    "                start_date = reduce_date_range_by_month(start_date)\n",
    "                #print(f\"Reducing by a month..., checking {start_date}\")\n",
    "            else:\n",
    "                #print(\"Signal not found\")\n",
    "                start_date = reduce_date_range_by_month(start_date)\n",
    "                #print(f\"Reducing by a month..., checking {start_date}\")# Exit the loop if no signal is found anymore\n",
    "            if start_date < end_date:\n",
    "                break\n",
    "        else:\n",
    "            break\n",
    "            \n",
    "    if first_found == datetime(2000, 1, 1):\n",
    "        print(f\"Saved {symptom} as first_found = None because it was not detected by the end of an month\")\n",
    "        signals_dict_Novavax.append({\"manufacturer\": reaction[\"manufacturer\"], \"symptom\": reaction[\"symptom\"], \"first_found\": \"NaN\"})\n",
    "    else:\n",
    "            \n",
    "        print(f\"found month {first_found} for symptom {i} {symptom}, checking day\")\n",
    "        start_date = first_found\n",
    "        while True:\n",
    "            #print(f\"checking day {start_date}\")\n",
    "                    #print(f\"checking symptom {reaction['symptom']}\")\n",
    "            N_query = {\"RECVDATE\": {\"$lte\": start_date}}\n",
    "            N = col.count_documents(N_query)\n",
    "            \n",
    "            D_query = {\n",
    "                \"RECVDATE\": {\"$lte\": start_date},\n",
    "                \"vax_data\": {\n",
    "                    \"$elemMatch\": {\n",
    "                        \"VAX_MANU\": reaction[\"manufacturer\"],\n",
    "                        \"VAX_TYPE\": reaction[\"vaccine\"]\n",
    "                    }\n",
    "                }\n",
    "            }\n",
    "            D = col.count_documents(D_query)\n",
    "            \n",
    "            E_query = {\n",
    "                \"RECVDATE\": {\"$lte\": start_date},\n",
    "                \"symptoms\": {\n",
    "                    \"$elemMatch\": {\n",
    "                        \"$in\": [reaction[\"symptom\"]]\n",
    "                    }\n",
    "                }\n",
    "            }\n",
    "            E = col.count_documents(E_query)\n",
    "            \n",
    "            DE_query = {'$and': [D_query, E_query]}\n",
    "            DE = col.count_documents(DE_query)\n",
    "            if DE >= 3: \n",
    "            \n",
    "                De = D - DE\n",
    "                dE = E - DE\n",
    "                de = N - (DE + De + dE)\n",
    "                \n",
    "                    \n",
    "                # Ensure all necessary data is available\n",
    "                if None in [DE, dE, De, de]:\n",
    "                    continue\n",
    "                \n",
    "                contingency_table = [\n",
    "                    [DE, dE],\n",
    "                    [De, de]\n",
    "                ]\n",
    "                #print(contingency_table)\n",
    "                # Compute statistical measures\n",
    "                rrr, sd_rrr = disproportionaly_analysis.relative_reporting_ratio(contingency_table), disproportionaly_analysis.sd_rrr(contingency_table)\n",
    "                rrr_ci_lower, rrr_ci_upper = disproportionaly_analysis.confidence_interval(rrr, sd_rrr)\n",
    "                \n",
    "                prr, sd_prr = disproportionaly_analysis.proportional_reporting_ratio(contingency_table), disproportionaly_analysis.sd_prr(contingency_table)\n",
    "                prr_ci_lower, prr_ci_upper = disproportionaly_analysis.confidence_interval(prr, sd_prr)\n",
    "                \n",
    "                ror, sd_ror = disproportionaly_analysis.reporting_odds_ratio(contingency_table), disproportionaly_analysis.sd_ror(contingency_table)\n",
    "                ror_ci_lower, ror_ci_upper = disproportionaly_analysis.confidence_interval(ror, sd_ror)\n",
    "                \n",
    "                chi_square = disproportionaly_analysis.chi_square_yates(contingency_table)\n",
    "                IC = disproportionaly_analysis.information_component(contingency_table)\n",
    "                IC_ci_lower, IC_ci_upper = disproportionaly_analysis.confidence_interval_information_component(contingency_table, IC)\n",
    "                \n",
    "                # Determine if the reaction meets criteria for a signal\n",
    "                method_1 = rrr > 2 and prr > 2 and ror > 2 and chi_square > 3.841\n",
    "                method_2 = IC_ci_lower > 0 and ror_ci_lower > 1 and prr_ci_lower > 1 and rrr_ci_lower > 1\n",
    "                    \n",
    "                IC_CI = IC_ci_lower > 0 \n",
    "                    \n",
    "                if IC_CI:\n",
    "                    #print(f\"Signal found for {start_date}\")\n",
    "                    first_found = start_date\n",
    "                    if start_date.day == 1:  # Check if the day is the first day of the month\n",
    "                        signal_info = {\n",
    "                            \"manufacturer\": reaction[\"manufacturer\"],\n",
    "                            \"symptom\": reaction[\"symptom\"],\n",
    "                            \"first_found\": first_found.strftime(\"%Y-%m-%d\")  # Convert datetime to string\n",
    "                        }\n",
    "                        signals_dict_Novavax.append(signal_info)\n",
    "                        print(f\"signal {i} {symptom} found at {first_found}\")\n",
    "                        break  # If it is the first day, exit the loop        \n",
    "                    start_date = reduce_date_range_by_day(start_date)\n",
    "                    #print(f\"Reducing by a month..., checking {start_date}\")\n",
    "                else:\n",
    "                    #print(\"Signal not found\")\n",
    "                    if start_date.day == 1:  # Check if the day is the first day of the month\n",
    "                        signal_info = {\n",
    "                            \"manufacturer\": reaction[\"manufacturer\"],\n",
    "                            \"symptom\": reaction[\"symptom\"],\n",
    "                            \"first_found\": first_found.strftime(\"%Y-%m-%d\")  # Convert datetime to string\n",
    "                        }\n",
    "                        signals_dict_Novavax.append(signal_info)\n",
    "                        print(f\"signal {i} {symptom} found at {first_found}\")\n",
    "                        break  # If it is the first day, exit the loop\n",
    "                    start_date = reduce_date_range_by_day(start_date)\n",
    "                    #print(f\"Reducing by a month..., checking {start_date}\")# Exit the loop if no signal is found anymore\n",
    "    \n",
    "            else: \n",
    "                #print(f\"DE < 3 for {start_date}\")\n",
    "                signal_info = {\n",
    "                    \"manufacturer\": reaction[\"manufacturer\"],\n",
    "                    \"symptom\": reaction[\"symptom\"],\n",
    "                    \"first_found\": first_found.strftime(\"%Y-%m-%d\")  # Convert datetime to string\n",
    "                }\n",
    "                signals_dict_Novavax.append(signal_info)\n",
    "                print(f\"signal {i} {symptom} found at {first_found}\")\n",
    "                break\n",
    "    "
   ],
   "id": "5cae2822f4b841b5",
   "outputs": [
    {
     "name": "stderr",
     "output_type": "stream",
     "text": [
      "  0%|          | 0/23 [00:00<?, ?it/s]"
     ]
    },
    {
     "name": "stdout",
     "output_type": "stream",
     "text": [
      "found month 2022-10-31 00:00:00 for symptom 1 Headache, checking day\n"
     ]
    },
    {
     "name": "stderr",
     "output_type": "stream",
     "text": [
      "  4%|▍         | 1/23 [01:25<31:19, 85.43s/it]"
     ]
    },
    {
     "name": "stdout",
     "output_type": "stream",
     "text": [
      "signal 1 Headache found at 2022-10-13 00:00:00\n",
      "found month 2023-01-31 00:00:00 for symptom 2 Nausea, checking day\n"
     ]
    },
    {
     "name": "stderr",
     "output_type": "stream",
     "text": [
      "  9%|▊         | 2/23 [02:35<26:47, 76.53s/it]"
     ]
    },
    {
     "name": "stdout",
     "output_type": "stream",
     "text": [
      "signal 2 Nausea found at 2023-01-19 00:00:00\n"
     ]
    },
    {
     "name": "stderr",
     "output_type": "stream",
     "text": [
      " 13%|█▎        | 3/23 [02:57<17:09, 51.46s/it]"
     ]
    },
    {
     "name": "stdout",
     "output_type": "stream",
     "text": [
      "Saved Vomiting as first_found = None because it was not detected by the end of an month\n",
      "found month 2023-02-28 00:00:00 for symptom 4 Myalgia, checking day\n"
     ]
    },
    {
     "name": "stderr",
     "output_type": "stream",
     "text": [
      " 17%|█▋        | 4/23 [03:56<17:13, 54.39s/it]"
     ]
    },
    {
     "name": "stdout",
     "output_type": "stream",
     "text": [
      "signal 4 Myalgia found at 2023-02-04 00:00:00\n"
     ]
    },
    {
     "name": "stderr",
     "output_type": "stream",
     "text": [
      " 22%|██▏       | 5/23 [04:16<12:38, 42.12s/it]"
     ]
    },
    {
     "name": "stdout",
     "output_type": "stream",
     "text": [
      "Saved Arthralgia as first_found = None because it was not detected by the end of an month\n"
     ]
    },
    {
     "name": "stderr",
     "output_type": "stream",
     "text": [
      " 26%|██▌       | 6/23 [04:42<10:20, 36.48s/it]"
     ]
    },
    {
     "name": "stdout",
     "output_type": "stream",
     "text": [
      "Saved Injection site pain as first_found = None because it was not detected by the end of an month\n",
      "found month 2022-09-30 00:00:00 for symptom 7 Fatigue, checking day\n"
     ]
    },
    {
     "name": "stderr",
     "output_type": "stream",
     "text": [
      " 30%|███       | 7/23 [05:59<13:16, 49.80s/it]"
     ]
    },
    {
     "name": "stdout",
     "output_type": "stream",
     "text": [
      "signal 7 Fatigue found at 2022-09-06 00:00:00\n",
      "found month 2022-12-31 00:00:00 for symptom 8 Malaise, checking day\n"
     ]
    },
    {
     "name": "stderr",
     "output_type": "stream",
     "text": [
      " 35%|███▍      | 8/23 [06:58<13:10, 52.69s/it]"
     ]
    },
    {
     "name": "stdout",
     "output_type": "stream",
     "text": [
      "signal 8 Malaise found at 2022-12-02 00:00:00\n",
      "found month 2022-10-31 00:00:00 for symptom 9 Injection site swelling, checking day\n"
     ]
    },
    {
     "name": "stderr",
     "output_type": "stream",
     "text": [
      " 39%|███▉      | 9/23 [07:57<12:48, 54.90s/it]"
     ]
    },
    {
     "name": "stdout",
     "output_type": "stream",
     "text": [
      "signal 9 Injection site swelling found at 2022-10-04 00:00:00\n"
     ]
    },
    {
     "name": "stderr",
     "output_type": "stream",
     "text": [
      " 43%|████▎     | 10/23 [08:31<10:28, 48.33s/it]"
     ]
    },
    {
     "name": "stdout",
     "output_type": "stream",
     "text": [
      "Saved Pyrexia as first_found = None because it was not detected by the end of an month\n"
     ]
    },
    {
     "name": "stderr",
     "output_type": "stream",
     "text": [
      " 48%|████▊     | 11/23 [08:54<08:06, 40.51s/it]"
     ]
    },
    {
     "name": "stdout",
     "output_type": "stream",
     "text": [
      "Saved Pain in extremity as first_found = None because it was not detected by the end of an month\n",
      "found month 2023-04-30 00:00:00 for symptom 12 Injection site pruritus, checking day\n"
     ]
    },
    {
     "name": "stderr",
     "output_type": "stream",
     "text": [
      " 52%|█████▏    | 12/23 [09:42<07:52, 42.97s/it]"
     ]
    },
    {
     "name": "stdout",
     "output_type": "stream",
     "text": [
      "signal 12 Injection site pruritus found at 2023-04-14 00:00:00\n"
     ]
    },
    {
     "name": "stderr",
     "output_type": "stream",
     "text": [
      " 57%|█████▋    | 13/23 [10:07<06:13, 37.34s/it]"
     ]
    },
    {
     "name": "stdout",
     "output_type": "stream",
     "text": [
      "Saved Chills as first_found = None because it was not detected by the end of an month\n"
     ]
    },
    {
     "name": "stderr",
     "output_type": "stream",
     "text": [
      " 61%|██████    | 14/23 [10:18<04:25, 29.54s/it]"
     ]
    },
    {
     "name": "stdout",
     "output_type": "stream",
     "text": [
      "Saved Injection site warmth as first_found = None because it was not detected by the end of an month\n"
     ]
    },
    {
     "name": "stderr",
     "output_type": "stream",
     "text": [
      " 65%|██████▌   | 15/23 [10:34<03:23, 25.48s/it]"
     ]
    },
    {
     "name": "stdout",
     "output_type": "stream",
     "text": [
      "Saved Lymphadenopathy as first_found = None because it was not detected by the end of an month\n",
      "found month 2022-08-31 00:00:00 for symptom 16 Paraesthesia, checking day\n"
     ]
    },
    {
     "name": "stderr",
     "output_type": "stream",
     "text": [
      " 70%|██████▉   | 16/23 [11:26<03:53, 33.35s/it]"
     ]
    },
    {
     "name": "stdout",
     "output_type": "stream",
     "text": [
      "signal 16 Paraesthesia found at 2022-08-07 00:00:00\n",
      "found month 2022-08-31 00:00:00 for symptom 17 Hypoaesthesia, checking day\n"
     ]
    },
    {
     "name": "stderr",
     "output_type": "stream",
     "text": [
      " 74%|███████▍  | 17/23 [12:16<03:50, 38.46s/it]"
     ]
    },
    {
     "name": "stdout",
     "output_type": "stream",
     "text": [
      "signal 17 Hypoaesthesia found at 2022-08-07 00:00:00\n",
      "found month 2022-08-31 00:00:00 for symptom 18 Pericarditis, checking day\n"
     ]
    },
    {
     "name": "stderr",
     "output_type": "stream",
     "text": [
      " 78%|███████▊  | 18/23 [12:37<02:45, 33.10s/it]"
     ]
    },
    {
     "name": "stdout",
     "output_type": "stream",
     "text": [
      "signal 18 Pericarditis found at 2022-08-31 00:00:00\n"
     ]
    },
    {
     "name": "stderr",
     "output_type": "stream",
     "text": [
      " 83%|████████▎ | 19/23 [12:45<01:42, 25.70s/it]"
     ]
    },
    {
     "name": "stdout",
     "output_type": "stream",
     "text": [
      "Saved Hypertension as first_found = None because it was not detected by the end of an month\n"
     ]
    },
    {
     "name": "stderr",
     "output_type": "stream",
     "text": [
      " 87%|████████▋ | 20/23 [13:01<01:07, 22.63s/it]"
     ]
    },
    {
     "name": "stdout",
     "output_type": "stream",
     "text": [
      "Saved Rash as first_found = None because it was not detected by the end of an month\n"
     ]
    },
    {
     "name": "stderr",
     "output_type": "stream",
     "text": [
      " 91%|█████████▏| 21/23 [13:07<00:35, 17.69s/it]"
     ]
    },
    {
     "name": "stdout",
     "output_type": "stream",
     "text": [
      "Saved Erythema as first_found = None because it was not detected by the end of an month\n"
     ]
    },
    {
     "name": "stderr",
     "output_type": "stream",
     "text": [
      " 96%|█████████▌| 22/23 [13:25<00:17, 17.60s/it]"
     ]
    },
    {
     "name": "stdout",
     "output_type": "stream",
     "text": [
      "Saved Pruritus as first_found = None because it was not detected by the end of an month\n"
     ]
    },
    {
     "name": "stderr",
     "output_type": "stream",
     "text": [
      "100%|██████████| 23/23 [13:36<00:00, 35.52s/it]"
     ]
    },
    {
     "name": "stdout",
     "output_type": "stream",
     "text": [
      "Saved Urticaria as first_found = None because it was not detected by the end of an month\n"
     ]
    },
    {
     "name": "stderr",
     "output_type": "stream",
     "text": [
      "\n"
     ]
    }
   ],
   "execution_count": 28
  },
  {
   "metadata": {
    "ExecuteTime": {
     "end_time": "2024-06-12T02:04:51.516721Z",
     "start_time": "2024-06-12T02:04:51.513171Z"
    }
   },
   "cell_type": "code",
   "source": [
    "file_name_filtered = \"Arrays/First_found_filtered_Signals_Novavax_IC_CI.json\"\n",
    "with open(file_name_filtered, 'w') as f:\n",
    "    json.dump(signals_dict_Novavax, f)"
   ],
   "id": "bc37de361deb9602",
   "outputs": [],
   "execution_count": 29
  },
  {
   "metadata": {
    "ExecuteTime": {
     "end_time": "2024-06-12T02:04:51.528241Z",
     "start_time": "2024-06-12T02:04:51.517903Z"
    }
   },
   "cell_type": "code",
   "source": "signals_dict_Novavax",
   "id": "dcd508601ad94158",
   "outputs": [
    {
     "data": {
      "text/plain": [
       "[{'manufacturer': 'NOVAVAX',\n",
       "  'symptom': 'Headache',\n",
       "  'first_found': '2022-10-13'},\n",
       " {'manufacturer': 'NOVAVAX', 'symptom': 'Nausea', 'first_found': '2023-01-19'},\n",
       " {'manufacturer': 'NOVAVAX', 'symptom': 'Vomiting', 'first_found': 'NaN'},\n",
       " {'manufacturer': 'NOVAVAX',\n",
       "  'symptom': 'Myalgia',\n",
       "  'first_found': '2023-02-04'},\n",
       " {'manufacturer': 'NOVAVAX', 'symptom': 'Arthralgia', 'first_found': 'NaN'},\n",
       " {'manufacturer': 'NOVAVAX',\n",
       "  'symptom': 'Injection site pain',\n",
       "  'first_found': 'NaN'},\n",
       " {'manufacturer': 'NOVAVAX',\n",
       "  'symptom': 'Fatigue',\n",
       "  'first_found': '2022-09-06'},\n",
       " {'manufacturer': 'NOVAVAX',\n",
       "  'symptom': 'Malaise',\n",
       "  'first_found': '2022-12-02'},\n",
       " {'manufacturer': 'NOVAVAX',\n",
       "  'symptom': 'Injection site swelling',\n",
       "  'first_found': '2022-10-04'},\n",
       " {'manufacturer': 'NOVAVAX', 'symptom': 'Pyrexia', 'first_found': 'NaN'},\n",
       " {'manufacturer': 'NOVAVAX',\n",
       "  'symptom': 'Pain in extremity',\n",
       "  'first_found': 'NaN'},\n",
       " {'manufacturer': 'NOVAVAX',\n",
       "  'symptom': 'Injection site pruritus',\n",
       "  'first_found': '2023-04-14'},\n",
       " {'manufacturer': 'NOVAVAX', 'symptom': 'Chills', 'first_found': 'NaN'},\n",
       " {'manufacturer': 'NOVAVAX',\n",
       "  'symptom': 'Injection site warmth',\n",
       "  'first_found': 'NaN'},\n",
       " {'manufacturer': 'NOVAVAX',\n",
       "  'symptom': 'Lymphadenopathy',\n",
       "  'first_found': 'NaN'},\n",
       " {'manufacturer': 'NOVAVAX',\n",
       "  'symptom': 'Paraesthesia',\n",
       "  'first_found': '2022-08-07'},\n",
       " {'manufacturer': 'NOVAVAX',\n",
       "  'symptom': 'Hypoaesthesia',\n",
       "  'first_found': '2022-08-07'},\n",
       " {'manufacturer': 'NOVAVAX',\n",
       "  'symptom': 'Pericarditis',\n",
       "  'first_found': '2022-08-31'},\n",
       " {'manufacturer': 'NOVAVAX', 'symptom': 'Hypertension', 'first_found': 'NaN'},\n",
       " {'manufacturer': 'NOVAVAX', 'symptom': 'Rash', 'first_found': 'NaN'},\n",
       " {'manufacturer': 'NOVAVAX', 'symptom': 'Erythema', 'first_found': 'NaN'},\n",
       " {'manufacturer': 'NOVAVAX', 'symptom': 'Pruritus', 'first_found': 'NaN'},\n",
       " {'manufacturer': 'NOVAVAX', 'symptom': 'Urticaria', 'first_found': 'NaN'}]"
      ]
     },
     "execution_count": 30,
     "metadata": {},
     "output_type": "execute_result"
    }
   ],
   "execution_count": 30
  },
  {
   "metadata": {},
   "cell_type": "markdown",
   "source": "### combine all signals and save as a dict with the symptom as key",
   "id": "8899de83fa2fe292"
  },
  {
   "metadata": {
    "ExecuteTime": {
     "end_time": "2024-06-12T02:04:51.536719Z",
     "start_time": "2024-06-12T02:04:51.529546Z"
    }
   },
   "cell_type": "code",
   "source": [
    "signals_dict_combined = {}\n",
    "\n",
    "# Merge signals_dict_Novavax\n",
    "for entry in signals_dict_Novavax:\n",
    "    symptom = entry.pop('symptom')  # Remove symptom from the entry and store it\n",
    "    if symptom not in signals_dict_combined:\n",
    "        signals_dict_combined[symptom] = [entry]\n",
    "    else:\n",
    "        signals_dict_combined[symptom].append(entry)\n",
    "\n",
    "# Merge signals_dict_Janssen\n",
    "for entry in signals_dict_Janssen:\n",
    "    symptom = entry.pop('symptom')  # Remove symptom from the entry and store it\n",
    "    if symptom not in signals_dict_combined:\n",
    "        signals_dict_combined[symptom] = [entry]\n",
    "    else:\n",
    "        signals_dict_combined[symptom].append(entry)\n",
    "\n",
    "# Merge signals_dict_Moderna\n",
    "for entry in signals_dict_Moderna:\n",
    "    symptom = entry.pop('symptom')  # Remove symptom from the entry and store it\n",
    "    if symptom not in signals_dict_combined:\n",
    "        signals_dict_combined[symptom] = [entry]\n",
    "    else:\n",
    "        signals_dict_combined[symptom].append(entry)\n",
    "\n",
    "# Merge signals_dict_Pfizer\n",
    "for entry in signals_dict_Pfizer:\n",
    "    symptom = entry.pop('symptom')  # Remove symptom from the entry and store it\n",
    "    if symptom not in signals_dict_combined:\n",
    "        signals_dict_combined[symptom] = [entry]\n",
    "    else:\n",
    "        signals_dict_combined[symptom].append(entry)\n",
    "        \n",
    "print(signals_dict_combined)"
   ],
   "id": "49deb160808160f0",
   "outputs": [
    {
     "name": "stdout",
     "output_type": "stream",
     "text": [
      "{'Headache': [{'manufacturer': 'NOVAVAX', 'first_found': '2022-10-13'}, {'manufacturer': 'JANSSEN', 'first_found': '2021-03-04'}, {'manufacturer': 'MODERNA', 'first_found': '2020-12-22'}, {'manufacturer': 'PFIZER\\\\BIONTECH', 'first_found': '2020-12-15'}], 'Nausea': [{'manufacturer': 'NOVAVAX', 'first_found': '2023-01-19'}, {'manufacturer': 'JANSSEN', 'first_found': '2021-03-04'}, {'manufacturer': 'MODERNA', 'first_found': '2020-12-22'}, {'manufacturer': 'PFIZER\\\\BIONTECH', 'first_found': '2020-12-16'}], 'Vomiting': [{'manufacturer': 'NOVAVAX', 'first_found': 'NaN'}, {'manufacturer': 'JANSSEN', 'first_found': '2021-03-06'}, {'manufacturer': 'MODERNA', 'first_found': '2020-12-23'}, {'manufacturer': 'PFIZER\\\\BIONTECH', 'first_found': '2021-01-09'}], 'Myalgia': [{'manufacturer': 'NOVAVAX', 'first_found': '2023-02-04'}, {'manufacturer': 'JANSSEN', 'first_found': '2021-03-06'}, {'manufacturer': 'MODERNA', 'first_found': '2020-12-23'}, {'manufacturer': 'PFIZER\\\\BIONTECH', 'first_found': '2020-12-16'}], 'Arthralgia': [{'manufacturer': 'NOVAVAX', 'first_found': 'NaN'}, {'manufacturer': 'JANSSEN', 'first_found': '2021-03-05'}, {'manufacturer': 'MODERNA', 'first_found': '2020-12-24'}, {'manufacturer': 'PFIZER\\\\BIONTECH', 'first_found': '2020-12-17'}], 'Injection site pain': [{'manufacturer': 'NOVAVAX', 'first_found': 'NaN'}, {'manufacturer': 'JANSSEN', 'first_found': 'NaN'}, {'manufacturer': 'MODERNA', 'first_found': '2020-12-23'}, {'manufacturer': 'PFIZER\\\\BIONTECH', 'first_found': '2020-12-16'}], 'Fatigue': [{'manufacturer': 'NOVAVAX', 'first_found': '2022-09-06'}, {'manufacturer': 'JANSSEN', 'first_found': '2021-03-05'}, {'manufacturer': 'MODERNA', 'first_found': '2020-12-23'}, {'manufacturer': 'PFIZER\\\\BIONTECH', 'first_found': '2020-12-16'}], 'Malaise': [{'manufacturer': 'NOVAVAX', 'first_found': '2022-12-02'}, {'manufacturer': 'PFIZER\\\\BIONTECH', 'first_found': '2020-12-16'}], 'Injection site swelling': [{'manufacturer': 'NOVAVAX', 'first_found': '2022-10-04'}, {'manufacturer': 'JANSSEN', 'first_found': 'NaN'}, {'manufacturer': 'MODERNA', 'first_found': '2021-01-03'}, {'manufacturer': 'PFIZER\\\\BIONTECH', 'first_found': 'NaN'}], 'Pyrexia': [{'manufacturer': 'NOVAVAX', 'first_found': 'NaN'}, {'manufacturer': 'JANSSEN', 'first_found': '2021-03-05'}, {'manufacturer': 'MODERNA', 'first_found': '2020-12-25'}, {'manufacturer': 'PFIZER\\\\BIONTECH', 'first_found': '2021-01-08'}], 'Pain in extremity': [{'manufacturer': 'NOVAVAX', 'first_found': 'NaN'}, {'manufacturer': 'JANSSEN', 'first_found': '2021-03-08'}, {'manufacturer': 'PFIZER\\\\BIONTECH', 'first_found': '2020-12-17'}], 'Injection site pruritus': [{'manufacturer': 'NOVAVAX', 'first_found': '2023-04-14'}, {'manufacturer': 'MODERNA', 'first_found': '2020-12-30'}, {'manufacturer': 'PFIZER\\\\BIONTECH', 'first_found': 'NaN'}], 'Chills': [{'manufacturer': 'NOVAVAX', 'first_found': 'NaN'}, {'manufacturer': 'JANSSEN', 'first_found': '2021-03-05'}, {'manufacturer': 'MODERNA', 'first_found': '2020-12-22'}, {'manufacturer': 'PFIZER\\\\BIONTECH', 'first_found': '2020-12-16'}], 'Injection site warmth': [{'manufacturer': 'NOVAVAX', 'first_found': 'NaN'}], 'Lymphadenopathy': [{'manufacturer': 'NOVAVAX', 'first_found': 'NaN'}, {'manufacturer': 'JANSSEN', 'first_found': 'NaN'}, {'manufacturer': 'MODERNA', 'first_found': '2020-12-29'}, {'manufacturer': 'PFIZER\\\\BIONTECH', 'first_found': '2020-12-20'}], 'Paraesthesia': [{'manufacturer': 'NOVAVAX', 'first_found': '2022-08-07'}, {'manufacturer': 'JANSSEN', 'first_found': '2021-03-07'}, {'manufacturer': 'MODERNA', 'first_found': '2020-12-22'}, {'manufacturer': 'PFIZER\\\\BIONTECH', 'first_found': '2020-12-15'}], 'Hypoaesthesia': [{'manufacturer': 'NOVAVAX', 'first_found': '2022-08-07'}, {'manufacturer': 'JANSSEN', 'first_found': '2021-03-05'}, {'manufacturer': 'MODERNA', 'first_found': '2020-12-22'}, {'manufacturer': 'PFIZER\\\\BIONTECH', 'first_found': '2020-12-17'}], 'Pericarditis': [{'manufacturer': 'NOVAVAX', 'first_found': '2022-08-31'}, {'manufacturer': 'JANSSEN', 'first_found': 'NaN'}, {'manufacturer': 'MODERNA', 'first_found': '2021-06-01'}, {'manufacturer': 'PFIZER\\\\BIONTECH', 'first_found': '2021-02-23'}], 'Hypertension': [{'manufacturer': 'NOVAVAX', 'first_found': 'NaN'}], 'Rash': [{'manufacturer': 'NOVAVAX', 'first_found': 'NaN'}, {'manufacturer': 'JANSSEN', 'first_found': 'NaN'}, {'manufacturer': 'MODERNA', 'first_found': '2021-05-05'}, {'manufacturer': 'PFIZER\\\\BIONTECH', 'first_found': 'NaN'}], 'Erythema': [{'manufacturer': 'NOVAVAX', 'first_found': 'NaN'}], 'Pruritus': [{'manufacturer': 'NOVAVAX', 'first_found': 'NaN'}, {'manufacturer': 'PFIZER\\\\BIONTECH', 'first_found': '2020-12-17'}], 'Urticaria': [{'manufacturer': 'NOVAVAX', 'first_found': 'NaN'}, {'manufacturer': 'JANSSEN', 'first_found': 'NaN'}, {'manufacturer': 'MODERNA', 'first_found': '2021-01-05'}, {'manufacturer': 'PFIZER\\\\BIONTECH', 'first_found': '2020-12-22'}], 'Immune thrombocytopenia': [{'manufacturer': 'JANSSEN', 'first_found': '2021-04-21'}], 'Dizziness': [{'manufacturer': 'JANSSEN', 'first_found': '2021-03-05'}, {'manufacturer': 'MODERNA', 'first_found': '2020-12-22'}, {'manufacturer': 'PFIZER\\\\BIONTECH', 'first_found': '2020-12-15'}], 'Tremor': [{'manufacturer': 'JANSSEN', 'first_found': '2021-03-05'}], 'Hypersensitivity': [{'manufacturer': 'JANSSEN', 'first_found': 'NaN'}, {'manufacturer': 'MODERNA', 'first_found': 'NaN'}], 'Facial paralysis': [{'manufacturer': 'JANSSEN', 'first_found': '2021-04-14'}, {'manufacturer': 'MODERNA', 'first_found': '2020-12-28'}, {'manufacturer': 'PFIZER\\\\BIONTECH', 'first_found': '2020-12-18'}], 'Tinnitus': [{'manufacturer': 'JANSSEN', 'first_found': '2021-03-08'}], 'Guillain-Barre syndrome': [{'manufacturer': 'JANSSEN', 'first_found': '2021-08-04'}], 'Myelitis': [{'manufacturer': 'JANSSEN', 'first_found': 'NaN'}], 'Myocarditis': [{'manufacturer': 'JANSSEN', 'first_found': 'NaN'}, {'manufacturer': 'MODERNA', 'first_found': '2021-05-24'}, {'manufacturer': 'PFIZER\\\\BIONTECH', 'first_found': '2021-03-03'}], 'Capillary leak syndrome': [{'manufacturer': 'JANSSEN', 'first_found': '2021-07-30'}], 'Cutaneous vasculitis': [{'manufacturer': 'JANSSEN', 'first_found': '2021-06-02'}], 'Cough': [{'manufacturer': 'JANSSEN', 'first_found': '2021-04-26'}], 'Oropharyngeal pain': [{'manufacturer': 'JANSSEN', 'first_found': '2021-03-07'}], 'Sneezing': [{'manufacturer': 'JANSSEN', 'first_found': '2021-06-14'}], 'Diarrhoea': [{'manufacturer': 'JANSSEN', 'first_found': '2021-03-07'}, {'manufacturer': 'MODERNA', 'first_found': '2020-12-28'}, {'manufacturer': 'PFIZER\\\\BIONTECH', 'first_found': '2020-12-16'}], 'Hyperhidrosis': [{'manufacturer': 'JANSSEN', 'first_found': '2021-03-05'}, {'manufacturer': 'PFIZER\\\\BIONTECH', 'first_found': '2020-12-16'}], 'Muscular weakness': [{'manufacturer': 'JANSSEN', 'first_found': '2021-05-02'}], 'Back pain': [{'manufacturer': 'JANSSEN', 'first_found': '2021-03-06'}], 'Decreased appetite': [{'manufacturer': 'MODERNA', 'first_found': '2020-12-25'}, {'manufacturer': 'PFIZER\\\\BIONTECH', 'first_found': '2020-12-28'}], 'Irritability': [{'manufacturer': 'MODERNA', 'first_found': 'NaN'}], 'Crying': [{'manufacturer': 'MODERNA', 'first_found': 'NaN'}], 'Abdominal pain': [{'manufacturer': 'MODERNA', 'first_found': 'NaN'}], 'Erythema multiforme': [{'manufacturer': 'MODERNA', 'first_found': '2021-01-07'}, {'manufacturer': 'PFIZER\\\\BIONTECH', 'first_found': 'NaN'}], 'Mechanical urticaria': [{'manufacturer': 'MODERNA', 'first_found': '2021-01-13'}], 'Heavy menstrual bleeding': [{'manufacturer': 'MODERNA', 'first_found': '2021-01-27'}, {'manufacturer': 'PFIZER\\\\BIONTECH', 'first_found': '2021-01-16'}], 'Injection site erythema': [{'manufacturer': 'MODERNA', 'first_found': '2021-01-06'}], 'Injection site urticaria': [{'manufacturer': 'MODERNA', 'first_found': '2020-12-31'}], 'Injection site rash': [{'manufacturer': 'MODERNA', 'first_found': '2021-01-05'}], 'Extensive swelling of vaccinated limb': [{'manufacturer': 'MODERNA', 'first_found': '2022-03-01'}, {'manufacturer': 'PFIZER\\\\BIONTECH', 'first_found': 'NaN'}], 'Angioedema': [{'manufacturer': 'PFIZER\\\\BIONTECH', 'first_found': '2020-12-20'}], 'Insomnia': [{'manufacturer': 'PFIZER\\\\BIONTECH', 'first_found': '2021-02-08'}], 'Lethargy': [{'manufacturer': 'PFIZER\\\\BIONTECH', 'first_found': '2021-01-13'}], 'Night sweats': [{'manufacturer': 'PFIZER\\\\BIONTECH', 'first_found': '2020-12-21'}], 'Asthenia': [{'manufacturer': 'PFIZER\\\\BIONTECH', 'first_found': '2020-12-16'}]}\n"
     ]
    }
   ],
   "execution_count": 31
  },
  {
   "metadata": {
    "ExecuteTime": {
     "end_time": "2024-06-12T02:04:51.547825Z",
     "start_time": "2024-06-12T02:04:51.538009Z"
    }
   },
   "cell_type": "code",
   "source": [
    "file_name_filtered = \"Arrays/All_signals_filtered_first_found_IC_CI.json\"\n",
    "with open(file_name_filtered, 'w') as f:\n",
    "    json.dump(signals_dict_combined, f)"
   ],
   "id": "f0c19e650230de20",
   "outputs": [],
   "execution_count": 32
  },
  {
   "metadata": {},
   "cell_type": "code",
   "outputs": [],
   "execution_count": null,
   "source": "",
   "id": "4125ef7422f9ce0a"
  }
 ],
 "metadata": {
  "kernelspec": {
   "display_name": "Python 3",
   "language": "python",
   "name": "python3"
  },
  "language_info": {
   "codemirror_mode": {
    "name": "ipython",
    "version": 2
   },
   "file_extension": ".py",
   "mimetype": "text/x-python",
   "name": "python",
   "nbconvert_exporter": "python",
   "pygments_lexer": "ipython2",
   "version": "2.7.6"
  }
 },
 "nbformat": 4,
 "nbformat_minor": 5
}

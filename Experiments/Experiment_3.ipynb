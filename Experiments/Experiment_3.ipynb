{
 "cells": [
  {
   "cell_type": "code",
   "id": "initial_id",
   "metadata": {
    "collapsed": true,
    "ExecuteTime": {
     "end_time": "2024-04-23T09:46:17.334007Z",
     "start_time": "2024-04-23T09:46:17.199875Z"
    }
   },
   "source": [
    "from pymongo import MongoClient\n",
    "import sys\n",
    "sys.path.append('../statistical_calculations')  # Adds the statistical_calculations directory to the path\n",
    "import disproportionaly_analysis\n",
    "from tqdm import tqdm\n",
    "\n",
    "# Connect to your MongoDB instance\n",
    "client = MongoClient('mongodb://localhost:27017/')\n",
    "db = client['vaers']  \n",
    "collection = db['combinations']"
   ],
   "outputs": [],
   "execution_count": 1
  },
  {
   "metadata": {},
   "cell_type": "markdown",
   "source": "## mRNA",
   "id": "ae5075b966e1258a"
  },
  {
   "metadata": {
    "ExecuteTime": {
     "end_time": "2024-04-23T11:44:48.999225Z",
     "start_time": "2024-04-23T11:44:48.484062Z"
    }
   },
   "cell_type": "code",
   "source": [
    "query = {\n",
    "  \"vaccine\": { \"$regex\": \"COVID19\", \"$options\": \"i\" },\n",
    "  \"$or\": [\n",
    "    { \"manufacturer\": \"MODERNA\" },\n",
    "    { \"manufacturer\": \"PFIZER\\\\BIONTECH\" }\n",
    "  ]\n",
    "}\n",
    "\n",
    "results = collection.find(query)\n",
    "detected_signals_mRNA = []\n",
    "\n",
    "for result in tqdm(results):\n",
    "  DE = result.get(\"DE\")\n",
    "  if DE >= 3:\n",
    "      dE = result.get(\"dE\")\n",
    "      De = result.get(\"De\")\n",
    "      de = result.get(\"de\")\n",
    "      contingency_table = [\n",
    "        [DE, dE],\n",
    "        [De, de]\n",
    "      ]\n",
    "      rrr  = disproportionaly_analysis.relative_reporting_ratio(contingency_table)\n",
    "      sd_rrr = disproportionaly_analysis.sd_rrr(contingency_table)\n",
    "      rrr_ci_lower, rrr_ci_upper = disproportionaly_analysis.confidence_interval(rrr, sd_rrr)\n",
    "      \n",
    "      prr = disproportionaly_analysis.proportional_reporting_ratio(contingency_table)\n",
    "      sd_prr = disproportionaly_analysis.sd_prr(contingency_table)\n",
    "      prr_ci_lower, prr_ci_upper = disproportionaly_analysis.confidence_interval(prr, sd_prr)\n",
    "      \n",
    "      ror = disproportionaly_analysis.reporting_odds_ratio(contingency_table)\n",
    "      sd_ror = disproportionaly_analysis.sd_ror(contingency_table)\n",
    "      ror_ci_lower, ror_ci_upper = disproportionaly_analysis.confidence_interval(ror, sd_ror)\n",
    "      \n",
    "      \n",
    "      chi_square = disproportionaly_analysis.chi_square_yates(contingency_table)\n",
    "      \n",
    "      IC = disproportionaly_analysis.information_component(contingency_table)\n",
    "      IC_ci_lower, IC_ci_upper = disproportionaly_analysis.confidence_interval_information_component(contingency_table, IC)\n",
    "      \n",
    "    \n",
    "      method_1 = rrr > 2 and prr > 2 and ror > 2 and chi_square > 4\n",
    "      method_2 = IC_ci_lower > 0 and ror_ci_lower > 1 and prr_ci_lower > 1 and ror_ci_lower > 1\n",
    "        \n",
    "      if method_1 or method_2:\n",
    "          result_dict = {\n",
    "              'vaccine': result.get(\"vaccine\"),\n",
    "              'manufacturer': result.get(\"manufacturer\"),\n",
    "              'symptom': result.get(\"symptom\"),\n",
    "              'rrr': [rrr, [rrr_ci_lower, rrr_ci_upper]],\n",
    "              'prr': [prr, [prr_ci_lower, prr_ci_upper]],\n",
    "              'ror': [ror, [ror_ci_lower, ror_ci_upper]],\n",
    "              'chi_square': chi_square,\n",
    "              'IC': [IC, [IC_ci_lower, IC_ci_upper]],\n",
    "              'method_1': method_1,\n",
    "              'method_2': method_2\n",
    "          }\n",
    "          detected_signals_mRNA.append(result_dict)\n",
    "  \n"
   ],
   "id": "373293200c3b9e4f",
   "outputs": [
    {
     "name": "stderr",
     "output_type": "stream",
     "text": [
      "20377it [00:00, 41078.27it/s]\n"
     ]
    }
   ],
   "execution_count": 31
  },
  {
   "metadata": {},
   "cell_type": "markdown",
   "source": "## Protein",
   "id": "c82121fda0e2f230"
  },
  {
   "metadata": {
    "ExecuteTime": {
     "end_time": "2024-04-23T09:47:01.361211Z",
     "start_time": "2024-04-23T09:47:01.228294Z"
    }
   },
   "cell_type": "code",
   "source": [
    "query = {\n",
    "  \"vaccine\": { \"$regex\": \"COVID19\", \"$options\": \"i\" },\n",
    "  \"manufacturer\": \"NOVAVAX\"\n",
    "}\n",
    "\n",
    "results = collection.find(query)\n",
    "detected_signals_protein = []\n",
    "\n",
    "for result in tqdm(results):\n",
    "  DE = result.get(\"DE\")\n",
    "  if DE >= 3: \n",
    "      dE = result.get(\"dE\")\n",
    "      De = result.get(\"De\")\n",
    "      de = result.get(\"de\")\n",
    "      contingency_table = [\n",
    "        [DE, dE],\n",
    "        [De, de]\n",
    "      ]\n",
    "      rrr  = disproportionaly_analysis.relative_reporting_ratio(contingency_table)\n",
    "      sd_rrr = disproportionaly_analysis.sd_rrr(contingency_table)\n",
    "      rrr_ci_lower, rrr_ci_upper = disproportionaly_analysis.confidence_interval(rrr, sd_rrr)\n",
    "      \n",
    "      prr = disproportionaly_analysis.proportional_reporting_ratio(contingency_table)\n",
    "      sd_prr = disproportionaly_analysis.sd_prr(contingency_table)\n",
    "      prr_ci_lower, prr_ci_upper = disproportionaly_analysis.confidence_interval(prr, sd_prr)\n",
    "      \n",
    "      ror = disproportionaly_analysis.reporting_odds_ratio(contingency_table)\n",
    "      sd_ror = disproportionaly_analysis.sd_ror(contingency_table)\n",
    "      ror_ci_lower, ror_ci_upper = disproportionaly_analysis.confidence_interval(ror, sd_ror)\n",
    "      \n",
    "      \n",
    "      chi_square = disproportionaly_analysis.chi_square_yates(contingency_table)\n",
    "      \n",
    "      IC = disproportionaly_analysis.information_component(contingency_table)\n",
    "      IC_ci_lower, IC_ci_upper = disproportionaly_analysis.confidence_interval_information_component(contingency_table, IC)\n",
    "      \n",
    "    \n",
    "      method_1 = rrr > 2 and prr > 2 and ror > 2 and chi_square > 3.841\n",
    "      method_2 = IC_ci_lower > 0 and ror_ci_lower > 1 and prr_ci_lower > 1 and ror_ci_lower > 1\n",
    "        \n",
    "      if method_1 or method_2:\n",
    "          result_dict = {\n",
    "              'vaccine': result.get(\"vaccine\"),\n",
    "              'manufacturer': result.get(\"manufacturer\"),\n",
    "              'symptom': result.get(\"symptom\"),\n",
    "              'rrr': [rrr, [rrr_ci_lower, rrr_ci_upper]],\n",
    "              'prr': [prr, [prr_ci_lower, prr_ci_upper]],\n",
    "              'ror': [ror, [ror_ci_lower, ror_ci_upper]],\n",
    "              'chi_square': chi_square,\n",
    "              'IC': [IC, [IC_ci_lower, IC_ci_upper]],\n",
    "              'method_1': method_1,\n",
    "              'method_2': method_2\n",
    "          }\n",
    "          detected_signals_protein.append(result_dict)\n",
    "  \n"
   ],
   "id": "dc1179bbcc48368e",
   "outputs": [
    {
     "name": "stderr",
     "output_type": "stream",
     "text": [
      "159it [00:00, 1416.50it/s]\n"
     ]
    }
   ],
   "execution_count": 4
  },
  {
   "metadata": {},
   "cell_type": "markdown",
   "source": "## Vector",
   "id": "7d4ba520753b02dd"
  },
  {
   "metadata": {
    "ExecuteTime": {
     "end_time": "2024-04-23T09:47:08.261648Z",
     "start_time": "2024-04-23T09:47:08.054207Z"
    }
   },
   "cell_type": "code",
   "source": [
    "query = {\n",
    "  \"vaccine\": { \"$regex\": \"COVID19\", \"$options\": \"i\" },\n",
    "  \"manufacturer\": \"JANSSEN\"\n",
    "}\n",
    "\n",
    "results = collection.find(query)\n",
    "detected_signals_vector = []\n",
    "\n",
    "for result in tqdm(results):\n",
    "  DE = result.get(\"DE\")\n",
    "  if DE >= 3: \n",
    "      dE = result.get(\"dE\")\n",
    "      De = result.get(\"De\")\n",
    "      de = result.get(\"de\")\n",
    "      contingency_table = [\n",
    "        [DE, dE],\n",
    "        [De, de]\n",
    "      ]\n",
    "      rrr  = disproportionaly_analysis.relative_reporting_ratio(contingency_table)\n",
    "      sd_rrr = disproportionaly_analysis.sd_rrr(contingency_table)\n",
    "      rrr_ci_lower, rrr_ci_upper = disproportionaly_analysis.confidence_interval(rrr, sd_rrr)\n",
    "      \n",
    "      prr = disproportionaly_analysis.proportional_reporting_ratio(contingency_table)\n",
    "      sd_prr = disproportionaly_analysis.sd_prr(contingency_table)\n",
    "      prr_ci_lower, prr_ci_upper = disproportionaly_analysis.confidence_interval(prr, sd_prr)\n",
    "      \n",
    "      ror = disproportionaly_analysis.reporting_odds_ratio(contingency_table)\n",
    "      sd_ror = disproportionaly_analysis.sd_ror(contingency_table)\n",
    "      ror_ci_lower, ror_ci_upper = disproportionaly_analysis.confidence_interval(ror, sd_ror)\n",
    "      \n",
    "      \n",
    "      chi_square = disproportionaly_analysis.chi_square_yates(contingency_table)\n",
    "      \n",
    "      IC = disproportionaly_analysis.information_component(contingency_table)\n",
    "      IC_ci_lower, IC_ci_upper = disproportionaly_analysis.confidence_interval_information_component(contingency_table, IC)\n",
    "      \n",
    "    \n",
    "      method_1 = rrr > 2 and prr > 2 and ror > 2 and chi_square > 3.841\n",
    "      method_2 = IC_ci_lower > 0 and ror_ci_lower > 1 and prr_ci_lower > 1 and ror_ci_lower > 1\n",
    "        \n",
    "      if method_1 or method_2:\n",
    "          result_dict = {\n",
    "              'vaccine': result.get(\"vaccine\"),\n",
    "              'manufacturer': result.get(\"manufacturer\"),\n",
    "              'symptom': result.get(\"symptom\"),\n",
    "              'rrr': [rrr, [rrr_ci_lower, rrr_ci_upper]],\n",
    "              'prr': [prr, [prr_ci_lower, prr_ci_upper]],\n",
    "              'ror': [ror, [ror_ci_lower, ror_ci_upper]],\n",
    "              'chi_square': chi_square,\n",
    "              'IC': [IC, [IC_ci_lower, IC_ci_upper]],\n",
    "              'method_1': method_1,\n",
    "              'method_2': method_2\n",
    "          }\n",
    "          detected_signals_vector.append(result_dict)\n",
    "  \n"
   ],
   "id": "be5816fc370f6337",
   "outputs": [
    {
     "name": "stderr",
     "output_type": "stream",
     "text": [
      "3674it [00:00, 19639.34it/s]\n"
     ]
    }
   ],
   "execution_count": 5
  },
  {
   "metadata": {},
   "cell_type": "markdown",
   "source": "## Unknown",
   "id": "3924f315e76d104b"
  },
  {
   "metadata": {
    "ExecuteTime": {
     "end_time": "2024-04-23T11:44:38.304134Z",
     "start_time": "2024-04-23T11:44:38.156953Z"
    }
   },
   "cell_type": "code",
   "source": [
    "query = {\n",
    "  \"vaccine\": { \"$regex\": \"COVID19\", \"$options\": \"i\" },\n",
    "  \"manufacturer\": \"UNKNOWN MANUFACTURER\"\n",
    "}\n",
    "\n",
    "results = collection.find(query)\n",
    "detected_signals_unknown = []\n",
    "\n",
    "for result in tqdm(results):\n",
    "  DE = result.get(\"DE\")\n",
    "  if DE >= 3: \n",
    "      dE = result.get(\"dE\")\n",
    "      De = result.get(\"De\")\n",
    "      de = result.get(\"de\")\n",
    "      contingency_table = [\n",
    "        [DE, dE],\n",
    "        [De, de]\n",
    "      ]\n",
    "      rrr  = disproportionaly_analysis.relative_reporting_ratio(contingency_table)\n",
    "      sd_rrr = disproportionaly_analysis.sd_rrr(contingency_table)\n",
    "      rrr_ci_lower, rrr_ci_upper = disproportionaly_analysis.confidence_interval(rrr, sd_rrr)\n",
    "      \n",
    "      prr = disproportionaly_analysis.proportional_reporting_ratio(contingency_table)\n",
    "      sd_prr = disproportionaly_analysis.sd_prr(contingency_table)\n",
    "      prr_ci_lower, prr_ci_upper = disproportionaly_analysis.confidence_interval(prr, sd_prr)\n",
    "      \n",
    "      ror = disproportionaly_analysis.reporting_odds_ratio(contingency_table)\n",
    "      sd_ror = disproportionaly_analysis.sd_ror(contingency_table)\n",
    "      ror_ci_lower, ror_ci_upper = disproportionaly_analysis.confidence_interval(ror, sd_ror)\n",
    "      \n",
    "      \n",
    "      chi_square = disproportionaly_analysis.chi_square_yates(contingency_table)\n",
    "      \n",
    "      IC = disproportionaly_analysis.information_component(contingency_table)\n",
    "      IC_ci_lower, IC_ci_upper = disproportionaly_analysis.confidence_interval_information_component(contingency_table, IC)\n",
    "      \n",
    "    \n",
    "      method_1 = rrr > 2 and prr > 2 and ror > 2 and chi_square > 4\n",
    "      method_2 = IC_ci_lower > 0 and ror_ci_lower > 1 and prr_ci_lower > 1 and ror_ci_lower > 1\n",
    "        \n",
    "      if method_1 or method_2:\n",
    "          result_dict = {\n",
    "              'vaccine': result.get(\"vaccine\"),\n",
    "              'manufacturer': result.get(\"manufacturer\"),\n",
    "              'symptom': result.get(\"symptom\"),\n",
    "              'rrr': [rrr, [rrr_ci_lower, rrr_ci_upper]],\n",
    "              'prr': [prr, [prr_ci_lower, prr_ci_upper]],\n",
    "              'ror': [ror, [ror_ci_lower, ror_ci_upper]],\n",
    "              'chi_square': chi_square,\n",
    "              'IC': [IC, [IC_ci_lower, IC_ci_upper]],\n",
    "              'method_1': method_1,\n",
    "              'method_2': method_2\n",
    "          }\n",
    "          detected_signals_unknown.append(result_dict)\n",
    "      \n"
   ],
   "id": "6663691bcd1374ac",
   "outputs": [
    {
     "name": "stderr",
     "output_type": "stream",
     "text": [
      "1344it [00:00, 10616.01it/s]\n"
     ]
    }
   ],
   "execution_count": 29
  },
  {
   "metadata": {
    "ExecuteTime": {
     "end_time": "2024-04-23T11:44:39.384620Z",
     "start_time": "2024-04-23T11:44:39.376240Z"
    }
   },
   "cell_type": "code",
   "source": "len(detected_signals_unknown)",
   "id": "225a211e9e6ba6b5",
   "outputs": [
    {
     "data": {
      "text/plain": [
       "250"
      ]
     },
     "execution_count": 30,
     "metadata": {},
     "output_type": "execute_result"
    }
   ],
   "execution_count": 30
  },
  {
   "metadata": {
    "ExecuteTime": {
     "end_time": "2024-04-23T11:12:36.647432Z",
     "start_time": "2024-04-23T11:12:36.637941Z"
    }
   },
   "cell_type": "code",
   "source": [
    "count_method_1_true = sum(entry['method_1'] for entry in detected_signals_unknown)\n",
    "count_method_2_true = sum(entry['method_2'] for entry in detected_signals_unknown)\n",
    "count_both_true = sum(entry['method_1'] and entry['method_2'] for entry in detected_signals_unknown)\n",
    "\n",
    "print(\"Number of entries where both method_1 and method_2 are true:\", count_both_true)\n",
    "print(\"Number of entries where method_1 is true:\", count_method_1_true)\n",
    "print(\"Number of entries where method_2 is true:\", count_method_2_true)"
   ],
   "id": "f0d2187b10c843b1",
   "outputs": [
    {
     "name": "stdout",
     "output_type": "stream",
     "text": [
      "Number of entries where both method_1 and method_2 are true: 173\n",
      "Number of entries where method_1 is true: 173\n",
      "Number of entries where method_2 is true: 250\n"
     ]
    }
   ],
   "execution_count": 23
  },
  {
   "metadata": {
    "ExecuteTime": {
     "end_time": "2024-04-23T11:44:58.068243Z",
     "start_time": "2024-04-23T11:44:58.059949Z"
    }
   },
   "cell_type": "code",
   "source": "len(detected_signals_mRNA)",
   "id": "6f7d9753f8abf06e",
   "outputs": [
    {
     "data": {
      "text/plain": [
       "5972"
      ]
     },
     "execution_count": 32,
     "metadata": {},
     "output_type": "execute_result"
    }
   ],
   "execution_count": 32
  },
  {
   "metadata": {
    "ExecuteTime": {
     "end_time": "2024-04-23T11:45:00.569261Z",
     "start_time": "2024-04-23T11:45:00.549270Z"
    }
   },
   "cell_type": "code",
   "source": [
    "count_method_1_true = sum(entry['method_1'] for entry in detected_signals_mRNA)\n",
    "count_method_2_true = sum(entry['method_2'] for entry in detected_signals_mRNA)\n",
    "count_both_true = sum(entry['method_1'] and entry['method_2'] for entry in detected_signals_mRNA)\n",
    "\n",
    "print(\"Number of entries where both method_1 and method_2 are true:\", count_both_true)\n",
    "print(\"Number of entries where method_1 is true:\", count_method_1_true)\n",
    "print(\"Number of entries where method_2 is true:\", count_method_2_true)"
   ],
   "id": "a5ae3894dd507f46",
   "outputs": [
    {
     "name": "stdout",
     "output_type": "stream",
     "text": [
      "Number of entries where both method_1 and method_2 are true: 2023\n",
      "Number of entries where method_1 is true: 2023\n",
      "Number of entries where method_2 is true: 5972\n"
     ]
    }
   ],
   "execution_count": 33
  },
  {
   "metadata": {
    "ExecuteTime": {
     "end_time": "2024-04-23T10:51:03.408694Z",
     "start_time": "2024-04-23T10:51:03.401204Z"
    }
   },
   "cell_type": "code",
   "source": "len(detected_signals_protein)",
   "id": "afae8a2ea805675a",
   "outputs": [
    {
     "data": {
      "text/plain": [
       "49"
      ]
     },
     "execution_count": 16,
     "metadata": {},
     "output_type": "execute_result"
    }
   ],
   "execution_count": 16
  },
  {
   "metadata": {
    "ExecuteTime": {
     "end_time": "2024-04-23T11:13:56.655229Z",
     "start_time": "2024-04-23T11:13:56.647314Z"
    }
   },
   "cell_type": "code",
   "source": [
    "count_method_1_true = sum(entry['method_1'] for entry in detected_signals_protein)\n",
    "count_method_2_true = sum(entry['method_2'] for entry in detected_signals_protein)\n",
    "count_both_true = sum(entry['method_1'] and entry['method_2'] for entry in detected_signals_protein)\n",
    "\n",
    "print(\"Number of entries where both method_1 and method_2 are true:\", count_both_true)\n",
    "print(\"Number of entries where method_1 is true:\", count_method_1_true)\n",
    "print(\"Number of entries where method_2 is true:\", count_method_2_true)"
   ],
   "id": "ab02715b51c7538a",
   "outputs": [
    {
     "name": "stdout",
     "output_type": "stream",
     "text": [
      "Number of entries where both method_1 and method_2 are true: 37\n",
      "Number of entries where method_1 is true: 37\n",
      "Number of entries where method_2 is true: 49\n"
     ]
    }
   ],
   "execution_count": 25
  },
  {
   "metadata": {
    "ExecuteTime": {
     "end_time": "2024-04-23T10:51:13.246050Z",
     "start_time": "2024-04-23T10:51:13.238547Z"
    }
   },
   "cell_type": "code",
   "source": "len(detected_signals_vector)",
   "id": "c0f3d79052864e0b",
   "outputs": [
    {
     "data": {
      "text/plain": [
       "985"
      ]
     },
     "execution_count": 17,
     "metadata": {},
     "output_type": "execute_result"
    }
   ],
   "execution_count": 17
  },
  {
   "metadata": {
    "ExecuteTime": {
     "end_time": "2024-04-23T11:14:28.863423Z",
     "start_time": "2024-04-23T11:14:28.852887Z"
    }
   },
   "cell_type": "code",
   "source": [
    "count_method_1_true = sum(entry['method_1'] for entry in detected_signals_vector)\n",
    "count_method_2_true = sum(entry['method_2'] for entry in detected_signals_vector)\n",
    "count_both_true = sum(entry['method_1'] and entry['method_2'] for entry in detected_signals_vector)\n",
    "\n",
    "print(\"Number of entries where both method_1 and method_2 are true:\", count_both_true)\n",
    "print(\"Number of entries where method_1 is true:\", count_method_1_true)\n",
    "print(\"Number of entries where method_2 is true:\", count_method_2_true)"
   ],
   "id": "eb8e1a4b075040e7",
   "outputs": [
    {
     "name": "stdout",
     "output_type": "stream",
     "text": [
      "Number of entries where both method_1 and method_2 are true: 468\n",
      "Number of entries where method_1 is true: 468\n",
      "Number of entries where method_2 is true: 985\n"
     ]
    }
   ],
   "execution_count": 26
  }
 ],
 "metadata": {
  "kernelspec": {
   "display_name": "Python 3",
   "language": "python",
   "name": "python3"
  },
  "language_info": {
   "codemirror_mode": {
    "name": "ipython",
    "version": 2
   },
   "file_extension": ".py",
   "mimetype": "text/x-python",
   "name": "python",
   "nbconvert_exporter": "python",
   "pygments_lexer": "ipython2",
   "version": "2.7.6"
  }
 },
 "nbformat": 4,
 "nbformat_minor": 5
}
